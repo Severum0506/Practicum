{
 "cells": [
  {
   "cell_type": "markdown",
   "metadata": {},
   "source": [
    "1. [Описание проекта](#start)\n",
    "2. [Описание тарифов](#tariffs)\n",
    "3. [Задачи](#tasks)\n",
    "4. [Описание данных](#input_data)\n",
    "5. [Работа](#work)\n",
    "\n",
    "    *[Подготовка данных](#prepare2)\n",
    "    \n",
    "    *[Вывод по подготовке данных](#itog_prep2)\n",
    "\n",
    "    *[Анализ данных](#analysis2)\n",
    "\n",
    "    *[Построение гистограмм](#hist)\n",
    "\n",
    "    *[Вывод по анализу](#itog_analys2)\n",
    "\n",
    "    *[Проверка гипотез](#hypotheses2)\n",
    "\n",
    "    *[1-я гипотеза](#hyppo1)\n",
    "\n",
    "    *[2-я гипотеза](#hyppo2)\n",
    "\n",
    "6. [Общий вывод](#conclusion)"
   ]
  },
  {
   "cell_type": "markdown",
   "metadata": {},
   "source": [
    "# **Описание проекта**\n",
    "<a id=\"start\"></a>"
   ]
  },
  {
   "cell_type": "markdown",
   "metadata": {},
   "source": [
    "Вы аналитик компании «Мегалайн» — федерального оператора сотовой связи. Клиентам предлагают два тарифных плана: «Смарт» и «Ультра». Чтобы скорректировать рекламный бюджет, коммерческий департамент хочет понять, какой тариф приносит больше денег.\n",
    "Вам предстоит сделать предварительный анализ тарифов на небольшой выборке клиентов. В вашем распоряжении данные 500 пользователей «Мегалайна»: кто они, откуда, каким тарифом пользуются, сколько звонков и сообщений каждый отправил за 2018 год. Нужно проанализировать поведение клиентов и сделать вывод — какой тариф лучше."
   ]
  },
  {
   "cell_type": "markdown",
   "metadata": {},
   "source": [
    "## **Описание тарифов**\n",
    "<a id=\"tariffs\"></a>"
   ]
  },
  {
   "cell_type": "markdown",
   "metadata": {},
   "source": [
    "**Тариф «Смарт»**\n",
    "\n",
    "Ежемесячная плата: 550 рублей\n",
    "Включено 500 минут разговора, 50 сообщений и 15 Гб интернет-трафика\n",
    "\n",
    "Стоимость услуг сверх тарифного пакета: \n",
    "1. минута разговора: 3 рубля («Мегалайн» всегда округляет вверх значения минут и мегабайтов. Если пользователь проговорил всего 1 секунду, в тарифе засчитывается целая минута); \n",
    "2. сообщение: 3 рубля; \n",
    "3. 1 Гб интернет-трафика: 200 рублей.\n",
    "\n",
    "**Тариф «Ультра»**\n",
    "\n",
    "Ежемесячная плата: 1950 рублей\n",
    "Включено 3000 минут разговора, 1000 сообщений и 30 Гб интернет-трафика\n",
    "\n",
    "Стоимость услуг сверх тарифного пакета: \n",
    "1. минута разговора: 1 рубль; \n",
    "2. сообщение: 1 рубль; \n",
    "3. 1 Гб интернет-трафика: 150 рублей."
   ]
  },
  {
   "cell_type": "markdown",
   "metadata": {},
   "source": [
    "**Примечание:**\n",
    "\n",
    "«Мегалайн» всегда округляет секунды до минут, а мегабайты — до гигабайт. Каждый звонок округляется отдельно: даже если он длился всего 1 секунду, будет засчитан как 1 минута.\n",
    "Для веб-трафика отдельные сессии не считаются. Вместо этого общая сумма за месяц округляется в бо́льшую сторону. Если абонент использует 1025 мегабайт в этом месяце, с него возьмут плату за 2 гигабайта."
   ]
  },
  {
   "cell_type": "markdown",
   "metadata": {},
   "source": [
    "## **Задачи:**\n",
    "<a id=\"tasks\"></a>"
   ]
  },
  {
   "cell_type": "markdown",
   "metadata": {},
   "source": [
    "### **Подготовка данных:**\n",
    "1. Приведите данные к нужным типам;\n",
    "2. Найдите и исправьте ошибки в данных, если они есть\n",
    "3. Посчитайте для каждого пользователя:\n",
    "- количество сделанных звонков и израсходованных минут разговора по месяцам;\n",
    "- количество отправленных сообщений по месяцам;\n",
    "- объем израсходованного интернет-трафика по месяцам;\n",
    "- помесячную выручку с каждого пользователя (вычтите бесплатный лимит из суммарного количества звонков, сообщений и интернет-трафика; остаток умножьте на значение из тарифного плана; прибавьте абонентскую плату, соответствующую тарифному плану).\n",
    "\n",
    "В данных есть звонки с нулевой продолжительностью. Это не ошибка: нулями обозначены пропущенные звонки, поэтому их не нужно удалять.\n",
    "\n",
    "### **Анализ данных**\n",
    "\n",
    "Опишите поведение клиентов оператора, исходя из выборки. Сколько минут разговора, сколько сообщений и какой объём интернет-трафика требуется пользователям каждого тарифа в месяц? Посчитайте среднее количество, дисперсию и стандартное отклонение. Постройте гистограммы. Опишите распределения.\n",
    "\n",
    "### **Проверка гипотез** \n",
    "\n",
    "- средняя выручка пользователей тарифов «Ультра» и «Смарт» различаются;\n",
    "- средняя выручка пользователи из Москвы отличается от выручки пользователей из других регионов.\n",
    "\n",
    "Пороговое значение alpha задайте самостоятельно.\n",
    "\n",
    "Поясните: \n",
    "как вы формулировали нулевую и альтернативную гипотезы;\n",
    "какой критерий использовали для проверки гипотез и почему."
   ]
  },
  {
   "cell_type": "markdown",
   "metadata": {},
   "source": [
    "## **Описание данных**\n",
    "<a id=\"input_data\"></a>"
   ]
  },
  {
   "cell_type": "markdown",
   "metadata": {},
   "source": [
    "**Таблица users (информация о пользователях):**\n",
    "- user_id — уникальный идентификатор пользователя\n",
    "- first_name — имя пользователя\n",
    "- last_name — фамилия пользователя\n",
    "- age — возраст пользователя (годы)\n",
    "- reg_date — дата подключения тарифа (день, месяц, год)\n",
    "- churn_date — дата прекращения пользования тарифом (если значение пропущено, то тариф ещё действовал на момент выгрузки данных)\n",
    "- city — город проживания пользователя\n",
    "- tarif — название тарифного плана\n",
    "\n",
    "**Таблица calls (информация о звонках):**\n",
    "- id — уникальный номер звонка\n",
    "- call_date — дата звонка\n",
    "- duration — длительность звонка в минутах\n",
    "- user_id — идентификатор пользователя, сделавшего звонок\n",
    "\n",
    "**Таблица messages (информация о сообщениях):**\n",
    "- id — уникальный номер сообщения\n",
    "- message_date — дата сообщения\n",
    "- user_id — идентификатор пользователя, отправившего сообщение\n",
    "\n",
    "**Таблица internet (информация об интернет-сессиях):**\n",
    "- id — уникальный номер сессии\n",
    "- mb_used — объём потраченного за сессию интернет-трафика (в мегабайтах)\n",
    "- session_date — дата интернет-сессии\n",
    "- user_id — идентификатор пользователя\n",
    "\n",
    "**Таблица tariffs (информация о тарифах):**\n",
    "- tariff_name — название тарифа\n",
    "- rub_monthly_fee — ежемесячная абонентская плата в рублях\n",
    "- minutes_included — количество минут разговора в месяц, включённых в абонентскую плату\n",
    "- messages_included — количество сообщений в месяц, включённых в абонентскую плату\n",
    "- mb_per_month_included — объём интернет-трафика, включённого в абонентскую плату (в мегабайтах)\n",
    "- rub_per_minute — стоимость минуты разговора сверх тарифного пакета (например, если в тарифе 100 минут разговора в месяц, то со 101 минуты будет взиматься плата)\n",
    "- rub_per_message — стоимость отправки сообщения сверх тарифного пакета\n",
    "- rub_per_gb — стоимость дополнительного гигабайта интернет-трафика сверх тарифного пакета (1 гигабайт = 1024 мегабайта)"
   ]
  },
  {
   "cell_type": "markdown",
   "metadata": {},
   "source": [
    "# **Работа**\n",
    "<a id=\"work\"></a>"
   ]
  },
  {
   "cell_type": "code",
   "execution_count": 1,
   "metadata": {},
   "outputs": [],
   "source": [
    "import pandas as pd\n",
    "import seaborn as sns\n",
    "import matplotlib.pyplot as plt\n",
    "import numpy as np \n",
    "from scipy import stats as st\n",
    "\n",
    "import warnings\n",
    "warnings.simplefilter('ignore')\n",
    "\n",
    "pd.set_option('display.max_columns', None)"
   ]
  },
  {
   "cell_type": "code",
   "execution_count": 2,
   "metadata": {},
   "outputs": [],
   "source": [
    "#from google.colab import drive\n",
    "#drive.mount('/content/gdrive')"
   ]
  },
  {
   "cell_type": "code",
   "execution_count": 3,
   "metadata": {},
   "outputs": [],
   "source": [
    "#calls = pd.read_csv('/content/gdrive/MyDrive/Colab Notebooks/project_4/calls.csv', sep='\\,')\n",
    "#internet = pd.read_csv('/content/gdrive/MyDrive/Colab Notebooks/project_4/internet.csv', sep='\\,')\n",
    "#messages = pd.read_csv('/content/gdrive/MyDrive/Colab Notebooks/project_4/messages.csv', sep='\\,')\n",
    "#tariffs = pd.read_csv('/content/gdrive/MyDrive/Colab Notebooks/project_4/tariffs.csv', sep='\\,')\n",
    "#users = pd.read_csv('/content/gdrive/MyDrive/Colab Notebooks/project_4/users.csv', sep='\\,')"
   ]
  },
  {
   "cell_type": "code",
   "execution_count": 4,
   "metadata": {},
   "outputs": [],
   "source": [
    "calls = pd.read_csv('/datasets/calls.csv', sep='\\,')\n",
    "internet = pd.read_csv('/datasets/internet.csv', sep='\\,', index_col = 0)\n",
    "messages = pd.read_csv('/datasets/messages.csv', sep='\\,')\n",
    "tariffs = pd.read_csv('/datasets/tariffs.csv', sep='\\,')\n",
    "users = pd.read_csv('/datasets/users.csv', sep='\\,')"
   ]
  },
  {
   "cell_type": "markdown",
   "metadata": {},
   "source": [
    "**2.1 Подготовка данных**\n",
    "<a id=\"prepare2\"></a>"
   ]
  },
  {
   "cell_type": "code",
   "execution_count": 5,
   "metadata": {},
   "outputs": [
    {
     "name": "stdout",
     "output_type": "stream",
     "text": [
      "<class 'pandas.core.frame.DataFrame'>\n",
      "RangeIndex: 202607 entries, 0 to 202606\n",
      "Data columns (total 4 columns):\n",
      " #   Column     Non-Null Count   Dtype  \n",
      "---  ------     --------------   -----  \n",
      " 0   id         202607 non-null  object \n",
      " 1   call_date  202607 non-null  object \n",
      " 2   duration   202607 non-null  float64\n",
      " 3   user_id    202607 non-null  int64  \n",
      "dtypes: float64(1), int64(1), object(2)\n",
      "memory usage: 6.2+ MB\n"
     ]
    }
   ],
   "source": [
    "calls.info()"
   ]
  },
  {
   "cell_type": "code",
   "execution_count": 6,
   "metadata": {},
   "outputs": [
    {
     "data": {
      "text/html": [
       "<div>\n",
       "<style scoped>\n",
       "    .dataframe tbody tr th:only-of-type {\n",
       "        vertical-align: middle;\n",
       "    }\n",
       "\n",
       "    .dataframe tbody tr th {\n",
       "        vertical-align: top;\n",
       "    }\n",
       "\n",
       "    .dataframe thead th {\n",
       "        text-align: right;\n",
       "    }\n",
       "</style>\n",
       "<table border=\"1\" class=\"dataframe\">\n",
       "  <thead>\n",
       "    <tr style=\"text-align: right;\">\n",
       "      <th></th>\n",
       "      <th>id</th>\n",
       "      <th>call_date</th>\n",
       "      <th>duration</th>\n",
       "      <th>user_id</th>\n",
       "    </tr>\n",
       "  </thead>\n",
       "  <tbody>\n",
       "    <tr>\n",
       "      <th>0</th>\n",
       "      <td>1000_0</td>\n",
       "      <td>2018-07-25</td>\n",
       "      <td>0.00</td>\n",
       "      <td>1000</td>\n",
       "    </tr>\n",
       "    <tr>\n",
       "      <th>1</th>\n",
       "      <td>1000_1</td>\n",
       "      <td>2018-08-17</td>\n",
       "      <td>0.00</td>\n",
       "      <td>1000</td>\n",
       "    </tr>\n",
       "    <tr>\n",
       "      <th>2</th>\n",
       "      <td>1000_2</td>\n",
       "      <td>2018-06-11</td>\n",
       "      <td>2.85</td>\n",
       "      <td>1000</td>\n",
       "    </tr>\n",
       "    <tr>\n",
       "      <th>3</th>\n",
       "      <td>1000_3</td>\n",
       "      <td>2018-09-21</td>\n",
       "      <td>13.80</td>\n",
       "      <td>1000</td>\n",
       "    </tr>\n",
       "    <tr>\n",
       "      <th>4</th>\n",
       "      <td>1000_4</td>\n",
       "      <td>2018-12-15</td>\n",
       "      <td>5.18</td>\n",
       "      <td>1000</td>\n",
       "    </tr>\n",
       "  </tbody>\n",
       "</table>\n",
       "</div>"
      ],
      "text/plain": [
       "       id   call_date  duration  user_id\n",
       "0  1000_0  2018-07-25      0.00     1000\n",
       "1  1000_1  2018-08-17      0.00     1000\n",
       "2  1000_2  2018-06-11      2.85     1000\n",
       "3  1000_3  2018-09-21     13.80     1000\n",
       "4  1000_4  2018-12-15      5.18     1000"
      ]
     },
     "execution_count": 6,
     "metadata": {},
     "output_type": "execute_result"
    }
   ],
   "source": [
    "calls.head()"
   ]
  },
  {
   "cell_type": "code",
   "execution_count": 7,
   "metadata": {},
   "outputs": [],
   "source": [
    "calls['call_date'] = pd.to_datetime(calls['call_date'], format='%Y-%m-%d')"
   ]
  },
  {
   "cell_type": "markdown",
   "metadata": {},
   "source": [
    "Округлим минуты до целых, так как оператор округляет секунды до минут."
   ]
  },
  {
   "cell_type": "code",
   "execution_count": 8,
   "metadata": {},
   "outputs": [],
   "source": [
    "calls['duration'] = calls['duration'].apply(np.ceil).astype('int') "
   ]
  },
  {
   "cell_type": "code",
   "execution_count": 9,
   "metadata": {},
   "outputs": [
    {
     "name": "stdout",
     "output_type": "stream",
     "text": [
      "<class 'pandas.core.frame.DataFrame'>\n",
      "Int64Index: 149396 entries, 0 to 149395\n",
      "Data columns (total 4 columns):\n",
      " #   Column        Non-Null Count   Dtype  \n",
      "---  ------        --------------   -----  \n",
      " 0   id            149396 non-null  object \n",
      " 1   mb_used       149396 non-null  float64\n",
      " 2   session_date  149396 non-null  object \n",
      " 3   user_id       149396 non-null  int64  \n",
      "dtypes: float64(1), int64(1), object(2)\n",
      "memory usage: 5.7+ MB\n"
     ]
    }
   ],
   "source": [
    "internet.info()"
   ]
  },
  {
   "cell_type": "code",
   "execution_count": 10,
   "metadata": {
    "scrolled": true
   },
   "outputs": [
    {
     "data": {
      "text/html": [
       "<div>\n",
       "<style scoped>\n",
       "    .dataframe tbody tr th:only-of-type {\n",
       "        vertical-align: middle;\n",
       "    }\n",
       "\n",
       "    .dataframe tbody tr th {\n",
       "        vertical-align: top;\n",
       "    }\n",
       "\n",
       "    .dataframe thead th {\n",
       "        text-align: right;\n",
       "    }\n",
       "</style>\n",
       "<table border=\"1\" class=\"dataframe\">\n",
       "  <thead>\n",
       "    <tr style=\"text-align: right;\">\n",
       "      <th></th>\n",
       "      <th>id</th>\n",
       "      <th>mb_used</th>\n",
       "      <th>session_date</th>\n",
       "      <th>user_id</th>\n",
       "    </tr>\n",
       "  </thead>\n",
       "  <tbody>\n",
       "    <tr>\n",
       "      <th>0</th>\n",
       "      <td>1000_0</td>\n",
       "      <td>112.95</td>\n",
       "      <td>2018-11-25</td>\n",
       "      <td>1000</td>\n",
       "    </tr>\n",
       "    <tr>\n",
       "      <th>1</th>\n",
       "      <td>1000_1</td>\n",
       "      <td>1052.81</td>\n",
       "      <td>2018-09-07</td>\n",
       "      <td>1000</td>\n",
       "    </tr>\n",
       "    <tr>\n",
       "      <th>2</th>\n",
       "      <td>1000_2</td>\n",
       "      <td>1197.26</td>\n",
       "      <td>2018-06-25</td>\n",
       "      <td>1000</td>\n",
       "    </tr>\n",
       "    <tr>\n",
       "      <th>3</th>\n",
       "      <td>1000_3</td>\n",
       "      <td>550.27</td>\n",
       "      <td>2018-08-22</td>\n",
       "      <td>1000</td>\n",
       "    </tr>\n",
       "    <tr>\n",
       "      <th>4</th>\n",
       "      <td>1000_4</td>\n",
       "      <td>302.56</td>\n",
       "      <td>2018-09-24</td>\n",
       "      <td>1000</td>\n",
       "    </tr>\n",
       "  </tbody>\n",
       "</table>\n",
       "</div>"
      ],
      "text/plain": [
       "       id  mb_used session_date  user_id\n",
       "0  1000_0   112.95   2018-11-25     1000\n",
       "1  1000_1  1052.81   2018-09-07     1000\n",
       "2  1000_2  1197.26   2018-06-25     1000\n",
       "3  1000_3   550.27   2018-08-22     1000\n",
       "4  1000_4   302.56   2018-09-24     1000"
      ]
     },
     "execution_count": 10,
     "metadata": {},
     "output_type": "execute_result"
    }
   ],
   "source": [
    "internet.head()"
   ]
  },
  {
   "cell_type": "markdown",
   "metadata": {},
   "source": [
    "Тут удалим лишний столбец с дублями индексов"
   ]
  },
  {
   "cell_type": "code",
   "execution_count": 11,
   "metadata": {},
   "outputs": [],
   "source": [
    "#internet.drop('Unnamed: 0', axis=1, inplace=True) #исправлено"
   ]
  },
  {
   "cell_type": "code",
   "execution_count": 12,
   "metadata": {},
   "outputs": [],
   "source": [
    "internet['session_date'] = pd.to_datetime(internet['session_date'], format='%Y-%m-%d')"
   ]
  },
  {
   "cell_type": "code",
   "execution_count": 13,
   "metadata": {},
   "outputs": [
    {
     "name": "stdout",
     "output_type": "stream",
     "text": [
      "<class 'pandas.core.frame.DataFrame'>\n",
      "RangeIndex: 123036 entries, 0 to 123035\n",
      "Data columns (total 3 columns):\n",
      " #   Column        Non-Null Count   Dtype \n",
      "---  ------        --------------   ----- \n",
      " 0   id            123036 non-null  object\n",
      " 1   message_date  123036 non-null  object\n",
      " 2   user_id       123036 non-null  int64 \n",
      "dtypes: int64(1), object(2)\n",
      "memory usage: 2.8+ MB\n"
     ]
    }
   ],
   "source": [
    "messages.info()"
   ]
  },
  {
   "cell_type": "code",
   "execution_count": 14,
   "metadata": {},
   "outputs": [
    {
     "data": {
      "text/html": [
       "<div>\n",
       "<style scoped>\n",
       "    .dataframe tbody tr th:only-of-type {\n",
       "        vertical-align: middle;\n",
       "    }\n",
       "\n",
       "    .dataframe tbody tr th {\n",
       "        vertical-align: top;\n",
       "    }\n",
       "\n",
       "    .dataframe thead th {\n",
       "        text-align: right;\n",
       "    }\n",
       "</style>\n",
       "<table border=\"1\" class=\"dataframe\">\n",
       "  <thead>\n",
       "    <tr style=\"text-align: right;\">\n",
       "      <th></th>\n",
       "      <th>id</th>\n",
       "      <th>message_date</th>\n",
       "      <th>user_id</th>\n",
       "    </tr>\n",
       "  </thead>\n",
       "  <tbody>\n",
       "    <tr>\n",
       "      <th>59560</th>\n",
       "      <td>1262_51</td>\n",
       "      <td>2018-05-02</td>\n",
       "      <td>1262</td>\n",
       "    </tr>\n",
       "    <tr>\n",
       "      <th>15084</th>\n",
       "      <td>1065_420</td>\n",
       "      <td>2018-03-31</td>\n",
       "      <td>1065</td>\n",
       "    </tr>\n",
       "    <tr>\n",
       "      <th>116897</th>\n",
       "      <td>1475_101</td>\n",
       "      <td>2018-06-23</td>\n",
       "      <td>1475</td>\n",
       "    </tr>\n",
       "    <tr>\n",
       "      <th>115883</th>\n",
       "      <td>1472_187</td>\n",
       "      <td>2018-02-01</td>\n",
       "      <td>1472</td>\n",
       "    </tr>\n",
       "    <tr>\n",
       "      <th>105664</th>\n",
       "      <td>1426_94</td>\n",
       "      <td>2018-10-22</td>\n",
       "      <td>1426</td>\n",
       "    </tr>\n",
       "  </tbody>\n",
       "</table>\n",
       "</div>"
      ],
      "text/plain": [
       "              id message_date  user_id\n",
       "59560    1262_51   2018-05-02     1262\n",
       "15084   1065_420   2018-03-31     1065\n",
       "116897  1475_101   2018-06-23     1475\n",
       "115883  1472_187   2018-02-01     1472\n",
       "105664   1426_94   2018-10-22     1426"
      ]
     },
     "execution_count": 14,
     "metadata": {},
     "output_type": "execute_result"
    }
   ],
   "source": [
    "messages.sample(5)"
   ]
  },
  {
   "cell_type": "code",
   "execution_count": 15,
   "metadata": {},
   "outputs": [],
   "source": [
    "messages['message_date'] = pd.to_datetime(messages['message_date'], format='%Y-%m-%d')"
   ]
  },
  {
   "cell_type": "code",
   "execution_count": 16,
   "metadata": {},
   "outputs": [
    {
     "name": "stdout",
     "output_type": "stream",
     "text": [
      "<class 'pandas.core.frame.DataFrame'>\n",
      "RangeIndex: 2 entries, 0 to 1\n",
      "Data columns (total 8 columns):\n",
      " #   Column                 Non-Null Count  Dtype \n",
      "---  ------                 --------------  ----- \n",
      " 0   messages_included      2 non-null      int64 \n",
      " 1   mb_per_month_included  2 non-null      int64 \n",
      " 2   minutes_included       2 non-null      int64 \n",
      " 3   rub_monthly_fee        2 non-null      int64 \n",
      " 4   rub_per_gb             2 non-null      int64 \n",
      " 5   rub_per_message        2 non-null      int64 \n",
      " 6   rub_per_minute         2 non-null      int64 \n",
      " 7   tariff_name            2 non-null      object\n",
      "dtypes: int64(7), object(1)\n",
      "memory usage: 256.0+ bytes\n"
     ]
    }
   ],
   "source": [
    "tariffs.info()"
   ]
  },
  {
   "cell_type": "code",
   "execution_count": 17,
   "metadata": {},
   "outputs": [
    {
     "data": {
      "text/html": [
       "<div>\n",
       "<style scoped>\n",
       "    .dataframe tbody tr th:only-of-type {\n",
       "        vertical-align: middle;\n",
       "    }\n",
       "\n",
       "    .dataframe tbody tr th {\n",
       "        vertical-align: top;\n",
       "    }\n",
       "\n",
       "    .dataframe thead th {\n",
       "        text-align: right;\n",
       "    }\n",
       "</style>\n",
       "<table border=\"1\" class=\"dataframe\">\n",
       "  <thead>\n",
       "    <tr style=\"text-align: right;\">\n",
       "      <th></th>\n",
       "      <th>messages_included</th>\n",
       "      <th>mb_per_month_included</th>\n",
       "      <th>minutes_included</th>\n",
       "      <th>rub_monthly_fee</th>\n",
       "      <th>rub_per_gb</th>\n",
       "      <th>rub_per_message</th>\n",
       "      <th>rub_per_minute</th>\n",
       "      <th>tariff_name</th>\n",
       "    </tr>\n",
       "  </thead>\n",
       "  <tbody>\n",
       "    <tr>\n",
       "      <th>0</th>\n",
       "      <td>50</td>\n",
       "      <td>15360</td>\n",
       "      <td>500</td>\n",
       "      <td>550</td>\n",
       "      <td>200</td>\n",
       "      <td>3</td>\n",
       "      <td>3</td>\n",
       "      <td>smart</td>\n",
       "    </tr>\n",
       "    <tr>\n",
       "      <th>1</th>\n",
       "      <td>1000</td>\n",
       "      <td>30720</td>\n",
       "      <td>3000</td>\n",
       "      <td>1950</td>\n",
       "      <td>150</td>\n",
       "      <td>1</td>\n",
       "      <td>1</td>\n",
       "      <td>ultra</td>\n",
       "    </tr>\n",
       "  </tbody>\n",
       "</table>\n",
       "</div>"
      ],
      "text/plain": [
       "   messages_included  mb_per_month_included  minutes_included  \\\n",
       "0                 50                  15360               500   \n",
       "1               1000                  30720              3000   \n",
       "\n",
       "   rub_monthly_fee  rub_per_gb  rub_per_message  rub_per_minute tariff_name  \n",
       "0              550         200                3               3       smart  \n",
       "1             1950         150                1               1       ultra  "
      ]
     },
     "metadata": {},
     "output_type": "display_data"
    }
   ],
   "source": [
    "display(tariffs)"
   ]
  },
  {
   "cell_type": "code",
   "execution_count": 18,
   "metadata": {},
   "outputs": [],
   "source": [
    "tariffs.rename(columns={'tariff_name': 'tariff'}, inplace=True)"
   ]
  },
  {
   "cell_type": "code",
   "execution_count": 19,
   "metadata": {},
   "outputs": [
    {
     "name": "stdout",
     "output_type": "stream",
     "text": [
      "<class 'pandas.core.frame.DataFrame'>\n",
      "RangeIndex: 500 entries, 0 to 499\n",
      "Data columns (total 8 columns):\n",
      " #   Column      Non-Null Count  Dtype \n",
      "---  ------      --------------  ----- \n",
      " 0   user_id     500 non-null    int64 \n",
      " 1   age         500 non-null    int64 \n",
      " 2   churn_date  38 non-null     object\n",
      " 3   city        500 non-null    object\n",
      " 4   first_name  500 non-null    object\n",
      " 5   last_name   500 non-null    object\n",
      " 6   reg_date    500 non-null    object\n",
      " 7   tariff      500 non-null    object\n",
      "dtypes: int64(2), object(6)\n",
      "memory usage: 31.4+ KB\n"
     ]
    }
   ],
   "source": [
    "users.info()"
   ]
  },
  {
   "cell_type": "code",
   "execution_count": 20,
   "metadata": {},
   "outputs": [],
   "source": [
    "users['reg_date'] = pd.to_datetime(users['reg_date'], format='%Y-%m-%d')\n",
    "users['churn_date'] = pd.to_datetime(users['churn_date'], format='%Y-%m-%d')"
   ]
  },
  {
   "cell_type": "code",
   "execution_count": 21,
   "metadata": {},
   "outputs": [
    {
     "data": {
      "text/html": [
       "<div>\n",
       "<style scoped>\n",
       "    .dataframe tbody tr th:only-of-type {\n",
       "        vertical-align: middle;\n",
       "    }\n",
       "\n",
       "    .dataframe tbody tr th {\n",
       "        vertical-align: top;\n",
       "    }\n",
       "\n",
       "    .dataframe thead th {\n",
       "        text-align: right;\n",
       "    }\n",
       "</style>\n",
       "<table border=\"1\" class=\"dataframe\">\n",
       "  <thead>\n",
       "    <tr style=\"text-align: right;\">\n",
       "      <th></th>\n",
       "      <th>user_id</th>\n",
       "      <th>age</th>\n",
       "      <th>churn_date</th>\n",
       "      <th>city</th>\n",
       "      <th>first_name</th>\n",
       "      <th>last_name</th>\n",
       "      <th>reg_date</th>\n",
       "      <th>tariff</th>\n",
       "    </tr>\n",
       "  </thead>\n",
       "  <tbody>\n",
       "    <tr>\n",
       "      <th>0</th>\n",
       "      <td>1000</td>\n",
       "      <td>52</td>\n",
       "      <td>NaT</td>\n",
       "      <td>Краснодар</td>\n",
       "      <td>Рафаил</td>\n",
       "      <td>Верещагин</td>\n",
       "      <td>2018-05-25</td>\n",
       "      <td>ultra</td>\n",
       "    </tr>\n",
       "    <tr>\n",
       "      <th>1</th>\n",
       "      <td>1001</td>\n",
       "      <td>41</td>\n",
       "      <td>NaT</td>\n",
       "      <td>Москва</td>\n",
       "      <td>Иван</td>\n",
       "      <td>Ежов</td>\n",
       "      <td>2018-11-01</td>\n",
       "      <td>smart</td>\n",
       "    </tr>\n",
       "    <tr>\n",
       "      <th>2</th>\n",
       "      <td>1002</td>\n",
       "      <td>59</td>\n",
       "      <td>NaT</td>\n",
       "      <td>Стерлитамак</td>\n",
       "      <td>Евгений</td>\n",
       "      <td>Абрамович</td>\n",
       "      <td>2018-06-17</td>\n",
       "      <td>smart</td>\n",
       "    </tr>\n",
       "    <tr>\n",
       "      <th>3</th>\n",
       "      <td>1003</td>\n",
       "      <td>23</td>\n",
       "      <td>NaT</td>\n",
       "      <td>Москва</td>\n",
       "      <td>Белла</td>\n",
       "      <td>Белякова</td>\n",
       "      <td>2018-08-17</td>\n",
       "      <td>ultra</td>\n",
       "    </tr>\n",
       "    <tr>\n",
       "      <th>4</th>\n",
       "      <td>1004</td>\n",
       "      <td>68</td>\n",
       "      <td>NaT</td>\n",
       "      <td>Новокузнецк</td>\n",
       "      <td>Татьяна</td>\n",
       "      <td>Авдеенко</td>\n",
       "      <td>2018-05-14</td>\n",
       "      <td>ultra</td>\n",
       "    </tr>\n",
       "  </tbody>\n",
       "</table>\n",
       "</div>"
      ],
      "text/plain": [
       "   user_id  age churn_date         city first_name  last_name   reg_date  \\\n",
       "0     1000   52        NaT    Краснодар     Рафаил  Верещагин 2018-05-25   \n",
       "1     1001   41        NaT       Москва       Иван       Ежов 2018-11-01   \n",
       "2     1002   59        NaT  Стерлитамак    Евгений  Абрамович 2018-06-17   \n",
       "3     1003   23        NaT       Москва      Белла   Белякова 2018-08-17   \n",
       "4     1004   68        NaT  Новокузнецк    Татьяна   Авдеенко 2018-05-14   \n",
       "\n",
       "  tariff  \n",
       "0  ultra  \n",
       "1  smart  \n",
       "2  smart  \n",
       "3  ultra  \n",
       "4  ultra  "
      ]
     },
     "execution_count": 21,
     "metadata": {},
     "output_type": "execute_result"
    }
   ],
   "source": [
    "users.head()"
   ]
  },
  {
   "cell_type": "code",
   "execution_count": 22,
   "metadata": {},
   "outputs": [],
   "source": [
    "#calls.describe()"
   ]
  },
  {
   "cell_type": "code",
   "execution_count": 23,
   "metadata": {},
   "outputs": [],
   "source": [
    "#calls['duration'].hist(bins=38, ec='black');"
   ]
  },
  {
   "cell_type": "code",
   "execution_count": 24,
   "metadata": {},
   "outputs": [],
   "source": [
    "#internet.describe()"
   ]
  },
  {
   "cell_type": "code",
   "execution_count": 25,
   "metadata": {},
   "outputs": [],
   "source": [
    "#internet['mb_used'].hist(bins=256, ec='black');"
   ]
  },
  {
   "cell_type": "markdown",
   "metadata": {},
   "source": [
    "**Вывод по подготовке:**\n",
    "\n",
    "Явных ошибок не нашел. Поменял где нужно тип данных, удалил столбец в internet. В целом данные распределены нормально. Есть много нулевых значений в calls и internet. Выбросы обоснованные (сброшенные звонки и неиспользованный, но оплаченный трафик), удалять нельзя.\n",
    "\n",
    "<a id=\"itog_prep2\"></a>"
   ]
  },
  {
   "cell_type": "markdown",
   "metadata": {},
   "source": [
    "**Посчитайте для каждого пользователя:**\n",
    "- количество сделанных звонков и израсходованных минут разговора по месяцам;\n",
    "- количество отправленных сообщений по месяцам;\n",
    "- объем израсходованного интернет-трафика по месяцам;\n",
    "- помесячную выручку с каждого пользователя (вычтите бесплатный лимит из суммарного количества звонков, сообщений и интернет-трафика; остаток умножьте на значение из тарифного плана; прибавьте абонентскую плату, соответствующую тарифному плану).\n",
    "\n",
    "\n",
    "В данных есть звонки с нулевой продолжительностью. Это не ошибка: нулями обозначены пропущенные звонки, поэтому их не нужно удалять."
   ]
  },
  {
   "cell_type": "code",
   "execution_count": 26,
   "metadata": {},
   "outputs": [],
   "source": [
    "calls['month'] = pd.DatetimeIndex(calls['call_date']).month\n",
    "internet['month'] = pd.DatetimeIndex(internet['session_date']).month\n",
    "messages['month'] = pd.DatetimeIndex(messages['message_date']).month"
   ]
  },
  {
   "cell_type": "code",
   "execution_count": 27,
   "metadata": {},
   "outputs": [],
   "source": [
    "calls_month_results = calls.pivot_table(index=['user_id', 'month'], values='duration', aggfunc=['count', 'sum']).reset_index()"
   ]
  },
  {
   "cell_type": "code",
   "execution_count": 28,
   "metadata": {},
   "outputs": [],
   "source": [
    "calls_month_results.columns = ['user_id', 'month', 'calls_count', 'calls_sum']"
   ]
  },
  {
   "cell_type": "code",
   "execution_count": 29,
   "metadata": {},
   "outputs": [],
   "source": [
    "internet_month_results = internet.pivot_table(index=['user_id', 'month'], values='mb_used', aggfunc='sum').reset_index()"
   ]
  },
  {
   "cell_type": "code",
   "execution_count": 30,
   "metadata": {},
   "outputs": [],
   "source": [
    "internet_month_results.columns = ['user_id', 'month', 'mb_sum']"
   ]
  },
  {
   "cell_type": "code",
   "execution_count": 31,
   "metadata": {},
   "outputs": [],
   "source": [
    "messages_month_results = messages.pivot_table(index=['user_id', 'month'], values='id', aggfunc='count').reset_index()"
   ]
  },
  {
   "cell_type": "code",
   "execution_count": 32,
   "metadata": {},
   "outputs": [],
   "source": [
    "messages_month_results.columns = ['user_id', 'month', 'messages_count']"
   ]
  },
  {
   "cell_type": "code",
   "execution_count": 33,
   "metadata": {},
   "outputs": [],
   "source": [
    "total_results = internet_month_results.merge(calls_month_results, on=['user_id', 'month'], how='outer')"
   ]
  },
  {
   "cell_type": "code",
   "execution_count": 34,
   "metadata": {},
   "outputs": [],
   "source": [
    "total_results = total_results.merge(messages_month_results, on=['user_id', 'month'], how='outer')"
   ]
  },
  {
   "cell_type": "code",
   "execution_count": 35,
   "metadata": {},
   "outputs": [],
   "source": [
    "total_results = total_results.merge(users, on='user_id', how='outer')"
   ]
  },
  {
   "cell_type": "code",
   "execution_count": 36,
   "metadata": {},
   "outputs": [],
   "source": [
    "total_results = total_results.merge(tariffs, on='tariff', how='left')"
   ]
  },
  {
   "cell_type": "markdown",
   "metadata": {},
   "source": [
    "Заменим все NAN на 0 и переведем в целочисленный формат."
   ]
  },
  {
   "cell_type": "code",
   "execution_count": 37,
   "metadata": {},
   "outputs": [],
   "source": [
    "total_results = total_results.fillna('0')"
   ]
  },
  {
   "cell_type": "code",
   "execution_count": 38,
   "metadata": {},
   "outputs": [],
   "source": [
    "total_results = total_results.astype({'month': 'int', 'calls_count': 'int', 'calls_sum': 'int', 'messages_count': 'int', 'mb_sum': 'float'})"
   ]
  },
  {
   "cell_type": "code",
   "execution_count": 39,
   "metadata": {
    "scrolled": true
   },
   "outputs": [],
   "source": [
    "#total_results"
   ]
  },
  {
   "cell_type": "code",
   "execution_count": 40,
   "metadata": {},
   "outputs": [],
   "source": [
    "#total_results.info()"
   ]
  },
  {
   "cell_type": "markdown",
   "metadata": {},
   "source": [
    "Подготовил таблицу для дальнейшей работы. Сейчас будем считать выручку для каждого абонента."
   ]
  },
  {
   "cell_type": "code",
   "execution_count": 41,
   "metadata": {},
   "outputs": [],
   "source": [
    "def monthly_revenue(row):\n",
    "    sms = (row['messages_count'] - row['messages_included']) * row['rub_per_message']\n",
    "    mins = (row['calls_sum'] - row['minutes_included']) * row['rub_per_minute']\n",
    "    mbs = np.ceil((row['mb_sum'] - row['mb_per_month_included']) / 1024) * row['rub_per_gb']\n",
    "    total = 0\n",
    "    for i in [sms, mins, mbs]:\n",
    "        if i > 0:\n",
    "            total += i\n",
    "    return total"
   ]
  },
  {
   "cell_type": "code",
   "execution_count": 42,
   "metadata": {},
   "outputs": [],
   "source": [
    "total_results['above_the_tariff'] = total_results.apply(lambda x: monthly_revenue(x), axis=1)"
   ]
  },
  {
   "cell_type": "code",
   "execution_count": 43,
   "metadata": {},
   "outputs": [],
   "source": [
    "total_results['total_paid'] = total_results['rub_monthly_fee'] + total_results['above_the_tariff']"
   ]
  },
  {
   "cell_type": "code",
   "execution_count": 44,
   "metadata": {},
   "outputs": [
    {
     "data": {
      "text/html": [
       "<div>\n",
       "<style scoped>\n",
       "    .dataframe tbody tr th:only-of-type {\n",
       "        vertical-align: middle;\n",
       "    }\n",
       "\n",
       "    .dataframe tbody tr th {\n",
       "        vertical-align: top;\n",
       "    }\n",
       "\n",
       "    .dataframe thead th {\n",
       "        text-align: right;\n",
       "    }\n",
       "</style>\n",
       "<table border=\"1\" class=\"dataframe\">\n",
       "  <thead>\n",
       "    <tr style=\"text-align: right;\">\n",
       "      <th></th>\n",
       "      <th>user_id</th>\n",
       "      <th>month</th>\n",
       "      <th>mb_sum</th>\n",
       "      <th>calls_count</th>\n",
       "      <th>calls_sum</th>\n",
       "      <th>messages_count</th>\n",
       "      <th>age</th>\n",
       "      <th>churn_date</th>\n",
       "      <th>city</th>\n",
       "      <th>first_name</th>\n",
       "      <th>last_name</th>\n",
       "      <th>reg_date</th>\n",
       "      <th>tariff</th>\n",
       "      <th>messages_included</th>\n",
       "      <th>mb_per_month_included</th>\n",
       "      <th>minutes_included</th>\n",
       "      <th>rub_monthly_fee</th>\n",
       "      <th>rub_per_gb</th>\n",
       "      <th>rub_per_message</th>\n",
       "      <th>rub_per_minute</th>\n",
       "      <th>above_the_tariff</th>\n",
       "      <th>total_paid</th>\n",
       "    </tr>\n",
       "  </thead>\n",
       "  <tbody>\n",
       "    <tr>\n",
       "      <th>2645</th>\n",
       "      <td>1414</td>\n",
       "      <td>5</td>\n",
       "      <td>21425.75</td>\n",
       "      <td>35</td>\n",
       "      <td>201</td>\n",
       "      <td>45</td>\n",
       "      <td>70</td>\n",
       "      <td>0</td>\n",
       "      <td>Владимир</td>\n",
       "      <td>Александра</td>\n",
       "      <td>Лобанова</td>\n",
       "      <td>2018-05-05</td>\n",
       "      <td>smart</td>\n",
       "      <td>50</td>\n",
       "      <td>15360</td>\n",
       "      <td>500</td>\n",
       "      <td>550</td>\n",
       "      <td>200</td>\n",
       "      <td>3</td>\n",
       "      <td>3</td>\n",
       "      <td>1200.0</td>\n",
       "      <td>1750.0</td>\n",
       "    </tr>\n",
       "    <tr>\n",
       "      <th>1231</th>\n",
       "      <td>1191</td>\n",
       "      <td>6</td>\n",
       "      <td>1160.40</td>\n",
       "      <td>2</td>\n",
       "      <td>18</td>\n",
       "      <td>2</td>\n",
       "      <td>64</td>\n",
       "      <td>2018-10-03 00:00:00</td>\n",
       "      <td>Набережные Челны</td>\n",
       "      <td>Александр</td>\n",
       "      <td>Акиндинов</td>\n",
       "      <td>2018-06-30</td>\n",
       "      <td>smart</td>\n",
       "      <td>50</td>\n",
       "      <td>15360</td>\n",
       "      <td>500</td>\n",
       "      <td>550</td>\n",
       "      <td>200</td>\n",
       "      <td>3</td>\n",
       "      <td>3</td>\n",
       "      <td>0.0</td>\n",
       "      <td>550.0</td>\n",
       "    </tr>\n",
       "    <tr>\n",
       "      <th>2770</th>\n",
       "      <td>1431</td>\n",
       "      <td>5</td>\n",
       "      <td>17856.10</td>\n",
       "      <td>25</td>\n",
       "      <td>163</td>\n",
       "      <td>98</td>\n",
       "      <td>70</td>\n",
       "      <td>0</td>\n",
       "      <td>Уфа</td>\n",
       "      <td>Елена</td>\n",
       "      <td>Тимофеева</td>\n",
       "      <td>2018-03-16</td>\n",
       "      <td>smart</td>\n",
       "      <td>50</td>\n",
       "      <td>15360</td>\n",
       "      <td>500</td>\n",
       "      <td>550</td>\n",
       "      <td>200</td>\n",
       "      <td>3</td>\n",
       "      <td>3</td>\n",
       "      <td>744.0</td>\n",
       "      <td>1294.0</td>\n",
       "    </tr>\n",
       "    <tr>\n",
       "      <th>251</th>\n",
       "      <td>1040</td>\n",
       "      <td>7</td>\n",
       "      <td>18908.59</td>\n",
       "      <td>50</td>\n",
       "      <td>357</td>\n",
       "      <td>0</td>\n",
       "      <td>23</td>\n",
       "      <td>0</td>\n",
       "      <td>Сочи</td>\n",
       "      <td>Юрий</td>\n",
       "      <td>Одинцов</td>\n",
       "      <td>2018-06-08</td>\n",
       "      <td>smart</td>\n",
       "      <td>50</td>\n",
       "      <td>15360</td>\n",
       "      <td>500</td>\n",
       "      <td>550</td>\n",
       "      <td>200</td>\n",
       "      <td>3</td>\n",
       "      <td>3</td>\n",
       "      <td>800.0</td>\n",
       "      <td>1350.0</td>\n",
       "    </tr>\n",
       "    <tr>\n",
       "      <th>596</th>\n",
       "      <td>1094</td>\n",
       "      <td>9</td>\n",
       "      <td>22130.71</td>\n",
       "      <td>105</td>\n",
       "      <td>717</td>\n",
       "      <td>18</td>\n",
       "      <td>37</td>\n",
       "      <td>0</td>\n",
       "      <td>Новосибирск</td>\n",
       "      <td>Даниэла</td>\n",
       "      <td>Пугачева</td>\n",
       "      <td>2018-05-28</td>\n",
       "      <td>ultra</td>\n",
       "      <td>1000</td>\n",
       "      <td>30720</td>\n",
       "      <td>3000</td>\n",
       "      <td>1950</td>\n",
       "      <td>150</td>\n",
       "      <td>1</td>\n",
       "      <td>1</td>\n",
       "      <td>0.0</td>\n",
       "      <td>1950.0</td>\n",
       "    </tr>\n",
       "  </tbody>\n",
       "</table>\n",
       "</div>"
      ],
      "text/plain": [
       "      user_id  month    mb_sum  calls_count  calls_sum  messages_count  age  \\\n",
       "2645     1414      5  21425.75           35        201              45   70   \n",
       "1231     1191      6   1160.40            2         18               2   64   \n",
       "2770     1431      5  17856.10           25        163              98   70   \n",
       "251      1040      7  18908.59           50        357               0   23   \n",
       "596      1094      9  22130.71          105        717              18   37   \n",
       "\n",
       "               churn_date              city  first_name  last_name   reg_date  \\\n",
       "2645                    0          Владимир  Александра   Лобанова 2018-05-05   \n",
       "1231  2018-10-03 00:00:00  Набережные Челны   Александр  Акиндинов 2018-06-30   \n",
       "2770                    0               Уфа       Елена  Тимофеева 2018-03-16   \n",
       "251                     0              Сочи        Юрий    Одинцов 2018-06-08   \n",
       "596                     0       Новосибирск     Даниэла   Пугачева 2018-05-28   \n",
       "\n",
       "     tariff  messages_included  mb_per_month_included  minutes_included  \\\n",
       "2645  smart                 50                  15360               500   \n",
       "1231  smart                 50                  15360               500   \n",
       "2770  smart                 50                  15360               500   \n",
       "251   smart                 50                  15360               500   \n",
       "596   ultra               1000                  30720              3000   \n",
       "\n",
       "      rub_monthly_fee  rub_per_gb  rub_per_message  rub_per_minute  \\\n",
       "2645              550         200                3               3   \n",
       "1231              550         200                3               3   \n",
       "2770              550         200                3               3   \n",
       "251               550         200                3               3   \n",
       "596              1950         150                1               1   \n",
       "\n",
       "      above_the_tariff  total_paid  \n",
       "2645            1200.0      1750.0  \n",
       "1231               0.0       550.0  \n",
       "2770             744.0      1294.0  \n",
       "251              800.0      1350.0  \n",
       "596                0.0      1950.0  "
      ]
     },
     "execution_count": 44,
     "metadata": {},
     "output_type": "execute_result"
    }
   ],
   "source": [
    "total_results.sort_values(by='total_paid').sample(5)"
   ]
  },
  {
   "cell_type": "markdown",
   "metadata": {},
   "source": [
    "**2.2  Анализ данных**\n",
    "\n",
    "Опишите поведение клиентов оператора, исходя из выборки. \n",
    "\n",
    "Сколько минут разговора, сколько сообщений и какой объём интернет-трафика требуется пользователям каждого тарифа в месяц?\n",
    "\n",
    "Посчитайте среднее количество, дисперсию и стандартное отклонение. \n",
    "\n",
    "Постройте гистограммы. Опишите распределения.\n",
    "\n",
    "<a id=\"analysis2\"></a>"
   ]
  },
  {
   "cell_type": "code",
   "execution_count": 45,
   "metadata": {},
   "outputs": [
    {
     "data": {
      "text/html": [
       "<div>\n",
       "<style scoped>\n",
       "    .dataframe tbody tr th:only-of-type {\n",
       "        vertical-align: middle;\n",
       "    }\n",
       "\n",
       "    .dataframe tbody tr th {\n",
       "        vertical-align: top;\n",
       "    }\n",
       "\n",
       "    .dataframe thead th {\n",
       "        text-align: right;\n",
       "    }\n",
       "</style>\n",
       "<table border=\"1\" class=\"dataframe\">\n",
       "  <thead>\n",
       "    <tr style=\"text-align: right;\">\n",
       "      <th></th>\n",
       "      <th>count</th>\n",
       "      <th>mean</th>\n",
       "      <th>std</th>\n",
       "      <th>min</th>\n",
       "      <th>25%</th>\n",
       "      <th>50%</th>\n",
       "      <th>75%</th>\n",
       "      <th>max</th>\n",
       "    </tr>\n",
       "  </thead>\n",
       "  <tbody>\n",
       "    <tr>\n",
       "      <th>calls_sum</th>\n",
       "      <td>3216.0</td>\n",
       "      <td>450.964241</td>\n",
       "      <td>242.096312</td>\n",
       "      <td>0.0</td>\n",
       "      <td>282.000</td>\n",
       "      <td>443.00</td>\n",
       "      <td>589.000</td>\n",
       "      <td>1673.00</td>\n",
       "    </tr>\n",
       "    <tr>\n",
       "      <th>messages_count</th>\n",
       "      <td>3216.0</td>\n",
       "      <td>38.257463</td>\n",
       "      <td>36.149684</td>\n",
       "      <td>0.0</td>\n",
       "      <td>9.000</td>\n",
       "      <td>30.00</td>\n",
       "      <td>57.000</td>\n",
       "      <td>224.00</td>\n",
       "    </tr>\n",
       "    <tr>\n",
       "      <th>mb_sum</th>\n",
       "      <td>3216.0</td>\n",
       "      <td>17196.911608</td>\n",
       "      <td>7580.754906</td>\n",
       "      <td>0.0</td>\n",
       "      <td>12478.765</td>\n",
       "      <td>16937.82</td>\n",
       "      <td>21422.375</td>\n",
       "      <td>49745.69</td>\n",
       "    </tr>\n",
       "    <tr>\n",
       "      <th>above_the_tariff</th>\n",
       "      <td>3216.0</td>\n",
       "      <td>549.673818</td>\n",
       "      <td>767.655172</td>\n",
       "      <td>0.0</td>\n",
       "      <td>0.000</td>\n",
       "      <td>159.00</td>\n",
       "      <td>938.000</td>\n",
       "      <td>6220.00</td>\n",
       "    </tr>\n",
       "    <tr>\n",
       "      <th>total_paid</th>\n",
       "      <td>3216.0</td>\n",
       "      <td>1528.902674</td>\n",
       "      <td>798.224060</td>\n",
       "      <td>550.0</td>\n",
       "      <td>750.000</td>\n",
       "      <td>1653.50</td>\n",
       "      <td>1950.000</td>\n",
       "      <td>6770.00</td>\n",
       "    </tr>\n",
       "  </tbody>\n",
       "</table>\n",
       "</div>"
      ],
      "text/plain": [
       "                   count          mean          std    min        25%  \\\n",
       "calls_sum         3216.0    450.964241   242.096312    0.0    282.000   \n",
       "messages_count    3216.0     38.257463    36.149684    0.0      9.000   \n",
       "mb_sum            3216.0  17196.911608  7580.754906    0.0  12478.765   \n",
       "above_the_tariff  3216.0    549.673818   767.655172    0.0      0.000   \n",
       "total_paid        3216.0   1528.902674   798.224060  550.0    750.000   \n",
       "\n",
       "                       50%        75%       max  \n",
       "calls_sum           443.00    589.000   1673.00  \n",
       "messages_count       30.00     57.000    224.00  \n",
       "mb_sum            16937.82  21422.375  49745.69  \n",
       "above_the_tariff    159.00    938.000   6220.00  \n",
       "total_paid         1653.50   1950.000   6770.00  "
      ]
     },
     "execution_count": 45,
     "metadata": {},
     "output_type": "execute_result"
    }
   ],
   "source": [
    "total_results[['calls_sum', 'messages_count', 'mb_sum', 'above_the_tariff', 'total_paid']].describe().T"
   ]
  },
  {
   "cell_type": "code",
   "execution_count": 46,
   "metadata": {},
   "outputs": [
    {
     "data": {
      "text/plain": [
       "calls_sum              58611.0\n",
       "messages_count          1307.0\n",
       "mb_sum              57467845.0\n",
       "above_the_tariff      589294.0\n",
       "total_paid            637162.0\n",
       "dtype: float64"
      ]
     },
     "execution_count": 46,
     "metadata": {},
     "output_type": "execute_result"
    }
   ],
   "source": [
    "total_results[['calls_sum', 'messages_count', 'mb_sum', 'above_the_tariff', 'total_paid']].var().round()"
   ]
  },
  {
   "cell_type": "code",
   "execution_count": 47,
   "metadata": {},
   "outputs": [],
   "source": [
    "#plt.hist(total_results['above_the_tariff'], bins = 100, alpha=0.5, label='Без учёта АП',)\n",
    "#plt.hist(total_results['total_paid'], bins = 100, alpha=0.5, label='С учётом АП',)\n",
    "#plt.legend(loc='upper right')\n",
    "#plt.title('Сравнение дохода с учётом абон.платы')\n",
    "#plt.show()\n",
    "#решил отказаться, не очень наглядный график, лучше сделать один график с учетом абон.платы"
   ]
  },
  {
   "cell_type": "code",
   "execution_count": 48,
   "metadata": {},
   "outputs": [
    {
     "data": {
      "image/png": "[encoded data removed]",
      "text/plain": [
       "<Figure size 1080x360 with 1 Axes>"
      ]
     },
     "metadata": {
      "needs_background": "light"
     },
     "output_type": "display_data"
    }
   ],
   "source": [
    "total_results['total_paid'].hist(bins=100, figsize=(15,5), ec='black',);\n",
    "plt.title('Общий доход с клиентов')\n",
    "plt.show()"
   ]
  },
  {
   "cell_type": "markdown",
   "metadata": {},
   "source": [
    "**Вывод по выборке:**\n",
    "\n",
    "Минимальный заработок Оператора с одного клиента - 550 руб./мес. (стоимость АП на тарифе Smart).\n",
    "\n",
    "В среднем Оператор с одного клиента зарабатывает - 1557 руб./мес.\n",
    "\n",
    "Максимальный заработок с одного клиента - 6699 руб./мес.\n",
    "\n",
    "Наблюдаются большие выбросы: 550 руб. и 1950 руб. Очевидно, что это АП (абон.плата). В-принципе, можно сделать вывод, что люди стараются не платить больше АП и редко выходят за лимиты.\n"
   ]
  },
  {
   "cell_type": "code",
   "execution_count": 49,
   "metadata": {},
   "outputs": [],
   "source": [
    "smart = total_results[total_results['tariff'] == 'smart']"
   ]
  },
  {
   "cell_type": "code",
   "execution_count": 50,
   "metadata": {},
   "outputs": [
    {
     "data": {
      "text/html": [
       "<div>\n",
       "<style scoped>\n",
       "    .dataframe tbody tr th:only-of-type {\n",
       "        vertical-align: middle;\n",
       "    }\n",
       "\n",
       "    .dataframe tbody tr th {\n",
       "        vertical-align: top;\n",
       "    }\n",
       "\n",
       "    .dataframe thead th {\n",
       "        text-align: right;\n",
       "    }\n",
       "</style>\n",
       "<table border=\"1\" class=\"dataframe\">\n",
       "  <thead>\n",
       "    <tr style=\"text-align: right;\">\n",
       "      <th></th>\n",
       "      <th>count</th>\n",
       "      <th>mean</th>\n",
       "      <th>std</th>\n",
       "      <th>min</th>\n",
       "      <th>25%</th>\n",
       "      <th>50%</th>\n",
       "      <th>75%</th>\n",
       "      <th>max</th>\n",
       "    </tr>\n",
       "  </thead>\n",
       "  <tbody>\n",
       "    <tr>\n",
       "      <th>calls_sum</th>\n",
       "      <td>2230.0</td>\n",
       "      <td>417.75</td>\n",
       "      <td>190.48</td>\n",
       "      <td>0.0</td>\n",
       "      <td>282.00</td>\n",
       "      <td>421.50</td>\n",
       "      <td>545.00</td>\n",
       "      <td>1435.00</td>\n",
       "    </tr>\n",
       "    <tr>\n",
       "      <th>messages_count</th>\n",
       "      <td>2230.0</td>\n",
       "      <td>33.37</td>\n",
       "      <td>28.23</td>\n",
       "      <td>0.0</td>\n",
       "      <td>10.00</td>\n",
       "      <td>28.00</td>\n",
       "      <td>51.00</td>\n",
       "      <td>143.00</td>\n",
       "    </tr>\n",
       "    <tr>\n",
       "      <th>mb_sum</th>\n",
       "      <td>2230.0</td>\n",
       "      <td>16201.12</td>\n",
       "      <td>5879.19</td>\n",
       "      <td>0.0</td>\n",
       "      <td>12630.04</td>\n",
       "      <td>16505.47</td>\n",
       "      <td>20042.11</td>\n",
       "      <td>38552.45</td>\n",
       "    </tr>\n",
       "    <tr>\n",
       "      <th>above_the_tariff</th>\n",
       "      <td>2230.0</td>\n",
       "      <td>739.64</td>\n",
       "      <td>818.37</td>\n",
       "      <td>0.0</td>\n",
       "      <td>0.00</td>\n",
       "      <td>471.00</td>\n",
       "      <td>1200.00</td>\n",
       "      <td>6220.00</td>\n",
       "    </tr>\n",
       "    <tr>\n",
       "      <th>total_paid</th>\n",
       "      <td>2230.0</td>\n",
       "      <td>1289.64</td>\n",
       "      <td>818.37</td>\n",
       "      <td>550.0</td>\n",
       "      <td>550.00</td>\n",
       "      <td>1021.00</td>\n",
       "      <td>1750.00</td>\n",
       "      <td>6770.00</td>\n",
       "    </tr>\n",
       "  </tbody>\n",
       "</table>\n",
       "</div>"
      ],
      "text/plain": [
       "                   count      mean      std    min       25%       50%  \\\n",
       "calls_sum         2230.0    417.75   190.48    0.0    282.00    421.50   \n",
       "messages_count    2230.0     33.37    28.23    0.0     10.00     28.00   \n",
       "mb_sum            2230.0  16201.12  5879.19    0.0  12630.04  16505.47   \n",
       "above_the_tariff  2230.0    739.64   818.37    0.0      0.00    471.00   \n",
       "total_paid        2230.0   1289.64   818.37  550.0    550.00   1021.00   \n",
       "\n",
       "                       75%       max  \n",
       "calls_sum           545.00   1435.00  \n",
       "messages_count       51.00    143.00  \n",
       "mb_sum            20042.11  38552.45  \n",
       "above_the_tariff   1200.00   6220.00  \n",
       "total_paid         1750.00   6770.00  "
      ]
     },
     "execution_count": 50,
     "metadata": {},
     "output_type": "execute_result"
    }
   ],
   "source": [
    "smart[['calls_sum', 'messages_count', 'mb_sum', 'above_the_tariff', 'total_paid']].describe().T.round(2)"
   ]
  },
  {
   "cell_type": "code",
   "execution_count": 51,
   "metadata": {},
   "outputs": [
    {
     "data": {
      "text/plain": [
       "calls_sum              36281.0\n",
       "messages_count           797.0\n",
       "mb_sum              34564843.0\n",
       "above_the_tariff      669731.0\n",
       "total_paid            669731.0\n",
       "dtype: float64"
      ]
     },
     "execution_count": 51,
     "metadata": {},
     "output_type": "execute_result"
    }
   ],
   "source": [
    "smart[['calls_sum', 'messages_count', 'mb_sum', 'above_the_tariff', 'total_paid']].var().round()"
   ]
  },
  {
   "cell_type": "markdown",
   "metadata": {},
   "source": [
    "**Вывод по подвыборке Smart:**\n",
    "\n",
    "Минимальный заработок - 550 руб./мес.\n",
    "\n",
    "Средний заработок с клиента - 956 руб./мес.\n",
    "\n",
    "Максимальный заработок - 6699 руб./мес. (единичное значение, выброс)\n",
    "\n"
   ]
  },
  {
   "cell_type": "code",
   "execution_count": 52,
   "metadata": {},
   "outputs": [],
   "source": [
    "ultra = total_results[total_results['tariff'] == 'ultra']"
   ]
  },
  {
   "cell_type": "code",
   "execution_count": 53,
   "metadata": {},
   "outputs": [
    {
     "data": {
      "text/html": [
       "<div>\n",
       "<style scoped>\n",
       "    .dataframe tbody tr th:only-of-type {\n",
       "        vertical-align: middle;\n",
       "    }\n",
       "\n",
       "    .dataframe tbody tr th {\n",
       "        vertical-align: top;\n",
       "    }\n",
       "\n",
       "    .dataframe thead th {\n",
       "        text-align: right;\n",
       "    }\n",
       "</style>\n",
       "<table border=\"1\" class=\"dataframe\">\n",
       "  <thead>\n",
       "    <tr style=\"text-align: right;\">\n",
       "      <th></th>\n",
       "      <th>count</th>\n",
       "      <th>mean</th>\n",
       "      <th>std</th>\n",
       "      <th>min</th>\n",
       "      <th>25%</th>\n",
       "      <th>50%</th>\n",
       "      <th>75%</th>\n",
       "      <th>max</th>\n",
       "    </tr>\n",
       "  </thead>\n",
       "  <tbody>\n",
       "    <tr>\n",
       "      <th>calls_sum</th>\n",
       "      <td>986.0</td>\n",
       "      <td>526.09</td>\n",
       "      <td>317.89</td>\n",
       "      <td>0.0</td>\n",
       "      <td>282.50</td>\n",
       "      <td>518.00</td>\n",
       "      <td>751.75</td>\n",
       "      <td>1673.00</td>\n",
       "    </tr>\n",
       "    <tr>\n",
       "      <th>messages_count</th>\n",
       "      <td>986.0</td>\n",
       "      <td>49.31</td>\n",
       "      <td>47.81</td>\n",
       "      <td>0.0</td>\n",
       "      <td>6.00</td>\n",
       "      <td>38.00</td>\n",
       "      <td>78.75</td>\n",
       "      <td>224.00</td>\n",
       "    </tr>\n",
       "    <tr>\n",
       "      <th>mb_sum</th>\n",
       "      <td>986.0</td>\n",
       "      <td>19449.06</td>\n",
       "      <td>10101.10</td>\n",
       "      <td>0.0</td>\n",
       "      <td>11748.59</td>\n",
       "      <td>19304.02</td>\n",
       "      <td>26835.88</td>\n",
       "      <td>49745.69</td>\n",
       "    </tr>\n",
       "    <tr>\n",
       "      <th>above_the_tariff</th>\n",
       "      <td>986.0</td>\n",
       "      <td>120.03</td>\n",
       "      <td>376.02</td>\n",
       "      <td>0.0</td>\n",
       "      <td>0.00</td>\n",
       "      <td>0.00</td>\n",
       "      <td>0.00</td>\n",
       "      <td>2850.00</td>\n",
       "    </tr>\n",
       "    <tr>\n",
       "      <th>total_paid</th>\n",
       "      <td>986.0</td>\n",
       "      <td>2070.03</td>\n",
       "      <td>376.02</td>\n",
       "      <td>1950.0</td>\n",
       "      <td>1950.00</td>\n",
       "      <td>1950.00</td>\n",
       "      <td>1950.00</td>\n",
       "      <td>4800.00</td>\n",
       "    </tr>\n",
       "  </tbody>\n",
       "</table>\n",
       "</div>"
      ],
      "text/plain": [
       "                  count      mean       std     min       25%       50%  \\\n",
       "calls_sum         986.0    526.09    317.89     0.0    282.50    518.00   \n",
       "messages_count    986.0     49.31     47.81     0.0      6.00     38.00   \n",
       "mb_sum            986.0  19449.06  10101.10     0.0  11748.59  19304.02   \n",
       "above_the_tariff  986.0    120.03    376.02     0.0      0.00      0.00   \n",
       "total_paid        986.0   2070.03    376.02  1950.0   1950.00   1950.00   \n",
       "\n",
       "                       75%       max  \n",
       "calls_sum           751.75   1673.00  \n",
       "messages_count       78.75    224.00  \n",
       "mb_sum            26835.88  49745.69  \n",
       "above_the_tariff      0.00   2850.00  \n",
       "total_paid         1950.00   4800.00  "
      ]
     },
     "execution_count": 53,
     "metadata": {},
     "output_type": "execute_result"
    }
   ],
   "source": [
    "ultra[['calls_sum', 'messages_count', 'mb_sum', 'above_the_tariff', 'total_paid']].describe().T.round(2)"
   ]
  },
  {
   "cell_type": "code",
   "execution_count": 54,
   "metadata": {},
   "outputs": [
    {
     "data": {
      "text/plain": [
       "calls_sum              101052.0\n",
       "messages_count           2285.0\n",
       "mb_sum              102032129.0\n",
       "above_the_tariff       141388.0\n",
       "total_paid             141388.0\n",
       "dtype: float64"
      ]
     },
     "execution_count": 54,
     "metadata": {},
     "output_type": "execute_result"
    }
   ],
   "source": [
    "ultra[['calls_sum', 'messages_count', 'mb_sum', 'above_the_tariff', 'total_paid']].var().round()"
   ]
  },
  {
   "cell_type": "markdown",
   "metadata": {},
   "source": [
    "**Вывод по подвыборке Ultra:**\n",
    "\n",
    "Минимальный заработок - 1950 руб./мес.\n",
    "\n",
    "Средний заработок с клиента - 2059 руб./мес.\n",
    "\n",
    "Максимальный заработок - 4736 руб./мес.\n",
    "\n"
   ]
  },
  {
   "cell_type": "markdown",
   "metadata": {},
   "source": [
    "**Построение гистограмм, сравнение и описание**"
   ]
  },
  {
   "cell_type": "code",
   "execution_count": 55,
   "metadata": {
    "scrolled": true
   },
   "outputs": [
    {
     "data": {
      "image/png": "[encoded data removed]",
      "text/plain": [
       "<Figure size 432x288 with 1 Axes>"
      ]
     },
     "metadata": {
      "needs_background": "light"
     },
     "output_type": "display_data"
    }
   ],
   "source": [
    "plt.hist(smart['calls_sum'], bins = 50, range=(1,1700), alpha=0.5, label='Smart',) #уберем из сравнения нулевые, т.е \"сброшенные\" звонки\n",
    "plt.hist(ultra['calls_sum'], bins = 50, range=(1,1700), alpha=0.5, label='Ultra',)\n",
    "plt.axvline(x=550, color='b', ls=':', label='Лимит по Smart') # в label даем название, которое отразится в легенде\n",
    "plt.axvline(x=3000, color='orange', ls=':', label='Лимит по Ultra')\n",
    "plt.legend(loc='upper right')\n",
    "plt.title('Сравнение суммарной продолжительности звонка')\n",
    "plt.show()"
   ]
  },
  {
   "cell_type": "markdown",
   "metadata": {},
   "source": [
    "**Вывод по звонкам:**\n",
    "\n",
    "Клиенты тарифа Смарт стараются общаться не больше лимита (500 мин), дальше идет спад.\n",
    "\n",
    "На Ультре клиенты и близко не подходят к лимиту, макс. значение 1673 минуты.\n",
    "\n",
    "Т.е. дополнительно Оператор на минутах зарабатывает только со Смарта.\n"
   ]
  },
  {
   "cell_type": "code",
   "execution_count": 56,
   "metadata": {},
   "outputs": [
    {
     "data": {
      "image/png": "[encoded data removed]",
      "text/plain": [
       "<Figure size 432x288 with 1 Axes>"
      ]
     },
     "metadata": {
      "needs_background": "light"
     },
     "output_type": "display_data"
    }
   ],
   "source": [
    "plt.hist(smart['messages_count'], bins = 23, range=(1,230), alpha=0.5, label='Smart',) #уберем из сравнения нулевые смс\n",
    "plt.hist(ultra['messages_count'], bins = 23, range=(1,230), alpha=0.5, label='Ultra',)\n",
    "plt.axvline(x=50, color='b', ls=':', label='Лимит по Smart') # в label даем название, которое отразится в легенде\n",
    "#plt.axvline(x=1000, color='orange', ls=':', label='Лимит по Ultra') #тут не буду добавлять, сильно график коряжит, лучше запомню.\n",
    "plt.legend(loc='upper right')\n",
    "plt.title('Сравнение количества сообщений')\n",
    "plt.show()"
   ]
  },
  {
   "cell_type": "markdown",
   "metadata": {},
   "source": [
    "**Вывод по сообщениям:**\n",
    "\n",
    "Тенденция сохраняется. \n",
    "\n",
    "На Смарте люди стараются не превышать лимит, всего 50 смс, дальше резкий спад.\n",
    "\n",
    "На Ультре до лимита даже не добираются."
   ]
  },
  {
   "cell_type": "code",
   "execution_count": 57,
   "metadata": {},
   "outputs": [
    {
     "data": {
      "image/png": "[encoded data removed]",
      "text/plain": [
       "<Figure size 432x288 with 1 Axes>"
      ]
     },
     "metadata": {
      "needs_background": "light"
     },
     "output_type": "display_data"
    }
   ],
   "source": [
    "plt.hist(smart['mb_sum'], bins = 128, range=(0,50000), alpha=0.5, label='Smart',)\n",
    "plt.hist(ultra['mb_sum'], bins = 128, range=(0,50000), alpha=0.5, label='Ultra',)\n",
    "plt.axvline(x=15360, color='b', ls=':', label='Лимит по Smart') # в label даем название, которое отразится в легенде\n",
    "plt.axvline(x=30720, color='orange', ls=':', label='Лимит по Ultra')\n",
    "plt.legend(loc='upper right')\n",
    "plt.title('Сравнение количества сообщений')\n",
    "plt.show()"
   ]
  },
  {
   "cell_type": "markdown",
   "metadata": {},
   "source": [
    "**Вывод по трафику:**\n",
    "\n",
    "С трафиком интереснее.\n",
    "\n",
    "На Смарте люди охотнее выбираются за лимит (по сравнению со звонками и смс). Хоть среднее кол-во Мб (16201) и находится в районе лимита (15360) клиенты довольно часто доходят до 25 Гб.\n",
    "\n",
    "На Ультре все по прежнему скучно, но тут за лимит хотябы начали выходить."
   ]
  },
  {
   "cell_type": "code",
   "execution_count": 58,
   "metadata": {},
   "outputs": [
    {
     "data": {
      "image/png": "[encoded data removed]",
      "text/plain": [
       "<Figure size 432x288 with 1 Axes>"
      ]
     },
     "metadata": {
      "needs_background": "light"
     },
     "output_type": "display_data"
    }
   ],
   "source": [
    "plt.hist(smart['total_paid'], bins = 50, alpha=0.5, label='Smart',)\n",
    "plt.hist(ultra['total_paid'], bins = 50, alpha=0.5, label='Ultra',)\n",
    "plt.legend(loc='upper right')\n",
    "plt.title('Сравнение доходов по тарифам')\n",
    "plt.show()"
   ]
  },
  {
   "cell_type": "code",
   "execution_count": 59,
   "metadata": {},
   "outputs": [
    {
     "name": "stdout",
     "output_type": "stream",
     "text": [
      "Всего дохода по выборке: 4916951 руб.\n"
     ]
    }
   ],
   "source": [
    "print('Всего дохода по выборке:', int(total_results['total_paid'].sum()), 'руб.')"
   ]
  },
  {
   "cell_type": "code",
   "execution_count": 60,
   "metadata": {},
   "outputs": [
    {
     "name": "stdout",
     "output_type": "stream",
     "text": [
      "Доход ТП Смарт: 58.48951921627854\n"
     ]
    }
   ],
   "source": [
    "print('Доход ТП Смарт:', (smart['total_paid'].sum()/total_results['total_paid'].sum()) * 100)"
   ]
  },
  {
   "cell_type": "code",
   "execution_count": 61,
   "metadata": {},
   "outputs": [
    {
     "name": "stdout",
     "output_type": "stream",
     "text": [
      "Доход ТП Ультра: 41.510480783721455\n"
     ]
    }
   ],
   "source": [
    "print('Доход ТП Ультра:', (ultra['total_paid'].sum()/total_results['total_paid'].sum()) * 100)"
   ]
  },
  {
   "cell_type": "code",
   "execution_count": 62,
   "metadata": {},
   "outputs": [
    {
     "data": {
      "text/html": [
       "<div>\n",
       "<style scoped>\n",
       "    .dataframe tbody tr th:only-of-type {\n",
       "        vertical-align: middle;\n",
       "    }\n",
       "\n",
       "    .dataframe tbody tr th {\n",
       "        vertical-align: top;\n",
       "    }\n",
       "\n",
       "    .dataframe thead th {\n",
       "        text-align: right;\n",
       "    }\n",
       "</style>\n",
       "<table border=\"1\" class=\"dataframe\">\n",
       "  <thead>\n",
       "    <tr style=\"text-align: right;\">\n",
       "      <th></th>\n",
       "      <th>tariff</th>\n",
       "    </tr>\n",
       "    <tr>\n",
       "      <th>tariff</th>\n",
       "      <th></th>\n",
       "    </tr>\n",
       "  </thead>\n",
       "  <tbody>\n",
       "    <tr>\n",
       "      <th>smart</th>\n",
       "      <td>351</td>\n",
       "    </tr>\n",
       "    <tr>\n",
       "      <th>ultra</th>\n",
       "      <td>149</td>\n",
       "    </tr>\n",
       "  </tbody>\n",
       "</table>\n",
       "</div>"
      ],
      "text/plain": [
       "        tariff\n",
       "tariff        \n",
       "smart      351\n",
       "ultra      149"
      ]
     },
     "execution_count": 62,
     "metadata": {},
     "output_type": "execute_result"
    }
   ],
   "source": [
    "users.groupby('tariff').agg({'tariff':'count'})"
   ]
  },
  {
   "cell_type": "code",
   "execution_count": 63,
   "metadata": {},
   "outputs": [
    {
     "data": {
      "text/plain": [
       "29.799999999999997"
      ]
     },
     "execution_count": 63,
     "metadata": {},
     "output_type": "execute_result"
    }
   ],
   "source": [
    "(149/500)*100"
   ]
  },
  {
   "cell_type": "code",
   "execution_count": 64,
   "metadata": {},
   "outputs": [
    {
     "data": {
      "text/plain": [
       "70.19999999999999"
      ]
     },
     "execution_count": 64,
     "metadata": {},
     "output_type": "execute_result"
    }
   ],
   "source": [
    "(351/500)*100"
   ]
  },
  {
   "cell_type": "markdown",
   "metadata": {},
   "source": [
    "**Обший вывод:**\n",
    "\n",
    "Не смотря на то, что Смарт показывает хороший прирост по доходам в целом, и клиенты выходят за лимиты и платят сверх АП, оказывается что Ультра более выгодна для ОС.\n",
    "\n",
    "В нашей выборке 500 клиентов, из них 149 - Ультровцы, это 30% от общего числа. Но эти 30% приносят 42% дохода.\n",
    "\n",
    "Смартовцы составляют 70% (351 клиент), но приносят всего 57% дохода.\n",
    "\n",
    "Пока что я бы рекомендовал рекламировать Ультру. Проверим научными статистическими методами.\n",
    "<a id=\"itog_analys2\"></a>"
   ]
  },
  {
   "cell_type": "markdown",
   "metadata": {},
   "source": [
    "**2.3  Проверка гипотез**\n",
    "- средняя выручка пользователей тарифов «Ультра» и «Смарт» различаются;\n",
    "- средняя выручка пользователи из Москвы отличается от выручки пользователей из других регионов.\n",
    "<a id=\"hypotheses2\"></a>"
   ]
  },
  {
   "cell_type": "markdown",
   "metadata": {},
   "source": [
    "1. **Формулируем гипотезы:**\n",
    "\n",
    "- Н0 - средняя выручка пользователей тарифов «Ультра» и «Смарт» не различаются.\n",
    "- Н1 - средняя выручка пользователей тарифов «Ультра» и «Смарт» различаются.\n",
    "\n",
    "Это гипотеза о равенстве двух средних ГС, будем использовать t-test.\n",
    "<a id=\"hyppo1\"></a>"
   ]
  },
  {
   "cell_type": "code",
   "execution_count": 65,
   "metadata": {},
   "outputs": [],
   "source": [
    "alpha = 0.05"
   ]
  },
  {
   "cell_type": "code",
   "execution_count": 66,
   "metadata": {},
   "outputs": [],
   "source": [
    "results = st.ttest_ind(smart['total_paid'], ultra['total_paid'])"
   ]
  },
  {
   "cell_type": "code",
   "execution_count": 67,
   "metadata": {},
   "outputs": [
    {
     "name": "stdout",
     "output_type": "stream",
     "text": [
      "p-значение:  8.081909555489933e-161\n",
      "Отвергаем нулевую гипотезу\n"
     ]
    }
   ],
   "source": [
    "print('p-значение: ', results.pvalue)\n",
    "\n",
    "if results.pvalue < alpha:\n",
    "    print(\"Отвергаем нулевую гипотезу\")\n",
    "else:\n",
    "    print(\"Не получилось отвергнуть нулевую гипотезу\") "
   ]
  },
  {
   "cell_type": "markdown",
   "metadata": {},
   "source": [
    "**Вывод:**\n",
    "\n",
    "Что и требовалось доказать. На самом деле средняя выручка конечно же отличается, это мы и так заметили анализируя данные в предыдущем блоке."
   ]
  },
  {
   "cell_type": "markdown",
   "metadata": {},
   "source": [
    "2. **Формулируем гипотезы:**\n",
    "\n",
    "- средняя выручка пользователи из Москвы не отличается от выручки пользователей из других регионов.\n",
    "- средняя выручка пользователи из Москвы отличается от выручки пользователей из других регионов.\n",
    "<a id=\"hyppo2\"></a>"
   ]
  },
  {
   "cell_type": "code",
   "execution_count": 68,
   "metadata": {},
   "outputs": [
    {
     "data": {
      "text/plain": [
       "array(['Краснодар', 'Москва', 'Стерлитамак', 'Новокузнецк',\n",
       "       'Набережные Челны', 'Ульяновск', 'Челябинск', 'Пермь', 'Тюмень',\n",
       "       'Самара', 'Санкт-Петербург', 'Иваново', 'Чебоксары', 'Омск', 'Уфа',\n",
       "       'Томск', 'Чита', 'Мурманск', 'Петрозаводск', 'Тверь',\n",
       "       'Екатеринбург', 'Махачкала', 'Вологда', 'Череповец', 'Ярославль',\n",
       "       'Сочи', 'Хабаровск', 'Ставрополь', 'Рязань', 'Улан-Удэ', 'Тула',\n",
       "       'Саратов', 'Ростов-на-Дону', 'Казань', 'Иркутск', 'Курск',\n",
       "       'Калуга', 'Якутск', 'Астрахань', 'Химки', 'Владикавказ',\n",
       "       'Волгоград', 'Саранск', 'Ижевск', 'Новосибирск', 'Брянск',\n",
       "       'Тольятти', 'Нижний Тагил', 'Орёл', 'Белгород', 'Воронеж',\n",
       "       'Курган', 'Барнаул', 'Красноярск', 'Архангельск', 'Липецк',\n",
       "       'Кемерово', 'Киров', 'Сургут', 'Пенза', 'Волжский', 'Магнитогорск',\n",
       "       'Нижний Новгород', 'Кострома', 'Владивосток', 'Тамбов', 'Балашиха',\n",
       "       'Севастополь', 'Калининград', 'Оренбург', 'Смоленск',\n",
       "       'Нижневартовск', 'Владимир', 'Новороссийск', 'Грозный', 'Подольск'],\n",
       "      dtype=object)"
      ]
     },
     "execution_count": 68,
     "metadata": {},
     "output_type": "execute_result"
    }
   ],
   "source": [
    "total_results['city'].unique()"
   ]
  },
  {
   "cell_type": "code",
   "execution_count": 69,
   "metadata": {},
   "outputs": [],
   "source": [
    "moscow = total_results[total_results['city'] == 'Москва']"
   ]
  },
  {
   "cell_type": "code",
   "execution_count": 70,
   "metadata": {},
   "outputs": [],
   "source": [
    "colony = total_results[total_results['city'] != 'Москва']"
   ]
  },
  {
   "cell_type": "code",
   "execution_count": 71,
   "metadata": {},
   "outputs": [],
   "source": [
    "results = st.ttest_ind(moscow['total_paid'], colony['total_paid'])"
   ]
  },
  {
   "cell_type": "code",
   "execution_count": 72,
   "metadata": {},
   "outputs": [
    {
     "name": "stdout",
     "output_type": "stream",
     "text": [
      "p-значение:  0.5400751614511182\n",
      "Не получилось отвергнуть нулевую гипотезу\n"
     ]
    }
   ],
   "source": [
    "print('p-значение: ', results.pvalue)\n",
    "\n",
    "if results.pvalue < alpha:\n",
    "    print(\"Отвергаем нулевую гипотезу\")\n",
    "else:\n",
    "    print(\"Не получилось отвергнуть нулевую гипотезу\") "
   ]
  },
  {
   "cell_type": "markdown",
   "metadata": {},
   "source": [
    "**Вывод:**\n",
    "\n",
    "Видимо клиенты тратят в среднем одинаково по всей стране."
   ]
  },
  {
   "cell_type": "markdown",
   "metadata": {},
   "source": [
    "# Общий вывод\n",
    "<a id=\"conclusion\"></a>"
   ]
  },
  {
   "cell_type": "markdown",
   "metadata": {},
   "source": [
    "В целом можно сказать, что у клиентов на разных тарифах примерно одинаковая потребность в звонках, сообщениях и трафике.\n",
    "\n",
    "Но принимая во внимание условия ТП можно сказать, что клиенты ведут себя по разному. Например, Смартовцы выходят за лимиты и соответственно тратят больше денег сверх АП.\n",
    "\n",
    "Но денег Оператору связи всё же приносят больше Ультровцы, даже не смотря на то, что не выходят за рамки лимитов.\n",
    "Это связано с итак высокой АП на ТП Ультра.\n",
    "\n",
    "Коммерческому департаменту можно передать, что в абсолютных цифрах денег приносит больше ТП \"Смарт\", но в относительных - ТП \"Ультра\". Такой вывод связан с тем, что в выборке разное количество клиентов с ТП (351 Смарт против 149 Ультра).\n",
    "\n",
    "Но рекомендация неожиданная:\n",
    "\n",
    "Основываясь на проведенном анализе лучше придумать третий тариф, который больше бы подходил под нужды людей."
   ]
  }
 ],
 "metadata": {
  "ExecuteTimeLog": [
   {
    "duration": 1227,
    "start_time": "2022-02-08T18:39:06.768Z"
   },
   {
    "duration": 3,
    "start_time": "2022-02-08T18:39:17.503Z"
   },
   {
    "duration": 2,
    "start_time": "2022-02-08T18:39:39.128Z"
   },
   {
    "duration": 1948,
    "start_time": "2022-02-08T18:41:10.254Z"
   },
   {
    "duration": 32,
    "start_time": "2022-02-08T18:42:40.509Z"
   },
   {
    "duration": 13,
    "start_time": "2022-02-08T18:42:54.564Z"
   },
   {
    "duration": 32,
    "start_time": "2022-02-08T18:43:19.964Z"
   },
   {
    "duration": 31,
    "start_time": "2022-02-08T18:43:26.196Z"
   },
   {
    "duration": 13,
    "start_time": "2022-02-08T18:43:36.063Z"
   },
   {
    "duration": 10,
    "start_time": "2022-02-08T18:43:44.796Z"
   },
   {
    "duration": 31,
    "start_time": "2022-02-08T18:43:50.156Z"
   },
   {
    "duration": 26,
    "start_time": "2022-02-08T18:43:58.773Z"
   },
   {
    "duration": 10,
    "start_time": "2022-02-08T18:44:07.939Z"
   },
   {
    "duration": 12,
    "start_time": "2022-02-08T18:44:13.709Z"
   },
   {
    "duration": 11,
    "start_time": "2022-02-08T18:44:17.572Z"
   },
   {
    "duration": 22,
    "start_time": "2022-02-08T18:44:33.637Z"
   },
   {
    "duration": 8,
    "start_time": "2022-02-08T18:44:40.125Z"
   },
   {
    "duration": 9,
    "start_time": "2022-02-08T18:44:53.576Z"
   },
   {
    "duration": 13,
    "start_time": "2022-02-08T18:45:02.220Z"
   },
   {
    "duration": 8,
    "start_time": "2022-02-08T18:45:07.931Z"
   },
   {
    "duration": 7,
    "start_time": "2022-02-08T18:45:18.707Z"
   },
   {
    "duration": 12,
    "start_time": "2022-02-08T18:45:32.506Z"
   },
   {
    "duration": 31,
    "start_time": "2022-02-08T18:45:45.875Z"
   },
   {
    "duration": 3,
    "start_time": "2022-02-08T18:45:56.754Z"
   },
   {
    "duration": 3,
    "start_time": "2022-02-08T18:45:58.137Z"
   },
   {
    "duration": 3,
    "start_time": "2022-02-08T18:46:03.571Z"
   },
   {
    "duration": 629,
    "start_time": "2022-02-08T18:46:45.898Z"
   },
   {
    "duration": 53,
    "start_time": "2022-02-08T18:47:45.650Z"
   },
   {
    "duration": 56,
    "start_time": "2022-02-08T18:47:57.433Z"
   },
   {
    "duration": 3,
    "start_time": "2022-02-08T18:48:02.441Z"
   },
   {
    "duration": 22,
    "start_time": "2022-02-08T18:48:08.192Z"
   },
   {
    "duration": 4,
    "start_time": "2022-02-08T18:48:12.872Z"
   },
   {
    "duration": 45,
    "start_time": "2022-02-08T18:48:18.729Z"
   },
   {
    "duration": 3,
    "start_time": "2022-02-08T18:48:23.984Z"
   },
   {
    "duration": 10,
    "start_time": "2022-02-08T18:48:31.076Z"
   },
   {
    "duration": 9,
    "start_time": "2022-02-08T18:48:36.464Z"
   },
   {
    "duration": 7,
    "start_time": "2022-02-08T18:48:41.307Z"
   },
   {
    "duration": 6,
    "start_time": "2022-02-08T18:48:47.449Z"
   },
   {
    "duration": 11,
    "start_time": "2022-02-08T18:49:02.976Z"
   },
   {
    "duration": 1207,
    "start_time": "2022-02-08T19:00:17.963Z"
   },
   {
    "duration": 3,
    "start_time": "2022-02-08T19:00:19.173Z"
   },
   {
    "duration": 13,
    "start_time": "2022-02-08T19:00:19.178Z"
   },
   {
    "duration": 1936,
    "start_time": "2022-02-08T19:00:19.193Z"
   },
   {
    "duration": 39,
    "start_time": "2022-02-08T19:00:21.131Z"
   },
   {
    "duration": 13,
    "start_time": "2022-02-08T19:00:21.172Z"
   },
   {
    "duration": 40,
    "start_time": "2022-02-08T19:00:21.187Z"
   },
   {
    "duration": 5,
    "start_time": "2022-02-08T19:00:21.230Z"
   },
   {
    "duration": 36,
    "start_time": "2022-02-08T19:00:21.238Z"
   },
   {
    "duration": 9,
    "start_time": "2022-02-08T19:00:21.276Z"
   },
   {
    "duration": 10,
    "start_time": "2022-02-08T19:00:21.307Z"
   },
   {
    "duration": 35,
    "start_time": "2022-02-08T19:00:21.319Z"
   },
   {
    "duration": 24,
    "start_time": "2022-02-08T19:00:21.356Z"
   },
   {
    "duration": 31,
    "start_time": "2022-02-08T19:00:21.382Z"
   },
   {
    "duration": 24,
    "start_time": "2022-02-08T19:00:21.415Z"
   },
   {
    "duration": 7,
    "start_time": "2022-02-08T19:00:21.441Z"
   },
   {
    "duration": 12,
    "start_time": "2022-02-08T19:00:21.450Z"
   },
   {
    "duration": 11,
    "start_time": "2022-02-08T19:00:21.464Z"
   },
   {
    "duration": 37,
    "start_time": "2022-02-08T19:00:21.478Z"
   },
   {
    "duration": 15,
    "start_time": "2022-02-08T19:00:21.518Z"
   },
   {
    "duration": 7,
    "start_time": "2022-02-08T19:00:21.534Z"
   },
   {
    "duration": 6,
    "start_time": "2022-02-08T19:00:21.543Z"
   },
   {
    "duration": 4,
    "start_time": "2022-02-08T19:00:21.553Z"
   },
   {
    "duration": 6,
    "start_time": "2022-02-08T19:00:21.559Z"
   },
   {
    "duration": 84,
    "start_time": "2022-02-08T19:00:21.566Z"
   },
   {
    "duration": 61,
    "start_time": "2022-02-08T19:00:21.652Z"
   },
   {
    "duration": 4,
    "start_time": "2022-02-08T19:00:21.714Z"
   },
   {
    "duration": 23,
    "start_time": "2022-02-08T19:00:21.720Z"
   },
   {
    "duration": 3,
    "start_time": "2022-02-08T19:00:21.745Z"
   },
   {
    "duration": 64,
    "start_time": "2022-02-08T19:00:21.750Z"
   },
   {
    "duration": 3,
    "start_time": "2022-02-08T19:00:21.816Z"
   },
   {
    "duration": 16,
    "start_time": "2022-02-08T19:00:21.821Z"
   },
   {
    "duration": 12,
    "start_time": "2022-02-08T19:00:21.839Z"
   },
   {
    "duration": 9,
    "start_time": "2022-02-08T19:00:21.853Z"
   },
   {
    "duration": 8,
    "start_time": "2022-02-08T19:00:21.864Z"
   },
   {
    "duration": 37,
    "start_time": "2022-02-08T19:00:21.874Z"
   },
   {
    "duration": 25,
    "start_time": "2022-02-08T19:00:41.705Z"
   },
   {
    "duration": 13,
    "start_time": "2022-02-08T19:00:50.297Z"
   },
   {
    "duration": 10,
    "start_time": "2022-02-08T19:10:42.588Z"
   },
   {
    "duration": 10,
    "start_time": "2022-02-08T19:15:36.469Z"
   },
   {
    "duration": 12,
    "start_time": "2022-02-08T19:15:42.636Z"
   },
   {
    "duration": 13,
    "start_time": "2022-02-08T19:16:37.605Z"
   },
   {
    "duration": 1323,
    "start_time": "2022-02-08T19:17:07.607Z"
   },
   {
    "duration": 3,
    "start_time": "2022-02-08T19:17:08.932Z"
   },
   {
    "duration": 25,
    "start_time": "2022-02-08T19:17:08.940Z"
   },
   {
    "duration": 1962,
    "start_time": "2022-02-08T19:17:08.967Z"
   },
   {
    "duration": 31,
    "start_time": "2022-02-08T19:17:10.931Z"
   },
   {
    "duration": 29,
    "start_time": "2022-02-08T19:17:10.964Z"
   },
   {
    "duration": 44,
    "start_time": "2022-02-08T19:17:10.995Z"
   },
   {
    "duration": 7,
    "start_time": "2022-02-08T19:17:11.041Z"
   },
   {
    "duration": 34,
    "start_time": "2022-02-08T19:17:11.050Z"
   },
   {
    "duration": 21,
    "start_time": "2022-02-08T19:17:11.087Z"
   },
   {
    "duration": 11,
    "start_time": "2022-02-08T19:17:11.111Z"
   },
   {
    "duration": 37,
    "start_time": "2022-02-08T19:17:11.124Z"
   },
   {
    "duration": 45,
    "start_time": "2022-02-08T19:17:11.163Z"
   },
   {
    "duration": 12,
    "start_time": "2022-02-08T19:17:11.209Z"
   },
   {
    "duration": 41,
    "start_time": "2022-02-08T19:17:11.222Z"
   },
   {
    "duration": 22,
    "start_time": "2022-02-08T19:17:11.264Z"
   },
   {
    "duration": 17,
    "start_time": "2022-02-08T19:17:11.288Z"
   },
   {
    "duration": 28,
    "start_time": "2022-02-08T19:17:11.306Z"
   },
   {
    "duration": 16,
    "start_time": "2022-02-08T19:17:11.336Z"
   },
   {
    "duration": 28,
    "start_time": "2022-02-08T19:17:11.354Z"
   },
   {
    "duration": 13,
    "start_time": "2022-02-08T19:17:11.384Z"
   },
   {
    "duration": 14,
    "start_time": "2022-02-08T19:17:11.401Z"
   },
   {
    "duration": 22,
    "start_time": "2022-02-08T19:17:11.417Z"
   },
   {
    "duration": 16,
    "start_time": "2022-02-08T19:17:11.441Z"
   },
   {
    "duration": 66,
    "start_time": "2022-02-08T19:17:11.459Z"
   },
   {
    "duration": 52,
    "start_time": "2022-02-08T19:17:11.527Z"
   },
   {
    "duration": 3,
    "start_time": "2022-02-08T19:17:11.581Z"
   },
   {
    "duration": 36,
    "start_time": "2022-02-08T19:17:11.586Z"
   },
   {
    "duration": 2,
    "start_time": "2022-02-08T19:17:11.624Z"
   },
   {
    "duration": 63,
    "start_time": "2022-02-08T19:17:11.628Z"
   },
   {
    "duration": 4,
    "start_time": "2022-02-08T19:17:11.693Z"
   },
   {
    "duration": 13,
    "start_time": "2022-02-08T19:17:11.698Z"
   },
   {
    "duration": 19,
    "start_time": "2022-02-08T19:17:11.713Z"
   },
   {
    "duration": 17,
    "start_time": "2022-02-08T19:17:11.734Z"
   },
   {
    "duration": 12,
    "start_time": "2022-02-08T19:17:11.753Z"
   },
   {
    "duration": 25,
    "start_time": "2022-02-08T19:17:11.767Z"
   },
   {
    "duration": 8,
    "start_time": "2022-02-08T19:22:22.600Z"
   },
   {
    "duration": 11,
    "start_time": "2022-02-08T19:22:23.398Z"
   },
   {
    "duration": 3,
    "start_time": "2022-02-08T19:22:24.117Z"
   },
   {
    "duration": 356,
    "start_time": "2022-02-08T19:22:24.781Z"
   },
   {
    "duration": 16,
    "start_time": "2022-02-08T19:22:25.295Z"
   },
   {
    "duration": 9,
    "start_time": "2022-02-08T19:23:09.348Z"
   },
   {
    "duration": 12,
    "start_time": "2022-02-08T19:24:27.644Z"
   },
   {
    "duration": 9,
    "start_time": "2022-02-08T19:28:38.401Z"
   },
   {
    "duration": 10,
    "start_time": "2022-02-08T19:28:38.976Z"
   },
   {
    "duration": 395,
    "start_time": "2022-02-08T19:28:40.073Z"
   },
   {
    "duration": 13,
    "start_time": "2022-02-08T19:28:41.680Z"
   },
   {
    "duration": 238,
    "start_time": "2022-02-08T19:28:54.665Z"
   },
   {
    "duration": 13,
    "start_time": "2022-02-08T19:28:55.722Z"
   },
   {
    "duration": 9,
    "start_time": "2022-02-08T19:28:58.801Z"
   },
   {
    "duration": 1270,
    "start_time": "2022-02-08T19:29:07.296Z"
   },
   {
    "duration": 3,
    "start_time": "2022-02-08T19:29:08.568Z"
   },
   {
    "duration": 9,
    "start_time": "2022-02-08T19:29:08.573Z"
   },
   {
    "duration": 2068,
    "start_time": "2022-02-08T19:29:08.584Z"
   },
   {
    "duration": 32,
    "start_time": "2022-02-08T19:29:10.654Z"
   },
   {
    "duration": 12,
    "start_time": "2022-02-08T19:29:10.688Z"
   },
   {
    "duration": 39,
    "start_time": "2022-02-08T19:29:10.701Z"
   },
   {
    "duration": 5,
    "start_time": "2022-02-08T19:29:10.743Z"
   },
   {
    "duration": 34,
    "start_time": "2022-02-08T19:29:10.751Z"
   },
   {
    "duration": 22,
    "start_time": "2022-02-08T19:29:10.787Z"
   },
   {
    "duration": 15,
    "start_time": "2022-02-08T19:29:10.811Z"
   },
   {
    "duration": 32,
    "start_time": "2022-02-08T19:29:10.827Z"
   },
   {
    "duration": 24,
    "start_time": "2022-02-08T19:29:10.861Z"
   },
   {
    "duration": 32,
    "start_time": "2022-02-08T19:29:10.887Z"
   },
   {
    "duration": 27,
    "start_time": "2022-02-08T19:29:10.921Z"
   },
   {
    "duration": 7,
    "start_time": "2022-02-08T19:29:10.950Z"
   },
   {
    "duration": 11,
    "start_time": "2022-02-08T19:29:10.959Z"
   },
   {
    "duration": 8,
    "start_time": "2022-02-08T19:29:11.008Z"
   },
   {
    "duration": 13,
    "start_time": "2022-02-08T19:29:11.018Z"
   },
   {
    "duration": 16,
    "start_time": "2022-02-08T19:29:11.033Z"
   },
   {
    "duration": 9,
    "start_time": "2022-02-08T19:29:11.052Z"
   },
   {
    "duration": 6,
    "start_time": "2022-02-08T19:29:11.063Z"
   },
   {
    "duration": 7,
    "start_time": "2022-02-08T19:29:11.073Z"
   },
   {
    "duration": 25,
    "start_time": "2022-02-08T19:29:11.083Z"
   },
   {
    "duration": 62,
    "start_time": "2022-02-08T19:29:11.110Z"
   },
   {
    "duration": 58,
    "start_time": "2022-02-08T19:29:11.174Z"
   },
   {
    "duration": 4,
    "start_time": "2022-02-08T19:29:11.234Z"
   },
   {
    "duration": 25,
    "start_time": "2022-02-08T19:29:11.240Z"
   },
   {
    "duration": 3,
    "start_time": "2022-02-08T19:29:11.267Z"
   },
   {
    "duration": 69,
    "start_time": "2022-02-08T19:29:11.272Z"
   },
   {
    "duration": 3,
    "start_time": "2022-02-08T19:29:11.343Z"
   },
   {
    "duration": 14,
    "start_time": "2022-02-08T19:29:11.348Z"
   },
   {
    "duration": 15,
    "start_time": "2022-02-08T19:29:11.364Z"
   },
   {
    "duration": 8,
    "start_time": "2022-02-08T19:29:11.380Z"
   },
   {
    "duration": 19,
    "start_time": "2022-02-08T19:29:11.390Z"
   },
   {
    "duration": 15,
    "start_time": "2022-02-08T19:29:11.411Z"
   },
   {
    "duration": 9,
    "start_time": "2022-02-08T19:29:11.428Z"
   },
   {
    "duration": 13,
    "start_time": "2022-02-08T19:29:11.439Z"
   },
   {
    "duration": 12,
    "start_time": "2022-02-08T19:29:44.132Z"
   },
   {
    "duration": 9,
    "start_time": "2022-02-08T19:29:53.133Z"
   },
   {
    "duration": 8,
    "start_time": "2022-02-08T19:29:58.868Z"
   },
   {
    "duration": 16,
    "start_time": "2022-02-08T19:30:06.612Z"
   },
   {
    "duration": 8,
    "start_time": "2022-02-08T19:30:50.340Z"
   },
   {
    "duration": 343,
    "start_time": "2022-02-08T19:30:58.987Z"
   },
   {
    "duration": 283,
    "start_time": "2022-02-08T19:31:15.963Z"
   },
   {
    "duration": 267,
    "start_time": "2022-02-08T19:31:22.923Z"
   },
   {
    "duration": 249,
    "start_time": "2022-02-08T19:31:32.467Z"
   },
   {
    "duration": 17,
    "start_time": "2022-02-08T19:31:38.339Z"
   },
   {
    "duration": 283,
    "start_time": "2022-02-08T19:31:48.477Z"
   },
   {
    "duration": 265,
    "start_time": "2022-02-08T19:32:13.060Z"
   },
   {
    "duration": 15,
    "start_time": "2022-02-08T19:32:30.170Z"
   },
   {
    "duration": 12,
    "start_time": "2022-02-08T19:32:51.138Z"
   },
   {
    "duration": 1201,
    "start_time": "2022-02-08T19:34:11.077Z"
   },
   {
    "duration": 2,
    "start_time": "2022-02-08T19:34:12.280Z"
   },
   {
    "duration": 7,
    "start_time": "2022-02-08T19:34:12.285Z"
   },
   {
    "duration": 2037,
    "start_time": "2022-02-08T19:34:12.294Z"
   },
   {
    "duration": 32,
    "start_time": "2022-02-08T19:34:14.333Z"
   },
   {
    "duration": 15,
    "start_time": "2022-02-08T19:34:14.367Z"
   },
   {
    "duration": 37,
    "start_time": "2022-02-08T19:34:14.384Z"
   },
   {
    "duration": 5,
    "start_time": "2022-02-08T19:34:14.424Z"
   },
   {
    "duration": 36,
    "start_time": "2022-02-08T19:34:14.431Z"
   },
   {
    "duration": 10,
    "start_time": "2022-02-08T19:34:14.470Z"
   },
   {
    "duration": 32,
    "start_time": "2022-02-08T19:34:14.482Z"
   },
   {
    "duration": 34,
    "start_time": "2022-02-08T19:34:14.516Z"
   },
   {
    "duration": 27,
    "start_time": "2022-02-08T19:34:14.552Z"
   },
   {
    "duration": 33,
    "start_time": "2022-02-08T19:34:14.581Z"
   },
   {
    "duration": 24,
    "start_time": "2022-02-08T19:34:14.616Z"
   },
   {
    "duration": 7,
    "start_time": "2022-02-08T19:34:14.642Z"
   },
   {
    "duration": 13,
    "start_time": "2022-02-08T19:34:14.651Z"
   },
   {
    "duration": 10,
    "start_time": "2022-02-08T19:34:14.666Z"
   },
   {
    "duration": 15,
    "start_time": "2022-02-08T19:34:14.708Z"
   },
   {
    "duration": 17,
    "start_time": "2022-02-08T19:34:14.725Z"
   },
   {
    "duration": 4,
    "start_time": "2022-02-08T19:34:14.744Z"
   },
   {
    "duration": 9,
    "start_time": "2022-02-08T19:34:14.750Z"
   },
   {
    "duration": 5,
    "start_time": "2022-02-08T19:34:14.762Z"
   },
   {
    "duration": 9,
    "start_time": "2022-02-08T19:34:14.770Z"
   },
   {
    "duration": 70,
    "start_time": "2022-02-08T19:34:14.781Z"
   },
   {
    "duration": 60,
    "start_time": "2022-02-08T19:34:14.853Z"
   },
   {
    "duration": 4,
    "start_time": "2022-02-08T19:34:14.915Z"
   },
   {
    "duration": 30,
    "start_time": "2022-02-08T19:34:14.921Z"
   },
   {
    "duration": 4,
    "start_time": "2022-02-08T19:34:14.953Z"
   },
   {
    "duration": 70,
    "start_time": "2022-02-08T19:34:14.959Z"
   },
   {
    "duration": 4,
    "start_time": "2022-02-08T19:34:15.031Z"
   },
   {
    "duration": 19,
    "start_time": "2022-02-08T19:34:15.037Z"
   },
   {
    "duration": 12,
    "start_time": "2022-02-08T19:34:15.059Z"
   },
   {
    "duration": 13,
    "start_time": "2022-02-08T19:34:15.073Z"
   },
   {
    "duration": 22,
    "start_time": "2022-02-08T19:34:15.088Z"
   },
   {
    "duration": 7,
    "start_time": "2022-02-08T19:34:24.252Z"
   },
   {
    "duration": 8,
    "start_time": "2022-02-08T19:34:30.164Z"
   },
   {
    "duration": 7,
    "start_time": "2022-02-08T19:34:34.819Z"
   },
   {
    "duration": 15,
    "start_time": "2022-02-08T19:34:39.115Z"
   },
   {
    "duration": 13,
    "start_time": "2022-02-08T19:43:06.230Z"
   },
   {
    "duration": 337,
    "start_time": "2022-02-08T19:43:12.851Z"
   },
   {
    "duration": 30,
    "start_time": "2022-02-08T19:43:16.657Z"
   },
   {
    "duration": 11,
    "start_time": "2022-02-08T19:43:43.213Z"
   },
   {
    "duration": 249,
    "start_time": "2022-02-08T19:46:11.675Z"
   },
   {
    "duration": 286,
    "start_time": "2022-02-08T19:46:31.113Z"
   },
   {
    "duration": 322,
    "start_time": "2022-02-08T19:47:06.345Z"
   },
   {
    "duration": 1299,
    "start_time": "2022-02-08T19:47:28.273Z"
   },
   {
    "duration": 2,
    "start_time": "2022-02-08T19:47:29.574Z"
   },
   {
    "duration": 11,
    "start_time": "2022-02-08T19:47:29.580Z"
   },
   {
    "duration": 2029,
    "start_time": "2022-02-08T19:47:29.593Z"
   },
   {
    "duration": 34,
    "start_time": "2022-02-08T19:47:31.624Z"
   },
   {
    "duration": 14,
    "start_time": "2022-02-08T19:47:31.661Z"
   },
   {
    "duration": 51,
    "start_time": "2022-02-08T19:47:31.677Z"
   },
   {
    "duration": 7,
    "start_time": "2022-02-08T19:47:31.731Z"
   },
   {
    "duration": 48,
    "start_time": "2022-02-08T19:47:31.740Z"
   },
   {
    "duration": 18,
    "start_time": "2022-02-08T19:47:31.791Z"
   },
   {
    "duration": 23,
    "start_time": "2022-02-08T19:47:31.811Z"
   },
   {
    "duration": 34,
    "start_time": "2022-02-08T19:47:31.836Z"
   },
   {
    "duration": 41,
    "start_time": "2022-02-08T19:47:31.872Z"
   },
   {
    "duration": 28,
    "start_time": "2022-02-08T19:47:31.915Z"
   },
   {
    "duration": 31,
    "start_time": "2022-02-08T19:47:31.946Z"
   },
   {
    "duration": 10,
    "start_time": "2022-02-08T19:47:31.979Z"
   },
   {
    "duration": 39,
    "start_time": "2022-02-08T19:47:31.992Z"
   },
   {
    "duration": 23,
    "start_time": "2022-02-08T19:47:32.033Z"
   },
   {
    "duration": 19,
    "start_time": "2022-02-08T19:47:32.058Z"
   },
   {
    "duration": 43,
    "start_time": "2022-02-08T19:47:32.079Z"
   },
   {
    "duration": 12,
    "start_time": "2022-02-08T19:47:32.124Z"
   },
   {
    "duration": 25,
    "start_time": "2022-02-08T19:47:32.138Z"
   },
   {
    "duration": 12,
    "start_time": "2022-02-08T19:47:32.167Z"
   },
   {
    "duration": 15,
    "start_time": "2022-02-08T19:47:32.181Z"
   },
   {
    "duration": 69,
    "start_time": "2022-02-08T19:47:32.198Z"
   },
   {
    "duration": 54,
    "start_time": "2022-02-08T19:47:32.269Z"
   },
   {
    "duration": 3,
    "start_time": "2022-02-08T19:47:32.325Z"
   },
   {
    "duration": 29,
    "start_time": "2022-02-08T19:47:32.330Z"
   },
   {
    "duration": 3,
    "start_time": "2022-02-08T19:47:32.361Z"
   },
   {
    "duration": 71,
    "start_time": "2022-02-08T19:47:32.366Z"
   },
   {
    "duration": 3,
    "start_time": "2022-02-08T19:47:32.439Z"
   },
   {
    "duration": 19,
    "start_time": "2022-02-08T19:47:32.444Z"
   },
   {
    "duration": 17,
    "start_time": "2022-02-08T19:47:32.465Z"
   },
   {
    "duration": 17,
    "start_time": "2022-02-08T19:47:32.484Z"
   },
   {
    "duration": 26,
    "start_time": "2022-02-08T19:47:32.503Z"
   },
   {
    "duration": 24,
    "start_time": "2022-02-08T19:47:32.531Z"
   },
   {
    "duration": 7,
    "start_time": "2022-02-08T19:47:32.557Z"
   },
   {
    "duration": 30,
    "start_time": "2022-02-08T19:47:32.566Z"
   },
   {
    "duration": 411,
    "start_time": "2022-02-08T19:49:11.311Z"
   },
   {
    "duration": 1042,
    "start_time": "2022-02-08T19:51:05.351Z"
   },
   {
    "duration": 5,
    "start_time": "2022-02-08T19:53:58.757Z"
   },
   {
    "duration": 9,
    "start_time": "2022-02-08T19:54:05.392Z"
   },
   {
    "duration": 30,
    "start_time": "2022-02-08T19:54:07.101Z"
   },
   {
    "duration": 35,
    "start_time": "2022-02-08T19:54:22.803Z"
   },
   {
    "duration": 26,
    "start_time": "2022-02-08T19:54:50.038Z"
   },
   {
    "duration": 11,
    "start_time": "2022-02-08T19:55:59.106Z"
   },
   {
    "duration": 335,
    "start_time": "2022-02-08T19:57:03.145Z"
   },
   {
    "duration": 25,
    "start_time": "2022-02-08T19:57:17.480Z"
   },
   {
    "duration": 9,
    "start_time": "2022-02-08T19:57:19.936Z"
   },
   {
    "duration": 24,
    "start_time": "2022-02-08T19:57:23.058Z"
   },
   {
    "duration": 10,
    "start_time": "2022-02-08T19:57:24.008Z"
   },
   {
    "duration": 9,
    "start_time": "2022-02-08T19:59:08.527Z"
   },
   {
    "duration": 24,
    "start_time": "2022-02-08T19:59:10.664Z"
   },
   {
    "duration": 1243,
    "start_time": "2022-02-08T20:00:30.959Z"
   },
   {
    "duration": 4,
    "start_time": "2022-02-08T20:00:32.204Z"
   },
   {
    "duration": 24,
    "start_time": "2022-02-08T20:00:32.211Z"
   },
   {
    "duration": 2131,
    "start_time": "2022-02-08T20:00:32.238Z"
   },
   {
    "duration": 33,
    "start_time": "2022-02-08T20:00:34.371Z"
   },
   {
    "duration": 13,
    "start_time": "2022-02-08T20:00:34.406Z"
   },
   {
    "duration": 40,
    "start_time": "2022-02-08T20:00:34.421Z"
   },
   {
    "duration": 5,
    "start_time": "2022-02-08T20:00:34.465Z"
   },
   {
    "duration": 49,
    "start_time": "2022-02-08T20:00:34.473Z"
   },
   {
    "duration": 9,
    "start_time": "2022-02-08T20:00:34.524Z"
   },
   {
    "duration": 16,
    "start_time": "2022-02-08T20:00:34.535Z"
   },
   {
    "duration": 54,
    "start_time": "2022-02-08T20:00:34.554Z"
   },
   {
    "duration": 27,
    "start_time": "2022-02-08T20:00:34.611Z"
   },
   {
    "duration": 13,
    "start_time": "2022-02-08T20:00:34.640Z"
   },
   {
    "duration": 53,
    "start_time": "2022-02-08T20:00:34.654Z"
   },
   {
    "duration": 8,
    "start_time": "2022-02-08T20:00:34.709Z"
   },
   {
    "duration": 13,
    "start_time": "2022-02-08T20:00:34.719Z"
   },
   {
    "duration": 9,
    "start_time": "2022-02-08T20:00:34.734Z"
   },
   {
    "duration": 11,
    "start_time": "2022-02-08T20:00:34.745Z"
   },
   {
    "duration": 13,
    "start_time": "2022-02-08T20:00:34.758Z"
   },
   {
    "duration": 37,
    "start_time": "2022-02-08T20:00:34.773Z"
   },
   {
    "duration": 5,
    "start_time": "2022-02-08T20:00:34.812Z"
   },
   {
    "duration": 4,
    "start_time": "2022-02-08T20:00:34.821Z"
   },
   {
    "duration": 11,
    "start_time": "2022-02-08T20:00:34.827Z"
   },
   {
    "duration": 15,
    "start_time": "2022-02-08T20:00:34.839Z"
   },
   {
    "duration": 68,
    "start_time": "2022-02-08T20:00:34.856Z"
   },
   {
    "duration": 55,
    "start_time": "2022-02-08T20:00:34.926Z"
   },
   {
    "duration": 3,
    "start_time": "2022-02-08T20:00:34.983Z"
   },
   {
    "duration": 45,
    "start_time": "2022-02-08T20:00:34.988Z"
   },
   {
    "duration": 3,
    "start_time": "2022-02-08T20:00:35.036Z"
   },
   {
    "duration": 56,
    "start_time": "2022-02-08T20:00:35.041Z"
   },
   {
    "duration": 9,
    "start_time": "2022-02-08T20:00:35.099Z"
   },
   {
    "duration": 43,
    "start_time": "2022-02-08T20:00:35.110Z"
   },
   {
    "duration": 12,
    "start_time": "2022-02-08T20:00:35.155Z"
   },
   {
    "duration": 14,
    "start_time": "2022-02-08T20:00:35.169Z"
   },
   {
    "duration": 17,
    "start_time": "2022-02-08T20:00:35.185Z"
   },
   {
    "duration": 36,
    "start_time": "2022-02-08T20:00:35.204Z"
   },
   {
    "duration": 2,
    "start_time": "2022-02-08T20:00:35.242Z"
   },
   {
    "duration": 6,
    "start_time": "2022-02-08T20:00:35.247Z"
   },
   {
    "duration": 12,
    "start_time": "2022-02-08T20:00:35.255Z"
   },
   {
    "duration": 8,
    "start_time": "2022-02-08T20:01:11.315Z"
   },
   {
    "duration": 9,
    "start_time": "2022-02-08T20:01:14.105Z"
   },
   {
    "duration": 24,
    "start_time": "2022-02-08T20:01:19.050Z"
   },
   {
    "duration": 27,
    "start_time": "2022-02-08T20:05:01.115Z"
   },
   {
    "duration": 12,
    "start_time": "2022-02-08T20:05:20.008Z"
   },
   {
    "duration": 26,
    "start_time": "2022-02-08T20:05:35.727Z"
   },
   {
    "duration": 3,
    "start_time": "2022-02-08T20:07:12.508Z"
   },
   {
    "duration": 4,
    "start_time": "2022-02-08T20:09:27.075Z"
   },
   {
    "duration": 217,
    "start_time": "2022-02-08T20:13:27.064Z"
   },
   {
    "duration": 30,
    "start_time": "2022-02-08T20:13:38.919Z"
   },
   {
    "duration": 1113,
    "start_time": "2022-02-11T11:32:57.166Z"
   },
   {
    "duration": 2,
    "start_time": "2022-02-11T11:32:58.281Z"
   },
   {
    "duration": 4,
    "start_time": "2022-02-11T11:32:58.286Z"
   },
   {
    "duration": 1855,
    "start_time": "2022-02-11T11:32:58.291Z"
   },
   {
    "duration": 31,
    "start_time": "2022-02-11T11:33:00.148Z"
   },
   {
    "duration": 11,
    "start_time": "2022-02-11T11:33:00.180Z"
   },
   {
    "duration": 28,
    "start_time": "2022-02-11T11:33:00.194Z"
   },
   {
    "duration": 5,
    "start_time": "2022-02-11T11:33:00.224Z"
   },
   {
    "duration": 53,
    "start_time": "2022-02-11T11:33:00.230Z"
   },
   {
    "duration": 8,
    "start_time": "2022-02-11T11:33:00.285Z"
   },
   {
    "duration": 15,
    "start_time": "2022-02-11T11:33:00.294Z"
   },
   {
    "duration": 38,
    "start_time": "2022-02-11T11:33:00.311Z"
   },
   {
    "duration": 29,
    "start_time": "2022-02-11T11:33:00.351Z"
   },
   {
    "duration": 14,
    "start_time": "2022-02-11T11:33:00.382Z"
   },
   {
    "duration": 27,
    "start_time": "2022-02-11T11:33:00.398Z"
   },
   {
    "duration": 32,
    "start_time": "2022-02-11T11:33:00.427Z"
   },
   {
    "duration": 12,
    "start_time": "2022-02-11T11:33:00.461Z"
   },
   {
    "duration": 8,
    "start_time": "2022-02-11T11:33:00.475Z"
   },
   {
    "duration": 16,
    "start_time": "2022-02-11T11:33:00.485Z"
   },
   {
    "duration": 10,
    "start_time": "2022-02-11T11:33:00.503Z"
   },
   {
    "duration": 21,
    "start_time": "2022-02-11T11:33:00.514Z"
   },
   {
    "duration": 17,
    "start_time": "2022-02-11T11:33:00.538Z"
   },
   {
    "duration": 11,
    "start_time": "2022-02-11T11:33:00.557Z"
   },
   {
    "duration": 7,
    "start_time": "2022-02-11T11:33:00.569Z"
   },
   {
    "duration": 7,
    "start_time": "2022-02-11T11:33:00.577Z"
   },
   {
    "duration": 54,
    "start_time": "2022-02-11T11:33:00.586Z"
   },
   {
    "duration": 45,
    "start_time": "2022-02-11T11:33:00.642Z"
   },
   {
    "duration": 2,
    "start_time": "2022-02-11T11:33:00.689Z"
   },
   {
    "duration": 23,
    "start_time": "2022-02-11T11:33:00.693Z"
   },
   {
    "duration": 2,
    "start_time": "2022-02-11T11:33:00.718Z"
   },
   {
    "duration": 59,
    "start_time": "2022-02-11T11:33:00.722Z"
   },
   {
    "duration": 3,
    "start_time": "2022-02-11T11:33:00.783Z"
   },
   {
    "duration": 17,
    "start_time": "2022-02-11T11:33:00.788Z"
   },
   {
    "duration": 14,
    "start_time": "2022-02-11T11:33:00.806Z"
   },
   {
    "duration": 11,
    "start_time": "2022-02-11T11:33:00.822Z"
   },
   {
    "duration": 7,
    "start_time": "2022-02-11T11:33:00.835Z"
   },
   {
    "duration": 45,
    "start_time": "2022-02-11T11:33:00.844Z"
   },
   {
    "duration": 8,
    "start_time": "2022-02-11T11:33:00.891Z"
   },
   {
    "duration": 4,
    "start_time": "2022-02-11T11:33:00.901Z"
   },
   {
    "duration": 5,
    "start_time": "2022-02-11T11:33:00.907Z"
   },
   {
    "duration": 6,
    "start_time": "2022-02-11T11:33:00.914Z"
   },
   {
    "duration": 211,
    "start_time": "2022-02-11T11:33:00.922Z"
   },
   {
    "duration": 34,
    "start_time": "2022-02-11T11:33:01.135Z"
   },
   {
    "duration": 6,
    "start_time": "2022-02-11T12:29:50.946Z"
   },
   {
    "duration": 20,
    "start_time": "2022-02-11T12:29:53.594Z"
   },
   {
    "duration": 1122,
    "start_time": "2022-02-12T07:17:07.043Z"
   },
   {
    "duration": 2,
    "start_time": "2022-02-12T07:17:08.167Z"
   },
   {
    "duration": 4,
    "start_time": "2022-02-12T07:17:08.171Z"
   },
   {
    "duration": 1661,
    "start_time": "2022-02-12T07:17:08.176Z"
   },
   {
    "duration": 28,
    "start_time": "2022-02-12T07:17:09.839Z"
   },
   {
    "duration": 10,
    "start_time": "2022-02-12T07:17:09.868Z"
   },
   {
    "duration": 26,
    "start_time": "2022-02-12T07:17:09.880Z"
   },
   {
    "duration": 4,
    "start_time": "2022-02-12T07:17:09.909Z"
   },
   {
    "duration": 27,
    "start_time": "2022-02-12T07:17:09.915Z"
   },
   {
    "duration": 30,
    "start_time": "2022-02-12T07:17:09.943Z"
   },
   {
    "duration": 9,
    "start_time": "2022-02-12T07:17:09.974Z"
   },
   {
    "duration": 28,
    "start_time": "2022-02-12T07:17:09.984Z"
   },
   {
    "duration": 20,
    "start_time": "2022-02-12T07:17:10.013Z"
   },
   {
    "duration": 9,
    "start_time": "2022-02-12T07:17:10.035Z"
   },
   {
    "duration": 42,
    "start_time": "2022-02-12T07:17:10.045Z"
   },
   {
    "duration": 5,
    "start_time": "2022-02-12T07:17:10.088Z"
   },
   {
    "duration": 10,
    "start_time": "2022-02-12T07:17:10.095Z"
   },
   {
    "duration": 4,
    "start_time": "2022-02-12T07:17:10.107Z"
   },
   {
    "duration": 7,
    "start_time": "2022-02-12T07:17:10.113Z"
   },
   {
    "duration": 7,
    "start_time": "2022-02-12T07:17:10.122Z"
   },
   {
    "duration": 10,
    "start_time": "2022-02-12T07:17:10.130Z"
   },
   {
    "duration": 29,
    "start_time": "2022-02-12T07:17:10.142Z"
   },
   {
    "duration": 2,
    "start_time": "2022-02-12T07:17:10.175Z"
   },
   {
    "duration": 4,
    "start_time": "2022-02-12T07:17:10.179Z"
   },
   {
    "duration": 11,
    "start_time": "2022-02-12T07:17:10.184Z"
   },
   {
    "duration": 50,
    "start_time": "2022-02-12T07:17:10.196Z"
   },
   {
    "duration": 55,
    "start_time": "2022-02-12T07:17:10.247Z"
   },
   {
    "duration": 3,
    "start_time": "2022-02-12T07:17:10.304Z"
   },
   {
    "duration": 31,
    "start_time": "2022-02-12T07:17:10.309Z"
   },
   {
    "duration": 3,
    "start_time": "2022-02-12T07:17:10.341Z"
   },
   {
    "duration": 49,
    "start_time": "2022-02-12T07:17:10.346Z"
   },
   {
    "duration": 4,
    "start_time": "2022-02-12T07:17:10.396Z"
   },
   {
    "duration": 10,
    "start_time": "2022-02-12T07:17:10.401Z"
   },
   {
    "duration": 16,
    "start_time": "2022-02-12T07:17:10.413Z"
   },
   {
    "duration": 11,
    "start_time": "2022-02-12T07:17:10.431Z"
   },
   {
    "duration": 11,
    "start_time": "2022-02-12T07:17:10.444Z"
   },
   {
    "duration": 35,
    "start_time": "2022-02-12T07:17:10.457Z"
   },
   {
    "duration": 8,
    "start_time": "2022-02-12T07:17:10.494Z"
   },
   {
    "duration": 4,
    "start_time": "2022-02-12T07:17:10.504Z"
   },
   {
    "duration": 8,
    "start_time": "2022-02-12T07:17:10.510Z"
   },
   {
    "duration": 8,
    "start_time": "2022-02-12T07:17:10.520Z"
   },
   {
    "duration": 193,
    "start_time": "2022-02-12T07:17:10.529Z"
   },
   {
    "duration": 7,
    "start_time": "2022-02-12T07:17:10.723Z"
   },
   {
    "duration": 17,
    "start_time": "2022-02-12T07:17:10.732Z"
   },
   {
    "duration": 26,
    "start_time": "2022-02-12T07:17:17.349Z"
   },
   {
    "duration": 24,
    "start_time": "2022-02-12T07:17:39.332Z"
   },
   {
    "duration": 19,
    "start_time": "2022-02-12T07:28:19.451Z"
   },
   {
    "duration": 2,
    "start_time": "2022-02-12T07:38:17.690Z"
   },
   {
    "duration": 18,
    "start_time": "2022-02-12T07:38:18.370Z"
   },
   {
    "duration": 15,
    "start_time": "2022-02-12T07:47:53.803Z"
   },
   {
    "duration": 46,
    "start_time": "2022-02-12T07:56:18.139Z"
   },
   {
    "duration": 7728,
    "start_time": "2022-02-12T07:57:02.146Z"
   },
   {
    "duration": 15,
    "start_time": "2022-02-12T07:57:11.003Z"
   },
   {
    "duration": 314,
    "start_time": "2022-02-12T07:58:08.905Z"
   },
   {
    "duration": 15,
    "start_time": "2022-02-12T07:58:12.657Z"
   },
   {
    "duration": 15,
    "start_time": "2022-02-12T07:58:18.212Z"
   },
   {
    "duration": 8283,
    "start_time": "2022-02-12T07:59:59.144Z"
   },
   {
    "duration": 5,
    "start_time": "2022-02-12T08:00:31.939Z"
   },
   {
    "duration": 22,
    "start_time": "2022-02-12T08:00:33.616Z"
   },
   {
    "duration": 43,
    "start_time": "2022-02-12T08:00:55.496Z"
   },
   {
    "duration": 44,
    "start_time": "2022-02-12T08:01:37.638Z"
   },
   {
    "duration": 4,
    "start_time": "2022-02-12T08:02:56.902Z"
   },
   {
    "duration": 21,
    "start_time": "2022-02-12T08:04:06.606Z"
   },
   {
    "duration": 4,
    "start_time": "2022-02-12T08:05:46.355Z"
   },
   {
    "duration": 22,
    "start_time": "2022-02-12T08:05:55.434Z"
   },
   {
    "duration": 27,
    "start_time": "2022-02-12T08:06:44.509Z"
   },
   {
    "duration": 34,
    "start_time": "2022-02-12T08:06:52.818Z"
   },
   {
    "duration": 29,
    "start_time": "2022-02-12T08:07:12.874Z"
   },
   {
    "duration": 1657,
    "start_time": "2022-02-12T08:48:40.191Z"
   },
   {
    "duration": 1858,
    "start_time": "2022-02-12T08:48:59.727Z"
   },
   {
    "duration": 2269,
    "start_time": "2022-02-12T08:49:18.582Z"
   },
   {
    "duration": 2282,
    "start_time": "2022-02-12T08:50:15.158Z"
   },
   {
    "duration": 335,
    "start_time": "2022-02-12T08:56:26.928Z"
   },
   {
    "duration": 303,
    "start_time": "2022-02-12T08:57:33.034Z"
   },
   {
    "duration": 417,
    "start_time": "2022-02-12T08:57:39.919Z"
   },
   {
    "duration": 238,
    "start_time": "2022-02-12T08:58:30.647Z"
   },
   {
    "duration": 188,
    "start_time": "2022-02-12T08:58:41.961Z"
   },
   {
    "duration": 457,
    "start_time": "2022-02-12T08:58:46.638Z"
   },
   {
    "duration": 315,
    "start_time": "2022-02-12T08:58:54.566Z"
   },
   {
    "duration": 738,
    "start_time": "2022-02-12T08:59:06.015Z"
   },
   {
    "duration": 391,
    "start_time": "2022-02-12T08:59:23.878Z"
   },
   {
    "duration": 316,
    "start_time": "2022-02-12T08:59:39.406Z"
   },
   {
    "duration": 8413,
    "start_time": "2022-02-12T09:14:37.488Z"
   },
   {
    "duration": 212,
    "start_time": "2022-02-12T09:14:57.697Z"
   },
   {
    "duration": 210,
    "start_time": "2022-02-12T09:15:40.319Z"
   },
   {
    "duration": 308,
    "start_time": "2022-02-12T09:15:56.319Z"
   },
   {
    "duration": 420,
    "start_time": "2022-02-12T09:17:02.055Z"
   },
   {
    "duration": 3320,
    "start_time": "2022-02-12T09:18:55.333Z"
   },
   {
    "duration": 33260,
    "start_time": "2022-02-12T09:19:15.517Z"
   },
   {
    "duration": 3317,
    "start_time": "2022-02-12T09:20:08.979Z"
   },
   {
    "duration": 1112,
    "start_time": "2022-02-12T09:20:22.267Z"
   },
   {
    "duration": 546,
    "start_time": "2022-02-12T09:20:33.339Z"
   },
   {
    "duration": 2274,
    "start_time": "2022-02-12T09:26:11.567Z"
   },
   {
    "duration": 22,
    "start_time": "2022-02-12T09:28:21.436Z"
   },
   {
    "duration": 20,
    "start_time": "2022-02-12T09:28:32.300Z"
   },
   {
    "duration": 20,
    "start_time": "2022-02-12T09:30:17.618Z"
   },
   {
    "duration": 21,
    "start_time": "2022-02-12T09:30:27.275Z"
   },
   {
    "duration": 47,
    "start_time": "2022-02-12T09:37:10.430Z"
   },
   {
    "duration": 23,
    "start_time": "2022-02-12T09:37:31.892Z"
   },
   {
    "duration": 25,
    "start_time": "2022-02-12T09:39:14.307Z"
   },
   {
    "duration": 27,
    "start_time": "2022-02-12T09:39:20.165Z"
   },
   {
    "duration": 306,
    "start_time": "2022-02-12T09:41:57.529Z"
   },
   {
    "duration": 640,
    "start_time": "2022-02-12T09:42:20.385Z"
   },
   {
    "duration": 9,
    "start_time": "2022-02-12T09:44:16.912Z"
   },
   {
    "duration": 7,
    "start_time": "2022-02-12T09:44:42.463Z"
   },
   {
    "duration": 7,
    "start_time": "2022-02-12T09:46:29.389Z"
   },
   {
    "duration": 227,
    "start_time": "2022-02-12T09:59:30.234Z"
   },
   {
    "duration": 328,
    "start_time": "2022-02-12T10:00:15.674Z"
   },
   {
    "duration": 563,
    "start_time": "2022-02-12T10:00:45.730Z"
   },
   {
    "duration": 344,
    "start_time": "2022-02-12T10:01:04.625Z"
   },
   {
    "duration": 1051,
    "start_time": "2022-02-12T10:02:14.716Z"
   },
   {
    "duration": 2,
    "start_time": "2022-02-12T10:02:15.769Z"
   },
   {
    "duration": 4,
    "start_time": "2022-02-12T10:02:15.773Z"
   },
   {
    "duration": 1653,
    "start_time": "2022-02-12T10:02:15.779Z"
   },
   {
    "duration": 28,
    "start_time": "2022-02-12T10:02:17.434Z"
   },
   {
    "duration": 10,
    "start_time": "2022-02-12T10:02:17.463Z"
   },
   {
    "duration": 27,
    "start_time": "2022-02-12T10:02:17.474Z"
   },
   {
    "duration": 4,
    "start_time": "2022-02-12T10:02:17.503Z"
   },
   {
    "duration": 23,
    "start_time": "2022-02-12T10:02:17.509Z"
   },
   {
    "duration": 7,
    "start_time": "2022-02-12T10:02:17.534Z"
   },
   {
    "duration": 32,
    "start_time": "2022-02-12T10:02:17.543Z"
   },
   {
    "duration": 25,
    "start_time": "2022-02-12T10:02:17.577Z"
   },
   {
    "duration": 20,
    "start_time": "2022-02-12T10:02:17.604Z"
   },
   {
    "duration": 11,
    "start_time": "2022-02-12T10:02:17.626Z"
   },
   {
    "duration": 51,
    "start_time": "2022-02-12T10:02:17.639Z"
   },
   {
    "duration": 7,
    "start_time": "2022-02-12T10:02:17.692Z"
   },
   {
    "duration": 8,
    "start_time": "2022-02-12T10:02:17.701Z"
   },
   {
    "duration": 6,
    "start_time": "2022-02-12T10:02:17.711Z"
   },
   {
    "duration": 8,
    "start_time": "2022-02-12T10:02:17.718Z"
   },
   {
    "duration": 8,
    "start_time": "2022-02-12T10:02:17.728Z"
   },
   {
    "duration": 42,
    "start_time": "2022-02-12T10:02:17.738Z"
   },
   {
    "duration": 3,
    "start_time": "2022-02-12T10:02:17.782Z"
   },
   {
    "duration": 5,
    "start_time": "2022-02-12T10:02:17.788Z"
   },
   {
    "duration": 7,
    "start_time": "2022-02-12T10:02:17.795Z"
   },
   {
    "duration": 8,
    "start_time": "2022-02-12T10:02:17.804Z"
   },
   {
    "duration": 62,
    "start_time": "2022-02-12T10:02:17.814Z"
   },
   {
    "duration": 41,
    "start_time": "2022-02-12T10:02:17.877Z"
   },
   {
    "duration": 3,
    "start_time": "2022-02-12T10:02:17.920Z"
   },
   {
    "duration": 19,
    "start_time": "2022-02-12T10:02:17.924Z"
   },
   {
    "duration": 3,
    "start_time": "2022-02-12T10:02:17.945Z"
   },
   {
    "duration": 56,
    "start_time": "2022-02-12T10:02:17.949Z"
   },
   {
    "duration": 3,
    "start_time": "2022-02-12T10:02:18.007Z"
   },
   {
    "duration": 9,
    "start_time": "2022-02-12T10:02:18.011Z"
   },
   {
    "duration": 6,
    "start_time": "2022-02-12T10:02:18.021Z"
   },
   {
    "duration": 10,
    "start_time": "2022-02-12T10:02:18.028Z"
   },
   {
    "duration": 10,
    "start_time": "2022-02-12T10:02:18.039Z"
   },
   {
    "duration": 39,
    "start_time": "2022-02-12T10:02:18.051Z"
   },
   {
    "duration": 8,
    "start_time": "2022-02-12T10:02:18.091Z"
   },
   {
    "duration": 5,
    "start_time": "2022-02-12T10:02:18.100Z"
   },
   {
    "duration": 7,
    "start_time": "2022-02-12T10:02:18.106Z"
   },
   {
    "duration": 8,
    "start_time": "2022-02-12T10:02:18.114Z"
   },
   {
    "duration": 199,
    "start_time": "2022-02-12T10:02:18.124Z"
   },
   {
    "duration": 8,
    "start_time": "2022-02-12T10:02:18.324Z"
   },
   {
    "duration": 16,
    "start_time": "2022-02-12T10:02:18.333Z"
   },
   {
    "duration": 36,
    "start_time": "2022-02-12T10:02:18.351Z"
   },
   {
    "duration": 6,
    "start_time": "2022-02-12T10:02:18.388Z"
   },
   {
    "duration": 4,
    "start_time": "2022-02-12T10:02:18.395Z"
   },
   {
    "duration": 23,
    "start_time": "2022-02-12T10:02:18.400Z"
   },
   {
    "duration": 5,
    "start_time": "2022-02-12T10:02:18.424Z"
   },
   {
    "duration": 3,
    "start_time": "2022-02-12T10:02:18.431Z"
   },
   {
    "duration": 51,
    "start_time": "2022-02-12T10:02:18.436Z"
   },
   {
    "duration": 5,
    "start_time": "2022-02-12T10:02:18.489Z"
   },
   {
    "duration": 331,
    "start_time": "2022-02-12T10:02:18.496Z"
   },
   {
    "duration": 228,
    "start_time": "2022-02-12T10:02:18.828Z"
   },
   {
    "duration": 599,
    "start_time": "2022-02-12T10:02:19.057Z"
   },
   {
    "duration": 1495,
    "start_time": "2022-02-13T08:24:11.644Z"
   },
   {
    "duration": 3,
    "start_time": "2022-02-13T08:24:13.142Z"
   },
   {
    "duration": 22,
    "start_time": "2022-02-13T08:24:13.148Z"
   },
   {
    "duration": 2694,
    "start_time": "2022-02-13T08:24:13.173Z"
   },
   {
    "duration": 36,
    "start_time": "2022-02-13T08:24:15.869Z"
   },
   {
    "duration": 17,
    "start_time": "2022-02-13T08:24:15.907Z"
   },
   {
    "duration": 51,
    "start_time": "2022-02-13T08:24:15.927Z"
   },
   {
    "duration": 6,
    "start_time": "2022-02-13T08:24:15.980Z"
   },
   {
    "duration": 62,
    "start_time": "2022-02-13T08:24:15.992Z"
   },
   {
    "duration": 12,
    "start_time": "2022-02-13T08:24:16.058Z"
   },
   {
    "duration": 16,
    "start_time": "2022-02-13T08:24:16.072Z"
   },
   {
    "duration": 59,
    "start_time": "2022-02-13T08:24:16.090Z"
   },
   {
    "duration": 30,
    "start_time": "2022-02-13T08:24:16.152Z"
   },
   {
    "duration": 15,
    "start_time": "2022-02-13T08:24:16.185Z"
   },
   {
    "duration": 60,
    "start_time": "2022-02-13T08:24:16.202Z"
   },
   {
    "duration": 9,
    "start_time": "2022-02-13T08:24:16.265Z"
   },
   {
    "duration": 16,
    "start_time": "2022-02-13T08:24:16.277Z"
   },
   {
    "duration": 8,
    "start_time": "2022-02-13T08:24:16.296Z"
   },
   {
    "duration": 43,
    "start_time": "2022-02-13T08:24:16.306Z"
   },
   {
    "duration": 11,
    "start_time": "2022-02-13T08:24:16.352Z"
   },
   {
    "duration": 17,
    "start_time": "2022-02-13T08:24:16.365Z"
   },
   {
    "duration": 3,
    "start_time": "2022-02-13T08:24:16.384Z"
   },
   {
    "duration": 7,
    "start_time": "2022-02-13T08:24:16.389Z"
   },
   {
    "duration": 7,
    "start_time": "2022-02-13T08:24:16.398Z"
   },
   {
    "duration": 5,
    "start_time": "2022-02-13T08:24:16.408Z"
   },
   {
    "duration": 69,
    "start_time": "2022-02-13T08:24:16.448Z"
   },
   {
    "duration": 83,
    "start_time": "2022-02-13T08:24:16.523Z"
   },
   {
    "duration": 4,
    "start_time": "2022-02-13T08:24:16.609Z"
   },
   {
    "duration": 47,
    "start_time": "2022-02-13T08:24:16.616Z"
   },
   {
    "duration": 4,
    "start_time": "2022-02-13T08:24:16.665Z"
   },
   {
    "duration": 52,
    "start_time": "2022-02-13T08:24:16.672Z"
   },
   {
    "duration": 4,
    "start_time": "2022-02-13T08:24:16.726Z"
   },
   {
    "duration": 15,
    "start_time": "2022-02-13T08:24:16.749Z"
   },
   {
    "duration": 10,
    "start_time": "2022-02-13T08:24:16.766Z"
   },
   {
    "duration": 15,
    "start_time": "2022-02-13T08:24:16.778Z"
   },
   {
    "duration": 19,
    "start_time": "2022-02-13T08:24:16.795Z"
   },
   {
    "duration": 63,
    "start_time": "2022-02-13T08:24:16.817Z"
   },
   {
    "duration": 12,
    "start_time": "2022-02-13T08:24:16.883Z"
   },
   {
    "duration": 7,
    "start_time": "2022-02-13T08:24:16.897Z"
   },
   {
    "duration": 12,
    "start_time": "2022-02-13T08:24:16.907Z"
   },
   {
    "duration": 8,
    "start_time": "2022-02-13T08:24:16.921Z"
   },
   {
    "duration": 406,
    "start_time": "2022-02-13T08:24:16.931Z"
   },
   {
    "duration": 29,
    "start_time": "2022-02-13T08:24:17.340Z"
   },
   {
    "duration": 28,
    "start_time": "2022-02-13T08:24:17.372Z"
   },
   {
    "duration": 56,
    "start_time": "2022-02-13T08:24:17.402Z"
   },
   {
    "duration": 9,
    "start_time": "2022-02-13T08:24:17.460Z"
   },
   {
    "duration": 8,
    "start_time": "2022-02-13T08:24:17.472Z"
   },
   {
    "duration": 68,
    "start_time": "2022-02-13T08:24:17.482Z"
   },
   {
    "duration": 9,
    "start_time": "2022-02-13T08:24:17.553Z"
   },
   {
    "duration": 8,
    "start_time": "2022-02-13T08:24:17.565Z"
   },
   {
    "duration": 42,
    "start_time": "2022-02-13T08:24:17.576Z"
   },
   {
    "duration": 11,
    "start_time": "2022-02-13T08:24:17.648Z"
   },
   {
    "duration": 956,
    "start_time": "2022-02-13T08:24:17.661Z"
   },
   {
    "duration": 465,
    "start_time": "2022-02-13T08:24:18.620Z"
   },
   {
    "duration": 1115,
    "start_time": "2022-02-13T08:24:19.088Z"
   },
   {
    "duration": 292,
    "start_time": "2022-02-13T08:24:54.134Z"
   },
   {
    "duration": 411,
    "start_time": "2022-02-13T08:25:21.375Z"
   },
   {
    "duration": 382,
    "start_time": "2022-02-13T08:25:37.847Z"
   },
   {
    "duration": 859,
    "start_time": "2022-02-13T08:27:32.430Z"
   },
   {
    "duration": 877,
    "start_time": "2022-02-13T08:29:25.203Z"
   },
   {
    "duration": 1161,
    "start_time": "2022-02-13T08:29:41.853Z"
   },
   {
    "duration": 839,
    "start_time": "2022-02-13T08:29:51.395Z"
   },
   {
    "duration": 918,
    "start_time": "2022-02-13T08:30:03.468Z"
   },
   {
    "duration": 1175,
    "start_time": "2022-02-13T08:30:22.388Z"
   },
   {
    "duration": 982,
    "start_time": "2022-02-13T08:30:34.106Z"
   },
   {
    "duration": 4,
    "start_time": "2022-02-13T08:32:09.137Z"
   },
   {
    "duration": 750,
    "start_time": "2022-02-13T08:33:30.176Z"
   },
   {
    "duration": 736,
    "start_time": "2022-02-13T08:33:50.304Z"
   },
   {
    "duration": 607,
    "start_time": "2022-02-13T08:33:58.513Z"
   },
   {
    "duration": 629,
    "start_time": "2022-02-13T08:34:04.223Z"
   },
   {
    "duration": 2374,
    "start_time": "2022-02-13T08:34:14.551Z"
   },
   {
    "duration": 618,
    "start_time": "2022-02-13T08:34:22.806Z"
   },
   {
    "duration": 698,
    "start_time": "2022-02-13T08:34:36.623Z"
   },
   {
    "duration": 1000,
    "start_time": "2022-02-13T08:34:47.727Z"
   },
   {
    "duration": 639,
    "start_time": "2022-02-13T08:35:31.184Z"
   },
   {
    "duration": 1048,
    "start_time": "2022-02-13T08:35:42.840Z"
   },
   {
    "duration": 986,
    "start_time": "2022-02-13T08:51:16.690Z"
   },
   {
    "duration": 1006,
    "start_time": "2022-02-13T08:51:30.129Z"
   },
   {
    "duration": 1061,
    "start_time": "2022-02-13T08:51:45.808Z"
   },
   {
    "duration": 606,
    "start_time": "2022-02-13T08:51:54.537Z"
   },
   {
    "duration": 411,
    "start_time": "2022-02-13T09:01:06.344Z"
   },
   {
    "duration": 409,
    "start_time": "2022-02-13T09:01:12.432Z"
   },
   {
    "duration": 7,
    "start_time": "2022-02-13T09:09:40.954Z"
   },
   {
    "duration": 6,
    "start_time": "2022-02-13T09:10:32.202Z"
   },
   {
    "duration": 906,
    "start_time": "2022-02-13T09:11:55.256Z"
   },
   {
    "duration": 5,
    "start_time": "2022-02-13T09:12:40.399Z"
   },
   {
    "duration": 6,
    "start_time": "2022-02-13T09:13:36.142Z"
   },
   {
    "duration": 302,
    "start_time": "2022-02-13T09:15:26.980Z"
   },
   {
    "duration": 5,
    "start_time": "2022-02-13T09:15:34.886Z"
   },
   {
    "duration": 6,
    "start_time": "2022-02-13T09:16:03.398Z"
   },
   {
    "duration": 7,
    "start_time": "2022-02-13T09:16:11.669Z"
   },
   {
    "duration": 108,
    "start_time": "2022-02-13T09:16:29.451Z"
   },
   {
    "duration": 291,
    "start_time": "2022-02-13T09:16:32.654Z"
   },
   {
    "duration": 5,
    "start_time": "2022-02-13T09:16:53.685Z"
   },
   {
    "duration": 6,
    "start_time": "2022-02-13T09:17:43.714Z"
   },
   {
    "duration": 91,
    "start_time": "2022-02-13T09:17:59.026Z"
   },
   {
    "duration": 99,
    "start_time": "2022-02-13T09:18:03.190Z"
   },
   {
    "duration": 6,
    "start_time": "2022-02-13T09:18:11.597Z"
   },
   {
    "duration": 7,
    "start_time": "2022-02-13T09:18:19.074Z"
   },
   {
    "duration": 5,
    "start_time": "2022-02-13T09:18:40.603Z"
   },
   {
    "duration": 26,
    "start_time": "2022-02-13T09:20:19.568Z"
   },
   {
    "duration": 13,
    "start_time": "2022-02-13T09:21:02.099Z"
   },
   {
    "duration": 7,
    "start_time": "2022-02-13T09:21:07.448Z"
   },
   {
    "duration": 345,
    "start_time": "2022-02-13T09:21:37.912Z"
   },
   {
    "duration": 279,
    "start_time": "2022-02-13T09:21:44.008Z"
   },
   {
    "duration": 119,
    "start_time": "2022-02-13T09:23:21.615Z"
   },
   {
    "duration": 282,
    "start_time": "2022-02-13T09:23:25.142Z"
   },
   {
    "duration": 13,
    "start_time": "2022-02-13T09:23:40.800Z"
   },
   {
    "duration": 121,
    "start_time": "2022-02-13T09:23:54.549Z"
   },
   {
    "duration": 12,
    "start_time": "2022-02-13T09:24:01.334Z"
   },
   {
    "duration": 6,
    "start_time": "2022-02-13T09:24:34.597Z"
   },
   {
    "duration": 5,
    "start_time": "2022-02-13T09:24:44.677Z"
   },
   {
    "duration": 5,
    "start_time": "2022-02-13T09:24:56.471Z"
   },
   {
    "duration": 5,
    "start_time": "2022-02-13T09:25:25.421Z"
   },
   {
    "duration": 5,
    "start_time": "2022-02-13T09:25:33.059Z"
   },
   {
    "duration": 6,
    "start_time": "2022-02-13T09:25:44.868Z"
   },
   {
    "duration": 1539,
    "start_time": "2022-02-13T09:32:37.169Z"
   },
   {
    "duration": 3,
    "start_time": "2022-02-13T09:32:38.711Z"
   },
   {
    "duration": 10,
    "start_time": "2022-02-13T09:32:38.717Z"
   },
   {
    "duration": 2596,
    "start_time": "2022-02-13T09:32:38.730Z"
   },
   {
    "duration": 36,
    "start_time": "2022-02-13T09:32:41.328Z"
   },
   {
    "duration": 15,
    "start_time": "2022-02-13T09:32:41.367Z"
   },
   {
    "duration": 63,
    "start_time": "2022-02-13T09:32:41.385Z"
   },
   {
    "duration": 7,
    "start_time": "2022-02-13T09:32:41.454Z"
   },
   {
    "duration": 35,
    "start_time": "2022-02-13T09:32:41.464Z"
   },
   {
    "duration": 12,
    "start_time": "2022-02-13T09:32:41.502Z"
   },
   {
    "duration": 15,
    "start_time": "2022-02-13T09:32:41.550Z"
   },
   {
    "duration": 40,
    "start_time": "2022-02-13T09:32:41.568Z"
   },
   {
    "duration": 55,
    "start_time": "2022-02-13T09:32:41.611Z"
   },
   {
    "duration": 16,
    "start_time": "2022-02-13T09:32:41.670Z"
   },
   {
    "duration": 72,
    "start_time": "2022-02-13T09:32:41.689Z"
   },
   {
    "duration": 9,
    "start_time": "2022-02-13T09:32:41.763Z"
   },
   {
    "duration": 15,
    "start_time": "2022-02-13T09:32:41.774Z"
   },
   {
    "duration": 6,
    "start_time": "2022-02-13T09:32:41.791Z"
   },
   {
    "duration": 14,
    "start_time": "2022-02-13T09:32:41.799Z"
   },
   {
    "duration": 40,
    "start_time": "2022-02-13T09:32:41.815Z"
   },
   {
    "duration": 26,
    "start_time": "2022-02-13T09:32:41.858Z"
   },
   {
    "duration": 6,
    "start_time": "2022-02-13T09:32:41.887Z"
   },
   {
    "duration": 3,
    "start_time": "2022-02-13T09:32:41.899Z"
   },
   {
    "duration": 6,
    "start_time": "2022-02-13T09:32:41.905Z"
   },
   {
    "duration": 34,
    "start_time": "2022-02-13T09:32:41.914Z"
   },
   {
    "duration": 77,
    "start_time": "2022-02-13T09:32:41.951Z"
   },
   {
    "duration": 72,
    "start_time": "2022-02-13T09:32:42.031Z"
   },
   {
    "duration": 5,
    "start_time": "2022-02-13T09:32:42.105Z"
   },
   {
    "duration": 53,
    "start_time": "2022-02-13T09:32:42.112Z"
   },
   {
    "duration": 4,
    "start_time": "2022-02-13T09:32:42.168Z"
   },
   {
    "duration": 72,
    "start_time": "2022-02-13T09:32:42.177Z"
   },
   {
    "duration": 4,
    "start_time": "2022-02-13T09:32:42.251Z"
   },
   {
    "duration": 18,
    "start_time": "2022-02-13T09:32:42.257Z"
   },
   {
    "duration": 11,
    "start_time": "2022-02-13T09:32:42.277Z"
   },
   {
    "duration": 14,
    "start_time": "2022-02-13T09:32:42.290Z"
   },
   {
    "duration": 46,
    "start_time": "2022-02-13T09:32:42.307Z"
   },
   {
    "duration": 36,
    "start_time": "2022-02-13T09:32:42.356Z"
   },
   {
    "duration": 11,
    "start_time": "2022-02-13T09:32:42.394Z"
   },
   {
    "duration": 7,
    "start_time": "2022-02-13T09:32:42.408Z"
   },
   {
    "duration": 31,
    "start_time": "2022-02-13T09:32:42.417Z"
   },
   {
    "duration": 11,
    "start_time": "2022-02-13T09:32:42.451Z"
   },
   {
    "duration": 343,
    "start_time": "2022-02-13T09:32:42.464Z"
   },
   {
    "duration": 11,
    "start_time": "2022-02-13T09:32:42.809Z"
   },
   {
    "duration": 41,
    "start_time": "2022-02-13T09:32:42.822Z"
   },
   {
    "duration": 38,
    "start_time": "2022-02-13T09:32:42.865Z"
   },
   {
    "duration": 9,
    "start_time": "2022-02-13T09:32:42.905Z"
   },
   {
    "duration": 33,
    "start_time": "2022-02-13T09:32:42.916Z"
   },
   {
    "duration": 623,
    "start_time": "2022-02-13T09:32:42.951Z"
   },
   {
    "duration": 6,
    "start_time": "2022-02-13T09:32:43.577Z"
   },
   {
    "duration": 64,
    "start_time": "2022-02-13T09:32:43.585Z"
   },
   {
    "duration": 10,
    "start_time": "2022-02-13T09:32:43.651Z"
   },
   {
    "duration": 7,
    "start_time": "2022-02-13T09:32:43.663Z"
   },
   {
    "duration": 43,
    "start_time": "2022-02-13T09:32:43.672Z"
   },
   {
    "duration": 10,
    "start_time": "2022-02-13T09:32:43.748Z"
   },
   {
    "duration": 565,
    "start_time": "2022-02-13T09:32:43.761Z"
   },
   {
    "duration": 410,
    "start_time": "2022-02-13T09:32:44.328Z"
   },
   {
    "duration": 1069,
    "start_time": "2022-02-13T09:32:44.741Z"
   },
   {
    "duration": 563,
    "start_time": "2022-02-13T09:32:45.812Z"
   },
   {
    "duration": 6,
    "start_time": "2022-02-13T09:32:46.377Z"
   },
   {
    "duration": 9,
    "start_time": "2022-02-13T09:32:46.385Z"
   },
   {
    "duration": 6,
    "start_time": "2022-02-13T09:32:46.396Z"
   },
   {
    "duration": 46,
    "start_time": "2022-02-13T09:32:46.405Z"
   },
   {
    "duration": 7,
    "start_time": "2022-02-13T09:32:46.453Z"
   },
   {
    "duration": 7,
    "start_time": "2022-02-13T09:32:46.463Z"
   },
   {
    "duration": 8,
    "start_time": "2022-02-13T10:05:00.801Z"
   },
   {
    "duration": 11,
    "start_time": "2022-02-13T10:05:12.922Z"
   },
   {
    "duration": 13,
    "start_time": "2022-02-13T10:05:18.705Z"
   },
   {
    "duration": 11,
    "start_time": "2022-02-13T10:05:23.185Z"
   },
   {
    "duration": 8,
    "start_time": "2022-02-13T10:05:39.978Z"
   },
   {
    "duration": 4,
    "start_time": "2022-02-13T10:06:15.270Z"
   },
   {
    "duration": 5,
    "start_time": "2022-02-13T10:07:03.744Z"
   },
   {
    "duration": 5,
    "start_time": "2022-02-13T10:07:28.161Z"
   },
   {
    "duration": 7,
    "start_time": "2022-02-13T10:12:41.371Z"
   },
   {
    "duration": 6,
    "start_time": "2022-02-13T10:15:05.330Z"
   },
   {
    "duration": 39,
    "start_time": "2022-02-13T10:15:08.985Z"
   },
   {
    "duration": 6,
    "start_time": "2022-02-13T10:15:45.786Z"
   },
   {
    "duration": 40,
    "start_time": "2022-02-13T10:15:50.825Z"
   },
   {
    "duration": 6,
    "start_time": "2022-02-13T10:16:01.744Z"
   },
   {
    "duration": 6,
    "start_time": "2022-02-13T10:17:06.776Z"
   },
   {
    "duration": 5,
    "start_time": "2022-02-13T10:17:16.082Z"
   },
   {
    "duration": 1569,
    "start_time": "2022-02-13T10:39:38.868Z"
   },
   {
    "duration": 3,
    "start_time": "2022-02-13T10:39:40.440Z"
   },
   {
    "duration": 4,
    "start_time": "2022-02-13T10:39:40.449Z"
   },
   {
    "duration": 2747,
    "start_time": "2022-02-13T10:39:40.456Z"
   },
   {
    "duration": 37,
    "start_time": "2022-02-13T10:39:43.206Z"
   },
   {
    "duration": 17,
    "start_time": "2022-02-13T10:39:43.248Z"
   },
   {
    "duration": 41,
    "start_time": "2022-02-13T10:39:43.268Z"
   },
   {
    "duration": 36,
    "start_time": "2022-02-13T10:39:43.314Z"
   },
   {
    "duration": 36,
    "start_time": "2022-02-13T10:39:43.354Z"
   },
   {
    "duration": 13,
    "start_time": "2022-02-13T10:39:43.393Z"
   },
   {
    "duration": 49,
    "start_time": "2022-02-13T10:39:43.409Z"
   },
   {
    "duration": 37,
    "start_time": "2022-02-13T10:39:43.461Z"
   },
   {
    "duration": 49,
    "start_time": "2022-02-13T10:39:43.501Z"
   },
   {
    "duration": 18,
    "start_time": "2022-02-13T10:39:43.553Z"
   },
   {
    "duration": 28,
    "start_time": "2022-02-13T10:39:43.574Z"
   },
   {
    "duration": 47,
    "start_time": "2022-02-13T10:39:43.604Z"
   },
   {
    "duration": 20,
    "start_time": "2022-02-13T10:39:43.654Z"
   },
   {
    "duration": 13,
    "start_time": "2022-02-13T10:39:43.676Z"
   },
   {
    "duration": 13,
    "start_time": "2022-02-13T10:39:43.691Z"
   },
   {
    "duration": 14,
    "start_time": "2022-02-13T10:39:43.707Z"
   },
   {
    "duration": 20,
    "start_time": "2022-02-13T10:39:43.750Z"
   },
   {
    "duration": 6,
    "start_time": "2022-02-13T10:39:43.773Z"
   },
   {
    "duration": 3,
    "start_time": "2022-02-13T10:39:43.788Z"
   },
   {
    "duration": 6,
    "start_time": "2022-02-13T10:39:43.797Z"
   },
   {
    "duration": 44,
    "start_time": "2022-02-13T10:39:43.806Z"
   },
   {
    "duration": 86,
    "start_time": "2022-02-13T10:39:43.854Z"
   },
   {
    "duration": 100,
    "start_time": "2022-02-13T10:39:43.950Z"
   },
   {
    "duration": 4,
    "start_time": "2022-02-13T10:39:44.054Z"
   },
   {
    "duration": 30,
    "start_time": "2022-02-13T10:39:44.060Z"
   },
   {
    "duration": 3,
    "start_time": "2022-02-13T10:39:44.093Z"
   },
   {
    "duration": 84,
    "start_time": "2022-02-13T10:39:44.099Z"
   },
   {
    "duration": 3,
    "start_time": "2022-02-13T10:39:44.186Z"
   },
   {
    "duration": 17,
    "start_time": "2022-02-13T10:39:44.192Z"
   },
   {
    "duration": 38,
    "start_time": "2022-02-13T10:39:44.212Z"
   },
   {
    "duration": 15,
    "start_time": "2022-02-13T10:39:44.252Z"
   },
   {
    "duration": 14,
    "start_time": "2022-02-13T10:39:44.269Z"
   },
   {
    "duration": 70,
    "start_time": "2022-02-13T10:39:44.286Z"
   },
   {
    "duration": 13,
    "start_time": "2022-02-13T10:39:44.358Z"
   },
   {
    "duration": 9,
    "start_time": "2022-02-13T10:39:44.374Z"
   },
   {
    "duration": 8,
    "start_time": "2022-02-13T10:39:44.385Z"
   },
   {
    "duration": 9,
    "start_time": "2022-02-13T10:39:44.395Z"
   },
   {
    "duration": 688,
    "start_time": "2022-02-13T10:39:44.408Z"
   },
   {
    "duration": 14,
    "start_time": "2022-02-13T10:39:45.099Z"
   },
   {
    "duration": 55,
    "start_time": "2022-02-13T10:39:45.116Z"
   },
   {
    "duration": 77,
    "start_time": "2022-02-13T10:39:45.174Z"
   },
   {
    "duration": 14,
    "start_time": "2022-02-13T10:39:45.255Z"
   },
   {
    "duration": 3,
    "start_time": "2022-02-13T10:39:45.272Z"
   },
   {
    "duration": 946,
    "start_time": "2022-02-13T10:39:45.277Z"
   },
   {
    "duration": 10,
    "start_time": "2022-02-13T10:39:46.237Z"
   },
   {
    "duration": 124,
    "start_time": "2022-02-13T10:39:46.250Z"
   },
   {
    "duration": 13,
    "start_time": "2022-02-13T10:39:46.378Z"
   },
   {
    "duration": 6,
    "start_time": "2022-02-13T10:39:46.394Z"
   },
   {
    "duration": 72,
    "start_time": "2022-02-13T10:39:46.403Z"
   },
   {
    "duration": 10,
    "start_time": "2022-02-13T10:39:46.478Z"
   },
   {
    "duration": 616,
    "start_time": "2022-02-13T10:39:46.490Z"
   },
   {
    "duration": 523,
    "start_time": "2022-02-13T10:39:47.109Z"
   },
   {
    "duration": 1320,
    "start_time": "2022-02-13T10:39:47.635Z"
   },
   {
    "duration": 583,
    "start_time": "2022-02-13T10:39:48.958Z"
   },
   {
    "duration": 7,
    "start_time": "2022-02-13T10:39:49.547Z"
   },
   {
    "duration": 8,
    "start_time": "2022-02-13T10:39:49.557Z"
   },
   {
    "duration": 6,
    "start_time": "2022-02-13T10:39:49.568Z"
   },
   {
    "duration": 13,
    "start_time": "2022-02-13T10:39:49.576Z"
   },
   {
    "duration": 6,
    "start_time": "2022-02-13T10:39:49.591Z"
   },
   {
    "duration": 53,
    "start_time": "2022-02-13T10:39:49.599Z"
   },
   {
    "duration": 3,
    "start_time": "2022-02-13T10:39:49.654Z"
   },
   {
    "duration": 7,
    "start_time": "2022-02-13T10:39:49.660Z"
   },
   {
    "duration": 7,
    "start_time": "2022-02-13T10:39:49.670Z"
   },
   {
    "duration": 9,
    "start_time": "2022-02-13T10:39:49.684Z"
   },
   {
    "duration": 55,
    "start_time": "2022-02-13T10:39:49.696Z"
   },
   {
    "duration": 7,
    "start_time": "2022-02-13T10:39:49.753Z"
   },
   {
    "duration": 7,
    "start_time": "2022-02-13T10:39:49.762Z"
   },
   {
    "duration": 11,
    "start_time": "2022-02-13T10:39:49.771Z"
   },
   {
    "duration": 1546,
    "start_time": "2022-02-13T11:22:39.277Z"
   },
   {
    "duration": 3,
    "start_time": "2022-02-13T11:22:40.826Z"
   },
   {
    "duration": 16,
    "start_time": "2022-02-13T11:22:40.834Z"
   },
   {
    "duration": 2677,
    "start_time": "2022-02-13T11:22:40.853Z"
   },
   {
    "duration": 50,
    "start_time": "2022-02-13T11:22:43.533Z"
   },
   {
    "duration": 19,
    "start_time": "2022-02-13T11:22:43.587Z"
   },
   {
    "duration": 92,
    "start_time": "2022-02-13T11:22:43.609Z"
   },
   {
    "duration": 7,
    "start_time": "2022-02-13T11:22:43.707Z"
   },
   {
    "duration": 67,
    "start_time": "2022-02-13T11:22:43.717Z"
   },
   {
    "duration": 15,
    "start_time": "2022-02-13T11:22:43.787Z"
   },
   {
    "duration": 44,
    "start_time": "2022-02-13T11:22:43.806Z"
   },
   {
    "duration": 38,
    "start_time": "2022-02-13T11:22:43.853Z"
   },
   {
    "duration": 28,
    "start_time": "2022-02-13T11:22:43.894Z"
   },
   {
    "duration": 16,
    "start_time": "2022-02-13T11:22:43.949Z"
   },
   {
    "duration": 31,
    "start_time": "2022-02-13T11:22:43.968Z"
   },
   {
    "duration": 10,
    "start_time": "2022-02-13T11:22:44.001Z"
   },
   {
    "duration": 47,
    "start_time": "2022-02-13T11:22:44.013Z"
   },
   {
    "duration": 14,
    "start_time": "2022-02-13T11:22:44.063Z"
   },
   {
    "duration": 17,
    "start_time": "2022-02-13T11:22:44.080Z"
   },
   {
    "duration": 13,
    "start_time": "2022-02-13T11:22:44.100Z"
   },
   {
    "duration": 39,
    "start_time": "2022-02-13T11:22:44.115Z"
   },
   {
    "duration": 6,
    "start_time": "2022-02-13T11:22:44.157Z"
   },
   {
    "duration": 3,
    "start_time": "2022-02-13T11:22:44.170Z"
   },
   {
    "duration": 4,
    "start_time": "2022-02-13T11:22:44.178Z"
   },
   {
    "duration": 10,
    "start_time": "2022-02-13T11:22:44.184Z"
   },
   {
    "duration": 105,
    "start_time": "2022-02-13T11:22:44.197Z"
   },
   {
    "duration": 95,
    "start_time": "2022-02-13T11:22:44.305Z"
   },
   {
    "duration": 5,
    "start_time": "2022-02-13T11:22:44.403Z"
   },
   {
    "duration": 54,
    "start_time": "2022-02-13T11:22:44.410Z"
   },
   {
    "duration": 5,
    "start_time": "2022-02-13T11:22:44.467Z"
   },
   {
    "duration": 62,
    "start_time": "2022-02-13T11:22:44.475Z"
   },
   {
    "duration": 4,
    "start_time": "2022-02-13T11:22:44.550Z"
   },
   {
    "duration": 18,
    "start_time": "2022-02-13T11:22:44.558Z"
   },
   {
    "duration": 14,
    "start_time": "2022-02-13T11:22:44.579Z"
   },
   {
    "duration": 18,
    "start_time": "2022-02-13T11:22:44.596Z"
   },
   {
    "duration": 13,
    "start_time": "2022-02-13T11:22:44.649Z"
   },
   {
    "duration": 37,
    "start_time": "2022-02-13T11:22:44.664Z"
   },
   {
    "duration": 11,
    "start_time": "2022-02-13T11:22:44.704Z"
   },
   {
    "duration": 31,
    "start_time": "2022-02-13T11:22:44.717Z"
   },
   {
    "duration": 8,
    "start_time": "2022-02-13T11:22:44.751Z"
   },
   {
    "duration": 10,
    "start_time": "2022-02-13T11:22:44.761Z"
   },
   {
    "duration": 377,
    "start_time": "2022-02-13T11:22:44.773Z"
   },
   {
    "duration": 14,
    "start_time": "2022-02-13T11:22:45.153Z"
   },
   {
    "duration": 38,
    "start_time": "2022-02-13T11:22:45.170Z"
   },
   {
    "duration": 66,
    "start_time": "2022-02-13T11:22:45.211Z"
   },
   {
    "duration": 12,
    "start_time": "2022-02-13T11:22:45.280Z"
   },
   {
    "duration": 5,
    "start_time": "2022-02-13T11:22:45.295Z"
   },
   {
    "duration": 695,
    "start_time": "2022-02-13T11:22:45.303Z"
   },
   {
    "duration": 8,
    "start_time": "2022-02-13T11:22:46.000Z"
   },
   {
    "duration": 64,
    "start_time": "2022-02-13T11:22:46.011Z"
   },
   {
    "duration": 11,
    "start_time": "2022-02-13T11:22:46.079Z"
   },
   {
    "duration": 7,
    "start_time": "2022-02-13T11:22:46.093Z"
   },
   {
    "duration": 93,
    "start_time": "2022-02-13T11:22:46.102Z"
   },
   {
    "duration": 12,
    "start_time": "2022-02-13T11:22:46.198Z"
   },
   {
    "duration": 607,
    "start_time": "2022-02-13T11:22:46.213Z"
   },
   {
    "duration": 488,
    "start_time": "2022-02-13T11:22:46.824Z"
   },
   {
    "duration": 1043,
    "start_time": "2022-02-13T11:22:47.314Z"
   },
   {
    "duration": 649,
    "start_time": "2022-02-13T11:22:48.360Z"
   },
   {
    "duration": 7,
    "start_time": "2022-02-13T11:22:49.012Z"
   },
   {
    "duration": 36,
    "start_time": "2022-02-13T11:22:49.022Z"
   },
   {
    "duration": 11,
    "start_time": "2022-02-13T11:22:49.061Z"
   },
   {
    "duration": 29,
    "start_time": "2022-02-13T11:22:49.074Z"
   },
   {
    "duration": 17,
    "start_time": "2022-02-13T11:22:49.106Z"
   },
   {
    "duration": 11,
    "start_time": "2022-02-13T11:22:49.126Z"
   },
   {
    "duration": 17,
    "start_time": "2022-02-13T11:22:49.139Z"
   },
   {
    "duration": 11,
    "start_time": "2022-02-13T11:22:49.159Z"
   },
   {
    "duration": 14,
    "start_time": "2022-02-13T11:22:49.172Z"
   },
   {
    "duration": 8,
    "start_time": "2022-02-13T11:22:49.197Z"
   },
   {
    "duration": 7,
    "start_time": "2022-02-13T11:22:49.208Z"
   },
   {
    "duration": 32,
    "start_time": "2022-02-13T11:22:49.218Z"
   },
   {
    "duration": 5,
    "start_time": "2022-02-13T11:22:49.253Z"
   },
   {
    "duration": 6,
    "start_time": "2022-02-13T11:22:49.260Z"
   },
   {
    "duration": 1211,
    "start_time": "2022-02-19T10:28:48.876Z"
   },
   {
    "duration": 3,
    "start_time": "2022-02-19T10:28:50.089Z"
   },
   {
    "duration": 5,
    "start_time": "2022-02-19T10:28:50.095Z"
   },
   {
    "duration": 1891,
    "start_time": "2022-02-19T10:28:50.102Z"
   },
   {
    "duration": 29,
    "start_time": "2022-02-19T10:28:51.994Z"
   },
   {
    "duration": 11,
    "start_time": "2022-02-19T10:28:52.025Z"
   },
   {
    "duration": 28,
    "start_time": "2022-02-19T10:28:52.038Z"
   },
   {
    "duration": 6,
    "start_time": "2022-02-19T10:28:52.068Z"
   },
   {
    "duration": 56,
    "start_time": "2022-02-19T10:28:52.078Z"
   },
   {
    "duration": 8,
    "start_time": "2022-02-19T10:28:52.136Z"
   },
   {
    "duration": 10,
    "start_time": "2022-02-19T10:28:52.147Z"
   },
   {
    "duration": 28,
    "start_time": "2022-02-19T10:28:52.159Z"
   },
   {
    "duration": 46,
    "start_time": "2022-02-19T10:28:52.189Z"
   },
   {
    "duration": 9,
    "start_time": "2022-02-19T10:28:52.237Z"
   },
   {
    "duration": 21,
    "start_time": "2022-02-19T10:28:52.248Z"
   },
   {
    "duration": 6,
    "start_time": "2022-02-19T10:28:52.270Z"
   },
   {
    "duration": 15,
    "start_time": "2022-02-19T10:28:52.278Z"
   },
   {
    "duration": 4,
    "start_time": "2022-02-19T10:28:52.319Z"
   },
   {
    "duration": 9,
    "start_time": "2022-02-19T10:28:52.324Z"
   },
   {
    "duration": 8,
    "start_time": "2022-02-19T10:28:52.335Z"
   },
   {
    "duration": 18,
    "start_time": "2022-02-19T10:28:52.345Z"
   },
   {
    "duration": 2,
    "start_time": "2022-02-19T10:28:52.365Z"
   },
   {
    "duration": 5,
    "start_time": "2022-02-19T10:28:52.369Z"
   },
   {
    "duration": 4,
    "start_time": "2022-02-19T10:28:52.376Z"
   },
   {
    "duration": 8,
    "start_time": "2022-02-19T10:28:52.381Z"
   },
   {
    "duration": 69,
    "start_time": "2022-02-19T10:28:52.390Z"
   },
   {
    "duration": 44,
    "start_time": "2022-02-19T10:28:52.463Z"
   },
   {
    "duration": 8,
    "start_time": "2022-02-19T10:28:52.510Z"
   },
   {
    "duration": 19,
    "start_time": "2022-02-19T10:28:52.520Z"
   },
   {
    "duration": 3,
    "start_time": "2022-02-19T10:28:52.540Z"
   },
   {
    "duration": 64,
    "start_time": "2022-02-19T10:28:52.545Z"
   },
   {
    "duration": 3,
    "start_time": "2022-02-19T10:28:52.611Z"
   },
   {
    "duration": 9,
    "start_time": "2022-02-19T10:28:52.618Z"
   },
   {
    "duration": 7,
    "start_time": "2022-02-19T10:28:52.629Z"
   },
   {
    "duration": 10,
    "start_time": "2022-02-19T10:28:52.637Z"
   },
   {
    "duration": 8,
    "start_time": "2022-02-19T10:28:52.649Z"
   },
   {
    "duration": 26,
    "start_time": "2022-02-19T10:28:52.658Z"
   },
   {
    "duration": 37,
    "start_time": "2022-02-19T10:28:52.686Z"
   },
   {
    "duration": 5,
    "start_time": "2022-02-19T10:28:52.724Z"
   },
   {
    "duration": 4,
    "start_time": "2022-02-19T10:28:52.731Z"
   },
   {
    "duration": 9,
    "start_time": "2022-02-19T10:28:52.737Z"
   },
   {
    "duration": 235,
    "start_time": "2022-02-19T10:28:52.747Z"
   },
   {
    "duration": 8,
    "start_time": "2022-02-19T10:28:52.984Z"
   },
   {
    "duration": 21,
    "start_time": "2022-02-19T10:28:52.993Z"
   },
   {
    "duration": 26,
    "start_time": "2022-02-19T10:28:53.018Z"
   },
   {
    "duration": 7,
    "start_time": "2022-02-19T10:28:53.045Z"
   },
   {
    "duration": 7,
    "start_time": "2022-02-19T10:28:53.054Z"
   },
   {
    "duration": 389,
    "start_time": "2022-02-19T10:28:53.062Z"
   },
   {
    "duration": 4,
    "start_time": "2022-02-19T10:28:53.453Z"
   },
   {
    "duration": 29,
    "start_time": "2022-02-19T10:28:53.459Z"
   },
   {
    "duration": 28,
    "start_time": "2022-02-19T10:28:53.490Z"
   },
   {
    "duration": 5,
    "start_time": "2022-02-19T10:28:53.520Z"
   },
   {
    "duration": 31,
    "start_time": "2022-02-19T10:28:53.527Z"
   },
   {
    "duration": 8,
    "start_time": "2022-02-19T10:28:53.560Z"
   },
   {
    "duration": 375,
    "start_time": "2022-02-19T10:28:53.569Z"
   },
   {
    "duration": 333,
    "start_time": "2022-02-19T10:28:53.945Z"
   },
   {
    "duration": 638,
    "start_time": "2022-02-19T10:28:54.280Z"
   },
   {
    "duration": 419,
    "start_time": "2022-02-19T10:28:54.920Z"
   },
   {
    "duration": 4,
    "start_time": "2022-02-19T10:28:55.341Z"
   },
   {
    "duration": 8,
    "start_time": "2022-02-19T10:28:55.347Z"
   },
   {
    "duration": 6,
    "start_time": "2022-02-19T10:28:55.356Z"
   },
   {
    "duration": 10,
    "start_time": "2022-02-19T10:28:55.364Z"
   },
   {
    "duration": 6,
    "start_time": "2022-02-19T10:28:55.376Z"
   },
   {
    "duration": 35,
    "start_time": "2022-02-19T10:28:55.383Z"
   },
   {
    "duration": 3,
    "start_time": "2022-02-19T10:28:55.421Z"
   },
   {
    "duration": 8,
    "start_time": "2022-02-19T10:28:55.426Z"
   },
   {
    "duration": 6,
    "start_time": "2022-02-19T10:28:55.436Z"
   },
   {
    "duration": 11,
    "start_time": "2022-02-19T10:28:55.443Z"
   },
   {
    "duration": 8,
    "start_time": "2022-02-19T10:28:55.456Z"
   },
   {
    "duration": 15,
    "start_time": "2022-02-19T10:28:55.465Z"
   },
   {
    "duration": 6,
    "start_time": "2022-02-19T10:28:55.482Z"
   },
   {
    "duration": 7,
    "start_time": "2022-02-19T10:28:55.490Z"
   },
   {
    "duration": 1307,
    "start_time": "2022-02-19T11:15:39.806Z"
   },
   {
    "duration": 4,
    "start_time": "2022-02-19T11:15:41.115Z"
   },
   {
    "duration": 18,
    "start_time": "2022-02-19T11:15:41.122Z"
   },
   {
    "duration": 2229,
    "start_time": "2022-02-19T11:15:41.143Z"
   },
   {
    "duration": 34,
    "start_time": "2022-02-19T11:15:43.374Z"
   },
   {
    "duration": 14,
    "start_time": "2022-02-19T11:15:43.411Z"
   },
   {
    "duration": 53,
    "start_time": "2022-02-19T11:15:43.427Z"
   },
   {
    "duration": 6,
    "start_time": "2022-02-19T11:15:43.483Z"
   },
   {
    "duration": 42,
    "start_time": "2022-02-19T11:15:43.491Z"
   },
   {
    "duration": 9,
    "start_time": "2022-02-19T11:15:43.535Z"
   },
   {
    "duration": 28,
    "start_time": "2022-02-19T11:15:43.545Z"
   },
   {
    "duration": 52,
    "start_time": "2022-02-19T11:15:43.575Z"
   },
   {
    "duration": 27,
    "start_time": "2022-02-19T11:15:43.628Z"
   },
   {
    "duration": 30,
    "start_time": "2022-02-19T11:15:43.657Z"
   },
   {
    "duration": 33,
    "start_time": "2022-02-19T11:15:43.688Z"
   },
   {
    "duration": 10,
    "start_time": "2022-02-19T11:15:43.723Z"
   },
   {
    "duration": 14,
    "start_time": "2022-02-19T11:15:43.734Z"
   },
   {
    "duration": 15,
    "start_time": "2022-02-19T11:15:43.750Z"
   },
   {
    "duration": 24,
    "start_time": "2022-02-19T11:15:43.766Z"
   },
   {
    "duration": 11,
    "start_time": "2022-02-19T11:15:43.792Z"
   },
   {
    "duration": 30,
    "start_time": "2022-02-19T11:15:43.805Z"
   },
   {
    "duration": 16,
    "start_time": "2022-02-19T11:15:43.837Z"
   },
   {
    "duration": 15,
    "start_time": "2022-02-19T11:15:43.857Z"
   },
   {
    "duration": 22,
    "start_time": "2022-02-19T11:15:43.875Z"
   },
   {
    "duration": 45,
    "start_time": "2022-02-19T11:15:43.898Z"
   },
   {
    "duration": 66,
    "start_time": "2022-02-19T11:15:43.944Z"
   },
   {
    "duration": 51,
    "start_time": "2022-02-19T11:15:44.012Z"
   },
   {
    "duration": 3,
    "start_time": "2022-02-19T11:15:44.065Z"
   },
   {
    "duration": 48,
    "start_time": "2022-02-19T11:15:44.070Z"
   },
   {
    "duration": 3,
    "start_time": "2022-02-19T11:15:44.120Z"
   },
   {
    "duration": 63,
    "start_time": "2022-02-19T11:15:44.125Z"
   },
   {
    "duration": 3,
    "start_time": "2022-02-19T11:15:44.190Z"
   },
   {
    "duration": 31,
    "start_time": "2022-02-19T11:15:44.195Z"
   },
   {
    "duration": 12,
    "start_time": "2022-02-19T11:15:44.228Z"
   },
   {
    "duration": 36,
    "start_time": "2022-02-19T11:15:44.242Z"
   },
   {
    "duration": 26,
    "start_time": "2022-02-19T11:15:44.280Z"
   },
   {
    "duration": 39,
    "start_time": "2022-02-19T11:15:44.308Z"
   },
   {
    "duration": 10,
    "start_time": "2022-02-19T11:15:44.349Z"
   },
   {
    "duration": 25,
    "start_time": "2022-02-19T11:15:44.361Z"
   },
   {
    "duration": 9,
    "start_time": "2022-02-19T11:15:44.388Z"
   },
   {
    "duration": 33,
    "start_time": "2022-02-19T11:15:44.398Z"
   },
   {
    "duration": 237,
    "start_time": "2022-02-19T11:15:44.432Z"
   },
   {
    "duration": 8,
    "start_time": "2022-02-19T11:15:44.670Z"
   },
   {
    "duration": 39,
    "start_time": "2022-02-19T11:15:44.680Z"
   },
   {
    "duration": 47,
    "start_time": "2022-02-19T11:15:44.721Z"
   },
   {
    "duration": 9,
    "start_time": "2022-02-19T11:15:44.770Z"
   },
   {
    "duration": 26,
    "start_time": "2022-02-19T11:15:44.780Z"
   },
   {
    "duration": 392,
    "start_time": "2022-02-19T11:15:44.808Z"
   },
   {
    "duration": 16,
    "start_time": "2022-02-19T11:15:45.202Z"
   },
   {
    "duration": 56,
    "start_time": "2022-02-19T11:15:45.220Z"
   },
   {
    "duration": 9,
    "start_time": "2022-02-19T11:15:45.278Z"
   },
   {
    "duration": 26,
    "start_time": "2022-02-19T11:15:45.289Z"
   },
   {
    "duration": 54,
    "start_time": "2022-02-19T11:15:45.317Z"
   },
   {
    "duration": 8,
    "start_time": "2022-02-19T11:15:45.372Z"
   },
   {
    "duration": 371,
    "start_time": "2022-02-19T11:15:45.381Z"
   },
   {
    "duration": 332,
    "start_time": "2022-02-19T11:15:45.754Z"
   },
   {
    "duration": 626,
    "start_time": "2022-02-19T11:15:46.088Z"
   },
   {
    "duration": 369,
    "start_time": "2022-02-19T11:15:46.718Z"
   },
   {
    "duration": 3,
    "start_time": "2022-02-19T11:15:47.089Z"
   },
   {
    "duration": 24,
    "start_time": "2022-02-19T11:15:47.094Z"
   },
   {
    "duration": 4,
    "start_time": "2022-02-19T11:15:47.120Z"
   },
   {
    "duration": 11,
    "start_time": "2022-02-19T11:15:47.126Z"
   },
   {
    "duration": 3,
    "start_time": "2022-02-19T11:15:47.139Z"
   },
   {
    "duration": 4,
    "start_time": "2022-02-19T11:15:47.144Z"
   },
   {
    "duration": 9,
    "start_time": "2022-02-19T11:15:47.149Z"
   },
   {
    "duration": 10,
    "start_time": "2022-02-19T11:15:47.160Z"
   },
   {
    "duration": 11,
    "start_time": "2022-02-19T11:15:47.171Z"
   },
   {
    "duration": 5,
    "start_time": "2022-02-19T11:15:47.186Z"
   },
   {
    "duration": 25,
    "start_time": "2022-02-19T11:15:47.193Z"
   },
   {
    "duration": 6,
    "start_time": "2022-02-19T11:15:47.221Z"
   },
   {
    "duration": 9,
    "start_time": "2022-02-19T11:15:47.229Z"
   },
   {
    "duration": 11,
    "start_time": "2022-02-19T11:15:47.240Z"
   },
   {
    "duration": 1095,
    "start_time": "2022-02-19T17:08:28.343Z"
   },
   {
    "duration": 1786,
    "start_time": "2022-02-19T17:08:42.061Z"
   },
   {
    "duration": 29,
    "start_time": "2022-02-19T17:08:46.580Z"
   },
   {
    "duration": 11,
    "start_time": "2022-02-19T17:08:49.133Z"
   },
   {
    "duration": 27,
    "start_time": "2022-02-19T17:08:49.972Z"
   },
   {
    "duration": 5,
    "start_time": "2022-02-19T17:08:51.100Z"
   },
   {
    "duration": 26,
    "start_time": "2022-02-19T17:08:53.413Z"
   },
   {
    "duration": 9,
    "start_time": "2022-02-19T17:08:54.220Z"
   },
   {
    "duration": 289,
    "start_time": "2022-02-19T17:08:55.693Z"
   },
   {
    "duration": 2,
    "start_time": "2022-02-19T17:09:19.756Z"
   },
   {
    "duration": 23,
    "start_time": "2022-02-19T17:09:22.595Z"
   },
   {
    "duration": 8,
    "start_time": "2022-02-19T17:10:14.268Z"
   },
   {
    "duration": 23,
    "start_time": "2022-02-19T17:10:14.820Z"
   },
   {
    "duration": 10,
    "start_time": "2022-02-19T17:10:15.746Z"
   },
   {
    "duration": 23,
    "start_time": "2022-02-19T17:10:16.538Z"
   },
   {
    "duration": 6,
    "start_time": "2022-02-19T17:10:18.275Z"
   },
   {
    "duration": 8,
    "start_time": "2022-02-19T17:10:19.267Z"
   },
   {
    "duration": 4,
    "start_time": "2022-02-19T17:10:19.780Z"
   },
   {
    "duration": 6,
    "start_time": "2022-02-19T17:10:20.187Z"
   },
   {
    "duration": 7,
    "start_time": "2022-02-19T17:10:20.667Z"
   },
   {
    "duration": 12,
    "start_time": "2022-02-19T17:10:21.117Z"
   },
   {
    "duration": 2,
    "start_time": "2022-02-19T17:10:22.147Z"
   },
   {
    "duration": 3,
    "start_time": "2022-02-19T17:10:23.091Z"
   },
   {
    "duration": 2,
    "start_time": "2022-02-19T17:10:23.355Z"
   },
   {
    "duration": 3,
    "start_time": "2022-02-19T17:10:23.587Z"
   },
   {
    "duration": 52,
    "start_time": "2022-02-19T17:10:28.186Z"
   },
   {
    "duration": 46,
    "start_time": "2022-02-19T17:10:28.523Z"
   },
   {
    "duration": 2,
    "start_time": "2022-02-19T17:10:28.883Z"
   },
   {
    "duration": 19,
    "start_time": "2022-02-19T17:10:29.107Z"
   },
   {
    "duration": 3,
    "start_time": "2022-02-19T17:10:29.324Z"
   },
   {
    "duration": 41,
    "start_time": "2022-02-19T17:10:29.748Z"
   },
   {
    "duration": 3,
    "start_time": "2022-02-19T17:10:30.091Z"
   },
   {
    "duration": 8,
    "start_time": "2022-02-19T17:10:32.546Z"
   },
   {
    "duration": 8,
    "start_time": "2022-02-19T17:10:32.754Z"
   },
   {
    "duration": 9,
    "start_time": "2022-02-19T17:10:33.059Z"
   },
   {
    "duration": 8,
    "start_time": "2022-02-19T17:10:36.211Z"
   },
   {
    "duration": 24,
    "start_time": "2022-02-19T17:10:37.386Z"
   },
   {
    "duration": 8,
    "start_time": "2022-02-19T17:10:38.803Z"
   },
   {
    "duration": 2,
    "start_time": "2022-02-19T17:10:40.339Z"
   },
   {
    "duration": 3,
    "start_time": "2022-02-19T17:10:40.546Z"
   },
   {
    "duration": 4,
    "start_time": "2022-02-19T17:26:06.494Z"
   },
   {
    "duration": 227,
    "start_time": "2022-02-19T17:26:07.870Z"
   },
   {
    "duration": 4,
    "start_time": "2022-02-19T17:26:08.102Z"
   },
   {
    "duration": 18,
    "start_time": "2022-02-19T17:26:08.302Z"
   },
   {
    "duration": 35,
    "start_time": "2022-02-19T17:26:09.126Z"
   },
   {
    "duration": 8,
    "start_time": "2022-02-19T17:26:09.343Z"
   },
   {
    "duration": 3,
    "start_time": "2022-02-19T17:26:09.566Z"
   },
   {
    "duration": 389,
    "start_time": "2022-02-19T17:26:09.790Z"
   },
   {
    "duration": 5,
    "start_time": "2022-02-19T17:26:10.525Z"
   },
   {
    "duration": 32,
    "start_time": "2022-02-19T17:26:10.783Z"
   },
   {
    "duration": 8,
    "start_time": "2022-02-19T17:26:11.054Z"
   },
   {
    "duration": 5,
    "start_time": "2022-02-19T17:26:11.710Z"
   },
   {
    "duration": 28,
    "start_time": "2022-02-19T17:26:12.038Z"
   },
   {
    "duration": 8,
    "start_time": "2022-02-19T17:26:12.328Z"
   },
   {
    "duration": 377,
    "start_time": "2022-02-19T17:26:13.533Z"
   },
   {
    "duration": 542,
    "start_time": "2022-02-19T17:26:22.990Z"
   },
   {
    "duration": 520,
    "start_time": "2022-02-19T17:26:58.653Z"
   },
   {
    "duration": 382,
    "start_time": "2022-02-19T17:32:00.825Z"
   },
   {
    "duration": 251,
    "start_time": "2022-02-19T17:32:41.376Z"
   },
   {
    "duration": 377,
    "start_time": "2022-02-19T17:32:50.456Z"
   },
   {
    "duration": 790,
    "start_time": "2022-02-19T17:34:43.281Z"
   },
   {
    "duration": 3,
    "start_time": "2022-02-19T17:52:42.905Z"
   },
   {
    "duration": 213,
    "start_time": "2022-02-19T17:52:44.569Z"
   },
   {
    "duration": 4,
    "start_time": "2022-02-19T17:52:45.024Z"
   },
   {
    "duration": 18,
    "start_time": "2022-02-19T17:52:45.678Z"
   },
   {
    "duration": 27,
    "start_time": "2022-02-19T17:52:54.801Z"
   },
   {
    "duration": 7,
    "start_time": "2022-02-19T17:52:55.689Z"
   },
   {
    "duration": 2,
    "start_time": "2022-02-19T17:52:57.833Z"
   },
   {
    "duration": 493,
    "start_time": "2022-02-19T17:52:58.279Z"
   },
   {
    "duration": 4,
    "start_time": "2022-02-19T17:53:01.217Z"
   },
   {
    "duration": 27,
    "start_time": "2022-02-19T17:53:01.505Z"
   },
   {
    "duration": 7,
    "start_time": "2022-02-19T17:53:02.290Z"
   },
   {
    "duration": 5,
    "start_time": "2022-02-19T17:53:03.623Z"
   },
   {
    "duration": 27,
    "start_time": "2022-02-19T17:53:03.898Z"
   },
   {
    "duration": 7,
    "start_time": "2022-02-19T17:53:04.778Z"
   },
   {
    "duration": 517,
    "start_time": "2022-02-19T17:53:06.297Z"
   },
   {
    "duration": 402,
    "start_time": "2022-02-19T17:53:09.472Z"
   },
   {
    "duration": 778,
    "start_time": "2022-02-19T17:53:10.944Z"
   },
   {
    "duration": 4,
    "start_time": "2022-02-19T17:54:04.209Z"
   },
   {
    "duration": 4,
    "start_time": "2022-02-19T17:55:43.496Z"
   },
   {
    "duration": 215,
    "start_time": "2022-02-19T17:55:46.327Z"
   },
   {
    "duration": 4,
    "start_time": "2022-02-19T17:55:47.248Z"
   },
   {
    "duration": 18,
    "start_time": "2022-02-19T17:55:58.215Z"
   },
   {
    "duration": 4,
    "start_time": "2022-02-19T18:32:06.621Z"
   },
   {
    "duration": 206,
    "start_time": "2022-02-19T18:32:10.442Z"
   },
   {
    "duration": 4,
    "start_time": "2022-02-19T18:32:10.954Z"
   },
   {
    "duration": 16,
    "start_time": "2022-02-19T18:32:17.396Z"
   },
   {
    "duration": 3,
    "start_time": "2022-02-19T18:32:28.748Z"
   },
   {
    "duration": 208,
    "start_time": "2022-02-19T18:32:31.642Z"
   },
   {
    "duration": 3,
    "start_time": "2022-02-19T18:32:32.739Z"
   },
   {
    "duration": 18,
    "start_time": "2022-02-19T18:32:34.818Z"
   },
   {
    "duration": 18,
    "start_time": "2022-02-19T18:32:57.523Z"
   },
   {
    "duration": 4,
    "start_time": "2022-02-19T18:33:05.042Z"
   },
   {
    "duration": 205,
    "start_time": "2022-02-19T18:33:08.066Z"
   },
   {
    "duration": 4,
    "start_time": "2022-02-19T18:33:08.482Z"
   },
   {
    "duration": 18,
    "start_time": "2022-02-19T18:33:13.982Z"
   },
   {
    "duration": 4,
    "start_time": "2022-02-19T18:38:58.947Z"
   },
   {
    "duration": 204,
    "start_time": "2022-02-19T18:39:01.764Z"
   },
   {
    "duration": 4,
    "start_time": "2022-02-19T18:39:02.205Z"
   },
   {
    "duration": 18,
    "start_time": "2022-02-19T18:39:05.069Z"
   },
   {
    "duration": 4,
    "start_time": "2022-02-19T18:46:24.992Z"
   },
   {
    "duration": 228,
    "start_time": "2022-02-19T18:46:26.798Z"
   },
   {
    "duration": 4,
    "start_time": "2022-02-19T18:46:27.166Z"
   },
   {
    "duration": 17,
    "start_time": "2022-02-19T18:46:30.093Z"
   },
   {
    "duration": 5,
    "start_time": "2022-02-19T18:53:42.192Z"
   },
   {
    "duration": 191,
    "start_time": "2022-02-19T18:53:45.288Z"
   },
   {
    "duration": 3,
    "start_time": "2022-02-19T18:53:45.584Z"
   },
   {
    "duration": 17,
    "start_time": "2022-02-19T18:53:46.179Z"
   },
   {
    "duration": 17,
    "start_time": "2022-02-19T18:53:54.289Z"
   },
   {
    "duration": 18,
    "start_time": "2022-02-19T18:54:06.208Z"
   },
   {
    "duration": 78,
    "start_time": "2022-02-19T19:12:22.929Z"
   },
   {
    "duration": 24,
    "start_time": "2022-02-19T19:12:24.138Z"
   },
   {
    "duration": 7,
    "start_time": "2022-02-19T19:12:24.872Z"
   },
   {
    "duration": 2,
    "start_time": "2022-02-19T19:12:26.026Z"
   },
   {
    "duration": 383,
    "start_time": "2022-02-19T19:12:26.328Z"
   },
   {
    "duration": 5,
    "start_time": "2022-02-19T19:12:47.647Z"
   },
   {
    "duration": 28,
    "start_time": "2022-02-19T19:12:48.193Z"
   },
   {
    "duration": 9,
    "start_time": "2022-02-19T19:12:49.759Z"
   },
   {
    "duration": 5,
    "start_time": "2022-02-19T19:12:51.183Z"
   },
   {
    "duration": 28,
    "start_time": "2022-02-19T19:12:51.487Z"
   },
   {
    "duration": 7,
    "start_time": "2022-02-19T19:12:52.383Z"
   },
   {
    "duration": 599,
    "start_time": "2022-02-19T19:12:54.576Z"
   },
   {
    "duration": 388,
    "start_time": "2022-02-19T19:12:58.208Z"
   },
   {
    "duration": 769,
    "start_time": "2022-02-19T19:13:00.288Z"
   },
   {
    "duration": 361,
    "start_time": "2022-02-19T19:13:04.847Z"
   },
   {
    "duration": 4,
    "start_time": "2022-02-19T19:13:05.895Z"
   },
   {
    "duration": 5,
    "start_time": "2022-02-19T19:13:23.512Z"
   },
   {
    "duration": 4,
    "start_time": "2022-02-19T19:13:23.820Z"
   },
   {
    "duration": 8,
    "start_time": "2022-02-19T19:13:24.703Z"
   },
   {
    "duration": 4,
    "start_time": "2022-02-19T19:13:25.492Z"
   },
   {
    "duration": 4,
    "start_time": "2022-02-19T19:13:25.937Z"
   },
   {
    "duration": 3,
    "start_time": "2022-02-19T19:13:28.518Z"
   },
   {
    "duration": 4,
    "start_time": "2022-02-19T19:13:28.966Z"
   },
   {
    "duration": 4,
    "start_time": "2022-02-19T19:13:30.412Z"
   },
   {
    "duration": 4,
    "start_time": "2022-02-19T19:13:39.551Z"
   },
   {
    "duration": 4,
    "start_time": "2022-02-19T19:13:39.897Z"
   },
   {
    "duration": 6,
    "start_time": "2022-02-19T19:13:40.791Z"
   },
   {
    "duration": 4,
    "start_time": "2022-02-19T19:13:41.112Z"
   },
   {
    "duration": 4,
    "start_time": "2022-02-19T19:13:41.621Z"
   },
   {
    "duration": 1071,
    "start_time": "2022-02-19T19:16:28.570Z"
   },
   {
    "duration": 2,
    "start_time": "2022-02-19T19:16:29.644Z"
   },
   {
    "duration": 3,
    "start_time": "2022-02-19T19:16:29.648Z"
   },
   {
    "duration": 1879,
    "start_time": "2022-02-19T19:16:29.653Z"
   },
   {
    "duration": 29,
    "start_time": "2022-02-19T19:16:31.533Z"
   },
   {
    "duration": 10,
    "start_time": "2022-02-19T19:16:31.564Z"
   },
   {
    "duration": 32,
    "start_time": "2022-02-19T19:16:31.575Z"
   },
   {
    "duration": 11,
    "start_time": "2022-02-19T19:16:31.610Z"
   },
   {
    "duration": 31,
    "start_time": "2022-02-19T19:16:31.622Z"
   },
   {
    "duration": 8,
    "start_time": "2022-02-19T19:16:31.655Z"
   },
   {
    "duration": 10,
    "start_time": "2022-02-19T19:16:31.665Z"
   },
   {
    "duration": 25,
    "start_time": "2022-02-19T19:16:31.676Z"
   },
   {
    "duration": 33,
    "start_time": "2022-02-19T19:16:31.703Z"
   },
   {
    "duration": 9,
    "start_time": "2022-02-19T19:16:31.738Z"
   },
   {
    "duration": 21,
    "start_time": "2022-02-19T19:16:31.749Z"
   },
   {
    "duration": 6,
    "start_time": "2022-02-19T19:16:31.772Z"
   },
   {
    "duration": 9,
    "start_time": "2022-02-19T19:16:31.779Z"
   },
   {
    "duration": 4,
    "start_time": "2022-02-19T19:16:31.819Z"
   },
   {
    "duration": 8,
    "start_time": "2022-02-19T19:16:31.824Z"
   },
   {
    "duration": 7,
    "start_time": "2022-02-19T19:16:31.833Z"
   },
   {
    "duration": 11,
    "start_time": "2022-02-19T19:16:31.842Z"
   },
   {
    "duration": 4,
    "start_time": "2022-02-19T19:16:31.854Z"
   },
   {
    "duration": 2,
    "start_time": "2022-02-19T19:16:31.862Z"
   },
   {
    "duration": 3,
    "start_time": "2022-02-19T19:16:31.866Z"
   },
   {
    "duration": 5,
    "start_time": "2022-02-19T19:16:31.870Z"
   },
   {
    "duration": 87,
    "start_time": "2022-02-19T19:16:31.876Z"
   },
   {
    "duration": 54,
    "start_time": "2022-02-19T19:16:31.965Z"
   },
   {
    "duration": 3,
    "start_time": "2022-02-19T19:16:32.020Z"
   },
   {
    "duration": 20,
    "start_time": "2022-02-19T19:16:32.025Z"
   },
   {
    "duration": 2,
    "start_time": "2022-02-19T19:16:32.047Z"
   },
   {
    "duration": 42,
    "start_time": "2022-02-19T19:16:32.051Z"
   },
   {
    "duration": 2,
    "start_time": "2022-02-19T19:16:32.095Z"
   },
   {
    "duration": 26,
    "start_time": "2022-02-19T19:16:32.099Z"
   },
   {
    "duration": 11,
    "start_time": "2022-02-19T19:16:32.127Z"
   },
   {
    "duration": 8,
    "start_time": "2022-02-19T19:16:32.140Z"
   },
   {
    "duration": 7,
    "start_time": "2022-02-19T19:16:32.149Z"
   },
   {
    "duration": 23,
    "start_time": "2022-02-19T19:16:32.157Z"
   },
   {
    "duration": 37,
    "start_time": "2022-02-19T19:16:32.182Z"
   },
   {
    "duration": 2,
    "start_time": "2022-02-19T19:16:32.220Z"
   },
   {
    "duration": 4,
    "start_time": "2022-02-19T19:16:32.224Z"
   },
   {
    "duration": 5,
    "start_time": "2022-02-19T19:16:32.229Z"
   },
   {
    "duration": 4,
    "start_time": "2022-02-19T19:16:32.236Z"
   },
   {
    "duration": 212,
    "start_time": "2022-02-19T19:16:32.241Z"
   },
   {
    "duration": 5,
    "start_time": "2022-02-19T19:16:32.455Z"
   },
   {
    "duration": 57,
    "start_time": "2022-02-19T19:16:32.461Z"
   },
   {
    "duration": 4633,
    "start_time": "2022-02-19T19:16:27.887Z"
   },
   {
    "duration": 4630,
    "start_time": "2022-02-19T19:16:27.891Z"
   },
   {
    "duration": 4622,
    "start_time": "2022-02-19T19:16:27.900Z"
   },
   {
    "duration": 4618,
    "start_time": "2022-02-19T19:16:27.905Z"
   },
   {
    "duration": 4615,
    "start_time": "2022-02-19T19:16:27.909Z"
   },
   {
    "duration": 4612,
    "start_time": "2022-02-19T19:16:27.913Z"
   },
   {
    "duration": 4608,
    "start_time": "2022-02-19T19:16:27.918Z"
   },
   {
    "duration": 4604,
    "start_time": "2022-02-19T19:16:27.923Z"
   },
   {
    "duration": 4599,
    "start_time": "2022-02-19T19:16:27.929Z"
   },
   {
    "duration": 4596,
    "start_time": "2022-02-19T19:16:27.933Z"
   },
   {
    "duration": 4593,
    "start_time": "2022-02-19T19:16:27.937Z"
   },
   {
    "duration": 4590,
    "start_time": "2022-02-19T19:16:27.941Z"
   },
   {
    "duration": 4587,
    "start_time": "2022-02-19T19:16:27.945Z"
   },
   {
    "duration": 4584,
    "start_time": "2022-02-19T19:16:27.949Z"
   },
   {
    "duration": 4580,
    "start_time": "2022-02-19T19:16:27.954Z"
   },
   {
    "duration": 4560,
    "start_time": "2022-02-19T19:16:27.975Z"
   },
   {
    "duration": 4556,
    "start_time": "2022-02-19T19:16:27.980Z"
   },
   {
    "duration": 4554,
    "start_time": "2022-02-19T19:16:27.983Z"
   },
   {
    "duration": 4549,
    "start_time": "2022-02-19T19:16:27.988Z"
   },
   {
    "duration": 4546,
    "start_time": "2022-02-19T19:16:27.992Z"
   },
   {
    "duration": 4542,
    "start_time": "2022-02-19T19:16:27.997Z"
   },
   {
    "duration": 4539,
    "start_time": "2022-02-19T19:16:28.001Z"
   },
   {
    "duration": 4534,
    "start_time": "2022-02-19T19:16:28.007Z"
   },
   {
    "duration": 4531,
    "start_time": "2022-02-19T19:16:28.011Z"
   },
   {
    "duration": 4528,
    "start_time": "2022-02-19T19:16:28.015Z"
   },
   {
    "duration": 4525,
    "start_time": "2022-02-19T19:16:28.019Z"
   },
   {
    "duration": 4520,
    "start_time": "2022-02-19T19:16:28.024Z"
   },
   {
    "duration": 4517,
    "start_time": "2022-02-19T19:16:28.028Z"
   },
   {
    "duration": 70,
    "start_time": "2022-02-19T19:16:51.242Z"
   },
   {
    "duration": 25,
    "start_time": "2022-02-19T19:16:54.344Z"
   },
   {
    "duration": 3,
    "start_time": "2022-02-19T19:17:13.264Z"
   },
   {
    "duration": 4,
    "start_time": "2022-02-19T19:17:13.269Z"
   },
   {
    "duration": 7,
    "start_time": "2022-02-19T19:17:13.275Z"
   },
   {
    "duration": 2037,
    "start_time": "2022-02-19T19:17:13.284Z"
   },
   {
    "duration": 34,
    "start_time": "2022-02-19T19:17:15.323Z"
   },
   {
    "duration": 8,
    "start_time": "2022-02-19T19:17:15.360Z"
   },
   {
    "duration": 50,
    "start_time": "2022-02-19T19:17:15.369Z"
   },
   {
    "duration": 4,
    "start_time": "2022-02-19T19:17:15.421Z"
   },
   {
    "duration": 29,
    "start_time": "2022-02-19T19:17:15.427Z"
   },
   {
    "duration": 8,
    "start_time": "2022-02-19T19:17:15.457Z"
   },
   {
    "duration": 4,
    "start_time": "2022-02-19T19:17:15.466Z"
   },
   {
    "duration": 24,
    "start_time": "2022-02-19T19:17:15.471Z"
   },
   {
    "duration": 44,
    "start_time": "2022-02-19T19:17:15.497Z"
   },
   {
    "duration": 9,
    "start_time": "2022-02-19T19:17:15.544Z"
   },
   {
    "duration": 22,
    "start_time": "2022-02-19T19:17:15.555Z"
   },
   {
    "duration": 6,
    "start_time": "2022-02-19T19:17:15.578Z"
   },
   {
    "duration": 37,
    "start_time": "2022-02-19T19:17:15.585Z"
   },
   {
    "duration": 4,
    "start_time": "2022-02-19T19:17:15.624Z"
   },
   {
    "duration": 8,
    "start_time": "2022-02-19T19:17:15.629Z"
   },
   {
    "duration": 6,
    "start_time": "2022-02-19T19:17:15.638Z"
   },
   {
    "duration": 12,
    "start_time": "2022-02-19T19:17:15.645Z"
   },
   {
    "duration": 2,
    "start_time": "2022-02-19T19:17:15.659Z"
   },
   {
    "duration": 5,
    "start_time": "2022-02-19T19:17:15.662Z"
   },
   {
    "duration": 6,
    "start_time": "2022-02-19T19:17:15.668Z"
   },
   {
    "duration": 4,
    "start_time": "2022-02-19T19:17:15.676Z"
   },
   {
    "duration": 77,
    "start_time": "2022-02-19T19:17:15.681Z"
   },
   {
    "duration": 38,
    "start_time": "2022-02-19T19:17:15.759Z"
   },
   {
    "duration": 3,
    "start_time": "2022-02-19T19:17:15.799Z"
   },
   {
    "duration": 20,
    "start_time": "2022-02-19T19:17:15.819Z"
   },
   {
    "duration": 4,
    "start_time": "2022-02-19T19:17:15.840Z"
   },
   {
    "duration": 47,
    "start_time": "2022-02-19T19:17:15.846Z"
   },
   {
    "duration": 24,
    "start_time": "2022-02-19T19:17:15.895Z"
   },
   {
    "duration": 9,
    "start_time": "2022-02-19T19:17:15.921Z"
   },
   {
    "duration": 8,
    "start_time": "2022-02-19T19:17:15.932Z"
   },
   {
    "duration": 10,
    "start_time": "2022-02-19T19:17:15.942Z"
   },
   {
    "duration": 8,
    "start_time": "2022-02-19T19:17:15.953Z"
   },
   {
    "duration": 57,
    "start_time": "2022-02-19T19:17:15.963Z"
   },
   {
    "duration": 9,
    "start_time": "2022-02-19T19:17:16.026Z"
   },
   {
    "duration": 3,
    "start_time": "2022-02-19T19:17:16.037Z"
   },
   {
    "duration": 4,
    "start_time": "2022-02-19T19:17:16.042Z"
   },
   {
    "duration": 4,
    "start_time": "2022-02-19T19:17:16.047Z"
   },
   {
    "duration": 4,
    "start_time": "2022-02-19T19:17:16.052Z"
   },
   {
    "duration": 228,
    "start_time": "2022-02-19T19:17:16.058Z"
   },
   {
    "duration": 4,
    "start_time": "2022-02-19T19:17:16.288Z"
   },
   {
    "duration": 68,
    "start_time": "2022-02-19T19:17:16.294Z"
   },
   {
    "duration": 4845,
    "start_time": "2022-02-19T19:17:11.518Z"
   },
   {
    "duration": 4832,
    "start_time": "2022-02-19T19:17:11.532Z"
   },
   {
    "duration": 4828,
    "start_time": "2022-02-19T19:17:11.537Z"
   },
   {
    "duration": 4813,
    "start_time": "2022-02-19T19:17:11.553Z"
   },
   {
    "duration": 4803,
    "start_time": "2022-02-19T19:17:11.564Z"
   },
   {
    "duration": 4800,
    "start_time": "2022-02-19T19:17:11.568Z"
   },
   {
    "duration": 4784,
    "start_time": "2022-02-19T19:17:11.585Z"
   },
   {
    "duration": 4779,
    "start_time": "2022-02-19T19:17:11.591Z"
   },
   {
    "duration": 4775,
    "start_time": "2022-02-19T19:17:11.596Z"
   },
   {
    "duration": 4772,
    "start_time": "2022-02-19T19:17:11.600Z"
   },
   {
    "duration": 4766,
    "start_time": "2022-02-19T19:17:11.607Z"
   },
   {
    "duration": 4763,
    "start_time": "2022-02-19T19:17:11.611Z"
   },
   {
    "duration": 4761,
    "start_time": "2022-02-19T19:17:11.615Z"
   },
   {
    "duration": 4758,
    "start_time": "2022-02-19T19:17:11.619Z"
   },
   {
    "duration": 4753,
    "start_time": "2022-02-19T19:17:11.625Z"
   },
   {
    "duration": 4749,
    "start_time": "2022-02-19T19:17:11.630Z"
   },
   {
    "duration": 4746,
    "start_time": "2022-02-19T19:17:11.634Z"
   },
   {
    "duration": 4742,
    "start_time": "2022-02-19T19:17:11.639Z"
   },
   {
    "duration": 4740,
    "start_time": "2022-02-19T19:17:11.643Z"
   },
   {
    "duration": 4737,
    "start_time": "2022-02-19T19:17:11.647Z"
   },
   {
    "duration": 4734,
    "start_time": "2022-02-19T19:17:11.651Z"
   },
   {
    "duration": 4729,
    "start_time": "2022-02-19T19:17:11.657Z"
   },
   {
    "duration": 4726,
    "start_time": "2022-02-19T19:17:11.661Z"
   },
   {
    "duration": 4725,
    "start_time": "2022-02-19T19:17:11.664Z"
   },
   {
    "duration": 4721,
    "start_time": "2022-02-19T19:17:11.669Z"
   },
   {
    "duration": 4719,
    "start_time": "2022-02-19T19:17:11.673Z"
   },
   {
    "duration": 4712,
    "start_time": "2022-02-19T19:17:11.681Z"
   },
   {
    "duration": 4691,
    "start_time": "2022-02-19T19:17:11.704Z"
   },
   {
    "duration": 18,
    "start_time": "2022-02-19T19:17:42.088Z"
   },
   {
    "duration": 1074,
    "start_time": "2022-02-19T19:17:52.159Z"
   },
   {
    "duration": 3,
    "start_time": "2022-02-19T19:17:53.235Z"
   },
   {
    "duration": 2,
    "start_time": "2022-02-19T19:17:53.243Z"
   },
   {
    "duration": 1863,
    "start_time": "2022-02-19T19:17:53.247Z"
   },
   {
    "duration": 30,
    "start_time": "2022-02-19T19:17:55.112Z"
   },
   {
    "duration": 10,
    "start_time": "2022-02-19T19:17:55.144Z"
   },
   {
    "duration": 28,
    "start_time": "2022-02-19T19:17:55.156Z"
   },
   {
    "duration": 4,
    "start_time": "2022-02-19T19:17:55.186Z"
   },
   {
    "duration": 47,
    "start_time": "2022-02-19T19:17:55.192Z"
   },
   {
    "duration": 8,
    "start_time": "2022-02-19T19:17:55.241Z"
   },
   {
    "duration": 3,
    "start_time": "2022-02-19T19:17:55.251Z"
   },
   {
    "duration": 32,
    "start_time": "2022-02-19T19:17:55.256Z"
   },
   {
    "duration": 57,
    "start_time": "2022-02-19T19:17:55.290Z"
   },
   {
    "duration": 12,
    "start_time": "2022-02-19T19:17:55.349Z"
   },
   {
    "duration": 22,
    "start_time": "2022-02-19T19:17:55.362Z"
   },
   {
    "duration": 6,
    "start_time": "2022-02-19T19:17:55.386Z"
   },
   {
    "duration": 26,
    "start_time": "2022-02-19T19:17:55.394Z"
   },
   {
    "duration": 3,
    "start_time": "2022-02-19T19:17:55.422Z"
   },
   {
    "duration": 18,
    "start_time": "2022-02-19T19:17:55.427Z"
   },
   {
    "duration": 6,
    "start_time": "2022-02-19T19:17:55.447Z"
   },
   {
    "duration": 15,
    "start_time": "2022-02-19T19:17:55.455Z"
   },
   {
    "duration": 2,
    "start_time": "2022-02-19T19:17:55.474Z"
   },
   {
    "duration": 2,
    "start_time": "2022-02-19T19:17:55.479Z"
   },
   {
    "duration": 4,
    "start_time": "2022-02-19T19:17:55.483Z"
   },
   {
    "duration": 32,
    "start_time": "2022-02-19T19:17:55.488Z"
   },
   {
    "duration": 52,
    "start_time": "2022-02-19T19:17:55.522Z"
   },
   {
    "duration": 61,
    "start_time": "2022-02-19T19:17:55.575Z"
   },
   {
    "duration": 2,
    "start_time": "2022-02-19T19:17:55.638Z"
   },
   {
    "duration": 19,
    "start_time": "2022-02-19T19:17:55.642Z"
   },
   {
    "duration": 3,
    "start_time": "2022-02-19T19:17:55.662Z"
   },
   {
    "duration": 56,
    "start_time": "2022-02-19T19:17:55.667Z"
   },
   {
    "duration": 3,
    "start_time": "2022-02-19T19:17:55.725Z"
   },
   {
    "duration": 13,
    "start_time": "2022-02-19T19:17:55.729Z"
   },
   {
    "duration": 7,
    "start_time": "2022-02-19T19:17:55.743Z"
   },
   {
    "duration": 9,
    "start_time": "2022-02-19T19:17:55.751Z"
   },
   {
    "duration": 7,
    "start_time": "2022-02-19T19:17:55.761Z"
   },
   {
    "duration": 49,
    "start_time": "2022-02-19T19:17:55.770Z"
   },
   {
    "duration": 10,
    "start_time": "2022-02-19T19:17:55.821Z"
   },
   {
    "duration": 2,
    "start_time": "2022-02-19T19:17:55.833Z"
   },
   {
    "duration": 4,
    "start_time": "2022-02-19T19:17:55.838Z"
   },
   {
    "duration": 3,
    "start_time": "2022-02-19T19:17:55.844Z"
   },
   {
    "duration": 5,
    "start_time": "2022-02-19T19:17:55.849Z"
   },
   {
    "duration": 223,
    "start_time": "2022-02-19T19:17:55.856Z"
   },
   {
    "duration": 5,
    "start_time": "2022-02-19T19:17:56.081Z"
   },
   {
    "duration": 20,
    "start_time": "2022-02-19T19:17:56.087Z"
   },
   {
    "duration": 30,
    "start_time": "2022-02-19T19:17:56.109Z"
   },
   {
    "duration": 6,
    "start_time": "2022-02-19T19:17:56.141Z"
   },
   {
    "duration": 4,
    "start_time": "2022-02-19T19:17:56.148Z"
   },
   {
    "duration": 388,
    "start_time": "2022-02-19T19:17:56.153Z"
   },
   {
    "duration": 5,
    "start_time": "2022-02-19T19:17:56.543Z"
   },
   {
    "duration": 26,
    "start_time": "2022-02-19T19:17:56.549Z"
   },
   {
    "duration": 5,
    "start_time": "2022-02-19T19:17:56.577Z"
   },
   {
    "duration": 3,
    "start_time": "2022-02-19T19:17:56.584Z"
   },
   {
    "duration": 47,
    "start_time": "2022-02-19T19:17:56.589Z"
   },
   {
    "duration": 6,
    "start_time": "2022-02-19T19:17:56.637Z"
   },
   {
    "duration": 525,
    "start_time": "2022-02-19T19:17:56.645Z"
   },
   {
    "duration": 430,
    "start_time": "2022-02-19T19:17:57.171Z"
   },
   {
    "duration": 765,
    "start_time": "2022-02-19T19:17:57.603Z"
   },
   {
    "duration": 370,
    "start_time": "2022-02-19T19:17:58.370Z"
   },
   {
    "duration": 3,
    "start_time": "2022-02-19T19:17:58.742Z"
   },
   {
    "duration": 6,
    "start_time": "2022-02-19T19:17:58.747Z"
   },
   {
    "duration": 4,
    "start_time": "2022-02-19T19:17:58.755Z"
   },
   {
    "duration": 8,
    "start_time": "2022-02-19T19:17:58.761Z"
   },
   {
    "duration": 3,
    "start_time": "2022-02-19T19:17:58.770Z"
   },
   {
    "duration": 4,
    "start_time": "2022-02-19T19:17:58.775Z"
   },
   {
    "duration": 3,
    "start_time": "2022-02-19T19:17:58.780Z"
   },
   {
    "duration": 4,
    "start_time": "2022-02-19T19:17:58.819Z"
   },
   {
    "duration": 4,
    "start_time": "2022-02-19T19:17:58.825Z"
   },
   {
    "duration": 5,
    "start_time": "2022-02-19T19:17:58.831Z"
   },
   {
    "duration": 4,
    "start_time": "2022-02-19T19:17:58.838Z"
   },
   {
    "duration": 5,
    "start_time": "2022-02-19T19:17:58.844Z"
   },
   {
    "duration": 4,
    "start_time": "2022-02-19T19:17:58.850Z"
   },
   {
    "duration": 4,
    "start_time": "2022-02-19T19:17:58.855Z"
   },
   {
    "duration": 1508,
    "start_time": "2022-02-20T10:38:18.072Z"
   },
   {
    "duration": 3,
    "start_time": "2022-02-20T10:38:19.584Z"
   },
   {
    "duration": 6,
    "start_time": "2022-02-20T10:38:19.590Z"
   },
   {
    "duration": 2974,
    "start_time": "2022-02-20T10:38:19.611Z"
   },
   {
    "duration": 37,
    "start_time": "2022-02-20T10:38:22.588Z"
   },
   {
    "duration": 18,
    "start_time": "2022-02-20T10:38:22.628Z"
   },
   {
    "duration": 64,
    "start_time": "2022-02-20T10:38:22.649Z"
   },
   {
    "duration": 8,
    "start_time": "2022-02-20T10:38:22.715Z"
   },
   {
    "duration": 33,
    "start_time": "2022-02-20T10:38:22.728Z"
   },
   {
    "duration": 13,
    "start_time": "2022-02-20T10:38:22.764Z"
   },
   {
    "duration": 3,
    "start_time": "2022-02-20T10:38:22.812Z"
   },
   {
    "duration": 33,
    "start_time": "2022-02-20T10:38:22.818Z"
   },
   {
    "duration": 27,
    "start_time": "2022-02-20T10:38:22.854Z"
   },
   {
    "duration": 15,
    "start_time": "2022-02-20T10:38:22.912Z"
   },
   {
    "duration": 36,
    "start_time": "2022-02-20T10:38:22.930Z"
   },
   {
    "duration": 42,
    "start_time": "2022-02-20T10:38:22.969Z"
   },
   {
    "duration": 12,
    "start_time": "2022-02-20T10:38:23.013Z"
   },
   {
    "duration": 8,
    "start_time": "2022-02-20T10:38:23.028Z"
   },
   {
    "duration": 12,
    "start_time": "2022-02-20T10:38:23.039Z"
   },
   {
    "duration": 13,
    "start_time": "2022-02-20T10:38:23.054Z"
   },
   {
    "duration": 54,
    "start_time": "2022-02-20T10:38:23.070Z"
   },
   {
    "duration": 4,
    "start_time": "2022-02-20T10:38:23.127Z"
   },
   {
    "duration": 3,
    "start_time": "2022-02-20T10:38:23.148Z"
   },
   {
    "duration": 9,
    "start_time": "2022-02-20T10:38:23.155Z"
   },
   {
    "duration": 8,
    "start_time": "2022-02-20T10:38:23.166Z"
   },
   {
    "duration": 102,
    "start_time": "2022-02-20T10:38:23.177Z"
   },
   {
    "duration": 77,
    "start_time": "2022-02-20T10:38:23.286Z"
   },
   {
    "duration": 4,
    "start_time": "2022-02-20T10:38:23.368Z"
   },
   {
    "duration": 50,
    "start_time": "2022-02-20T10:38:23.375Z"
   },
   {
    "duration": 4,
    "start_time": "2022-02-20T10:38:23.427Z"
   },
   {
    "duration": 49,
    "start_time": "2022-02-20T10:38:23.433Z"
   },
   {
    "duration": 3,
    "start_time": "2022-02-20T10:38:23.485Z"
   },
   {
    "duration": 30,
    "start_time": "2022-02-20T10:38:23.490Z"
   },
   {
    "duration": 9,
    "start_time": "2022-02-20T10:38:23.523Z"
   },
   {
    "duration": 18,
    "start_time": "2022-02-20T10:38:23.535Z"
   },
   {
    "duration": 14,
    "start_time": "2022-02-20T10:38:23.556Z"
   },
   {
    "duration": 57,
    "start_time": "2022-02-20T10:38:23.610Z"
   },
   {
    "duration": 12,
    "start_time": "2022-02-20T10:38:23.669Z"
   },
   {
    "duration": 26,
    "start_time": "2022-02-20T10:38:23.684Z"
   },
   {
    "duration": 5,
    "start_time": "2022-02-20T10:38:23.713Z"
   },
   {
    "duration": 7,
    "start_time": "2022-02-20T10:38:23.721Z"
   },
   {
    "duration": 515,
    "start_time": "2022-02-20T10:38:23.730Z"
   },
   {
    "duration": 13,
    "start_time": "2022-02-20T10:38:24.247Z"
   },
   {
    "duration": 27,
    "start_time": "2022-02-20T10:38:24.263Z"
   },
   {
    "duration": 58,
    "start_time": "2022-02-20T10:38:24.293Z"
   },
   {
    "duration": 10,
    "start_time": "2022-02-20T10:38:24.354Z"
   },
   {
    "duration": 10,
    "start_time": "2022-02-20T10:38:24.366Z"
   },
   {
    "duration": 841,
    "start_time": "2022-02-20T10:38:24.378Z"
   },
   {
    "duration": 8,
    "start_time": "2022-02-20T10:38:25.222Z"
   },
   {
    "duration": 46,
    "start_time": "2022-02-20T10:38:25.233Z"
   },
   {
    "duration": 36,
    "start_time": "2022-02-20T10:38:25.281Z"
   },
   {
    "duration": 7,
    "start_time": "2022-02-20T10:38:25.319Z"
   },
   {
    "duration": 44,
    "start_time": "2022-02-20T10:38:25.328Z"
   },
   {
    "duration": 41,
    "start_time": "2022-02-20T10:38:25.375Z"
   },
   {
    "duration": 907,
    "start_time": "2022-02-20T10:38:25.418Z"
   },
   {
    "duration": 701,
    "start_time": "2022-02-20T10:38:26.328Z"
   },
   {
    "duration": 1283,
    "start_time": "2022-02-20T10:38:27.032Z"
   },
   {
    "duration": 686,
    "start_time": "2022-02-20T10:38:28.318Z"
   },
   {
    "duration": 5,
    "start_time": "2022-02-20T10:38:29.012Z"
   },
   {
    "duration": 7,
    "start_time": "2022-02-20T10:38:29.020Z"
   },
   {
    "duration": 10,
    "start_time": "2022-02-20T10:38:29.030Z"
   },
   {
    "duration": 16,
    "start_time": "2022-02-20T10:38:29.043Z"
   },
   {
    "duration": 9,
    "start_time": "2022-02-20T10:38:29.062Z"
   },
   {
    "duration": 6,
    "start_time": "2022-02-20T10:38:29.110Z"
   },
   {
    "duration": 6,
    "start_time": "2022-02-20T10:38:29.118Z"
   },
   {
    "duration": 7,
    "start_time": "2022-02-20T10:38:29.126Z"
   },
   {
    "duration": 6,
    "start_time": "2022-02-20T10:38:29.136Z"
   },
   {
    "duration": 8,
    "start_time": "2022-02-20T10:38:29.145Z"
   },
   {
    "duration": 54,
    "start_time": "2022-02-20T10:38:29.157Z"
   },
   {
    "duration": 6,
    "start_time": "2022-02-20T10:38:29.214Z"
   },
   {
    "duration": 5,
    "start_time": "2022-02-20T10:38:29.223Z"
   },
   {
    "duration": 7,
    "start_time": "2022-02-20T10:38:29.231Z"
   },
   {
    "duration": 1632,
    "start_time": "2022-02-20T11:14:34.783Z"
   },
   {
    "duration": 2,
    "start_time": "2022-02-20T11:14:36.418Z"
   },
   {
    "duration": 7,
    "start_time": "2022-02-20T11:14:36.424Z"
   },
   {
    "duration": 2898,
    "start_time": "2022-02-20T11:14:36.433Z"
   },
   {
    "duration": 34,
    "start_time": "2022-02-20T11:14:39.334Z"
   },
   {
    "duration": 17,
    "start_time": "2022-02-20T11:14:39.371Z"
   },
   {
    "duration": 78,
    "start_time": "2022-02-20T11:14:39.391Z"
   },
   {
    "duration": 6,
    "start_time": "2022-02-20T11:14:39.472Z"
   },
   {
    "duration": 55,
    "start_time": "2022-02-20T11:14:39.485Z"
   },
   {
    "duration": 12,
    "start_time": "2022-02-20T11:14:39.543Z"
   },
   {
    "duration": 5,
    "start_time": "2022-02-20T11:14:39.557Z"
   },
   {
    "duration": 60,
    "start_time": "2022-02-20T11:14:39.565Z"
   },
   {
    "duration": 28,
    "start_time": "2022-02-20T11:14:39.627Z"
   },
   {
    "duration": 14,
    "start_time": "2022-02-20T11:14:39.658Z"
   },
   {
    "duration": 66,
    "start_time": "2022-02-20T11:14:39.676Z"
   },
   {
    "duration": 9,
    "start_time": "2022-02-20T11:14:39.745Z"
   },
   {
    "duration": 15,
    "start_time": "2022-02-20T11:14:39.757Z"
   },
   {
    "duration": 36,
    "start_time": "2022-02-20T11:14:39.775Z"
   },
   {
    "duration": 20,
    "start_time": "2022-02-20T11:14:39.814Z"
   },
   {
    "duration": 14,
    "start_time": "2022-02-20T11:14:39.836Z"
   },
   {
    "duration": 19,
    "start_time": "2022-02-20T11:14:39.852Z"
   },
   {
    "duration": 6,
    "start_time": "2022-02-20T11:14:39.874Z"
   },
   {
    "duration": 30,
    "start_time": "2022-02-20T11:14:39.882Z"
   },
   {
    "duration": 5,
    "start_time": "2022-02-20T11:14:39.914Z"
   },
   {
    "duration": 8,
    "start_time": "2022-02-20T11:14:39.922Z"
   },
   {
    "duration": 94,
    "start_time": "2022-02-20T11:14:39.933Z"
   },
   {
    "duration": 76,
    "start_time": "2022-02-20T11:14:40.034Z"
   },
   {
    "duration": 4,
    "start_time": "2022-02-20T11:14:40.114Z"
   },
   {
    "duration": 41,
    "start_time": "2022-02-20T11:14:40.121Z"
   },
   {
    "duration": 4,
    "start_time": "2022-02-20T11:14:40.165Z"
   },
   {
    "duration": 75,
    "start_time": "2022-02-20T11:14:40.172Z"
   },
   {
    "duration": 4,
    "start_time": "2022-02-20T11:14:40.249Z"
   },
   {
    "duration": 13,
    "start_time": "2022-02-20T11:14:40.255Z"
   },
   {
    "duration": 9,
    "start_time": "2022-02-20T11:14:40.271Z"
   },
   {
    "duration": 39,
    "start_time": "2022-02-20T11:14:40.282Z"
   },
   {
    "duration": 11,
    "start_time": "2022-02-20T11:14:40.323Z"
   },
   {
    "duration": 38,
    "start_time": "2022-02-20T11:14:40.336Z"
   },
   {
    "duration": 43,
    "start_time": "2022-02-20T11:14:40.376Z"
   },
   {
    "duration": 6,
    "start_time": "2022-02-20T11:14:40.422Z"
   },
   {
    "duration": 8,
    "start_time": "2022-02-20T11:14:40.431Z"
   },
   {
    "duration": 6,
    "start_time": "2022-02-20T11:14:40.441Z"
   },
   {
    "duration": 424,
    "start_time": "2022-02-20T11:14:40.450Z"
   },
   {
    "duration": 13,
    "start_time": "2022-02-20T11:14:40.876Z"
   },
   {
    "duration": 41,
    "start_time": "2022-02-20T11:14:40.892Z"
   },
   {
    "duration": 42,
    "start_time": "2022-02-20T11:14:40.935Z"
   },
   {
    "duration": 35,
    "start_time": "2022-02-20T11:14:40.980Z"
   },
   {
    "duration": 3,
    "start_time": "2022-02-20T11:14:41.017Z"
   },
   {
    "duration": 668,
    "start_time": "2022-02-20T11:14:41.022Z"
   },
   {
    "duration": 18,
    "start_time": "2022-02-20T11:14:41.692Z"
   },
   {
    "duration": 43,
    "start_time": "2022-02-20T11:14:41.713Z"
   },
   {
    "duration": 10,
    "start_time": "2022-02-20T11:14:41.759Z"
   },
   {
    "duration": 41,
    "start_time": "2022-02-20T11:14:41.772Z"
   },
   {
    "duration": 43,
    "start_time": "2022-02-20T11:14:41.815Z"
   },
   {
    "duration": 9,
    "start_time": "2022-02-20T11:14:41.861Z"
   },
   {
    "duration": 833,
    "start_time": "2022-02-20T11:14:41.873Z"
   },
   {
    "duration": 657,
    "start_time": "2022-02-20T11:14:42.709Z"
   },
   {
    "duration": 1348,
    "start_time": "2022-02-20T11:14:43.370Z"
   },
   {
    "duration": 644,
    "start_time": "2022-02-20T11:14:44.722Z"
   },
   {
    "duration": 5,
    "start_time": "2022-02-20T11:14:45.368Z"
   },
   {
    "duration": 13,
    "start_time": "2022-02-20T11:14:45.376Z"
   },
   {
    "duration": 21,
    "start_time": "2022-02-20T11:14:45.392Z"
   },
   {
    "duration": 22,
    "start_time": "2022-02-20T11:14:45.416Z"
   },
   {
    "duration": 21,
    "start_time": "2022-02-20T11:14:45.441Z"
   },
   {
    "duration": 7,
    "start_time": "2022-02-20T11:14:45.464Z"
   },
   {
    "duration": 13,
    "start_time": "2022-02-20T11:14:45.474Z"
   },
   {
    "duration": 6,
    "start_time": "2022-02-20T11:14:45.510Z"
   },
   {
    "duration": 13,
    "start_time": "2022-02-20T11:14:45.518Z"
   },
   {
    "duration": 17,
    "start_time": "2022-02-20T11:14:45.535Z"
   },
   {
    "duration": 11,
    "start_time": "2022-02-20T11:14:45.554Z"
   },
   {
    "duration": 25,
    "start_time": "2022-02-20T11:14:45.568Z"
   },
   {
    "duration": 18,
    "start_time": "2022-02-20T11:14:45.595Z"
   },
   {
    "duration": 11,
    "start_time": "2022-02-20T11:14:45.616Z"
   },
   {
    "duration": 1067,
    "start_time": "2022-08-02T16:43:22.919Z"
   },
   {
    "duration": 2,
    "start_time": "2022-08-02T16:43:23.989Z"
   },
   {
    "duration": 12,
    "start_time": "2022-08-02T16:43:23.993Z"
   },
   {
    "duration": 2510,
    "start_time": "2022-08-02T16:43:24.007Z"
   },
   {
    "duration": 32,
    "start_time": "2022-08-02T16:43:26.519Z"
   },
   {
    "duration": 10,
    "start_time": "2022-08-02T16:43:26.552Z"
   },
   {
    "duration": 29,
    "start_time": "2022-08-02T16:43:26.564Z"
   },
   {
    "duration": 8,
    "start_time": "2022-08-02T16:43:26.595Z"
   },
   {
    "duration": 37,
    "start_time": "2022-08-02T16:43:26.604Z"
   },
   {
    "duration": 8,
    "start_time": "2022-08-02T16:43:26.643Z"
   },
   {
    "duration": 9,
    "start_time": "2022-08-02T16:43:26.653Z"
   },
   {
    "duration": 32,
    "start_time": "2022-08-02T16:43:26.664Z"
   },
   {
    "duration": 27,
    "start_time": "2022-08-02T16:43:26.697Z"
   },
   {
    "duration": 11,
    "start_time": "2022-08-02T16:43:26.726Z"
   },
   {
    "duration": 23,
    "start_time": "2022-08-02T16:43:26.738Z"
   },
   {
    "duration": 14,
    "start_time": "2022-08-02T16:43:26.763Z"
   },
   {
    "duration": 27,
    "start_time": "2022-08-02T16:43:26.778Z"
   },
   {
    "duration": 15,
    "start_time": "2022-08-02T16:43:26.807Z"
   },
   {
    "duration": 17,
    "start_time": "2022-08-02T16:43:26.824Z"
   },
   {
    "duration": 14,
    "start_time": "2022-08-02T16:43:26.842Z"
   },
   {
    "duration": 24,
    "start_time": "2022-08-02T16:43:26.857Z"
   },
   {
    "duration": 9,
    "start_time": "2022-08-02T16:43:26.883Z"
   },
   {
    "duration": 13,
    "start_time": "2022-08-02T16:43:26.893Z"
   },
   {
    "duration": 12,
    "start_time": "2022-08-02T16:43:26.907Z"
   },
   {
    "duration": 6,
    "start_time": "2022-08-02T16:43:26.921Z"
   },
   {
    "duration": 61,
    "start_time": "2022-08-02T16:43:26.928Z"
   },
   {
    "duration": 48,
    "start_time": "2022-08-02T16:43:26.990Z"
   },
   {
    "duration": 4,
    "start_time": "2022-08-02T16:43:27.042Z"
   },
   {
    "duration": 36,
    "start_time": "2022-08-02T16:43:27.047Z"
   },
   {
    "duration": 3,
    "start_time": "2022-08-02T16:43:27.085Z"
   },
   {
    "duration": 64,
    "start_time": "2022-08-02T16:43:27.090Z"
   },
   {
    "duration": 3,
    "start_time": "2022-08-02T16:43:27.155Z"
   },
   {
    "duration": 15,
    "start_time": "2022-08-02T16:43:27.160Z"
   },
   {
    "duration": 6,
    "start_time": "2022-08-02T16:43:27.177Z"
   },
   {
    "duration": 21,
    "start_time": "2022-08-02T16:43:27.184Z"
   },
   {
    "duration": 14,
    "start_time": "2022-08-02T16:43:27.207Z"
   },
   {
    "duration": 53,
    "start_time": "2022-08-02T16:43:27.222Z"
   },
   {
    "duration": 10,
    "start_time": "2022-08-02T16:43:27.277Z"
   },
   {
    "duration": 20,
    "start_time": "2022-08-02T16:43:27.289Z"
   },
   {
    "duration": 19,
    "start_time": "2022-08-02T16:43:27.311Z"
   },
   {
    "duration": 9,
    "start_time": "2022-08-02T16:43:27.332Z"
   },
   {
    "duration": 150,
    "start_time": "2022-08-02T16:43:27.343Z"
   },
   {
    "duration": 4,
    "start_time": "2022-08-02T16:43:27.495Z"
   },
   {
    "duration": 34,
    "start_time": "2022-08-02T16:43:27.500Z"
   },
   {
    "duration": 23,
    "start_time": "2022-08-02T16:43:27.535Z"
   },
   {
    "duration": 7,
    "start_time": "2022-08-02T16:43:27.559Z"
   },
   {
    "duration": 14,
    "start_time": "2022-08-02T16:43:27.567Z"
   },
   {
    "duration": 257,
    "start_time": "2022-08-02T16:43:27.583Z"
   },
   {
    "duration": 4,
    "start_time": "2022-08-02T16:43:27.841Z"
   },
   {
    "duration": 48,
    "start_time": "2022-08-02T16:43:27.846Z"
   },
   {
    "duration": 11,
    "start_time": "2022-08-02T16:43:27.896Z"
   },
   {
    "duration": 12,
    "start_time": "2022-08-02T16:43:27.908Z"
   },
   {
    "duration": 31,
    "start_time": "2022-08-02T16:43:27.921Z"
   },
   {
    "duration": 7,
    "start_time": "2022-08-02T16:43:27.953Z"
   },
   {
    "duration": 372,
    "start_time": "2022-08-02T16:43:27.961Z"
   },
   {
    "duration": 257,
    "start_time": "2022-08-02T16:43:28.335Z"
   },
   {
    "duration": 615,
    "start_time": "2022-08-02T16:43:28.594Z"
   },
   {
    "duration": 250,
    "start_time": "2022-08-02T16:43:29.211Z"
   },
   {
    "duration": 4,
    "start_time": "2022-08-02T16:43:29.463Z"
   },
   {
    "duration": 9,
    "start_time": "2022-08-02T16:43:29.468Z"
   },
   {
    "duration": 12,
    "start_time": "2022-08-02T16:43:29.478Z"
   },
   {
    "duration": 7,
    "start_time": "2022-08-02T16:43:29.502Z"
   },
   {
    "duration": 4,
    "start_time": "2022-08-02T16:43:29.511Z"
   },
   {
    "duration": 6,
    "start_time": "2022-08-02T16:43:29.516Z"
   },
   {
    "duration": 4,
    "start_time": "2022-08-02T16:43:29.523Z"
   },
   {
    "duration": 6,
    "start_time": "2022-08-02T16:43:29.529Z"
   },
   {
    "duration": 6,
    "start_time": "2022-08-02T16:43:29.536Z"
   },
   {
    "duration": 6,
    "start_time": "2022-08-02T16:43:29.543Z"
   },
   {
    "duration": 6,
    "start_time": "2022-08-02T16:43:29.551Z"
   },
   {
    "duration": 9,
    "start_time": "2022-08-02T16:43:29.558Z"
   },
   {
    "duration": 34,
    "start_time": "2022-08-02T16:43:29.569Z"
   },
   {
    "duration": 3,
    "start_time": "2022-08-02T16:43:29.605Z"
   }
  ],
  "kernelspec": {
   "display_name": "Python 3 (ipykernel)",
   "language": "python",
   "name": "python3"
  },
  "language_info": {
   "codemirror_mode": {
    "name": "ipython",
    "version": 3
   },
   "file_extension": ".py",
   "mimetype": "text/x-python",
   "name": "python",
   "nbconvert_exporter": "python",
   "pygments_lexer": "ipython3",
   "version": "3.9.7"
  },
  "toc": {
   "base_numbering": 1,
   "nav_menu": {
    "height": "149px",
    "width": "210px"
   },
   "number_sections": true,
   "sideBar": true,
   "skip_h1_title": true,
   "title_cell": "Table of Contents",
   "title_sidebar": "Contents",
   "toc_cell": false,
   "toc_position": {},
   "toc_section_display": true,
   "toc_window_display": true
  }
 },
 "nbformat": 4,
 "nbformat_minor": 2
}
