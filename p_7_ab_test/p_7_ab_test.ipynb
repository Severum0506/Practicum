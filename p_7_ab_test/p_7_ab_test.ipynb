{
 "cells": [
  {
   "cell_type": "markdown",
   "metadata": {},
   "source": [
    "# Описание проекта"
   ]
  },
  {
   "cell_type": "markdown",
   "metadata": {},
   "source": [
    "**Контекст**\n",
    "\n",
    "Вы — аналитик крупного интернет-магазина. Вместе с отделом маркетинга вы подготовили список гипотез для увеличения выручки.\n",
    "Приоритизируйте гипотезы, запустите A/B-тест и проанализируйте результаты."
   ]
  },
  {
   "cell_type": "markdown",
   "metadata": {},
   "source": [
    "## Часть 1. Приоритизация гипотез."
   ]
  },
  {
   "cell_type": "markdown",
   "metadata": {},
   "source": [
    "**Задача:**\n",
    "- Применить фреймворк ICE для приоритизации гипотез. Отсортировать их по убыванию приоритета.\n",
    "- Применить фреймворк RICE для приоритизации гипотез. Отсортировать их по убыванию приоритета.\n",
    "- Указать, как изменилась приоритизация гипотез при применении RICE вместо ICE. Объяснить, почему так произошло."
   ]
  },
  {
   "cell_type": "markdown",
   "metadata": {},
   "source": [
    "## Часть 2. Анализ A/B-теста"
   ]
  },
  {
   "cell_type": "markdown",
   "metadata": {},
   "source": [
    "**Задача**\n",
    "\n",
    "Проанализировать A/B-тест:\n",
    "- Построить график кумулятивной выручки по группам. Сделать выводы и предположения.\n",
    "- Построить график кумулятивного среднего чека по группам. Сделайть выводы и предположения.\n",
    "- Построить график относительного изменения кумулятивного среднего чека группы B к группе A. Сделать выводы и предположения.\n",
    "- Построить график кумулятивной конверсии по группам. Сделать выводы и предположения.\n",
    "- Построить график относительного изменения кумулятивной конверсии группы B к группе A. Сделать выводы и предположения.\n",
    "- Построить точечный график количества заказов по пользователям. Сделать выводы и предположения.\n",
    "- Посчитать 95-й и 99-й перцентили количества заказов на пользователя. Выбрать границу для определения аномальных пользователей.\n",
    "- Построить точечный график стоимостей заказов. Сделать выводы и предположения.\n",
    "- Посчитать 95-й и 99-й перцентили стоимости заказов. Выбрать границу для определения аномальных заказов.\n",
    "- Посчитать статистическую значимость различий в конверсии между группами по «сырым» данным. Сделать выводы и предположения.\n",
    "- Посчитать статистическую значимость различий в среднем чеке заказа между группами по «сырым» данным. Сделать выводы и предположения.\n",
    "- Посчитать статистическую значимость различий в конверсии между группами по «очищенным» данным. Сделать выводы и предположения.\n",
    "- Посчитать статистическую значимость различий в среднем чеке заказа между группами по «очищенным» данным. Сделать выводы и предположения.\n",
    "- Принять решение по результатам теста и объясните его. Варианты решений: 1. Остановить тест, зафиксировать победу одной из групп. 2. Остановить тест, зафиксировать отсутствие различий между группами. 3. Продолжить тест."
   ]
  },
  {
   "cell_type": "markdown",
   "metadata": {},
   "source": [
    "## Описание данных"
   ]
  },
  {
   "cell_type": "markdown",
   "metadata": {},
   "source": [
    "**Файл** \"/datasets/hypothesis.csv\"\n",
    "\n",
    "**Hypothesis** — краткое описание гипотезы;\n",
    "\n",
    "**Reach** — охват пользователей по 10-балльной шкале;\n",
    "\n",
    "**Impact** — влияние на пользователей по 10-балльной шкале;\n",
    "\n",
    "**Confidence** — уверенность в гипотезе по 10-балльной шкале;\n",
    "\n",
    "**Efforts** — затраты ресурсов на проверку гипотезы по 10-балльной шкале. Чем больше значение Efforts, тем дороже проверка гипотезы.\n",
    "\n",
    "**Файл** \"/datasets/orders.csv\" \n",
    "\n",
    "**transactionId** — идентификатор заказа;\n",
    "\n",
    "**visitorId** — идентификатор пользователя, совершившего заказ;\n",
    "\n",
    "**date** — дата, когда был совершён заказ;\n",
    "**revenue** — выручка заказа;\n",
    "**group** — группа A/B-теста, в которую попал заказ.\n",
    "\n",
    "**Файл** \"/datasets/visitors.csv\" \n",
    "\n",
    "**date** — дата;\n",
    "\n",
    "**group** — группа A/B-теста;\n",
    "\n",
    "**visitors** — количество пользователей в указанную дату в указанной группе A/B-теста"
   ]
  },
  {
   "cell_type": "markdown",
   "metadata": {},
   "source": [
    "# Выполнение проекта"
   ]
  },
  {
   "cell_type": "code",
   "execution_count": 1,
   "metadata": {},
   "outputs": [],
   "source": [
    "import pandas as pd\n",
    "import seaborn as sns\n",
    "import matplotlib.pyplot as plt\n",
    "import numpy as np \n",
    "from scipy import stats as st\n",
    "from scipy.stats import ttest_ind\n",
    "import time\n",
    "import datetime as dt\n",
    "from datetime import date, timedelta\n",
    "\n",
    "import warnings\n",
    "warnings.simplefilter('ignore')\n",
    "\n",
    "pd.set_option('display.max_columns', None)"
   ]
  },
  {
   "cell_type": "code",
   "execution_count": 2,
   "metadata": {},
   "outputs": [],
   "source": [
    "hypothesis = pd.read_csv(\"/datasets/hypothesis.csv\")\n",
    "orders = pd.read_csv(\"/datasets/orders.csv\")\n",
    "visitors = pd.read_csv(\"/datasets/visitors.csv\")"
   ]
  },
  {
   "cell_type": "markdown",
   "metadata": {},
   "source": [
    "## **Часть 1. Приоритизация гипотез.**"
   ]
  },
  {
   "cell_type": "code",
   "execution_count": 3,
   "metadata": {
    "scrolled": false
   },
   "outputs": [
    {
     "data": {
      "text/html": [
       "<div>\n",
       "<style scoped>\n",
       "    .dataframe tbody tr th:only-of-type {\n",
       "        vertical-align: middle;\n",
       "    }\n",
       "\n",
       "    .dataframe tbody tr th {\n",
       "        vertical-align: top;\n",
       "    }\n",
       "\n",
       "    .dataframe thead th {\n",
       "        text-align: right;\n",
       "    }\n",
       "</style>\n",
       "<table border=\"1\" class=\"dataframe\">\n",
       "  <thead>\n",
       "    <tr style=\"text-align: right;\">\n",
       "      <th></th>\n",
       "      <th>Hypothesis</th>\n",
       "      <th>Reach</th>\n",
       "      <th>Impact</th>\n",
       "      <th>Confidence</th>\n",
       "      <th>Efforts</th>\n",
       "    </tr>\n",
       "  </thead>\n",
       "  <tbody>\n",
       "    <tr>\n",
       "      <th>0</th>\n",
       "      <td>Добавить два новых канала привлечения трафика, что позволит привлекать на 30% больше пользователей</td>\n",
       "      <td>3</td>\n",
       "      <td>10</td>\n",
       "      <td>8</td>\n",
       "      <td>6</td>\n",
       "    </tr>\n",
       "    <tr>\n",
       "      <th>1</th>\n",
       "      <td>Запустить собственную службу доставки, что сократит срок доставки заказов</td>\n",
       "      <td>2</td>\n",
       "      <td>5</td>\n",
       "      <td>4</td>\n",
       "      <td>10</td>\n",
       "    </tr>\n",
       "    <tr>\n",
       "      <th>2</th>\n",
       "      <td>Добавить блоки рекомендаций товаров на сайт интернет магазина, чтобы повысить конверсию и средний чек заказа</td>\n",
       "      <td>8</td>\n",
       "      <td>3</td>\n",
       "      <td>7</td>\n",
       "      <td>3</td>\n",
       "    </tr>\n",
       "    <tr>\n",
       "      <th>3</th>\n",
       "      <td>Изменить структура категорий, что увеличит конверсию, т.к. пользователи быстрее найдут нужный товар</td>\n",
       "      <td>8</td>\n",
       "      <td>3</td>\n",
       "      <td>3</td>\n",
       "      <td>8</td>\n",
       "    </tr>\n",
       "    <tr>\n",
       "      <th>4</th>\n",
       "      <td>Изменить цвет фона главной страницы, чтобы увеличить вовлеченность пользователей</td>\n",
       "      <td>3</td>\n",
       "      <td>1</td>\n",
       "      <td>1</td>\n",
       "      <td>1</td>\n",
       "    </tr>\n",
       "    <tr>\n",
       "      <th>5</th>\n",
       "      <td>Добавить страницу отзывов клиентов о магазине, что позволит увеличить количество заказов</td>\n",
       "      <td>3</td>\n",
       "      <td>2</td>\n",
       "      <td>2</td>\n",
       "      <td>3</td>\n",
       "    </tr>\n",
       "    <tr>\n",
       "      <th>6</th>\n",
       "      <td>Показать на главной странице баннеры с актуальными акциями и распродажами, чтобы увеличить конверсию</td>\n",
       "      <td>5</td>\n",
       "      <td>3</td>\n",
       "      <td>8</td>\n",
       "      <td>3</td>\n",
       "    </tr>\n",
       "    <tr>\n",
       "      <th>7</th>\n",
       "      <td>Добавить форму подписки на все основные страницы, чтобы собрать базу клиентов для email-рассылок</td>\n",
       "      <td>10</td>\n",
       "      <td>7</td>\n",
       "      <td>8</td>\n",
       "      <td>5</td>\n",
       "    </tr>\n",
       "    <tr>\n",
       "      <th>8</th>\n",
       "      <td>Запустить акцию, дающую скидку на товар в день рождения</td>\n",
       "      <td>1</td>\n",
       "      <td>9</td>\n",
       "      <td>9</td>\n",
       "      <td>5</td>\n",
       "    </tr>\n",
       "  </tbody>\n",
       "</table>\n",
       "</div>"
      ],
      "text/plain": [
       "                                                                                                     Hypothesis  \\\n",
       "0            Добавить два новых канала привлечения трафика, что позволит привлекать на 30% больше пользователей   \n",
       "1                                     Запустить собственную службу доставки, что сократит срок доставки заказов   \n",
       "2  Добавить блоки рекомендаций товаров на сайт интернет магазина, чтобы повысить конверсию и средний чек заказа   \n",
       "3           Изменить структура категорий, что увеличит конверсию, т.к. пользователи быстрее найдут нужный товар   \n",
       "4                              Изменить цвет фона главной страницы, чтобы увеличить вовлеченность пользователей   \n",
       "5                      Добавить страницу отзывов клиентов о магазине, что позволит увеличить количество заказов   \n",
       "6          Показать на главной странице баннеры с актуальными акциями и распродажами, чтобы увеличить конверсию   \n",
       "7              Добавить форму подписки на все основные страницы, чтобы собрать базу клиентов для email-рассылок   \n",
       "8                                                       Запустить акцию, дающую скидку на товар в день рождения   \n",
       "\n",
       "   Reach  Impact  Confidence  Efforts  \n",
       "0      3      10           8        6  \n",
       "1      2       5           4       10  \n",
       "2      8       3           7        3  \n",
       "3      8       3           3        8  \n",
       "4      3       1           1        1  \n",
       "5      3       2           2        3  \n",
       "6      5       3           8        3  \n",
       "7     10       7           8        5  \n",
       "8      1       9           9        5  "
      ]
     },
     "execution_count": 3,
     "metadata": {},
     "output_type": "execute_result"
    }
   ],
   "source": [
    "pd.options.display.max_colwidth = 150\n",
    "hypothesis"
   ]
  },
  {
   "cell_type": "code",
   "execution_count": 5,
   "metadata": {},
   "outputs": [
    {
     "data": {
      "text/html": [
       "<div>\n",
       "<style scoped>\n",
       "    .dataframe tbody tr th:only-of-type {\n",
       "        vertical-align: middle;\n",
       "    }\n",
       "\n",
       "    .dataframe tbody tr th {\n",
       "        vertical-align: top;\n",
       "    }\n",
       "\n",
       "    .dataframe thead th {\n",
       "        text-align: right;\n",
       "    }\n",
       "</style>\n",
       "<table border=\"1\" class=\"dataframe\">\n",
       "  <thead>\n",
       "    <tr style=\"text-align: right;\">\n",
       "      <th></th>\n",
       "      <th>Hypothesis</th>\n",
       "      <th>ICE</th>\n",
       "    </tr>\n",
       "  </thead>\n",
       "  <tbody>\n",
       "    <tr>\n",
       "      <th>8</th>\n",
       "      <td>Запустить акцию, дающую скидку на товар в день рождения</td>\n",
       "      <td>16.200000</td>\n",
       "    </tr>\n",
       "    <tr>\n",
       "      <th>0</th>\n",
       "      <td>Добавить два новых канала привлечения трафика, что позволит привлекать на 30% больше пользователей</td>\n",
       "      <td>13.333333</td>\n",
       "    </tr>\n",
       "    <tr>\n",
       "      <th>7</th>\n",
       "      <td>Добавить форму подписки на все основные страницы, чтобы собрать базу клиентов для email-рассылок</td>\n",
       "      <td>11.200000</td>\n",
       "    </tr>\n",
       "    <tr>\n",
       "      <th>6</th>\n",
       "      <td>Показать на главной странице баннеры с актуальными акциями и распродажами, чтобы увеличить конверсию</td>\n",
       "      <td>8.000000</td>\n",
       "    </tr>\n",
       "    <tr>\n",
       "      <th>2</th>\n",
       "      <td>Добавить блоки рекомендаций товаров на сайт интернет магазина, чтобы повысить конверсию и средний чек заказа</td>\n",
       "      <td>7.000000</td>\n",
       "    </tr>\n",
       "    <tr>\n",
       "      <th>1</th>\n",
       "      <td>Запустить собственную службу доставки, что сократит срок доставки заказов</td>\n",
       "      <td>2.000000</td>\n",
       "    </tr>\n",
       "    <tr>\n",
       "      <th>5</th>\n",
       "      <td>Добавить страницу отзывов клиентов о магазине, что позволит увеличить количество заказов</td>\n",
       "      <td>1.333333</td>\n",
       "    </tr>\n",
       "    <tr>\n",
       "      <th>3</th>\n",
       "      <td>Изменить структура категорий, что увеличит конверсию, т.к. пользователи быстрее найдут нужный товар</td>\n",
       "      <td>1.125000</td>\n",
       "    </tr>\n",
       "    <tr>\n",
       "      <th>4</th>\n",
       "      <td>Изменить цвет фона главной страницы, чтобы увеличить вовлеченность пользователей</td>\n",
       "      <td>1.000000</td>\n",
       "    </tr>\n",
       "  </tbody>\n",
       "</table>\n",
       "</div>"
      ],
      "text/plain": [
       "                                                                                                     Hypothesis  \\\n",
       "8                                                       Запустить акцию, дающую скидку на товар в день рождения   \n",
       "0            Добавить два новых канала привлечения трафика, что позволит привлекать на 30% больше пользователей   \n",
       "7              Добавить форму подписки на все основные страницы, чтобы собрать базу клиентов для email-рассылок   \n",
       "6          Показать на главной странице баннеры с актуальными акциями и распродажами, чтобы увеличить конверсию   \n",
       "2  Добавить блоки рекомендаций товаров на сайт интернет магазина, чтобы повысить конверсию и средний чек заказа   \n",
       "1                                     Запустить собственную службу доставки, что сократит срок доставки заказов   \n",
       "5                      Добавить страницу отзывов клиентов о магазине, что позволит увеличить количество заказов   \n",
       "3           Изменить структура категорий, что увеличит конверсию, т.к. пользователи быстрее найдут нужный товар   \n",
       "4                              Изменить цвет фона главной страницы, чтобы увеличить вовлеченность пользователей   \n",
       "\n",
       "         ICE  \n",
       "8  16.200000  \n",
       "0  13.333333  \n",
       "7  11.200000  \n",
       "6   8.000000  \n",
       "2   7.000000  \n",
       "1   2.000000  \n",
       "5   1.333333  \n",
       "3   1.125000  \n",
       "4   1.000000  "
      ]
     },
     "metadata": {},
     "output_type": "display_data"
    }
   ],
   "source": [
    "hypothesis['ICE'] = hypothesis['Impact'] * hypothesis['Confidence'] / hypothesis['Efforts']\n",
    "display(hypothesis[['Hypothesis', 'ICE']].sort_values(by='ICE', ascending=False))"
   ]
  },
  {
   "cell_type": "code",
   "execution_count": 6,
   "metadata": {},
   "outputs": [
    {
     "data": {
      "text/html": [
       "<div>\n",
       "<style scoped>\n",
       "    .dataframe tbody tr th:only-of-type {\n",
       "        vertical-align: middle;\n",
       "    }\n",
       "\n",
       "    .dataframe tbody tr th {\n",
       "        vertical-align: top;\n",
       "    }\n",
       "\n",
       "    .dataframe thead th {\n",
       "        text-align: right;\n",
       "    }\n",
       "</style>\n",
       "<table border=\"1\" class=\"dataframe\">\n",
       "  <thead>\n",
       "    <tr style=\"text-align: right;\">\n",
       "      <th></th>\n",
       "      <th>Hypothesis</th>\n",
       "      <th>RICE</th>\n",
       "    </tr>\n",
       "  </thead>\n",
       "  <tbody>\n",
       "    <tr>\n",
       "      <th>7</th>\n",
       "      <td>Добавить форму подписки на все основные страницы, чтобы собрать базу клиентов для email-рассылок</td>\n",
       "      <td>112.0</td>\n",
       "    </tr>\n",
       "    <tr>\n",
       "      <th>2</th>\n",
       "      <td>Добавить блоки рекомендаций товаров на сайт интернет магазина, чтобы повысить конверсию и средний чек заказа</td>\n",
       "      <td>56.0</td>\n",
       "    </tr>\n",
       "    <tr>\n",
       "      <th>0</th>\n",
       "      <td>Добавить два новых канала привлечения трафика, что позволит привлекать на 30% больше пользователей</td>\n",
       "      <td>40.0</td>\n",
       "    </tr>\n",
       "    <tr>\n",
       "      <th>6</th>\n",
       "      <td>Показать на главной странице баннеры с актуальными акциями и распродажами, чтобы увеличить конверсию</td>\n",
       "      <td>40.0</td>\n",
       "    </tr>\n",
       "    <tr>\n",
       "      <th>8</th>\n",
       "      <td>Запустить акцию, дающую скидку на товар в день рождения</td>\n",
       "      <td>16.2</td>\n",
       "    </tr>\n",
       "    <tr>\n",
       "      <th>3</th>\n",
       "      <td>Изменить структура категорий, что увеличит конверсию, т.к. пользователи быстрее найдут нужный товар</td>\n",
       "      <td>9.0</td>\n",
       "    </tr>\n",
       "    <tr>\n",
       "      <th>1</th>\n",
       "      <td>Запустить собственную службу доставки, что сократит срок доставки заказов</td>\n",
       "      <td>4.0</td>\n",
       "    </tr>\n",
       "    <tr>\n",
       "      <th>5</th>\n",
       "      <td>Добавить страницу отзывов клиентов о магазине, что позволит увеличить количество заказов</td>\n",
       "      <td>4.0</td>\n",
       "    </tr>\n",
       "    <tr>\n",
       "      <th>4</th>\n",
       "      <td>Изменить цвет фона главной страницы, чтобы увеличить вовлеченность пользователей</td>\n",
       "      <td>3.0</td>\n",
       "    </tr>\n",
       "  </tbody>\n",
       "</table>\n",
       "</div>"
      ],
      "text/plain": [
       "                                                                                                     Hypothesis  \\\n",
       "7              Добавить форму подписки на все основные страницы, чтобы собрать базу клиентов для email-рассылок   \n",
       "2  Добавить блоки рекомендаций товаров на сайт интернет магазина, чтобы повысить конверсию и средний чек заказа   \n",
       "0            Добавить два новых канала привлечения трафика, что позволит привлекать на 30% больше пользователей   \n",
       "6          Показать на главной странице баннеры с актуальными акциями и распродажами, чтобы увеличить конверсию   \n",
       "8                                                       Запустить акцию, дающую скидку на товар в день рождения   \n",
       "3           Изменить структура категорий, что увеличит конверсию, т.к. пользователи быстрее найдут нужный товар   \n",
       "1                                     Запустить собственную службу доставки, что сократит срок доставки заказов   \n",
       "5                      Добавить страницу отзывов клиентов о магазине, что позволит увеличить количество заказов   \n",
       "4                              Изменить цвет фона главной страницы, чтобы увеличить вовлеченность пользователей   \n",
       "\n",
       "    RICE  \n",
       "7  112.0  \n",
       "2   56.0  \n",
       "0   40.0  \n",
       "6   40.0  \n",
       "8   16.2  \n",
       "3    9.0  \n",
       "1    4.0  \n",
       "5    4.0  \n",
       "4    3.0  "
      ]
     },
     "metadata": {},
     "output_type": "display_data"
    }
   ],
   "source": [
    "hypothesis['RICE'] = hypothesis['Reach'] * hypothesis['Impact'] * hypothesis['Confidence'] / hypothesis['Efforts']\n",
    "display(hypothesis[['Hypothesis', 'RICE']].sort_values(by='RICE', ascending=False))"
   ]
  },
  {
   "cell_type": "markdown",
   "metadata": {},
   "source": [
    "**Вывод**\n",
    "\n",
    "Мы применили два метода приоритизации гипотез, ICE и RICE.\n",
    "\n",
    "ICE — один из самых популярных способов приоритизации задач (\"impact, confidence, effort / ease «влияние, уверенность, усилия / простота»\").\n",
    "\n",
    "У метода ICE есть модификация - RICE (R от англ. reach, «охват»).\n",
    "\n",
    "Ниже указаны параметры, которые необходимо заранее оценить.\n",
    "- Reach — скольких пользователей затронет изменение, которое вы хотите внести;\n",
    "- Impact — насколько сильно изменение повлияет на пользователей, их опыт и удовлетворение от продукта;\n",
    "- Confidence — насколько вы уверены, что это изменение повлияет на пользователей именно так;\n",
    "- Efforts — сколько стоит протестировать эту гипотезу.\n",
    "\n",
    "При применении различных методов приоритизации гипотез важно учитывать положение гипотезы среди остальных. В данном случае гипотезы с индексами 8, 0, 7, 6, 2 занимают первые 5 мест при проверке обоими методами. Но изменился их порядок, \"8\" гипотеза переместилась с первого на пятое место, а гипотеза \"2\" напротив поднялась с пятого на второе. Это произошло, потому что второй метод, кроме прочего, учитывает так же  количество пользователей, которых затронет изменение. "
   ]
  },
  {
   "cell_type": "markdown",
   "metadata": {},
   "source": [
    "**Подготовка данных к анализу**"
   ]
  },
  {
   "cell_type": "code",
   "execution_count": 7,
   "metadata": {
    "scrolled": false
   },
   "outputs": [
    {
     "name": "stdout",
     "output_type": "stream",
     "text": [
      "<class 'pandas.core.frame.DataFrame'>\n",
      "RangeIndex: 1197 entries, 0 to 1196\n",
      "Data columns (total 5 columns):\n",
      " #   Column         Non-Null Count  Dtype \n",
      "---  ------         --------------  ----- \n",
      " 0   transactionId  1197 non-null   int64 \n",
      " 1   visitorId      1197 non-null   int64 \n",
      " 2   date           1197 non-null   object\n",
      " 3   revenue        1197 non-null   int64 \n",
      " 4   group          1197 non-null   object\n",
      "dtypes: int64(3), object(2)\n",
      "memory usage: 46.9+ KB\n"
     ]
    },
    {
     "data": {
      "text/html": [
       "<div>\n",
       "<style scoped>\n",
       "    .dataframe tbody tr th:only-of-type {\n",
       "        vertical-align: middle;\n",
       "    }\n",
       "\n",
       "    .dataframe tbody tr th {\n",
       "        vertical-align: top;\n",
       "    }\n",
       "\n",
       "    .dataframe thead th {\n",
       "        text-align: right;\n",
       "    }\n",
       "</style>\n",
       "<table border=\"1\" class=\"dataframe\">\n",
       "  <thead>\n",
       "    <tr style=\"text-align: right;\">\n",
       "      <th></th>\n",
       "      <th>transactionId</th>\n",
       "      <th>visitorId</th>\n",
       "      <th>date</th>\n",
       "      <th>revenue</th>\n",
       "      <th>group</th>\n",
       "    </tr>\n",
       "  </thead>\n",
       "  <tbody>\n",
       "    <tr>\n",
       "      <th>0</th>\n",
       "      <td>3667963787</td>\n",
       "      <td>3312258926</td>\n",
       "      <td>2019-08-15</td>\n",
       "      <td>1650</td>\n",
       "      <td>B</td>\n",
       "    </tr>\n",
       "    <tr>\n",
       "      <th>1</th>\n",
       "      <td>2804400009</td>\n",
       "      <td>3642806036</td>\n",
       "      <td>2019-08-15</td>\n",
       "      <td>730</td>\n",
       "      <td>B</td>\n",
       "    </tr>\n",
       "    <tr>\n",
       "      <th>2</th>\n",
       "      <td>2961555356</td>\n",
       "      <td>4069496402</td>\n",
       "      <td>2019-08-15</td>\n",
       "      <td>400</td>\n",
       "      <td>A</td>\n",
       "    </tr>\n",
       "    <tr>\n",
       "      <th>3</th>\n",
       "      <td>3797467345</td>\n",
       "      <td>1196621759</td>\n",
       "      <td>2019-08-15</td>\n",
       "      <td>9759</td>\n",
       "      <td>B</td>\n",
       "    </tr>\n",
       "    <tr>\n",
       "      <th>4</th>\n",
       "      <td>2282983706</td>\n",
       "      <td>2322279887</td>\n",
       "      <td>2019-08-15</td>\n",
       "      <td>2308</td>\n",
       "      <td>B</td>\n",
       "    </tr>\n",
       "    <tr>\n",
       "      <th>...</th>\n",
       "      <td>...</td>\n",
       "      <td>...</td>\n",
       "      <td>...</td>\n",
       "      <td>...</td>\n",
       "      <td>...</td>\n",
       "    </tr>\n",
       "    <tr>\n",
       "      <th>1192</th>\n",
       "      <td>2662137336</td>\n",
       "      <td>3733762160</td>\n",
       "      <td>2019-08-14</td>\n",
       "      <td>6490</td>\n",
       "      <td>B</td>\n",
       "    </tr>\n",
       "    <tr>\n",
       "      <th>1193</th>\n",
       "      <td>2203539145</td>\n",
       "      <td>370388673</td>\n",
       "      <td>2019-08-14</td>\n",
       "      <td>3190</td>\n",
       "      <td>A</td>\n",
       "    </tr>\n",
       "    <tr>\n",
       "      <th>1194</th>\n",
       "      <td>1807773912</td>\n",
       "      <td>573423106</td>\n",
       "      <td>2019-08-14</td>\n",
       "      <td>10550</td>\n",
       "      <td>A</td>\n",
       "    </tr>\n",
       "    <tr>\n",
       "      <th>1195</th>\n",
       "      <td>1947021204</td>\n",
       "      <td>1614305549</td>\n",
       "      <td>2019-08-14</td>\n",
       "      <td>100</td>\n",
       "      <td>A</td>\n",
       "    </tr>\n",
       "    <tr>\n",
       "      <th>1196</th>\n",
       "      <td>3936777065</td>\n",
       "      <td>2108080724</td>\n",
       "      <td>2019-08-15</td>\n",
       "      <td>202740</td>\n",
       "      <td>B</td>\n",
       "    </tr>\n",
       "  </tbody>\n",
       "</table>\n",
       "<p>1197 rows × 5 columns</p>\n",
       "</div>"
      ],
      "text/plain": [
       "      transactionId   visitorId        date  revenue group\n",
       "0        3667963787  3312258926  2019-08-15     1650     B\n",
       "1        2804400009  3642806036  2019-08-15      730     B\n",
       "2        2961555356  4069496402  2019-08-15      400     A\n",
       "3        3797467345  1196621759  2019-08-15     9759     B\n",
       "4        2282983706  2322279887  2019-08-15     2308     B\n",
       "...             ...         ...         ...      ...   ...\n",
       "1192     2662137336  3733762160  2019-08-14     6490     B\n",
       "1193     2203539145   370388673  2019-08-14     3190     A\n",
       "1194     1807773912   573423106  2019-08-14    10550     A\n",
       "1195     1947021204  1614305549  2019-08-14      100     A\n",
       "1196     3936777065  2108080724  2019-08-15   202740     B\n",
       "\n",
       "[1197 rows x 5 columns]"
      ]
     },
     "execution_count": 7,
     "metadata": {},
     "output_type": "execute_result"
    }
   ],
   "source": [
    "orders.info()\n",
    "orders"
   ]
  },
  {
   "cell_type": "code",
   "execution_count": 8,
   "metadata": {},
   "outputs": [],
   "source": [
    "orders['date'] = orders['date'].map(\n",
    "    lambda x: dt.datetime.strptime(x, '%Y-%m-%d')\n",
    ")"
   ]
  },
  {
   "cell_type": "code",
   "execution_count": 9,
   "metadata": {
    "scrolled": true
   },
   "outputs": [
    {
     "name": "stdout",
     "output_type": "stream",
     "text": [
      "<class 'pandas.core.frame.DataFrame'>\n",
      "RangeIndex: 62 entries, 0 to 61\n",
      "Data columns (total 3 columns):\n",
      " #   Column    Non-Null Count  Dtype \n",
      "---  ------    --------------  ----- \n",
      " 0   date      62 non-null     object\n",
      " 1   group     62 non-null     object\n",
      " 2   visitors  62 non-null     int64 \n",
      "dtypes: int64(1), object(2)\n",
      "memory usage: 1.6+ KB\n"
     ]
    },
    {
     "data": {
      "text/html": [
       "<div>\n",
       "<style scoped>\n",
       "    .dataframe tbody tr th:only-of-type {\n",
       "        vertical-align: middle;\n",
       "    }\n",
       "\n",
       "    .dataframe tbody tr th {\n",
       "        vertical-align: top;\n",
       "    }\n",
       "\n",
       "    .dataframe thead th {\n",
       "        text-align: right;\n",
       "    }\n",
       "</style>\n",
       "<table border=\"1\" class=\"dataframe\">\n",
       "  <thead>\n",
       "    <tr style=\"text-align: right;\">\n",
       "      <th></th>\n",
       "      <th>date</th>\n",
       "      <th>group</th>\n",
       "      <th>visitors</th>\n",
       "    </tr>\n",
       "  </thead>\n",
       "  <tbody>\n",
       "    <tr>\n",
       "      <th>0</th>\n",
       "      <td>2019-08-01</td>\n",
       "      <td>A</td>\n",
       "      <td>719</td>\n",
       "    </tr>\n",
       "    <tr>\n",
       "      <th>1</th>\n",
       "      <td>2019-08-02</td>\n",
       "      <td>A</td>\n",
       "      <td>619</td>\n",
       "    </tr>\n",
       "    <tr>\n",
       "      <th>2</th>\n",
       "      <td>2019-08-03</td>\n",
       "      <td>A</td>\n",
       "      <td>507</td>\n",
       "    </tr>\n",
       "    <tr>\n",
       "      <th>3</th>\n",
       "      <td>2019-08-04</td>\n",
       "      <td>A</td>\n",
       "      <td>717</td>\n",
       "    </tr>\n",
       "    <tr>\n",
       "      <th>4</th>\n",
       "      <td>2019-08-05</td>\n",
       "      <td>A</td>\n",
       "      <td>756</td>\n",
       "    </tr>\n",
       "    <tr>\n",
       "      <th>...</th>\n",
       "      <td>...</td>\n",
       "      <td>...</td>\n",
       "      <td>...</td>\n",
       "    </tr>\n",
       "    <tr>\n",
       "      <th>57</th>\n",
       "      <td>2019-08-27</td>\n",
       "      <td>B</td>\n",
       "      <td>720</td>\n",
       "    </tr>\n",
       "    <tr>\n",
       "      <th>58</th>\n",
       "      <td>2019-08-28</td>\n",
       "      <td>B</td>\n",
       "      <td>654</td>\n",
       "    </tr>\n",
       "    <tr>\n",
       "      <th>59</th>\n",
       "      <td>2019-08-29</td>\n",
       "      <td>B</td>\n",
       "      <td>531</td>\n",
       "    </tr>\n",
       "    <tr>\n",
       "      <th>60</th>\n",
       "      <td>2019-08-30</td>\n",
       "      <td>B</td>\n",
       "      <td>490</td>\n",
       "    </tr>\n",
       "    <tr>\n",
       "      <th>61</th>\n",
       "      <td>2019-08-31</td>\n",
       "      <td>B</td>\n",
       "      <td>718</td>\n",
       "    </tr>\n",
       "  </tbody>\n",
       "</table>\n",
       "<p>62 rows × 3 columns</p>\n",
       "</div>"
      ],
      "text/plain": [
       "          date group  visitors\n",
       "0   2019-08-01     A       719\n",
       "1   2019-08-02     A       619\n",
       "2   2019-08-03     A       507\n",
       "3   2019-08-04     A       717\n",
       "4   2019-08-05     A       756\n",
       "..         ...   ...       ...\n",
       "57  2019-08-27     B       720\n",
       "58  2019-08-28     B       654\n",
       "59  2019-08-29     B       531\n",
       "60  2019-08-30     B       490\n",
       "61  2019-08-31     B       718\n",
       "\n",
       "[62 rows x 3 columns]"
      ]
     },
     "execution_count": 9,
     "metadata": {},
     "output_type": "execute_result"
    }
   ],
   "source": [
    "visitors.info()\n",
    "visitors"
   ]
  },
  {
   "cell_type": "code",
   "execution_count": 10,
   "metadata": {},
   "outputs": [],
   "source": [
    "visitors['date'] = visitors['date'].map(\n",
    "    lambda x: dt.datetime.strptime(x, '%Y-%m-%d')\n",
    ")"
   ]
  },
  {
   "cell_type": "code",
   "execution_count": 11,
   "metadata": {
    "scrolled": true
   },
   "outputs": [
    {
     "data": {
      "text/plain": [
       "B    640\n",
       "A    557\n",
       "Name: group, dtype: int64"
      ]
     },
     "execution_count": 11,
     "metadata": {},
     "output_type": "execute_result"
    }
   ],
   "source": [
    "orders['group'].value_counts()"
   ]
  },
  {
   "cell_type": "markdown",
   "metadata": {},
   "source": [
    "В группах разное количество участников. в \"А\" - 557, в \"В\" - 640."
   ]
  },
  {
   "cell_type": "code",
   "execution_count": 12,
   "metadata": {},
   "outputs": [
    {
     "data": {
      "text/html": [
       "<div>\n",
       "<style scoped>\n",
       "    .dataframe tbody tr th:only-of-type {\n",
       "        vertical-align: middle;\n",
       "    }\n",
       "\n",
       "    .dataframe tbody tr th {\n",
       "        vertical-align: top;\n",
       "    }\n",
       "\n",
       "    .dataframe thead th {\n",
       "        text-align: right;\n",
       "    }\n",
       "</style>\n",
       "<table border=\"1\" class=\"dataframe\">\n",
       "  <thead>\n",
       "    <tr style=\"text-align: right;\">\n",
       "      <th></th>\n",
       "      <th>transactionId</th>\n",
       "      <th>visitorId</th>\n",
       "      <th>date</th>\n",
       "      <th>revenue</th>\n",
       "      <th>group</th>\n",
       "    </tr>\n",
       "  </thead>\n",
       "  <tbody>\n",
       "  </tbody>\n",
       "</table>\n",
       "</div>"
      ],
      "text/plain": [
       "Empty DataFrame\n",
       "Columns: [transactionId, visitorId, date, revenue, group]\n",
       "Index: []"
      ]
     },
     "execution_count": 12,
     "metadata": {},
     "output_type": "execute_result"
    }
   ],
   "source": [
    "orders[orders.duplicated()]"
   ]
  },
  {
   "cell_type": "markdown",
   "metadata": {},
   "source": [
    "Дубликатов нет."
   ]
  },
  {
   "cell_type": "code",
   "execution_count": 13,
   "metadata": {
    "scrolled": true
   },
   "outputs": [
    {
     "data": {
      "text/plain": [
       "A    31\n",
       "B    31\n",
       "Name: group, dtype: int64"
      ]
     },
     "execution_count": 13,
     "metadata": {},
     "output_type": "execute_result"
    }
   ],
   "source": [
    "visitors['group'].value_counts()"
   ]
  },
  {
   "cell_type": "markdown",
   "metadata": {},
   "source": [
    "Одинаковое количество записей по группам."
   ]
  },
  {
   "cell_type": "code",
   "execution_count": 14,
   "metadata": {},
   "outputs": [
    {
     "data": {
      "text/html": [
       "<div>\n",
       "<style scoped>\n",
       "    .dataframe tbody tr th:only-of-type {\n",
       "        vertical-align: middle;\n",
       "    }\n",
       "\n",
       "    .dataframe tbody tr th {\n",
       "        vertical-align: top;\n",
       "    }\n",
       "\n",
       "    .dataframe thead th {\n",
       "        text-align: right;\n",
       "    }\n",
       "</style>\n",
       "<table border=\"1\" class=\"dataframe\">\n",
       "  <thead>\n",
       "    <tr style=\"text-align: right;\">\n",
       "      <th></th>\n",
       "      <th>date</th>\n",
       "      <th>group</th>\n",
       "      <th>visitors</th>\n",
       "    </tr>\n",
       "  </thead>\n",
       "  <tbody>\n",
       "  </tbody>\n",
       "</table>\n",
       "</div>"
      ],
      "text/plain": [
       "Empty DataFrame\n",
       "Columns: [date, group, visitors]\n",
       "Index: []"
      ]
     },
     "execution_count": 14,
     "metadata": {},
     "output_type": "execute_result"
    }
   ],
   "source": [
    "visitors[visitors.duplicated()]"
   ]
  },
  {
   "cell_type": "markdown",
   "metadata": {},
   "source": [
    "Дубликатов нет."
   ]
  },
  {
   "cell_type": "code",
   "execution_count": 15,
   "metadata": {
    "scrolled": true
   },
   "outputs": [
    {
     "data": {
      "text/plain": [
       "4256040402    11\n",
       "2458001652    11\n",
       "2378935119     9\n",
       "2038680547     8\n",
       "199603092      5\n",
       "              ..\n",
       "2406916810     1\n",
       "1255412427     1\n",
       "3866069709     1\n",
       "54447517       1\n",
       "3013339133     1\n",
       "Name: visitorId, Length: 1031, dtype: int64"
      ]
     },
     "execution_count": 15,
     "metadata": {},
     "output_type": "execute_result"
    }
   ],
   "source": [
    "orders['visitorId'].value_counts()"
   ]
  },
  {
   "cell_type": "markdown",
   "metadata": {},
   "source": [
    "Уникальных пользователей - 1031."
   ]
  },
  {
   "cell_type": "code",
   "execution_count": 16,
   "metadata": {},
   "outputs": [
    {
     "data": {
      "text/plain": [
       "group    58\n",
       "dtype: int64"
      ]
     },
     "execution_count": 16,
     "metadata": {},
     "output_type": "execute_result"
    }
   ],
   "source": [
    "xxx = orders.pivot_table(index='visitorId', values='group', aggfunc='nunique')\n",
    "xxx.query('group > 1').count()"
   ]
  },
  {
   "cell_type": "markdown",
   "metadata": {},
   "source": [
    "Имеем 58 пользователей, которые попали в обе группы. Оставим их, занимают всего 5% от общего числа, поэтому существенного влияния на проведение теста не окажут.\n"
   ]
  },
  {
   "cell_type": "markdown",
   "metadata": {},
   "source": [
    "## **Часть 2. Анализ А/В теста.**"
   ]
  },
  {
   "cell_type": "markdown",
   "metadata": {},
   "source": [
    "**Построить график кумулятивной выручки по группам. Сделать выводы и предположения.**"
   ]
  },
  {
   "cell_type": "markdown",
   "metadata": {},
   "source": [
    "Чтобы построить графики, нужно собрать кумулятивные данные. Объявим датафрейм cumulativeData со столбцами:\n",
    "- date — дата;\n",
    "- group — группа A/B-теста (A или B);\n",
    "- orders — кумулятивное количество заказов на указанную дату в указанной группе;\n",
    "- buyers — кумулятивное количество пользователей, совершивших хотя бы один заказ, на указанную дату в указанной группе;\n",
    "- revenue — кумулятивная выручка на указанную дату в указанной группе (средний чек);\n",
    "- visitors — кумулятивное количество посетителей интернет-магазина на указанную дату в определённой группе.\n"
   ]
  },
  {
   "cell_type": "code",
   "execution_count": 17,
   "metadata": {},
   "outputs": [],
   "source": [
    "#Создадим массив уникальных пар значений дат и групп теста:\n",
    "datesGroups = orders[['date', 'group']].drop_duplicates() "
   ]
  },
  {
   "cell_type": "code",
   "execution_count": 18,
   "metadata": {},
   "outputs": [],
   "source": [
    "#Соберём агрегированные кумулятивные по дням данные о заказах.\n",
    "ordersAggregated = datesGroups.apply(lambda x: orders[np.logical_and(orders['date'] <= x['date'], orders['group'] == x['group'])]\\\n",
    ".agg({'date' : 'max', 'group' : 'max', 'transactionId' : 'nunique', 'visitorId' : 'nunique', 'revenue' : 'sum'}), axis=1).sort_values(by=['date','group'])"
   ]
  },
  {
   "cell_type": "code",
   "execution_count": 19,
   "metadata": {},
   "outputs": [],
   "source": [
    "#Аналогично получим агрегированные кумулятивные по дням данные о посетителях интернет-магазина\n",
    "visitorsAggregated = datesGroups.apply(lambda x: visitors[np.logical_and(visitors['date'] <= x['date'], visitors['group'] == x['group'])].agg({'date' : 'max', 'group' : 'max', 'visitors' : 'sum'}), axis=1).sort_values(by=['date','group'])"
   ]
  },
  {
   "cell_type": "code",
   "execution_count": 20,
   "metadata": {},
   "outputs": [],
   "source": [
    "# объединяем кумулятивные данные в одной таблице и присваиваем ее столбцам понятные названия\n",
    "cumulativeData = ordersAggregated.merge(visitorsAggregated, left_on=['date', 'group'], right_on=['date', 'group'])\n",
    "cumulativeData.columns = ['date', 'group', 'orders', 'buyers', 'revenue', 'visitors']"
   ]
  },
  {
   "cell_type": "code",
   "execution_count": 21,
   "metadata": {
    "scrolled": true
   },
   "outputs": [
    {
     "name": "stdout",
     "output_type": "stream",
     "text": [
      "        date group  orders  buyers  revenue  visitors\n",
      "0 2019-08-01     A      24      20   148579       719\n",
      "1 2019-08-01     B      21      20   101217       713\n",
      "2 2019-08-02     A      44      38   242401      1338\n",
      "3 2019-08-02     B      45      43   266748      1294\n",
      "4 2019-08-03     A      68      62   354874      1845\n"
     ]
    }
   ],
   "source": [
    "print(cumulativeData.head(5)) "
   ]
  },
  {
   "cell_type": "markdown",
   "metadata": {},
   "source": [
    "Построим графики кумулятивной выручки по дням и группам A/B-тестирования:\n"
   ]
  },
  {
   "cell_type": "code",
   "execution_count": 22,
   "metadata": {},
   "outputs": [
    {
     "data": {
      "image/png": "[encoded data removed]",
      "text/plain": [
       "<Figure size 432x288 with 1 Axes>"
      ]
     },
     "metadata": {
      "needs_background": "light"
     },
     "output_type": "display_data"
    }
   ],
   "source": [
    "# датафрейм с кумулятивным количеством заказов и кумулятивной выручкой по дням в группе А\n",
    "cumulativeRevenueA = cumulativeData[cumulativeData['group']=='A'][['date','revenue', 'orders']]\n",
    "\n",
    "# датафрейм с кумулятивным количеством заказов и кумулятивной выручкой по дням в группе B\n",
    "cumulativeRevenueB = cumulativeData[cumulativeData['group']=='B'][['date','revenue', 'orders']]\n",
    "\n",
    "# Строим график выручки группы А\n",
    "plt.plot(cumulativeRevenueA['date'], cumulativeRevenueA['revenue'], label='A')\n",
    "\n",
    "# Строим график выручки группы B\n",
    "plt.plot(cumulativeRevenueB['date'], cumulativeRevenueB['revenue'], label='B')\n",
    "\n",
    "plt.xticks(rotation=45)\n",
    "plt.title('Кумулятивная выручка по группам')\n",
    "plt.xlabel('Дата')\n",
    "plt.ylabel('Выручка')\n",
    "\n",
    "plt.legend(); "
   ]
  },
  {
   "cell_type": "markdown",
   "metadata": {},
   "source": [
    "Выручка почти равномерно увеличивается в течение всего теста. Однако графики выручки обеих групп в нескольких точках резко растут, особенно сильно это заметно в группе В. Это может сигнализировать о всплесках числа заказов, либо о появлении очень дорогих заказов в выборке."
   ]
  },
  {
   "cell_type": "markdown",
   "metadata": {},
   "source": [
    "**Построить график кумулятивного среднего чека по группам. Сделайть выводы и предположения.**"
   ]
  },
  {
   "cell_type": "markdown",
   "metadata": {},
   "source": [
    "Построим графики среднего чека по группам — разделим кумулятивную выручку на кумулятивное число заказов."
   ]
  },
  {
   "cell_type": "code",
   "execution_count": 23,
   "metadata": {},
   "outputs": [
    {
     "data": {
      "image/png": "[encoded data removed]",
      "text/plain": [
       "<Figure size 432x288 with 1 Axes>"
      ]
     },
     "metadata": {
      "needs_background": "light"
     },
     "output_type": "display_data"
    }
   ],
   "source": [
    "plt.plot(cumulativeRevenueA['date'], cumulativeRevenueA['revenue']/cumulativeRevenueA['orders'], label='A')\n",
    "plt.plot(cumulativeRevenueB['date'], cumulativeRevenueB['revenue']/cumulativeRevenueB['orders'], label='B')\n",
    "plt.xticks(rotation=45)\n",
    "plt.title('Кумулятивный средний чек по группам')\n",
    "plt.xlabel('Дата')\n",
    "plt.ylabel('Средний чек')\n",
    "plt.legend();"
   ]
  },
  {
   "cell_type": "markdown",
   "metadata": {},
   "source": [
    "Средний чек отличается в обеих группах. Имеются резкие скачки на графике, хорошо видно в группе В. Это может говорить о каком-то крупном заказе. Средний в обеих группах продолжает падать к концу теста."
   ]
  },
  {
   "cell_type": "markdown",
   "metadata": {},
   "source": [
    "**Построить график относительного изменения кумулятивного среднего чека группы B к группе A. Сделать выводы и предположения.**"
   ]
  },
  {
   "cell_type": "markdown",
   "metadata": {},
   "source": [
    "Построим график относительного различия для среднего чека. Добавим горизонтальную ось методом axhline() (от англ. horizontal line across the axis*, «горизонтальная линия поперек оси»)."
   ]
  },
  {
   "cell_type": "code",
   "execution_count": 24,
   "metadata": {},
   "outputs": [
    {
     "data": {
      "image/png": "[encoded data removed]",
      "text/plain": [
       "<Figure size 432x288 with 1 Axes>"
      ]
     },
     "metadata": {
      "needs_background": "light"
     },
     "output_type": "display_data"
    }
   ],
   "source": [
    "# собираем данные в одном датафрейме\n",
    "mergedCumulativeRevenue = cumulativeRevenueA.merge(cumulativeRevenueB, left_on='date', right_on='date', how='left', suffixes=['A', 'B'])\n",
    "\n",
    "# cтроим отношение средних чеков\n",
    "plt.plot(mergedCumulativeRevenue['date'], (mergedCumulativeRevenue['revenueB']/mergedCumulativeRevenue['ordersB'])/(mergedCumulativeRevenue['revenueA']/mergedCumulativeRevenue['ordersA'])-1)\n",
    "\n",
    "# добавляем ось X\n",
    "plt.axhline(y=0, color='black', linestyle='--')\n",
    "plt.title('Относительное изменение кумулятивного среднего чека группы B к группе A')\n",
    "plt.xlabel('Дата')\n",
    "plt.ylabel('Отношение средних чеков')\n",
    "plt.xticks(rotation=45);"
   ]
  },
  {
   "cell_type": "markdown",
   "metadata": {},
   "source": [
    "В нескольких точках график различия между сегментами резко «скачет». Значит присутствуют крупные заказы и/или выбросы."
   ]
  },
  {
   "cell_type": "markdown",
   "metadata": {},
   "source": [
    "**Постройте график кумулятивной конверсии по группам. Сделайте выводы и предположения.**"
   ]
  },
  {
   "cell_type": "code",
   "execution_count": 25,
   "metadata": {},
   "outputs": [],
   "source": [
    "# считаем кумулятивную конверсию\n",
    "cumulativeData['conversion'] = cumulativeData['orders']/cumulativeData['visitors']\n",
    "\n",
    "# отделяем данные по группе A\n",
    "cumulativeDataA = cumulativeData[cumulativeData['group']=='A']\n",
    "\n",
    "# отделяем данные по группе B\n",
    "cumulativeDataB = cumulativeData[cumulativeData['group']=='B']"
   ]
  },
  {
   "cell_type": "code",
   "execution_count": 26,
   "metadata": {},
   "outputs": [
    {
     "data": {
      "image/png": "[encoded data removed]",
      "text/plain": [
       "<Figure size 432x288 with 1 Axes>"
      ]
     },
     "metadata": {
      "needs_background": "light"
     },
     "output_type": "display_data"
    }
   ],
   "source": [
    "# строим графики\n",
    "plt.plot(cumulativeDataA['date'], cumulativeDataA['conversion'], label='A')\n",
    "plt.plot(cumulativeDataB['date'], cumulativeDataB['conversion'], label='B')\n",
    "plt.xticks(rotation=45)\n",
    "plt.title(\"Кумулятивная конверсия по группам\")\n",
    "plt.xlabel('Дата')\n",
    "plt.ylabel('Конверсия')\n",
    "plt.legend();\n",
    "\n",
    "# задаем масштаб осей\n",
    "#plt.axis(['2019-08-01', '2019-08-31', 0.025, 0.04])\n",
    "#plt.show()"
   ]
  },
  {
   "cell_type": "markdown",
   "metadata": {},
   "source": [
    "Группы сильно отличаются. Хотя обе в начале имеют сильные скачки. Группа В начинала с худших позиций, но всё же смогла вырваться вперед. Группа А с течением времени заняла худшие позиции относительно группы В и продолжает колебаться около значения 0,03."
   ]
  },
  {
   "cell_type": "markdown",
   "metadata": {},
   "source": [
    "**Постройте график относительного изменения кумулятивной конверсии группы B к группе A. Сделайте выводы и предположения.**\n"
   ]
  },
  {
   "cell_type": "code",
   "execution_count": 27,
   "metadata": {},
   "outputs": [
    {
     "data": {
      "image/png": "[encoded data removed]",
      "text/plain": [
       "<Figure size 432x288 with 1 Axes>"
      ]
     },
     "metadata": {
      "needs_background": "light"
     },
     "output_type": "display_data"
    }
   ],
   "source": [
    "mergedCumulativeConversions = cumulativeDataA[['date','conversion']].merge(cumulativeDataB[['date','conversion']], left_on='date', right_on='date', how='left', suffixes=['A', 'B'])\n",
    "\n",
    "plt.plot(mergedCumulativeConversions['date'], mergedCumulativeConversions['conversionB']/mergedCumulativeConversions['conversionA']-1, label=\"Относительный прирост конверсии группы B относительно группы A\")\n",
    "plt.legend()\n",
    "\n",
    "plt.axhline(y=0, color='black', linestyle='--')\n",
    "plt.axhline(y=0.14, color='grey', linestyle='--')\n",
    "plt.xlabel('Дата')\n",
    "plt.ylabel('Значение прироста')\n",
    "plt.xticks(rotation=45);\n",
    "#plt.axis([\"2019-04-01\", '2019-04-23', -0.6, 0.6])"
   ]
  },
  {
   "cell_type": "markdown",
   "metadata": {},
   "source": [
    "В начале теста группа B значительно проигрывала группе A, затем вырвалась вперёд. Потом её конверсия снова падала, но теперь постепенно растёт."
   ]
  },
  {
   "cell_type": "markdown",
   "metadata": {},
   "source": [
    "**Постройте точечный график количества заказов по пользователям. Сделайте выводы и предположения.**"
   ]
  },
  {
   "cell_type": "markdown",
   "metadata": {},
   "source": [
    "Изучим данные о заказах. Найдем число заказов по пользователям — создадим датафрейм c двумя столбцами: 'userId' и 'orders'. Назовем его ordersByUsers."
   ]
  },
  {
   "cell_type": "code",
   "execution_count": 28,
   "metadata": {
    "scrolled": true
   },
   "outputs": [
    {
     "data": {
      "text/html": [
       "<div>\n",
       "<style scoped>\n",
       "    .dataframe tbody tr th:only-of-type {\n",
       "        vertical-align: middle;\n",
       "    }\n",
       "\n",
       "    .dataframe tbody tr th {\n",
       "        vertical-align: top;\n",
       "    }\n",
       "\n",
       "    .dataframe thead th {\n",
       "        text-align: right;\n",
       "    }\n",
       "</style>\n",
       "<table border=\"1\" class=\"dataframe\">\n",
       "  <thead>\n",
       "    <tr style=\"text-align: right;\">\n",
       "      <th></th>\n",
       "      <th>transactionId</th>\n",
       "      <th>visitorId</th>\n",
       "      <th>date</th>\n",
       "      <th>revenue</th>\n",
       "      <th>group</th>\n",
       "    </tr>\n",
       "  </thead>\n",
       "  <tbody>\n",
       "    <tr>\n",
       "      <th>0</th>\n",
       "      <td>3667963787</td>\n",
       "      <td>3312258926</td>\n",
       "      <td>2019-08-15</td>\n",
       "      <td>1650</td>\n",
       "      <td>B</td>\n",
       "    </tr>\n",
       "    <tr>\n",
       "      <th>1</th>\n",
       "      <td>2804400009</td>\n",
       "      <td>3642806036</td>\n",
       "      <td>2019-08-15</td>\n",
       "      <td>730</td>\n",
       "      <td>B</td>\n",
       "    </tr>\n",
       "    <tr>\n",
       "      <th>2</th>\n",
       "      <td>2961555356</td>\n",
       "      <td>4069496402</td>\n",
       "      <td>2019-08-15</td>\n",
       "      <td>400</td>\n",
       "      <td>A</td>\n",
       "    </tr>\n",
       "    <tr>\n",
       "      <th>3</th>\n",
       "      <td>3797467345</td>\n",
       "      <td>1196621759</td>\n",
       "      <td>2019-08-15</td>\n",
       "      <td>9759</td>\n",
       "      <td>B</td>\n",
       "    </tr>\n",
       "    <tr>\n",
       "      <th>4</th>\n",
       "      <td>2282983706</td>\n",
       "      <td>2322279887</td>\n",
       "      <td>2019-08-15</td>\n",
       "      <td>2308</td>\n",
       "      <td>B</td>\n",
       "    </tr>\n",
       "  </tbody>\n",
       "</table>\n",
       "</div>"
      ],
      "text/plain": [
       "   transactionId   visitorId       date  revenue group\n",
       "0     3667963787  3312258926 2019-08-15     1650     B\n",
       "1     2804400009  3642806036 2019-08-15      730     B\n",
       "2     2961555356  4069496402 2019-08-15      400     A\n",
       "3     3797467345  1196621759 2019-08-15     9759     B\n",
       "4     2282983706  2322279887 2019-08-15     2308     B"
      ]
     },
     "execution_count": 28,
     "metadata": {},
     "output_type": "execute_result"
    }
   ],
   "source": [
    "orders.head()"
   ]
  },
  {
   "cell_type": "code",
   "execution_count": 29,
   "metadata": {},
   "outputs": [
    {
     "data": {
      "text/html": [
       "<div>\n",
       "<style scoped>\n",
       "    .dataframe tbody tr th:only-of-type {\n",
       "        vertical-align: middle;\n",
       "    }\n",
       "\n",
       "    .dataframe tbody tr th {\n",
       "        vertical-align: top;\n",
       "    }\n",
       "\n",
       "    .dataframe thead th {\n",
       "        text-align: right;\n",
       "    }\n",
       "</style>\n",
       "<table border=\"1\" class=\"dataframe\">\n",
       "  <thead>\n",
       "    <tr style=\"text-align: right;\">\n",
       "      <th></th>\n",
       "      <th>userId</th>\n",
       "      <th>orders</th>\n",
       "    </tr>\n",
       "  </thead>\n",
       "  <tbody>\n",
       "    <tr>\n",
       "      <th>1023</th>\n",
       "      <td>4256040402</td>\n",
       "      <td>11</td>\n",
       "    </tr>\n",
       "    <tr>\n",
       "      <th>591</th>\n",
       "      <td>2458001652</td>\n",
       "      <td>11</td>\n",
       "    </tr>\n",
       "    <tr>\n",
       "      <th>569</th>\n",
       "      <td>2378935119</td>\n",
       "      <td>9</td>\n",
       "    </tr>\n",
       "    <tr>\n",
       "      <th>487</th>\n",
       "      <td>2038680547</td>\n",
       "      <td>8</td>\n",
       "    </tr>\n",
       "    <tr>\n",
       "      <th>44</th>\n",
       "      <td>199603092</td>\n",
       "      <td>5</td>\n",
       "    </tr>\n",
       "    <tr>\n",
       "      <th>744</th>\n",
       "      <td>3062433592</td>\n",
       "      <td>5</td>\n",
       "    </tr>\n",
       "    <tr>\n",
       "      <th>55</th>\n",
       "      <td>237748145</td>\n",
       "      <td>5</td>\n",
       "    </tr>\n",
       "    <tr>\n",
       "      <th>917</th>\n",
       "      <td>3803269165</td>\n",
       "      <td>5</td>\n",
       "    </tr>\n",
       "    <tr>\n",
       "      <th>299</th>\n",
       "      <td>1230306981</td>\n",
       "      <td>5</td>\n",
       "    </tr>\n",
       "    <tr>\n",
       "      <th>897</th>\n",
       "      <td>3717692402</td>\n",
       "      <td>5</td>\n",
       "    </tr>\n",
       "  </tbody>\n",
       "</table>\n",
       "</div>"
      ],
      "text/plain": [
       "          userId  orders\n",
       "1023  4256040402      11\n",
       "591   2458001652      11\n",
       "569   2378935119       9\n",
       "487   2038680547       8\n",
       "44     199603092       5\n",
       "744   3062433592       5\n",
       "55     237748145       5\n",
       "917   3803269165       5\n",
       "299   1230306981       5\n",
       "897   3717692402       5"
      ]
     },
     "execution_count": 29,
     "metadata": {},
     "output_type": "execute_result"
    }
   ],
   "source": [
    "ordersByUsers = (\n",
    "    orders.drop(['group', 'revenue', 'date'], axis=1)\n",
    "    .groupby('visitorId', as_index=False)\n",
    "    .agg({'transactionId': pd.Series.nunique})\n",
    ")\n",
    "\n",
    "ordersByUsers.columns = ['userId', 'orders']\n",
    "\n",
    "ordersByUsers.sort_values(by='orders', ascending=False).head(10)\n"
   ]
  },
  {
   "cell_type": "markdown",
   "metadata": {},
   "source": [
    "Два пользователя заказали по 11 раз каждый, это максимальное количество заказов у единичного пользователя."
   ]
  },
  {
   "cell_type": "code",
   "execution_count": 30,
   "metadata": {},
   "outputs": [
    {
     "data": {
      "image/png": "[encoded data removed]",
      "text/plain": [
       "<Figure size 432x288 with 1 Axes>"
      ]
     },
     "metadata": {
      "needs_background": "light"
     },
     "output_type": "display_data"
    }
   ],
   "source": [
    "# серия из чисел от 0 до количества наблюдений в ordersByUsers\n",
    "x_values = pd.Series(range(0, len(ordersByUsers)))\n",
    "\n",
    "plt.scatter(x_values, ordersByUsers['orders'])\n",
    "\n",
    "plt.title('Распределение числа заказов по пользователям')\n",
    "plt.xlabel('Количество пользователей')\n",
    "plt.ylabel('Количество заказов')\n",
    "plt.show();"
   ]
  },
  {
   "cell_type": "markdown",
   "metadata": {},
   "source": [
    "Пользователей заказавших более 2х раз не так уж и много. Возможно они могут быть аномальными."
   ]
  },
  {
   "cell_type": "markdown",
   "metadata": {},
   "source": [
    "**Посчитайте 95-й и 99-й перцентили количества заказов на пользователя. Выберите границу для определения аномальных пользователей.**"
   ]
  },
  {
   "cell_type": "code",
   "execution_count": 31,
   "metadata": {},
   "outputs": [
    {
     "name": "stdout",
     "output_type": "stream",
     "text": [
      "[2. 4.]\n"
     ]
    }
   ],
   "source": [
    "# Метод np.percentile('column', [percentile1, percentile2, percentile3]) находит перцентили.\n",
    "print(np.percentile(ordersByUsers['orders'], [95, 99]))"
   ]
  },
  {
   "cell_type": "markdown",
   "metadata": {},
   "source": [
    "Не более 5% пользователей совершали больше 2х заказов. И более 1% пользователей - больше 4х заказов."
   ]
  },
  {
   "cell_type": "markdown",
   "metadata": {},
   "source": [
    "Примем за аномальных пользователей тех, у кого от 4х заказов."
   ]
  },
  {
   "cell_type": "markdown",
   "metadata": {},
   "source": [
    "**Постройте точечный график стоимостей заказов. Сделайте выводы и предположения.**"
   ]
  },
  {
   "cell_type": "code",
   "execution_count": 32,
   "metadata": {},
   "outputs": [
    {
     "data": {
      "image/png": "[encoded data removed]",
      "text/plain": [
       "<Figure size 432x288 with 1 Axes>"
      ]
     },
     "metadata": {
      "needs_background": "light"
     },
     "output_type": "display_data"
    }
   ],
   "source": [
    "x_values = pd.Series(range(0, len(orders['revenue'])))\n",
    "\n",
    "plt.scatter(x_values, orders['revenue']) \n",
    "\n",
    "plt.title('Распределение стоимости заказов')\n",
    "plt.xlabel('Количество пользователей')\n",
    "plt.ylabel('Стоимость заказов')\n",
    "plt.axis([0, 1200, 0, 130000])\n",
    "\n",
    "plt.show()"
   ]
  },
  {
   "cell_type": "markdown",
   "metadata": {},
   "source": [
    "Есть выбросы от 40 до 100 тысяч. "
   ]
  },
  {
   "cell_type": "markdown",
   "metadata": {},
   "source": [
    "**Посчитайте 95-й и 99-й перцентили стоимости заказов. Выберите границу для определения аномальных заказов.**"
   ]
  },
  {
   "cell_type": "code",
   "execution_count": 33,
   "metadata": {
    "scrolled": true
   },
   "outputs": [
    {
     "name": "stdout",
     "output_type": "stream",
     "text": [
      "[28000.  58233.2]\n"
     ]
    }
   ],
   "source": [
    "print(np.percentile(orders['revenue'], [95, 99])) "
   ]
  },
  {
   "cell_type": "markdown",
   "metadata": {},
   "source": [
    "Не более, чем у 5% заказов чек дороже 28 000. И не больше, чем у 1% заказов - дороже 58 233 руб."
   ]
  },
  {
   "cell_type": "markdown",
   "metadata": {},
   "source": [
    "Примем за аномальных пользователей тех, у которых чек больше 30 000."
   ]
  },
  {
   "cell_type": "markdown",
   "metadata": {},
   "source": [
    "**Посчитайте статистическую значимость различий в конверсии между группами по «сырым» данным. Сделайте выводы и предположения.**"
   ]
  },
  {
   "cell_type": "markdown",
   "metadata": {},
   "source": [
    "Посчитаем статистическую значимость различия в конверсии между группами.\n"
   ]
  },
  {
   "cell_type": "markdown",
   "metadata": {},
   "source": [
    "Создадим переменные ordersByUsersA и ordersByUsersB со столбцами ['userId', 'orders']. В них для пользователей, которые заказывали хотя бы 1 раз, укажем число совершённых заказов.\n"
   ]
  },
  {
   "cell_type": "code",
   "execution_count": 34,
   "metadata": {
    "scrolled": true
   },
   "outputs": [
    {
     "data": {
      "text/html": [
       "<div>\n",
       "<style scoped>\n",
       "    .dataframe tbody tr th:only-of-type {\n",
       "        vertical-align: middle;\n",
       "    }\n",
       "\n",
       "    .dataframe tbody tr th {\n",
       "        vertical-align: top;\n",
       "    }\n",
       "\n",
       "    .dataframe thead th {\n",
       "        text-align: right;\n",
       "    }\n",
       "</style>\n",
       "<table border=\"1\" class=\"dataframe\">\n",
       "  <thead>\n",
       "    <tr style=\"text-align: right;\">\n",
       "      <th></th>\n",
       "      <th>transactionId</th>\n",
       "      <th>visitorId</th>\n",
       "      <th>date</th>\n",
       "      <th>revenue</th>\n",
       "      <th>group</th>\n",
       "    </tr>\n",
       "  </thead>\n",
       "  <tbody>\n",
       "    <tr>\n",
       "      <th>0</th>\n",
       "      <td>3667963787</td>\n",
       "      <td>3312258926</td>\n",
       "      <td>2019-08-15</td>\n",
       "      <td>1650</td>\n",
       "      <td>B</td>\n",
       "    </tr>\n",
       "    <tr>\n",
       "      <th>1</th>\n",
       "      <td>2804400009</td>\n",
       "      <td>3642806036</td>\n",
       "      <td>2019-08-15</td>\n",
       "      <td>730</td>\n",
       "      <td>B</td>\n",
       "    </tr>\n",
       "    <tr>\n",
       "      <th>2</th>\n",
       "      <td>2961555356</td>\n",
       "      <td>4069496402</td>\n",
       "      <td>2019-08-15</td>\n",
       "      <td>400</td>\n",
       "      <td>A</td>\n",
       "    </tr>\n",
       "    <tr>\n",
       "      <th>3</th>\n",
       "      <td>3797467345</td>\n",
       "      <td>1196621759</td>\n",
       "      <td>2019-08-15</td>\n",
       "      <td>9759</td>\n",
       "      <td>B</td>\n",
       "    </tr>\n",
       "    <tr>\n",
       "      <th>4</th>\n",
       "      <td>2282983706</td>\n",
       "      <td>2322279887</td>\n",
       "      <td>2019-08-15</td>\n",
       "      <td>2308</td>\n",
       "      <td>B</td>\n",
       "    </tr>\n",
       "  </tbody>\n",
       "</table>\n",
       "</div>"
      ],
      "text/plain": [
       "   transactionId   visitorId       date  revenue group\n",
       "0     3667963787  3312258926 2019-08-15     1650     B\n",
       "1     2804400009  3642806036 2019-08-15      730     B\n",
       "2     2961555356  4069496402 2019-08-15      400     A\n",
       "3     3797467345  1196621759 2019-08-15     9759     B\n",
       "4     2282983706  2322279887 2019-08-15     2308     B"
      ]
     },
     "execution_count": 34,
     "metadata": {},
     "output_type": "execute_result"
    }
   ],
   "source": [
    "orders.head()"
   ]
  },
  {
   "cell_type": "code",
   "execution_count": 35,
   "metadata": {},
   "outputs": [
    {
     "data": {
      "text/html": [
       "<div>\n",
       "<style scoped>\n",
       "    .dataframe tbody tr th:only-of-type {\n",
       "        vertical-align: middle;\n",
       "    }\n",
       "\n",
       "    .dataframe tbody tr th {\n",
       "        vertical-align: top;\n",
       "    }\n",
       "\n",
       "    .dataframe thead th {\n",
       "        text-align: right;\n",
       "    }\n",
       "</style>\n",
       "<table border=\"1\" class=\"dataframe\">\n",
       "  <thead>\n",
       "    <tr style=\"text-align: right;\">\n",
       "      <th></th>\n",
       "      <th>date</th>\n",
       "      <th>group</th>\n",
       "      <th>visitors</th>\n",
       "    </tr>\n",
       "  </thead>\n",
       "  <tbody>\n",
       "    <tr>\n",
       "      <th>0</th>\n",
       "      <td>2019-08-01</td>\n",
       "      <td>A</td>\n",
       "      <td>719</td>\n",
       "    </tr>\n",
       "    <tr>\n",
       "      <th>1</th>\n",
       "      <td>2019-08-02</td>\n",
       "      <td>A</td>\n",
       "      <td>619</td>\n",
       "    </tr>\n",
       "    <tr>\n",
       "      <th>2</th>\n",
       "      <td>2019-08-03</td>\n",
       "      <td>A</td>\n",
       "      <td>507</td>\n",
       "    </tr>\n",
       "    <tr>\n",
       "      <th>3</th>\n",
       "      <td>2019-08-04</td>\n",
       "      <td>A</td>\n",
       "      <td>717</td>\n",
       "    </tr>\n",
       "    <tr>\n",
       "      <th>4</th>\n",
       "      <td>2019-08-05</td>\n",
       "      <td>A</td>\n",
       "      <td>756</td>\n",
       "    </tr>\n",
       "  </tbody>\n",
       "</table>\n",
       "</div>"
      ],
      "text/plain": [
       "        date group  visitors\n",
       "0 2019-08-01     A       719\n",
       "1 2019-08-02     A       619\n",
       "2 2019-08-03     A       507\n",
       "3 2019-08-04     A       717\n",
       "4 2019-08-05     A       756"
      ]
     },
     "execution_count": 35,
     "metadata": {},
     "output_type": "execute_result"
    }
   ],
   "source": [
    "visitors.head()"
   ]
  },
  {
   "cell_type": "code",
   "execution_count": 36,
   "metadata": {},
   "outputs": [],
   "source": [
    "# получим агрегированные кумулятивные данные по дням о посетителях группы А\n",
    "visitorsADaily = visitors[visitors['group'] == 'A'][['date', 'visitors']]\n",
    "visitorsADaily.columns = ['date', 'visitorsPerDateA']"
   ]
  },
  {
   "cell_type": "code",
   "execution_count": 37,
   "metadata": {},
   "outputs": [
    {
     "data": {
      "text/html": [
       "<div>\n",
       "<style scoped>\n",
       "    .dataframe tbody tr th:only-of-type {\n",
       "        vertical-align: middle;\n",
       "    }\n",
       "\n",
       "    .dataframe tbody tr th {\n",
       "        vertical-align: top;\n",
       "    }\n",
       "\n",
       "    .dataframe thead th {\n",
       "        text-align: right;\n",
       "    }\n",
       "</style>\n",
       "<table border=\"1\" class=\"dataframe\">\n",
       "  <thead>\n",
       "    <tr style=\"text-align: right;\">\n",
       "      <th></th>\n",
       "      <th>date</th>\n",
       "      <th>visitorsPerDateA</th>\n",
       "    </tr>\n",
       "  </thead>\n",
       "  <tbody>\n",
       "    <tr>\n",
       "      <th>0</th>\n",
       "      <td>2019-08-01</td>\n",
       "      <td>719</td>\n",
       "    </tr>\n",
       "    <tr>\n",
       "      <th>1</th>\n",
       "      <td>2019-08-02</td>\n",
       "      <td>619</td>\n",
       "    </tr>\n",
       "    <tr>\n",
       "      <th>2</th>\n",
       "      <td>2019-08-03</td>\n",
       "      <td>507</td>\n",
       "    </tr>\n",
       "    <tr>\n",
       "      <th>3</th>\n",
       "      <td>2019-08-04</td>\n",
       "      <td>717</td>\n",
       "    </tr>\n",
       "    <tr>\n",
       "      <th>4</th>\n",
       "      <td>2019-08-05</td>\n",
       "      <td>756</td>\n",
       "    </tr>\n",
       "  </tbody>\n",
       "</table>\n",
       "</div>"
      ],
      "text/plain": [
       "        date  visitorsPerDateA\n",
       "0 2019-08-01               719\n",
       "1 2019-08-02               619\n",
       "2 2019-08-03               507\n",
       "3 2019-08-04               717\n",
       "4 2019-08-05               756"
      ]
     },
     "execution_count": 37,
     "metadata": {},
     "output_type": "execute_result"
    }
   ],
   "source": [
    "visitorsADaily.head()"
   ]
  },
  {
   "cell_type": "code",
   "execution_count": 38,
   "metadata": {},
   "outputs": [],
   "source": [
    "visitorsACummulative = visitorsADaily.apply(\n",
    "    lambda x: visitorsADaily[visitorsADaily['date'] <= x['date']].agg(\n",
    "        {'date': 'max', 'visitorsPerDateA': 'sum'}\n",
    "    ),\n",
    "    axis=1,\n",
    ")\n",
    "visitorsACummulative.columns = ['date', 'visitorsCummulativeA']\n"
   ]
  },
  {
   "cell_type": "code",
   "execution_count": 39,
   "metadata": {},
   "outputs": [
    {
     "data": {
      "text/html": [
       "<div>\n",
       "<style scoped>\n",
       "    .dataframe tbody tr th:only-of-type {\n",
       "        vertical-align: middle;\n",
       "    }\n",
       "\n",
       "    .dataframe tbody tr th {\n",
       "        vertical-align: top;\n",
       "    }\n",
       "\n",
       "    .dataframe thead th {\n",
       "        text-align: right;\n",
       "    }\n",
       "</style>\n",
       "<table border=\"1\" class=\"dataframe\">\n",
       "  <thead>\n",
       "    <tr style=\"text-align: right;\">\n",
       "      <th></th>\n",
       "      <th>date</th>\n",
       "      <th>visitorsCummulativeA</th>\n",
       "    </tr>\n",
       "  </thead>\n",
       "  <tbody>\n",
       "    <tr>\n",
       "      <th>0</th>\n",
       "      <td>2019-08-01</td>\n",
       "      <td>719</td>\n",
       "    </tr>\n",
       "    <tr>\n",
       "      <th>1</th>\n",
       "      <td>2019-08-02</td>\n",
       "      <td>1338</td>\n",
       "    </tr>\n",
       "    <tr>\n",
       "      <th>2</th>\n",
       "      <td>2019-08-03</td>\n",
       "      <td>1845</td>\n",
       "    </tr>\n",
       "    <tr>\n",
       "      <th>3</th>\n",
       "      <td>2019-08-04</td>\n",
       "      <td>2562</td>\n",
       "    </tr>\n",
       "    <tr>\n",
       "      <th>4</th>\n",
       "      <td>2019-08-05</td>\n",
       "      <td>3318</td>\n",
       "    </tr>\n",
       "  </tbody>\n",
       "</table>\n",
       "</div>"
      ],
      "text/plain": [
       "        date  visitorsCummulativeA\n",
       "0 2019-08-01                   719\n",
       "1 2019-08-02                  1338\n",
       "2 2019-08-03                  1845\n",
       "3 2019-08-04                  2562\n",
       "4 2019-08-05                  3318"
      ]
     },
     "execution_count": 39,
     "metadata": {},
     "output_type": "execute_result"
    }
   ],
   "source": [
    "visitorsACummulative.head()"
   ]
  },
  {
   "cell_type": "code",
   "execution_count": 40,
   "metadata": {},
   "outputs": [],
   "source": [
    "# получим агрегированные кумулятивные данные по дням о посетителях группы B\n",
    "visitorsBDaily = visitors[visitors['group'] == 'B'][['date', 'visitors']]\n",
    "visitorsBDaily.columns = ['date', 'visitorsPerDateB']"
   ]
  },
  {
   "cell_type": "code",
   "execution_count": 41,
   "metadata": {},
   "outputs": [
    {
     "data": {
      "text/html": [
       "<div>\n",
       "<style scoped>\n",
       "    .dataframe tbody tr th:only-of-type {\n",
       "        vertical-align: middle;\n",
       "    }\n",
       "\n",
       "    .dataframe tbody tr th {\n",
       "        vertical-align: top;\n",
       "    }\n",
       "\n",
       "    .dataframe thead th {\n",
       "        text-align: right;\n",
       "    }\n",
       "</style>\n",
       "<table border=\"1\" class=\"dataframe\">\n",
       "  <thead>\n",
       "    <tr style=\"text-align: right;\">\n",
       "      <th></th>\n",
       "      <th>date</th>\n",
       "      <th>visitorsPerDateB</th>\n",
       "    </tr>\n",
       "  </thead>\n",
       "  <tbody>\n",
       "    <tr>\n",
       "      <th>31</th>\n",
       "      <td>2019-08-01</td>\n",
       "      <td>713</td>\n",
       "    </tr>\n",
       "    <tr>\n",
       "      <th>32</th>\n",
       "      <td>2019-08-02</td>\n",
       "      <td>581</td>\n",
       "    </tr>\n",
       "    <tr>\n",
       "      <th>33</th>\n",
       "      <td>2019-08-03</td>\n",
       "      <td>509</td>\n",
       "    </tr>\n",
       "    <tr>\n",
       "      <th>34</th>\n",
       "      <td>2019-08-04</td>\n",
       "      <td>770</td>\n",
       "    </tr>\n",
       "    <tr>\n",
       "      <th>35</th>\n",
       "      <td>2019-08-05</td>\n",
       "      <td>707</td>\n",
       "    </tr>\n",
       "  </tbody>\n",
       "</table>\n",
       "</div>"
      ],
      "text/plain": [
       "         date  visitorsPerDateB\n",
       "31 2019-08-01               713\n",
       "32 2019-08-02               581\n",
       "33 2019-08-03               509\n",
       "34 2019-08-04               770\n",
       "35 2019-08-05               707"
      ]
     },
     "execution_count": 41,
     "metadata": {},
     "output_type": "execute_result"
    }
   ],
   "source": [
    "visitorsBDaily.head()"
   ]
  },
  {
   "cell_type": "code",
   "execution_count": 42,
   "metadata": {},
   "outputs": [],
   "source": [
    "visitorsBCummulative = visitorsBDaily.apply(\n",
    "    lambda x: visitorsBDaily[visitorsBDaily['date'] <= x['date']].agg(\n",
    "        {'date': 'max', 'visitorsPerDateB': 'sum'}\n",
    "    ),\n",
    "    axis=1,\n",
    ")\n",
    "visitorsBCummulative.columns = ['date', 'visitorsCummulativeB']"
   ]
  },
  {
   "cell_type": "code",
   "execution_count": 43,
   "metadata": {},
   "outputs": [
    {
     "data": {
      "text/html": [
       "<div>\n",
       "<style scoped>\n",
       "    .dataframe tbody tr th:only-of-type {\n",
       "        vertical-align: middle;\n",
       "    }\n",
       "\n",
       "    .dataframe tbody tr th {\n",
       "        vertical-align: top;\n",
       "    }\n",
       "\n",
       "    .dataframe thead th {\n",
       "        text-align: right;\n",
       "    }\n",
       "</style>\n",
       "<table border=\"1\" class=\"dataframe\">\n",
       "  <thead>\n",
       "    <tr style=\"text-align: right;\">\n",
       "      <th></th>\n",
       "      <th>date</th>\n",
       "      <th>visitorsCummulativeB</th>\n",
       "    </tr>\n",
       "  </thead>\n",
       "  <tbody>\n",
       "    <tr>\n",
       "      <th>31</th>\n",
       "      <td>2019-08-01</td>\n",
       "      <td>713</td>\n",
       "    </tr>\n",
       "    <tr>\n",
       "      <th>32</th>\n",
       "      <td>2019-08-02</td>\n",
       "      <td>1294</td>\n",
       "    </tr>\n",
       "    <tr>\n",
       "      <th>33</th>\n",
       "      <td>2019-08-03</td>\n",
       "      <td>1803</td>\n",
       "    </tr>\n",
       "    <tr>\n",
       "      <th>34</th>\n",
       "      <td>2019-08-04</td>\n",
       "      <td>2573</td>\n",
       "    </tr>\n",
       "    <tr>\n",
       "      <th>35</th>\n",
       "      <td>2019-08-05</td>\n",
       "      <td>3280</td>\n",
       "    </tr>\n",
       "  </tbody>\n",
       "</table>\n",
       "</div>"
      ],
      "text/plain": [
       "         date  visitorsCummulativeB\n",
       "31 2019-08-01                   713\n",
       "32 2019-08-02                  1294\n",
       "33 2019-08-03                  1803\n",
       "34 2019-08-04                  2573\n",
       "35 2019-08-05                  3280"
      ]
     },
     "execution_count": 43,
     "metadata": {},
     "output_type": "execute_result"
    }
   ],
   "source": [
    "visitorsBCummulative.head()"
   ]
  },
  {
   "cell_type": "code",
   "execution_count": 44,
   "metadata": {},
   "outputs": [],
   "source": [
    "# получим данные о заказах и выручке группы А агрегированные по дням\n",
    "ordersADaily = (\n",
    "    orders[orders['group'] == 'A'][['date', 'transactionId', 'visitorId', 'revenue']]\n",
    "    .groupby('date', as_index=False)\n",
    "    .agg({'transactionId': pd.Series.nunique, 'revenue': 'sum'})\n",
    ")\n",
    "ordersADaily.columns = ['date', 'ordersPerDateA', 'revenuePerDateA']"
   ]
  },
  {
   "cell_type": "code",
   "execution_count": 45,
   "metadata": {},
   "outputs": [
    {
     "data": {
      "text/html": [
       "<div>\n",
       "<style scoped>\n",
       "    .dataframe tbody tr th:only-of-type {\n",
       "        vertical-align: middle;\n",
       "    }\n",
       "\n",
       "    .dataframe tbody tr th {\n",
       "        vertical-align: top;\n",
       "    }\n",
       "\n",
       "    .dataframe thead th {\n",
       "        text-align: right;\n",
       "    }\n",
       "</style>\n",
       "<table border=\"1\" class=\"dataframe\">\n",
       "  <thead>\n",
       "    <tr style=\"text-align: right;\">\n",
       "      <th></th>\n",
       "      <th>date</th>\n",
       "      <th>ordersPerDateA</th>\n",
       "      <th>revenuePerDateA</th>\n",
       "    </tr>\n",
       "  </thead>\n",
       "  <tbody>\n",
       "    <tr>\n",
       "      <th>0</th>\n",
       "      <td>2019-08-01</td>\n",
       "      <td>24</td>\n",
       "      <td>148579</td>\n",
       "    </tr>\n",
       "    <tr>\n",
       "      <th>1</th>\n",
       "      <td>2019-08-02</td>\n",
       "      <td>20</td>\n",
       "      <td>93822</td>\n",
       "    </tr>\n",
       "    <tr>\n",
       "      <th>2</th>\n",
       "      <td>2019-08-03</td>\n",
       "      <td>24</td>\n",
       "      <td>112473</td>\n",
       "    </tr>\n",
       "    <tr>\n",
       "      <th>3</th>\n",
       "      <td>2019-08-04</td>\n",
       "      <td>16</td>\n",
       "      <td>70825</td>\n",
       "    </tr>\n",
       "    <tr>\n",
       "      <th>4</th>\n",
       "      <td>2019-08-05</td>\n",
       "      <td>25</td>\n",
       "      <td>124218</td>\n",
       "    </tr>\n",
       "  </tbody>\n",
       "</table>\n",
       "</div>"
      ],
      "text/plain": [
       "        date  ordersPerDateA  revenuePerDateA\n",
       "0 2019-08-01              24           148579\n",
       "1 2019-08-02              20            93822\n",
       "2 2019-08-03              24           112473\n",
       "3 2019-08-04              16            70825\n",
       "4 2019-08-05              25           124218"
      ]
     },
     "execution_count": 45,
     "metadata": {},
     "output_type": "execute_result"
    }
   ],
   "source": [
    "ordersADaily.head()"
   ]
  },
  {
   "cell_type": "code",
   "execution_count": 46,
   "metadata": {},
   "outputs": [],
   "source": [
    "# получим кумулятивные данные по дням о заказах и выручке группы А\n",
    "ordersACummulative = ordersADaily.apply(\n",
    "    lambda x: ordersADaily[ordersADaily['date'] <= x['date']].agg(\n",
    "        {'date': 'max', 'ordersPerDateA': 'sum', 'revenuePerDateA': 'sum'}\n",
    "    ),\n",
    "    axis=1,\n",
    ").sort_values(by=['date'])\n",
    "ordersACummulative.columns = [\n",
    "    'date',\n",
    "    'ordersCummulativeA',\n",
    "    'revenueCummulativeA',\n",
    "]"
   ]
  },
  {
   "cell_type": "code",
   "execution_count": 47,
   "metadata": {},
   "outputs": [
    {
     "data": {
      "text/html": [
       "<div>\n",
       "<style scoped>\n",
       "    .dataframe tbody tr th:only-of-type {\n",
       "        vertical-align: middle;\n",
       "    }\n",
       "\n",
       "    .dataframe tbody tr th {\n",
       "        vertical-align: top;\n",
       "    }\n",
       "\n",
       "    .dataframe thead th {\n",
       "        text-align: right;\n",
       "    }\n",
       "</style>\n",
       "<table border=\"1\" class=\"dataframe\">\n",
       "  <thead>\n",
       "    <tr style=\"text-align: right;\">\n",
       "      <th></th>\n",
       "      <th>date</th>\n",
       "      <th>ordersCummulativeA</th>\n",
       "      <th>revenueCummulativeA</th>\n",
       "    </tr>\n",
       "  </thead>\n",
       "  <tbody>\n",
       "    <tr>\n",
       "      <th>0</th>\n",
       "      <td>2019-08-01</td>\n",
       "      <td>24</td>\n",
       "      <td>148579</td>\n",
       "    </tr>\n",
       "    <tr>\n",
       "      <th>1</th>\n",
       "      <td>2019-08-02</td>\n",
       "      <td>44</td>\n",
       "      <td>242401</td>\n",
       "    </tr>\n",
       "    <tr>\n",
       "      <th>2</th>\n",
       "      <td>2019-08-03</td>\n",
       "      <td>68</td>\n",
       "      <td>354874</td>\n",
       "    </tr>\n",
       "    <tr>\n",
       "      <th>3</th>\n",
       "      <td>2019-08-04</td>\n",
       "      <td>84</td>\n",
       "      <td>425699</td>\n",
       "    </tr>\n",
       "    <tr>\n",
       "      <th>4</th>\n",
       "      <td>2019-08-05</td>\n",
       "      <td>109</td>\n",
       "      <td>549917</td>\n",
       "    </tr>\n",
       "  </tbody>\n",
       "</table>\n",
       "</div>"
      ],
      "text/plain": [
       "        date  ordersCummulativeA  revenueCummulativeA\n",
       "0 2019-08-01                  24               148579\n",
       "1 2019-08-02                  44               242401\n",
       "2 2019-08-03                  68               354874\n",
       "3 2019-08-04                  84               425699\n",
       "4 2019-08-05                 109               549917"
      ]
     },
     "execution_count": 47,
     "metadata": {},
     "output_type": "execute_result"
    }
   ],
   "source": [
    "ordersACummulative.head()"
   ]
  },
  {
   "cell_type": "code",
   "execution_count": 48,
   "metadata": {},
   "outputs": [],
   "source": [
    "# получим кумулятивные данные по дням о заказах и выручке группы А\n",
    "ordersBDaily = (\n",
    "    orders[orders['group'] == 'B'][['date', 'transactionId', 'visitorId', 'revenue']]\n",
    "    .groupby('date', as_index=False)\n",
    "    .agg({'transactionId': pd.Series.nunique, 'revenue': 'sum'})\n",
    ")\n",
    "ordersBDaily.columns = ['date', 'ordersPerDateB', 'revenuePerDateB']"
   ]
  },
  {
   "cell_type": "code",
   "execution_count": 49,
   "metadata": {},
   "outputs": [
    {
     "data": {
      "text/html": [
       "<div>\n",
       "<style scoped>\n",
       "    .dataframe tbody tr th:only-of-type {\n",
       "        vertical-align: middle;\n",
       "    }\n",
       "\n",
       "    .dataframe tbody tr th {\n",
       "        vertical-align: top;\n",
       "    }\n",
       "\n",
       "    .dataframe thead th {\n",
       "        text-align: right;\n",
       "    }\n",
       "</style>\n",
       "<table border=\"1\" class=\"dataframe\">\n",
       "  <thead>\n",
       "    <tr style=\"text-align: right;\">\n",
       "      <th></th>\n",
       "      <th>date</th>\n",
       "      <th>ordersPerDateB</th>\n",
       "      <th>revenuePerDateB</th>\n",
       "    </tr>\n",
       "  </thead>\n",
       "  <tbody>\n",
       "    <tr>\n",
       "      <th>0</th>\n",
       "      <td>2019-08-01</td>\n",
       "      <td>21</td>\n",
       "      <td>101217</td>\n",
       "    </tr>\n",
       "    <tr>\n",
       "      <th>1</th>\n",
       "      <td>2019-08-02</td>\n",
       "      <td>24</td>\n",
       "      <td>165531</td>\n",
       "    </tr>\n",
       "    <tr>\n",
       "      <th>2</th>\n",
       "      <td>2019-08-03</td>\n",
       "      <td>16</td>\n",
       "      <td>114248</td>\n",
       "    </tr>\n",
       "    <tr>\n",
       "      <th>3</th>\n",
       "      <td>2019-08-04</td>\n",
       "      <td>17</td>\n",
       "      <td>108571</td>\n",
       "    </tr>\n",
       "    <tr>\n",
       "      <th>4</th>\n",
       "      <td>2019-08-05</td>\n",
       "      <td>23</td>\n",
       "      <td>92428</td>\n",
       "    </tr>\n",
       "  </tbody>\n",
       "</table>\n",
       "</div>"
      ],
      "text/plain": [
       "        date  ordersPerDateB  revenuePerDateB\n",
       "0 2019-08-01              21           101217\n",
       "1 2019-08-02              24           165531\n",
       "2 2019-08-03              16           114248\n",
       "3 2019-08-04              17           108571\n",
       "4 2019-08-05              23            92428"
      ]
     },
     "execution_count": 49,
     "metadata": {},
     "output_type": "execute_result"
    }
   ],
   "source": [
    "ordersBDaily.head()"
   ]
  },
  {
   "cell_type": "code",
   "execution_count": 50,
   "metadata": {},
   "outputs": [],
   "source": [
    "ordersBCummulative = ordersBDaily.apply(\n",
    "    lambda x: ordersBDaily[ordersBDaily['date'] <= x['date']].agg(\n",
    "        {'date': 'max', 'ordersPerDateB': 'sum', 'revenuePerDateB': 'sum'}\n",
    "    ),\n",
    "    axis=1,\n",
    ").sort_values(by=['date'])\n",
    "ordersBCummulative.columns = [\n",
    "    'date',\n",
    "    'ordersCummulativeB',\n",
    "    'revenueCummulativeB',\n",
    "]"
   ]
  },
  {
   "cell_type": "code",
   "execution_count": 51,
   "metadata": {},
   "outputs": [
    {
     "data": {
      "text/html": [
       "<div>\n",
       "<style scoped>\n",
       "    .dataframe tbody tr th:only-of-type {\n",
       "        vertical-align: middle;\n",
       "    }\n",
       "\n",
       "    .dataframe tbody tr th {\n",
       "        vertical-align: top;\n",
       "    }\n",
       "\n",
       "    .dataframe thead th {\n",
       "        text-align: right;\n",
       "    }\n",
       "</style>\n",
       "<table border=\"1\" class=\"dataframe\">\n",
       "  <thead>\n",
       "    <tr style=\"text-align: right;\">\n",
       "      <th></th>\n",
       "      <th>date</th>\n",
       "      <th>ordersCummulativeB</th>\n",
       "      <th>revenueCummulativeB</th>\n",
       "    </tr>\n",
       "  </thead>\n",
       "  <tbody>\n",
       "    <tr>\n",
       "      <th>0</th>\n",
       "      <td>2019-08-01</td>\n",
       "      <td>21</td>\n",
       "      <td>101217</td>\n",
       "    </tr>\n",
       "    <tr>\n",
       "      <th>1</th>\n",
       "      <td>2019-08-02</td>\n",
       "      <td>45</td>\n",
       "      <td>266748</td>\n",
       "    </tr>\n",
       "    <tr>\n",
       "      <th>2</th>\n",
       "      <td>2019-08-03</td>\n",
       "      <td>61</td>\n",
       "      <td>380996</td>\n",
       "    </tr>\n",
       "    <tr>\n",
       "      <th>3</th>\n",
       "      <td>2019-08-04</td>\n",
       "      <td>78</td>\n",
       "      <td>489567</td>\n",
       "    </tr>\n",
       "    <tr>\n",
       "      <th>4</th>\n",
       "      <td>2019-08-05</td>\n",
       "      <td>101</td>\n",
       "      <td>581995</td>\n",
       "    </tr>\n",
       "  </tbody>\n",
       "</table>\n",
       "</div>"
      ],
      "text/plain": [
       "        date  ordersCummulativeB  revenueCummulativeB\n",
       "0 2019-08-01                  21               101217\n",
       "1 2019-08-02                  45               266748\n",
       "2 2019-08-03                  61               380996\n",
       "3 2019-08-04                  78               489567\n",
       "4 2019-08-05                 101               581995"
      ]
     },
     "execution_count": 51,
     "metadata": {},
     "output_type": "execute_result"
    }
   ],
   "source": [
    "ordersBCummulative.head()"
   ]
  },
  {
   "cell_type": "code",
   "execution_count": 52,
   "metadata": {},
   "outputs": [],
   "source": [
    "# Создадим датафрейм с кумулятивными данными\n",
    "data = (\n",
    "    ordersADaily.merge(\n",
    "        ordersBDaily, left_on='date', right_on='date', how='left'\n",
    "    )\n",
    "    .merge(ordersACummulative, left_on='date', right_on='date', how='left')\n",
    "    .merge(ordersBCummulative, left_on='date', right_on='date', how='left')\n",
    "    .merge(visitorsADaily, left_on='date', right_on='date', how='left')\n",
    "    .merge(visitorsBDaily, left_on='date', right_on='date', how='left')\n",
    "    .merge(visitorsACummulative, left_on='date', right_on='date', how='left')\n",
    "    .merge(visitorsBCummulative, left_on='date', right_on='date', how='left')\n",
    ")"
   ]
  },
  {
   "cell_type": "code",
   "execution_count": 53,
   "metadata": {},
   "outputs": [
    {
     "data": {
      "text/html": [
       "<div>\n",
       "<style scoped>\n",
       "    .dataframe tbody tr th:only-of-type {\n",
       "        vertical-align: middle;\n",
       "    }\n",
       "\n",
       "    .dataframe tbody tr th {\n",
       "        vertical-align: top;\n",
       "    }\n",
       "\n",
       "    .dataframe thead th {\n",
       "        text-align: right;\n",
       "    }\n",
       "</style>\n",
       "<table border=\"1\" class=\"dataframe\">\n",
       "  <thead>\n",
       "    <tr style=\"text-align: right;\">\n",
       "      <th></th>\n",
       "      <th>date</th>\n",
       "      <th>ordersPerDateA</th>\n",
       "      <th>revenuePerDateA</th>\n",
       "      <th>ordersPerDateB</th>\n",
       "      <th>revenuePerDateB</th>\n",
       "      <th>ordersCummulativeA</th>\n",
       "      <th>revenueCummulativeA</th>\n",
       "      <th>ordersCummulativeB</th>\n",
       "      <th>revenueCummulativeB</th>\n",
       "      <th>visitorsPerDateA</th>\n",
       "      <th>visitorsPerDateB</th>\n",
       "      <th>visitorsCummulativeA</th>\n",
       "      <th>visitorsCummulativeB</th>\n",
       "    </tr>\n",
       "  </thead>\n",
       "  <tbody>\n",
       "    <tr>\n",
       "      <th>0</th>\n",
       "      <td>2019-08-01</td>\n",
       "      <td>24</td>\n",
       "      <td>148579</td>\n",
       "      <td>21</td>\n",
       "      <td>101217</td>\n",
       "      <td>24</td>\n",
       "      <td>148579</td>\n",
       "      <td>21</td>\n",
       "      <td>101217</td>\n",
       "      <td>719</td>\n",
       "      <td>713</td>\n",
       "      <td>719</td>\n",
       "      <td>713</td>\n",
       "    </tr>\n",
       "    <tr>\n",
       "      <th>1</th>\n",
       "      <td>2019-08-02</td>\n",
       "      <td>20</td>\n",
       "      <td>93822</td>\n",
       "      <td>24</td>\n",
       "      <td>165531</td>\n",
       "      <td>44</td>\n",
       "      <td>242401</td>\n",
       "      <td>45</td>\n",
       "      <td>266748</td>\n",
       "      <td>619</td>\n",
       "      <td>581</td>\n",
       "      <td>1338</td>\n",
       "      <td>1294</td>\n",
       "    </tr>\n",
       "    <tr>\n",
       "      <th>2</th>\n",
       "      <td>2019-08-03</td>\n",
       "      <td>24</td>\n",
       "      <td>112473</td>\n",
       "      <td>16</td>\n",
       "      <td>114248</td>\n",
       "      <td>68</td>\n",
       "      <td>354874</td>\n",
       "      <td>61</td>\n",
       "      <td>380996</td>\n",
       "      <td>507</td>\n",
       "      <td>509</td>\n",
       "      <td>1845</td>\n",
       "      <td>1803</td>\n",
       "    </tr>\n",
       "    <tr>\n",
       "      <th>3</th>\n",
       "      <td>2019-08-04</td>\n",
       "      <td>16</td>\n",
       "      <td>70825</td>\n",
       "      <td>17</td>\n",
       "      <td>108571</td>\n",
       "      <td>84</td>\n",
       "      <td>425699</td>\n",
       "      <td>78</td>\n",
       "      <td>489567</td>\n",
       "      <td>717</td>\n",
       "      <td>770</td>\n",
       "      <td>2562</td>\n",
       "      <td>2573</td>\n",
       "    </tr>\n",
       "    <tr>\n",
       "      <th>4</th>\n",
       "      <td>2019-08-05</td>\n",
       "      <td>25</td>\n",
       "      <td>124218</td>\n",
       "      <td>23</td>\n",
       "      <td>92428</td>\n",
       "      <td>109</td>\n",
       "      <td>549917</td>\n",
       "      <td>101</td>\n",
       "      <td>581995</td>\n",
       "      <td>756</td>\n",
       "      <td>707</td>\n",
       "      <td>3318</td>\n",
       "      <td>3280</td>\n",
       "    </tr>\n",
       "  </tbody>\n",
       "</table>\n",
       "</div>"
      ],
      "text/plain": [
       "        date  ordersPerDateA  revenuePerDateA  ordersPerDateB  \\\n",
       "0 2019-08-01              24           148579              21   \n",
       "1 2019-08-02              20            93822              24   \n",
       "2 2019-08-03              24           112473              16   \n",
       "3 2019-08-04              16            70825              17   \n",
       "4 2019-08-05              25           124218              23   \n",
       "\n",
       "   revenuePerDateB  ordersCummulativeA  revenueCummulativeA  \\\n",
       "0           101217                  24               148579   \n",
       "1           165531                  44               242401   \n",
       "2           114248                  68               354874   \n",
       "3           108571                  84               425699   \n",
       "4            92428                 109               549917   \n",
       "\n",
       "   ordersCummulativeB  revenueCummulativeB  visitorsPerDateA  \\\n",
       "0                  21               101217               719   \n",
       "1                  45               266748               619   \n",
       "2                  61               380996               507   \n",
       "3                  78               489567               717   \n",
       "4                 101               581995               756   \n",
       "\n",
       "   visitorsPerDateB  visitorsCummulativeA  visitorsCummulativeB  \n",
       "0               713                   719                   713  \n",
       "1               581                  1338                  1294  \n",
       "2               509                  1845                  1803  \n",
       "3               770                  2562                  2573  \n",
       "4               707                  3318                  3280  "
      ]
     },
     "execution_count": 53,
     "metadata": {},
     "output_type": "execute_result"
    }
   ],
   "source": [
    "data.head()"
   ]
  },
  {
   "cell_type": "markdown",
   "metadata": {},
   "source": [
    "Посчитаем статистическую значимость различия в конверсии между группами.\n",
    "Создадим переменные ordersByUsersA и ordersByUsersB со столбцами ['userId', 'orders']. В них для пользователей, которые заказывали хотя бы 1 раз, укажем число совершённых заказов.\n"
   ]
  },
  {
   "cell_type": "code",
   "execution_count": 54,
   "metadata": {},
   "outputs": [],
   "source": [
    "ordersByUsersA = (\n",
    "    orders[orders['group'] == 'A']\n",
    "    .groupby('visitorId', as_index=False)\n",
    "    .agg({'transactionId': pd.Series.nunique})\n",
    ")\n",
    "ordersByUsersA.columns = ['userId', 'orders']\n",
    "\n",
    "ordersByUsersB = (\n",
    "    orders[orders['group'] == 'B']\n",
    "    .groupby('visitorId', as_index=False)\n",
    "    .agg({'transactionId': pd.Series.nunique})\n",
    ")\n",
    "ordersByUsersB.columns = ['userId', 'orders'] "
   ]
  },
  {
   "cell_type": "markdown",
   "metadata": {},
   "source": [
    "Объявим переменные sampleA и sampleB, в которых пользователям из разных групп будет соответствовать количество заказов. "
   ]
  },
  {
   "cell_type": "code",
   "execution_count": 55,
   "metadata": {},
   "outputs": [],
   "source": [
    "sampleA = pd.concat([ordersByUsersA['orders'],pd.Series(0, index=np.arange(data['visitorsPerDateA'].sum() - len(ordersByUsersA['orders'])), name='orders')],axis=0)\n",
    "\n",
    "sampleB = pd.concat([ordersByUsersB['orders'],pd.Series(0, index=np.arange(data['visitorsPerDateB'].sum() - len(ordersByUsersB['orders'])), name='orders')],axis=0)"
   ]
  },
  {
   "cell_type": "markdown",
   "metadata": {},
   "source": [
    "Сформулируем гипотезы\n",
    "\n",
    "Н0 - различия в конверсиях между группами по «сырым» данным статистически не значимы\n",
    "\n",
    "Н1 - различия в конверсиях между группами по «сырым» данным статистически значимы\n",
    "\n",
    "Пороговое значение alpha примем за 5%."
   ]
  },
  {
   "cell_type": "code",
   "execution_count": 56,
   "metadata": {},
   "outputs": [
    {
     "name": "stdout",
     "output_type": "stream",
     "text": [
      "0.017\n",
      "0.138\n"
     ]
    }
   ],
   "source": [
    "print(\"{0:.3f}\".format(st.mannwhitneyu(sampleA, sampleB)[1]))\n",
    "\n",
    "print(\"{0:.3f}\".format(sampleB.mean() / sampleA.mean() - 1))\n"
   ]
  },
  {
   "cell_type": "markdown",
   "metadata": {},
   "source": [
    "P-value по конверсии по \"сырым\" данным: 0.017, а это меньше 0.05, поэтому нулевую гипотезу отвергаем. Анализ сырых данных показывает, что в конверсии между группами есть статистически значимые различия. Относительный прирост конверсии группы B к конверсии группы А равен почти 14%."
   ]
  },
  {
   "cell_type": "markdown",
   "metadata": {},
   "source": [
    "**Посчитайте статистическую значимость различий в среднем чеке заказа между группами по «сырым» данным. Сделайте выводы и предположения.**"
   ]
  },
  {
   "cell_type": "markdown",
   "metadata": {},
   "source": [
    "Теперь проверим статистическую значимость различий в среднем чеке между сегментами. \n",
    "\n",
    "Нулевая гипотеза: различий в среднем чеке между группами нет. \n",
    "\n",
    "Альтернативная гипотеза: различия в среднем чеке между группами есть.\n",
    "\n",
    "Чтобы рассчитать статистическую значимость различий в среднем чеке, передадим критерию mannwhitneyu() данные о выручке с заказов.\n"
   ]
  },
  {
   "cell_type": "code",
   "execution_count": 57,
   "metadata": {},
   "outputs": [
    {
     "name": "stdout",
     "output_type": "stream",
     "text": [
      "0.729\n",
      "0.259\n"
     ]
    }
   ],
   "source": [
    "print('{0:.3f}'.format(st.mannwhitneyu(orders[orders['group']=='A']['revenue'], orders[orders['group']=='B']['revenue'])[1]))\n",
    "print('{0:.3f}'.format(orders[orders['group']=='B']['revenue'].mean()/orders[orders['group']=='A']['revenue'].mean()-1))"
   ]
  },
  {
   "cell_type": "markdown",
   "metadata": {},
   "source": [
    "P-value по среднему чеку в \"сырых\" данных: 0.729, это значительно больше 0.05, значит различий в среднем чеке между группами нет. Однако относительный прирост среднего чека группы B к среднему чеку группы А по \"сырым\" данным: 26%\n"
   ]
  },
  {
   "cell_type": "markdown",
   "metadata": {},
   "source": [
    "**Посчитайте статистическую значимость различий в конверсии между группами по «очищенным» данным. Сделайте выводы и предположения.**"
   ]
  },
  {
   "cell_type": "markdown",
   "metadata": {},
   "source": [
    "Вспомним, что найденные нами 95-й и 99-й перцентили средних чеков равны 28 000 и 58 233 рублям. А 95-й и 99-й перцентили количества заказов на одного пользователя равны 2 и 4 заказа на пользователя.\n",
    "\n",
    "Примем за аномальных пользователей тех, кто совершил от 4 заказов или совершил заказ дороже 30 000 рублей. Так мы уберём 5% пользователей с наибольшим числом заказов и от 1% до 5% пользователей с дорогими заказами. \n",
    "\n",
    "Сделаем срезы пользователей с числом заказов больше 4 — usersWithManyOrders и пользователей, совершивших заказы дороже 30 000 — usersWithExpensiveOrders. Объединим их в таблице abnormalUsers.\n"
   ]
  },
  {
   "cell_type": "code",
   "execution_count": 58,
   "metadata": {},
   "outputs": [],
   "source": [
    "usersWithManyOrders = pd.concat(\n",
    "    [\n",
    "        ordersByUsersA[ordersByUsersA['orders'] > 3]['userId'],\n",
    "        ordersByUsersB[ordersByUsersB['orders'] > 3]['userId'],\n",
    "    ],\n",
    "    axis=0,\n",
    ")\n"
   ]
  },
  {
   "cell_type": "code",
   "execution_count": 59,
   "metadata": {},
   "outputs": [],
   "source": [
    "usersWithExpensiveOrders = orders[orders['revenue'] > 30000]['visitorId']"
   ]
  },
  {
   "cell_type": "code",
   "execution_count": 60,
   "metadata": {},
   "outputs": [],
   "source": [
    "abnormalUsers = (\n",
    "    pd.concat([usersWithManyOrders, usersWithExpensiveOrders], axis=0)\n",
    "    .drop_duplicates()\n",
    "    .sort_values()\n",
    ")\n"
   ]
  },
  {
   "cell_type": "code",
   "execution_count": 61,
   "metadata": {},
   "outputs": [],
   "source": [
    "abnormalUsers = (\n",
    "    pd.concat([usersWithManyOrders, usersWithExpensiveOrders], axis=0)\n",
    "    .drop_duplicates()\n",
    "    .sort_values()\n",
    ")"
   ]
  },
  {
   "cell_type": "code",
   "execution_count": 62,
   "metadata": {},
   "outputs": [
    {
     "data": {
      "text/plain": [
       "(57,)"
      ]
     },
     "execution_count": 62,
     "metadata": {},
     "output_type": "execute_result"
    }
   ],
   "source": [
    "abnormalUsers.shape"
   ]
  },
  {
   "cell_type": "markdown",
   "metadata": {},
   "source": [
    "Всего 53 аномальных пользователя.\n",
    "\n",
    "Узнаем, как их действия повлияли на результаты теста. Посчитаем статистическую значимость различий в конверсии между группами теста по очищенным данным. Сначала подготовим выборки количества заказов по пользователям по группам теста:\n"
   ]
  },
  {
   "cell_type": "code",
   "execution_count": 63,
   "metadata": {},
   "outputs": [],
   "source": [
    "sampleAFiltered = pd.concat(\n",
    "    [\n",
    "        ordersByUsersA[\n",
    "            np.logical_not(ordersByUsersA['userId'].isin(abnormalUsers))\n",
    "        ]['orders'],\n",
    "        pd.Series(\n",
    "            0,\n",
    "            index=np.arange(\n",
    "                data['visitorsPerDateA'].sum() - len(ordersByUsersA['orders'])\n",
    "            ),\n",
    "            name='orders',\n",
    "        ),\n",
    "    ],\n",
    "    axis=0,\n",
    ")"
   ]
  },
  {
   "cell_type": "code",
   "execution_count": 64,
   "metadata": {},
   "outputs": [],
   "source": [
    "sampleBFiltered = pd.concat(\n",
    "    [\n",
    "        ordersByUsersB[\n",
    "            np.logical_not(ordersByUsersB['userId'].isin(abnormalUsers))\n",
    "        ]['orders'],\n",
    "        pd.Series(\n",
    "            0,\n",
    "            index=np.arange(\n",
    "                data['visitorsPerDateB'].sum() - len(ordersByUsersB['orders'])\n",
    "            ),\n",
    "            name='orders',\n",
    "        ),\n",
    "    ],\n",
    "    axis=0,\n",
    ") "
   ]
  },
  {
   "cell_type": "markdown",
   "metadata": {},
   "source": [
    "Сформулируем гипотезу:\n",
    "\n",
    "Н0 - различия в конверсии между группами по «очищенным» данным статистически не значимы\n",
    "\n",
    "Н1 - различия в конверсии между группами по «очищенным» данным статистически значимы\n",
    "\n",
    "Пороговое значение alpha примем за 5%."
   ]
  },
  {
   "cell_type": "markdown",
   "metadata": {},
   "source": [
    "Применим статистический критерий Манна-Уитни к полученным выборкам:\n"
   ]
  },
  {
   "cell_type": "code",
   "execution_count": 65,
   "metadata": {},
   "outputs": [
    {
     "name": "stdout",
     "output_type": "stream",
     "text": [
      "0.018\n",
      "0.148\n"
     ]
    }
   ],
   "source": [
    "print('{0:.3f}'.format(st.mannwhitneyu(sampleAFiltered, sampleBFiltered)[1]))\n",
    "print('{0:.3f}'.format(sampleBFiltered.mean()/sampleAFiltered.mean()-1)) "
   ]
  },
  {
   "cell_type": "markdown",
   "metadata": {},
   "source": [
    "Результаты по конверсии практически не изменились. Различия в конверсии между группами по «очищенным» данным статистически значимы. Относительный прирост конверсии очищенной группы B к А равен 14%."
   ]
  },
  {
   "cell_type": "markdown",
   "metadata": {},
   "source": [
    "**Посчитайте статистическую значимость различий в среднем чеке заказа между группами по «очищенным» данным. Сделайте выводы и предположения.**"
   ]
  },
  {
   "cell_type": "markdown",
   "metadata": {},
   "source": [
    "Посчитаем статистическую значимость различия средних чеков после удаления аномальных пользователей.\n",
    "\n",
    "Сформулируем гипотезы\n",
    "\n",
    "Н0 - различия в среднем чеке заказа между группами по «очищенным» данным статистически не значимы\n",
    "\n",
    "Н1 - различия в среднем чеке заказа между группами по «очищенным» данным статистически значимы\n",
    "\n",
    "Пороговое значение alpha примем за 5%."
   ]
  },
  {
   "cell_type": "code",
   "execution_count": 66,
   "metadata": {},
   "outputs": [
    {
     "name": "stdout",
     "output_type": "stream",
     "text": [
      "0.958\n",
      "-0.020\n"
     ]
    }
   ],
   "source": [
    "print(\n",
    "    '{0:.3f}'.format(\n",
    "        st.mannwhitneyu(\n",
    "            orders[\n",
    "                np.logical_and(\n",
    "                    orders['group'] == 'A',\n",
    "                    np.logical_not(orders['visitorId'].isin(abnormalUsers)),\n",
    "                )\n",
    "            ]['revenue'],\n",
    "            orders[\n",
    "                np.logical_and(\n",
    "                    orders['group'] == 'B',\n",
    "                    np.logical_not(orders['visitorId'].isin(abnormalUsers)),\n",
    "                )\n",
    "            ]['revenue'],\n",
    "        )[1]\n",
    "    )\n",
    ")\n",
    "\n",
    "print(\n",
    "    \"{0:.3f}\".format(\n",
    "        orders[\n",
    "            np.logical_and(\n",
    "                orders['group'] == 'B',\n",
    "                np.logical_not(orders['visitorId'].isin(abnormalUsers)),\n",
    "            )\n",
    "        ]['revenue'].mean()\n",
    "        / orders[\n",
    "            np.logical_and(\n",
    "                orders['group'] == 'A',\n",
    "                np.logical_not(orders['visitorId'].isin(abnormalUsers)),\n",
    "            )\n",
    "        ]['revenue'].mean()\n",
    "        - 1\n",
    "    )\n",
    ")"
   ]
  },
  {
   "cell_type": "markdown",
   "metadata": {},
   "source": [
    "Не отвергаем нулевую гипотезу: Различия в среднем чеке заказа между группами по «очищенным» данным статистически не значимы. P-value увеличился до 0.98, а вот разница между группами стала значительно меньше, всего -2%."
   ]
  },
  {
   "cell_type": "markdown",
   "metadata": {},
   "source": [
    "**Примите решение по результатам теста и объясните его.** \n",
    "\n",
    "**Варианты решений:**\n",
    "1. Остановить тест, зафиксировать победу одной из групп. \n",
    "2. Остановить тест, зафиксировать отсутствие различий между группами. \n",
    "3. Продолжить тест."
   ]
  },
  {
   "cell_type": "markdown",
   "metadata": {},
   "source": [
    "Остановимся на Варианте 2. Остановим тест и зафиксируем победу группы В. \n",
    "\n",
    "Группа B лучше группы A по метрике конверсии, по \"сырым\" и по \"очищенным\" данным.\n",
    "\n",
    "Хоть статистически значимых различий по среднему чеку нет, но в сырых данных прирост к среднему чеку составил аж до 26%. \n",
    "\n",
    "При этом уже на очищенных данных разницы в среднем чеке уже практически никакой.\n",
    "\n",
    "Т.е. в группе В лучше конверсия, что в перспективе дает нам увеличение выручки."
   ]
  },
  {
   "cell_type": "markdown",
   "metadata": {},
   "source": [
    "# **Общий вывод**"
   ]
  },
  {
   "cell_type": "markdown",
   "metadata": {},
   "source": [
    "В первой части работы была выполнена приоритизация гипотез с помощью фреймворков ICE и RICE. Наиболее перспективная гипотеза по ICE (влияние, уверенность, усилия / простота) - \"Запустить акцию, дающую скидку на товар в день рождения\".\n",
    "\n",
    "Наиболее перспективная гипотеза по RICE (влияние, уверенность, усилия, охват) - \"Добавить форму подписки на все основные страницы, чтобы собрать базу клиентов для email-рассылок\". У этой гипотезы самый высокий параметр Reach (10), в то время как у остальных гипотез он меньше. Параметр Reach влияет на то, скольких пользователей затронет изменение, которое вы хотите внести;"
   ]
  },
  {
   "cell_type": "markdown",
   "metadata": {},
   "source": [
    "Во второй части работы был выполнен анализ результатов A/B-теста."
   ]
  },
  {
   "cell_type": "markdown",
   "metadata": {},
   "source": [
    "Были построены графики кумулятивной выручки по группам, график кумулятивного среднего чека по группам, кумулятивной конверсии по группам, относительного изменения кумулятивной конверсии группы B к группе A, график количества заказов по пользователям, график стоимостей заказов.\n",
    "\n",
    "По графикам видно, что кумулятивная выручка почти равномерно увеличивается в течение всего теста. С самого начала группа B лидировала весь тест."
   ]
  },
  {
   "cell_type": "markdown",
   "metadata": {},
   "source": [
    "Была посчитана статистическая значимость различий в конверсии между группами по «сырым» и по \"очищенным\" данным.\n",
    "- Различия конверсии в обоих случаях статистически значимы. \n",
    "\n",
    "Была посчитана статистическая значимость различий в среднем чеке заказа между группами по «сырым» и по \"очищенным\" данным.\n",
    "- Различий в среднем чеке в обоих случаях нет.\n",
    "\n",
    "Было принято решение остановить тест и зафиксировать победу группы В.\n",
    "\n",
    "Группа B лучше группы A по метрике конверсии, и по \"сырым\" и по \"очищенным\" данным.\n",
    "\n",
    "Разницы в среднем чеке практически нет.\n",
    "\n",
    "Т.е. в группе В лучше конверсия, что в перспективе дает нам увеличение выручки."
   ]
  }
 ],
 "metadata": {
  "ExecuteTimeLog": [
   {
    "duration": 2057,
    "start_time": "2022-04-04T17:01:29.534Z"
   },
   {
    "duration": 47,
    "start_time": "2022-04-04T17:04:37.466Z"
   },
   {
    "duration": 17,
    "start_time": "2022-04-04T17:04:45.168Z"
   },
   {
    "duration": 12,
    "start_time": "2022-04-04T17:05:00.607Z"
   },
   {
    "duration": 151,
    "start_time": "2022-04-04T17:05:20.856Z"
   },
   {
    "duration": 1840,
    "start_time": "2022-04-04T17:05:33.064Z"
   },
   {
    "duration": 105,
    "start_time": "2022-04-04T17:05:40.928Z"
   },
   {
    "duration": 12,
    "start_time": "2022-04-04T17:05:44.635Z"
   },
   {
    "duration": 7,
    "start_time": "2022-04-04T17:05:50.128Z"
   },
   {
    "duration": 6,
    "start_time": "2022-04-04T17:06:02.464Z"
   },
   {
    "duration": 11,
    "start_time": "2022-04-04T17:06:16.392Z"
   },
   {
    "duration": 6,
    "start_time": "2022-04-04T17:08:05.127Z"
   },
   {
    "duration": 6,
    "start_time": "2022-04-04T17:08:15.462Z"
   },
   {
    "duration": 5,
    "start_time": "2022-04-04T17:08:28.758Z"
   },
   {
    "duration": 8,
    "start_time": "2022-04-04T17:09:00.984Z"
   },
   {
    "duration": 5,
    "start_time": "2022-04-04T17:19:31.782Z"
   },
   {
    "duration": 5,
    "start_time": "2022-04-04T17:19:39.380Z"
   },
   {
    "duration": 5,
    "start_time": "2022-04-04T17:19:52.069Z"
   },
   {
    "duration": 5,
    "start_time": "2022-04-04T17:20:07.869Z"
   },
   {
    "duration": 42,
    "start_time": "2022-04-04T17:31:58.202Z"
   },
   {
    "duration": 13,
    "start_time": "2022-04-04T17:33:00.914Z"
   },
   {
    "duration": 14,
    "start_time": "2022-04-04T17:33:45.369Z"
   },
   {
    "duration": 15,
    "start_time": "2022-04-04T17:36:43.574Z"
   },
   {
    "duration": 16,
    "start_time": "2022-04-04T17:36:49.822Z"
   },
   {
    "duration": 26,
    "start_time": "2022-04-04T19:28:48.791Z"
   },
   {
    "duration": 34,
    "start_time": "2022-04-04T19:29:56.222Z"
   },
   {
    "duration": 620,
    "start_time": "2022-04-04T19:34:09.050Z"
   },
   {
    "duration": 450,
    "start_time": "2022-04-04T19:34:50.161Z"
   },
   {
    "duration": 5,
    "start_time": "2022-04-04T19:35:53.936Z"
   },
   {
    "duration": 52,
    "start_time": "2022-04-04T19:35:56.168Z"
   },
   {
    "duration": 12,
    "start_time": "2022-04-04T19:35:57.272Z"
   },
   {
    "duration": 6,
    "start_time": "2022-04-04T19:35:59.576Z"
   },
   {
    "duration": 15,
    "start_time": "2022-04-04T19:36:00.051Z"
   },
   {
    "duration": 17,
    "start_time": "2022-04-04T19:36:01.928Z"
   },
   {
    "duration": 30,
    "start_time": "2022-04-04T19:36:04.641Z"
   },
   {
    "duration": 507,
    "start_time": "2022-04-04T19:36:07.048Z"
   },
   {
    "duration": 5,
    "start_time": "2022-04-04T19:37:06.840Z"
   },
   {
    "duration": 40,
    "start_time": "2022-04-04T19:37:08.023Z"
   },
   {
    "duration": 12,
    "start_time": "2022-04-04T19:37:08.919Z"
   },
   {
    "duration": 6,
    "start_time": "2022-04-04T19:37:09.199Z"
   },
   {
    "duration": 15,
    "start_time": "2022-04-04T19:37:09.543Z"
   },
   {
    "duration": 16,
    "start_time": "2022-04-04T19:37:09.831Z"
   },
   {
    "duration": 34,
    "start_time": "2022-04-04T19:37:11.263Z"
   },
   {
    "duration": 597,
    "start_time": "2022-04-04T19:37:14.193Z"
   },
   {
    "duration": 8,
    "start_time": "2022-04-04T19:38:45.112Z"
   },
   {
    "duration": 20,
    "start_time": "2022-04-04T19:39:06.318Z"
   },
   {
    "duration": 21,
    "start_time": "2022-04-04T19:39:13.453Z"
   },
   {
    "duration": 27,
    "start_time": "2022-04-04T19:42:55.850Z"
   },
   {
    "duration": 6,
    "start_time": "2022-04-04T19:43:20.450Z"
   },
   {
    "duration": 19,
    "start_time": "2022-04-04T19:43:53.392Z"
   },
   {
    "duration": 9,
    "start_time": "2022-04-04T19:44:32.110Z"
   },
   {
    "duration": 9,
    "start_time": "2022-04-04T19:44:37.300Z"
   },
   {
    "duration": 41,
    "start_time": "2022-04-04T19:46:29.807Z"
   },
   {
    "duration": 8,
    "start_time": "2022-04-04T19:46:49.270Z"
   },
   {
    "duration": 36,
    "start_time": "2022-04-04T19:47:19.671Z"
   },
   {
    "duration": 288,
    "start_time": "2022-04-04T19:49:38.949Z"
   },
   {
    "duration": 214,
    "start_time": "2022-04-04T19:50:07.932Z"
   },
   {
    "duration": 10,
    "start_time": "2022-04-04T19:50:24.412Z"
   },
   {
    "duration": 11,
    "start_time": "2022-04-04T19:50:34.275Z"
   },
   {
    "duration": 436,
    "start_time": "2022-04-04T19:58:27.015Z"
   },
   {
    "duration": 291,
    "start_time": "2022-04-04T19:58:56.564Z"
   },
   {
    "duration": 259,
    "start_time": "2022-04-04T19:59:49.284Z"
   },
   {
    "duration": 243,
    "start_time": "2022-04-04T20:00:18.660Z"
   },
   {
    "duration": 246,
    "start_time": "2022-04-04T20:00:25.964Z"
   },
   {
    "duration": 275,
    "start_time": "2022-04-04T20:00:37.588Z"
   },
   {
    "duration": 276,
    "start_time": "2022-04-04T20:01:01.154Z"
   },
   {
    "duration": 257,
    "start_time": "2022-04-04T20:01:18.198Z"
   },
   {
    "duration": 374,
    "start_time": "2022-04-04T20:01:28.322Z"
   },
   {
    "duration": 269,
    "start_time": "2022-04-04T20:03:41.632Z"
   },
   {
    "duration": 412,
    "start_time": "2022-04-04T20:08:21.868Z"
   },
   {
    "duration": 360,
    "start_time": "2022-04-04T20:08:29.598Z"
   },
   {
    "duration": 2345,
    "start_time": "2022-04-05T17:46:00.123Z"
   },
   {
    "duration": 49,
    "start_time": "2022-04-05T17:46:02.471Z"
   },
   {
    "duration": 19,
    "start_time": "2022-04-05T17:46:02.522Z"
   },
   {
    "duration": 6,
    "start_time": "2022-04-05T17:46:02.544Z"
   },
   {
    "duration": 26,
    "start_time": "2022-04-05T17:46:02.553Z"
   },
   {
    "duration": 16,
    "start_time": "2022-04-05T17:46:02.581Z"
   },
   {
    "duration": 33,
    "start_time": "2022-04-05T17:46:02.599Z"
   },
   {
    "duration": 37,
    "start_time": "2022-04-05T17:46:02.635Z"
   },
   {
    "duration": 37,
    "start_time": "2022-04-05T17:46:02.674Z"
   },
   {
    "duration": 19,
    "start_time": "2022-04-05T17:46:02.716Z"
   },
   {
    "duration": 10,
    "start_time": "2022-04-05T17:46:02.737Z"
   },
   {
    "duration": 305,
    "start_time": "2022-04-05T17:46:02.750Z"
   },
   {
    "duration": 232,
    "start_time": "2022-04-05T17:46:03.057Z"
   },
   {
    "duration": 9,
    "start_time": "2022-04-05T17:46:03.292Z"
   },
   {
    "duration": 11,
    "start_time": "2022-04-05T17:46:03.303Z"
   },
   {
    "duration": 441,
    "start_time": "2022-04-05T17:46:03.316Z"
   },
   {
    "duration": 276,
    "start_time": "2022-04-05T17:46:03.768Z"
   },
   {
    "duration": 471,
    "start_time": "2022-04-05T17:46:04.046Z"
   },
   {
    "duration": 435,
    "start_time": "2022-04-05T19:20:50.284Z"
   },
   {
    "duration": 6,
    "start_time": "2022-04-05T19:21:21.906Z"
   },
   {
    "duration": 5,
    "start_time": "2022-04-05T19:21:38.177Z"
   },
   {
    "duration": 303,
    "start_time": "2022-04-05T19:22:16.250Z"
   },
   {
    "duration": 324,
    "start_time": "2022-04-05T19:22:35.044Z"
   },
   {
    "duration": 494,
    "start_time": "2022-04-05T19:37:43.316Z"
   },
   {
    "duration": 318,
    "start_time": "2022-04-05T19:39:14.308Z"
   },
   {
    "duration": 408,
    "start_time": "2022-04-05T19:39:34.821Z"
   },
   {
    "duration": 286,
    "start_time": "2022-04-05T19:39:43.803Z"
   },
   {
    "duration": 431,
    "start_time": "2022-04-05T19:45:36.086Z"
   },
   {
    "duration": 415,
    "start_time": "2022-04-05T19:45:46.246Z"
   },
   {
    "duration": 365,
    "start_time": "2022-04-05T19:46:04.111Z"
   },
   {
    "duration": 355,
    "start_time": "2022-04-05T19:46:08.965Z"
   },
   {
    "duration": 12,
    "start_time": "2022-04-05T19:49:14.010Z"
   },
   {
    "duration": 13,
    "start_time": "2022-04-05T19:49:33.259Z"
   },
   {
    "duration": 1628,
    "start_time": "2022-04-05T19:50:49.906Z"
   },
   {
    "duration": 308,
    "start_time": "2022-04-05T19:52:01.937Z"
   },
   {
    "duration": 405,
    "start_time": "2022-04-05T19:53:58.215Z"
   },
   {
    "duration": 1826,
    "start_time": "2022-04-06T17:05:36.772Z"
   },
   {
    "duration": 80,
    "start_time": "2022-04-06T17:05:38.601Z"
   },
   {
    "duration": 17,
    "start_time": "2022-04-06T17:05:38.683Z"
   },
   {
    "duration": 7,
    "start_time": "2022-04-06T17:05:38.703Z"
   },
   {
    "duration": 28,
    "start_time": "2022-04-06T17:05:38.712Z"
   },
   {
    "duration": 17,
    "start_time": "2022-04-06T17:05:38.742Z"
   },
   {
    "duration": 30,
    "start_time": "2022-04-06T17:05:38.762Z"
   },
   {
    "duration": 7,
    "start_time": "2022-04-06T17:05:38.794Z"
   },
   {
    "duration": 54,
    "start_time": "2022-04-06T17:05:38.803Z"
   },
   {
    "duration": 7,
    "start_time": "2022-04-06T17:05:38.860Z"
   },
   {
    "duration": 11,
    "start_time": "2022-04-06T17:05:38.870Z"
   },
   {
    "duration": 302,
    "start_time": "2022-04-06T17:05:38.884Z"
   },
   {
    "duration": 224,
    "start_time": "2022-04-06T17:05:39.188Z"
   },
   {
    "duration": 32,
    "start_time": "2022-04-06T17:05:39.414Z"
   },
   {
    "duration": 10,
    "start_time": "2022-04-06T17:05:39.449Z"
   },
   {
    "duration": 397,
    "start_time": "2022-04-06T17:05:39.461Z"
   },
   {
    "duration": 267,
    "start_time": "2022-04-06T17:05:39.860Z"
   },
   {
    "duration": 452,
    "start_time": "2022-04-06T17:05:40.129Z"
   },
   {
    "duration": 273,
    "start_time": "2022-04-06T17:05:40.584Z"
   },
   {
    "duration": 344,
    "start_time": "2022-04-06T17:05:40.860Z"
   },
   {
    "duration": 206,
    "start_time": "2022-04-06T17:05:41.207Z"
   },
   {
    "duration": 268,
    "start_time": "2022-04-06T17:20:51.346Z"
   },
   {
    "duration": 258,
    "start_time": "2022-04-06T17:20:58.317Z"
   },
   {
    "duration": 454,
    "start_time": "2022-04-06T17:21:08.949Z"
   },
   {
    "duration": 279,
    "start_time": "2022-04-06T17:21:15.309Z"
   },
   {
    "duration": 352,
    "start_time": "2022-04-06T17:21:24.740Z"
   },
   {
    "duration": 492,
    "start_time": "2022-04-06T17:24:04.739Z"
   },
   {
    "duration": 300,
    "start_time": "2022-04-06T17:24:28.474Z"
   },
   {
    "duration": 838,
    "start_time": "2022-04-06T17:25:29.482Z"
   },
   {
    "duration": 1449,
    "start_time": "2022-04-06T17:25:46.410Z"
   },
   {
    "duration": 67,
    "start_time": "2022-04-06T17:25:47.862Z"
   },
   {
    "duration": 16,
    "start_time": "2022-04-06T17:25:47.931Z"
   },
   {
    "duration": 10,
    "start_time": "2022-04-06T17:25:47.950Z"
   },
   {
    "duration": 23,
    "start_time": "2022-04-06T17:25:47.962Z"
   },
   {
    "duration": 15,
    "start_time": "2022-04-06T17:25:47.987Z"
   },
   {
    "duration": 58,
    "start_time": "2022-04-06T17:25:48.004Z"
   },
   {
    "duration": 21,
    "start_time": "2022-04-06T17:25:48.064Z"
   },
   {
    "duration": 55,
    "start_time": "2022-04-06T17:25:48.088Z"
   },
   {
    "duration": 5,
    "start_time": "2022-04-06T17:25:48.149Z"
   },
   {
    "duration": 10,
    "start_time": "2022-04-06T17:25:48.157Z"
   },
   {
    "duration": 284,
    "start_time": "2022-04-06T17:25:48.169Z"
   },
   {
    "duration": 221,
    "start_time": "2022-04-06T17:25:48.455Z"
   },
   {
    "duration": 12,
    "start_time": "2022-04-06T17:25:48.679Z"
   },
   {
    "duration": 10,
    "start_time": "2022-04-06T17:25:48.693Z"
   },
   {
    "duration": 424,
    "start_time": "2022-04-06T17:25:48.705Z"
   },
   {
    "duration": 266,
    "start_time": "2022-04-06T17:25:49.131Z"
   },
   {
    "duration": 385,
    "start_time": "2022-04-06T17:25:49.400Z"
   },
   {
    "duration": 472,
    "start_time": "2022-04-06T17:25:49.787Z"
   },
   {
    "duration": 1,
    "start_time": "2022-04-06T17:25:50.262Z"
   },
   {
    "duration": 0,
    "start_time": "2022-04-06T17:25:50.265Z"
   },
   {
    "duration": 862,
    "start_time": "2022-04-06T17:26:26.712Z"
   },
   {
    "duration": 1598,
    "start_time": "2022-04-06T17:26:33.278Z"
   },
   {
    "duration": 85,
    "start_time": "2022-04-06T17:26:34.879Z"
   },
   {
    "duration": 17,
    "start_time": "2022-04-06T17:26:34.966Z"
   },
   {
    "duration": 6,
    "start_time": "2022-04-06T17:26:34.987Z"
   },
   {
    "duration": 24,
    "start_time": "2022-04-06T17:26:34.996Z"
   },
   {
    "duration": 28,
    "start_time": "2022-04-06T17:26:35.023Z"
   },
   {
    "duration": 34,
    "start_time": "2022-04-06T17:26:35.054Z"
   },
   {
    "duration": 19,
    "start_time": "2022-04-06T17:26:35.091Z"
   },
   {
    "duration": 52,
    "start_time": "2022-04-06T17:26:35.113Z"
   },
   {
    "duration": 8,
    "start_time": "2022-04-06T17:26:35.169Z"
   },
   {
    "duration": 10,
    "start_time": "2022-04-06T17:26:35.179Z"
   },
   {
    "duration": 293,
    "start_time": "2022-04-06T17:26:35.191Z"
   },
   {
    "duration": 225,
    "start_time": "2022-04-06T17:26:35.486Z"
   },
   {
    "duration": 17,
    "start_time": "2022-04-06T17:26:35.714Z"
   },
   {
    "duration": 12,
    "start_time": "2022-04-06T17:26:35.743Z"
   },
   {
    "duration": 760,
    "start_time": "2022-04-06T17:26:35.758Z"
   },
   {
    "duration": 434,
    "start_time": "2022-04-06T17:26:36.521Z"
   },
   {
    "duration": 495,
    "start_time": "2022-04-06T17:26:36.957Z"
   },
   {
    "duration": 498,
    "start_time": "2022-04-06T17:26:37.454Z"
   },
   {
    "duration": 0,
    "start_time": "2022-04-06T17:26:37.955Z"
   },
   {
    "duration": 0,
    "start_time": "2022-04-06T17:26:37.956Z"
   },
   {
    "duration": 304,
    "start_time": "2022-04-06T17:27:37.794Z"
   },
   {
    "duration": 310,
    "start_time": "2022-04-06T17:27:45.928Z"
   },
   {
    "duration": 298,
    "start_time": "2022-04-06T17:28:06.913Z"
   },
   {
    "duration": 329,
    "start_time": "2022-04-06T17:28:11.632Z"
   },
   {
    "duration": 518,
    "start_time": "2022-04-06T17:29:45.311Z"
   },
   {
    "duration": 7,
    "start_time": "2022-04-06T17:30:17.423Z"
   },
   {
    "duration": 419,
    "start_time": "2022-04-06T17:30:23.927Z"
   },
   {
    "duration": 475,
    "start_time": "2022-04-06T17:30:32.190Z"
   },
   {
    "duration": 443,
    "start_time": "2022-04-06T17:32:01.965Z"
   },
   {
    "duration": 21,
    "start_time": "2022-04-06T17:35:33.167Z"
   },
   {
    "duration": 11,
    "start_time": "2022-04-06T17:36:38.609Z"
   },
   {
    "duration": 1698,
    "start_time": "2022-04-06T17:37:02.450Z"
   },
   {
    "duration": 1101,
    "start_time": "2022-04-06T17:37:32.458Z"
   },
   {
    "duration": 1501,
    "start_time": "2022-04-06T17:37:55.717Z"
   },
   {
    "duration": 80,
    "start_time": "2022-04-06T17:37:57.221Z"
   },
   {
    "duration": 16,
    "start_time": "2022-04-06T17:37:57.303Z"
   },
   {
    "duration": 11,
    "start_time": "2022-04-06T17:37:57.322Z"
   },
   {
    "duration": 25,
    "start_time": "2022-04-06T17:37:57.335Z"
   },
   {
    "duration": 40,
    "start_time": "2022-04-06T17:37:57.362Z"
   },
   {
    "duration": 35,
    "start_time": "2022-04-06T17:37:57.404Z"
   },
   {
    "duration": 20,
    "start_time": "2022-04-06T17:37:57.441Z"
   },
   {
    "duration": 31,
    "start_time": "2022-04-06T17:37:57.464Z"
   },
   {
    "duration": 9,
    "start_time": "2022-04-06T17:37:57.499Z"
   },
   {
    "duration": 11,
    "start_time": "2022-04-06T17:37:57.510Z"
   },
   {
    "duration": 281,
    "start_time": "2022-04-06T17:37:57.523Z"
   },
   {
    "duration": 237,
    "start_time": "2022-04-06T17:37:57.806Z"
   },
   {
    "duration": 10,
    "start_time": "2022-04-06T17:37:58.045Z"
   },
   {
    "duration": 25,
    "start_time": "2022-04-06T17:37:58.057Z"
   },
   {
    "duration": 399,
    "start_time": "2022-04-06T17:37:58.084Z"
   },
   {
    "duration": 263,
    "start_time": "2022-04-06T17:37:58.486Z"
   },
   {
    "duration": 368,
    "start_time": "2022-04-06T17:37:58.752Z"
   },
   {
    "duration": 9,
    "start_time": "2022-04-06T17:37:59.122Z"
   },
   {
    "duration": 272,
    "start_time": "2022-04-06T17:37:59.143Z"
   },
   {
    "duration": 371,
    "start_time": "2022-04-06T17:37:59.417Z"
   },
   {
    "duration": 12,
    "start_time": "2022-04-06T17:37:59.790Z"
   },
   {
    "duration": 1404,
    "start_time": "2022-04-06T17:37:59.804Z"
   },
   {
    "duration": 316,
    "start_time": "2022-04-06T17:38:24.347Z"
   },
   {
    "duration": 19,
    "start_time": "2022-04-06T17:38:47.858Z"
   },
   {
    "duration": 5,
    "start_time": "2022-04-06T17:39:51.945Z"
   },
   {
    "duration": 12,
    "start_time": "2022-04-06T17:39:56.801Z"
   },
   {
    "duration": 6,
    "start_time": "2022-04-06T17:40:10.809Z"
   },
   {
    "duration": 6,
    "start_time": "2022-04-06T17:40:13.473Z"
   },
   {
    "duration": 282,
    "start_time": "2022-04-06T17:40:22.235Z"
   },
   {
    "duration": 12,
    "start_time": "2022-04-06T17:40:24.545Z"
   },
   {
    "duration": 332,
    "start_time": "2022-04-06T17:41:04.920Z"
   },
   {
    "duration": 295,
    "start_time": "2022-04-06T17:42:01.304Z"
   },
   {
    "duration": 12,
    "start_time": "2022-04-06T17:42:05.064Z"
   },
   {
    "duration": 1498,
    "start_time": "2022-04-06T17:42:18.060Z"
   },
   {
    "duration": 78,
    "start_time": "2022-04-06T17:42:19.560Z"
   },
   {
    "duration": 16,
    "start_time": "2022-04-06T17:42:19.640Z"
   },
   {
    "duration": 7,
    "start_time": "2022-04-06T17:42:19.659Z"
   },
   {
    "duration": 18,
    "start_time": "2022-04-06T17:42:19.668Z"
   },
   {
    "duration": 15,
    "start_time": "2022-04-06T17:42:19.688Z"
   },
   {
    "duration": 63,
    "start_time": "2022-04-06T17:42:19.705Z"
   },
   {
    "duration": 18,
    "start_time": "2022-04-06T17:42:19.770Z"
   },
   {
    "duration": 25,
    "start_time": "2022-04-06T17:42:19.790Z"
   },
   {
    "duration": 29,
    "start_time": "2022-04-06T17:42:19.819Z"
   },
   {
    "duration": 12,
    "start_time": "2022-04-06T17:42:19.850Z"
   },
   {
    "duration": 276,
    "start_time": "2022-04-06T17:42:19.864Z"
   },
   {
    "duration": 225,
    "start_time": "2022-04-06T17:42:20.142Z"
   },
   {
    "duration": 11,
    "start_time": "2022-04-06T17:42:20.369Z"
   },
   {
    "duration": 10,
    "start_time": "2022-04-06T17:42:20.382Z"
   },
   {
    "duration": 412,
    "start_time": "2022-04-06T17:42:20.394Z"
   },
   {
    "duration": 256,
    "start_time": "2022-04-06T17:42:20.808Z"
   },
   {
    "duration": 358,
    "start_time": "2022-04-06T17:42:21.067Z"
   },
   {
    "duration": 8,
    "start_time": "2022-04-06T17:42:21.427Z"
   },
   {
    "duration": 293,
    "start_time": "2022-04-06T17:42:21.443Z"
   },
   {
    "duration": 395,
    "start_time": "2022-04-06T17:42:21.738Z"
   },
   {
    "duration": 16,
    "start_time": "2022-04-06T17:42:22.135Z"
   },
   {
    "duration": 251,
    "start_time": "2022-04-06T17:43:26.052Z"
   },
   {
    "duration": 175,
    "start_time": "2022-04-06T17:59:26.894Z"
   },
   {
    "duration": 218,
    "start_time": "2022-04-06T18:00:45.534Z"
   },
   {
    "duration": 251,
    "start_time": "2022-04-06T18:05:48.995Z"
   },
   {
    "duration": 8,
    "start_time": "2022-04-06T18:06:00.465Z"
   },
   {
    "duration": 8,
    "start_time": "2022-04-06T18:06:09.960Z"
   },
   {
    "duration": 217,
    "start_time": "2022-04-06T18:16:40.399Z"
   },
   {
    "duration": 333,
    "start_time": "2022-04-06T18:17:07.864Z"
   },
   {
    "duration": 6,
    "start_time": "2022-04-06T18:18:55.342Z"
   },
   {
    "duration": 7,
    "start_time": "2022-04-06T18:21:59.268Z"
   },
   {
    "duration": 7,
    "start_time": "2022-04-06T18:24:24.153Z"
   },
   {
    "duration": 1773,
    "start_time": "2022-04-06T18:25:23.331Z"
   },
   {
    "duration": 69,
    "start_time": "2022-04-06T18:25:25.107Z"
   },
   {
    "duration": 17,
    "start_time": "2022-04-06T18:25:25.179Z"
   },
   {
    "duration": 5,
    "start_time": "2022-04-06T18:25:25.199Z"
   },
   {
    "duration": 19,
    "start_time": "2022-04-06T18:25:25.206Z"
   },
   {
    "duration": 20,
    "start_time": "2022-04-06T18:25:25.227Z"
   },
   {
    "duration": 33,
    "start_time": "2022-04-06T18:25:25.249Z"
   },
   {
    "duration": 18,
    "start_time": "2022-04-06T18:25:25.284Z"
   },
   {
    "duration": 53,
    "start_time": "2022-04-06T18:25:25.305Z"
   },
   {
    "duration": 13,
    "start_time": "2022-04-06T18:25:25.361Z"
   },
   {
    "duration": 10,
    "start_time": "2022-04-06T18:25:25.376Z"
   },
   {
    "duration": 283,
    "start_time": "2022-04-06T18:25:25.388Z"
   },
   {
    "duration": 215,
    "start_time": "2022-04-06T18:25:25.673Z"
   },
   {
    "duration": 10,
    "start_time": "2022-04-06T18:25:25.890Z"
   },
   {
    "duration": 18,
    "start_time": "2022-04-06T18:25:25.902Z"
   },
   {
    "duration": 532,
    "start_time": "2022-04-06T18:25:25.922Z"
   },
   {
    "duration": 308,
    "start_time": "2022-04-06T18:25:26.456Z"
   },
   {
    "duration": 356,
    "start_time": "2022-04-06T18:25:26.766Z"
   },
   {
    "duration": 8,
    "start_time": "2022-04-06T18:25:27.125Z"
   },
   {
    "duration": 289,
    "start_time": "2022-04-06T18:25:27.143Z"
   },
   {
    "duration": 381,
    "start_time": "2022-04-06T18:25:27.434Z"
   },
   {
    "duration": 12,
    "start_time": "2022-04-06T18:25:27.817Z"
   },
   {
    "duration": 256,
    "start_time": "2022-04-06T18:25:27.830Z"
   },
   {
    "duration": 210,
    "start_time": "2022-04-06T18:25:28.088Z"
   },
   {
    "duration": 7,
    "start_time": "2022-04-06T18:25:28.300Z"
   },
   {
    "duration": 233,
    "start_time": "2022-04-06T18:25:28.310Z"
   },
   {
    "duration": 7,
    "start_time": "2022-04-06T18:25:28.545Z"
   },
   {
    "duration": 67,
    "start_time": "2022-04-06T18:49:44.026Z"
   },
   {
    "duration": 1394,
    "start_time": "2022-04-06T18:49:51.972Z"
   },
   {
    "duration": 60,
    "start_time": "2022-04-06T18:49:53.368Z"
   },
   {
    "duration": 12,
    "start_time": "2022-04-06T18:49:53.430Z"
   },
   {
    "duration": 4,
    "start_time": "2022-04-06T18:49:53.444Z"
   },
   {
    "duration": 15,
    "start_time": "2022-04-06T18:49:53.450Z"
   },
   {
    "duration": 11,
    "start_time": "2022-04-06T18:49:53.466Z"
   },
   {
    "duration": 23,
    "start_time": "2022-04-06T18:49:53.479Z"
   },
   {
    "duration": 13,
    "start_time": "2022-04-06T18:49:53.532Z"
   },
   {
    "duration": 21,
    "start_time": "2022-04-06T18:49:53.546Z"
   },
   {
    "duration": 4,
    "start_time": "2022-04-06T18:49:53.570Z"
   },
   {
    "duration": 9,
    "start_time": "2022-04-06T18:49:53.576Z"
   },
   {
    "duration": 178,
    "start_time": "2022-04-06T18:49:53.586Z"
   },
   {
    "duration": 124,
    "start_time": "2022-04-06T18:49:53.766Z"
   },
   {
    "duration": 6,
    "start_time": "2022-04-06T18:49:53.892Z"
   },
   {
    "duration": 9,
    "start_time": "2022-04-06T18:49:53.900Z"
   },
   {
    "duration": 278,
    "start_time": "2022-04-06T18:49:53.910Z"
   },
   {
    "duration": 185,
    "start_time": "2022-04-06T18:49:54.189Z"
   },
   {
    "duration": 322,
    "start_time": "2022-04-06T18:49:54.376Z"
   },
   {
    "duration": 6,
    "start_time": "2022-04-06T18:49:54.700Z"
   },
   {
    "duration": 206,
    "start_time": "2022-04-06T18:49:54.708Z"
   },
   {
    "duration": 301,
    "start_time": "2022-04-06T18:49:54.916Z"
   },
   {
    "duration": 15,
    "start_time": "2022-04-06T18:49:55.218Z"
   },
   {
    "duration": 130,
    "start_time": "2022-04-06T18:49:55.234Z"
   },
   {
    "duration": 147,
    "start_time": "2022-04-06T18:49:55.365Z"
   },
   {
    "duration": 4,
    "start_time": "2022-04-06T18:49:55.514Z"
   },
   {
    "duration": 158,
    "start_time": "2022-04-06T18:49:55.520Z"
   },
   {
    "duration": 5,
    "start_time": "2022-04-06T18:49:55.680Z"
   },
   {
    "duration": 294,
    "start_time": "2022-04-06T18:52:24.614Z"
   },
   {
    "duration": 403,
    "start_time": "2022-04-06T18:52:30.351Z"
   },
   {
    "duration": 303,
    "start_time": "2022-04-06T18:52:34.015Z"
   },
   {
    "duration": 108,
    "start_time": "2022-04-06T18:57:50.339Z"
   },
   {
    "duration": 12,
    "start_time": "2022-04-06T18:58:05.914Z"
   },
   {
    "duration": 8,
    "start_time": "2022-04-06T18:58:12.771Z"
   },
   {
    "duration": 124,
    "start_time": "2022-04-06T18:58:39.099Z"
   },
   {
    "duration": 11,
    "start_time": "2022-04-06T18:59:29.241Z"
   },
   {
    "duration": 1455,
    "start_time": "2022-04-08T15:14:11.110Z"
   },
   {
    "duration": 97,
    "start_time": "2022-04-08T15:14:12.567Z"
   },
   {
    "duration": 12,
    "start_time": "2022-04-08T15:14:12.666Z"
   },
   {
    "duration": 19,
    "start_time": "2022-04-08T15:14:12.680Z"
   },
   {
    "duration": 23,
    "start_time": "2022-04-08T15:14:12.701Z"
   },
   {
    "duration": 15,
    "start_time": "2022-04-08T15:14:12.726Z"
   },
   {
    "duration": 26,
    "start_time": "2022-04-08T15:14:12.743Z"
   },
   {
    "duration": 12,
    "start_time": "2022-04-08T15:14:12.771Z"
   },
   {
    "duration": 23,
    "start_time": "2022-04-08T15:14:12.801Z"
   },
   {
    "duration": 15,
    "start_time": "2022-04-08T15:14:12.827Z"
   },
   {
    "duration": 13,
    "start_time": "2022-04-08T15:14:12.843Z"
   },
   {
    "duration": 188,
    "start_time": "2022-04-08T15:14:12.858Z"
   },
   {
    "duration": 131,
    "start_time": "2022-04-08T15:14:13.047Z"
   },
   {
    "duration": 6,
    "start_time": "2022-04-08T15:14:13.180Z"
   },
   {
    "duration": 18,
    "start_time": "2022-04-08T15:14:13.187Z"
   },
   {
    "duration": 288,
    "start_time": "2022-04-08T15:14:13.206Z"
   },
   {
    "duration": 175,
    "start_time": "2022-04-08T15:14:13.495Z"
   },
   {
    "duration": 339,
    "start_time": "2022-04-08T15:14:13.672Z"
   },
   {
    "duration": 5,
    "start_time": "2022-04-08T15:14:14.013Z"
   },
   {
    "duration": 211,
    "start_time": "2022-04-08T15:14:14.021Z"
   },
   {
    "duration": 280,
    "start_time": "2022-04-08T15:14:14.233Z"
   },
   {
    "duration": 12,
    "start_time": "2022-04-08T15:14:14.515Z"
   },
   {
    "duration": 143,
    "start_time": "2022-04-08T15:14:14.529Z"
   },
   {
    "duration": 164,
    "start_time": "2022-04-08T15:14:14.674Z"
   },
   {
    "duration": 4,
    "start_time": "2022-04-08T15:14:14.839Z"
   },
   {
    "duration": 151,
    "start_time": "2022-04-08T15:14:14.845Z"
   },
   {
    "duration": 8,
    "start_time": "2022-04-08T15:14:14.997Z"
   },
   {
    "duration": 21,
    "start_time": "2022-04-08T15:14:15.009Z"
   },
   {
    "duration": 132,
    "start_time": "2022-04-08T15:14:15.032Z"
   },
   {
    "duration": 110,
    "start_time": "2022-04-08T15:14:15.166Z"
   },
   {
    "duration": 10,
    "start_time": "2022-04-08T15:37:07.307Z"
   },
   {
    "duration": 8,
    "start_time": "2022-04-08T15:37:13.315Z"
   },
   {
    "duration": 5,
    "start_time": "2022-04-08T15:38:02.770Z"
   },
   {
    "duration": 7,
    "start_time": "2022-04-08T15:38:16.585Z"
   },
   {
    "duration": 46,
    "start_time": "2022-04-08T15:38:36.528Z"
   },
   {
    "duration": 7,
    "start_time": "2022-04-08T15:38:58.696Z"
   },
   {
    "duration": 5,
    "start_time": "2022-04-08T15:39:32.632Z"
   },
   {
    "duration": 7,
    "start_time": "2022-04-08T15:39:38.183Z"
   },
   {
    "duration": 43,
    "start_time": "2022-04-08T15:39:53.023Z"
   },
   {
    "duration": 7,
    "start_time": "2022-04-08T15:39:58.742Z"
   },
   {
    "duration": 15,
    "start_time": "2022-04-08T15:41:34.334Z"
   },
   {
    "duration": 13,
    "start_time": "2022-04-08T15:43:51.629Z"
   },
   {
    "duration": 8,
    "start_time": "2022-04-08T15:44:14.811Z"
   },
   {
    "duration": 49,
    "start_time": "2022-04-08T15:45:12.611Z"
   },
   {
    "duration": 9,
    "start_time": "2022-04-08T15:45:18.146Z"
   },
   {
    "duration": 8,
    "start_time": "2022-04-08T15:45:25.379Z"
   },
   {
    "duration": 7,
    "start_time": "2022-04-08T15:45:31.994Z"
   },
   {
    "duration": 14,
    "start_time": "2022-04-08T15:51:14.258Z"
   },
   {
    "duration": 13,
    "start_time": "2022-04-08T15:51:27.860Z"
   },
   {
    "duration": 8,
    "start_time": "2022-04-08T15:51:33.238Z"
   },
   {
    "duration": 7,
    "start_time": "2022-04-08T15:51:39.238Z"
   },
   {
    "duration": 46,
    "start_time": "2022-04-08T15:51:52.462Z"
   },
   {
    "duration": 7,
    "start_time": "2022-04-08T15:52:19.621Z"
   },
   {
    "duration": 19,
    "start_time": "2022-04-08T15:54:55.120Z"
   },
   {
    "duration": 15,
    "start_time": "2022-04-08T15:54:58.699Z"
   },
   {
    "duration": 9,
    "start_time": "2022-04-08T15:55:08.396Z"
   },
   {
    "duration": 12,
    "start_time": "2022-04-08T15:56:22.202Z"
   },
   {
    "duration": 138,
    "start_time": "2022-04-08T15:56:58.754Z"
   },
   {
    "duration": 6,
    "start_time": "2022-04-08T15:58:00.945Z"
   },
   {
    "duration": 8,
    "start_time": "2022-04-08T15:59:57.279Z"
   },
   {
    "duration": 23,
    "start_time": "2022-04-08T16:00:30.271Z"
   },
   {
    "duration": 23,
    "start_time": "2022-04-08T16:01:18.229Z"
   },
   {
    "duration": 8,
    "start_time": "2022-04-08T16:33:23.382Z"
   },
   {
    "duration": 10,
    "start_time": "2022-04-08T16:33:36.502Z"
   },
   {
    "duration": 5,
    "start_time": "2022-04-08T16:54:41.940Z"
   },
   {
    "duration": 3194,
    "start_time": "2022-04-08T16:55:04.242Z"
   },
   {
    "duration": 4,
    "start_time": "2022-04-08T16:55:46.192Z"
   },
   {
    "duration": 4,
    "start_time": "2022-04-08T16:56:12.162Z"
   },
   {
    "duration": 5,
    "start_time": "2022-04-08T16:56:14.753Z"
   },
   {
    "duration": 4,
    "start_time": "2022-04-08T16:56:38.434Z"
   },
   {
    "duration": 4,
    "start_time": "2022-04-08T16:56:47.361Z"
   },
   {
    "duration": 9,
    "start_time": "2022-04-08T16:57:04.455Z"
   },
   {
    "duration": 4,
    "start_time": "2022-04-08T16:57:13.529Z"
   },
   {
    "duration": 6,
    "start_time": "2022-04-08T17:03:59.563Z"
   },
   {
    "duration": 7,
    "start_time": "2022-04-08T17:04:17.268Z"
   },
   {
    "duration": 10,
    "start_time": "2022-04-08T17:04:45.426Z"
   },
   {
    "duration": 25,
    "start_time": "2022-04-08T17:04:50.428Z"
   },
   {
    "duration": 15,
    "start_time": "2022-04-08T17:21:12.175Z"
   },
   {
    "duration": 1393,
    "start_time": "2022-04-09T09:27:30.049Z"
   },
   {
    "duration": 76,
    "start_time": "2022-04-09T09:27:31.444Z"
   },
   {
    "duration": 13,
    "start_time": "2022-04-09T09:27:31.522Z"
   },
   {
    "duration": 4,
    "start_time": "2022-04-09T09:27:31.538Z"
   },
   {
    "duration": 13,
    "start_time": "2022-04-09T09:27:31.544Z"
   },
   {
    "duration": 10,
    "start_time": "2022-04-09T09:27:31.559Z"
   },
   {
    "duration": 21,
    "start_time": "2022-04-09T09:27:31.571Z"
   },
   {
    "duration": 19,
    "start_time": "2022-04-09T09:27:31.594Z"
   },
   {
    "duration": 17,
    "start_time": "2022-04-09T09:27:31.615Z"
   },
   {
    "duration": 4,
    "start_time": "2022-04-09T09:27:31.635Z"
   },
   {
    "duration": 11,
    "start_time": "2022-04-09T09:27:31.641Z"
   },
   {
    "duration": 172,
    "start_time": "2022-04-09T09:27:31.653Z"
   },
   {
    "duration": 128,
    "start_time": "2022-04-09T09:27:31.827Z"
   },
   {
    "duration": 8,
    "start_time": "2022-04-09T09:27:31.957Z"
   },
   {
    "duration": 19,
    "start_time": "2022-04-09T09:27:31.967Z"
   },
   {
    "duration": 240,
    "start_time": "2022-04-09T09:27:31.988Z"
   },
   {
    "duration": 158,
    "start_time": "2022-04-09T09:27:32.230Z"
   },
   {
    "duration": 309,
    "start_time": "2022-04-09T09:27:32.390Z"
   },
   {
    "duration": 7,
    "start_time": "2022-04-09T09:27:32.701Z"
   },
   {
    "duration": 173,
    "start_time": "2022-04-09T09:27:32.710Z"
   },
   {
    "duration": 255,
    "start_time": "2022-04-09T09:27:32.885Z"
   },
   {
    "duration": 8,
    "start_time": "2022-04-09T09:27:33.141Z"
   },
   {
    "duration": 127,
    "start_time": "2022-04-09T09:27:33.151Z"
   },
   {
    "duration": 118,
    "start_time": "2022-04-09T09:27:33.279Z"
   },
   {
    "duration": 4,
    "start_time": "2022-04-09T09:27:33.398Z"
   },
   {
    "duration": 131,
    "start_time": "2022-04-09T09:27:33.404Z"
   },
   {
    "duration": 3,
    "start_time": "2022-04-09T09:27:33.537Z"
   },
   {
    "duration": 7,
    "start_time": "2022-04-09T09:27:33.544Z"
   },
   {
    "duration": 8,
    "start_time": "2022-04-09T09:27:33.553Z"
   },
   {
    "duration": 19,
    "start_time": "2022-04-09T09:27:33.562Z"
   },
   {
    "duration": 6,
    "start_time": "2022-04-09T09:27:33.583Z"
   },
   {
    "duration": 43,
    "start_time": "2022-04-09T09:27:33.590Z"
   },
   {
    "duration": 8,
    "start_time": "2022-04-09T09:27:33.635Z"
   },
   {
    "duration": 5,
    "start_time": "2022-04-09T09:27:33.645Z"
   },
   {
    "duration": 9,
    "start_time": "2022-04-09T09:27:33.651Z"
   },
   {
    "duration": 64,
    "start_time": "2022-04-09T09:27:33.662Z"
   },
   {
    "duration": 10,
    "start_time": "2022-04-09T09:27:33.727Z"
   },
   {
    "duration": 15,
    "start_time": "2022-04-09T09:27:33.739Z"
   },
   {
    "duration": 6,
    "start_time": "2022-04-09T09:27:33.755Z"
   },
   {
    "duration": 62,
    "start_time": "2022-04-09T09:27:33.762Z"
   },
   {
    "duration": 9,
    "start_time": "2022-04-09T09:27:33.826Z"
   },
   {
    "duration": 13,
    "start_time": "2022-04-09T09:27:33.836Z"
   },
   {
    "duration": 6,
    "start_time": "2022-04-09T09:27:33.851Z"
   },
   {
    "duration": 68,
    "start_time": "2022-04-09T09:27:33.859Z"
   },
   {
    "duration": 14,
    "start_time": "2022-04-09T09:27:33.928Z"
   },
   {
    "duration": 21,
    "start_time": "2022-04-09T09:27:33.943Z"
   },
   {
    "duration": 22,
    "start_time": "2022-04-09T09:27:33.966Z"
   },
   {
    "duration": 129,
    "start_time": "2022-04-09T09:27:33.989Z"
   },
   {
    "duration": 5,
    "start_time": "2022-04-09T09:27:34.120Z"
   },
   {
    "duration": 31,
    "start_time": "2022-04-09T09:27:34.126Z"
   },
   {
    "duration": 22,
    "start_time": "2022-04-09T09:27:34.159Z"
   },
   {
    "duration": 5,
    "start_time": "2022-04-09T09:27:34.182Z"
   },
   {
    "duration": 5,
    "start_time": "2022-04-09T09:27:34.188Z"
   },
   {
    "duration": 5,
    "start_time": "2022-04-09T09:27:34.194Z"
   },
   {
    "duration": 6,
    "start_time": "2022-04-09T09:27:34.201Z"
   },
   {
    "duration": 6,
    "start_time": "2022-04-09T09:27:34.208Z"
   },
   {
    "duration": 5,
    "start_time": "2022-04-09T09:27:34.216Z"
   },
   {
    "duration": 5,
    "start_time": "2022-04-09T09:27:34.223Z"
   },
   {
    "duration": 55,
    "start_time": "2022-04-09T09:27:34.230Z"
   },
   {
    "duration": 16,
    "start_time": "2022-04-09T09:27:34.287Z"
   },
   {
    "duration": 1209,
    "start_time": "2022-04-09T09:53:58.078Z"
   },
   {
    "duration": 73,
    "start_time": "2022-04-09T09:53:59.289Z"
   },
   {
    "duration": 10,
    "start_time": "2022-04-09T09:53:59.364Z"
   },
   {
    "duration": 16,
    "start_time": "2022-04-09T09:53:59.376Z"
   },
   {
    "duration": 11,
    "start_time": "2022-04-09T09:53:59.394Z"
   },
   {
    "duration": 16,
    "start_time": "2022-04-09T09:53:59.406Z"
   },
   {
    "duration": 30,
    "start_time": "2022-04-09T09:53:59.423Z"
   },
   {
    "duration": 11,
    "start_time": "2022-04-09T09:53:59.455Z"
   },
   {
    "duration": 26,
    "start_time": "2022-04-09T09:53:59.467Z"
   },
   {
    "duration": 9,
    "start_time": "2022-04-09T09:53:59.495Z"
   },
   {
    "duration": 7,
    "start_time": "2022-04-09T09:53:59.506Z"
   },
   {
    "duration": 169,
    "start_time": "2022-04-09T09:53:59.515Z"
   },
   {
    "duration": 135,
    "start_time": "2022-04-09T09:53:59.686Z"
   },
   {
    "duration": 9,
    "start_time": "2022-04-09T09:53:59.824Z"
   },
   {
    "duration": 17,
    "start_time": "2022-04-09T09:53:59.834Z"
   },
   {
    "duration": 250,
    "start_time": "2022-04-09T09:53:59.853Z"
   },
   {
    "duration": 161,
    "start_time": "2022-04-09T09:54:00.106Z"
   },
   {
    "duration": 277,
    "start_time": "2022-04-09T09:54:00.269Z"
   },
   {
    "duration": 7,
    "start_time": "2022-04-09T09:54:00.548Z"
   },
   {
    "duration": 184,
    "start_time": "2022-04-09T09:54:00.557Z"
   },
   {
    "duration": 290,
    "start_time": "2022-04-09T09:54:00.743Z"
   },
   {
    "duration": 8,
    "start_time": "2022-04-09T09:54:01.035Z"
   },
   {
    "duration": 145,
    "start_time": "2022-04-09T09:54:01.045Z"
   },
   {
    "duration": 134,
    "start_time": "2022-04-09T09:54:01.192Z"
   },
   {
    "duration": 4,
    "start_time": "2022-04-09T09:54:01.327Z"
   },
   {
    "duration": 146,
    "start_time": "2022-04-09T09:54:01.333Z"
   },
   {
    "duration": 5,
    "start_time": "2022-04-09T09:54:01.480Z"
   },
   {
    "duration": 15,
    "start_time": "2022-04-09T09:54:01.486Z"
   },
   {
    "duration": 19,
    "start_time": "2022-04-09T09:54:01.503Z"
   },
   {
    "duration": 22,
    "start_time": "2022-04-09T09:54:01.523Z"
   },
   {
    "duration": 13,
    "start_time": "2022-04-09T09:54:01.546Z"
   },
   {
    "duration": 51,
    "start_time": "2022-04-09T09:54:01.561Z"
   },
   {
    "duration": 15,
    "start_time": "2022-04-09T09:54:01.614Z"
   },
   {
    "duration": 24,
    "start_time": "2022-04-09T09:54:01.630Z"
   },
   {
    "duration": 19,
    "start_time": "2022-04-09T09:54:01.656Z"
   },
   {
    "duration": 62,
    "start_time": "2022-04-09T09:54:01.676Z"
   },
   {
    "duration": 6,
    "start_time": "2022-04-09T09:54:01.739Z"
   },
   {
    "duration": 20,
    "start_time": "2022-04-09T09:54:01.747Z"
   },
   {
    "duration": 8,
    "start_time": "2022-04-09T09:54:01.768Z"
   },
   {
    "duration": 48,
    "start_time": "2022-04-09T09:54:01.777Z"
   },
   {
    "duration": 7,
    "start_time": "2022-04-09T09:54:01.829Z"
   },
   {
    "duration": 17,
    "start_time": "2022-04-09T09:54:01.838Z"
   },
   {
    "duration": 7,
    "start_time": "2022-04-09T09:54:01.857Z"
   },
   {
    "duration": 55,
    "start_time": "2022-04-09T09:54:01.865Z"
   },
   {
    "duration": 10,
    "start_time": "2022-04-09T09:54:01.922Z"
   },
   {
    "duration": 25,
    "start_time": "2022-04-09T09:54:01.933Z"
   },
   {
    "duration": 22,
    "start_time": "2022-04-09T09:54:01.960Z"
   },
   {
    "duration": 127,
    "start_time": "2022-04-09T09:54:01.983Z"
   },
   {
    "duration": 6,
    "start_time": "2022-04-09T09:54:02.111Z"
   },
   {
    "duration": 25,
    "start_time": "2022-04-09T09:54:02.119Z"
   },
   {
    "duration": 10,
    "start_time": "2022-04-09T09:54:02.145Z"
   },
   {
    "duration": 25,
    "start_time": "2022-04-09T09:54:02.156Z"
   },
   {
    "duration": 7,
    "start_time": "2022-04-09T09:54:02.182Z"
   },
   {
    "duration": 19,
    "start_time": "2022-04-09T09:54:02.191Z"
   },
   {
    "duration": 10,
    "start_time": "2022-04-09T09:54:02.211Z"
   },
   {
    "duration": 12,
    "start_time": "2022-04-09T09:54:02.223Z"
   },
   {
    "duration": 6,
    "start_time": "2022-04-09T09:54:02.236Z"
   },
   {
    "duration": 8,
    "start_time": "2022-04-09T09:54:02.243Z"
   },
   {
    "duration": 23,
    "start_time": "2022-04-09T09:54:02.253Z"
   },
   {
    "duration": 11,
    "start_time": "2022-04-09T09:54:02.278Z"
   },
   {
    "duration": 1352,
    "start_time": "2022-04-09T15:40:21.876Z"
   },
   {
    "duration": 50,
    "start_time": "2022-04-09T15:42:41.776Z"
   },
   {
    "duration": 12,
    "start_time": "2022-04-09T15:42:44.597Z"
   },
   {
    "duration": 3,
    "start_time": "2022-04-09T15:42:54.920Z"
   },
   {
    "duration": 70,
    "start_time": "2022-04-09T15:43:04.503Z"
   },
   {
    "duration": 63,
    "start_time": "2022-04-09T15:43:12.479Z"
   },
   {
    "duration": 3,
    "start_time": "2022-04-09T15:43:15.094Z"
   },
   {
    "duration": 3,
    "start_time": "2022-04-09T15:43:23.465Z"
   },
   {
    "duration": 36,
    "start_time": "2022-04-09T15:43:35.135Z"
   },
   {
    "duration": 8,
    "start_time": "2022-04-09T15:43:42.104Z"
   },
   {
    "duration": 2,
    "start_time": "2022-04-09T15:43:53.679Z"
   },
   {
    "duration": 12,
    "start_time": "2022-04-09T15:43:56.791Z"
   },
   {
    "duration": 11,
    "start_time": "2022-04-09T15:43:57.262Z"
   },
   {
    "duration": 22,
    "start_time": "2022-04-09T15:44:04.594Z"
   },
   {
    "duration": 12,
    "start_time": "2022-04-09T15:44:06.894Z"
   },
   {
    "duration": 17,
    "start_time": "2022-04-09T15:44:07.152Z"
   },
   {
    "duration": 5,
    "start_time": "2022-04-09T15:44:09.493Z"
   },
   {
    "duration": 12,
    "start_time": "2022-04-09T15:47:30.493Z"
   },
   {
    "duration": 6,
    "start_time": "2022-04-09T15:47:55.949Z"
   },
   {
    "duration": 7,
    "start_time": "2022-04-09T15:48:51.635Z"
   },
   {
    "duration": 1151,
    "start_time": "2022-04-09T15:49:19.298Z"
   },
   {
    "duration": 4,
    "start_time": "2022-04-09T15:49:26.338Z"
   },
   {
    "duration": 5,
    "start_time": "2022-04-09T15:53:42.239Z"
   },
   {
    "duration": 7,
    "start_time": "2022-04-09T15:54:55.478Z"
   },
   {
    "duration": 9,
    "start_time": "2022-04-09T15:55:30.855Z"
   },
   {
    "duration": 5,
    "start_time": "2022-04-09T15:57:34.364Z"
   },
   {
    "duration": 14,
    "start_time": "2022-04-09T15:59:10.906Z"
   },
   {
    "duration": 16,
    "start_time": "2022-04-09T15:59:17.014Z"
   },
   {
    "duration": 10,
    "start_time": "2022-04-09T15:59:23.890Z"
   },
   {
    "duration": 11,
    "start_time": "2022-04-09T15:59:29.098Z"
   },
   {
    "duration": 8,
    "start_time": "2022-04-09T16:00:20.668Z"
   },
   {
    "duration": 8,
    "start_time": "2022-04-09T16:00:26.776Z"
   },
   {
    "duration": 6,
    "start_time": "2022-04-09T16:01:39.784Z"
   },
   {
    "duration": 7,
    "start_time": "2022-04-09T16:01:52.360Z"
   },
   {
    "duration": 264,
    "start_time": "2022-04-09T16:03:03.760Z"
   },
   {
    "duration": 7,
    "start_time": "2022-04-09T16:04:02.006Z"
   },
   {
    "duration": 4,
    "start_time": "2022-04-09T16:07:37.803Z"
   },
   {
    "duration": 9,
    "start_time": "2022-04-09T16:08:04.996Z"
   },
   {
    "duration": 7,
    "start_time": "2022-04-09T16:08:08.963Z"
   },
   {
    "duration": 35,
    "start_time": "2022-04-09T16:08:29.076Z"
   },
   {
    "duration": 15,
    "start_time": "2022-04-09T16:08:49.124Z"
   },
   {
    "duration": 12,
    "start_time": "2022-04-09T16:08:56.387Z"
   },
   {
    "duration": 8,
    "start_time": "2022-04-09T16:08:57.626Z"
   },
   {
    "duration": 7,
    "start_time": "2022-04-09T16:09:09.522Z"
   },
   {
    "duration": 14,
    "start_time": "2022-04-09T16:09:11.554Z"
   },
   {
    "duration": 62,
    "start_time": "2022-04-09T16:13:02.327Z"
   },
   {
    "duration": 10,
    "start_time": "2022-04-09T16:13:36.364Z"
   },
   {
    "duration": 6,
    "start_time": "2022-04-09T16:13:50.982Z"
   },
   {
    "duration": 158,
    "start_time": "2022-04-09T16:13:51.454Z"
   },
   {
    "duration": 117,
    "start_time": "2022-04-09T16:13:51.845Z"
   },
   {
    "duration": 7,
    "start_time": "2022-04-09T16:13:52.454Z"
   },
   {
    "duration": 6,
    "start_time": "2022-04-09T16:13:52.926Z"
   },
   {
    "duration": 277,
    "start_time": "2022-04-09T16:13:54.191Z"
   },
   {
    "duration": 209,
    "start_time": "2022-04-09T16:14:37.654Z"
   },
   {
    "duration": 216,
    "start_time": "2022-04-09T16:15:06.438Z"
   },
   {
    "duration": 368,
    "start_time": "2022-04-09T16:15:32.998Z"
   },
   {
    "duration": 6,
    "start_time": "2022-04-09T16:15:48.771Z"
   },
   {
    "duration": 216,
    "start_time": "2022-04-09T16:16:05.854Z"
   },
   {
    "duration": 255,
    "start_time": "2022-04-09T16:17:41.465Z"
   },
   {
    "duration": 362,
    "start_time": "2022-04-09T16:17:49.290Z"
   },
   {
    "duration": 17,
    "start_time": "2022-04-09T16:17:57.505Z"
   },
   {
    "duration": 161,
    "start_time": "2022-04-09T16:17:57.995Z"
   },
   {
    "duration": 135,
    "start_time": "2022-04-09T16:18:01.931Z"
   },
   {
    "duration": 8,
    "start_time": "2022-04-09T16:18:04.827Z"
   },
   {
    "duration": 212,
    "start_time": "2022-04-09T16:22:07.672Z"
   },
   {
    "duration": 4,
    "start_time": "2022-04-09T16:22:16.663Z"
   },
   {
    "duration": 8,
    "start_time": "2022-04-09T16:24:07.364Z"
   },
   {
    "duration": 7,
    "start_time": "2022-04-09T16:24:07.854Z"
   },
   {
    "duration": 5,
    "start_time": "2022-04-09T16:24:08.318Z"
   },
   {
    "duration": 7,
    "start_time": "2022-04-09T16:24:09.542Z"
   },
   {
    "duration": 46,
    "start_time": "2022-04-09T16:24:09.773Z"
   },
   {
    "duration": 6,
    "start_time": "2022-04-09T16:24:10.254Z"
   },
   {
    "duration": 4,
    "start_time": "2022-04-09T16:24:10.511Z"
   },
   {
    "duration": 7,
    "start_time": "2022-04-09T16:24:10.790Z"
   },
   {
    "duration": 44,
    "start_time": "2022-04-09T16:24:11.838Z"
   },
   {
    "duration": 6,
    "start_time": "2022-04-09T16:24:12.734Z"
   },
   {
    "duration": 14,
    "start_time": "2022-04-09T16:24:13.214Z"
   },
   {
    "duration": 8,
    "start_time": "2022-04-09T16:24:13.974Z"
   },
   {
    "duration": 51,
    "start_time": "2022-04-09T16:24:14.693Z"
   },
   {
    "duration": 7,
    "start_time": "2022-04-09T16:24:15.390Z"
   },
   {
    "duration": 15,
    "start_time": "2022-04-09T16:24:15.822Z"
   },
   {
    "duration": 7,
    "start_time": "2022-04-09T16:24:16.502Z"
   },
   {
    "duration": 46,
    "start_time": "2022-04-09T16:24:17.109Z"
   },
   {
    "duration": 7,
    "start_time": "2022-04-09T16:24:17.717Z"
   },
   {
    "duration": 20,
    "start_time": "2022-04-09T16:24:18.269Z"
   },
   {
    "duration": 10,
    "start_time": "2022-04-09T16:24:19.229Z"
   },
   {
    "duration": 162,
    "start_time": "2022-04-09T16:24:21.221Z"
   },
   {
    "duration": 6,
    "start_time": "2022-04-09T16:24:21.924Z"
   },
   {
    "duration": 23,
    "start_time": "2022-04-09T16:24:24.052Z"
   },
   {
    "duration": 13,
    "start_time": "2022-04-09T16:24:27.949Z"
   },
   {
    "duration": 5,
    "start_time": "2022-04-09T16:24:34.589Z"
   },
   {
    "duration": 3,
    "start_time": "2022-04-09T16:24:35.205Z"
   },
   {
    "duration": 4,
    "start_time": "2022-04-09T16:24:35.485Z"
   },
   {
    "duration": 4,
    "start_time": "2022-04-09T16:24:35.733Z"
   },
   {
    "duration": 4,
    "start_time": "2022-04-09T16:24:36.045Z"
   },
   {
    "duration": 6,
    "start_time": "2022-04-09T16:24:38.029Z"
   },
   {
    "duration": 6,
    "start_time": "2022-04-09T16:24:38.340Z"
   },
   {
    "duration": 23,
    "start_time": "2022-04-09T16:24:39.596Z"
   },
   {
    "duration": 13,
    "start_time": "2022-04-09T16:24:42.613Z"
   },
   {
    "duration": 1163,
    "start_time": "2022-04-09T16:26:13.676Z"
   },
   {
    "duration": 34,
    "start_time": "2022-04-09T16:26:14.840Z"
   },
   {
    "duration": 12,
    "start_time": "2022-04-09T16:26:14.875Z"
   },
   {
    "duration": 4,
    "start_time": "2022-04-09T16:26:14.889Z"
   },
   {
    "duration": 37,
    "start_time": "2022-04-09T16:26:14.912Z"
   },
   {
    "duration": 15,
    "start_time": "2022-04-09T16:26:14.955Z"
   },
   {
    "duration": 20,
    "start_time": "2022-04-09T16:26:14.972Z"
   },
   {
    "duration": 26,
    "start_time": "2022-04-09T16:26:14.993Z"
   },
   {
    "duration": 28,
    "start_time": "2022-04-09T16:26:15.022Z"
   },
   {
    "duration": 3,
    "start_time": "2022-04-09T16:26:15.054Z"
   },
   {
    "duration": 9,
    "start_time": "2022-04-09T16:26:15.059Z"
   },
   {
    "duration": 10,
    "start_time": "2022-04-09T16:26:15.070Z"
   },
   {
    "duration": 28,
    "start_time": "2022-04-09T16:26:15.082Z"
   },
   {
    "duration": 11,
    "start_time": "2022-04-09T16:26:15.112Z"
   },
   {
    "duration": 7,
    "start_time": "2022-04-09T16:26:15.124Z"
   },
   {
    "duration": 14,
    "start_time": "2022-04-09T16:26:15.133Z"
   },
   {
    "duration": 6,
    "start_time": "2022-04-09T16:26:15.148Z"
   },
   {
    "duration": 198,
    "start_time": "2022-04-09T16:26:15.156Z"
   },
   {
    "duration": 121,
    "start_time": "2022-04-09T16:26:15.356Z"
   },
   {
    "duration": 7,
    "start_time": "2022-04-09T16:26:15.478Z"
   },
   {
    "duration": 26,
    "start_time": "2022-04-09T16:26:15.486Z"
   },
   {
    "duration": 270,
    "start_time": "2022-04-09T16:26:15.514Z"
   },
   {
    "duration": 199,
    "start_time": "2022-04-09T16:26:15.786Z"
   },
   {
    "duration": 348,
    "start_time": "2022-04-09T16:26:15.987Z"
   },
   {
    "duration": 6,
    "start_time": "2022-04-09T16:26:16.337Z"
   },
   {
    "duration": 215,
    "start_time": "2022-04-09T16:26:16.345Z"
   },
   {
    "duration": 324,
    "start_time": "2022-04-09T16:26:16.562Z"
   },
   {
    "duration": 9,
    "start_time": "2022-04-09T16:26:16.889Z"
   },
   {
    "duration": 161,
    "start_time": "2022-04-09T16:26:16.900Z"
   },
   {
    "duration": 149,
    "start_time": "2022-04-09T16:26:17.063Z"
   },
   {
    "duration": 4,
    "start_time": "2022-04-09T16:26:17.214Z"
   },
   {
    "duration": 154,
    "start_time": "2022-04-09T16:26:17.220Z"
   },
   {
    "duration": 4,
    "start_time": "2022-04-09T16:26:17.376Z"
   },
   {
    "duration": 10,
    "start_time": "2022-04-09T16:26:17.382Z"
   },
   {
    "duration": 20,
    "start_time": "2022-04-09T16:26:17.394Z"
   },
   {
    "duration": 5,
    "start_time": "2022-04-09T16:26:17.416Z"
   },
   {
    "duration": 10,
    "start_time": "2022-04-09T16:26:17.423Z"
   },
   {
    "duration": 43,
    "start_time": "2022-04-09T16:26:17.435Z"
   },
   {
    "duration": 30,
    "start_time": "2022-04-09T16:26:17.480Z"
   },
   {
    "duration": 5,
    "start_time": "2022-04-09T16:26:17.512Z"
   },
   {
    "duration": 8,
    "start_time": "2022-04-09T16:26:17.519Z"
   },
   {
    "duration": 43,
    "start_time": "2022-04-09T16:26:17.529Z"
   },
   {
    "duration": 10,
    "start_time": "2022-04-09T16:26:17.574Z"
   },
   {
    "duration": 15,
    "start_time": "2022-04-09T16:26:17.609Z"
   },
   {
    "duration": 9,
    "start_time": "2022-04-09T16:26:17.626Z"
   },
   {
    "duration": 47,
    "start_time": "2022-04-09T16:26:17.637Z"
   },
   {
    "duration": 24,
    "start_time": "2022-04-09T16:26:17.686Z"
   },
   {
    "duration": 15,
    "start_time": "2022-04-09T16:26:17.711Z"
   },
   {
    "duration": 10,
    "start_time": "2022-04-09T16:26:17.728Z"
   },
   {
    "duration": 71,
    "start_time": "2022-04-09T16:26:17.740Z"
   },
   {
    "duration": 10,
    "start_time": "2022-04-09T16:26:17.812Z"
   },
   {
    "duration": 20,
    "start_time": "2022-04-09T16:26:17.824Z"
   },
   {
    "duration": 9,
    "start_time": "2022-04-09T16:26:17.846Z"
   },
   {
    "duration": 151,
    "start_time": "2022-04-09T16:26:17.857Z"
   },
   {
    "duration": 7,
    "start_time": "2022-04-09T16:26:18.010Z"
   },
   {
    "duration": 24,
    "start_time": "2022-04-09T16:26:18.018Z"
   },
   {
    "duration": 10,
    "start_time": "2022-04-09T16:26:18.044Z"
   },
   {
    "duration": 4,
    "start_time": "2022-04-09T16:26:18.056Z"
   },
   {
    "duration": 13,
    "start_time": "2022-04-09T16:26:18.062Z"
   },
   {
    "duration": 32,
    "start_time": "2022-04-09T16:26:18.077Z"
   },
   {
    "duration": 4,
    "start_time": "2022-04-09T16:26:18.111Z"
   },
   {
    "duration": 5,
    "start_time": "2022-04-09T16:26:18.117Z"
   },
   {
    "duration": 6,
    "start_time": "2022-04-09T16:26:18.123Z"
   },
   {
    "duration": 17,
    "start_time": "2022-04-09T16:26:18.130Z"
   },
   {
    "duration": 27,
    "start_time": "2022-04-09T16:26:18.149Z"
   },
   {
    "duration": 35,
    "start_time": "2022-04-09T16:26:18.178Z"
   },
   {
    "duration": 1199,
    "start_time": "2022-04-10T10:21:25.878Z"
   },
   {
    "duration": 39,
    "start_time": "2022-04-10T10:21:27.079Z"
   },
   {
    "duration": 12,
    "start_time": "2022-04-10T10:21:27.120Z"
   },
   {
    "duration": 4,
    "start_time": "2022-04-10T10:21:27.135Z"
   },
   {
    "duration": 21,
    "start_time": "2022-04-10T10:21:27.141Z"
   },
   {
    "duration": 11,
    "start_time": "2022-04-10T10:21:27.164Z"
   },
   {
    "duration": 25,
    "start_time": "2022-04-10T10:21:27.177Z"
   },
   {
    "duration": 14,
    "start_time": "2022-04-10T10:21:27.204Z"
   },
   {
    "duration": 18,
    "start_time": "2022-04-10T10:21:27.239Z"
   },
   {
    "duration": 5,
    "start_time": "2022-04-10T10:21:27.260Z"
   },
   {
    "duration": 11,
    "start_time": "2022-04-10T10:21:27.267Z"
   },
   {
    "duration": 13,
    "start_time": "2022-04-10T10:21:27.280Z"
   },
   {
    "duration": 6,
    "start_time": "2022-04-10T10:21:27.295Z"
   },
   {
    "duration": 41,
    "start_time": "2022-04-10T10:21:27.303Z"
   },
   {
    "duration": 10,
    "start_time": "2022-04-10T10:21:27.346Z"
   },
   {
    "duration": 16,
    "start_time": "2022-04-10T10:21:27.358Z"
   },
   {
    "duration": 15,
    "start_time": "2022-04-10T10:21:27.376Z"
   },
   {
    "duration": 191,
    "start_time": "2022-04-10T10:21:27.393Z"
   },
   {
    "duration": 153,
    "start_time": "2022-04-10T10:21:27.586Z"
   },
   {
    "duration": 8,
    "start_time": "2022-04-10T10:21:27.741Z"
   },
   {
    "duration": 27,
    "start_time": "2022-04-10T10:21:27.750Z"
   },
   {
    "duration": 270,
    "start_time": "2022-04-10T10:21:27.779Z"
   },
   {
    "duration": 202,
    "start_time": "2022-04-10T10:21:28.050Z"
   },
   {
    "duration": 314,
    "start_time": "2022-04-10T10:21:28.254Z"
   },
   {
    "duration": 6,
    "start_time": "2022-04-10T10:21:28.570Z"
   },
   {
    "duration": 224,
    "start_time": "2022-04-10T10:21:28.577Z"
   },
   {
    "duration": 331,
    "start_time": "2022-04-10T10:21:28.802Z"
   },
   {
    "duration": 9,
    "start_time": "2022-04-10T10:21:29.141Z"
   },
   {
    "duration": 148,
    "start_time": "2022-04-10T10:21:29.152Z"
   },
   {
    "duration": 141,
    "start_time": "2022-04-10T10:21:29.302Z"
   },
   {
    "duration": 5,
    "start_time": "2022-04-10T10:21:29.445Z"
   },
   {
    "duration": 149,
    "start_time": "2022-04-10T10:21:29.451Z"
   },
   {
    "duration": 4,
    "start_time": "2022-04-10T10:21:29.602Z"
   },
   {
    "duration": 32,
    "start_time": "2022-04-10T10:21:29.608Z"
   },
   {
    "duration": 17,
    "start_time": "2022-04-10T10:21:29.641Z"
   },
   {
    "duration": 17,
    "start_time": "2022-04-10T10:21:29.659Z"
   },
   {
    "duration": 29,
    "start_time": "2022-04-10T10:21:29.677Z"
   },
   {
    "duration": 51,
    "start_time": "2022-04-10T10:21:29.708Z"
   },
   {
    "duration": 14,
    "start_time": "2022-04-10T10:21:29.761Z"
   },
   {
    "duration": 20,
    "start_time": "2022-04-10T10:21:29.776Z"
   },
   {
    "duration": 26,
    "start_time": "2022-04-10T10:21:29.798Z"
   },
   {
    "duration": 56,
    "start_time": "2022-04-10T10:21:29.826Z"
   },
   {
    "duration": 14,
    "start_time": "2022-04-10T10:21:29.885Z"
   },
   {
    "duration": 20,
    "start_time": "2022-04-10T10:21:29.900Z"
   },
   {
    "duration": 8,
    "start_time": "2022-04-10T10:21:29.922Z"
   },
   {
    "duration": 61,
    "start_time": "2022-04-10T10:21:29.932Z"
   },
   {
    "duration": 18,
    "start_time": "2022-04-10T10:21:29.995Z"
   },
   {
    "duration": 36,
    "start_time": "2022-04-10T10:21:30.016Z"
   },
   {
    "duration": 17,
    "start_time": "2022-04-10T10:21:30.054Z"
   },
   {
    "duration": 62,
    "start_time": "2022-04-10T10:21:30.072Z"
   },
   {
    "duration": 17,
    "start_time": "2022-04-10T10:21:30.136Z"
   },
   {
    "duration": 27,
    "start_time": "2022-04-10T10:21:30.156Z"
   },
   {
    "duration": 19,
    "start_time": "2022-04-10T10:21:30.186Z"
   },
   {
    "duration": 151,
    "start_time": "2022-04-10T10:21:30.207Z"
   },
   {
    "duration": 8,
    "start_time": "2022-04-10T10:21:30.360Z"
   },
   {
    "duration": 35,
    "start_time": "2022-04-10T10:21:30.370Z"
   },
   {
    "duration": 32,
    "start_time": "2022-04-10T10:21:30.407Z"
   },
   {
    "duration": 7,
    "start_time": "2022-04-10T10:21:30.440Z"
   },
   {
    "duration": 12,
    "start_time": "2022-04-10T10:21:30.448Z"
   },
   {
    "duration": 15,
    "start_time": "2022-04-10T10:21:30.462Z"
   },
   {
    "duration": 19,
    "start_time": "2022-04-10T10:21:30.479Z"
   },
   {
    "duration": 19,
    "start_time": "2022-04-10T10:21:30.500Z"
   },
   {
    "duration": 15,
    "start_time": "2022-04-10T10:21:30.521Z"
   },
   {
    "duration": 26,
    "start_time": "2022-04-10T10:21:30.538Z"
   },
   {
    "duration": 35,
    "start_time": "2022-04-10T10:21:30.566Z"
   },
   {
    "duration": 15,
    "start_time": "2022-04-10T10:21:30.603Z"
   },
   {
    "duration": 1316,
    "start_time": "2022-04-10T10:28:00.886Z"
   },
   {
    "duration": 44,
    "start_time": "2022-04-10T10:28:02.204Z"
   },
   {
    "duration": 14,
    "start_time": "2022-04-10T10:28:02.251Z"
   },
   {
    "duration": 20,
    "start_time": "2022-04-10T10:28:02.266Z"
   },
   {
    "duration": 21,
    "start_time": "2022-04-10T10:28:02.289Z"
   },
   {
    "duration": 13,
    "start_time": "2022-04-10T10:28:02.312Z"
   },
   {
    "duration": 37,
    "start_time": "2022-04-10T10:28:02.327Z"
   },
   {
    "duration": 17,
    "start_time": "2022-04-10T10:28:02.366Z"
   },
   {
    "duration": 25,
    "start_time": "2022-04-10T10:28:02.385Z"
   },
   {
    "duration": 4,
    "start_time": "2022-04-10T10:28:02.412Z"
   },
   {
    "duration": 29,
    "start_time": "2022-04-10T10:28:02.418Z"
   },
   {
    "duration": 20,
    "start_time": "2022-04-10T10:28:02.450Z"
   },
   {
    "duration": 6,
    "start_time": "2022-04-10T10:28:02.471Z"
   },
   {
    "duration": 12,
    "start_time": "2022-04-10T10:28:02.481Z"
   },
   {
    "duration": 16,
    "start_time": "2022-04-10T10:28:02.494Z"
   },
   {
    "duration": 37,
    "start_time": "2022-04-10T10:28:02.512Z"
   },
   {
    "duration": 7,
    "start_time": "2022-04-10T10:28:02.551Z"
   },
   {
    "duration": 179,
    "start_time": "2022-04-10T10:28:02.560Z"
   },
   {
    "duration": 152,
    "start_time": "2022-04-10T10:28:02.741Z"
   },
   {
    "duration": 8,
    "start_time": "2022-04-10T10:28:02.895Z"
   },
   {
    "duration": 13,
    "start_time": "2022-04-10T10:28:02.905Z"
   },
   {
    "duration": 313,
    "start_time": "2022-04-10T10:28:02.920Z"
   },
   {
    "duration": 208,
    "start_time": "2022-04-10T10:28:03.235Z"
   },
   {
    "duration": 333,
    "start_time": "2022-04-10T10:28:03.446Z"
   },
   {
    "duration": 7,
    "start_time": "2022-04-10T10:28:03.781Z"
   },
   {
    "duration": 220,
    "start_time": "2022-04-10T10:28:03.789Z"
   },
   {
    "duration": 363,
    "start_time": "2022-04-10T10:28:04.011Z"
   },
   {
    "duration": 9,
    "start_time": "2022-04-10T10:28:04.377Z"
   },
   {
    "duration": 191,
    "start_time": "2022-04-10T10:28:04.388Z"
   },
   {
    "duration": 151,
    "start_time": "2022-04-10T10:28:04.581Z"
   },
   {
    "duration": 7,
    "start_time": "2022-04-10T10:28:04.738Z"
   },
   {
    "duration": 160,
    "start_time": "2022-04-10T10:28:04.748Z"
   },
   {
    "duration": 4,
    "start_time": "2022-04-10T10:28:04.910Z"
   },
   {
    "duration": 23,
    "start_time": "2022-04-10T10:28:04.916Z"
   },
   {
    "duration": 20,
    "start_time": "2022-04-10T10:28:04.942Z"
   },
   {
    "duration": 11,
    "start_time": "2022-04-10T10:28:04.964Z"
   },
   {
    "duration": 27,
    "start_time": "2022-04-10T10:28:04.977Z"
   },
   {
    "duration": 63,
    "start_time": "2022-04-10T10:28:05.005Z"
   },
   {
    "duration": 14,
    "start_time": "2022-04-10T10:28:05.070Z"
   },
   {
    "duration": 11,
    "start_time": "2022-04-10T10:28:05.086Z"
   },
   {
    "duration": 14,
    "start_time": "2022-04-10T10:28:05.101Z"
   },
   {
    "duration": 62,
    "start_time": "2022-04-10T10:28:05.117Z"
   },
   {
    "duration": 16,
    "start_time": "2022-04-10T10:28:05.181Z"
   },
   {
    "duration": 24,
    "start_time": "2022-04-10T10:28:05.199Z"
   },
   {
    "duration": 11,
    "start_time": "2022-04-10T10:28:05.224Z"
   },
   {
    "duration": 69,
    "start_time": "2022-04-10T10:28:05.239Z"
   },
   {
    "duration": 22,
    "start_time": "2022-04-10T10:28:05.310Z"
   },
   {
    "duration": 32,
    "start_time": "2022-04-10T10:28:05.333Z"
   },
   {
    "duration": 18,
    "start_time": "2022-04-10T10:28:05.367Z"
   },
   {
    "duration": 68,
    "start_time": "2022-04-10T10:28:05.386Z"
   },
   {
    "duration": 15,
    "start_time": "2022-04-10T10:28:05.456Z"
   },
   {
    "duration": 32,
    "start_time": "2022-04-10T10:28:05.472Z"
   },
   {
    "duration": 11,
    "start_time": "2022-04-10T10:28:05.506Z"
   },
   {
    "duration": 176,
    "start_time": "2022-04-10T10:28:05.519Z"
   },
   {
    "duration": 6,
    "start_time": "2022-04-10T10:28:05.697Z"
   },
   {
    "duration": 52,
    "start_time": "2022-04-10T10:28:05.705Z"
   },
   {
    "duration": 12,
    "start_time": "2022-04-10T10:28:05.759Z"
   },
   {
    "duration": 8,
    "start_time": "2022-04-10T10:28:05.773Z"
   },
   {
    "duration": 15,
    "start_time": "2022-04-10T10:28:05.782Z"
   },
   {
    "duration": 12,
    "start_time": "2022-04-10T10:28:05.799Z"
   },
   {
    "duration": 11,
    "start_time": "2022-04-10T10:28:05.812Z"
   },
   {
    "duration": 30,
    "start_time": "2022-04-10T10:28:05.825Z"
   },
   {
    "duration": 14,
    "start_time": "2022-04-10T10:28:05.857Z"
   },
   {
    "duration": 21,
    "start_time": "2022-04-10T10:28:05.873Z"
   },
   {
    "duration": 38,
    "start_time": "2022-04-10T10:28:05.896Z"
   },
   {
    "duration": 20,
    "start_time": "2022-04-10T10:28:05.935Z"
   },
   {
    "duration": 1266,
    "start_time": "2022-08-02T17:07:21.128Z"
   },
   {
    "duration": 201,
    "start_time": "2022-08-02T17:07:22.396Z"
   },
   {
    "duration": 13,
    "start_time": "2022-08-02T17:07:22.599Z"
   },
   {
    "duration": 12,
    "start_time": "2022-08-02T17:07:22.614Z"
   },
   {
    "duration": 32,
    "start_time": "2022-08-02T17:07:22.628Z"
   },
   {
    "duration": 12,
    "start_time": "2022-08-02T17:07:22.662Z"
   },
   {
    "duration": 31,
    "start_time": "2022-08-02T17:07:22.676Z"
   },
   {
    "duration": 13,
    "start_time": "2022-08-02T17:07:22.709Z"
   },
   {
    "duration": 27,
    "start_time": "2022-08-02T17:07:22.724Z"
   },
   {
    "duration": 9,
    "start_time": "2022-08-02T17:07:22.755Z"
   },
   {
    "duration": 11,
    "start_time": "2022-08-02T17:07:22.765Z"
   },
   {
    "duration": 16,
    "start_time": "2022-08-02T17:07:22.778Z"
   },
   {
    "duration": 5,
    "start_time": "2022-08-02T17:07:22.802Z"
   },
   {
    "duration": 19,
    "start_time": "2022-08-02T17:07:22.808Z"
   },
   {
    "duration": 12,
    "start_time": "2022-08-02T17:07:22.829Z"
   },
   {
    "duration": 21,
    "start_time": "2022-08-02T17:07:22.844Z"
   },
   {
    "duration": 7,
    "start_time": "2022-08-02T17:07:22.867Z"
   },
   {
    "duration": 187,
    "start_time": "2022-08-02T17:07:22.876Z"
   },
   {
    "duration": 138,
    "start_time": "2022-08-02T17:07:23.065Z"
   },
   {
    "duration": 8,
    "start_time": "2022-08-02T17:07:23.205Z"
   },
   {
    "duration": 14,
    "start_time": "2022-08-02T17:07:23.215Z"
   },
   {
    "duration": 303,
    "start_time": "2022-08-02T17:07:23.231Z"
   },
   {
    "duration": 190,
    "start_time": "2022-08-02T17:07:23.536Z"
   },
   {
    "duration": 300,
    "start_time": "2022-08-02T17:07:23.728Z"
   },
   {
    "duration": 8,
    "start_time": "2022-08-02T17:07:24.030Z"
   },
   {
    "duration": 224,
    "start_time": "2022-08-02T17:07:24.040Z"
   },
   {
    "duration": 336,
    "start_time": "2022-08-02T17:07:24.266Z"
   },
   {
    "duration": 9,
    "start_time": "2022-08-02T17:07:24.607Z"
   },
   {
    "duration": 188,
    "start_time": "2022-08-02T17:07:24.618Z"
   },
   {
    "duration": 139,
    "start_time": "2022-08-02T17:07:24.808Z"
   },
   {
    "duration": 5,
    "start_time": "2022-08-02T17:07:24.949Z"
   },
   {
    "duration": 165,
    "start_time": "2022-08-02T17:07:24.956Z"
   },
   {
    "duration": 5,
    "start_time": "2022-08-02T17:07:25.123Z"
   },
   {
    "duration": 24,
    "start_time": "2022-08-02T17:07:25.129Z"
   },
   {
    "duration": 9,
    "start_time": "2022-08-02T17:07:25.155Z"
   },
   {
    "duration": 9,
    "start_time": "2022-08-02T17:07:25.166Z"
   },
   {
    "duration": 19,
    "start_time": "2022-08-02T17:07:25.177Z"
   },
   {
    "duration": 54,
    "start_time": "2022-08-02T17:07:25.199Z"
   },
   {
    "duration": 41,
    "start_time": "2022-08-02T17:07:25.255Z"
   },
   {
    "duration": 8,
    "start_time": "2022-08-02T17:07:25.297Z"
   },
   {
    "duration": 15,
    "start_time": "2022-08-02T17:07:25.307Z"
   },
   {
    "duration": 46,
    "start_time": "2022-08-02T17:07:25.323Z"
   },
   {
    "duration": 8,
    "start_time": "2022-08-02T17:07:25.370Z"
   },
   {
    "duration": 32,
    "start_time": "2022-08-02T17:07:25.380Z"
   },
   {
    "duration": 11,
    "start_time": "2022-08-02T17:07:25.414Z"
   },
   {
    "duration": 65,
    "start_time": "2022-08-02T17:07:25.428Z"
   },
   {
    "duration": 24,
    "start_time": "2022-08-02T17:07:25.494Z"
   },
   {
    "duration": 19,
    "start_time": "2022-08-02T17:07:25.520Z"
   },
   {
    "duration": 8,
    "start_time": "2022-08-02T17:07:25.541Z"
   },
   {
    "duration": 54,
    "start_time": "2022-08-02T17:07:25.550Z"
   },
   {
    "duration": 22,
    "start_time": "2022-08-02T17:07:25.605Z"
   },
   {
    "duration": 46,
    "start_time": "2022-08-02T17:07:25.629Z"
   },
   {
    "duration": 13,
    "start_time": "2022-08-02T17:07:25.678Z"
   },
   {
    "duration": 188,
    "start_time": "2022-08-02T17:07:25.693Z"
   },
   {
    "duration": 20,
    "start_time": "2022-08-02T17:07:25.882Z"
   },
   {
    "duration": 34,
    "start_time": "2022-08-02T17:07:25.904Z"
   },
   {
    "duration": 13,
    "start_time": "2022-08-02T17:07:25.940Z"
   },
   {
    "duration": 11,
    "start_time": "2022-08-02T17:07:25.955Z"
   },
   {
    "duration": 12,
    "start_time": "2022-08-02T17:07:25.969Z"
   },
   {
    "duration": 23,
    "start_time": "2022-08-02T17:07:25.982Z"
   },
   {
    "duration": 13,
    "start_time": "2022-08-02T17:07:26.007Z"
   },
   {
    "duration": 12,
    "start_time": "2022-08-02T17:07:26.022Z"
   },
   {
    "duration": 10,
    "start_time": "2022-08-02T17:07:26.037Z"
   },
   {
    "duration": 18,
    "start_time": "2022-08-02T17:07:26.049Z"
   },
   {
    "duration": 27,
    "start_time": "2022-08-02T17:07:26.068Z"
   },
   {
    "duration": 17,
    "start_time": "2022-08-02T17:07:26.097Z"
   }
  ],
  "kernelspec": {
   "display_name": "Python 3 (ipykernel)",
   "language": "python",
   "name": "python3"
  },
  "language_info": {
   "codemirror_mode": {
    "name": "ipython",
    "version": 3
   },
   "file_extension": ".py",
   "mimetype": "text/x-python",
   "name": "python",
   "nbconvert_exporter": "python",
   "pygments_lexer": "ipython3",
   "version": "3.9.7"
  },
  "toc": {
   "base_numbering": 1,
   "nav_menu": {
    "height": "109px",
    "width": "323px"
   },
   "number_sections": true,
   "sideBar": true,
   "skip_h1_title": true,
   "title_cell": "Table of Contents",
   "title_sidebar": "Contents",
   "toc_cell": false,
   "toc_position": {},
   "toc_section_display": true,
   "toc_window_display": true
  }
 },
 "nbformat": 4,
 "nbformat_minor": 2
}
