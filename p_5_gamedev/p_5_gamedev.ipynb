{
 "cells": [
  {
   "cell_type": "markdown",
   "metadata": {},
   "source": [
    "# Описание проекта"
   ]
  },
  {
   "cell_type": "markdown",
   "metadata": {},
   "source": [
    "Вы работаете в интернет-магазине «Стримчик», который продаёт по всему миру компьютерные игры. Из открытых источников доступны исторические данные о продажах игр, оценки пользователей и экспертов, жанры и платформы (например, Xbox или PlayStation). Вам нужно выявить определяющие успешность игры закономерности. Это позволит сделать ставку на потенциально популярный продукт и спланировать рекламные кампании. Перед вами данные до 2016 года. Представим, что сейчас декабрь 2016 г., и вы планируете кампанию на 2017-й. Нужно отработать принцип работы с данными. Неважно, прогнозируете ли вы продажи на 2017 год по данным 2016-го или же 2027-й — по данным 2026 года. В наборе данных попадается аббревиатура ESRB (Entertainment Software Rating Board) — это ассоциация, определяющая возрастной рейтинг компьютерных игр. ESRB оценивает игровой контент и присваивает ему подходящую возрастную категорию, например, «Для взрослых», «Для детей младшего возраста» или «Для подростков»."
   ]
  },
  {
   "cell_type": "markdown",
   "metadata": {},
   "source": [
    "**Шаг 1. Откройте файл с данными и изучите общую информацию**"
   ]
  },
  {
   "cell_type": "markdown",
   "metadata": {},
   "source": [
    "Путь к файлу: /datasets/games.csv."
   ]
  },
  {
   "cell_type": "markdown",
   "metadata": {},
   "source": [
    "**Шаг 2. Подготовьте данные**"
   ]
  },
  {
   "cell_type": "markdown",
   "metadata": {},
   "source": [
    "Замените названия столбцов (приведите к нижнему регистру);\n",
    "Преобразуйте данные в нужные типы. Опишите, в каких столбцах заменили тип данных и почему;\n",
    "Обработайте пропуски при необходимости:\n",
    "Объясните, почему заполнили пропуски определённым образом или почему не стали это делать;\n",
    "Опишите причины, которые могли привести к пропускам;\n",
    "Обратите внимание на аббревиатуру 'tbd' в столбцах с рейтингом. Отдельно разберите это значение и опишите, как его обработать;\n",
    "Посчитайте суммарные продажи во всех регионах и запишите их в отдельный столбец."
   ]
  },
  {
   "cell_type": "markdown",
   "metadata": {},
   "source": [
    "**Шаг 3. Проведите исследовательский анализ данных**"
   ]
  },
  {
   "cell_type": "markdown",
   "metadata": {},
   "source": [
    "- Посмотрите, сколько игр выпускалось в разные годы. Важны ли данные за все периоды?\n",
    "- Посмотрите, как менялись продажи по платформам. Выберите платформы с наибольшими суммарными продажами и постройте распределение по годам. За какой характерный срок появляются новые и исчезают старые платформы?\n",
    "- Возьмите данные за соответствующий актуальный период. Актуальный период определите самостоятельно в результате исследования предыдущих вопросов. Основной фактор — эти данные помогут построить прогноз на 2017 год.\n",
    "- Не учитывайте в работе данные за предыдущие годы.\n",
    "- Какие платформы лидируют по продажам, растут или падают? Выберите несколько потенциально прибыльных платформ.\n",
    "- Постройте график «ящик с усами» по глобальным продажам игр в разбивке по платформам. Опишите результат.\n",
    "- Посмотрите, как влияют на продажи внутри одной популярной платформы отзывы пользователей и критиков. Постройте диаграмму рассеяния и посчитайте корреляцию между отзывами и продажами. Сформулируйте выводы.\n",
    "- Соотнесите выводы с продажами игр на других платформах.\n",
    "- Посмотрите на общее распределение игр по жанрам. Что можно сказать о самых прибыльных жанрах? Выделяются ли жанры с высокими и низкими продажами?"
   ]
  },
  {
   "cell_type": "markdown",
   "metadata": {},
   "source": [
    "**Шаг 4. Составьте портрет пользователя каждого региона**"
   ]
  },
  {
   "cell_type": "markdown",
   "metadata": {},
   "source": [
    "Определите для пользователя каждого региона (NA, EU, JP):\n",
    "\n",
    "- Самые популярные платформы (топ-5). Опишите различия в долях продаж.\n",
    "- Самые популярные жанры (топ-5). Поясните разницу.\n",
    "- Влияет ли рейтинг ESRB на продажи в отдельном регионе?"
   ]
  },
  {
   "cell_type": "markdown",
   "metadata": {},
   "source": [
    "**Шаг 5. Проверьте гипотезы**"
   ]
  },
  {
   "cell_type": "markdown",
   "metadata": {},
   "source": [
    "- Средние пользовательские рейтинги платформ Xbox One и PC одинаковые;\n",
    "- Средние пользовательские рейтинги жанров Action (англ. «действие», экшен-игры) и Sports (англ. «спортивные соревнования») разные.\n",
    "\n",
    "Задайте самостоятельно пороговое значение alpha.\n",
    "\n",
    "Поясните:\n",
    "\n",
    "- Как вы сформулировали нулевую и альтернативную гипотезы;\n",
    "- Какой критерий применили для проверки гипотез и почему."
   ]
  },
  {
   "cell_type": "markdown",
   "metadata": {},
   "source": [
    "**Шаг 6. Напишите общий вывод**"
   ]
  },
  {
   "cell_type": "markdown",
   "metadata": {},
   "source": [
    "**Описание данных:**\n",
    "\n",
    "- Name — название игры\n",
    "- Platform — платформа\n",
    "- Year_of_Release — год выпуска\n",
    "- Genre — жанр игры\n",
    "- NA_sales — продажи в Северной Америке (миллионы проданных копий)\n",
    "- EU_sales — продажи в Европе (миллионы проданных копий)\n",
    "- JP_sales — продажи в Японии (миллионы проданных копий)\n",
    "- Other_sales — продажи в других странах (миллионы проданных копий)\n",
    "- Critic_Score — оценка критиков (максимум 100)\n",
    "- User_Score — оценка пользователей (максимум 10)\n",
    "- Rating — рейтинг от организации ESRB (англ. Entertainment Software Rating Board). Эта ассоциация определяет рейтинг компьютерных игр и присваивает им подходящую возрастную категорию.\n",
    "Данные за 2016 год могут быть неполными."
   ]
  },
  {
   "cell_type": "markdown",
   "metadata": {},
   "source": [
    "# Начало работы"
   ]
  },
  {
   "cell_type": "code",
   "execution_count": 1,
   "metadata": {},
   "outputs": [],
   "source": [
    "import pandas as pd\n",
    "import seaborn as sns\n",
    "import matplotlib.pyplot as plt\n",
    "import numpy as np \n",
    "from scipy import stats as st\n",
    "from scipy.stats import ttest_ind\n",
    "\n",
    "import warnings\n",
    "warnings.simplefilter('ignore')\n",
    "\n",
    "pd.set_option('display.max_columns', None)"
   ]
  },
  {
   "cell_type": "code",
   "execution_count": 2,
   "metadata": {},
   "outputs": [],
   "source": [
    "#from google.colab import drive\n",
    "#drive.mount('/content/gdrive')"
   ]
  },
  {
   "cell_type": "markdown",
   "metadata": {},
   "source": [
    "## **Шаг. Откройте файл с данными и изучите общую информацию**"
   ]
  },
  {
   "cell_type": "code",
   "execution_count": 3,
   "metadata": {},
   "outputs": [],
   "source": [
    "#df = pd.read_csv('/content/gdrive/MyDrive/Colab Notebooks/Modul1/games.csv')\n",
    "df = pd.read_csv('/datasets/games.csv')"
   ]
  },
  {
   "cell_type": "code",
   "execution_count": 4,
   "metadata": {},
   "outputs": [
    {
     "data": {
      "text/html": [
       "<div>\n",
       "<style scoped>\n",
       "    .dataframe tbody tr th:only-of-type {\n",
       "        vertical-align: middle;\n",
       "    }\n",
       "\n",
       "    .dataframe tbody tr th {\n",
       "        vertical-align: top;\n",
       "    }\n",
       "\n",
       "    .dataframe thead th {\n",
       "        text-align: right;\n",
       "    }\n",
       "</style>\n",
       "<table border=\"1\" class=\"dataframe\">\n",
       "  <thead>\n",
       "    <tr style=\"text-align: right;\">\n",
       "      <th></th>\n",
       "      <th>Name</th>\n",
       "      <th>Platform</th>\n",
       "      <th>Year_of_Release</th>\n",
       "      <th>Genre</th>\n",
       "      <th>NA_sales</th>\n",
       "      <th>EU_sales</th>\n",
       "      <th>JP_sales</th>\n",
       "      <th>Other_sales</th>\n",
       "      <th>Critic_Score</th>\n",
       "      <th>User_Score</th>\n",
       "      <th>Rating</th>\n",
       "    </tr>\n",
       "  </thead>\n",
       "  <tbody>\n",
       "    <tr>\n",
       "      <th>0</th>\n",
       "      <td>Wii Sports</td>\n",
       "      <td>Wii</td>\n",
       "      <td>2006.0</td>\n",
       "      <td>Sports</td>\n",
       "      <td>41.36</td>\n",
       "      <td>28.96</td>\n",
       "      <td>3.77</td>\n",
       "      <td>8.45</td>\n",
       "      <td>76.0</td>\n",
       "      <td>8</td>\n",
       "      <td>E</td>\n",
       "    </tr>\n",
       "    <tr>\n",
       "      <th>1</th>\n",
       "      <td>Super Mario Bros.</td>\n",
       "      <td>NES</td>\n",
       "      <td>1985.0</td>\n",
       "      <td>Platform</td>\n",
       "      <td>29.08</td>\n",
       "      <td>3.58</td>\n",
       "      <td>6.81</td>\n",
       "      <td>0.77</td>\n",
       "      <td>NaN</td>\n",
       "      <td>NaN</td>\n",
       "      <td>NaN</td>\n",
       "    </tr>\n",
       "    <tr>\n",
       "      <th>2</th>\n",
       "      <td>Mario Kart Wii</td>\n",
       "      <td>Wii</td>\n",
       "      <td>2008.0</td>\n",
       "      <td>Racing</td>\n",
       "      <td>15.68</td>\n",
       "      <td>12.76</td>\n",
       "      <td>3.79</td>\n",
       "      <td>3.29</td>\n",
       "      <td>82.0</td>\n",
       "      <td>8.3</td>\n",
       "      <td>E</td>\n",
       "    </tr>\n",
       "    <tr>\n",
       "      <th>3</th>\n",
       "      <td>Wii Sports Resort</td>\n",
       "      <td>Wii</td>\n",
       "      <td>2009.0</td>\n",
       "      <td>Sports</td>\n",
       "      <td>15.61</td>\n",
       "      <td>10.93</td>\n",
       "      <td>3.28</td>\n",
       "      <td>2.95</td>\n",
       "      <td>80.0</td>\n",
       "      <td>8</td>\n",
       "      <td>E</td>\n",
       "    </tr>\n",
       "    <tr>\n",
       "      <th>4</th>\n",
       "      <td>Pokemon Red/Pokemon Blue</td>\n",
       "      <td>GB</td>\n",
       "      <td>1996.0</td>\n",
       "      <td>Role-Playing</td>\n",
       "      <td>11.27</td>\n",
       "      <td>8.89</td>\n",
       "      <td>10.22</td>\n",
       "      <td>1.00</td>\n",
       "      <td>NaN</td>\n",
       "      <td>NaN</td>\n",
       "      <td>NaN</td>\n",
       "    </tr>\n",
       "  </tbody>\n",
       "</table>\n",
       "</div>"
      ],
      "text/plain": [
       "                       Name Platform  Year_of_Release         Genre  NA_sales  \\\n",
       "0                Wii Sports      Wii           2006.0        Sports     41.36   \n",
       "1         Super Mario Bros.      NES           1985.0      Platform     29.08   \n",
       "2            Mario Kart Wii      Wii           2008.0        Racing     15.68   \n",
       "3         Wii Sports Resort      Wii           2009.0        Sports     15.61   \n",
       "4  Pokemon Red/Pokemon Blue       GB           1996.0  Role-Playing     11.27   \n",
       "\n",
       "   EU_sales  JP_sales  Other_sales  Critic_Score User_Score Rating  \n",
       "0     28.96      3.77         8.45          76.0          8      E  \n",
       "1      3.58      6.81         0.77           NaN        NaN    NaN  \n",
       "2     12.76      3.79         3.29          82.0        8.3      E  \n",
       "3     10.93      3.28         2.95          80.0          8      E  \n",
       "4      8.89     10.22         1.00           NaN        NaN    NaN  "
      ]
     },
     "execution_count": 4,
     "metadata": {},
     "output_type": "execute_result"
    }
   ],
   "source": [
    "df.head()"
   ]
  },
  {
   "cell_type": "code",
   "execution_count": 5,
   "metadata": {},
   "outputs": [
    {
     "name": "stdout",
     "output_type": "stream",
     "text": [
      "<class 'pandas.core.frame.DataFrame'>\n",
      "RangeIndex: 16715 entries, 0 to 16714\n",
      "Data columns (total 11 columns):\n",
      " #   Column           Non-Null Count  Dtype  \n",
      "---  ------           --------------  -----  \n",
      " 0   Name             16713 non-null  object \n",
      " 1   Platform         16715 non-null  object \n",
      " 2   Year_of_Release  16446 non-null  float64\n",
      " 3   Genre            16713 non-null  object \n",
      " 4   NA_sales         16715 non-null  float64\n",
      " 5   EU_sales         16715 non-null  float64\n",
      " 6   JP_sales         16715 non-null  float64\n",
      " 7   Other_sales      16715 non-null  float64\n",
      " 8   Critic_Score     8137 non-null   float64\n",
      " 9   User_Score       10014 non-null  object \n",
      " 10  Rating           9949 non-null   object \n",
      "dtypes: float64(6), object(5)\n",
      "memory usage: 1.4+ MB\n"
     ]
    }
   ],
   "source": [
    "df.info()"
   ]
  },
  {
   "cell_type": "markdown",
   "metadata": {},
   "source": [
    "## **Шаг. Подготовьте данные**\n",
    "\n",
    "- Замените названия столбцов (приведите к нижнему регистру);\n",
    "- Преобразуйте данные в нужные типы. Опишите, в каких столбцах заменили тип данных и почему;\n",
    "- Обработайте пропуски при необходимости:\n",
    "  - Объясните, почему заполнили пропуски определённым образом или почему не стали это делать;\n",
    "  - Опишите причины, которые могли привести к пропускам;\n",
    "  - Обратите внимание на аббревиатуру 'tbd' в столбцах с рейтингом. Отдельно разберите это значение и опишите, как его обработать;\n",
    "- Посчитайте суммарные продажи во всех регионах и запишите их в отдельный столбец."
   ]
  },
  {
   "cell_type": "markdown",
   "metadata": {},
   "source": [
    "**Комментарий**\n",
    "\n",
    "Заменим тип данных в столбцах ['Year_of_Release', 'Critic_Score'] на int, т.к. года не могут быть дробными. Оценка теоретически может, но я проверил, тут целочисленный.\n",
    "\n",
    "tbd - значит \"подлежит определению\", я загуглил =). Оценку не поставили, может заменить на NaN?\n",
    "\n",
    "NaN в critic_score и user_score на \"-1\", так сразу будет понятно что это замена, а не оценка, ведь можно же 0 поставить, если игра фуфло?)\n",
    "\n",
    "NaN в rating на \"without rating\"."
   ]
  },
  {
   "cell_type": "markdown",
   "metadata": {},
   "source": [
    "Заменить НаН в name на НоуНейм. или удалить 2 строки? Решил удалить, ни имени, ни года. Толку чуть.\n",
    "\n",
    "year_of_release - 269 пропусков, удалить? 1.5% от df, удаляем."
   ]
  },
  {
   "cell_type": "code",
   "execution_count": 6,
   "metadata": {},
   "outputs": [],
   "source": [
    "df = df.rename(str.lower, axis='columns')"
   ]
  },
  {
   "cell_type": "code",
   "execution_count": 7,
   "metadata": {},
   "outputs": [
    {
     "data": {
      "text/html": [
       "<div>\n",
       "<style scoped>\n",
       "    .dataframe tbody tr th:only-of-type {\n",
       "        vertical-align: middle;\n",
       "    }\n",
       "\n",
       "    .dataframe tbody tr th {\n",
       "        vertical-align: top;\n",
       "    }\n",
       "\n",
       "    .dataframe thead th {\n",
       "        text-align: right;\n",
       "    }\n",
       "</style>\n",
       "<table border=\"1\" class=\"dataframe\">\n",
       "  <thead>\n",
       "    <tr style=\"text-align: right;\">\n",
       "      <th></th>\n",
       "      <th>name</th>\n",
       "      <th>platform</th>\n",
       "      <th>year_of_release</th>\n",
       "      <th>genre</th>\n",
       "      <th>na_sales</th>\n",
       "      <th>eu_sales</th>\n",
       "      <th>jp_sales</th>\n",
       "      <th>other_sales</th>\n",
       "      <th>critic_score</th>\n",
       "      <th>user_score</th>\n",
       "      <th>rating</th>\n",
       "    </tr>\n",
       "  </thead>\n",
       "  <tbody>\n",
       "    <tr>\n",
       "      <th>0</th>\n",
       "      <td>Wii Sports</td>\n",
       "      <td>Wii</td>\n",
       "      <td>2006.0</td>\n",
       "      <td>Sports</td>\n",
       "      <td>41.36</td>\n",
       "      <td>28.96</td>\n",
       "      <td>3.77</td>\n",
       "      <td>8.45</td>\n",
       "      <td>76.0</td>\n",
       "      <td>8</td>\n",
       "      <td>E</td>\n",
       "    </tr>\n",
       "    <tr>\n",
       "      <th>1</th>\n",
       "      <td>Super Mario Bros.</td>\n",
       "      <td>NES</td>\n",
       "      <td>1985.0</td>\n",
       "      <td>Platform</td>\n",
       "      <td>29.08</td>\n",
       "      <td>3.58</td>\n",
       "      <td>6.81</td>\n",
       "      <td>0.77</td>\n",
       "      <td>NaN</td>\n",
       "      <td>NaN</td>\n",
       "      <td>NaN</td>\n",
       "    </tr>\n",
       "    <tr>\n",
       "      <th>2</th>\n",
       "      <td>Mario Kart Wii</td>\n",
       "      <td>Wii</td>\n",
       "      <td>2008.0</td>\n",
       "      <td>Racing</td>\n",
       "      <td>15.68</td>\n",
       "      <td>12.76</td>\n",
       "      <td>3.79</td>\n",
       "      <td>3.29</td>\n",
       "      <td>82.0</td>\n",
       "      <td>8.3</td>\n",
       "      <td>E</td>\n",
       "    </tr>\n",
       "    <tr>\n",
       "      <th>3</th>\n",
       "      <td>Wii Sports Resort</td>\n",
       "      <td>Wii</td>\n",
       "      <td>2009.0</td>\n",
       "      <td>Sports</td>\n",
       "      <td>15.61</td>\n",
       "      <td>10.93</td>\n",
       "      <td>3.28</td>\n",
       "      <td>2.95</td>\n",
       "      <td>80.0</td>\n",
       "      <td>8</td>\n",
       "      <td>E</td>\n",
       "    </tr>\n",
       "    <tr>\n",
       "      <th>4</th>\n",
       "      <td>Pokemon Red/Pokemon Blue</td>\n",
       "      <td>GB</td>\n",
       "      <td>1996.0</td>\n",
       "      <td>Role-Playing</td>\n",
       "      <td>11.27</td>\n",
       "      <td>8.89</td>\n",
       "      <td>10.22</td>\n",
       "      <td>1.00</td>\n",
       "      <td>NaN</td>\n",
       "      <td>NaN</td>\n",
       "      <td>NaN</td>\n",
       "    </tr>\n",
       "  </tbody>\n",
       "</table>\n",
       "</div>"
      ],
      "text/plain": [
       "                       name platform  year_of_release         genre  na_sales  \\\n",
       "0                Wii Sports      Wii           2006.0        Sports     41.36   \n",
       "1         Super Mario Bros.      NES           1985.0      Platform     29.08   \n",
       "2            Mario Kart Wii      Wii           2008.0        Racing     15.68   \n",
       "3         Wii Sports Resort      Wii           2009.0        Sports     15.61   \n",
       "4  Pokemon Red/Pokemon Blue       GB           1996.0  Role-Playing     11.27   \n",
       "\n",
       "   eu_sales  jp_sales  other_sales  critic_score user_score rating  \n",
       "0     28.96      3.77         8.45          76.0          8      E  \n",
       "1      3.58      6.81         0.77           NaN        NaN    NaN  \n",
       "2     12.76      3.79         3.29          82.0        8.3      E  \n",
       "3     10.93      3.28         2.95          80.0          8      E  \n",
       "4      8.89     10.22         1.00           NaN        NaN    NaN  "
      ]
     },
     "execution_count": 7,
     "metadata": {},
     "output_type": "execute_result"
    }
   ],
   "source": [
    "df.head()"
   ]
  },
  {
   "cell_type": "code",
   "execution_count": 8,
   "metadata": {
    "scrolled": false
   },
   "outputs": [
    {
     "data": {
      "text/html": [
       "<div>\n",
       "<style scoped>\n",
       "    .dataframe tbody tr th:only-of-type {\n",
       "        vertical-align: middle;\n",
       "    }\n",
       "\n",
       "    .dataframe tbody tr th {\n",
       "        vertical-align: top;\n",
       "    }\n",
       "\n",
       "    .dataframe thead th {\n",
       "        text-align: right;\n",
       "    }\n",
       "</style>\n",
       "<table border=\"1\" class=\"dataframe\">\n",
       "  <thead>\n",
       "    <tr style=\"text-align: right;\">\n",
       "      <th></th>\n",
       "      <th>name</th>\n",
       "      <th>platform</th>\n",
       "      <th>year_of_release</th>\n",
       "      <th>genre</th>\n",
       "      <th>na_sales</th>\n",
       "      <th>eu_sales</th>\n",
       "      <th>jp_sales</th>\n",
       "      <th>other_sales</th>\n",
       "      <th>critic_score</th>\n",
       "      <th>user_score</th>\n",
       "      <th>rating</th>\n",
       "    </tr>\n",
       "  </thead>\n",
       "  <tbody>\n",
       "    <tr>\n",
       "      <th>119</th>\n",
       "      <td>Zumba Fitness</td>\n",
       "      <td>Wii</td>\n",
       "      <td>2010.0</td>\n",
       "      <td>Sports</td>\n",
       "      <td>3.45</td>\n",
       "      <td>2.59</td>\n",
       "      <td>0.0</td>\n",
       "      <td>0.66</td>\n",
       "      <td>NaN</td>\n",
       "      <td>tbd</td>\n",
       "      <td>E</td>\n",
       "    </tr>\n",
       "    <tr>\n",
       "      <th>301</th>\n",
       "      <td>Namco Museum: 50th Anniversary</td>\n",
       "      <td>PS2</td>\n",
       "      <td>2005.0</td>\n",
       "      <td>Misc</td>\n",
       "      <td>2.08</td>\n",
       "      <td>1.35</td>\n",
       "      <td>0.0</td>\n",
       "      <td>0.54</td>\n",
       "      <td>61.0</td>\n",
       "      <td>tbd</td>\n",
       "      <td>E10+</td>\n",
       "    </tr>\n",
       "    <tr>\n",
       "      <th>520</th>\n",
       "      <td>Zumba Fitness 2</td>\n",
       "      <td>Wii</td>\n",
       "      <td>2011.0</td>\n",
       "      <td>Sports</td>\n",
       "      <td>1.51</td>\n",
       "      <td>1.03</td>\n",
       "      <td>0.0</td>\n",
       "      <td>0.27</td>\n",
       "      <td>NaN</td>\n",
       "      <td>tbd</td>\n",
       "      <td>T</td>\n",
       "    </tr>\n",
       "    <tr>\n",
       "      <th>645</th>\n",
       "      <td>uDraw Studio</td>\n",
       "      <td>Wii</td>\n",
       "      <td>2010.0</td>\n",
       "      <td>Misc</td>\n",
       "      <td>1.65</td>\n",
       "      <td>0.57</td>\n",
       "      <td>0.0</td>\n",
       "      <td>0.20</td>\n",
       "      <td>71.0</td>\n",
       "      <td>tbd</td>\n",
       "      <td>E</td>\n",
       "    </tr>\n",
       "    <tr>\n",
       "      <th>657</th>\n",
       "      <td>Frogger's Adventures: Temple of the Frog</td>\n",
       "      <td>GBA</td>\n",
       "      <td>NaN</td>\n",
       "      <td>Adventure</td>\n",
       "      <td>2.15</td>\n",
       "      <td>0.18</td>\n",
       "      <td>0.0</td>\n",
       "      <td>0.07</td>\n",
       "      <td>73.0</td>\n",
       "      <td>tbd</td>\n",
       "      <td>E</td>\n",
       "    </tr>\n",
       "    <tr>\n",
       "      <th>...</th>\n",
       "      <td>...</td>\n",
       "      <td>...</td>\n",
       "      <td>...</td>\n",
       "      <td>...</td>\n",
       "      <td>...</td>\n",
       "      <td>...</td>\n",
       "      <td>...</td>\n",
       "      <td>...</td>\n",
       "      <td>...</td>\n",
       "      <td>...</td>\n",
       "      <td>...</td>\n",
       "    </tr>\n",
       "    <tr>\n",
       "      <th>16695</th>\n",
       "      <td>Planet Monsters</td>\n",
       "      <td>GBA</td>\n",
       "      <td>2001.0</td>\n",
       "      <td>Action</td>\n",
       "      <td>0.01</td>\n",
       "      <td>0.00</td>\n",
       "      <td>0.0</td>\n",
       "      <td>0.00</td>\n",
       "      <td>67.0</td>\n",
       "      <td>tbd</td>\n",
       "      <td>E</td>\n",
       "    </tr>\n",
       "    <tr>\n",
       "      <th>16697</th>\n",
       "      <td>Bust-A-Move 3000</td>\n",
       "      <td>GC</td>\n",
       "      <td>2003.0</td>\n",
       "      <td>Puzzle</td>\n",
       "      <td>0.01</td>\n",
       "      <td>0.00</td>\n",
       "      <td>0.0</td>\n",
       "      <td>0.00</td>\n",
       "      <td>53.0</td>\n",
       "      <td>tbd</td>\n",
       "      <td>E</td>\n",
       "    </tr>\n",
       "    <tr>\n",
       "      <th>16698</th>\n",
       "      <td>Mega Brain Boost</td>\n",
       "      <td>DS</td>\n",
       "      <td>2008.0</td>\n",
       "      <td>Puzzle</td>\n",
       "      <td>0.01</td>\n",
       "      <td>0.00</td>\n",
       "      <td>0.0</td>\n",
       "      <td>0.00</td>\n",
       "      <td>48.0</td>\n",
       "      <td>tbd</td>\n",
       "      <td>E</td>\n",
       "    </tr>\n",
       "    <tr>\n",
       "      <th>16704</th>\n",
       "      <td>Plushees</td>\n",
       "      <td>DS</td>\n",
       "      <td>2008.0</td>\n",
       "      <td>Simulation</td>\n",
       "      <td>0.01</td>\n",
       "      <td>0.00</td>\n",
       "      <td>0.0</td>\n",
       "      <td>0.00</td>\n",
       "      <td>NaN</td>\n",
       "      <td>tbd</td>\n",
       "      <td>E</td>\n",
       "    </tr>\n",
       "    <tr>\n",
       "      <th>16706</th>\n",
       "      <td>Men in Black II: Alien Escape</td>\n",
       "      <td>GC</td>\n",
       "      <td>2003.0</td>\n",
       "      <td>Shooter</td>\n",
       "      <td>0.01</td>\n",
       "      <td>0.00</td>\n",
       "      <td>0.0</td>\n",
       "      <td>0.00</td>\n",
       "      <td>NaN</td>\n",
       "      <td>tbd</td>\n",
       "      <td>T</td>\n",
       "    </tr>\n",
       "  </tbody>\n",
       "</table>\n",
       "<p>2424 rows × 11 columns</p>\n",
       "</div>"
      ],
      "text/plain": [
       "                                           name platform  year_of_release  \\\n",
       "119                               Zumba Fitness      Wii           2010.0   \n",
       "301              Namco Museum: 50th Anniversary      PS2           2005.0   \n",
       "520                             Zumba Fitness 2      Wii           2011.0   \n",
       "645                                uDraw Studio      Wii           2010.0   \n",
       "657    Frogger's Adventures: Temple of the Frog      GBA              NaN   \n",
       "...                                         ...      ...              ...   \n",
       "16695                           Planet Monsters      GBA           2001.0   \n",
       "16697                          Bust-A-Move 3000       GC           2003.0   \n",
       "16698                          Mega Brain Boost       DS           2008.0   \n",
       "16704                                  Plushees       DS           2008.0   \n",
       "16706             Men in Black II: Alien Escape       GC           2003.0   \n",
       "\n",
       "            genre  na_sales  eu_sales  jp_sales  other_sales  critic_score  \\\n",
       "119        Sports      3.45      2.59       0.0         0.66           NaN   \n",
       "301          Misc      2.08      1.35       0.0         0.54          61.0   \n",
       "520        Sports      1.51      1.03       0.0         0.27           NaN   \n",
       "645          Misc      1.65      0.57       0.0         0.20          71.0   \n",
       "657     Adventure      2.15      0.18       0.0         0.07          73.0   \n",
       "...           ...       ...       ...       ...          ...           ...   \n",
       "16695      Action      0.01      0.00       0.0         0.00          67.0   \n",
       "16697      Puzzle      0.01      0.00       0.0         0.00          53.0   \n",
       "16698      Puzzle      0.01      0.00       0.0         0.00          48.0   \n",
       "16704  Simulation      0.01      0.00       0.0         0.00           NaN   \n",
       "16706     Shooter      0.01      0.00       0.0         0.00           NaN   \n",
       "\n",
       "      user_score rating  \n",
       "119          tbd      E  \n",
       "301          tbd   E10+  \n",
       "520          tbd      T  \n",
       "645          tbd      E  \n",
       "657          tbd      E  \n",
       "...          ...    ...  \n",
       "16695        tbd      E  \n",
       "16697        tbd      E  \n",
       "16698        tbd      E  \n",
       "16704        tbd      E  \n",
       "16706        tbd      T  \n",
       "\n",
       "[2424 rows x 11 columns]"
      ]
     },
     "execution_count": 8,
     "metadata": {},
     "output_type": "execute_result"
    }
   ],
   "source": [
    "df[df['user_score'] == 'tbd']"
   ]
  },
  {
   "cell_type": "markdown",
   "metadata": {},
   "source": [
    "В таблице 2424 значения \"tbd\" - оно значит \"подлежит определению\", заменим на пропуск."
   ]
  },
  {
   "cell_type": "code",
   "execution_count": 9,
   "metadata": {},
   "outputs": [],
   "source": [
    "df.loc[df['user_score'] == 'tbd','user_score'] = np.nan "
   ]
  },
  {
   "cell_type": "code",
   "execution_count": 10,
   "metadata": {},
   "outputs": [
    {
     "data": {
      "text/plain": [
       "array(['8', nan, '8.3', '8.5', '6.6', '8.4', '8.6', '7.7', '6.3', '7.4',\n",
       "       '8.2', '9', '7.9', '8.1', '8.7', '7.1', '3.4', '5.3', '4.8', '3.2',\n",
       "       '8.9', '6.4', '7.8', '7.5', '2.6', '7.2', '9.2', '7', '7.3', '4.3',\n",
       "       '7.6', '5.7', '5', '9.1', '6.5', '8.8', '6.9', '9.4', '6.8', '6.1',\n",
       "       '6.7', '5.4', '4', '4.9', '4.5', '9.3', '6.2', '4.2', '6', '3.7',\n",
       "       '4.1', '5.8', '5.6', '5.5', '4.4', '4.6', '5.9', '3.9', '3.1',\n",
       "       '2.9', '5.2', '3.3', '4.7', '5.1', '3.5', '2.5', '1.9', '3', '2.7',\n",
       "       '2.2', '2', '9.5', '2.1', '3.6', '2.8', '1.8', '3.8', '0', '1.6',\n",
       "       '9.6', '2.4', '1.7', '1.1', '0.3', '1.5', '0.7', '1.2', '2.3',\n",
       "       '0.5', '1.3', '0.2', '0.6', '1.4', '0.9', '1', '9.7'], dtype=object)"
      ]
     },
     "execution_count": 10,
     "metadata": {},
     "output_type": "execute_result"
    }
   ],
   "source": [
    "df['user_score'].unique()"
   ]
  },
  {
   "cell_type": "code",
   "execution_count": 11,
   "metadata": {},
   "outputs": [
    {
     "data": {
      "text/plain": [
       "array([76., nan, 82., 80., 89., 58., 87., 91., 61., 97., 95., 77., 88.,\n",
       "       83., 94., 93., 85., 86., 98., 96., 90., 84., 73., 74., 78., 92.,\n",
       "       71., 72., 68., 62., 49., 67., 81., 66., 56., 79., 70., 59., 64.,\n",
       "       75., 60., 63., 69., 50., 25., 42., 44., 55., 48., 57., 29., 47.,\n",
       "       65., 54., 20., 53., 37., 38., 33., 52., 30., 32., 43., 45., 51.,\n",
       "       40., 46., 39., 34., 35., 41., 36., 28., 31., 27., 26., 19., 23.,\n",
       "       24., 21., 17., 22., 13.])"
      ]
     },
     "execution_count": 11,
     "metadata": {},
     "output_type": "execute_result"
    }
   ],
   "source": [
    "df['critic_score'].unique()"
   ]
  },
  {
   "cell_type": "markdown",
   "metadata": {},
   "source": [
    "Заполню пропуски значением \"-1\". Заполнять оценки средним или медианой плохая идея, это сильно исказит данные. \"0\" тоже не подойдет, такая оценка есть у пользователей. \"-1\" идеальный вариант-индикатор."
   ]
  },
  {
   "cell_type": "code",
   "execution_count": 12,
   "metadata": {},
   "outputs": [],
   "source": [
    "df['critic_score'] = df['critic_score'].fillna(-1)"
   ]
  },
  {
   "cell_type": "code",
   "execution_count": 13,
   "metadata": {},
   "outputs": [],
   "source": [
    "df['user_score'] = df['user_score'].fillna(-1)"
   ]
  },
  {
   "cell_type": "code",
   "execution_count": 14,
   "metadata": {
    "scrolled": true
   },
   "outputs": [
    {
     "data": {
      "text/plain": [
       "array(['E', nan, 'M', 'T', 'E10+', 'K-A', 'AO', 'EC', 'RP'], dtype=object)"
      ]
     },
     "execution_count": 14,
     "metadata": {},
     "output_type": "execute_result"
    }
   ],
   "source": [
    "df['rating'].unique()"
   ]
  },
  {
   "cell_type": "markdown",
   "metadata": {},
   "source": [
    "Уберем пропуски, заменим на 'without rating'"
   ]
  },
  {
   "cell_type": "code",
   "execution_count": 15,
   "metadata": {},
   "outputs": [],
   "source": [
    "df['rating'] = df['rating'].fillna('without rating') "
   ]
  },
  {
   "cell_type": "code",
   "execution_count": 16,
   "metadata": {
    "scrolled": true
   },
   "outputs": [
    {
     "data": {
      "text/html": [
       "<div>\n",
       "<style scoped>\n",
       "    .dataframe tbody tr th:only-of-type {\n",
       "        vertical-align: middle;\n",
       "    }\n",
       "\n",
       "    .dataframe tbody tr th {\n",
       "        vertical-align: top;\n",
       "    }\n",
       "\n",
       "    .dataframe thead th {\n",
       "        text-align: right;\n",
       "    }\n",
       "</style>\n",
       "<table border=\"1\" class=\"dataframe\">\n",
       "  <thead>\n",
       "    <tr style=\"text-align: right;\">\n",
       "      <th></th>\n",
       "      <th>name</th>\n",
       "      <th>platform</th>\n",
       "      <th>year_of_release</th>\n",
       "      <th>genre</th>\n",
       "      <th>na_sales</th>\n",
       "      <th>eu_sales</th>\n",
       "      <th>jp_sales</th>\n",
       "      <th>other_sales</th>\n",
       "      <th>critic_score</th>\n",
       "      <th>user_score</th>\n",
       "      <th>rating</th>\n",
       "    </tr>\n",
       "  </thead>\n",
       "  <tbody>\n",
       "    <tr>\n",
       "      <th>659</th>\n",
       "      <td>NaN</td>\n",
       "      <td>GEN</td>\n",
       "      <td>1993.0</td>\n",
       "      <td>NaN</td>\n",
       "      <td>1.78</td>\n",
       "      <td>0.53</td>\n",
       "      <td>0.00</td>\n",
       "      <td>0.08</td>\n",
       "      <td>-1.0</td>\n",
       "      <td>-1</td>\n",
       "      <td>without rating</td>\n",
       "    </tr>\n",
       "    <tr>\n",
       "      <th>14244</th>\n",
       "      <td>NaN</td>\n",
       "      <td>GEN</td>\n",
       "      <td>1993.0</td>\n",
       "      <td>NaN</td>\n",
       "      <td>0.00</td>\n",
       "      <td>0.00</td>\n",
       "      <td>0.03</td>\n",
       "      <td>0.00</td>\n",
       "      <td>-1.0</td>\n",
       "      <td>-1</td>\n",
       "      <td>without rating</td>\n",
       "    </tr>\n",
       "  </tbody>\n",
       "</table>\n",
       "</div>"
      ],
      "text/plain": [
       "      name platform  year_of_release genre  na_sales  eu_sales  jp_sales  \\\n",
       "659    NaN      GEN           1993.0   NaN      1.78      0.53      0.00   \n",
       "14244  NaN      GEN           1993.0   NaN      0.00      0.00      0.03   \n",
       "\n",
       "       other_sales  critic_score user_score          rating  \n",
       "659           0.08          -1.0         -1  without rating  \n",
       "14244         0.00          -1.0         -1  without rating  "
      ]
     },
     "execution_count": 16,
     "metadata": {},
     "output_type": "execute_result"
    }
   ],
   "source": [
    "df[df['name'].isna()]"
   ]
  },
  {
   "cell_type": "markdown",
   "metadata": {},
   "source": [
    "Всего две игры без имени. Удалю, погоды не сделает."
   ]
  },
  {
   "cell_type": "code",
   "execution_count": 17,
   "metadata": {},
   "outputs": [],
   "source": [
    "df = df.dropna(subset=['name'])"
   ]
  },
  {
   "cell_type": "code",
   "execution_count": 18,
   "metadata": {
    "scrolled": false
   },
   "outputs": [
    {
     "data": {
      "text/html": [
       "<div>\n",
       "<style scoped>\n",
       "    .dataframe tbody tr th:only-of-type {\n",
       "        vertical-align: middle;\n",
       "    }\n",
       "\n",
       "    .dataframe tbody tr th {\n",
       "        vertical-align: top;\n",
       "    }\n",
       "\n",
       "    .dataframe thead th {\n",
       "        text-align: right;\n",
       "    }\n",
       "</style>\n",
       "<table border=\"1\" class=\"dataframe\">\n",
       "  <thead>\n",
       "    <tr style=\"text-align: right;\">\n",
       "      <th></th>\n",
       "      <th>name</th>\n",
       "      <th>platform</th>\n",
       "      <th>year_of_release</th>\n",
       "      <th>genre</th>\n",
       "      <th>na_sales</th>\n",
       "      <th>eu_sales</th>\n",
       "      <th>jp_sales</th>\n",
       "      <th>other_sales</th>\n",
       "      <th>critic_score</th>\n",
       "      <th>user_score</th>\n",
       "      <th>rating</th>\n",
       "    </tr>\n",
       "  </thead>\n",
       "  <tbody>\n",
       "    <tr>\n",
       "      <th>183</th>\n",
       "      <td>Madden NFL 2004</td>\n",
       "      <td>PS2</td>\n",
       "      <td>NaN</td>\n",
       "      <td>Sports</td>\n",
       "      <td>4.26</td>\n",
       "      <td>0.26</td>\n",
       "      <td>0.01</td>\n",
       "      <td>0.71</td>\n",
       "      <td>94.0</td>\n",
       "      <td>8.5</td>\n",
       "      <td>E</td>\n",
       "    </tr>\n",
       "    <tr>\n",
       "      <th>377</th>\n",
       "      <td>FIFA Soccer 2004</td>\n",
       "      <td>PS2</td>\n",
       "      <td>NaN</td>\n",
       "      <td>Sports</td>\n",
       "      <td>0.59</td>\n",
       "      <td>2.36</td>\n",
       "      <td>0.04</td>\n",
       "      <td>0.51</td>\n",
       "      <td>84.0</td>\n",
       "      <td>6.4</td>\n",
       "      <td>E</td>\n",
       "    </tr>\n",
       "    <tr>\n",
       "      <th>456</th>\n",
       "      <td>LEGO Batman: The Videogame</td>\n",
       "      <td>Wii</td>\n",
       "      <td>NaN</td>\n",
       "      <td>Action</td>\n",
       "      <td>1.80</td>\n",
       "      <td>0.97</td>\n",
       "      <td>0.00</td>\n",
       "      <td>0.29</td>\n",
       "      <td>74.0</td>\n",
       "      <td>7.9</td>\n",
       "      <td>E10+</td>\n",
       "    </tr>\n",
       "    <tr>\n",
       "      <th>475</th>\n",
       "      <td>wwe Smackdown vs. Raw 2006</td>\n",
       "      <td>PS2</td>\n",
       "      <td>NaN</td>\n",
       "      <td>Fighting</td>\n",
       "      <td>1.57</td>\n",
       "      <td>1.02</td>\n",
       "      <td>0.00</td>\n",
       "      <td>0.41</td>\n",
       "      <td>-1.0</td>\n",
       "      <td>-1</td>\n",
       "      <td>without rating</td>\n",
       "    </tr>\n",
       "    <tr>\n",
       "      <th>609</th>\n",
       "      <td>Space Invaders</td>\n",
       "      <td>2600</td>\n",
       "      <td>NaN</td>\n",
       "      <td>Shooter</td>\n",
       "      <td>2.36</td>\n",
       "      <td>0.14</td>\n",
       "      <td>0.00</td>\n",
       "      <td>0.03</td>\n",
       "      <td>-1.0</td>\n",
       "      <td>-1</td>\n",
       "      <td>without rating</td>\n",
       "    </tr>\n",
       "    <tr>\n",
       "      <th>...</th>\n",
       "      <td>...</td>\n",
       "      <td>...</td>\n",
       "      <td>...</td>\n",
       "      <td>...</td>\n",
       "      <td>...</td>\n",
       "      <td>...</td>\n",
       "      <td>...</td>\n",
       "      <td>...</td>\n",
       "      <td>...</td>\n",
       "      <td>...</td>\n",
       "      <td>...</td>\n",
       "    </tr>\n",
       "    <tr>\n",
       "      <th>16373</th>\n",
       "      <td>PDC World Championship Darts 2008</td>\n",
       "      <td>PSP</td>\n",
       "      <td>NaN</td>\n",
       "      <td>Sports</td>\n",
       "      <td>0.01</td>\n",
       "      <td>0.00</td>\n",
       "      <td>0.00</td>\n",
       "      <td>0.00</td>\n",
       "      <td>43.0</td>\n",
       "      <td>-1</td>\n",
       "      <td>E10+</td>\n",
       "    </tr>\n",
       "    <tr>\n",
       "      <th>16405</th>\n",
       "      <td>Freaky Flyers</td>\n",
       "      <td>GC</td>\n",
       "      <td>NaN</td>\n",
       "      <td>Racing</td>\n",
       "      <td>0.01</td>\n",
       "      <td>0.00</td>\n",
       "      <td>0.00</td>\n",
       "      <td>0.00</td>\n",
       "      <td>69.0</td>\n",
       "      <td>6.5</td>\n",
       "      <td>T</td>\n",
       "    </tr>\n",
       "    <tr>\n",
       "      <th>16448</th>\n",
       "      <td>Inversion</td>\n",
       "      <td>PC</td>\n",
       "      <td>NaN</td>\n",
       "      <td>Shooter</td>\n",
       "      <td>0.01</td>\n",
       "      <td>0.00</td>\n",
       "      <td>0.00</td>\n",
       "      <td>0.00</td>\n",
       "      <td>59.0</td>\n",
       "      <td>6.7</td>\n",
       "      <td>M</td>\n",
       "    </tr>\n",
       "    <tr>\n",
       "      <th>16458</th>\n",
       "      <td>Hakuouki: Shinsengumi Kitan</td>\n",
       "      <td>PS3</td>\n",
       "      <td>NaN</td>\n",
       "      <td>Adventure</td>\n",
       "      <td>0.01</td>\n",
       "      <td>0.00</td>\n",
       "      <td>0.00</td>\n",
       "      <td>0.00</td>\n",
       "      <td>-1.0</td>\n",
       "      <td>-1</td>\n",
       "      <td>without rating</td>\n",
       "    </tr>\n",
       "    <tr>\n",
       "      <th>16522</th>\n",
       "      <td>Virtua Quest</td>\n",
       "      <td>GC</td>\n",
       "      <td>NaN</td>\n",
       "      <td>Role-Playing</td>\n",
       "      <td>0.01</td>\n",
       "      <td>0.00</td>\n",
       "      <td>0.00</td>\n",
       "      <td>0.00</td>\n",
       "      <td>55.0</td>\n",
       "      <td>5.5</td>\n",
       "      <td>T</td>\n",
       "    </tr>\n",
       "  </tbody>\n",
       "</table>\n",
       "<p>269 rows × 11 columns</p>\n",
       "</div>"
      ],
      "text/plain": [
       "                                    name platform  year_of_release  \\\n",
       "183                      Madden NFL 2004      PS2              NaN   \n",
       "377                     FIFA Soccer 2004      PS2              NaN   \n",
       "456           LEGO Batman: The Videogame      Wii              NaN   \n",
       "475           wwe Smackdown vs. Raw 2006      PS2              NaN   \n",
       "609                       Space Invaders     2600              NaN   \n",
       "...                                  ...      ...              ...   \n",
       "16373  PDC World Championship Darts 2008      PSP              NaN   \n",
       "16405                      Freaky Flyers       GC              NaN   \n",
       "16448                          Inversion       PC              NaN   \n",
       "16458        Hakuouki: Shinsengumi Kitan      PS3              NaN   \n",
       "16522                       Virtua Quest       GC              NaN   \n",
       "\n",
       "              genre  na_sales  eu_sales  jp_sales  other_sales  critic_score  \\\n",
       "183          Sports      4.26      0.26      0.01         0.71          94.0   \n",
       "377          Sports      0.59      2.36      0.04         0.51          84.0   \n",
       "456          Action      1.80      0.97      0.00         0.29          74.0   \n",
       "475        Fighting      1.57      1.02      0.00         0.41          -1.0   \n",
       "609         Shooter      2.36      0.14      0.00         0.03          -1.0   \n",
       "...             ...       ...       ...       ...          ...           ...   \n",
       "16373        Sports      0.01      0.00      0.00         0.00          43.0   \n",
       "16405        Racing      0.01      0.00      0.00         0.00          69.0   \n",
       "16448       Shooter      0.01      0.00      0.00         0.00          59.0   \n",
       "16458     Adventure      0.01      0.00      0.00         0.00          -1.0   \n",
       "16522  Role-Playing      0.01      0.00      0.00         0.00          55.0   \n",
       "\n",
       "      user_score          rating  \n",
       "183          8.5               E  \n",
       "377          6.4               E  \n",
       "456          7.9            E10+  \n",
       "475           -1  without rating  \n",
       "609           -1  without rating  \n",
       "...          ...             ...  \n",
       "16373         -1            E10+  \n",
       "16405        6.5               T  \n",
       "16448        6.7               M  \n",
       "16458         -1  without rating  \n",
       "16522        5.5               T  \n",
       "\n",
       "[269 rows x 11 columns]"
      ]
     },
     "execution_count": 18,
     "metadata": {},
     "output_type": "execute_result"
    }
   ],
   "source": [
    "df[df['year_of_release'].isna()]"
   ]
  },
  {
   "cell_type": "markdown",
   "metadata": {},
   "source": [
    "Колонка \"year_of_release\" имеет 269 пропусков. Это 1.5% от строк в df, не значительное количество, удаляю."
   ]
  },
  {
   "cell_type": "code",
   "execution_count": 19,
   "metadata": {},
   "outputs": [],
   "source": [
    "df = df.dropna(subset=['year_of_release'])"
   ]
  },
  {
   "cell_type": "code",
   "execution_count": 20,
   "metadata": {},
   "outputs": [],
   "source": [
    "df = df.astype({ \"year_of_release\": \"int\", \"critic_score\": \"int\", \"user_score\": \"float\"})"
   ]
  },
  {
   "cell_type": "code",
   "execution_count": 21,
   "metadata": {},
   "outputs": [
    {
     "data": {
      "text/html": [
       "<div>\n",
       "<style scoped>\n",
       "    .dataframe tbody tr th:only-of-type {\n",
       "        vertical-align: middle;\n",
       "    }\n",
       "\n",
       "    .dataframe tbody tr th {\n",
       "        vertical-align: top;\n",
       "    }\n",
       "\n",
       "    .dataframe thead th {\n",
       "        text-align: right;\n",
       "    }\n",
       "</style>\n",
       "<table border=\"1\" class=\"dataframe\">\n",
       "  <thead>\n",
       "    <tr style=\"text-align: right;\">\n",
       "      <th></th>\n",
       "      <th>name</th>\n",
       "      <th>platform</th>\n",
       "      <th>year_of_release</th>\n",
       "      <th>genre</th>\n",
       "      <th>na_sales</th>\n",
       "      <th>eu_sales</th>\n",
       "      <th>jp_sales</th>\n",
       "      <th>other_sales</th>\n",
       "      <th>critic_score</th>\n",
       "      <th>user_score</th>\n",
       "      <th>rating</th>\n",
       "    </tr>\n",
       "  </thead>\n",
       "  <tbody>\n",
       "    <tr>\n",
       "      <th>0</th>\n",
       "      <td>Wii Sports</td>\n",
       "      <td>Wii</td>\n",
       "      <td>2006</td>\n",
       "      <td>Sports</td>\n",
       "      <td>41.36</td>\n",
       "      <td>28.96</td>\n",
       "      <td>3.77</td>\n",
       "      <td>8.45</td>\n",
       "      <td>76</td>\n",
       "      <td>8.0</td>\n",
       "      <td>E</td>\n",
       "    </tr>\n",
       "    <tr>\n",
       "      <th>1</th>\n",
       "      <td>Super Mario Bros.</td>\n",
       "      <td>NES</td>\n",
       "      <td>1985</td>\n",
       "      <td>Platform</td>\n",
       "      <td>29.08</td>\n",
       "      <td>3.58</td>\n",
       "      <td>6.81</td>\n",
       "      <td>0.77</td>\n",
       "      <td>-1</td>\n",
       "      <td>-1.0</td>\n",
       "      <td>without rating</td>\n",
       "    </tr>\n",
       "    <tr>\n",
       "      <th>2</th>\n",
       "      <td>Mario Kart Wii</td>\n",
       "      <td>Wii</td>\n",
       "      <td>2008</td>\n",
       "      <td>Racing</td>\n",
       "      <td>15.68</td>\n",
       "      <td>12.76</td>\n",
       "      <td>3.79</td>\n",
       "      <td>3.29</td>\n",
       "      <td>82</td>\n",
       "      <td>8.3</td>\n",
       "      <td>E</td>\n",
       "    </tr>\n",
       "    <tr>\n",
       "      <th>3</th>\n",
       "      <td>Wii Sports Resort</td>\n",
       "      <td>Wii</td>\n",
       "      <td>2009</td>\n",
       "      <td>Sports</td>\n",
       "      <td>15.61</td>\n",
       "      <td>10.93</td>\n",
       "      <td>3.28</td>\n",
       "      <td>2.95</td>\n",
       "      <td>80</td>\n",
       "      <td>8.0</td>\n",
       "      <td>E</td>\n",
       "    </tr>\n",
       "    <tr>\n",
       "      <th>4</th>\n",
       "      <td>Pokemon Red/Pokemon Blue</td>\n",
       "      <td>GB</td>\n",
       "      <td>1996</td>\n",
       "      <td>Role-Playing</td>\n",
       "      <td>11.27</td>\n",
       "      <td>8.89</td>\n",
       "      <td>10.22</td>\n",
       "      <td>1.00</td>\n",
       "      <td>-1</td>\n",
       "      <td>-1.0</td>\n",
       "      <td>without rating</td>\n",
       "    </tr>\n",
       "  </tbody>\n",
       "</table>\n",
       "</div>"
      ],
      "text/plain": [
       "                       name platform  year_of_release         genre  na_sales  \\\n",
       "0                Wii Sports      Wii             2006        Sports     41.36   \n",
       "1         Super Mario Bros.      NES             1985      Platform     29.08   \n",
       "2            Mario Kart Wii      Wii             2008        Racing     15.68   \n",
       "3         Wii Sports Resort      Wii             2009        Sports     15.61   \n",
       "4  Pokemon Red/Pokemon Blue       GB             1996  Role-Playing     11.27   \n",
       "\n",
       "   eu_sales  jp_sales  other_sales  critic_score  user_score          rating  \n",
       "0     28.96      3.77         8.45            76         8.0               E  \n",
       "1      3.58      6.81         0.77            -1        -1.0  without rating  \n",
       "2     12.76      3.79         3.29            82         8.3               E  \n",
       "3     10.93      3.28         2.95            80         8.0               E  \n",
       "4      8.89     10.22         1.00            -1        -1.0  without rating  "
      ]
     },
     "execution_count": 21,
     "metadata": {},
     "output_type": "execute_result"
    }
   ],
   "source": [
    "df.head()"
   ]
  },
  {
   "cell_type": "code",
   "execution_count": 22,
   "metadata": {},
   "outputs": [
    {
     "name": "stdout",
     "output_type": "stream",
     "text": [
      "<class 'pandas.core.frame.DataFrame'>\n",
      "Int64Index: 16444 entries, 0 to 16714\n",
      "Data columns (total 11 columns):\n",
      " #   Column           Non-Null Count  Dtype  \n",
      "---  ------           --------------  -----  \n",
      " 0   name             16444 non-null  object \n",
      " 1   platform         16444 non-null  object \n",
      " 2   year_of_release  16444 non-null  int64  \n",
      " 3   genre            16444 non-null  object \n",
      " 4   na_sales         16444 non-null  float64\n",
      " 5   eu_sales         16444 non-null  float64\n",
      " 6   jp_sales         16444 non-null  float64\n",
      " 7   other_sales      16444 non-null  float64\n",
      " 8   critic_score     16444 non-null  int64  \n",
      " 9   user_score       16444 non-null  float64\n",
      " 10  rating           16444 non-null  object \n",
      "dtypes: float64(5), int64(2), object(4)\n",
      "memory usage: 1.5+ MB\n"
     ]
    }
   ],
   "source": [
    "df.info()"
   ]
  },
  {
   "cell_type": "code",
   "execution_count": 23,
   "metadata": {},
   "outputs": [],
   "source": [
    "df['total_sales'] = df['eu_sales'] + df['na_sales'] + df['jp_sales'] + df['other_sales']"
   ]
  },
  {
   "cell_type": "code",
   "execution_count": 24,
   "metadata": {},
   "outputs": [
    {
     "data": {
      "text/plain": [
       "0"
      ]
     },
     "execution_count": 24,
     "metadata": {},
     "output_type": "execute_result"
    }
   ],
   "source": [
    "df.duplicated().sum() #дубликатов нет"
   ]
  },
  {
   "cell_type": "markdown",
   "metadata": {},
   "source": [
    "## **Шаг. Проведите исследовательский анализ данных**\n",
    "\n",
    "- Посмотрите, сколько игр выпускалось в разные годы. Важны ли данные за все периоды?\n",
    "- Посмотрите, как менялись продажи по платформам. Выберите платформы с наибольшими суммарными продажами и постройте распределение по годам. За какой характерный срок появляются новые и исчезают старые платформы?\n",
    "- Возьмите данные за соответствующий актуальный период. Актуальный период определите самостоятельно в результате исследования предыдущих вопросов. Основной фактор — эти данные помогут построить прогноз на 2017 год.\n",
    "- Не учитывайте в работе данные за предыдущие годы.\n",
    "- Какие платформы лидируют по продажам, растут или падают? Выберите несколько потенциально прибыльных платформ.\n",
    "- Постройте график «ящик с усами» по глобальным продажам игр в разбивке по платформам. Опишите результат.\n",
    "- Посмотрите, как влияют на продажи внутри одной популярной платформы отзывы пользователей и критиков. Постройте диаграмму рассеяния и посчитайте корреляцию между отзывами и продажами. Сформулируйте выводы.\n",
    "- Соотнесите выводы с продажами игр на других платформах.\n",
    "- Посмотрите на общее распределение игр по жанрам. Что можно сказать о самых прибыльных жанрах? Выделяются ли жанры с высокими и низкими продажами?"
   ]
  },
  {
   "cell_type": "code",
   "execution_count": 25,
   "metadata": {},
   "outputs": [
    {
     "data": {
      "text/html": [
       "<div>\n",
       "<style scoped>\n",
       "    .dataframe tbody tr th:only-of-type {\n",
       "        vertical-align: middle;\n",
       "    }\n",
       "\n",
       "    .dataframe tbody tr th {\n",
       "        vertical-align: top;\n",
       "    }\n",
       "\n",
       "    .dataframe thead th {\n",
       "        text-align: right;\n",
       "    }\n",
       "</style>\n",
       "<table border=\"1\" class=\"dataframe\">\n",
       "  <thead>\n",
       "    <tr style=\"text-align: right;\">\n",
       "      <th></th>\n",
       "      <th>name</th>\n",
       "      <th>platform</th>\n",
       "      <th>year_of_release</th>\n",
       "      <th>genre</th>\n",
       "      <th>na_sales</th>\n",
       "      <th>eu_sales</th>\n",
       "      <th>jp_sales</th>\n",
       "      <th>other_sales</th>\n",
       "      <th>critic_score</th>\n",
       "      <th>user_score</th>\n",
       "      <th>rating</th>\n",
       "      <th>total_sales</th>\n",
       "    </tr>\n",
       "  </thead>\n",
       "  <tbody>\n",
       "    <tr>\n",
       "      <th>0</th>\n",
       "      <td>Wii Sports</td>\n",
       "      <td>Wii</td>\n",
       "      <td>2006</td>\n",
       "      <td>Sports</td>\n",
       "      <td>41.36</td>\n",
       "      <td>28.96</td>\n",
       "      <td>3.77</td>\n",
       "      <td>8.45</td>\n",
       "      <td>76</td>\n",
       "      <td>8.0</td>\n",
       "      <td>E</td>\n",
       "      <td>82.54</td>\n",
       "    </tr>\n",
       "    <tr>\n",
       "      <th>1</th>\n",
       "      <td>Super Mario Bros.</td>\n",
       "      <td>NES</td>\n",
       "      <td>1985</td>\n",
       "      <td>Platform</td>\n",
       "      <td>29.08</td>\n",
       "      <td>3.58</td>\n",
       "      <td>6.81</td>\n",
       "      <td>0.77</td>\n",
       "      <td>-1</td>\n",
       "      <td>-1.0</td>\n",
       "      <td>without rating</td>\n",
       "      <td>40.24</td>\n",
       "    </tr>\n",
       "    <tr>\n",
       "      <th>2</th>\n",
       "      <td>Mario Kart Wii</td>\n",
       "      <td>Wii</td>\n",
       "      <td>2008</td>\n",
       "      <td>Racing</td>\n",
       "      <td>15.68</td>\n",
       "      <td>12.76</td>\n",
       "      <td>3.79</td>\n",
       "      <td>3.29</td>\n",
       "      <td>82</td>\n",
       "      <td>8.3</td>\n",
       "      <td>E</td>\n",
       "      <td>35.52</td>\n",
       "    </tr>\n",
       "    <tr>\n",
       "      <th>3</th>\n",
       "      <td>Wii Sports Resort</td>\n",
       "      <td>Wii</td>\n",
       "      <td>2009</td>\n",
       "      <td>Sports</td>\n",
       "      <td>15.61</td>\n",
       "      <td>10.93</td>\n",
       "      <td>3.28</td>\n",
       "      <td>2.95</td>\n",
       "      <td>80</td>\n",
       "      <td>8.0</td>\n",
       "      <td>E</td>\n",
       "      <td>32.77</td>\n",
       "    </tr>\n",
       "    <tr>\n",
       "      <th>4</th>\n",
       "      <td>Pokemon Red/Pokemon Blue</td>\n",
       "      <td>GB</td>\n",
       "      <td>1996</td>\n",
       "      <td>Role-Playing</td>\n",
       "      <td>11.27</td>\n",
       "      <td>8.89</td>\n",
       "      <td>10.22</td>\n",
       "      <td>1.00</td>\n",
       "      <td>-1</td>\n",
       "      <td>-1.0</td>\n",
       "      <td>without rating</td>\n",
       "      <td>31.38</td>\n",
       "    </tr>\n",
       "  </tbody>\n",
       "</table>\n",
       "</div>"
      ],
      "text/plain": [
       "                       name platform  year_of_release         genre  na_sales  \\\n",
       "0                Wii Sports      Wii             2006        Sports     41.36   \n",
       "1         Super Mario Bros.      NES             1985      Platform     29.08   \n",
       "2            Mario Kart Wii      Wii             2008        Racing     15.68   \n",
       "3         Wii Sports Resort      Wii             2009        Sports     15.61   \n",
       "4  Pokemon Red/Pokemon Blue       GB             1996  Role-Playing     11.27   \n",
       "\n",
       "   eu_sales  jp_sales  other_sales  critic_score  user_score          rating  \\\n",
       "0     28.96      3.77         8.45            76         8.0               E   \n",
       "1      3.58      6.81         0.77            -1        -1.0  without rating   \n",
       "2     12.76      3.79         3.29            82         8.3               E   \n",
       "3     10.93      3.28         2.95            80         8.0               E   \n",
       "4      8.89     10.22         1.00            -1        -1.0  without rating   \n",
       "\n",
       "   total_sales  \n",
       "0        82.54  \n",
       "1        40.24  \n",
       "2        35.52  \n",
       "3        32.77  \n",
       "4        31.38  "
      ]
     },
     "execution_count": 25,
     "metadata": {},
     "output_type": "execute_result"
    }
   ],
   "source": [
    "df.head()"
   ]
  },
  {
   "cell_type": "code",
   "execution_count": 26,
   "metadata": {},
   "outputs": [
    {
     "data": {
      "text/html": [
       "<div>\n",
       "<style scoped>\n",
       "    .dataframe tbody tr th:only-of-type {\n",
       "        vertical-align: middle;\n",
       "    }\n",
       "\n",
       "    .dataframe tbody tr th {\n",
       "        vertical-align: top;\n",
       "    }\n",
       "\n",
       "    .dataframe thead th {\n",
       "        text-align: right;\n",
       "    }\n",
       "</style>\n",
       "<table border=\"1\" class=\"dataframe\">\n",
       "  <thead>\n",
       "    <tr style=\"text-align: right;\">\n",
       "      <th></th>\n",
       "      <th>count</th>\n",
       "      <th>mean</th>\n",
       "      <th>std</th>\n",
       "      <th>min</th>\n",
       "      <th>25%</th>\n",
       "      <th>50%</th>\n",
       "      <th>75%</th>\n",
       "      <th>max</th>\n",
       "    </tr>\n",
       "  </thead>\n",
       "  <tbody>\n",
       "    <tr>\n",
       "      <th>year_of_release</th>\n",
       "      <td>16444.0</td>\n",
       "      <td>2006.486256</td>\n",
       "      <td>5.875525</td>\n",
       "      <td>1980.0</td>\n",
       "      <td>2003.00</td>\n",
       "      <td>2007.00</td>\n",
       "      <td>2010.00</td>\n",
       "      <td>2016.00</td>\n",
       "    </tr>\n",
       "    <tr>\n",
       "      <th>na_sales</th>\n",
       "      <td>16444.0</td>\n",
       "      <td>0.264012</td>\n",
       "      <td>0.818378</td>\n",
       "      <td>0.0</td>\n",
       "      <td>0.00</td>\n",
       "      <td>0.08</td>\n",
       "      <td>0.24</td>\n",
       "      <td>41.36</td>\n",
       "    </tr>\n",
       "    <tr>\n",
       "      <th>eu_sales</th>\n",
       "      <td>16444.0</td>\n",
       "      <td>0.145930</td>\n",
       "      <td>0.506716</td>\n",
       "      <td>0.0</td>\n",
       "      <td>0.00</td>\n",
       "      <td>0.02</td>\n",
       "      <td>0.11</td>\n",
       "      <td>28.96</td>\n",
       "    </tr>\n",
       "    <tr>\n",
       "      <th>jp_sales</th>\n",
       "      <td>16444.0</td>\n",
       "      <td>0.078487</td>\n",
       "      <td>0.311100</td>\n",
       "      <td>0.0</td>\n",
       "      <td>0.00</td>\n",
       "      <td>0.00</td>\n",
       "      <td>0.04</td>\n",
       "      <td>10.22</td>\n",
       "    </tr>\n",
       "    <tr>\n",
       "      <th>other_sales</th>\n",
       "      <td>16444.0</td>\n",
       "      <td>0.047594</td>\n",
       "      <td>0.188005</td>\n",
       "      <td>0.0</td>\n",
       "      <td>0.00</td>\n",
       "      <td>0.01</td>\n",
       "      <td>0.03</td>\n",
       "      <td>10.57</td>\n",
       "    </tr>\n",
       "    <tr>\n",
       "      <th>critic_score</th>\n",
       "      <td>16444.0</td>\n",
       "      <td>32.979871</td>\n",
       "      <td>36.302947</td>\n",
       "      <td>-1.0</td>\n",
       "      <td>-1.00</td>\n",
       "      <td>-1.00</td>\n",
       "      <td>70.00</td>\n",
       "      <td>98.00</td>\n",
       "    </tr>\n",
       "    <tr>\n",
       "      <th>user_score</th>\n",
       "      <td>16444.0</td>\n",
       "      <td>2.688081</td>\n",
       "      <td>4.170124</td>\n",
       "      <td>-1.0</td>\n",
       "      <td>-1.00</td>\n",
       "      <td>-1.00</td>\n",
       "      <td>7.30</td>\n",
       "      <td>9.70</td>\n",
       "    </tr>\n",
       "    <tr>\n",
       "      <th>total_sales</th>\n",
       "      <td>16444.0</td>\n",
       "      <td>0.536023</td>\n",
       "      <td>1.558786</td>\n",
       "      <td>0.0</td>\n",
       "      <td>0.06</td>\n",
       "      <td>0.17</td>\n",
       "      <td>0.47</td>\n",
       "      <td>82.54</td>\n",
       "    </tr>\n",
       "  </tbody>\n",
       "</table>\n",
       "</div>"
      ],
      "text/plain": [
       "                   count         mean        std     min      25%      50%  \\\n",
       "year_of_release  16444.0  2006.486256   5.875525  1980.0  2003.00  2007.00   \n",
       "na_sales         16444.0     0.264012   0.818378     0.0     0.00     0.08   \n",
       "eu_sales         16444.0     0.145930   0.506716     0.0     0.00     0.02   \n",
       "jp_sales         16444.0     0.078487   0.311100     0.0     0.00     0.00   \n",
       "other_sales      16444.0     0.047594   0.188005     0.0     0.00     0.01   \n",
       "critic_score     16444.0    32.979871  36.302947    -1.0    -1.00    -1.00   \n",
       "user_score       16444.0     2.688081   4.170124    -1.0    -1.00    -1.00   \n",
       "total_sales      16444.0     0.536023   1.558786     0.0     0.06     0.17   \n",
       "\n",
       "                     75%      max  \n",
       "year_of_release  2010.00  2016.00  \n",
       "na_sales            0.24    41.36  \n",
       "eu_sales            0.11    28.96  \n",
       "jp_sales            0.04    10.22  \n",
       "other_sales         0.03    10.57  \n",
       "critic_score       70.00    98.00  \n",
       "user_score          7.30     9.70  \n",
       "total_sales         0.47    82.54  "
      ]
     },
     "execution_count": 26,
     "metadata": {},
     "output_type": "execute_result"
    }
   ],
   "source": [
    "df.describe().T"
   ]
  },
  {
   "cell_type": "code",
   "execution_count": 27,
   "metadata": {},
   "outputs": [
    {
     "data": {
      "image/png": "[encoded data removed]",
      "text/plain": [
       "<Figure size 1080x360 with 1 Axes>"
      ]
     },
     "metadata": {
      "needs_background": "light"
     },
     "output_type": "display_data"
    }
   ],
   "source": [
    "df['year_of_release'].hist(bins=74, figsize=(15,5), ec='black');\n",
    "plt.title('Распределение выпуска игр по годам')\n",
    "plt.show()"
   ]
  },
  {
   "cell_type": "markdown",
   "metadata": {},
   "source": [
    "**Комментарий**\n",
    "\n",
    "Первые игры начали выпускать в 80-х. До 90 года игр выпускалось крайне мало. В 1990 году появилась первая ОС (Windows 3.0) с графическим интерфейсом. Возможно, это послужило толчком к развитию индустрии игр, та как после 90 года видна намечающаяся тенденция роста количества компьютерных игр. Пока что еще мощности ПК малы, но начиная с 95 года начинается бурный рост. И так до 2009 года. После начался спад, возможно это связано с насыщением рынка и развитием мобильных телефонов, которые здесь не отражены.\n",
    "\n",
    "Согласно исходных условий мы прогнозируем кампанию на 2017 год. Игры слишком быстро приобретают и теряют популярность. Думаю, что актуальный период для прогноза - не ранее 2012 года. Плюс-минус 5 лет достаточный срок для \"жизни\" игры. (если не брать в расчёт мега популярные хиты)."
   ]
  },
  {
   "cell_type": "markdown",
   "metadata": {},
   "source": [
    "**Посмотрите, как менялись продажи по платформам. Выберите платформы с наибольшими суммарными продажами и постройте распределение по годам. За какой характерный срок появляются новые и исчезают старые платформы?**"
   ]
  },
  {
   "cell_type": "code",
   "execution_count": 28,
   "metadata": {},
   "outputs": [
    {
     "data": {
      "text/html": [
       "<div>\n",
       "<style scoped>\n",
       "    .dataframe tbody tr th:only-of-type {\n",
       "        vertical-align: middle;\n",
       "    }\n",
       "\n",
       "    .dataframe tbody tr th {\n",
       "        vertical-align: top;\n",
       "    }\n",
       "\n",
       "    .dataframe thead th {\n",
       "        text-align: right;\n",
       "    }\n",
       "</style>\n",
       "<table border=\"1\" class=\"dataframe\">\n",
       "  <thead>\n",
       "    <tr style=\"text-align: right;\">\n",
       "      <th>platform</th>\n",
       "      <th>PS2</th>\n",
       "      <th>X360</th>\n",
       "      <th>PS3</th>\n",
       "      <th>Wii</th>\n",
       "      <th>DS</th>\n",
       "      <th>PS</th>\n",
       "      <th>PS4</th>\n",
       "      <th>GBA</th>\n",
       "      <th>PSP</th>\n",
       "      <th>3DS</th>\n",
       "      <th>PC</th>\n",
       "      <th>GB</th>\n",
       "      <th>XB</th>\n",
       "      <th>NES</th>\n",
       "      <th>N64</th>\n",
       "      <th>SNES</th>\n",
       "      <th>GC</th>\n",
       "      <th>XOne</th>\n",
       "      <th>2600</th>\n",
       "      <th>WiiU</th>\n",
       "      <th>PSV</th>\n",
       "      <th>SAT</th>\n",
       "      <th>GEN</th>\n",
       "      <th>DC</th>\n",
       "      <th>SCD</th>\n",
       "      <th>NG</th>\n",
       "      <th>WS</th>\n",
       "      <th>TG16</th>\n",
       "      <th>3DO</th>\n",
       "      <th>GG</th>\n",
       "      <th>PCFX</th>\n",
       "    </tr>\n",
       "  </thead>\n",
       "  <tbody>\n",
       "    <tr>\n",
       "      <th>total_sales</th>\n",
       "      <td>1233.56</td>\n",
       "      <td>961.24</td>\n",
       "      <td>931.34</td>\n",
       "      <td>891.18</td>\n",
       "      <td>802.78</td>\n",
       "      <td>727.58</td>\n",
       "      <td>314.14</td>\n",
       "      <td>312.88</td>\n",
       "      <td>289.53</td>\n",
       "      <td>257.81</td>\n",
       "      <td>255.76</td>\n",
       "      <td>254.43</td>\n",
       "      <td>251.57</td>\n",
       "      <td>251.05</td>\n",
       "      <td>218.01</td>\n",
       "      <td>200.04</td>\n",
       "      <td>196.73</td>\n",
       "      <td>159.32</td>\n",
       "      <td>86.48</td>\n",
       "      <td>82.19</td>\n",
       "      <td>53.81</td>\n",
       "      <td>33.59</td>\n",
       "      <td>28.35</td>\n",
       "      <td>15.95</td>\n",
       "      <td>1.86</td>\n",
       "      <td>1.44</td>\n",
       "      <td>1.42</td>\n",
       "      <td>0.16</td>\n",
       "      <td>0.1</td>\n",
       "      <td>0.04</td>\n",
       "      <td>0.03</td>\n",
       "    </tr>\n",
       "  </tbody>\n",
       "</table>\n",
       "</div>"
      ],
      "text/plain": [
       "platform         PS2    X360     PS3     Wii      DS      PS     PS4     GBA  \\\n",
       "total_sales  1233.56  961.24  931.34  891.18  802.78  727.58  314.14  312.88   \n",
       "\n",
       "platform        PSP     3DS      PC      GB      XB     NES     N64    SNES  \\\n",
       "total_sales  289.53  257.81  255.76  254.43  251.57  251.05  218.01  200.04   \n",
       "\n",
       "platform         GC    XOne   2600   WiiU    PSV    SAT    GEN     DC   SCD  \\\n",
       "total_sales  196.73  159.32  86.48  82.19  53.81  33.59  28.35  15.95  1.86   \n",
       "\n",
       "platform       NG    WS  TG16  3DO    GG  PCFX  \n",
       "total_sales  1.44  1.42  0.16  0.1  0.04  0.03  "
      ]
     },
     "execution_count": 28,
     "metadata": {},
     "output_type": "execute_result"
    }
   ],
   "source": [
    "df.groupby('platform').agg({'total_sales': 'sum'}).sort_values(by='total_sales', ascending=False).T"
   ]
  },
  {
   "cell_type": "code",
   "execution_count": 29,
   "metadata": {},
   "outputs": [],
   "source": [
    "#df[df['platform']=='PS2'].hist('year_of_release', bins=11, figsize=(15,5), ec='black');"
   ]
  },
  {
   "cell_type": "code",
   "execution_count": 30,
   "metadata": {},
   "outputs": [],
   "source": [
    "plf = df.groupby('platform')['total_sales'].sum().sort_values().reset_index()\n",
    "pop_platforms = plf.loc[17:30, 'platform'].values"
   ]
  },
  {
   "cell_type": "code",
   "execution_count": 31,
   "metadata": {},
   "outputs": [
    {
     "data": {
      "image/png": "[encoded data removed]",
      "text/plain": [
       "<Figure size 1296x432 with 1 Axes>"
      ]
     },
     "metadata": {
      "needs_background": "light"
     },
     "output_type": "display_data"
    }
   ],
   "source": [
    "plt.figure(figsize=(18, 6))\n",
    "plt.grid()\n",
    "plt.title('Объёмы продаж на разных платформах')\n",
    "\n",
    "for i in range(0, len(pop_platforms)):\n",
    "    platform  = df.query('platform == @pop_platforms[@i]').groupby('year_of_release')['total_sales'].sum()\n",
    "    platform.plot(x=platform.index, y=platform.values, label=pop_platforms[i], linewidth=5, alpha=0.75, grid=True);\n",
    "plt.xlabel('Год')    \n",
    "plt.ylabel('Объём продаж')\n",
    "plt.legend()\n",
    "plt.show();"
   ]
  },
  {
   "cell_type": "markdown",
   "metadata": {},
   "source": [
    "**Вывод**\n",
    "\n",
    "Средняя продолжительность жизни платформы - 10 лет. Особенно хорошо это видно на примере платформ от Sony. Каждое поколение \"живет\" примерно 10 лет.\n",
    "\n",
    "Самые долгоживущие платформы - PC, DS."
   ]
  },
  {
   "cell_type": "markdown",
   "metadata": {},
   "source": [
    "**Возьмите данные за соответствующий актуальный период. Актуальный период определите самостоятельно в результате исследования предыдущих вопросов. Основной фактор — эти данные помогут построить прогноз на 2017 год.**\n",
    "\n",
    "**Не учитывайте в работе данные за предыдущие годы.**\n",
    "\n",
    "**Какие платформы лидируют по продажам, растут или падают? Выберите несколько потенциально прибыльных платформ.**"
   ]
  },
  {
   "cell_type": "markdown",
   "metadata": {},
   "source": [
    "Актуальным периодом будем считать данные с 2013 года, так как игровая индустрия быстро развивается и не стоит на месте."
   ]
  },
  {
   "cell_type": "code",
   "execution_count": 32,
   "metadata": {},
   "outputs": [
    {
     "data": {
      "text/html": [
       "<div>\n",
       "<style scoped>\n",
       "    .dataframe tbody tr th:only-of-type {\n",
       "        vertical-align: middle;\n",
       "    }\n",
       "\n",
       "    .dataframe tbody tr th {\n",
       "        vertical-align: top;\n",
       "    }\n",
       "\n",
       "    .dataframe thead th {\n",
       "        text-align: right;\n",
       "    }\n",
       "</style>\n",
       "<table border=\"1\" class=\"dataframe\">\n",
       "  <thead>\n",
       "    <tr style=\"text-align: right;\">\n",
       "      <th>platform</th>\n",
       "      <th>year_of_release</th>\n",
       "      <th>3DS</th>\n",
       "      <th>DS</th>\n",
       "      <th>PC</th>\n",
       "      <th>PS3</th>\n",
       "      <th>PS4</th>\n",
       "      <th>PSP</th>\n",
       "      <th>PSV</th>\n",
       "      <th>Wii</th>\n",
       "      <th>WiiU</th>\n",
       "      <th>X360</th>\n",
       "      <th>XOne</th>\n",
       "    </tr>\n",
       "  </thead>\n",
       "  <tbody>\n",
       "    <tr>\n",
       "      <th>0</th>\n",
       "      <td>2013</td>\n",
       "      <td>56.57</td>\n",
       "      <td>1.54</td>\n",
       "      <td>12.38</td>\n",
       "      <td>113.25</td>\n",
       "      <td>25.99</td>\n",
       "      <td>3.14</td>\n",
       "      <td>10.59</td>\n",
       "      <td>8.59</td>\n",
       "      <td>21.65</td>\n",
       "      <td>88.58</td>\n",
       "      <td>18.96</td>\n",
       "    </tr>\n",
       "    <tr>\n",
       "      <th>1</th>\n",
       "      <td>2014</td>\n",
       "      <td>43.76</td>\n",
       "      <td>0.00</td>\n",
       "      <td>13.28</td>\n",
       "      <td>47.76</td>\n",
       "      <td>100.00</td>\n",
       "      <td>0.24</td>\n",
       "      <td>11.90</td>\n",
       "      <td>3.75</td>\n",
       "      <td>22.03</td>\n",
       "      <td>34.74</td>\n",
       "      <td>54.07</td>\n",
       "    </tr>\n",
       "    <tr>\n",
       "      <th>2</th>\n",
       "      <td>2015</td>\n",
       "      <td>27.78</td>\n",
       "      <td>0.00</td>\n",
       "      <td>8.52</td>\n",
       "      <td>16.82</td>\n",
       "      <td>118.90</td>\n",
       "      <td>0.12</td>\n",
       "      <td>6.25</td>\n",
       "      <td>1.14</td>\n",
       "      <td>16.35</td>\n",
       "      <td>11.96</td>\n",
       "      <td>60.14</td>\n",
       "    </tr>\n",
       "    <tr>\n",
       "      <th>3</th>\n",
       "      <td>2016</td>\n",
       "      <td>15.14</td>\n",
       "      <td>0.00</td>\n",
       "      <td>5.25</td>\n",
       "      <td>3.60</td>\n",
       "      <td>69.25</td>\n",
       "      <td>0.00</td>\n",
       "      <td>4.25</td>\n",
       "      <td>0.18</td>\n",
       "      <td>4.60</td>\n",
       "      <td>1.52</td>\n",
       "      <td>26.15</td>\n",
       "    </tr>\n",
       "  </tbody>\n",
       "</table>\n",
       "</div>"
      ],
      "text/plain": [
       "platform  year_of_release    3DS    DS     PC     PS3     PS4   PSP    PSV  \\\n",
       "0                    2013  56.57  1.54  12.38  113.25   25.99  3.14  10.59   \n",
       "1                    2014  43.76  0.00  13.28   47.76  100.00  0.24  11.90   \n",
       "2                    2015  27.78  0.00   8.52   16.82  118.90  0.12   6.25   \n",
       "3                    2016  15.14  0.00   5.25    3.60   69.25  0.00   4.25   \n",
       "\n",
       "platform   Wii   WiiU   X360   XOne  \n",
       "0         8.59  21.65  88.58  18.96  \n",
       "1         3.75  22.03  34.74  54.07  \n",
       "2         1.14  16.35  11.96  60.14  \n",
       "3         0.18   4.60   1.52  26.15  "
      ]
     },
     "metadata": {},
     "output_type": "display_data"
    }
   ],
   "source": [
    "df_05 = df.pivot_table(index='year_of_release', columns='platform', values='total_sales', aggfunc='sum').\\\n",
    "    query('year_of_release>2012').fillna(0).reset_index()\n",
    "df_05['year_of_release'] = df_05['year_of_release'].astype('Int64')\n",
    "\n",
    "for column in df_05.columns:\n",
    "    if df_05[column].sum()==0:\n",
    "        df_05.drop(column, axis=1,inplace=True)\n",
    "\n",
    "display(df_05)"
   ]
  },
  {
   "cell_type": "code",
   "execution_count": 33,
   "metadata": {},
   "outputs": [
    {
     "data": {
      "image/png": "[encoded data removed]",
      "text/plain": [
       "<Figure size 1080x504 with 1 Axes>"
      ]
     },
     "metadata": {
      "needs_background": "light"
     },
     "output_type": "display_data"
    }
   ],
   "source": [
    "plt.figure(figsize=(15, 7))\n",
    "plt.grid()\n",
    "plt.title('Объёмы продаж на разных платформах по годам')\n",
    "\n",
    "i=0\n",
    "for column in df_05.columns[1:]:\n",
    "    plt.plot(df_05['year_of_release'].to_list(), df_05[column].to_list(), label=column, alpha=0.95);\n",
    "    i+=1 # В верхней строчке выдает ошибку\n",
    "\n",
    "plt.grid()\n",
    "plt.xlabel('Расчетный год')    \n",
    "plt.ylabel('Объём продаж за год')\n",
    "plt.legend()\n",
    "plt.show();"
   ]
  },
  {
   "cell_type": "markdown",
   "metadata": {},
   "source": [
    "**Вывод**\n",
    "\n"
   ]
  },
  {
   "cell_type": "markdown",
   "metadata": {},
   "source": [
    "Из представленного выше графика видно, что многие платформы уже давно прошли свой пик популярности и сейчас продажи близятся к нулю. Это такие платформы как Wii, DS, PS2, PS3, PSP, X360. Очевидно что на эти платформы делать ставку смысла нет.\n",
    "\n",
    "Более-менее нам будут интересны PS4 и XOne. Видно что эти платформы прошли свой пик популярности, хоть и не дошли до середины жизненного цикла. Кроме того других альтернатив просто нет, за исключением платформы PC. \n",
    "\n",
    "Платформа РС - это стабильная платформа, у которой есть свои абсолютные приверженцы. Продажи относительно других платформ маленькие, но зато они есть всегда.\n"
   ]
  },
  {
   "cell_type": "markdown",
   "metadata": {},
   "source": [
    "**Постройте график «ящик с усами» по глобальным продажам игр в разбивке по платформам. Опишите результат.**"
   ]
  },
  {
   "cell_type": "markdown",
   "metadata": {},
   "source": [
    "Создадим список самых прибыльных платформ с 2011 года."
   ]
  },
  {
   "cell_type": "code",
   "execution_count": 34,
   "metadata": {},
   "outputs": [
    {
     "data": {
      "text/html": [
       "<div>\n",
       "<style scoped>\n",
       "    .dataframe tbody tr th:only-of-type {\n",
       "        vertical-align: middle;\n",
       "    }\n",
       "\n",
       "    .dataframe tbody tr th {\n",
       "        vertical-align: top;\n",
       "    }\n",
       "\n",
       "    .dataframe thead th {\n",
       "        text-align: right;\n",
       "    }\n",
       "</style>\n",
       "<table border=\"1\" class=\"dataframe\">\n",
       "  <thead>\n",
       "    <tr style=\"text-align: right;\">\n",
       "      <th></th>\n",
       "      <th>platform</th>\n",
       "      <th>total_sales</th>\n",
       "    </tr>\n",
       "  </thead>\n",
       "  <tbody>\n",
       "    <tr>\n",
       "      <th>0</th>\n",
       "      <td>PS4</td>\n",
       "      <td>314.14</td>\n",
       "    </tr>\n",
       "    <tr>\n",
       "      <th>1</th>\n",
       "      <td>PS3</td>\n",
       "      <td>288.79</td>\n",
       "    </tr>\n",
       "    <tr>\n",
       "      <th>2</th>\n",
       "      <td>X360</td>\n",
       "      <td>236.54</td>\n",
       "    </tr>\n",
       "    <tr>\n",
       "      <th>3</th>\n",
       "      <td>3DS</td>\n",
       "      <td>194.61</td>\n",
       "    </tr>\n",
       "    <tr>\n",
       "      <th>4</th>\n",
       "      <td>XOne</td>\n",
       "      <td>159.32</td>\n",
       "    </tr>\n",
       "    <tr>\n",
       "      <th>5</th>\n",
       "      <td>WiiU</td>\n",
       "      <td>82.19</td>\n",
       "    </tr>\n",
       "    <tr>\n",
       "      <th>6</th>\n",
       "      <td>PC</td>\n",
       "      <td>62.65</td>\n",
       "    </tr>\n",
       "    <tr>\n",
       "      <th>7</th>\n",
       "      <td>PSV</td>\n",
       "      <td>49.18</td>\n",
       "    </tr>\n",
       "    <tr>\n",
       "      <th>8</th>\n",
       "      <td>Wii</td>\n",
       "      <td>35.37</td>\n",
       "    </tr>\n",
       "    <tr>\n",
       "      <th>9</th>\n",
       "      <td>DS</td>\n",
       "      <td>12.55</td>\n",
       "    </tr>\n",
       "  </tbody>\n",
       "</table>\n",
       "</div>"
      ],
      "text/plain": [
       "  platform  total_sales\n",
       "0      PS4       314.14\n",
       "1      PS3       288.79\n",
       "2     X360       236.54\n",
       "3      3DS       194.61\n",
       "4     XOne       159.32\n",
       "5     WiiU        82.19\n",
       "6       PC        62.65\n",
       "7      PSV        49.18\n",
       "8      Wii        35.37\n",
       "9       DS        12.55"
      ]
     },
     "execution_count": 34,
     "metadata": {},
     "output_type": "execute_result"
    }
   ],
   "source": [
    "top2005 = df.query('year_of_release>=2012').groupby('platform')['total_sales'].sum().sort_values(ascending=False).reset_index().head(10)\n",
    "top2005"
   ]
  },
  {
   "cell_type": "code",
   "execution_count": 35,
   "metadata": {
    "scrolled": false
   },
   "outputs": [
    {
     "data": {
      "image/png": "[encoded data removed]",
      "text/plain": [
       "<Figure size 1152x864 with 10 Axes>"
      ]
     },
     "metadata": {
      "needs_background": "light"
     },
     "output_type": "display_data"
    }
   ],
   "source": [
    "fig, (ax1, ax2, ax3, ax4, ax5, ax6, ax7, ax8, ax9, ax10) = plt.subplots(nrows=1, ncols=10, figsize=(16, 12))\n",
    "fig.autofmt_xdate();\n",
    "\n",
    "p = {ax1:'PS4', ax2:'PS3', ax3:'X360', ax4:'3DS', ax5:'XOne', ax6:'WiiU', ax7:'PC', ax8:'PSV', ax9:'Wii', ax10:'DS'}\n",
    "for ax in [ax1, ax2, ax3, ax4, ax5, ax6, ax7, ax8, ax9, ax10]:\n",
    "    total_sales = df.query('platform==@p[@ax] and total_sales<1.5')['total_sales']\n",
    "    ax.boxplot(total_sales)\n",
    "    ax.grid()\n",
    "    ax.set_title(p[ax])\n",
    "       \n",
    "fig.autofmt_xdate()"
   ]
  },
  {
   "cell_type": "code",
   "execution_count": 36,
   "metadata": {},
   "outputs": [
    {
     "data": {
      "image/png": "[encoded data removed]",
      "text/plain": [
       "<Figure size 1152x864 with 10 Axes>"
      ]
     },
     "metadata": {
      "needs_background": "light"
     },
     "output_type": "display_data"
    }
   ],
   "source": [
    "fig, (ax1, ax2, ax3, ax4, ax5, ax6, ax7, ax8, ax9, ax10) = plt.subplots(nrows=1, ncols=10, figsize=(16, 12))\n",
    "fig.autofmt_xdate();\n",
    "\n",
    "p = {ax1:'PS3', ax2:'PS4', ax3:'X360', ax4:'XOne', ax5:'WiiU', ax6:'Wii', ax7:'3DS', ax8:'DS', ax9:'PC', ax10:'PSV'}\n",
    "for ax in [ax1, ax2, ax3, ax4, ax5, ax6, ax7, ax8, ax9, ax10]:\n",
    "    total_sales = df.query('platform==@p[@ax] and total_sales<1.5')['total_sales']\n",
    "    ax.boxplot(total_sales)\n",
    "    ax.grid()\n",
    "    ax.set_title(p[ax])\n",
    "    ax.set_ylim([0, 0.6])\n",
    "    \n",
    "fig.autofmt_xdate() "
   ]
  },
  {
   "cell_type": "markdown",
   "metadata": {},
   "source": [
    "**Вывод**\n",
    "\n",
    "PS3, X360, XOne в разрезе актуального периода с 2013 года смотрятся наиболее интересно. За ними следуют Wii, WiiU. Потом PS4, но это новая платформа, ей будет еще что продавать. Затем идут азиатские \"эксклюзивы\" 3DS, DS. Замыкают шествие PSV, вытесняемая мобильными играми, и PC - со своими преданными фанатами."
   ]
  },
  {
   "cell_type": "markdown",
   "metadata": {},
   "source": [
    "**Посмотрите, как влияют на продажи внутри одной популярной платформы отзывы пользователей и критиков. Постройте диаграмму рассеяния и посчитайте корреляцию между отзывами и продажами. Сформулируйте выводы.**\n"
   ]
  },
  {
   "cell_type": "markdown",
   "metadata": {},
   "source": [
    "Для анализа выберем платформу PS3. На мой взгляд это будет наиболее наглядным примером, так PlayStation давно на рынке, сменила несколько поколений и не собирается останавляиваться на достигнутом."
   ]
  },
  {
   "cell_type": "code",
   "execution_count": 37,
   "metadata": {},
   "outputs": [
    {
     "data": {
      "image/png": "[encoded data removed]",
      "text/plain": [
       "<Figure size 1080x360 with 1 Axes>"
      ]
     },
     "metadata": {
      "needs_background": "light"
     },
     "output_type": "display_data"
    }
   ],
   "source": [
    "ps_3 = df[(df['platform'] == 'PS3') & (df['critic_score'] > 0)].copy()\n",
    "ps_3.plot(kind='scatter', x='critic_score', y='total_sales', ec='black', figsize=(15,5));"
   ]
  },
  {
   "cell_type": "markdown",
   "metadata": {},
   "source": [
    "Чем выше оценка критиков, тем больше продаж. Выглядит логично."
   ]
  },
  {
   "cell_type": "code",
   "execution_count": 38,
   "metadata": {},
   "outputs": [
    {
     "data": {
      "image/png": "[encoded data removed]",
      "text/plain": [
       "<Figure size 1080x360 with 1 Axes>"
      ]
     },
     "metadata": {
      "needs_background": "light"
     },
     "output_type": "display_data"
    }
   ],
   "source": [
    "ps_3 = df[(df['platform'] == 'PS3') & (df['user_score'] > 0)].copy()\n",
    "ps_3.plot(kind='scatter', x='user_score', y='total_sales', ec='black', figsize=(15,5));"
   ]
  },
  {
   "cell_type": "markdown",
   "metadata": {},
   "source": [
    "Тут так же прослеживается схожая закономерность, чем выше оценка, тем больше продаж. Но так же есть примеры с большим количестом продаж и небольшим рейтингом. Например, такую картину могут давать предзаказы. Т.е.человек оплатил и ждет, а после выпуска игры остается разочарованным и ставит низкую оценку."
   ]
  },
  {
   "cell_type": "code",
   "execution_count": 39,
   "metadata": {},
   "outputs": [
    {
     "data": {
      "image/png": "[encoded data removed]",
      "text/plain": [
       "<Figure size 648x648 with 2 Axes>"
      ]
     },
     "metadata": {
      "needs_background": "light"
     },
     "output_type": "display_data"
    }
   ],
   "source": [
    "plt.figure(figsize=(9,9))\n",
    "sns.heatmap(ps_3.corr(), annot=True, cmap=\"coolwarm\", fmt='.2f', annot_kws={'size':16});"
   ]
  },
  {
   "cell_type": "markdown",
   "metadata": {},
   "source": [
    "**Вывод** \n",
    "\n",
    "Можно увидеть слабую положительную корреляцию между отзывами критиков и продажами (0,3), очень слабо на продажи влияют отзывы пользователей."
   ]
  },
  {
   "cell_type": "markdown",
   "metadata": {},
   "source": [
    "**Соотнесите выводы с продажами игр на других платформах.**\n"
   ]
  },
  {
   "cell_type": "code",
   "execution_count": 40,
   "metadata": {},
   "outputs": [
    {
     "data": {
      "image/png": "[encoded data removed]",
      "text/plain": [
       "<Figure size 1080x648 with 20 Axes>"
      ]
     },
     "metadata": {
      "needs_background": "light"
     },
     "output_type": "display_data"
    }
   ],
   "source": [
    "top_platforms = ['PS2', 'X360', 'PS3', 'Wii', 'DS', 'PS', 'PS4', 'XOne', 'PC', 'PSP']\n",
    "\n",
    "rows = len(top_platforms) // 2\n",
    "cols = 2\n",
    "fig, axes = plt.subplots(rows, cols, figsize=(15,9))\n",
    "count = 0\n",
    "for r in range(rows):\n",
    "    for c in range(cols):\n",
    "        curr_platform = top_platforms[count]\n",
    "        df_prep = df[(df['platform'] == curr_platform) & (df['user_score'] > 0)].copy()\n",
    "        \n",
    "        df_filtered = df_prep[['total_sales' ,'critic_score', 'user_score']]\n",
    "        sns.set(font_scale=1.0)\n",
    "        ax = sns.heatmap(df_filtered.corr()[['total_sales']].sort_values(by='total_sales', ascending=False), \n",
    "                         cmap=\"coolwarm\", annot=True, annot_kws={'size':15}, ax=axes[r,c])\n",
    "        ax.set_title(curr_platform, fontsize=20)\n",
    "        ax.set_yticklabels(ax.get_yticklabels(), rotation=0)\n",
    "        plt.tight_layout(pad=3)\n",
    "        count += 1\n"
   ]
  },
  {
   "cell_type": "markdown",
   "metadata": {},
   "source": [
    "**Вывод** \n",
    "\n",
    "В общем и целом данные по корреляции между отзывами и количеством продаж совпадают по всем популярным платформам. За исключением Wii, DS, PC. Так же выделяются PS4 и XOne, но это платформы относительно новые и пользователи, возможно еще не успели оставить достаточное количество отзывов."
   ]
  },
  {
   "cell_type": "markdown",
   "metadata": {},
   "source": [
    "**Посмотрите на общее распределение игр по жанрам. Что можно сказать о самых прибыльных жанрах? Выделяются ли жанры с высокими и низкими продажами?**"
   ]
  },
  {
   "cell_type": "code",
   "execution_count": 41,
   "metadata": {},
   "outputs": [
    {
     "data": {
      "image/png": "[encoded data removed]",
      "text/plain": [
       "<Figure size 1080x360 with 1 Axes>"
      ]
     },
     "metadata": {},
     "output_type": "display_data"
    }
   ],
   "source": [
    "ax = plt.gca()\n",
    "\n",
    "dfdf = df.groupby('genre').agg({'name': 'count', 'total_sales': 'sum', }).sort_values(by='name', ascending=False)\n",
    "\n",
    "plot_1 = dfdf['name']\n",
    "plot_1.plot(kind='bar', figsize=(15,5), ec='black', ax=ax, width=0.2, position=1)\n",
    "\n",
    "plot_2 = dfdf['total_sales']\n",
    "plot_2.plot(kind='bar', figsize=(15,5), ec='black', ax=ax, width=0.2, color='yellow', position=0)\n",
    "\n",
    "\n",
    "ax.legend(['Количество продаж', 'Общая сумма продаж', ]);"
   ]
  },
  {
   "cell_type": "code",
   "execution_count": 42,
   "metadata": {
    "scrolled": false
   },
   "outputs": [
    {
     "data": {
      "text/html": [
       "<div>\n",
       "<style scoped>\n",
       "    .dataframe tbody tr th:only-of-type {\n",
       "        vertical-align: middle;\n",
       "    }\n",
       "\n",
       "    .dataframe tbody tr th {\n",
       "        vertical-align: top;\n",
       "    }\n",
       "\n",
       "    .dataframe thead tr th {\n",
       "        text-align: left;\n",
       "    }\n",
       "\n",
       "    .dataframe thead tr:last-of-type th {\n",
       "        text-align: right;\n",
       "    }\n",
       "</style>\n",
       "<table border=\"1\" class=\"dataframe\">\n",
       "  <thead>\n",
       "    <tr>\n",
       "      <th></th>\n",
       "      <th>sum</th>\n",
       "      <th>count</th>\n",
       "      <th>median</th>\n",
       "    </tr>\n",
       "    <tr>\n",
       "      <th></th>\n",
       "      <th>total_sales</th>\n",
       "      <th>total_sales</th>\n",
       "      <th>total_sales</th>\n",
       "    </tr>\n",
       "    <tr>\n",
       "      <th>genre</th>\n",
       "      <th></th>\n",
       "      <th></th>\n",
       "      <th></th>\n",
       "    </tr>\n",
       "  </thead>\n",
       "  <tbody>\n",
       "    <tr>\n",
       "      <th>Action</th>\n",
       "      <td>1716.52</td>\n",
       "      <td>3307</td>\n",
       "      <td>0.19</td>\n",
       "    </tr>\n",
       "    <tr>\n",
       "      <th>Adventure</th>\n",
       "      <td>233.33</td>\n",
       "      <td>1293</td>\n",
       "      <td>0.05</td>\n",
       "    </tr>\n",
       "    <tr>\n",
       "      <th>Fighting</th>\n",
       "      <td>442.66</td>\n",
       "      <td>837</td>\n",
       "      <td>0.21</td>\n",
       "    </tr>\n",
       "    <tr>\n",
       "      <th>Misc</th>\n",
       "      <td>790.29</td>\n",
       "      <td>1721</td>\n",
       "      <td>0.16</td>\n",
       "    </tr>\n",
       "    <tr>\n",
       "      <th>Platform</th>\n",
       "      <td>825.55</td>\n",
       "      <td>878</td>\n",
       "      <td>0.27</td>\n",
       "    </tr>\n",
       "    <tr>\n",
       "      <th>Puzzle</th>\n",
       "      <td>239.89</td>\n",
       "      <td>569</td>\n",
       "      <td>0.10</td>\n",
       "    </tr>\n",
       "    <tr>\n",
       "      <th>Racing</th>\n",
       "      <td>723.49</td>\n",
       "      <td>1226</td>\n",
       "      <td>0.19</td>\n",
       "    </tr>\n",
       "    <tr>\n",
       "      <th>Role-Playing</th>\n",
       "      <td>931.08</td>\n",
       "      <td>1481</td>\n",
       "      <td>0.18</td>\n",
       "    </tr>\n",
       "    <tr>\n",
       "      <th>Shooter</th>\n",
       "      <td>1041.36</td>\n",
       "      <td>1296</td>\n",
       "      <td>0.24</td>\n",
       "    </tr>\n",
       "    <tr>\n",
       "      <th>Simulation</th>\n",
       "      <td>387.96</td>\n",
       "      <td>857</td>\n",
       "      <td>0.15</td>\n",
       "    </tr>\n",
       "    <tr>\n",
       "      <th>Sports</th>\n",
       "      <td>1309.67</td>\n",
       "      <td>2306</td>\n",
       "      <td>0.22</td>\n",
       "    </tr>\n",
       "    <tr>\n",
       "      <th>Strategy</th>\n",
       "      <td>172.57</td>\n",
       "      <td>673</td>\n",
       "      <td>0.10</td>\n",
       "    </tr>\n",
       "  </tbody>\n",
       "</table>\n",
       "</div>"
      ],
      "text/plain": [
       "                     sum       count      median\n",
       "             total_sales total_sales total_sales\n",
       "genre                                           \n",
       "Action           1716.52        3307        0.19\n",
       "Adventure         233.33        1293        0.05\n",
       "Fighting          442.66         837        0.21\n",
       "Misc              790.29        1721        0.16\n",
       "Platform          825.55         878        0.27\n",
       "Puzzle            239.89         569        0.10\n",
       "Racing            723.49        1226        0.19\n",
       "Role-Playing      931.08        1481        0.18\n",
       "Shooter          1041.36        1296        0.24\n",
       "Simulation        387.96         857        0.15\n",
       "Sports           1309.67        2306        0.22\n",
       "Strategy          172.57         673        0.10"
      ]
     },
     "execution_count": 42,
     "metadata": {},
     "output_type": "execute_result"
    }
   ],
   "source": [
    "genre_pivot=df.pivot_table('total_sales', \n",
    "                index = 'genre', \n",
    "                aggfunc = ['sum','count','median'])\n",
    "                           \n",
    "genre_pivot"
   ]
  },
  {
   "cell_type": "markdown",
   "metadata": {},
   "source": [
    "**Вывод**\n",
    "\n",
    "ТОП-3 жанров по количеству проданных копий: Action, Sports, Misc. \n",
    "\n",
    "ТОП-3 жанров по общей сумме продаж: Action, Sports, Shooter.\n",
    "\n",
    "Можно сказать, что популярные игры - это активные, \"быстрые\" игры, требующие быстрой реакции от игрока.\n",
    "\n",
    "Игры требующие внимания и усидчивости, напротив, в конце списка. Это Puzzle, Strategy.\n"
   ]
  },
  {
   "cell_type": "markdown",
   "metadata": {},
   "source": [
    "## Шаг. Составьте портрет пользователя каждого региона"
   ]
  },
  {
   "cell_type": "markdown",
   "metadata": {},
   "source": [
    "Определите для пользователя каждого региона (NA, EU, JP):\n",
    "- Самые популярные платформы (топ-5). Опишите различия в долях продаж.\n",
    "- Самые популярные жанры (топ-5). Поясните разницу.\n",
    "- Влияет ли рейтинг ESRB на продажи в отдельном регионе?"
   ]
  },
  {
   "cell_type": "code",
   "execution_count": 43,
   "metadata": {},
   "outputs": [],
   "source": [
    "# функция рисует графики топ платформ по регионам\n",
    "\n",
    "def top_reg_plot(groupby, region_sales, ax):\n",
    "    pt = df.groupby(groupby).agg({region_sales: 'sum'}).sort_values(by=region_sales, ascending=False)[:5]\n",
    "    title_dict = {'na_sales': 'Северная Америка', 'eu_sales': 'Европа', 'jp_sales': 'Япония'}\n",
    "    color_dict = {'na_sales': 'blue', 'eu_sales': 'yellow', 'jp_sales': 'green'}\n",
    "    plot = pt.plot(kind='bar', ec='black', title=title_dict[region_sales], ax=axes[ax], \n",
    "                   fontsize=18, color=color_dict[region_sales], rot=20)\n",
    "    plot.legend(prop={'size':17})\n",
    "    plot.set_xlabel('')\n",
    "    plot.title.set_size(20)"
   ]
  },
  {
   "cell_type": "code",
   "execution_count": 44,
   "metadata": {},
   "outputs": [
    {
     "data": {
      "image/png": "[encoded data removed]",
      "text/plain": [
       "<Figure size 1800x432 with 3 Axes>"
      ]
     },
     "metadata": {},
     "output_type": "display_data"
    }
   ],
   "source": [
    "fig, axes = plt.subplots(1, 3, figsize=(25,6))\n",
    "\n",
    "top_reg_plot('platform', 'na_sales', 0)\n",
    "top_reg_plot('platform', 'eu_sales', 1)\n",
    "top_reg_plot('platform', 'jp_sales', 2)"
   ]
  },
  {
   "cell_type": "markdown",
   "metadata": {},
   "source": [
    "Северная Америка:\n",
    "\n",
    "1-е место - Х360. С небольшим отрывом PS2. На 3-ем месте Wii. 4е место PS3. 5ое место - DS.\n",
    " \n",
    "Европа:\n",
    "\n",
    "Практически вровень PS2 и PS3, за ними Х360. Потом Wii и PS.\n",
    "\n",
    "Япония:\n",
    "\n",
    "В этой стране свои вкусы. 1-е место - карманный Nintendo. Затем Sony Playstation. Потом PS2, SNES и 3DS.\n",
    "\n",
    "ИТОГО: АМериканский рынок самый большой, он похож на европейский в части лидеров. А вот японский рынок самый маленький и со своими вкусами."
   ]
  },
  {
   "cell_type": "code",
   "execution_count": 45,
   "metadata": {},
   "outputs": [
    {
     "data": {
      "image/png": "[encoded data removed]",
      "text/plain": [
       "<Figure size 1800x432 with 3 Axes>"
      ]
     },
     "metadata": {},
     "output_type": "display_data"
    }
   ],
   "source": [
    "fig, axes = plt.subplots(1, 3, figsize=(25,6))\n",
    "\n",
    "top_reg_plot('genre', 'na_sales', 0)\n",
    "top_reg_plot('genre', 'eu_sales', 1)\n",
    "top_reg_plot('genre', 'jp_sales', 2)"
   ]
  },
  {
   "cell_type": "markdown",
   "metadata": {},
   "source": [
    "В Северной Америке и Европе в лидерах экшн, спорт и шутер. В Северной Америке более популярны платформеры, в Европе - гонки.\n",
    "\n",
    "Япония опять удивляет - РПГ с большим отрывом опережают остальные жанры. Зато потом все как у всех: экшены и спортивные игры."
   ]
  },
  {
   "cell_type": "code",
   "execution_count": 46,
   "metadata": {},
   "outputs": [
    {
     "data": {
      "text/plain": [
       "{'na_sales': platform\n",
       " X360    595.74\n",
       " PS2     572.92\n",
       " Wii     486.87\n",
       " PS3     390.13\n",
       " DS      380.31\n",
       " Name: na_sales, dtype: float64,\n",
       " 'eu_sales': platform\n",
       " PS2     332.63\n",
       " PS3     327.21\n",
       " X360    268.32\n",
       " Wii     258.32\n",
       " PS      212.39\n",
       " Name: eu_sales, dtype: float64,\n",
       " 'jp_sales': platform\n",
       " DS      175.02\n",
       " PS      139.78\n",
       " PS2     137.54\n",
       " SNES    116.55\n",
       " 3DS     100.62\n",
       " Name: jp_sales, dtype: float64}"
      ]
     },
     "execution_count": 46,
     "metadata": {},
     "output_type": "execute_result"
    }
   ],
   "source": [
    "popul_5platf_dict = {}\n",
    "for region in ['na_sales', 'eu_sales', 'jp_sales']:\n",
    "    popul_5platf_dict[region] = df.groupby('platform')[region].sum().sort_values(ascending=False).head(5)\n",
    "popul_5platf_dict\n"
   ]
  },
  {
   "cell_type": "code",
   "execution_count": 47,
   "metadata": {},
   "outputs": [
    {
     "data": {
      "image/png": "[encoded data removed]",
      "text/plain": [
       "<Figure size 1152x432 with 3 Axes>"
      ]
     },
     "metadata": {},
     "output_type": "display_data"
    }
   ],
   "source": [
    "fig, (ax1, ax2, ax3) = plt.subplots(nrows=1, ncols=3, figsize=(16, 6))\n",
    "fig.autofmt_xdate();\n",
    "\n",
    "i = 0\n",
    "x = [ax1, ax2, ax3]\n",
    "region = ['na_sales', 'eu_sales', 'jp_sales']\n",
    "explode = (0.15, 0, 0, 0, 0)\n",
    "\n",
    "for i in [0,1,2]:\n",
    "    labels = popul_5platf_dict[region[i]].index\n",
    "    sizes = popul_5platf_dict[region[i]].values\n",
    "    ax = x[i]\n",
    "    ax.set_title(f'Продажи в {region[i]}')\n",
    "    ax.pie(sizes, labels=labels, autopct='%1.1f%%', startangle=90) \n",
    "    ax.axis('equal')  \n",
    "\n",
    "plt.show()\n"
   ]
  },
  {
   "cell_type": "code",
   "execution_count": 48,
   "metadata": {},
   "outputs": [
    {
     "data": {
      "image/png": "[encoded data removed]",
      "text/plain": [
       "<Figure size 1800x432 with 3 Axes>"
      ]
     },
     "metadata": {},
     "output_type": "display_data"
    }
   ],
   "source": [
    "fig, axes = plt.subplots(1, 3, figsize=(25,6))\n",
    "\n",
    "top_reg_plot('rating', 'na_sales', 0)\n",
    "top_reg_plot('rating', 'eu_sales', 1)\n",
    "top_reg_plot('rating', 'jp_sales', 2)"
   ]
  },
  {
   "cell_type": "code",
   "execution_count": 49,
   "metadata": {},
   "outputs": [
    {
     "data": {
      "text/plain": [
       "array(['E', 'without rating', 'M', 'T', 'E10+', 'K-A', 'AO', 'EC', 'RP'],\n",
       "      dtype=object)"
      ]
     },
     "execution_count": 49,
     "metadata": {},
     "output_type": "execute_result"
    }
   ],
   "source": [
    "df['rating'].unique()"
   ]
  },
  {
   "cell_type": "markdown",
   "metadata": {},
   "source": [
    "По данным википедии буквенные обозначения рейтинга можно расшифровать следующим образом:\n",
    "- E - («Everyone») — «Для всех»\n",
    "- M - («Mature») — «Для взрослых»\n",
    "- T - («Teen») — «Подросткам»\n",
    "- E10+ - («Everyone 10 and older») — «Для всех от 10 лет и старше»\n",
    "- K-A - нет информации.\n",
    "- AO - («Adults Only 18+») — «Только для взрослых»\n",
    "- EC - («Early childhood») — «Для детей младшего возраста»\n",
    "- RP - («Rating Pending») — «Рейтинг ожидается»\n",
    "\n",
    "https://ru.wikipedia.org/wiki/Entertainment_Software_Rating_Board"
   ]
  },
  {
   "cell_type": "code",
   "execution_count": 50,
   "metadata": {},
   "outputs": [
    {
     "data": {
      "text/plain": [
       "without rating    6676\n",
       "E                 3921\n",
       "T                 2905\n",
       "M                 1536\n",
       "E10+              1393\n",
       "EC                   8\n",
       "K-A                  3\n",
       "AO                   1\n",
       "RP                   1\n",
       "Name: rating, dtype: int64"
      ]
     },
     "execution_count": 50,
     "metadata": {},
     "output_type": "execute_result"
    }
   ],
   "source": [
    "df['rating'].value_counts()"
   ]
  },
  {
   "cell_type": "markdown",
   "metadata": {},
   "source": [
    "**Вывод**\n",
    "\n",
    "Честно говоря, ответить на вопрос \"Влияет ли рейтинг ESRB на продажи в отдельном регионе?\" с помощью имеющихся данных невозможно. Нужно же с чем-то сравнивать, проводить полноценные длительные исследования и т.д. и т.п.\n",
    "\n",
    "Но можно сравнить продажи в разных регионах учитывая рейтинг ESRB.\n",
    "\n",
    "Итак,\n",
    "\n",
    "столбец 'without rating' не берем в расчет, хоть он и занимает лидирующие позиции.\n",
    "\n",
    "Во всех трех регионах на первом месте по продажам игры \"Для всех\". В Северной Америке игры для взрослых и подростков по популярности находятся на одном уровне. В Европе с небольшим отрывом игры для взрослых опережают игры для подростков. 2-е и 3-е место соответственно. В Японии же игры для подростков в два раза более популярны, чем игры для взрослых."
   ]
  },
  {
   "cell_type": "markdown",
   "metadata": {},
   "source": [
    "## Шаг. Проверьте гипотезы\n",
    "- Средние пользовательские рейтинги платформ Xbox One и PC одинаковые;\n",
    "- Средние пользовательские рейтинги жанров Action (англ. «действие», экшен-игры) и Sports (англ. «спортивные соревнования») разные."
   ]
  },
  {
   "cell_type": "markdown",
   "metadata": {},
   "source": [
    "Для проверки гипотез следует использовать t-критерий Стьюдента, т.к. в обоих случаях выборки независимы.\n",
    "\n",
    "Определим пороговое значение alpha = 0.05"
   ]
  },
  {
   "cell_type": "markdown",
   "metadata": {},
   "source": [
    "**Гипотеза: Средние пользовательские рейтинги платформ Xbox One и PC одинаковые**"
   ]
  },
  {
   "cell_type": "markdown",
   "metadata": {},
   "source": [
    "Н0 - средние пользовательские рейтинги платформ Xbox One и PC одинаковые.\n",
    "\n",
    "Н1 - средние пользовательские рейтинги платформ Xbox One и PC отличаются между собой."
   ]
  },
  {
   "cell_type": "code",
   "execution_count": 51,
   "metadata": {},
   "outputs": [
    {
     "name": "stdout",
     "output_type": "stream",
     "text": [
      "t = -4.38289526334195\n",
      "p-value = 1.3037979620e-05\n",
      "\n",
      "Пороговое значение alpha = 0.05\n"
     ]
    }
   ],
   "source": [
    "xone = df[(df['platform'] == 'XOne') & (df['user_score'] > 0)]['user_score']\n",
    "pc = df[(df['platform'] == 'PC') & (df['user_score'] > 0)]['user_score']\n",
    "stat, p = ttest_ind(xone, pc)\n",
    "\n",
    "print('t = {}\\np-value = {:.10e}'.format(stat, p))\n",
    "print('\\nПороговое значение alpha = 0.05')"
   ]
  },
  {
   "cell_type": "markdown",
   "metadata": {},
   "source": [
    "**Вывод**\n",
    "\n",
    "Мы получили значимые различия и не можем принять нулевую гипотезу. Значит, рейтинги платформ отличаются."
   ]
  },
  {
   "cell_type": "markdown",
   "metadata": {},
   "source": [
    "**Средние пользовательские рейтинги жанров Action (англ. «действие», экшен-игры) и Sports (англ. «спортивные соревнования») разные.**"
   ]
  },
  {
   "cell_type": "markdown",
   "metadata": {},
   "source": [
    "Н0 - средние пользовательские рейтинги жанров Action и Sports одинаковые.\n",
    "\n",
    "Н1 - средние пользовательские рейтинги жанров Action и Sports отличаются между собой."
   ]
  },
  {
   "cell_type": "code",
   "execution_count": 52,
   "metadata": {},
   "outputs": [
    {
     "name": "stdout",
     "output_type": "stream",
     "text": [
      "t = 1.8472797735322193\n",
      "p-value = 0.0648\n",
      "\n",
      "Пороговое значение alpha = 0.05\n"
     ]
    }
   ],
   "source": [
    "action = df[(df['genre'] == 'Action') & (df['user_score'] > 0)]['user_score']\n",
    "sports = df[(df['genre'] == 'Sports') & (df['user_score'] > 0)]['user_score']\n",
    "stat, p = ttest_ind(action, sports)\n",
    "\n",
    "print('t = {}\\np-value = {:.4f}'.format(stat, p))\n",
    "print('\\nПороговое значение alpha = 0.05')"
   ]
  },
  {
   "cell_type": "markdown",
   "metadata": {},
   "source": [
    "**Вывод** \n",
    "\n",
    "Отвергнуть нулевую гипотезу не удалось. \n",
    "\n",
    "Значит средние пользовательские рейтинги одинаковы."
   ]
  },
  {
   "cell_type": "markdown",
   "metadata": {},
   "source": [
    "## Шаг. Напишите общий вывод"
   ]
  },
  {
   "cell_type": "markdown",
   "metadata": {},
   "source": [
    "Первые игры начали выпускать в 80-х. До 90 года игр выпускалось крайне мало. В 1990 году появилась первая ОС (Windows 3.0) с графическим интерфейсом. Возможно, это послужило толчком к развитию индустрии игр, та как после 90 года видна намечающаяся тенденция роста количества компьютерных игр. Пока что еще мощности ПК малы, но начиная с 95 года начинается бурный рост. И так до 2009 года. После начался спад, возможно это связано с насыщением рынка и развитием мобильных телефонов, которые здесь не отражены.\n",
    "\n",
    "Средняя продолжительность жизни платформы - 10 лет. Особенно хорошо это видно на примере платформ от Sony. Каждое поколение \"живет\" примерно 10 лет.\n",
    "\n",
    "Самые долгоживущие платформы - PC, DS. PC - персональные компьютеры - \"вечная классика\". DS - \"японская специфичность\".\n",
    "\n",
    "Нам будут интересны PS4 и XOne. Видно что эти платформы прошли свой пик популярности, хоть и не дошли до середины жизненного цикла. Кроме того других альтернатив просто нет.\n",
    "\n",
    "Платформа РС - это стабильная платформа, у которой есть свои приверженцы. Продажи относительно других платформ маленькие, но зато они есть всегда.\n",
    "\n",
    "ТОП-3 жанров по количеству проданных копий: Action, Sports, Misc. \n",
    "ТОП-3 жанров по общей сумме продаж: Action, Sports, Shooter.\n",
    "\n",
    "Можно сказать, что популярные игры - это активные, \"быстрые\" игры, требующие быстрой реакции от игрока.\n",
    "\n",
    "Во всех трех регионах на первом месте по продажам игры \"Для всех\". В Северной Америке игры для взрослых и подростков по популярности находятся на одном уровне. В Европе с небольшим отрывом игры для взрослых опережают игры для подростков. 2-е и 3-е место соответственно. В Японии же игры для подростков в два раза более популярны, чем игры для взрослых.\n",
    "\n",
    "**ИТОГ**\n",
    "\n",
    "На основании выполненной работы для планирования кампании на 2017-й год я рекомендую делать ставку на:\n",
    "- Консольные платформы PS4 и XOne. \n",
    "- Жанры Action, Sports, Shooter (в порядке убывания)\n",
    "- Разрабатывать под рейтинг Е - («Everyone») — «Для всех»\n",
    "- Ориентироваться в порядке убывания: Северная Америка, Европа, Азия."
   ]
  }
 ],
 "metadata": {
  "ExecuteTimeLog": [
   {
    "duration": 1139,
    "start_time": "2022-03-06T06:13:19.493Z"
   },
   {
    "duration": 2,
    "start_time": "2022-03-06T06:13:32.852Z"
   },
   {
    "duration": 362,
    "start_time": "2022-03-06T06:16:34.424Z"
   },
   {
    "duration": 39,
    "start_time": "2022-03-06T06:16:41.614Z"
   },
   {
    "duration": 24,
    "start_time": "2022-03-06T06:16:48.425Z"
   },
   {
    "duration": 14,
    "start_time": "2022-03-06T06:16:59.394Z"
   },
   {
    "duration": 11,
    "start_time": "2022-03-06T06:17:11.508Z"
   },
   {
    "duration": 6,
    "start_time": "2022-03-06T06:19:17.734Z"
   },
   {
    "duration": 13,
    "start_time": "2022-03-06T06:19:22.230Z"
   },
   {
    "duration": 7,
    "start_time": "2022-03-06T06:19:33.878Z"
   },
   {
    "duration": 4,
    "start_time": "2022-03-06T06:19:39.512Z"
   },
   {
    "duration": 5,
    "start_time": "2022-03-06T06:19:45.510Z"
   },
   {
    "duration": 5,
    "start_time": "2022-03-06T06:19:52.062Z"
   },
   {
    "duration": 8,
    "start_time": "2022-03-06T06:19:56.800Z"
   },
   {
    "duration": 9,
    "start_time": "2022-03-06T06:20:02.502Z"
   },
   {
    "duration": 10,
    "start_time": "2022-03-06T06:20:07.727Z"
   },
   {
    "duration": 11,
    "start_time": "2022-03-06T06:20:12.611Z"
   },
   {
    "duration": 7,
    "start_time": "2022-03-06T06:20:21.918Z"
   },
   {
    "duration": 17,
    "start_time": "2022-03-06T06:20:28.479Z"
   },
   {
    "duration": 13,
    "start_time": "2022-03-06T06:21:14.534Z"
   },
   {
    "duration": 37,
    "start_time": "2022-03-06T06:21:20.701Z"
   },
   {
    "duration": 411,
    "start_time": "2022-03-06T06:21:29.109Z"
   },
   {
    "duration": 24,
    "start_time": "2022-03-06T06:22:18.293Z"
   },
   {
    "duration": 2,
    "start_time": "2022-03-06T06:22:28.429Z"
   },
   {
    "duration": 7,
    "start_time": "2022-03-06T06:22:33.604Z"
   },
   {
    "duration": 4353,
    "start_time": "2022-03-06T06:22:47.445Z"
   },
   {
    "duration": 7,
    "start_time": "2022-03-06T06:24:51.622Z"
   },
   {
    "duration": 5,
    "start_time": "2022-03-06T06:24:56.130Z"
   },
   {
    "duration": 22,
    "start_time": "2022-03-06T06:25:00.418Z"
   },
   {
    "duration": 7,
    "start_time": "2022-03-06T06:25:09.426Z"
   },
   {
    "duration": 259,
    "start_time": "2022-03-06T07:55:33.257Z"
   },
   {
    "duration": 51,
    "start_time": "2022-03-06T07:55:44.795Z"
   },
   {
    "duration": 505,
    "start_time": "2022-03-06T07:57:17.948Z"
   },
   {
    "duration": 413,
    "start_time": "2022-03-06T07:57:36.153Z"
   },
   {
    "duration": 2,
    "start_time": "2022-03-06T07:57:57.536Z"
   },
   {
    "duration": 2,
    "start_time": "2022-03-06T07:57:58.033Z"
   },
   {
    "duration": 3,
    "start_time": "2022-03-06T07:57:58.547Z"
   },
   {
    "duration": 52,
    "start_time": "2022-03-06T07:57:59.233Z"
   },
   {
    "duration": 431,
    "start_time": "2022-03-06T07:58:00.032Z"
   },
   {
    "duration": 403,
    "start_time": "2022-03-07T06:31:56.575Z"
   },
   {
    "duration": 1111,
    "start_time": "2022-03-07T06:32:32.208Z"
   },
   {
    "duration": 3,
    "start_time": "2022-03-07T06:32:33.320Z"
   },
   {
    "duration": 57,
    "start_time": "2022-03-07T06:32:33.324Z"
   },
   {
    "duration": 14,
    "start_time": "2022-03-07T06:32:33.383Z"
   },
   {
    "duration": 16,
    "start_time": "2022-03-07T06:32:33.399Z"
   },
   {
    "duration": 5,
    "start_time": "2022-03-07T06:32:33.416Z"
   },
   {
    "duration": 11,
    "start_time": "2022-03-07T06:32:33.422Z"
   },
   {
    "duration": 6,
    "start_time": "2022-03-07T06:32:33.435Z"
   },
   {
    "duration": 6,
    "start_time": "2022-03-07T06:32:33.443Z"
   },
   {
    "duration": 16,
    "start_time": "2022-03-07T06:32:33.451Z"
   },
   {
    "duration": 10,
    "start_time": "2022-03-07T06:32:33.468Z"
   },
   {
    "duration": 27,
    "start_time": "2022-03-07T06:32:33.480Z"
   },
   {
    "duration": 10,
    "start_time": "2022-03-07T06:32:33.508Z"
   },
   {
    "duration": 7,
    "start_time": "2022-03-07T06:32:33.519Z"
   },
   {
    "duration": 8,
    "start_time": "2022-03-07T06:32:33.527Z"
   },
   {
    "duration": 5,
    "start_time": "2022-03-07T06:32:33.536Z"
   },
   {
    "duration": 17,
    "start_time": "2022-03-07T06:32:33.542Z"
   },
   {
    "duration": 11,
    "start_time": "2022-03-07T06:32:33.561Z"
   },
   {
    "duration": 32,
    "start_time": "2022-03-07T06:32:33.573Z"
   },
   {
    "duration": 334,
    "start_time": "2022-03-07T06:32:33.606Z"
   },
   {
    "duration": 21,
    "start_time": "2022-03-07T06:32:33.941Z"
   },
   {
    "duration": 2,
    "start_time": "2022-03-07T06:32:33.963Z"
   },
   {
    "duration": 25,
    "start_time": "2022-03-07T06:32:33.968Z"
   },
   {
    "duration": 5142,
    "start_time": "2022-03-07T06:32:33.995Z"
   },
   {
    "duration": 3,
    "start_time": "2022-03-07T06:32:39.138Z"
   },
   {
    "duration": 15,
    "start_time": "2022-03-07T06:32:39.143Z"
   },
   {
    "duration": 23,
    "start_time": "2022-03-07T06:32:39.159Z"
   },
   {
    "duration": 48,
    "start_time": "2022-03-07T06:32:39.184Z"
   },
   {
    "duration": 338,
    "start_time": "2022-03-07T06:32:39.234Z"
   },
   {
    "duration": 308,
    "start_time": "2022-03-07T09:12:29.392Z"
   },
   {
    "duration": 13,
    "start_time": "2022-03-07T09:12:40.989Z"
   },
   {
    "duration": 1614,
    "start_time": "2022-03-07T09:17:09.195Z"
   },
   {
    "duration": 1602,
    "start_time": "2022-03-07T09:17:27.788Z"
   },
   {
    "duration": 4193,
    "start_time": "2022-03-07T09:18:03.764Z"
   },
   {
    "duration": 16,
    "start_time": "2022-03-07T09:41:14.670Z"
   },
   {
    "duration": 105,
    "start_time": "2022-03-07T09:47:32.001Z"
   },
   {
    "duration": 337,
    "start_time": "2022-03-07T09:47:36.065Z"
   },
   {
    "duration": 297,
    "start_time": "2022-03-07T09:47:45.489Z"
   },
   {
    "duration": 12,
    "start_time": "2022-03-07T09:47:55.081Z"
   },
   {
    "duration": 11,
    "start_time": "2022-03-07T09:48:09.392Z"
   },
   {
    "duration": 8,
    "start_time": "2022-03-07T09:48:30.816Z"
   },
   {
    "duration": 12,
    "start_time": "2022-03-07T09:48:43.681Z"
   },
   {
    "duration": 352,
    "start_time": "2022-03-07T09:49:19.177Z"
   },
   {
    "duration": 22,
    "start_time": "2022-03-07T10:03:48.700Z"
   },
   {
    "duration": 21,
    "start_time": "2022-03-07T10:04:11.652Z"
   },
   {
    "duration": 20,
    "start_time": "2022-03-07T10:04:20.269Z"
   },
   {
    "duration": 22,
    "start_time": "2022-03-07T10:04:35.180Z"
   },
   {
    "duration": 20,
    "start_time": "2022-03-07T10:04:35.931Z"
   },
   {
    "duration": 8,
    "start_time": "2022-03-07T10:04:41.659Z"
   },
   {
    "duration": 19,
    "start_time": "2022-03-07T10:04:48.354Z"
   },
   {
    "duration": 7726,
    "start_time": "2022-03-07T12:20:51.326Z"
   },
   {
    "duration": 285,
    "start_time": "2022-03-07T12:21:18.524Z"
   },
   {
    "duration": 311,
    "start_time": "2022-03-07T12:21:27.468Z"
   },
   {
    "duration": 438,
    "start_time": "2022-03-07T12:21:37.627Z"
   },
   {
    "duration": 368,
    "start_time": "2022-03-07T12:21:51.162Z"
   },
   {
    "duration": 338,
    "start_time": "2022-03-07T12:22:08.355Z"
   },
   {
    "duration": 336,
    "start_time": "2022-03-07T12:22:15.851Z"
   },
   {
    "duration": 383,
    "start_time": "2022-03-07T12:23:15.371Z"
   },
   {
    "duration": 284,
    "start_time": "2022-03-07T12:23:21.545Z"
   },
   {
    "duration": 1024,
    "start_time": "2022-03-07T12:23:42.065Z"
   },
   {
    "duration": 2,
    "start_time": "2022-03-07T12:23:43.090Z"
   },
   {
    "duration": 52,
    "start_time": "2022-03-07T12:23:43.094Z"
   },
   {
    "duration": 13,
    "start_time": "2022-03-07T12:23:43.148Z"
   },
   {
    "duration": 8,
    "start_time": "2022-03-07T12:23:43.163Z"
   },
   {
    "duration": 4,
    "start_time": "2022-03-07T12:23:43.173Z"
   },
   {
    "duration": 10,
    "start_time": "2022-03-07T12:23:43.178Z"
   },
   {
    "duration": 10,
    "start_time": "2022-03-07T12:23:43.191Z"
   },
   {
    "duration": 3,
    "start_time": "2022-03-07T12:23:43.203Z"
   },
   {
    "duration": 5,
    "start_time": "2022-03-07T12:23:43.207Z"
   },
   {
    "duration": 8,
    "start_time": "2022-03-07T12:23:43.214Z"
   },
   {
    "duration": 13,
    "start_time": "2022-03-07T12:23:43.223Z"
   },
   {
    "duration": 8,
    "start_time": "2022-03-07T12:23:43.237Z"
   },
   {
    "duration": 9,
    "start_time": "2022-03-07T12:23:43.247Z"
   },
   {
    "duration": 12,
    "start_time": "2022-03-07T12:23:43.258Z"
   },
   {
    "duration": 9,
    "start_time": "2022-03-07T12:23:43.271Z"
   },
   {
    "duration": 23,
    "start_time": "2022-03-07T12:23:43.281Z"
   },
   {
    "duration": 11,
    "start_time": "2022-03-07T12:23:43.306Z"
   },
   {
    "duration": 32,
    "start_time": "2022-03-07T12:23:43.318Z"
   },
   {
    "duration": 339,
    "start_time": "2022-03-07T12:23:43.351Z"
   },
   {
    "duration": 28,
    "start_time": "2022-03-07T12:23:43.692Z"
   },
   {
    "duration": 2,
    "start_time": "2022-03-07T12:23:43.722Z"
   },
   {
    "duration": 6,
    "start_time": "2022-03-07T12:23:43.727Z"
   },
   {
    "duration": 4767,
    "start_time": "2022-03-07T12:23:43.735Z"
   },
   {
    "duration": 3,
    "start_time": "2022-03-07T12:23:48.504Z"
   },
   {
    "duration": 5,
    "start_time": "2022-03-07T12:23:48.508Z"
   },
   {
    "duration": 22,
    "start_time": "2022-03-07T12:23:48.515Z"
   },
   {
    "duration": 80,
    "start_time": "2022-03-07T12:23:48.539Z"
   },
   {
    "duration": 327,
    "start_time": "2022-03-07T12:23:48.621Z"
   },
   {
    "duration": 11,
    "start_time": "2022-03-07T12:23:48.950Z"
   },
   {
    "duration": 4085,
    "start_time": "2022-03-07T12:23:48.963Z"
   },
   {
    "duration": 299,
    "start_time": "2022-03-07T12:23:53.049Z"
   },
   {
    "duration": 9,
    "start_time": "2022-03-07T12:23:53.350Z"
   },
   {
    "duration": 304,
    "start_time": "2022-03-07T12:28:58.766Z"
   },
   {
    "duration": 16,
    "start_time": "2022-03-07T13:10:44.571Z"
   },
   {
    "duration": 306,
    "start_time": "2022-03-07T13:17:34.827Z"
   },
   {
    "duration": 314,
    "start_time": "2022-03-07T13:17:43.427Z"
   },
   {
    "duration": 550,
    "start_time": "2022-03-07T13:18:51.011Z"
   },
   {
    "duration": 4,
    "start_time": "2022-03-07T13:20:08.409Z"
   },
   {
    "duration": 258,
    "start_time": "2022-03-07T13:20:47.466Z"
   },
   {
    "duration": 627,
    "start_time": "2022-03-07T13:20:55.137Z"
   },
   {
    "duration": 182,
    "start_time": "2022-03-07T13:21:00.961Z"
   },
   {
    "duration": 305,
    "start_time": "2022-03-07T13:23:08.453Z"
   },
   {
    "duration": 4,
    "start_time": "2022-03-07T13:23:16.773Z"
   },
   {
    "duration": 11,
    "start_time": "2022-03-07T13:23:24.151Z"
   },
   {
    "duration": 2920,
    "start_time": "2022-03-07T13:40:59.117Z"
   },
   {
    "duration": 4234,
    "start_time": "2022-03-07T13:42:17.723Z"
   },
   {
    "duration": 4215,
    "start_time": "2022-03-07T13:42:44.290Z"
   },
   {
    "duration": 6045,
    "start_time": "2022-03-07T13:43:15.235Z"
   },
   {
    "duration": 308,
    "start_time": "2022-03-07T14:06:10.836Z"
   },
   {
    "duration": 308,
    "start_time": "2022-03-07T14:06:14.596Z"
   },
   {
    "duration": 309,
    "start_time": "2022-03-07T14:09:05.042Z"
   },
   {
    "duration": 298,
    "start_time": "2022-03-07T14:09:15.945Z"
   },
   {
    "duration": 4,
    "start_time": "2022-03-07T18:32:57.175Z"
   },
   {
    "duration": 544,
    "start_time": "2022-03-07T18:33:37.942Z"
   },
   {
    "duration": 4,
    "start_time": "2022-03-07T18:33:59.726Z"
   },
   {
    "duration": 616,
    "start_time": "2022-03-07T18:34:01.685Z"
   },
   {
    "duration": 6,
    "start_time": "2022-03-07T18:34:12.901Z"
   },
   {
    "duration": 556,
    "start_time": "2022-03-07T18:34:14.460Z"
   },
   {
    "duration": 4,
    "start_time": "2022-03-07T18:35:53.164Z"
   },
   {
    "duration": 643,
    "start_time": "2022-03-07T18:35:53.644Z"
   },
   {
    "duration": 558,
    "start_time": "2022-03-07T18:45:58.724Z"
   },
   {
    "duration": 24,
    "start_time": "2022-03-07T18:52:30.330Z"
   },
   {
    "duration": 316,
    "start_time": "2022-03-07T18:52:48.461Z"
   },
   {
    "duration": 5,
    "start_time": "2022-03-07T18:53:00.072Z"
   },
   {
    "duration": 535,
    "start_time": "2022-03-07T18:54:57.572Z"
   },
   {
    "duration": 20,
    "start_time": "2022-03-07T19:13:35.819Z"
   },
   {
    "duration": 313,
    "start_time": "2022-03-07T19:14:02.652Z"
   },
   {
    "duration": 288,
    "start_time": "2022-03-07T19:14:11.140Z"
   },
   {
    "duration": 7,
    "start_time": "2022-03-07T19:14:17.901Z"
   },
   {
    "duration": 285,
    "start_time": "2022-03-07T20:15:46.362Z"
   },
   {
    "duration": 4,
    "start_time": "2022-03-07T20:16:46.102Z"
   },
   {
    "duration": 9,
    "start_time": "2022-03-07T20:16:51.361Z"
   },
   {
    "duration": 11,
    "start_time": "2022-03-07T20:22:56.108Z"
   },
   {
    "duration": 1062,
    "start_time": "2022-03-07T20:51:02.034Z"
   },
   {
    "duration": 2,
    "start_time": "2022-03-07T20:51:03.098Z"
   },
   {
    "duration": 48,
    "start_time": "2022-03-07T20:51:03.102Z"
   },
   {
    "duration": 14,
    "start_time": "2022-03-07T20:51:03.151Z"
   },
   {
    "duration": 8,
    "start_time": "2022-03-07T20:51:03.167Z"
   },
   {
    "duration": 5,
    "start_time": "2022-03-07T20:51:03.177Z"
   },
   {
    "duration": 10,
    "start_time": "2022-03-07T20:51:03.183Z"
   },
   {
    "duration": 10,
    "start_time": "2022-03-07T20:51:03.195Z"
   },
   {
    "duration": 3,
    "start_time": "2022-03-07T20:51:03.207Z"
   },
   {
    "duration": 5,
    "start_time": "2022-03-07T20:51:03.212Z"
   },
   {
    "duration": 9,
    "start_time": "2022-03-07T20:51:03.219Z"
   },
   {
    "duration": 13,
    "start_time": "2022-03-07T20:51:03.229Z"
   },
   {
    "duration": 9,
    "start_time": "2022-03-07T20:51:03.243Z"
   },
   {
    "duration": 10,
    "start_time": "2022-03-07T20:51:03.253Z"
   },
   {
    "duration": 11,
    "start_time": "2022-03-07T20:51:03.264Z"
   },
   {
    "duration": 6,
    "start_time": "2022-03-07T20:51:03.276Z"
   },
   {
    "duration": 28,
    "start_time": "2022-03-07T20:51:03.283Z"
   },
   {
    "duration": 11,
    "start_time": "2022-03-07T20:51:03.312Z"
   },
   {
    "duration": 30,
    "start_time": "2022-03-07T20:51:03.324Z"
   },
   {
    "duration": 337,
    "start_time": "2022-03-07T20:51:03.355Z"
   },
   {
    "duration": 25,
    "start_time": "2022-03-07T20:51:03.694Z"
   },
   {
    "duration": 2,
    "start_time": "2022-03-07T20:51:03.721Z"
   },
   {
    "duration": 10,
    "start_time": "2022-03-07T20:51:03.724Z"
   },
   {
    "duration": 4732,
    "start_time": "2022-03-07T20:51:03.735Z"
   },
   {
    "duration": 2,
    "start_time": "2022-03-07T20:51:08.468Z"
   },
   {
    "duration": 5,
    "start_time": "2022-03-07T20:51:08.472Z"
   },
   {
    "duration": 2,
    "start_time": "2022-03-07T20:51:08.480Z"
   },
   {
    "duration": 54,
    "start_time": "2022-03-07T20:51:08.484Z"
   },
   {
    "duration": 337,
    "start_time": "2022-03-07T20:51:08.539Z"
   },
   {
    "duration": 24,
    "start_time": "2022-03-07T20:51:08.877Z"
   },
   {
    "duration": 4218,
    "start_time": "2022-03-07T20:51:08.902Z"
   },
   {
    "duration": 326,
    "start_time": "2022-03-07T20:51:13.122Z"
   },
   {
    "duration": 314,
    "start_time": "2022-03-07T20:51:13.450Z"
   },
   {
    "duration": 601,
    "start_time": "2022-03-07T20:51:13.766Z"
   },
   {
    "duration": 4086,
    "start_time": "2022-03-07T20:51:14.369Z"
   },
   {
    "duration": 310,
    "start_time": "2022-03-07T20:51:18.457Z"
   },
   {
    "duration": 5,
    "start_time": "2022-03-07T20:51:18.768Z"
   },
   {
    "duration": 540,
    "start_time": "2022-03-07T20:51:18.774Z"
   },
   {
    "duration": 551,
    "start_time": "2022-03-07T20:51:19.316Z"
   },
   {
    "duration": 651,
    "start_time": "2022-03-07T20:51:19.869Z"
   },
   {
    "duration": 4,
    "start_time": "2022-03-07T20:51:20.522Z"
   },
   {
    "duration": 8,
    "start_time": "2022-03-07T20:51:20.528Z"
   },
   {
    "duration": 10,
    "start_time": "2022-03-07T20:51:20.537Z"
   },
   {
    "duration": 10,
    "start_time": "2022-03-07T20:51:20.548Z"
   },
   {
    "duration": 1825,
    "start_time": "2022-03-16T09:35:16.638Z"
   },
   {
    "duration": 3,
    "start_time": "2022-03-16T09:35:18.466Z"
   },
   {
    "duration": 61,
    "start_time": "2022-03-16T09:35:18.473Z"
   },
   {
    "duration": 25,
    "start_time": "2022-03-16T09:35:18.537Z"
   },
   {
    "duration": 14,
    "start_time": "2022-03-16T09:35:18.565Z"
   },
   {
    "duration": 8,
    "start_time": "2022-03-16T09:35:18.582Z"
   },
   {
    "duration": 31,
    "start_time": "2022-03-16T09:35:18.593Z"
   },
   {
    "duration": 25,
    "start_time": "2022-03-16T09:35:18.626Z"
   },
   {
    "duration": 7,
    "start_time": "2022-03-16T09:35:18.655Z"
   },
   {
    "duration": 12,
    "start_time": "2022-03-16T09:35:18.665Z"
   },
   {
    "duration": 9,
    "start_time": "2022-03-16T09:35:18.679Z"
   },
   {
    "duration": 12,
    "start_time": "2022-03-16T09:35:18.690Z"
   },
   {
    "duration": 10,
    "start_time": "2022-03-16T09:35:18.704Z"
   },
   {
    "duration": 42,
    "start_time": "2022-03-16T09:35:18.716Z"
   },
   {
    "duration": 13,
    "start_time": "2022-03-16T09:35:18.761Z"
   },
   {
    "duration": 8,
    "start_time": "2022-03-16T09:35:18.777Z"
   },
   {
    "duration": 36,
    "start_time": "2022-03-16T09:35:18.787Z"
   },
   {
    "duration": 42,
    "start_time": "2022-03-16T09:35:18.826Z"
   },
   {
    "duration": 60,
    "start_time": "2022-03-16T09:35:18.870Z"
   },
   {
    "duration": 633,
    "start_time": "2022-03-16T09:35:18.932Z"
   },
   {
    "duration": 39,
    "start_time": "2022-03-16T09:35:19.567Z"
   },
   {
    "duration": 3,
    "start_time": "2022-03-16T09:35:19.608Z"
   },
   {
    "duration": 40,
    "start_time": "2022-03-16T09:35:19.615Z"
   },
   {
    "duration": 3272,
    "start_time": "2022-03-16T09:35:19.658Z"
   },
   {
    "duration": 21,
    "start_time": "2022-03-16T09:35:22.934Z"
   },
   {
    "duration": 10,
    "start_time": "2022-03-16T09:35:22.957Z"
   },
   {
    "duration": 34,
    "start_time": "2022-03-16T09:35:22.973Z"
   },
   {
    "duration": 112,
    "start_time": "2022-03-16T09:35:23.011Z"
   },
   {
    "duration": 825,
    "start_time": "2022-03-16T09:35:23.126Z"
   },
   {
    "duration": 20,
    "start_time": "2022-03-16T09:35:23.954Z"
   },
   {
    "duration": 3698,
    "start_time": "2022-03-16T09:35:23.976Z"
   },
   {
    "duration": 485,
    "start_time": "2022-03-16T09:35:27.676Z"
   },
   {
    "duration": 476,
    "start_time": "2022-03-16T09:35:28.163Z"
   },
   {
    "duration": 933,
    "start_time": "2022-03-16T09:35:28.642Z"
   },
   {
    "duration": 7574,
    "start_time": "2022-03-16T09:35:29.577Z"
   },
   {
    "duration": 584,
    "start_time": "2022-03-16T09:35:37.153Z"
   },
   {
    "duration": 15,
    "start_time": "2022-03-16T09:35:37.739Z"
   },
   {
    "duration": 995,
    "start_time": "2022-03-16T09:35:37.756Z"
   },
   {
    "duration": 1003,
    "start_time": "2022-03-16T09:35:38.753Z"
   },
   {
    "duration": 1133,
    "start_time": "2022-03-16T09:35:39.758Z"
   },
   {
    "duration": 7,
    "start_time": "2022-03-16T09:35:40.893Z"
   },
   {
    "duration": 17,
    "start_time": "2022-03-16T09:35:40.902Z"
   },
   {
    "duration": 36,
    "start_time": "2022-03-16T09:35:40.921Z"
   },
   {
    "duration": 23,
    "start_time": "2022-03-16T09:35:40.959Z"
   },
   {
    "duration": 1513,
    "start_time": "2022-03-17T16:41:18.616Z"
   },
   {
    "duration": 3,
    "start_time": "2022-03-17T16:41:21.322Z"
   },
   {
    "duration": 48,
    "start_time": "2022-03-17T16:41:22.195Z"
   },
   {
    "duration": 21,
    "start_time": "2022-03-17T16:41:22.652Z"
   },
   {
    "duration": 17,
    "start_time": "2022-03-17T16:41:25.171Z"
   },
   {
    "duration": 6,
    "start_time": "2022-03-17T16:41:26.674Z"
   },
   {
    "duration": 15,
    "start_time": "2022-03-17T16:41:27.466Z"
   },
   {
    "duration": 7,
    "start_time": "2022-03-17T16:41:30.821Z"
   },
   {
    "duration": 4,
    "start_time": "2022-03-17T16:41:31.250Z"
   },
   {
    "duration": 5,
    "start_time": "2022-03-17T16:41:31.626Z"
   },
   {
    "duration": 6,
    "start_time": "2022-03-17T16:41:31.977Z"
   },
   {
    "duration": 13,
    "start_time": "2022-03-17T16:41:32.316Z"
   },
   {
    "duration": 8,
    "start_time": "2022-03-17T16:41:32.627Z"
   },
   {
    "duration": 10,
    "start_time": "2022-03-17T16:41:32.915Z"
   },
   {
    "duration": 17,
    "start_time": "2022-03-17T16:50:22.291Z"
   },
   {
    "duration": 22,
    "start_time": "2022-03-17T17:08:09.899Z"
   },
   {
    "duration": 4,
    "start_time": "2022-03-17T17:08:19.889Z"
   },
   {
    "duration": 2,
    "start_time": "2022-03-17T17:08:20.788Z"
   },
   {
    "duration": 38,
    "start_time": "2022-03-17T17:08:21.347Z"
   },
   {
    "duration": 14,
    "start_time": "2022-03-17T17:08:21.772Z"
   },
   {
    "duration": 19,
    "start_time": "2022-03-17T17:08:22.436Z"
   },
   {
    "duration": 5,
    "start_time": "2022-03-17T17:08:28.115Z"
   },
   {
    "duration": 14,
    "start_time": "2022-03-17T17:08:28.711Z"
   },
   {
    "duration": 116,
    "start_time": "2022-03-17T17:09:15.771Z"
   },
   {
    "duration": 40678,
    "start_time": "2022-03-17T17:10:08.476Z"
   },
   {
    "duration": 57,
    "start_time": "2022-03-17T17:11:28.211Z"
   },
   {
    "duration": 1250,
    "start_time": "2022-03-17T17:11:36.554Z"
   },
   {
    "duration": 1289,
    "start_time": "2022-03-17T17:11:52.420Z"
   },
   {
    "duration": 3,
    "start_time": "2022-03-17T17:11:53.713Z"
   },
   {
    "duration": 40,
    "start_time": "2022-03-17T17:11:55.148Z"
   },
   {
    "duration": 21,
    "start_time": "2022-03-17T17:11:55.435Z"
   },
   {
    "duration": 16,
    "start_time": "2022-03-17T17:11:58.083Z"
   },
   {
    "duration": 5,
    "start_time": "2022-03-17T17:12:01.155Z"
   },
   {
    "duration": 16,
    "start_time": "2022-03-17T17:12:02.675Z"
   },
   {
    "duration": 121,
    "start_time": "2022-03-17T17:12:07.260Z"
   },
   {
    "duration": 8,
    "start_time": "2022-03-17T17:18:23.426Z"
   },
   {
    "duration": 35,
    "start_time": "2022-03-17T17:19:36.062Z"
   },
   {
    "duration": 7,
    "start_time": "2022-03-17T17:22:37.327Z"
   },
   {
    "duration": 7,
    "start_time": "2022-03-17T17:24:27.956Z"
   },
   {
    "duration": 6,
    "start_time": "2022-03-17T17:24:51.665Z"
   },
   {
    "duration": 4,
    "start_time": "2022-03-17T17:27:50.447Z"
   },
   {
    "duration": 5,
    "start_time": "2022-03-17T17:27:50.871Z"
   },
   {
    "duration": 7,
    "start_time": "2022-03-17T17:28:18.408Z"
   },
   {
    "duration": 7,
    "start_time": "2022-03-17T17:30:14.137Z"
   },
   {
    "duration": 8,
    "start_time": "2022-03-17T17:31:15.336Z"
   },
   {
    "duration": 19,
    "start_time": "2022-03-17T17:31:23.252Z"
   },
   {
    "duration": 21,
    "start_time": "2022-03-17T17:31:29.541Z"
   },
   {
    "duration": 13,
    "start_time": "2022-03-17T17:32:25.146Z"
   },
   {
    "duration": 24,
    "start_time": "2022-03-17T17:32:59.338Z"
   },
   {
    "duration": 9,
    "start_time": "2022-03-17T17:34:12.618Z"
   },
   {
    "duration": 11,
    "start_time": "2022-03-17T17:34:14.289Z"
   },
   {
    "duration": 14,
    "start_time": "2022-03-17T17:34:14.867Z"
   },
   {
    "duration": 28,
    "start_time": "2022-03-17T17:37:11.694Z"
   },
   {
    "duration": 5,
    "start_time": "2022-03-17T17:37:12.417Z"
   },
   {
    "duration": 15,
    "start_time": "2022-03-17T17:37:17.046Z"
   },
   {
    "duration": 17,
    "start_time": "2022-03-17T17:37:20.086Z"
   },
   {
    "duration": 45,
    "start_time": "2022-03-17T17:37:20.679Z"
   },
   {
    "duration": 282,
    "start_time": "2022-03-17T17:37:22.014Z"
   },
   {
    "duration": 32,
    "start_time": "2022-03-17T17:37:24.966Z"
   },
   {
    "duration": 3,
    "start_time": "2022-03-17T17:37:25.462Z"
   },
   {
    "duration": 8,
    "start_time": "2022-03-17T17:37:26.246Z"
   },
   {
    "duration": 643,
    "start_time": "2022-03-17T17:37:26.893Z"
   },
   {
    "duration": 55,
    "start_time": "2022-03-17T18:12:56.632Z"
   },
   {
    "duration": 368,
    "start_time": "2022-03-17T18:13:08.865Z"
   },
   {
    "duration": 62,
    "start_time": "2022-03-17T18:14:30.664Z"
   },
   {
    "duration": 310,
    "start_time": "2022-03-17T18:14:45.120Z"
   },
   {
    "duration": 54,
    "start_time": "2022-03-17T18:30:37.346Z"
   },
   {
    "duration": 342,
    "start_time": "2022-03-17T18:30:39.633Z"
   },
   {
    "duration": 136,
    "start_time": "2022-03-17T18:31:09.552Z"
   },
   {
    "duration": 51,
    "start_time": "2022-03-17T18:31:17.169Z"
   },
   {
    "duration": 307,
    "start_time": "2022-03-17T18:31:23.533Z"
   },
   {
    "duration": 15,
    "start_time": "2022-03-17T18:38:25.834Z"
   },
   {
    "duration": 17,
    "start_time": "2022-03-17T18:38:41.066Z"
   },
   {
    "duration": 17,
    "start_time": "2022-03-17T18:38:52.642Z"
   },
   {
    "duration": 15,
    "start_time": "2022-03-17T18:39:18.818Z"
   },
   {
    "duration": 1038,
    "start_time": "2022-03-17T18:42:18.151Z"
   },
   {
    "duration": 1036,
    "start_time": "2022-03-17T18:45:32.400Z"
   },
   {
    "duration": 25,
    "start_time": "2022-03-17T18:48:40.091Z"
   },
   {
    "duration": 145,
    "start_time": "2022-03-17T18:48:48.827Z"
   },
   {
    "duration": 16,
    "start_time": "2022-03-17T18:48:56.545Z"
   },
   {
    "duration": 1138,
    "start_time": "2022-03-17T18:49:05.602Z"
   },
   {
    "duration": 20,
    "start_time": "2022-03-17T18:49:47.345Z"
   },
   {
    "duration": 25,
    "start_time": "2022-03-17T18:49:52.195Z"
   },
   {
    "duration": 1034,
    "start_time": "2022-03-17T18:49:58.421Z"
   },
   {
    "duration": 1350,
    "start_time": "2022-03-17T18:51:32.472Z"
   },
   {
    "duration": 1030,
    "start_time": "2022-03-17T18:51:43.663Z"
   },
   {
    "duration": 1172,
    "start_time": "2022-03-17T18:52:08.568Z"
   },
   {
    "duration": 1034,
    "start_time": "2022-03-17T18:52:34.104Z"
   },
   {
    "duration": 1182,
    "start_time": "2022-03-17T18:52:57.544Z"
   },
   {
    "duration": 858,
    "start_time": "2022-03-17T18:53:08.238Z"
   },
   {
    "duration": 1050,
    "start_time": "2022-03-17T18:53:16.071Z"
   },
   {
    "duration": 1138,
    "start_time": "2022-03-17T18:53:25.430Z"
   },
   {
    "duration": 984,
    "start_time": "2022-03-17T18:56:23.253Z"
   },
   {
    "duration": 1142,
    "start_time": "2022-03-17T18:56:40.915Z"
   },
   {
    "duration": 933,
    "start_time": "2022-03-17T18:57:07.315Z"
   },
   {
    "duration": 18,
    "start_time": "2022-03-17T19:11:30.662Z"
   },
   {
    "duration": 16,
    "start_time": "2022-03-17T19:11:40.047Z"
   },
   {
    "duration": 16,
    "start_time": "2022-03-17T19:11:47.462Z"
   },
   {
    "duration": 15,
    "start_time": "2022-03-17T19:11:53.423Z"
   },
   {
    "duration": 1067,
    "start_time": "2022-03-17T19:11:55.414Z"
   },
   {
    "duration": 927,
    "start_time": "2022-03-17T19:12:06.429Z"
   },
   {
    "duration": 54,
    "start_time": "2022-03-17T19:18:07.657Z"
   },
   {
    "duration": 49,
    "start_time": "2022-03-17T19:18:12.714Z"
   },
   {
    "duration": 321,
    "start_time": "2022-03-17T19:18:17.953Z"
   },
   {
    "duration": 51,
    "start_time": "2022-03-17T19:18:23.922Z"
   },
   {
    "duration": 339,
    "start_time": "2022-03-17T19:18:24.593Z"
   },
   {
    "duration": 16,
    "start_time": "2022-03-17T19:19:09.089Z"
   },
   {
    "duration": 1100,
    "start_time": "2022-03-17T19:19:55.496Z"
   },
   {
    "duration": 941,
    "start_time": "2022-03-17T19:20:17.153Z"
   },
   {
    "duration": 903,
    "start_time": "2022-03-17T19:22:11.914Z"
   },
   {
    "duration": 271,
    "start_time": "2022-03-17T19:29:58.616Z"
   },
   {
    "duration": 170,
    "start_time": "2022-03-17T19:30:04.808Z"
   },
   {
    "duration": 821,
    "start_time": "2022-03-17T19:30:07.782Z"
   },
   {
    "duration": 3608,
    "start_time": "2022-03-17T19:35:21.517Z"
   },
   {
    "duration": 307,
    "start_time": "2022-03-17T19:36:33.833Z"
   },
   {
    "duration": 353,
    "start_time": "2022-03-17T19:59:13.457Z"
   },
   {
    "duration": 211,
    "start_time": "2022-03-17T19:59:29.775Z"
   },
   {
    "duration": 176,
    "start_time": "2022-03-17T20:00:13.759Z"
   },
   {
    "duration": 191,
    "start_time": "2022-03-17T20:00:24.135Z"
   },
   {
    "duration": 181,
    "start_time": "2022-03-17T20:00:38.054Z"
   },
   {
    "duration": 318,
    "start_time": "2022-03-17T20:01:38.316Z"
   },
   {
    "duration": 461,
    "start_time": "2022-03-17T20:02:36.326Z"
   },
   {
    "duration": 352,
    "start_time": "2022-03-17T20:03:46.036Z"
   },
   {
    "duration": 340,
    "start_time": "2022-03-17T20:03:49.916Z"
   },
   {
    "duration": 410,
    "start_time": "2022-03-17T20:03:56.794Z"
   },
   {
    "duration": 414,
    "start_time": "2022-03-17T20:04:05.826Z"
   },
   {
    "duration": 32,
    "start_time": "2022-03-17T20:04:45.138Z"
   },
   {
    "duration": 418,
    "start_time": "2022-03-17T20:04:57.845Z"
   },
   {
    "duration": 39,
    "start_time": "2022-03-17T20:06:37.330Z"
   },
   {
    "duration": 36,
    "start_time": "2022-03-17T20:06:47.728Z"
   },
   {
    "duration": 53,
    "start_time": "2022-03-17T20:06:52.088Z"
   },
   {
    "duration": 50,
    "start_time": "2022-03-17T20:07:13.080Z"
   },
   {
    "duration": 210,
    "start_time": "2022-03-17T20:07:33.688Z"
   },
   {
    "duration": 30,
    "start_time": "2022-03-17T20:07:44.624Z"
   },
   {
    "duration": 43,
    "start_time": "2022-03-17T20:08:03.888Z"
   },
   {
    "duration": 50,
    "start_time": "2022-03-17T20:08:18.479Z"
   },
   {
    "duration": 31,
    "start_time": "2022-03-17T20:09:58.150Z"
   },
   {
    "duration": 36,
    "start_time": "2022-03-17T20:10:14.175Z"
   },
   {
    "duration": 48,
    "start_time": "2022-03-17T20:10:55.940Z"
   },
   {
    "duration": 43,
    "start_time": "2022-03-17T20:11:04.942Z"
   },
   {
    "duration": 51,
    "start_time": "2022-03-17T20:11:18.716Z"
   },
   {
    "duration": 41,
    "start_time": "2022-03-17T20:11:28.215Z"
   },
   {
    "duration": 32,
    "start_time": "2022-03-17T20:12:17.943Z"
   },
   {
    "duration": 144,
    "start_time": "2022-03-17T20:39:22.791Z"
   },
   {
    "duration": 1220,
    "start_time": "2022-03-17T20:39:49.014Z"
   },
   {
    "duration": 1096,
    "start_time": "2022-03-17T20:40:20.725Z"
   },
   {
    "duration": 1443,
    "start_time": "2022-03-17T20:41:00.389Z"
   },
   {
    "duration": 1162,
    "start_time": "2022-03-17T20:41:54.781Z"
   },
   {
    "duration": 1275,
    "start_time": "2022-03-17T20:42:06.948Z"
   },
   {
    "duration": 6,
    "start_time": "2022-03-17T20:44:11.690Z"
   },
   {
    "duration": 392,
    "start_time": "2022-03-17T20:44:12.331Z"
   },
   {
    "duration": 1382,
    "start_time": "2022-03-17T20:45:00.899Z"
   },
   {
    "duration": 4,
    "start_time": "2022-03-17T20:45:02.283Z"
   },
   {
    "duration": 68,
    "start_time": "2022-03-17T20:45:02.289Z"
   },
   {
    "duration": 26,
    "start_time": "2022-03-17T20:45:02.361Z"
   },
   {
    "duration": 17,
    "start_time": "2022-03-17T20:45:02.402Z"
   },
   {
    "duration": 33,
    "start_time": "2022-03-17T20:45:02.421Z"
   },
   {
    "duration": 27,
    "start_time": "2022-03-17T20:45:02.456Z"
   },
   {
    "duration": 77,
    "start_time": "2022-03-17T20:45:02.485Z"
   },
   {
    "duration": 14,
    "start_time": "2022-03-17T20:45:02.564Z"
   },
   {
    "duration": 15,
    "start_time": "2022-03-17T20:45:02.582Z"
   },
   {
    "duration": 43,
    "start_time": "2022-03-17T20:45:02.599Z"
   },
   {
    "duration": 14,
    "start_time": "2022-03-17T20:45:02.645Z"
   },
   {
    "duration": 39,
    "start_time": "2022-03-17T20:45:02.661Z"
   },
   {
    "duration": 46,
    "start_time": "2022-03-17T20:45:02.703Z"
   },
   {
    "duration": 22,
    "start_time": "2022-03-17T20:45:02.751Z"
   },
   {
    "duration": 29,
    "start_time": "2022-03-17T20:45:02.775Z"
   },
   {
    "duration": 25,
    "start_time": "2022-03-17T20:45:02.806Z"
   },
   {
    "duration": 42,
    "start_time": "2022-03-17T20:45:02.833Z"
   },
   {
    "duration": 10,
    "start_time": "2022-03-17T20:45:02.877Z"
   },
   {
    "duration": 24,
    "start_time": "2022-03-17T20:45:02.889Z"
   },
   {
    "duration": 19,
    "start_time": "2022-03-17T20:45:02.916Z"
   },
   {
    "duration": 31,
    "start_time": "2022-03-17T20:45:02.937Z"
   },
   {
    "duration": 11,
    "start_time": "2022-03-17T20:45:02.970Z"
   },
   {
    "duration": 33,
    "start_time": "2022-03-17T20:45:02.983Z"
   },
   {
    "duration": 22,
    "start_time": "2022-03-17T20:45:03.018Z"
   },
   {
    "duration": 75,
    "start_time": "2022-03-17T20:45:03.042Z"
   },
   {
    "duration": 284,
    "start_time": "2022-03-17T20:45:03.120Z"
   },
   {
    "duration": 29,
    "start_time": "2022-03-17T20:45:03.409Z"
   },
   {
    "duration": 23,
    "start_time": "2022-03-17T20:45:03.440Z"
   },
   {
    "duration": 40,
    "start_time": "2022-03-17T20:45:03.465Z"
   },
   {
    "duration": 695,
    "start_time": "2022-03-17T20:45:03.507Z"
   },
   {
    "duration": 48,
    "start_time": "2022-03-17T20:45:04.204Z"
   },
   {
    "duration": 351,
    "start_time": "2022-03-17T20:45:04.254Z"
   },
   {
    "duration": 14,
    "start_time": "2022-03-17T20:45:04.607Z"
   },
   {
    "duration": 1120,
    "start_time": "2022-03-17T20:45:04.623Z"
   },
   {
    "duration": 911,
    "start_time": "2022-03-17T20:45:05.745Z"
   },
   {
    "duration": 229,
    "start_time": "2022-03-17T20:45:06.658Z"
   },
   {
    "duration": 163,
    "start_time": "2022-03-17T20:45:06.889Z"
   },
   {
    "duration": 976,
    "start_time": "2022-03-17T20:45:07.054Z"
   },
   {
    "duration": 4668,
    "start_time": "2022-03-17T20:45:08.033Z"
   },
   {
    "duration": 288,
    "start_time": "2022-03-17T20:45:12.703Z"
   },
   {
    "duration": 44,
    "start_time": "2022-03-17T20:45:13.001Z"
   },
   {
    "duration": 8,
    "start_time": "2022-03-17T20:45:13.047Z"
   },
   {
    "duration": 432,
    "start_time": "2022-03-17T20:45:13.057Z"
   },
   {
    "duration": 0,
    "start_time": "2022-03-17T20:45:13.491Z"
   },
   {
    "duration": 0,
    "start_time": "2022-03-17T20:45:13.502Z"
   },
   {
    "duration": 0,
    "start_time": "2022-03-17T20:45:13.503Z"
   },
   {
    "duration": 0,
    "start_time": "2022-03-17T20:45:13.505Z"
   },
   {
    "duration": 0,
    "start_time": "2022-03-17T20:45:13.506Z"
   },
   {
    "duration": 0,
    "start_time": "2022-03-17T20:45:13.508Z"
   },
   {
    "duration": 413,
    "start_time": "2022-03-17T20:46:57.265Z"
   },
   {
    "duration": 6,
    "start_time": "2022-03-17T20:47:11.185Z"
   },
   {
    "duration": 9,
    "start_time": "2022-03-17T20:47:15.026Z"
   },
   {
    "duration": 1296,
    "start_time": "2022-03-19T07:52:33.171Z"
   },
   {
    "duration": 3,
    "start_time": "2022-03-19T07:52:34.469Z"
   },
   {
    "duration": 46,
    "start_time": "2022-03-19T07:52:34.474Z"
   },
   {
    "duration": 17,
    "start_time": "2022-03-19T07:52:34.522Z"
   },
   {
    "duration": 14,
    "start_time": "2022-03-19T07:52:34.541Z"
   },
   {
    "duration": 6,
    "start_time": "2022-03-19T07:52:34.556Z"
   },
   {
    "duration": 12,
    "start_time": "2022-03-19T07:52:34.563Z"
   },
   {
    "duration": 21,
    "start_time": "2022-03-19T07:52:34.577Z"
   },
   {
    "duration": 34,
    "start_time": "2022-03-19T07:52:34.599Z"
   },
   {
    "duration": 5,
    "start_time": "2022-03-19T07:52:34.636Z"
   },
   {
    "duration": 7,
    "start_time": "2022-03-19T07:52:34.642Z"
   },
   {
    "duration": 4,
    "start_time": "2022-03-19T07:52:34.650Z"
   },
   {
    "duration": 6,
    "start_time": "2022-03-19T07:52:34.656Z"
   },
   {
    "duration": 7,
    "start_time": "2022-03-19T07:52:34.663Z"
   },
   {
    "duration": 5,
    "start_time": "2022-03-19T07:52:34.672Z"
   },
   {
    "duration": 14,
    "start_time": "2022-03-19T07:52:34.678Z"
   },
   {
    "duration": 42,
    "start_time": "2022-03-19T07:52:34.694Z"
   },
   {
    "duration": 20,
    "start_time": "2022-03-19T07:52:34.738Z"
   },
   {
    "duration": 6,
    "start_time": "2022-03-19T07:52:34.759Z"
   },
   {
    "duration": 8,
    "start_time": "2022-03-19T07:52:34.767Z"
   },
   {
    "duration": 11,
    "start_time": "2022-03-19T07:52:34.776Z"
   },
   {
    "duration": 13,
    "start_time": "2022-03-19T07:52:34.789Z"
   },
   {
    "duration": 5,
    "start_time": "2022-03-19T07:52:34.833Z"
   },
   {
    "duration": 15,
    "start_time": "2022-03-19T07:52:34.839Z"
   },
   {
    "duration": 13,
    "start_time": "2022-03-19T07:52:34.855Z"
   },
   {
    "duration": 32,
    "start_time": "2022-03-19T07:52:34.869Z"
   },
   {
    "duration": 272,
    "start_time": "2022-03-19T07:52:34.902Z"
   },
   {
    "duration": 25,
    "start_time": "2022-03-19T07:52:35.177Z"
   },
   {
    "duration": 3,
    "start_time": "2022-03-19T07:52:35.203Z"
   },
   {
    "duration": 26,
    "start_time": "2022-03-19T07:52:35.207Z"
   },
   {
    "duration": 579,
    "start_time": "2022-03-19T07:52:35.234Z"
   },
   {
    "duration": 42,
    "start_time": "2022-03-19T07:52:35.815Z"
   },
   {
    "duration": 276,
    "start_time": "2022-03-19T07:52:35.858Z"
   },
   {
    "duration": 13,
    "start_time": "2022-03-19T07:52:36.136Z"
   },
   {
    "duration": 862,
    "start_time": "2022-03-19T07:52:36.151Z"
   },
   {
    "duration": 744,
    "start_time": "2022-03-19T07:52:37.015Z"
   },
   {
    "duration": 128,
    "start_time": "2022-03-19T07:52:37.761Z"
   },
   {
    "duration": 135,
    "start_time": "2022-03-19T07:52:37.890Z"
   },
   {
    "duration": 669,
    "start_time": "2022-03-19T07:52:38.027Z"
   },
   {
    "duration": 3001,
    "start_time": "2022-03-19T07:52:38.697Z"
   },
   {
    "duration": 240,
    "start_time": "2022-03-19T07:52:41.699Z"
   },
   {
    "duration": 27,
    "start_time": "2022-03-19T07:52:41.940Z"
   },
   {
    "duration": 4,
    "start_time": "2022-03-19T07:52:41.969Z"
   },
   {
    "duration": 353,
    "start_time": "2022-03-19T07:52:41.975Z"
   },
   {
    "duration": 0,
    "start_time": "2022-03-19T07:52:42.333Z"
   },
   {
    "duration": 0,
    "start_time": "2022-03-19T07:52:42.333Z"
   },
   {
    "duration": 0,
    "start_time": "2022-03-19T07:52:42.334Z"
   },
   {
    "duration": 0,
    "start_time": "2022-03-19T07:52:42.336Z"
   },
   {
    "duration": 0,
    "start_time": "2022-03-19T07:52:42.337Z"
   },
   {
    "duration": 0,
    "start_time": "2022-03-19T07:52:42.338Z"
   },
   {
    "duration": 5,
    "start_time": "2022-03-19T07:58:36.863Z"
   },
   {
    "duration": 428,
    "start_time": "2022-03-19T07:58:39.943Z"
   },
   {
    "duration": 397,
    "start_time": "2022-03-19T07:58:49.352Z"
   },
   {
    "duration": 14,
    "start_time": "2022-03-19T08:33:58.446Z"
   },
   {
    "duration": 400,
    "start_time": "2022-03-19T08:34:08.246Z"
   },
   {
    "duration": 14,
    "start_time": "2022-03-19T08:36:36.817Z"
   },
   {
    "duration": 309,
    "start_time": "2022-03-19T08:36:41.761Z"
   },
   {
    "duration": 13,
    "start_time": "2022-03-19T08:37:04.400Z"
   },
   {
    "duration": 314,
    "start_time": "2022-03-19T08:37:06.504Z"
   },
   {
    "duration": 414,
    "start_time": "2022-03-19T08:38:20.760Z"
   },
   {
    "duration": 5,
    "start_time": "2022-03-19T08:38:23.326Z"
   },
   {
    "duration": 7,
    "start_time": "2022-03-19T08:38:29.078Z"
   },
   {
    "duration": 1380,
    "start_time": "2022-03-20T05:50:30.668Z"
   },
   {
    "duration": 2,
    "start_time": "2022-03-20T05:50:32.050Z"
   },
   {
    "duration": 49,
    "start_time": "2022-03-20T05:50:32.054Z"
   },
   {
    "duration": 18,
    "start_time": "2022-03-20T05:50:32.106Z"
   },
   {
    "duration": 14,
    "start_time": "2022-03-20T05:50:32.125Z"
   },
   {
    "duration": 5,
    "start_time": "2022-03-20T05:50:32.140Z"
   },
   {
    "duration": 12,
    "start_time": "2022-03-20T05:50:32.147Z"
   },
   {
    "duration": 43,
    "start_time": "2022-03-20T05:50:32.160Z"
   },
   {
    "duration": 5,
    "start_time": "2022-03-20T05:50:32.204Z"
   },
   {
    "duration": 7,
    "start_time": "2022-03-20T05:50:32.211Z"
   },
   {
    "duration": 5,
    "start_time": "2022-03-20T05:50:32.219Z"
   },
   {
    "duration": 3,
    "start_time": "2022-03-20T05:50:32.226Z"
   },
   {
    "duration": 5,
    "start_time": "2022-03-20T05:50:32.230Z"
   },
   {
    "duration": 5,
    "start_time": "2022-03-20T05:50:32.237Z"
   },
   {
    "duration": 7,
    "start_time": "2022-03-20T05:50:32.244Z"
   },
   {
    "duration": 16,
    "start_time": "2022-03-20T05:50:32.252Z"
   },
   {
    "duration": 34,
    "start_time": "2022-03-20T05:50:32.270Z"
   },
   {
    "duration": 19,
    "start_time": "2022-03-20T05:50:32.305Z"
   },
   {
    "duration": 8,
    "start_time": "2022-03-20T05:50:32.326Z"
   },
   {
    "duration": 8,
    "start_time": "2022-03-20T05:50:32.335Z"
   },
   {
    "duration": 11,
    "start_time": "2022-03-20T05:50:32.345Z"
   },
   {
    "duration": 44,
    "start_time": "2022-03-20T05:50:32.358Z"
   },
   {
    "duration": 5,
    "start_time": "2022-03-20T05:50:32.403Z"
   },
   {
    "duration": 16,
    "start_time": "2022-03-20T05:50:32.409Z"
   },
   {
    "duration": 14,
    "start_time": "2022-03-20T05:50:32.426Z"
   },
   {
    "duration": 37,
    "start_time": "2022-03-20T05:50:32.441Z"
   },
   {
    "duration": 268,
    "start_time": "2022-03-20T05:50:32.479Z"
   },
   {
    "duration": 26,
    "start_time": "2022-03-20T05:50:32.751Z"
   },
   {
    "duration": 3,
    "start_time": "2022-03-20T05:50:32.778Z"
   },
   {
    "duration": 23,
    "start_time": "2022-03-20T05:50:32.782Z"
   },
   {
    "duration": 562,
    "start_time": "2022-03-20T05:50:32.807Z"
   },
   {
    "duration": 42,
    "start_time": "2022-03-20T05:50:33.371Z"
   },
   {
    "duration": 286,
    "start_time": "2022-03-20T05:50:33.415Z"
   },
   {
    "duration": 13,
    "start_time": "2022-03-20T05:50:33.703Z"
   },
   {
    "duration": 935,
    "start_time": "2022-03-20T05:50:33.717Z"
   },
   {
    "duration": 747,
    "start_time": "2022-03-20T05:50:34.654Z"
   },
   {
    "duration": 136,
    "start_time": "2022-03-20T05:50:35.403Z"
   },
   {
    "duration": 131,
    "start_time": "2022-03-20T05:50:35.540Z"
   },
   {
    "duration": 708,
    "start_time": "2022-03-20T05:50:35.672Z"
   },
   {
    "duration": 3049,
    "start_time": "2022-03-20T05:50:36.381Z"
   },
   {
    "duration": 242,
    "start_time": "2022-03-20T05:50:39.432Z"
   },
   {
    "duration": 39,
    "start_time": "2022-03-20T05:50:39.675Z"
   },
   {
    "duration": 4,
    "start_time": "2022-03-20T05:50:39.715Z"
   },
   {
    "duration": 399,
    "start_time": "2022-03-20T05:50:39.720Z"
   },
   {
    "duration": 393,
    "start_time": "2022-03-20T05:50:40.120Z"
   },
   {
    "duration": 12,
    "start_time": "2022-03-20T05:50:40.515Z"
   },
   {
    "duration": 413,
    "start_time": "2022-03-20T05:50:40.529Z"
   },
   {
    "duration": 406,
    "start_time": "2022-03-20T05:50:40.944Z"
   },
   {
    "duration": 5,
    "start_time": "2022-03-20T05:50:41.352Z"
   },
   {
    "duration": 16,
    "start_time": "2022-03-20T05:50:41.358Z"
   },
   {
    "duration": 26,
    "start_time": "2022-03-20T05:50:41.375Z"
   },
   {
    "duration": 15,
    "start_time": "2022-03-20T05:50:41.402Z"
   },
   {
    "duration": 232,
    "start_time": "2022-03-20T05:59:59.137Z"
   },
   {
    "duration": 235,
    "start_time": "2022-03-20T06:00:17.713Z"
   },
   {
    "duration": 236,
    "start_time": "2022-03-20T06:00:28.015Z"
   },
   {
    "duration": 1082,
    "start_time": "2022-03-20T06:11:07.509Z"
   },
   {
    "duration": 2,
    "start_time": "2022-03-20T06:11:08.593Z"
   },
   {
    "duration": 44,
    "start_time": "2022-03-20T06:11:08.597Z"
   },
   {
    "duration": 17,
    "start_time": "2022-03-20T06:11:08.643Z"
   },
   {
    "duration": 16,
    "start_time": "2022-03-20T06:11:08.662Z"
   },
   {
    "duration": 5,
    "start_time": "2022-03-20T06:11:08.679Z"
   },
   {
    "duration": 22,
    "start_time": "2022-03-20T06:11:08.686Z"
   },
   {
    "duration": 19,
    "start_time": "2022-03-20T06:11:08.710Z"
   },
   {
    "duration": 5,
    "start_time": "2022-03-20T06:11:08.731Z"
   },
   {
    "duration": 5,
    "start_time": "2022-03-20T06:11:08.740Z"
   },
   {
    "duration": 7,
    "start_time": "2022-03-20T06:11:08.747Z"
   },
   {
    "duration": 5,
    "start_time": "2022-03-20T06:11:08.756Z"
   },
   {
    "duration": 40,
    "start_time": "2022-03-20T06:11:08.762Z"
   },
   {
    "duration": 6,
    "start_time": "2022-03-20T06:11:08.804Z"
   },
   {
    "duration": 6,
    "start_time": "2022-03-20T06:11:08.812Z"
   },
   {
    "duration": 16,
    "start_time": "2022-03-20T06:11:08.820Z"
   },
   {
    "duration": 12,
    "start_time": "2022-03-20T06:11:08.838Z"
   },
   {
    "duration": 21,
    "start_time": "2022-03-20T06:11:08.852Z"
   },
   {
    "duration": 7,
    "start_time": "2022-03-20T06:11:08.901Z"
   },
   {
    "duration": 8,
    "start_time": "2022-03-20T06:11:08.909Z"
   },
   {
    "duration": 11,
    "start_time": "2022-03-20T06:11:08.919Z"
   },
   {
    "duration": 16,
    "start_time": "2022-03-20T06:11:08.932Z"
   },
   {
    "duration": 3,
    "start_time": "2022-03-20T06:11:08.950Z"
   },
   {
    "duration": 18,
    "start_time": "2022-03-20T06:11:08.955Z"
   },
   {
    "duration": 37,
    "start_time": "2022-03-20T06:11:08.974Z"
   },
   {
    "duration": 30,
    "start_time": "2022-03-20T06:11:09.013Z"
   },
   {
    "duration": 238,
    "start_time": "2022-03-20T06:11:09.045Z"
   },
   {
    "duration": 28,
    "start_time": "2022-03-20T06:11:09.287Z"
   },
   {
    "duration": 2,
    "start_time": "2022-03-20T06:11:09.317Z"
   },
   {
    "duration": 8,
    "start_time": "2022-03-20T06:11:09.321Z"
   },
   {
    "duration": 859,
    "start_time": "2022-03-20T06:11:09.331Z"
   },
   {
    "duration": 42,
    "start_time": "2022-03-20T06:11:10.192Z"
   },
   {
    "duration": 265,
    "start_time": "2022-03-20T06:11:10.236Z"
   },
   {
    "duration": 13,
    "start_time": "2022-03-20T06:11:10.503Z"
   },
   {
    "duration": 894,
    "start_time": "2022-03-20T06:11:10.517Z"
   },
   {
    "duration": 752,
    "start_time": "2022-03-20T06:11:11.413Z"
   },
   {
    "duration": 141,
    "start_time": "2022-03-20T06:11:12.167Z"
   },
   {
    "duration": 140,
    "start_time": "2022-03-20T06:11:12.309Z"
   },
   {
    "duration": 667,
    "start_time": "2022-03-20T06:11:12.452Z"
   },
   {
    "duration": 2960,
    "start_time": "2022-03-20T06:11:13.121Z"
   },
   {
    "duration": 240,
    "start_time": "2022-03-20T06:11:16.083Z"
   },
   {
    "duration": 26,
    "start_time": "2022-03-20T06:11:16.324Z"
   },
   {
    "duration": 5,
    "start_time": "2022-03-20T06:11:16.351Z"
   },
   {
    "duration": 422,
    "start_time": "2022-03-20T06:11:16.357Z"
   },
   {
    "duration": 406,
    "start_time": "2022-03-20T06:11:16.780Z"
   },
   {
    "duration": 21,
    "start_time": "2022-03-20T06:11:17.188Z"
   },
   {
    "duration": 356,
    "start_time": "2022-03-20T06:11:17.211Z"
   },
   {
    "duration": 393,
    "start_time": "2022-03-20T06:11:17.569Z"
   },
   {
    "duration": 5,
    "start_time": "2022-03-20T06:11:17.964Z"
   },
   {
    "duration": 9,
    "start_time": "2022-03-20T06:11:17.970Z"
   },
   {
    "duration": 28,
    "start_time": "2022-03-20T06:11:17.980Z"
   },
   {
    "duration": 10,
    "start_time": "2022-03-20T06:11:18.009Z"
   },
   {
    "duration": 1093,
    "start_time": "2022-08-02T16:47:58.810Z"
   },
   {
    "duration": 2,
    "start_time": "2022-08-02T16:47:59.905Z"
   },
   {
    "duration": 203,
    "start_time": "2022-08-02T16:47:59.908Z"
   },
   {
    "duration": 17,
    "start_time": "2022-08-02T16:48:00.114Z"
   },
   {
    "duration": 22,
    "start_time": "2022-08-02T16:48:00.133Z"
   },
   {
    "duration": 4,
    "start_time": "2022-08-02T16:48:00.157Z"
   },
   {
    "duration": 20,
    "start_time": "2022-08-02T16:48:00.163Z"
   },
   {
    "duration": 35,
    "start_time": "2022-08-02T16:48:00.185Z"
   },
   {
    "duration": 4,
    "start_time": "2022-08-02T16:48:00.223Z"
   },
   {
    "duration": 10,
    "start_time": "2022-08-02T16:48:00.230Z"
   },
   {
    "duration": 12,
    "start_time": "2022-08-02T16:48:00.241Z"
   },
   {
    "duration": 6,
    "start_time": "2022-08-02T16:48:00.255Z"
   },
   {
    "duration": 16,
    "start_time": "2022-08-02T16:48:00.263Z"
   },
   {
    "duration": 25,
    "start_time": "2022-08-02T16:48:00.281Z"
   },
   {
    "duration": 24,
    "start_time": "2022-08-02T16:48:00.308Z"
   },
   {
    "duration": 23,
    "start_time": "2022-08-02T16:48:00.334Z"
   },
   {
    "duration": 23,
    "start_time": "2022-08-02T16:48:00.359Z"
   },
   {
    "duration": 21,
    "start_time": "2022-08-02T16:48:00.384Z"
   },
   {
    "duration": 10,
    "start_time": "2022-08-02T16:48:00.407Z"
   },
   {
    "duration": 15,
    "start_time": "2022-08-02T16:48:00.419Z"
   },
   {
    "duration": 18,
    "start_time": "2022-08-02T16:48:00.436Z"
   },
   {
    "duration": 22,
    "start_time": "2022-08-02T16:48:00.456Z"
   },
   {
    "duration": 22,
    "start_time": "2022-08-02T16:48:00.480Z"
   },
   {
    "duration": 25,
    "start_time": "2022-08-02T16:48:00.505Z"
   },
   {
    "duration": 14,
    "start_time": "2022-08-02T16:48:00.532Z"
   },
   {
    "duration": 65,
    "start_time": "2022-08-02T16:48:00.548Z"
   },
   {
    "duration": 245,
    "start_time": "2022-08-02T16:48:00.615Z"
   },
   {
    "duration": 26,
    "start_time": "2022-08-02T16:48:00.863Z"
   },
   {
    "duration": 11,
    "start_time": "2022-08-02T16:48:00.891Z"
   },
   {
    "duration": 14,
    "start_time": "2022-08-02T16:48:00.904Z"
   },
   {
    "duration": 566,
    "start_time": "2022-08-02T16:48:00.920Z"
   },
   {
    "duration": 47,
    "start_time": "2022-08-02T16:48:01.488Z"
   },
   {
    "duration": 269,
    "start_time": "2022-08-02T16:48:01.536Z"
   },
   {
    "duration": 12,
    "start_time": "2022-08-02T16:48:01.806Z"
   },
   {
    "duration": 912,
    "start_time": "2022-08-02T16:48:01.820Z"
   },
   {
    "duration": 868,
    "start_time": "2022-08-02T16:48:02.735Z"
   },
   {
    "duration": 143,
    "start_time": "2022-08-02T16:48:03.605Z"
   },
   {
    "duration": 141,
    "start_time": "2022-08-02T16:48:03.750Z"
   },
   {
    "duration": 739,
    "start_time": "2022-08-02T16:48:03.893Z"
   },
   {
    "duration": 3355,
    "start_time": "2022-08-02T16:48:04.633Z"
   },
   {
    "duration": 263,
    "start_time": "2022-08-02T16:48:07.990Z"
   },
   {
    "duration": 27,
    "start_time": "2022-08-02T16:48:08.255Z"
   },
   {
    "duration": 20,
    "start_time": "2022-08-02T16:48:08.283Z"
   },
   {
    "duration": 425,
    "start_time": "2022-08-02T16:48:08.304Z"
   },
   {
    "duration": 451,
    "start_time": "2022-08-02T16:48:08.731Z"
   },
   {
    "duration": 21,
    "start_time": "2022-08-02T16:48:09.183Z"
   },
   {
    "duration": 384,
    "start_time": "2022-08-02T16:48:09.206Z"
   },
   {
    "duration": 427,
    "start_time": "2022-08-02T16:48:09.592Z"
   },
   {
    "duration": 6,
    "start_time": "2022-08-02T16:48:10.021Z"
   },
   {
    "duration": 13,
    "start_time": "2022-08-02T16:48:10.029Z"
   },
   {
    "duration": 21,
    "start_time": "2022-08-02T16:48:10.044Z"
   },
   {
    "duration": 11,
    "start_time": "2022-08-02T16:48:10.067Z"
   }
  ],
  "kernelspec": {
   "display_name": "Python 3 (ipykernel)",
   "language": "python",
   "name": "python3"
  },
  "language_info": {
   "codemirror_mode": {
    "name": "ipython",
    "version": 3
   },
   "file_extension": ".py",
   "mimetype": "text/x-python",
   "name": "python",
   "nbconvert_exporter": "python",
   "pygments_lexer": "ipython3",
   "version": "3.9.7"
  },
  "toc": {
   "base_numbering": 1,
   "nav_menu": {},
   "number_sections": true,
   "sideBar": true,
   "skip_h1_title": true,
   "title_cell": "Table of Contents",
   "title_sidebar": "Contents",
   "toc_cell": false,
   "toc_position": {
    "height": "calc(100% - 180px)",
    "left": "10px",
    "top": "150px",
    "width": "197.323px"
   },
   "toc_section_display": true,
   "toc_window_display": true
  }
 },
 "nbformat": 4,
 "nbformat_minor": 2
}
