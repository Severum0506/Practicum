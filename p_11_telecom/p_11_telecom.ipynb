{
 "cells": [
  {
   "cell_type": "markdown",
   "metadata": {
    "id": "DlMX4X2qBWPF"
   },
   "source": [
    "## Материалы:"
   ]
  },
  {
   "cell_type": "markdown",
   "metadata": {
    "id": "owL447cGBWPQ"
   },
   "source": [
    "- Презентация: https://disk.yandex.ru/i/nOc84rUAG_SHHQ\n",
    "- Дашборд: https://public.tableau.com/views/FP_16557649241770/Dashboard1?:language=en-US&publish=yes&:display_count=n&:origin=viz_share_link"
   ]
  },
  {
   "cell_type": "markdown",
   "metadata": {},
   "source": [
    "# Описание проекта Телеком - определение неэффективных операторов"
   ]
  },
  {
   "cell_type": "markdown",
   "metadata": {},
   "source": [
    "Помогите «Нупозвони» найти самых неэффективных операторов. \n",
    "\n",
    "Признаки низкой эффективности:\n",
    "- много пропущенных входящих вызовов,\n",
    "- долгое ожидания ответа при входящих внешних вызовах,\n",
    "- мало исходящих вывозов — в случае тех колл-центров, что специализируются на обзвонах, а не обработке входящих звонков."
   ]
  },
  {
   "cell_type": "markdown",
   "metadata": {},
   "source": [
    "**Описание данных:*\n",
    "\n",
    "Датасеты описывают использование услуг «Нупозвони» — провайдера виртуальный телефонии. \n",
    "\n",
    "Его клиенты — колл-центры, которые: \n",
    "- распределяют входящие вызовы на операторов,\n",
    "- совершают исходящие вызовы силами операторов.\n",
    "\n",
    "Также операторы могут делать внутренние вызовы — вызовы друг между другом\n",
    "внутри сети виртуальной телефонии."
   ]
  },
  {
   "cell_type": "markdown",
   "metadata": {
    "id": "rvi4w4G7BWPU"
   },
   "source": [
    "## Выгрузка данных"
   ]
  },
  {
   "cell_type": "code",
   "execution_count": 1,
   "metadata": {
    "id": "jJC3L0OLBWPW"
   },
   "outputs": [],
   "source": [
    "import pandas as pd\n",
    "import seaborn as sns\n",
    "import matplotlib.pyplot as plt\n",
    "import numpy as np \n",
    "from scipy import stats as st\n",
    "from scipy.stats import ttest_ind\n",
    "from datetime import datetime\n",
    "from plotly import graph_objects as go\n",
    "import plotly.express as px\n",
    "\n",
    "import warnings\n",
    "warnings.simplefilter('ignore')\n",
    "\n",
    "pd.set_option('display.max_columns', None)\n"
   ]
  },
  {
   "cell_type": "code",
   "execution_count": 2,
   "metadata": {
    "colab": {
     "base_uri": "https://localhost:8080/"
    },
    "id": "rnEyZs0-BWPZ",
    "outputId": "7655a5e7-872f-4ac7-cad1-c715b81cc476"
   },
   "outputs": [],
   "source": [
    "#from google.colab import drive\n",
    "#drive.mount('/content/drive')\n"
   ]
  },
  {
   "cell_type": "code",
   "execution_count": 3,
   "metadata": {
    "id": "sT25IAaHBx8w"
   },
   "outputs": [],
   "source": [
    "#clients = pd.read_csv('/content/drive/MyDrive/Colab Notebooks/final project/telecom_clients.csv')"
   ]
  },
  {
   "cell_type": "code",
   "execution_count": 4,
   "metadata": {
    "id": "jeRjPzXHByM2"
   },
   "outputs": [],
   "source": [
    "#df = pd.read_csv('/content/drive/MyDrive/Colab Notebooks/final project/telecom_dataset.csv')"
   ]
  },
  {
   "cell_type": "code",
   "execution_count": 5,
   "metadata": {
    "id": "vnrVrw6UBWPa"
   },
   "outputs": [],
   "source": [
    "clients = pd.read_csv('/datasets/telecom_clients.csv')"
   ]
  },
  {
   "cell_type": "code",
   "execution_count": 6,
   "metadata": {
    "id": "jKkuG_1EBWPd"
   },
   "outputs": [],
   "source": [
    "df = pd.read_csv('/datasets/telecom_dataset.csv')"
   ]
  },
  {
   "cell_type": "markdown",
   "metadata": {
    "id": "EGjj4sovBWPf"
   },
   "source": [
    "## Ознакомление с данными"
   ]
  },
  {
   "cell_type": "code",
   "execution_count": 7,
   "metadata": {
    "colab": {
     "base_uri": "https://localhost:8080/",
     "height": 493
    },
    "id": "nW_IVcQJBWPh",
    "outputId": "265f9f04-6722-4cac-e759-df228a669b89",
    "scrolled": false
   },
   "outputs": [
    {
     "name": "stdout",
     "output_type": "stream",
     "text": [
      "<class 'pandas.core.frame.DataFrame'>\n",
      "RangeIndex: 53902 entries, 0 to 53901\n",
      "Data columns (total 9 columns):\n",
      " #   Column               Non-Null Count  Dtype  \n",
      "---  ------               --------------  -----  \n",
      " 0   user_id              53902 non-null  int64  \n",
      " 1   date                 53902 non-null  object \n",
      " 2   direction            53902 non-null  object \n",
      " 3   internal             53785 non-null  object \n",
      " 4   operator_id          45730 non-null  float64\n",
      " 5   is_missed_call       53902 non-null  bool   \n",
      " 6   calls_count          53902 non-null  int64  \n",
      " 7   call_duration        53902 non-null  int64  \n",
      " 8   total_call_duration  53902 non-null  int64  \n",
      "dtypes: bool(1), float64(1), int64(4), object(3)\n",
      "memory usage: 3.3+ MB\n",
      "\n"
     ]
    },
    {
     "data": {
      "text/html": [
       "<div>\n",
       "<style scoped>\n",
       "    .dataframe tbody tr th:only-of-type {\n",
       "        vertical-align: middle;\n",
       "    }\n",
       "\n",
       "    .dataframe tbody tr th {\n",
       "        vertical-align: top;\n",
       "    }\n",
       "\n",
       "    .dataframe thead th {\n",
       "        text-align: right;\n",
       "    }\n",
       "</style>\n",
       "<table border=\"1\" class=\"dataframe\">\n",
       "  <thead>\n",
       "    <tr style=\"text-align: right;\">\n",
       "      <th></th>\n",
       "      <th>user_id</th>\n",
       "      <th>date</th>\n",
       "      <th>direction</th>\n",
       "      <th>internal</th>\n",
       "      <th>operator_id</th>\n",
       "      <th>is_missed_call</th>\n",
       "      <th>calls_count</th>\n",
       "      <th>call_duration</th>\n",
       "      <th>total_call_duration</th>\n",
       "    </tr>\n",
       "  </thead>\n",
       "  <tbody>\n",
       "    <tr>\n",
       "      <th>0</th>\n",
       "      <td>166377</td>\n",
       "      <td>2019-08-04 00:00:00+03:00</td>\n",
       "      <td>in</td>\n",
       "      <td>False</td>\n",
       "      <td>NaN</td>\n",
       "      <td>True</td>\n",
       "      <td>2</td>\n",
       "      <td>0</td>\n",
       "      <td>4</td>\n",
       "    </tr>\n",
       "    <tr>\n",
       "      <th>1</th>\n",
       "      <td>166377</td>\n",
       "      <td>2019-08-05 00:00:00+03:00</td>\n",
       "      <td>out</td>\n",
       "      <td>True</td>\n",
       "      <td>880022.0</td>\n",
       "      <td>True</td>\n",
       "      <td>3</td>\n",
       "      <td>0</td>\n",
       "      <td>5</td>\n",
       "    </tr>\n",
       "    <tr>\n",
       "      <th>2</th>\n",
       "      <td>166377</td>\n",
       "      <td>2019-08-05 00:00:00+03:00</td>\n",
       "      <td>out</td>\n",
       "      <td>True</td>\n",
       "      <td>880020.0</td>\n",
       "      <td>True</td>\n",
       "      <td>1</td>\n",
       "      <td>0</td>\n",
       "      <td>1</td>\n",
       "    </tr>\n",
       "    <tr>\n",
       "      <th>3</th>\n",
       "      <td>166377</td>\n",
       "      <td>2019-08-05 00:00:00+03:00</td>\n",
       "      <td>out</td>\n",
       "      <td>True</td>\n",
       "      <td>880020.0</td>\n",
       "      <td>False</td>\n",
       "      <td>1</td>\n",
       "      <td>10</td>\n",
       "      <td>18</td>\n",
       "    </tr>\n",
       "    <tr>\n",
       "      <th>4</th>\n",
       "      <td>166377</td>\n",
       "      <td>2019-08-05 00:00:00+03:00</td>\n",
       "      <td>out</td>\n",
       "      <td>False</td>\n",
       "      <td>880022.0</td>\n",
       "      <td>True</td>\n",
       "      <td>3</td>\n",
       "      <td>0</td>\n",
       "      <td>25</td>\n",
       "    </tr>\n",
       "  </tbody>\n",
       "</table>\n",
       "</div>"
      ],
      "text/plain": [
       "   user_id                       date direction internal  operator_id  \\\n",
       "0   166377  2019-08-04 00:00:00+03:00        in    False          NaN   \n",
       "1   166377  2019-08-05 00:00:00+03:00       out     True     880022.0   \n",
       "2   166377  2019-08-05 00:00:00+03:00       out     True     880020.0   \n",
       "3   166377  2019-08-05 00:00:00+03:00       out     True     880020.0   \n",
       "4   166377  2019-08-05 00:00:00+03:00       out    False     880022.0   \n",
       "\n",
       "   is_missed_call  calls_count  call_duration  total_call_duration  \n",
       "0            True            2              0                    4  \n",
       "1            True            3              0                    5  \n",
       "2            True            1              0                    1  \n",
       "3           False            1             10                   18  \n",
       "4            True            3              0                   25  "
      ]
     },
     "execution_count": 7,
     "metadata": {},
     "output_type": "execute_result"
    }
   ],
   "source": [
    "df.info()\n",
    "print()\n",
    "df.head()"
   ]
  },
  {
   "cell_type": "markdown",
   "metadata": {
    "id": "8JJNjSyUBWPk"
   },
   "source": [
    "У нас есть две таблицы.\n",
    "\n",
    "Первая df - основная, со следующим содержанием:\n",
    "- 53902 строки, 9 колонок\n",
    "- Колонка: User_id - Идентификатор клиентского аккаунта в сервисе\n",
    "- Колонка: date - дата статистики\n",
    "- Колонка: direction - направление вызовов (in - входящий, out - исходящий)\n",
    "- Колонка: internal - является ли звонок внутренним между операторами клиента\n",
    "- Колонка: operator_id - идентификатор оператора\n",
    "- Колонка: is_missed_call - является ли звонок пропущенным\n",
    "- Колонка: calls_count - количество звонков\n",
    "- Колонка: call_duration - длительность звонка (без учета времени ожидания)\n",
    "- Колонка: total_call_duration - длительность звонка (с учетом времени ожидания)\n",
    "- Типы данных: dtypes: bool(1), float64(1), int64(4), object(3)\n",
    "- Пропуски в столбцах: internal, operator_id.\n"
   ]
  },
  {
   "cell_type": "code",
   "execution_count": 8,
   "metadata": {
    "colab": {
     "base_uri": "https://localhost:8080/",
     "height": 391
    },
    "id": "JqWYRg6qBWPl",
    "outputId": "f64f51fc-9afe-4fc1-e317-c2d2d8c6ef1d"
   },
   "outputs": [
    {
     "name": "stdout",
     "output_type": "stream",
     "text": [
      "<class 'pandas.core.frame.DataFrame'>\n",
      "RangeIndex: 732 entries, 0 to 731\n",
      "Data columns (total 3 columns):\n",
      " #   Column       Non-Null Count  Dtype \n",
      "---  ------       --------------  ----- \n",
      " 0   user_id      732 non-null    int64 \n",
      " 1   tariff_plan  732 non-null    object\n",
      " 2   date_start   732 non-null    object\n",
      "dtypes: int64(1), object(2)\n",
      "memory usage: 17.3+ KB\n",
      "\n"
     ]
    },
    {
     "data": {
      "text/html": [
       "<div>\n",
       "<style scoped>\n",
       "    .dataframe tbody tr th:only-of-type {\n",
       "        vertical-align: middle;\n",
       "    }\n",
       "\n",
       "    .dataframe tbody tr th {\n",
       "        vertical-align: top;\n",
       "    }\n",
       "\n",
       "    .dataframe thead th {\n",
       "        text-align: right;\n",
       "    }\n",
       "</style>\n",
       "<table border=\"1\" class=\"dataframe\">\n",
       "  <thead>\n",
       "    <tr style=\"text-align: right;\">\n",
       "      <th></th>\n",
       "      <th>user_id</th>\n",
       "      <th>tariff_plan</th>\n",
       "      <th>date_start</th>\n",
       "    </tr>\n",
       "  </thead>\n",
       "  <tbody>\n",
       "    <tr>\n",
       "      <th>0</th>\n",
       "      <td>166713</td>\n",
       "      <td>A</td>\n",
       "      <td>2019-08-15</td>\n",
       "    </tr>\n",
       "    <tr>\n",
       "      <th>1</th>\n",
       "      <td>166901</td>\n",
       "      <td>A</td>\n",
       "      <td>2019-08-23</td>\n",
       "    </tr>\n",
       "    <tr>\n",
       "      <th>2</th>\n",
       "      <td>168527</td>\n",
       "      <td>A</td>\n",
       "      <td>2019-10-29</td>\n",
       "    </tr>\n",
       "    <tr>\n",
       "      <th>3</th>\n",
       "      <td>167097</td>\n",
       "      <td>A</td>\n",
       "      <td>2019-09-01</td>\n",
       "    </tr>\n",
       "    <tr>\n",
       "      <th>4</th>\n",
       "      <td>168193</td>\n",
       "      <td>A</td>\n",
       "      <td>2019-10-16</td>\n",
       "    </tr>\n",
       "  </tbody>\n",
       "</table>\n",
       "</div>"
      ],
      "text/plain": [
       "   user_id tariff_plan  date_start\n",
       "0   166713           A  2019-08-15\n",
       "1   166901           A  2019-08-23\n",
       "2   168527           A  2019-10-29\n",
       "3   167097           A  2019-09-01\n",
       "4   168193           A  2019-10-16"
      ]
     },
     "execution_count": 8,
     "metadata": {},
     "output_type": "execute_result"
    }
   ],
   "source": [
    "clients.info()\n",
    "print()\n",
    "clients.head()"
   ]
  },
  {
   "cell_type": "markdown",
   "metadata": {
    "id": "xaBb-AfpBWPm"
   },
   "source": [
    "Вторая таблица clients содержит:\n",
    "- 732 строки, 3 колонки\n",
    "- колонка user_id - идентификатор клиентского аккаунта в сервисе\n",
    "- колонка - tariff_plan - текущий тарифный план клиента\n",
    "- колонка - date_start - дата регистрации клиента в сервисе\n",
    "- пропусков нет\n",
    "- типы данных: int64(1), object(2)"
   ]
  },
  {
   "cell_type": "markdown",
   "metadata": {
    "id": "jL9gV1ANBWPn"
   },
   "source": [
    "## Предобработка данных"
   ]
  },
  {
   "cell_type": "markdown",
   "metadata": {
    "id": "pNPsaCCoBWPn"
   },
   "source": [
    "Сначала поменяем тип данных на приемлемый.\n",
    "\n"
   ]
  },
  {
   "cell_type": "code",
   "execution_count": 9,
   "metadata": {
    "id": "zFBoSPP4BWPo"
   },
   "outputs": [],
   "source": [
    "df['date'] = pd.to_datetime(df['date'])"
   ]
  },
  {
   "cell_type": "code",
   "execution_count": 10,
   "metadata": {
    "id": "kd6c3ogRBWPo"
   },
   "outputs": [],
   "source": [
    "df['date'] = df['date'].dt.date #времени звонка нет, поэтому оставим только даты."
   ]
  },
  {
   "cell_type": "code",
   "execution_count": 11,
   "metadata": {
    "colab": {
     "base_uri": "https://localhost:8080/"
    },
    "id": "neFR-_sTBWPp",
    "outputId": "9b063eed-c1bd-4531-fc7c-a31ae591f7d0"
   },
   "outputs": [
    {
     "name": "stdout",
     "output_type": "stream",
     "text": [
      "Имеем данные с 2019-08-02 по 2019-11-28\n"
     ]
    }
   ],
   "source": [
    "print('Имеем данные с', df['date'].min(), 'по', df['date'].max())"
   ]
  },
  {
   "cell_type": "markdown",
   "metadata": {
    "id": "hoT-HQG9BWPq"
   },
   "source": [
    "Посмотрим на пропуски"
   ]
  },
  {
   "cell_type": "code",
   "execution_count": 12,
   "metadata": {
    "colab": {
     "base_uri": "https://localhost:8080/"
    },
    "id": "se0G4pyvBWPq",
    "outputId": "d0f9dd79-d62f-45e4-d269-96cfeaf5f143"
   },
   "outputs": [
    {
     "data": {
      "text/plain": [
       "user_id                   0\n",
       "date                      0\n",
       "direction                 0\n",
       "is_missed_call            0\n",
       "calls_count               0\n",
       "call_duration             0\n",
       "total_call_duration       0\n",
       "internal                117\n",
       "operator_id            8172\n",
       "dtype: int64"
      ]
     },
     "execution_count": 12,
     "metadata": {},
     "output_type": "execute_result"
    }
   ],
   "source": [
    "df.isna().sum().sort_values()"
   ]
  },
  {
   "cell_type": "markdown",
   "metadata": {
    "id": "pww3zFScBWPr"
   },
   "source": [
    "Имеем 117 пропусков в колонке internal (внутренние звонки) и 8172 пропуска в колонке operator_id (идентификатор оператора).\n",
    "\n",
    "Пропуски в колонке internal удалим, ввиду их малого количества, а с пропусками в operator_id познакомимся поближе."
   ]
  },
  {
   "cell_type": "code",
   "execution_count": 13,
   "metadata": {
    "id": "JHr0T-fiBWPs"
   },
   "outputs": [],
   "source": [
    "df = df.dropna(subset=['internal'])"
   ]
  },
  {
   "cell_type": "code",
   "execution_count": 14,
   "metadata": {
    "colab": {
     "base_uri": "https://localhost:8080/"
    },
    "id": "ZCrjXNIdBWPs",
    "outputId": "0fdb153b-dad1-4196-9432-018f9fffd98b"
   },
   "outputs": [
    {
     "data": {
      "text/html": [
       "<div>\n",
       "<style scoped>\n",
       "    .dataframe tbody tr th:only-of-type {\n",
       "        vertical-align: middle;\n",
       "    }\n",
       "\n",
       "    .dataframe tbody tr th {\n",
       "        vertical-align: top;\n",
       "    }\n",
       "\n",
       "    .dataframe thead th {\n",
       "        text-align: right;\n",
       "    }\n",
       "</style>\n",
       "<table border=\"1\" class=\"dataframe\">\n",
       "  <thead>\n",
       "    <tr style=\"text-align: right;\">\n",
       "      <th></th>\n",
       "      <th>user_id</th>\n",
       "      <th>date</th>\n",
       "      <th>direction</th>\n",
       "      <th>internal</th>\n",
       "      <th>operator_id</th>\n",
       "      <th>is_missed_call</th>\n",
       "      <th>calls_count</th>\n",
       "      <th>call_duration</th>\n",
       "      <th>total_call_duration</th>\n",
       "    </tr>\n",
       "  </thead>\n",
       "  <tbody>\n",
       "    <tr>\n",
       "      <th>0</th>\n",
       "      <td>166377</td>\n",
       "      <td>2019-08-04</td>\n",
       "      <td>in</td>\n",
       "      <td>False</td>\n",
       "      <td>NaN</td>\n",
       "      <td>True</td>\n",
       "      <td>2</td>\n",
       "      <td>0</td>\n",
       "      <td>4</td>\n",
       "    </tr>\n",
       "    <tr>\n",
       "      <th>7</th>\n",
       "      <td>166377</td>\n",
       "      <td>2019-08-05</td>\n",
       "      <td>in</td>\n",
       "      <td>False</td>\n",
       "      <td>NaN</td>\n",
       "      <td>True</td>\n",
       "      <td>6</td>\n",
       "      <td>0</td>\n",
       "      <td>35</td>\n",
       "    </tr>\n",
       "    <tr>\n",
       "      <th>9</th>\n",
       "      <td>166377</td>\n",
       "      <td>2019-08-06</td>\n",
       "      <td>in</td>\n",
       "      <td>False</td>\n",
       "      <td>NaN</td>\n",
       "      <td>True</td>\n",
       "      <td>4</td>\n",
       "      <td>0</td>\n",
       "      <td>62</td>\n",
       "    </tr>\n",
       "    <tr>\n",
       "      <th>17</th>\n",
       "      <td>166377</td>\n",
       "      <td>2019-08-07</td>\n",
       "      <td>in</td>\n",
       "      <td>False</td>\n",
       "      <td>NaN</td>\n",
       "      <td>True</td>\n",
       "      <td>2</td>\n",
       "      <td>0</td>\n",
       "      <td>24</td>\n",
       "    </tr>\n",
       "    <tr>\n",
       "      <th>27</th>\n",
       "      <td>166377</td>\n",
       "      <td>2019-08-12</td>\n",
       "      <td>in</td>\n",
       "      <td>False</td>\n",
       "      <td>NaN</td>\n",
       "      <td>True</td>\n",
       "      <td>2</td>\n",
       "      <td>0</td>\n",
       "      <td>34</td>\n",
       "    </tr>\n",
       "    <tr>\n",
       "      <th>...</th>\n",
       "      <td>...</td>\n",
       "      <td>...</td>\n",
       "      <td>...</td>\n",
       "      <td>...</td>\n",
       "      <td>...</td>\n",
       "      <td>...</td>\n",
       "      <td>...</td>\n",
       "      <td>...</td>\n",
       "      <td>...</td>\n",
       "    </tr>\n",
       "    <tr>\n",
       "      <th>53876</th>\n",
       "      <td>168601</td>\n",
       "      <td>2019-11-27</td>\n",
       "      <td>in</td>\n",
       "      <td>False</td>\n",
       "      <td>NaN</td>\n",
       "      <td>True</td>\n",
       "      <td>2</td>\n",
       "      <td>0</td>\n",
       "      <td>39</td>\n",
       "    </tr>\n",
       "    <tr>\n",
       "      <th>53880</th>\n",
       "      <td>168601</td>\n",
       "      <td>2019-11-28</td>\n",
       "      <td>in</td>\n",
       "      <td>False</td>\n",
       "      <td>NaN</td>\n",
       "      <td>True</td>\n",
       "      <td>1</td>\n",
       "      <td>0</td>\n",
       "      <td>19</td>\n",
       "    </tr>\n",
       "    <tr>\n",
       "      <th>53889</th>\n",
       "      <td>168603</td>\n",
       "      <td>2019-11-28</td>\n",
       "      <td>in</td>\n",
       "      <td>False</td>\n",
       "      <td>NaN</td>\n",
       "      <td>True</td>\n",
       "      <td>1</td>\n",
       "      <td>0</td>\n",
       "      <td>30</td>\n",
       "    </tr>\n",
       "    <tr>\n",
       "      <th>53893</th>\n",
       "      <td>168606</td>\n",
       "      <td>2019-11-08</td>\n",
       "      <td>in</td>\n",
       "      <td>False</td>\n",
       "      <td>NaN</td>\n",
       "      <td>True</td>\n",
       "      <td>6</td>\n",
       "      <td>0</td>\n",
       "      <td>121</td>\n",
       "    </tr>\n",
       "    <tr>\n",
       "      <th>53901</th>\n",
       "      <td>168606</td>\n",
       "      <td>2019-11-19</td>\n",
       "      <td>in</td>\n",
       "      <td>False</td>\n",
       "      <td>NaN</td>\n",
       "      <td>True</td>\n",
       "      <td>2</td>\n",
       "      <td>0</td>\n",
       "      <td>64</td>\n",
       "    </tr>\n",
       "  </tbody>\n",
       "</table>\n",
       "<p>7993 rows × 9 columns</p>\n",
       "</div>"
      ],
      "text/plain": [
       "       user_id        date direction internal  operator_id  is_missed_call  \\\n",
       "0       166377  2019-08-04        in    False          NaN            True   \n",
       "7       166377  2019-08-05        in    False          NaN            True   \n",
       "9       166377  2019-08-06        in    False          NaN            True   \n",
       "17      166377  2019-08-07        in    False          NaN            True   \n",
       "27      166377  2019-08-12        in    False          NaN            True   \n",
       "...        ...         ...       ...      ...          ...             ...   \n",
       "53876   168601  2019-11-27        in    False          NaN            True   \n",
       "53880   168601  2019-11-28        in    False          NaN            True   \n",
       "53889   168603  2019-11-28        in    False          NaN            True   \n",
       "53893   168606  2019-11-08        in    False          NaN            True   \n",
       "53901   168606  2019-11-19        in    False          NaN            True   \n",
       "\n",
       "       calls_count  call_duration  total_call_duration  \n",
       "0                2              0                    4  \n",
       "7                6              0                   35  \n",
       "9                4              0                   62  \n",
       "17               2              0                   24  \n",
       "27               2              0                   34  \n",
       "...            ...            ...                  ...  \n",
       "53876            2              0                   39  \n",
       "53880            1              0                   19  \n",
       "53889            1              0                   30  \n",
       "53893            6              0                  121  \n",
       "53901            2              0                   64  \n",
       "\n",
       "[7993 rows x 9 columns]"
      ]
     },
     "execution_count": 14,
     "metadata": {},
     "output_type": "execute_result"
    }
   ],
   "source": [
    "df.loc[df['operator_id'].isna() & (df['is_missed_call']==True)]"
   ]
  },
  {
   "cell_type": "code",
   "execution_count": 15,
   "metadata": {
    "colab": {
     "base_uri": "https://localhost:8080/"
    },
    "id": "XnLxIZy1BWPt",
    "outputId": "d9fe3858-cbbf-4bae-eeab-dcf2f1460f68"
   },
   "outputs": [
    {
     "data": {
      "text/html": [
       "<div>\n",
       "<style scoped>\n",
       "    .dataframe tbody tr th:only-of-type {\n",
       "        vertical-align: middle;\n",
       "    }\n",
       "\n",
       "    .dataframe tbody tr th {\n",
       "        vertical-align: top;\n",
       "    }\n",
       "\n",
       "    .dataframe thead th {\n",
       "        text-align: right;\n",
       "    }\n",
       "</style>\n",
       "<table border=\"1\" class=\"dataframe\">\n",
       "  <thead>\n",
       "    <tr style=\"text-align: right;\">\n",
       "      <th></th>\n",
       "      <th>user_id</th>\n",
       "      <th>date</th>\n",
       "      <th>direction</th>\n",
       "      <th>internal</th>\n",
       "      <th>operator_id</th>\n",
       "      <th>is_missed_call</th>\n",
       "      <th>calls_count</th>\n",
       "      <th>call_duration</th>\n",
       "      <th>total_call_duration</th>\n",
       "    </tr>\n",
       "  </thead>\n",
       "  <tbody>\n",
       "    <tr>\n",
       "      <th>698</th>\n",
       "      <td>166399</td>\n",
       "      <td>2019-08-12</td>\n",
       "      <td>in</td>\n",
       "      <td>False</td>\n",
       "      <td>NaN</td>\n",
       "      <td>False</td>\n",
       "      <td>1</td>\n",
       "      <td>10</td>\n",
       "      <td>55</td>\n",
       "    </tr>\n",
       "    <tr>\n",
       "      <th>704</th>\n",
       "      <td>166399</td>\n",
       "      <td>2019-09-02</td>\n",
       "      <td>in</td>\n",
       "      <td>False</td>\n",
       "      <td>NaN</td>\n",
       "      <td>False</td>\n",
       "      <td>1</td>\n",
       "      <td>68</td>\n",
       "      <td>115</td>\n",
       "    </tr>\n",
       "    <tr>\n",
       "      <th>4089</th>\n",
       "      <td>166503</td>\n",
       "      <td>2019-09-26</td>\n",
       "      <td>out</td>\n",
       "      <td>False</td>\n",
       "      <td>NaN</td>\n",
       "      <td>False</td>\n",
       "      <td>1</td>\n",
       "      <td>213</td>\n",
       "      <td>220</td>\n",
       "    </tr>\n",
       "    <tr>\n",
       "      <th>4136</th>\n",
       "      <td>166503</td>\n",
       "      <td>2019-10-09</td>\n",
       "      <td>in</td>\n",
       "      <td>False</td>\n",
       "      <td>NaN</td>\n",
       "      <td>False</td>\n",
       "      <td>1</td>\n",
       "      <td>374</td>\n",
       "      <td>405</td>\n",
       "    </tr>\n",
       "    <tr>\n",
       "      <th>4198</th>\n",
       "      <td>166503</td>\n",
       "      <td>2019-10-21</td>\n",
       "      <td>out</td>\n",
       "      <td>True</td>\n",
       "      <td>NaN</td>\n",
       "      <td>False</td>\n",
       "      <td>2</td>\n",
       "      <td>382</td>\n",
       "      <td>397</td>\n",
       "    </tr>\n",
       "    <tr>\n",
       "      <th>...</th>\n",
       "      <td>...</td>\n",
       "      <td>...</td>\n",
       "      <td>...</td>\n",
       "      <td>...</td>\n",
       "      <td>...</td>\n",
       "      <td>...</td>\n",
       "      <td>...</td>\n",
       "      <td>...</td>\n",
       "      <td>...</td>\n",
       "    </tr>\n",
       "    <tr>\n",
       "      <th>50930</th>\n",
       "      <td>168252</td>\n",
       "      <td>2019-11-28</td>\n",
       "      <td>in</td>\n",
       "      <td>True</td>\n",
       "      <td>NaN</td>\n",
       "      <td>False</td>\n",
       "      <td>2</td>\n",
       "      <td>265</td>\n",
       "      <td>274</td>\n",
       "    </tr>\n",
       "    <tr>\n",
       "      <th>50946</th>\n",
       "      <td>168252</td>\n",
       "      <td>2019-11-28</td>\n",
       "      <td>in</td>\n",
       "      <td>False</td>\n",
       "      <td>NaN</td>\n",
       "      <td>False</td>\n",
       "      <td>45</td>\n",
       "      <td>23765</td>\n",
       "      <td>23897</td>\n",
       "    </tr>\n",
       "    <tr>\n",
       "      <th>50955</th>\n",
       "      <td>168252</td>\n",
       "      <td>2019-11-28</td>\n",
       "      <td>out</td>\n",
       "      <td>False</td>\n",
       "      <td>NaN</td>\n",
       "      <td>False</td>\n",
       "      <td>22</td>\n",
       "      <td>11904</td>\n",
       "      <td>12211</td>\n",
       "    </tr>\n",
       "    <tr>\n",
       "      <th>50956</th>\n",
       "      <td>168252</td>\n",
       "      <td>2019-11-28</td>\n",
       "      <td>out</td>\n",
       "      <td>True</td>\n",
       "      <td>NaN</td>\n",
       "      <td>False</td>\n",
       "      <td>1</td>\n",
       "      <td>159</td>\n",
       "      <td>168</td>\n",
       "    </tr>\n",
       "    <tr>\n",
       "      <th>51680</th>\n",
       "      <td>168336</td>\n",
       "      <td>2019-11-14</td>\n",
       "      <td>in</td>\n",
       "      <td>False</td>\n",
       "      <td>NaN</td>\n",
       "      <td>False</td>\n",
       "      <td>1</td>\n",
       "      <td>169</td>\n",
       "      <td>174</td>\n",
       "    </tr>\n",
       "  </tbody>\n",
       "</table>\n",
       "<p>122 rows × 9 columns</p>\n",
       "</div>"
      ],
      "text/plain": [
       "       user_id        date direction internal  operator_id  is_missed_call  \\\n",
       "698     166399  2019-08-12        in    False          NaN           False   \n",
       "704     166399  2019-09-02        in    False          NaN           False   \n",
       "4089    166503  2019-09-26       out    False          NaN           False   \n",
       "4136    166503  2019-10-09        in    False          NaN           False   \n",
       "4198    166503  2019-10-21       out     True          NaN           False   \n",
       "...        ...         ...       ...      ...          ...             ...   \n",
       "50930   168252  2019-11-28        in     True          NaN           False   \n",
       "50946   168252  2019-11-28        in    False          NaN           False   \n",
       "50955   168252  2019-11-28       out    False          NaN           False   \n",
       "50956   168252  2019-11-28       out     True          NaN           False   \n",
       "51680   168336  2019-11-14        in    False          NaN           False   \n",
       "\n",
       "       calls_count  call_duration  total_call_duration  \n",
       "698              1             10                   55  \n",
       "704              1             68                  115  \n",
       "4089             1            213                  220  \n",
       "4136             1            374                  405  \n",
       "4198             2            382                  397  \n",
       "...            ...            ...                  ...  \n",
       "50930            2            265                  274  \n",
       "50946           45          23765                23897  \n",
       "50955           22          11904                12211  \n",
       "50956            1            159                  168  \n",
       "51680            1            169                  174  \n",
       "\n",
       "[122 rows x 9 columns]"
      ]
     },
     "execution_count": 15,
     "metadata": {},
     "output_type": "execute_result"
    }
   ],
   "source": [
    "df.loc[df['operator_id'].isna() & (df['is_missed_call']==False)]"
   ]
  },
  {
   "cell_type": "code",
   "execution_count": 16,
   "metadata": {
    "colab": {
     "base_uri": "https://localhost:8080/"
    },
    "id": "avCwccEvBWPu",
    "outputId": "ea4dd727-753f-4123-ba7b-1caf4ff149ec"
   },
   "outputs": [
    {
     "data": {
      "text/html": [
       "<div>\n",
       "<style scoped>\n",
       "    .dataframe tbody tr th:only-of-type {\n",
       "        vertical-align: middle;\n",
       "    }\n",
       "\n",
       "    .dataframe tbody tr th {\n",
       "        vertical-align: top;\n",
       "    }\n",
       "\n",
       "    .dataframe thead th {\n",
       "        text-align: right;\n",
       "    }\n",
       "</style>\n",
       "<table border=\"1\" class=\"dataframe\">\n",
       "  <thead>\n",
       "    <tr style=\"text-align: right;\">\n",
       "      <th></th>\n",
       "      <th>user_id</th>\n",
       "      <th>date</th>\n",
       "      <th>direction</th>\n",
       "      <th>internal</th>\n",
       "      <th>operator_id</th>\n",
       "      <th>is_missed_call</th>\n",
       "      <th>calls_count</th>\n",
       "      <th>call_duration</th>\n",
       "      <th>total_call_duration</th>\n",
       "    </tr>\n",
       "  </thead>\n",
       "  <tbody>\n",
       "    <tr>\n",
       "      <th>698</th>\n",
       "      <td>166399</td>\n",
       "      <td>2019-08-12</td>\n",
       "      <td>in</td>\n",
       "      <td>False</td>\n",
       "      <td>NaN</td>\n",
       "      <td>False</td>\n",
       "      <td>1</td>\n",
       "      <td>10</td>\n",
       "      <td>55</td>\n",
       "    </tr>\n",
       "    <tr>\n",
       "      <th>704</th>\n",
       "      <td>166399</td>\n",
       "      <td>2019-09-02</td>\n",
       "      <td>in</td>\n",
       "      <td>False</td>\n",
       "      <td>NaN</td>\n",
       "      <td>False</td>\n",
       "      <td>1</td>\n",
       "      <td>68</td>\n",
       "      <td>115</td>\n",
       "    </tr>\n",
       "    <tr>\n",
       "      <th>4136</th>\n",
       "      <td>166503</td>\n",
       "      <td>2019-10-09</td>\n",
       "      <td>in</td>\n",
       "      <td>False</td>\n",
       "      <td>NaN</td>\n",
       "      <td>False</td>\n",
       "      <td>1</td>\n",
       "      <td>374</td>\n",
       "      <td>405</td>\n",
       "    </tr>\n",
       "    <tr>\n",
       "      <th>12752</th>\n",
       "      <td>166782</td>\n",
       "      <td>2019-09-03</td>\n",
       "      <td>in</td>\n",
       "      <td>False</td>\n",
       "      <td>NaN</td>\n",
       "      <td>False</td>\n",
       "      <td>3</td>\n",
       "      <td>229</td>\n",
       "      <td>277</td>\n",
       "    </tr>\n",
       "    <tr>\n",
       "      <th>12757</th>\n",
       "      <td>166782</td>\n",
       "      <td>2019-09-03</td>\n",
       "      <td>in</td>\n",
       "      <td>False</td>\n",
       "      <td>NaN</td>\n",
       "      <td>False</td>\n",
       "      <td>3</td>\n",
       "      <td>229</td>\n",
       "      <td>277</td>\n",
       "    </tr>\n",
       "    <tr>\n",
       "      <th>...</th>\n",
       "      <td>...</td>\n",
       "      <td>...</td>\n",
       "      <td>...</td>\n",
       "      <td>...</td>\n",
       "      <td>...</td>\n",
       "      <td>...</td>\n",
       "      <td>...</td>\n",
       "      <td>...</td>\n",
       "      <td>...</td>\n",
       "    </tr>\n",
       "    <tr>\n",
       "      <th>50892</th>\n",
       "      <td>168252</td>\n",
       "      <td>2019-11-26</td>\n",
       "      <td>in</td>\n",
       "      <td>False</td>\n",
       "      <td>NaN</td>\n",
       "      <td>False</td>\n",
       "      <td>41</td>\n",
       "      <td>17606</td>\n",
       "      <td>17742</td>\n",
       "    </tr>\n",
       "    <tr>\n",
       "      <th>50898</th>\n",
       "      <td>168252</td>\n",
       "      <td>2019-11-27</td>\n",
       "      <td>in</td>\n",
       "      <td>False</td>\n",
       "      <td>NaN</td>\n",
       "      <td>False</td>\n",
       "      <td>52</td>\n",
       "      <td>23706</td>\n",
       "      <td>23894</td>\n",
       "    </tr>\n",
       "    <tr>\n",
       "      <th>50930</th>\n",
       "      <td>168252</td>\n",
       "      <td>2019-11-28</td>\n",
       "      <td>in</td>\n",
       "      <td>True</td>\n",
       "      <td>NaN</td>\n",
       "      <td>False</td>\n",
       "      <td>2</td>\n",
       "      <td>265</td>\n",
       "      <td>274</td>\n",
       "    </tr>\n",
       "    <tr>\n",
       "      <th>50946</th>\n",
       "      <td>168252</td>\n",
       "      <td>2019-11-28</td>\n",
       "      <td>in</td>\n",
       "      <td>False</td>\n",
       "      <td>NaN</td>\n",
       "      <td>False</td>\n",
       "      <td>45</td>\n",
       "      <td>23765</td>\n",
       "      <td>23897</td>\n",
       "    </tr>\n",
       "    <tr>\n",
       "      <th>51680</th>\n",
       "      <td>168336</td>\n",
       "      <td>2019-11-14</td>\n",
       "      <td>in</td>\n",
       "      <td>False</td>\n",
       "      <td>NaN</td>\n",
       "      <td>False</td>\n",
       "      <td>1</td>\n",
       "      <td>169</td>\n",
       "      <td>174</td>\n",
       "    </tr>\n",
       "  </tbody>\n",
       "</table>\n",
       "<p>73 rows × 9 columns</p>\n",
       "</div>"
      ],
      "text/plain": [
       "       user_id        date direction internal  operator_id  is_missed_call  \\\n",
       "698     166399  2019-08-12        in    False          NaN           False   \n",
       "704     166399  2019-09-02        in    False          NaN           False   \n",
       "4136    166503  2019-10-09        in    False          NaN           False   \n",
       "12752   166782  2019-09-03        in    False          NaN           False   \n",
       "12757   166782  2019-09-03        in    False          NaN           False   \n",
       "...        ...         ...       ...      ...          ...             ...   \n",
       "50892   168252  2019-11-26        in    False          NaN           False   \n",
       "50898   168252  2019-11-27        in    False          NaN           False   \n",
       "50930   168252  2019-11-28        in     True          NaN           False   \n",
       "50946   168252  2019-11-28        in    False          NaN           False   \n",
       "51680   168336  2019-11-14        in    False          NaN           False   \n",
       "\n",
       "       calls_count  call_duration  total_call_duration  \n",
       "698              1             10                   55  \n",
       "704              1             68                  115  \n",
       "4136             1            374                  405  \n",
       "12752            3            229                  277  \n",
       "12757            3            229                  277  \n",
       "...            ...            ...                  ...  \n",
       "50892           41          17606                17742  \n",
       "50898           52          23706                23894  \n",
       "50930            2            265                  274  \n",
       "50946           45          23765                23897  \n",
       "51680            1            169                  174  \n",
       "\n",
       "[73 rows x 9 columns]"
      ]
     },
     "execution_count": 16,
     "metadata": {},
     "output_type": "execute_result"
    }
   ],
   "source": [
    "df.loc[(df['operator_id'].isna()) & (df['is_missed_call']==False) & (df['direction'] == 'in')]"
   ]
  },
  {
   "cell_type": "markdown",
   "metadata": {
    "id": "El5lodRxBWPv"
   },
   "source": [
    "Около 98% пропущенных идентификаторов оператора имеют признак пропущенного звонка. Это значит что звонили не конкретному оператору, а просто в колл-центр. Никто трубку не взял, поэтому идентификатора нет. \n",
    "\n",
    "Есть записи в которых звонок принят, а оператор не определен. Их всего 122 штуки.\n",
    "\n",
    "Предлагаю заменить NaN на понятный нам идентификатор, например 111111, т.к. эти данные нам пригодятся для подсчета различных метрик, например среднего времени ожидания до того как юзер положит трубку."
   ]
  },
  {
   "cell_type": "code",
   "execution_count": 17,
   "metadata": {
    "id": "m7ZZ04o1BWPv"
   },
   "outputs": [],
   "source": [
    "df['operator_id'] = df['operator_id'].fillna(111111)"
   ]
  },
  {
   "cell_type": "code",
   "execution_count": 18,
   "metadata": {
    "id": "3FXEAcroBWPw"
   },
   "outputs": [],
   "source": [
    "df['operator_id'] = df['operator_id'].astype(int)"
   ]
  },
  {
   "cell_type": "markdown",
   "metadata": {
    "id": "Nn0pjErBBWPw"
   },
   "source": [
    "Проверим наличие дубликатов и удалим их."
   ]
  },
  {
   "cell_type": "code",
   "execution_count": 19,
   "metadata": {
    "colab": {
     "base_uri": "https://localhost:8080/"
    },
    "id": "UsJqaZPxBWPw",
    "outputId": "bf7e3beb-fff2-43e7-b70e-37d632fe28a5"
   },
   "outputs": [
    {
     "data": {
      "text/plain": [
       "4893"
      ]
     },
     "execution_count": 19,
     "metadata": {},
     "output_type": "execute_result"
    }
   ],
   "source": [
    "df.duplicated().sum()"
   ]
  },
  {
   "cell_type": "code",
   "execution_count": 20,
   "metadata": {
    "id": "yeN_3bqbBWPx"
   },
   "outputs": [],
   "source": [
    "df = df.drop_duplicates().reset_index(drop=True)"
   ]
  },
  {
   "cell_type": "markdown",
   "metadata": {
    "id": "J7PmAPqOBWPx"
   },
   "source": [
    "Удалили 4893 явных дубликата.\n",
    "\n",
    "Теперь добавим столбец со средним временем ожидания звонка."
   ]
  },
  {
   "cell_type": "code",
   "execution_count": 21,
   "metadata": {
    "id": "PyWkYB5bBWPx"
   },
   "outputs": [],
   "source": [
    "df['avg_wait'] = ((df['total_call_duration'] - df['call_duration']) / df['calls_count']).round(1)"
   ]
  },
  {
   "cell_type": "code",
   "execution_count": 22,
   "metadata": {
    "colab": {
     "base_uri": "https://localhost:8080/"
    },
    "id": "GH_3TFZ8BWPy",
    "outputId": "23850012-a552-403a-e564-80531cf49281"
   },
   "outputs": [
    {
     "name": "stdout",
     "output_type": "stream",
     "text": [
      "<class 'pandas.core.frame.DataFrame'>\n",
      "RangeIndex: 732 entries, 0 to 731\n",
      "Data columns (total 3 columns):\n",
      " #   Column       Non-Null Count  Dtype \n",
      "---  ------       --------------  ----- \n",
      " 0   user_id      732 non-null    int64 \n",
      " 1   tariff_plan  732 non-null    object\n",
      " 2   date_start   732 non-null    object\n",
      "dtypes: int64(1), object(2)\n",
      "memory usage: 17.3+ KB\n"
     ]
    },
    {
     "data": {
      "text/html": [
       "<div>\n",
       "<style scoped>\n",
       "    .dataframe tbody tr th:only-of-type {\n",
       "        vertical-align: middle;\n",
       "    }\n",
       "\n",
       "    .dataframe tbody tr th {\n",
       "        vertical-align: top;\n",
       "    }\n",
       "\n",
       "    .dataframe thead th {\n",
       "        text-align: right;\n",
       "    }\n",
       "</style>\n",
       "<table border=\"1\" class=\"dataframe\">\n",
       "  <thead>\n",
       "    <tr style=\"text-align: right;\">\n",
       "      <th></th>\n",
       "      <th>user_id</th>\n",
       "      <th>tariff_plan</th>\n",
       "      <th>date_start</th>\n",
       "    </tr>\n",
       "  </thead>\n",
       "  <tbody>\n",
       "    <tr>\n",
       "      <th>0</th>\n",
       "      <td>166713</td>\n",
       "      <td>A</td>\n",
       "      <td>2019-08-15</td>\n",
       "    </tr>\n",
       "    <tr>\n",
       "      <th>1</th>\n",
       "      <td>166901</td>\n",
       "      <td>A</td>\n",
       "      <td>2019-08-23</td>\n",
       "    </tr>\n",
       "    <tr>\n",
       "      <th>2</th>\n",
       "      <td>168527</td>\n",
       "      <td>A</td>\n",
       "      <td>2019-10-29</td>\n",
       "    </tr>\n",
       "    <tr>\n",
       "      <th>3</th>\n",
       "      <td>167097</td>\n",
       "      <td>A</td>\n",
       "      <td>2019-09-01</td>\n",
       "    </tr>\n",
       "    <tr>\n",
       "      <th>4</th>\n",
       "      <td>168193</td>\n",
       "      <td>A</td>\n",
       "      <td>2019-10-16</td>\n",
       "    </tr>\n",
       "  </tbody>\n",
       "</table>\n",
       "</div>"
      ],
      "text/plain": [
       "   user_id tariff_plan  date_start\n",
       "0   166713           A  2019-08-15\n",
       "1   166901           A  2019-08-23\n",
       "2   168527           A  2019-10-29\n",
       "3   167097           A  2019-09-01\n",
       "4   168193           A  2019-10-16"
      ]
     },
     "execution_count": 22,
     "metadata": {},
     "output_type": "execute_result"
    }
   ],
   "source": [
    "clients.info()\n",
    "clients.head()"
   ]
  },
  {
   "cell_type": "markdown",
   "metadata": {
    "id": "8GScc-byBWPz"
   },
   "source": [
    "Табличка не большая, предлагаю приклеить ее к основной."
   ]
  },
  {
   "cell_type": "code",
   "execution_count": 23,
   "metadata": {
    "id": "PUMBIMNkBWPz"
   },
   "outputs": [],
   "source": [
    "dff = df.merge(clients, on='user_id', how='outer') "
   ]
  },
  {
   "cell_type": "code",
   "execution_count": 24,
   "metadata": {
    "colab": {
     "base_uri": "https://localhost:8080/"
    },
    "id": "VwzxRaAwBWPz",
    "outputId": "2a8f3893-40bb-42f8-8a79-72dfadc5e470"
   },
   "outputs": [
    {
     "name": "stdout",
     "output_type": "stream",
     "text": [
      "<class 'pandas.core.frame.DataFrame'>\n",
      "Int64Index: 49317 entries, 0 to 49316\n",
      "Data columns (total 12 columns):\n",
      " #   Column               Non-Null Count  Dtype  \n",
      "---  ------               --------------  -----  \n",
      " 0   user_id              49317 non-null  int64  \n",
      " 1   date                 48892 non-null  object \n",
      " 2   direction            48892 non-null  object \n",
      " 3   internal             48892 non-null  object \n",
      " 4   operator_id          48892 non-null  float64\n",
      " 5   is_missed_call       48892 non-null  object \n",
      " 6   calls_count          48892 non-null  float64\n",
      " 7   call_duration        48892 non-null  float64\n",
      " 8   total_call_duration  48892 non-null  float64\n",
      " 9   avg_wait             48892 non-null  float64\n",
      " 10  tariff_plan          49317 non-null  object \n",
      " 11  date_start           49317 non-null  object \n",
      "dtypes: float64(5), int64(1), object(6)\n",
      "memory usage: 4.9+ MB\n"
     ]
    }
   ],
   "source": [
    "dff.info()"
   ]
  },
  {
   "cell_type": "markdown",
   "metadata": {
    "id": "PZHjFnX_BWP0"
   },
   "source": [
    "Обнаружил что в таблице с тарифами есть клиенты по которым у нас нет статистики. Поэтому в итоговой таблице клиентов без статистики уберем."
   ]
  },
  {
   "cell_type": "code",
   "execution_count": 25,
   "metadata": {
    "id": "A1f4Kh-JBWP0"
   },
   "outputs": [],
   "source": [
    "dff = dff.dropna(subset=['date'])"
   ]
  },
  {
   "cell_type": "code",
   "execution_count": 26,
   "metadata": {
    "id": "Ge1ZFrvIBWP1"
   },
   "outputs": [],
   "source": [
    "dff = dff.astype({\"operator_id\": \"int64\", \"calls_count\": \"int64\", \"call_duration\": \"int64\", \"total_call_duration\": \"int64\"})\n"
   ]
  },
  {
   "cell_type": "markdown",
   "metadata": {
    "id": "wyx44-KzBWP1"
   },
   "source": [
    "Вывод.\n",
    "\n",
    "Подготовили таблицу к работе. Убрали пропуски и дубликаты, привели типы данных к нужным.\n",
    "\n",
    "В итоговой таблице оказалось 48892 строк и 12 колонок.\n"
   ]
  },
  {
   "cell_type": "markdown",
   "metadata": {
    "id": "fMk8hfFkBWP2"
   },
   "source": [
    "## Исследовательский анализ данных\n"
   ]
  },
  {
   "cell_type": "markdown",
   "metadata": {
    "id": "IooH09PKBWP2"
   },
   "source": [
    "Для решения поставленной задачи воспользуемся внешними источниками.\n",
    "\n",
    "Например, сайт https://wilstream.ru/stati/kpi-koll-tsentra/ любезно предоставляет информацию о KPI колл-центра.\n",
    "\n",
    "Авторы статьи пишут:\n",
    "\n",
    "\"Показатели эффективности работы контактного центра могут быть **количественными и качественными**. Количественные могут рассчитываться как для центра в целом, так и для отдельных операторов. А вот качественными, в основном, оценивается эффективность работы оператора.\"\n",
    "\n",
    "Ввиду особенностей предоставленных данных ряд показателей эффективности колл-центра нам не доступен. В основном это качественные показатели эффективности, которые требуют вникать в специфику каждого отдельного колл-центра, и операторов в отдельности (например, оценивать разговор в целом, и завершился ли он выходм на ЛПР). \n",
    "\n",
    "Ниже показатели для расчета которых у нас есть данные.\n",
    "\n",
    "**Ключевые количественные показатели для колл-центра:**\n",
    "\n",
    "- CAR (Call Abandon Rate) или Abandoned Calls. \n",
    "\n",
    "Это общий % потерянных вызовов. Рассчитывается как отношение необработанных вызовов к общему количеству звонков.\n",
    "- ASA (Average Speed of Answer) – среднее время ожидания ответа клиентом. \n",
    "\n",
    "Его также называют коэффициентом потерянного клиентом времени.\n",
    "- ATT (Average Talk Time) – среднее время разговора оператора с клиентом.\n",
    "- ATA (Average Time to Abandon) – сколько в среднем ждали на линии клиенты, не дождавшиеся ответа.\n",
    "\n",
    "**Оценка работы операторов:**\n",
    "\n",
    "KPI операторов call-центра отличаются для входящего потока и исходящих звонков.\n",
    "\n",
    "KPI оператора для входящих вызовов:\n",
    "- общее количество принятых за смену вызовов;\n",
    "- среднее время ожидания ответа оператора клиентом;\n",
    "- среднее время разговора оператора с клиентом.\n",
    "\n",
    "KPI для исходящего трафика (обзвон клиентов):\n",
    "- процент совершенных обратных звонков в назначенное клиентом время;\n",
    "- процент звонков, завершившихся конверсией;\n",
    "- процент звонков, завершившихся выходом на ЛПР и другие.\n",
    "\n"
   ]
  },
  {
   "cell_type": "code",
   "execution_count": 27,
   "metadata": {
    "colab": {
     "base_uri": "https://localhost:8080/"
    },
    "id": "aoO3YwsaBWP3",
    "outputId": "fb036d34-e54e-4457-c77e-3d42a559a10e"
   },
   "outputs": [
    {
     "data": {
      "text/html": [
       "<div>\n",
       "<style scoped>\n",
       "    .dataframe tbody tr th:only-of-type {\n",
       "        vertical-align: middle;\n",
       "    }\n",
       "\n",
       "    .dataframe tbody tr th {\n",
       "        vertical-align: top;\n",
       "    }\n",
       "\n",
       "    .dataframe thead th {\n",
       "        text-align: right;\n",
       "    }\n",
       "</style>\n",
       "<table border=\"1\" class=\"dataframe\">\n",
       "  <thead>\n",
       "    <tr style=\"text-align: right;\">\n",
       "      <th></th>\n",
       "      <th>user_id</th>\n",
       "      <th>date</th>\n",
       "      <th>direction</th>\n",
       "      <th>internal</th>\n",
       "      <th>operator_id</th>\n",
       "      <th>is_missed_call</th>\n",
       "      <th>calls_count</th>\n",
       "      <th>call_duration</th>\n",
       "      <th>total_call_duration</th>\n",
       "      <th>avg_wait</th>\n",
       "      <th>tariff_plan</th>\n",
       "      <th>date_start</th>\n",
       "    </tr>\n",
       "  </thead>\n",
       "  <tbody>\n",
       "    <tr>\n",
       "      <th>0</th>\n",
       "      <td>166377</td>\n",
       "      <td>2019-08-04</td>\n",
       "      <td>in</td>\n",
       "      <td>False</td>\n",
       "      <td>111111</td>\n",
       "      <td>True</td>\n",
       "      <td>2</td>\n",
       "      <td>0</td>\n",
       "      <td>4</td>\n",
       "      <td>2.0</td>\n",
       "      <td>B</td>\n",
       "      <td>2019-08-01</td>\n",
       "    </tr>\n",
       "    <tr>\n",
       "      <th>1</th>\n",
       "      <td>166377</td>\n",
       "      <td>2019-08-05</td>\n",
       "      <td>out</td>\n",
       "      <td>True</td>\n",
       "      <td>880022</td>\n",
       "      <td>True</td>\n",
       "      <td>3</td>\n",
       "      <td>0</td>\n",
       "      <td>5</td>\n",
       "      <td>1.7</td>\n",
       "      <td>B</td>\n",
       "      <td>2019-08-01</td>\n",
       "    </tr>\n",
       "    <tr>\n",
       "      <th>2</th>\n",
       "      <td>166377</td>\n",
       "      <td>2019-08-05</td>\n",
       "      <td>out</td>\n",
       "      <td>True</td>\n",
       "      <td>880020</td>\n",
       "      <td>True</td>\n",
       "      <td>1</td>\n",
       "      <td>0</td>\n",
       "      <td>1</td>\n",
       "      <td>1.0</td>\n",
       "      <td>B</td>\n",
       "      <td>2019-08-01</td>\n",
       "    </tr>\n",
       "    <tr>\n",
       "      <th>3</th>\n",
       "      <td>166377</td>\n",
       "      <td>2019-08-05</td>\n",
       "      <td>out</td>\n",
       "      <td>True</td>\n",
       "      <td>880020</td>\n",
       "      <td>False</td>\n",
       "      <td>1</td>\n",
       "      <td>10</td>\n",
       "      <td>18</td>\n",
       "      <td>8.0</td>\n",
       "      <td>B</td>\n",
       "      <td>2019-08-01</td>\n",
       "    </tr>\n",
       "    <tr>\n",
       "      <th>4</th>\n",
       "      <td>166377</td>\n",
       "      <td>2019-08-05</td>\n",
       "      <td>out</td>\n",
       "      <td>False</td>\n",
       "      <td>880022</td>\n",
       "      <td>True</td>\n",
       "      <td>3</td>\n",
       "      <td>0</td>\n",
       "      <td>25</td>\n",
       "      <td>8.3</td>\n",
       "      <td>B</td>\n",
       "      <td>2019-08-01</td>\n",
       "    </tr>\n",
       "  </tbody>\n",
       "</table>\n",
       "</div>"
      ],
      "text/plain": [
       "   user_id        date direction internal  operator_id is_missed_call  \\\n",
       "0   166377  2019-08-04        in    False       111111           True   \n",
       "1   166377  2019-08-05       out     True       880022           True   \n",
       "2   166377  2019-08-05       out     True       880020           True   \n",
       "3   166377  2019-08-05       out     True       880020          False   \n",
       "4   166377  2019-08-05       out    False       880022           True   \n",
       "\n",
       "   calls_count  call_duration  total_call_duration  avg_wait tariff_plan  \\\n",
       "0            2              0                    4       2.0           B   \n",
       "1            3              0                    5       1.7           B   \n",
       "2            1              0                    1       1.0           B   \n",
       "3            1             10                   18       8.0           B   \n",
       "4            3              0                   25       8.3           B   \n",
       "\n",
       "   date_start  \n",
       "0  2019-08-01  \n",
       "1  2019-08-01  \n",
       "2  2019-08-01  \n",
       "3  2019-08-01  \n",
       "4  2019-08-01  "
      ]
     },
     "execution_count": 27,
     "metadata": {},
     "output_type": "execute_result"
    }
   ],
   "source": [
    "dff.head()"
   ]
  },
  {
   "cell_type": "markdown",
   "metadata": {
    "id": "npOKtGs_BWP4"
   },
   "source": [
    "Датасет предварительно сгруппирован. В каждой строке для конкретного пользователя имеется ряд определенных идентификаторов. Всего есть 8 типов строк. Например, юзер -> оператор -> входящий/исходящий -> внутренний/внешний -> пропущенный/не пропущенный звонок."
   ]
  },
  {
   "cell_type": "code",
   "execution_count": 28,
   "metadata": {
    "colab": {
     "base_uri": "https://localhost:8080/"
    },
    "id": "yQDWbxsnBWP4",
    "outputId": "1cc000b5-9f6d-479c-cc53-1248ce9404a3"
   },
   "outputs": [
    {
     "name": "stdout",
     "output_type": "stream",
     "text": [
      "Количество клиентов: 307\n",
      "Количество операторов: 1093\n"
     ]
    }
   ],
   "source": [
    "print('Количество клиентов:', dff['user_id'].nunique())\n",
    "print('Количество операторов:', dff['operator_id'].nunique())"
   ]
  },
  {
   "cell_type": "code",
   "execution_count": 29,
   "metadata": {
    "colab": {
     "base_uri": "https://localhost:8080/"
    },
    "id": "omrN0OGuBWP4",
    "outputId": "2fab8d02-aacc-4ff8-e8c6-5ecd60bc3964"
   },
   "outputs": [
    {
     "data": {
      "text/plain": [
       "119"
      ]
     },
     "execution_count": 29,
     "metadata": {},
     "output_type": "execute_result"
    }
   ],
   "source": [
    "dff['date'].nunique()"
   ]
  },
  {
   "cell_type": "code",
   "execution_count": 30,
   "metadata": {
    "colab": {
     "base_uri": "https://localhost:8080/"
    },
    "id": "1qb1C0oxBWP5",
    "outputId": "3261ebba-de51-4e9b-a1c3-aa475646a830"
   },
   "outputs": [
    {
     "data": {
      "image/png": "[encoded data removed]",
      "text/plain": [
       "<Figure size 1080x360 with 1 Axes>"
      ]
     },
     "metadata": {
      "needs_background": "light"
     },
     "output_type": "display_data"
    }
   ],
   "source": [
    "dff['date'].hist(bins=119, figsize=(15,5), ec='black');\n",
    "plt.title('Распределение количества обращений в колл-центры по датам')\n",
    "plt.show()"
   ]
  },
  {
   "cell_type": "code",
   "execution_count": 31,
   "metadata": {
    "colab": {
     "base_uri": "https://localhost:8080/"
    },
    "id": "t-5NrsyLBWP5",
    "outputId": "1ee14aa6-b4d2-4c59-f9fc-3bb974dbfe44"
   },
   "outputs": [
    {
     "name": "stdout",
     "output_type": "stream",
     "text": [
      "Имеем данные с 2019-08-02 по 2019-11-28\n"
     ]
    }
   ],
   "source": [
    "print('Имеем данные с', df['date'].min(), 'по', df['date'].max())"
   ]
  },
  {
   "cell_type": "markdown",
   "metadata": {
    "id": "Kx3hAQ1JBWP5"
   },
   "source": [
    "Данные по времени распределены по датам. Есть аггрегированные данные по звонкам за день."
   ]
  },
  {
   "cell_type": "code",
   "execution_count": 32,
   "metadata": {
    "colab": {
     "base_uri": "https://localhost:8080/"
    },
    "id": "IWvQM21EBWP6",
    "outputId": "f581c7e2-2a51-4d37-f343-8b835ce4d1a3"
   },
   "outputs": [
    {
     "data": {
      "text/plain": [
       "66"
      ]
     },
     "execution_count": 32,
     "metadata": {},
     "output_type": "execute_result"
    }
   ],
   "source": [
    "dff['date_start'].nunique()"
   ]
  },
  {
   "cell_type": "code",
   "execution_count": 33,
   "metadata": {
    "colab": {
     "base_uri": "https://localhost:8080/"
    },
    "id": "L6rkYqMxBWP6",
    "outputId": "e16d92de-b8bb-42b4-bf94-2810db35f8a9"
   },
   "outputs": [
    {
     "data": {
      "image/png": "[encoded data removed]",
      "text/plain": [
       "<Figure size 1080x360 with 1 Axes>"
      ]
     },
     "metadata": {
      "needs_background": "light"
     },
     "output_type": "display_data"
    }
   ],
   "source": [
    "dff['date_start'].hist(bins=66, figsize=(15,5), ec='black', xrot=75);\n",
    "plt.title('График подключения новых клиентов')\n",
    "plt.show()"
   ]
  },
  {
   "cell_type": "markdown",
   "metadata": {
    "id": "ROzWQI7tBWP6"
   },
   "source": [
    "На графике накопления статистик видим, что данные накапливаются по нарастанию. Логично, чем дальше, тем больше клиентов, тем больше данных.\n",
    "\n",
    "На графике подключения новых клиентов видно, что активно новые клиенты набирались в августе 2019. "
   ]
  },
  {
   "cell_type": "markdown",
   "metadata": {
    "id": "dA6YbL5ABWP7"
   },
   "source": [
    "## Оценим основные метрики для колл-центров.\n"
   ]
  },
  {
   "cell_type": "markdown",
   "metadata": {
    "id": "EAhE_7OBBWP7"
   },
   "source": [
    "### Разбивка данных по типам коллцентров."
   ]
  },
  {
   "cell_type": "code",
   "execution_count": 34,
   "metadata": {
    "id": "zrtCvl6fBWP8"
   },
   "outputs": [],
   "source": [
    "data = dff\n",
    "data['direction'] = data['direction'].map({'in': 1, 'out': 0})"
   ]
  },
  {
   "cell_type": "code",
   "execution_count": 35,
   "metadata": {
    "id": "G4Ab4nU2BWP8"
   },
   "outputs": [],
   "source": [
    "asd = data.groupby('user_id')['direction'].mean().reset_index()"
   ]
  },
  {
   "cell_type": "code",
   "execution_count": 36,
   "metadata": {
    "id": "fje1Hj4NBWP9"
   },
   "outputs": [],
   "source": [
    "dff = dff.merge(asd, on='user_id', how='outer') "
   ]
  },
  {
   "cell_type": "code",
   "execution_count": 37,
   "metadata": {
    "id": "MPMUv-vMBWP9"
   },
   "outputs": [],
   "source": [
    "def income_grouped(direction_y):\n",
    "    if direction_y >= 0.5:\n",
    "        return 'Специализация на Входящие'\n",
    "    if direction_y < 0.5:\n",
    "        return 'Специализация на Исходящие'\n",
    "#    if 0.4 < direction_y < 0.6:\n",
    "#        return 'Без специализации'\n",
    "    \n",
    "dff['group'] = dff['direction_y'].apply(income_grouped)"
   ]
  },
  {
   "cell_type": "code",
   "execution_count": 38,
   "metadata": {
    "id": "hQzu1HIVBWP9"
   },
   "outputs": [],
   "source": [
    "dff = dff.rename(columns={'direction_x': 'direction'})"
   ]
  },
  {
   "cell_type": "code",
   "execution_count": 39,
   "metadata": {
    "id": "XAeQ5xjJBWP9"
   },
   "outputs": [],
   "source": [
    "dff = dff.drop('direction_y', 1)"
   ]
  },
  {
   "cell_type": "code",
   "execution_count": 40,
   "metadata": {
    "colab": {
     "base_uri": "https://localhost:8080/",
     "height": 544
    },
    "id": "qZPY266aBWP-",
    "outputId": "4599be64-6057-4d32-bffe-bdcc9ef223e3"
   },
   "outputs": [
    {
     "name": "stdout",
     "output_type": "stream",
     "text": [
      "<class 'pandas.core.frame.DataFrame'>\n",
      "Int64Index: 48892 entries, 0 to 48891\n",
      "Data columns (total 13 columns):\n",
      " #   Column               Non-Null Count  Dtype  \n",
      "---  ------               --------------  -----  \n",
      " 0   user_id              48892 non-null  int64  \n",
      " 1   date                 48892 non-null  object \n",
      " 2   direction            48892 non-null  int64  \n",
      " 3   internal             48892 non-null  object \n",
      " 4   operator_id          48892 non-null  int64  \n",
      " 5   is_missed_call       48892 non-null  object \n",
      " 6   calls_count          48892 non-null  int64  \n",
      " 7   call_duration        48892 non-null  int64  \n",
      " 8   total_call_duration  48892 non-null  int64  \n",
      " 9   avg_wait             48892 non-null  float64\n",
      " 10  tariff_plan          48892 non-null  object \n",
      " 11  date_start           48892 non-null  object \n",
      " 12  group                48892 non-null  object \n",
      "dtypes: float64(1), int64(6), object(6)\n",
      "memory usage: 5.2+ MB\n"
     ]
    },
    {
     "data": {
      "text/html": [
       "<div>\n",
       "<style scoped>\n",
       "    .dataframe tbody tr th:only-of-type {\n",
       "        vertical-align: middle;\n",
       "    }\n",
       "\n",
       "    .dataframe tbody tr th {\n",
       "        vertical-align: top;\n",
       "    }\n",
       "\n",
       "    .dataframe thead th {\n",
       "        text-align: right;\n",
       "    }\n",
       "</style>\n",
       "<table border=\"1\" class=\"dataframe\">\n",
       "  <thead>\n",
       "    <tr style=\"text-align: right;\">\n",
       "      <th></th>\n",
       "      <th>user_id</th>\n",
       "      <th>date</th>\n",
       "      <th>direction</th>\n",
       "      <th>internal</th>\n",
       "      <th>operator_id</th>\n",
       "      <th>is_missed_call</th>\n",
       "      <th>calls_count</th>\n",
       "      <th>call_duration</th>\n",
       "      <th>total_call_duration</th>\n",
       "      <th>avg_wait</th>\n",
       "      <th>tariff_plan</th>\n",
       "      <th>date_start</th>\n",
       "      <th>group</th>\n",
       "    </tr>\n",
       "  </thead>\n",
       "  <tbody>\n",
       "    <tr>\n",
       "      <th>0</th>\n",
       "      <td>166377</td>\n",
       "      <td>2019-08-04</td>\n",
       "      <td>1</td>\n",
       "      <td>False</td>\n",
       "      <td>111111</td>\n",
       "      <td>True</td>\n",
       "      <td>2</td>\n",
       "      <td>0</td>\n",
       "      <td>4</td>\n",
       "      <td>2.0</td>\n",
       "      <td>B</td>\n",
       "      <td>2019-08-01</td>\n",
       "      <td>Специализация на Исходящие</td>\n",
       "    </tr>\n",
       "    <tr>\n",
       "      <th>1</th>\n",
       "      <td>166377</td>\n",
       "      <td>2019-08-05</td>\n",
       "      <td>0</td>\n",
       "      <td>True</td>\n",
       "      <td>880022</td>\n",
       "      <td>True</td>\n",
       "      <td>3</td>\n",
       "      <td>0</td>\n",
       "      <td>5</td>\n",
       "      <td>1.7</td>\n",
       "      <td>B</td>\n",
       "      <td>2019-08-01</td>\n",
       "      <td>Специализация на Исходящие</td>\n",
       "    </tr>\n",
       "    <tr>\n",
       "      <th>2</th>\n",
       "      <td>166377</td>\n",
       "      <td>2019-08-05</td>\n",
       "      <td>0</td>\n",
       "      <td>True</td>\n",
       "      <td>880020</td>\n",
       "      <td>True</td>\n",
       "      <td>1</td>\n",
       "      <td>0</td>\n",
       "      <td>1</td>\n",
       "      <td>1.0</td>\n",
       "      <td>B</td>\n",
       "      <td>2019-08-01</td>\n",
       "      <td>Специализация на Исходящие</td>\n",
       "    </tr>\n",
       "    <tr>\n",
       "      <th>3</th>\n",
       "      <td>166377</td>\n",
       "      <td>2019-08-05</td>\n",
       "      <td>0</td>\n",
       "      <td>True</td>\n",
       "      <td>880020</td>\n",
       "      <td>False</td>\n",
       "      <td>1</td>\n",
       "      <td>10</td>\n",
       "      <td>18</td>\n",
       "      <td>8.0</td>\n",
       "      <td>B</td>\n",
       "      <td>2019-08-01</td>\n",
       "      <td>Специализация на Исходящие</td>\n",
       "    </tr>\n",
       "    <tr>\n",
       "      <th>4</th>\n",
       "      <td>166377</td>\n",
       "      <td>2019-08-05</td>\n",
       "      <td>0</td>\n",
       "      <td>False</td>\n",
       "      <td>880022</td>\n",
       "      <td>True</td>\n",
       "      <td>3</td>\n",
       "      <td>0</td>\n",
       "      <td>25</td>\n",
       "      <td>8.3</td>\n",
       "      <td>B</td>\n",
       "      <td>2019-08-01</td>\n",
       "      <td>Специализация на Исходящие</td>\n",
       "    </tr>\n",
       "  </tbody>\n",
       "</table>\n",
       "</div>"
      ],
      "text/plain": [
       "   user_id        date  direction internal  operator_id is_missed_call  \\\n",
       "0   166377  2019-08-04          1    False       111111           True   \n",
       "1   166377  2019-08-05          0     True       880022           True   \n",
       "2   166377  2019-08-05          0     True       880020           True   \n",
       "3   166377  2019-08-05          0     True       880020          False   \n",
       "4   166377  2019-08-05          0    False       880022           True   \n",
       "\n",
       "   calls_count  call_duration  total_call_duration  avg_wait tariff_plan  \\\n",
       "0            2              0                    4       2.0           B   \n",
       "1            3              0                    5       1.7           B   \n",
       "2            1              0                    1       1.0           B   \n",
       "3            1             10                   18       8.0           B   \n",
       "4            3              0                   25       8.3           B   \n",
       "\n",
       "   date_start                       group  \n",
       "0  2019-08-01  Специализация на Исходящие  \n",
       "1  2019-08-01  Специализация на Исходящие  \n",
       "2  2019-08-01  Специализация на Исходящие  \n",
       "3  2019-08-01  Специализация на Исходящие  \n",
       "4  2019-08-01  Специализация на Исходящие  "
      ]
     },
     "execution_count": 40,
     "metadata": {},
     "output_type": "execute_result"
    }
   ],
   "source": [
    "dff.info()\n",
    "dff.head()"
   ]
  },
  {
   "cell_type": "markdown",
   "metadata": {
    "id": "vNs3VXEuBWP-"
   },
   "source": [
    "Таким образом мы разделили наши данные на 2 группы.\n",
    "\n",
    "В первой группе собраны все клиенты и операторы специализирующиеся на Исходящих звонках.\n",
    "\n",
    "Во второй группе собраны все клиенты и операторы специализирующиеся на Входящих звонках.\n"
   ]
  },
  {
   "cell_type": "code",
   "execution_count": 41,
   "metadata": {
    "id": "OViRDKV1BWP-"
   },
   "outputs": [],
   "source": [
    "df_in = dff[dff['group']=='Специализация на Входящие']\n",
    "df_out = dff[dff['group']=='Специализация на Исходящие']"
   ]
  },
  {
   "cell_type": "markdown",
   "metadata": {
    "id": "U4aGwQ3ZBWP_"
   },
   "source": [
    "### Сравнение групп"
   ]
  },
  {
   "cell_type": "markdown",
   "metadata": {
    "id": "NZ5wWVqKBWP_"
   },
   "source": [
    "Теперь мы можем более подробно изучить каждую группу и сравнить их между собой."
   ]
  },
  {
   "cell_type": "code",
   "execution_count": 42,
   "metadata": {
    "colab": {
     "base_uri": "https://localhost:8080/"
    },
    "id": "ulxIEuklBWQA",
    "outputId": "b4ebd137-9d16-46a5-ba2e-831bda253503"
   },
   "outputs": [
    {
     "name": "stdout",
     "output_type": "stream",
     "text": [
      "Количество уникальных клиентов в группе Входящих: 177\n",
      "Количество уникальных клиентов в группе Исходящих: 130\n"
     ]
    }
   ],
   "source": [
    "print('Количество уникальных клиентов в группе Входящих:', df_in['user_id'].nunique())\n",
    "print('Количество уникальных клиентов в группе Исходящих:', df_out['user_id'].nunique())"
   ]
  },
  {
   "cell_type": "code",
   "execution_count": 43,
   "metadata": {
    "colab": {
     "base_uri": "https://localhost:8080/"
    },
    "id": "rblESXvCBWQA",
    "outputId": "aaaf53e2-2112-4245-c2c9-f5e70dbf6a8b"
   },
   "outputs": [
    {
     "data": {
      "image/png": "[encoded data removed]",
      "text/plain": [
       "<Figure size 432x288 with 1 Axes>"
      ]
     },
     "metadata": {},
     "output_type": "display_data"
    }
   ],
   "source": [
    "pie_df_in = df_in[df_in['internal']==False].groupby('direction')['calls_count'].sum().reset_index().sort_values(by='direction', ascending=False)\n",
    "labels = pie_df_in['direction']\n",
    "fig1, ax1 = plt.subplots()\n",
    "ax1.pie(pie_df_in['calls_count'], labels=labels, autopct='%1.1f%%',\n",
    "        shadow=True, startangle=90, pctdistance=0.5, )\n",
    "plt.title(\"Соотношение входящих и исходящих звонков в группе Входящих\", fontsize=15);"
   ]
  },
  {
   "cell_type": "code",
   "execution_count": 44,
   "metadata": {
    "colab": {
     "base_uri": "https://localhost:8080/"
    },
    "id": "Dsrxo-iYBWQA",
    "outputId": "22a0c914-a6fc-4190-a9fd-fc5ec5893ed5"
   },
   "outputs": [
    {
     "data": {
      "image/png": "[encoded data removed]",
      "text/plain": [
       "<Figure size 432x288 with 1 Axes>"
      ]
     },
     "metadata": {},
     "output_type": "display_data"
    }
   ],
   "source": [
    "pie_df_out = df_out[df_out['internal']==False].groupby('direction')['calls_count'].sum().reset_index().sort_values(by='direction', ascending=False)\n",
    "labels = pie_df_out['direction']\n",
    "fig1, ax1 = plt.subplots()\n",
    "ax1.pie(pie_df_out['calls_count'], labels=labels, autopct='%1.1f%%',\n",
    "        shadow=True, startangle=90, pctdistance=0.5, )\n",
    "plt.title(\"Соотношение входящих и исходящих звонков в группе Исходящих\", fontsize=15);"
   ]
  },
  {
   "cell_type": "markdown",
   "metadata": {
    "id": "KU9VhGZ8BWQB"
   },
   "source": [
    "### Оценим метрики на всех группах"
   ]
  },
  {
   "cell_type": "markdown",
   "metadata": {
    "id": "4pg7BNKEBWQB"
   },
   "source": [
    "#### Группа Входящих"
   ]
  },
  {
   "cell_type": "code",
   "execution_count": 45,
   "metadata": {
    "colab": {
     "base_uri": "https://localhost:8080/"
    },
    "id": "L_eOo8eQBWQB",
    "outputId": "29694177-bc38-4b1b-945a-871490b98431"
   },
   "outputs": [
    {
     "data": {
      "text/html": [
       "<div>\n",
       "<style scoped>\n",
       "    .dataframe tbody tr th:only-of-type {\n",
       "        vertical-align: middle;\n",
       "    }\n",
       "\n",
       "    .dataframe tbody tr th {\n",
       "        vertical-align: top;\n",
       "    }\n",
       "\n",
       "    .dataframe thead th {\n",
       "        text-align: right;\n",
       "    }\n",
       "</style>\n",
       "<table border=\"1\" class=\"dataframe\">\n",
       "  <thead>\n",
       "    <tr style=\"text-align: right;\">\n",
       "      <th></th>\n",
       "      <th>count</th>\n",
       "      <th>mean</th>\n",
       "      <th>std</th>\n",
       "      <th>min</th>\n",
       "      <th>25%</th>\n",
       "      <th>50%</th>\n",
       "      <th>75%</th>\n",
       "      <th>max</th>\n",
       "    </tr>\n",
       "  </thead>\n",
       "  <tbody>\n",
       "    <tr>\n",
       "      <th>direction</th>\n",
       "      <td>10463.0</td>\n",
       "      <td>0.752748</td>\n",
       "      <td>0.431435</td>\n",
       "      <td>0.0</td>\n",
       "      <td>1.0</td>\n",
       "      <td>1.0</td>\n",
       "      <td>1.0</td>\n",
       "      <td>1.0</td>\n",
       "    </tr>\n",
       "    <tr>\n",
       "      <th>calls_count</th>\n",
       "      <td>10463.0</td>\n",
       "      <td>6.309758</td>\n",
       "      <td>13.297779</td>\n",
       "      <td>1.0</td>\n",
       "      <td>1.0</td>\n",
       "      <td>2.0</td>\n",
       "      <td>6.0</td>\n",
       "      <td>341.0</td>\n",
       "    </tr>\n",
       "    <tr>\n",
       "      <th>call_duration</th>\n",
       "      <td>10463.0</td>\n",
       "      <td>364.525471</td>\n",
       "      <td>980.345296</td>\n",
       "      <td>0.0</td>\n",
       "      <td>0.0</td>\n",
       "      <td>20.0</td>\n",
       "      <td>302.0</td>\n",
       "      <td>20223.0</td>\n",
       "    </tr>\n",
       "    <tr>\n",
       "      <th>total_call_duration</th>\n",
       "      <td>10463.0</td>\n",
       "      <td>479.898022</td>\n",
       "      <td>1117.488853</td>\n",
       "      <td>0.0</td>\n",
       "      <td>28.0</td>\n",
       "      <td>102.0</td>\n",
       "      <td>431.0</td>\n",
       "      <td>20289.0</td>\n",
       "    </tr>\n",
       "    <tr>\n",
       "      <th>avg_wait</th>\n",
       "      <td>10463.0</td>\n",
       "      <td>18.249947</td>\n",
       "      <td>15.429503</td>\n",
       "      <td>0.0</td>\n",
       "      <td>8.0</td>\n",
       "      <td>15.0</td>\n",
       "      <td>25.1</td>\n",
       "      <td>294.0</td>\n",
       "    </tr>\n",
       "  </tbody>\n",
       "</table>\n",
       "</div>"
      ],
      "text/plain": [
       "                       count        mean          std  min   25%    50%  \\\n",
       "direction            10463.0    0.752748     0.431435  0.0   1.0    1.0   \n",
       "calls_count          10463.0    6.309758    13.297779  1.0   1.0    2.0   \n",
       "call_duration        10463.0  364.525471   980.345296  0.0   0.0   20.0   \n",
       "total_call_duration  10463.0  479.898022  1117.488853  0.0  28.0  102.0   \n",
       "avg_wait             10463.0   18.249947    15.429503  0.0   8.0   15.0   \n",
       "\n",
       "                       75%      max  \n",
       "direction              1.0      1.0  \n",
       "calls_count            6.0    341.0  \n",
       "call_duration        302.0  20223.0  \n",
       "total_call_duration  431.0  20289.0  \n",
       "avg_wait              25.1    294.0  "
      ]
     },
     "execution_count": 45,
     "metadata": {},
     "output_type": "execute_result"
    }
   ],
   "source": [
    "df_in[['direction', 'calls_count', 'call_duration', 'total_call_duration', 'avg_wait']].describe().T"
   ]
  },
  {
   "cell_type": "markdown",
   "metadata": {
    "id": "b623Nc0sBWQC"
   },
   "source": [
    "По данным видно что на одного оператора приходится в среднем 6 звонков, средней продолжительностью 364 секунды."
   ]
  },
  {
   "cell_type": "markdown",
   "metadata": {
    "id": "fixj5AArBWQC"
   },
   "source": [
    "##### CAR, процент потерянных вызовов."
   ]
  },
  {
   "cell_type": "code",
   "execution_count": 46,
   "metadata": {
    "colab": {
     "base_uri": "https://localhost:8080/"
    },
    "id": "L0vauGb3BWQC",
    "outputId": "52af3cea-c649-4b30-8443-4674714d975a"
   },
   "outputs": [
    {
     "data": {
      "text/plain": [
       "39.86526923135943"
      ]
     },
     "execution_count": 46,
     "metadata": {},
     "output_type": "execute_result"
    }
   ],
   "source": [
    "(df_in.loc[(df_in['internal']==False) & (df_in['is_missed_call']==True)].groupby('operator_id')['calls_count'].agg('sum')).sum()/(df_in.loc[(df_in['internal']==False)].groupby('operator_id')['calls_count'].agg('sum')).sum()*100"
   ]
  },
  {
   "cell_type": "markdown",
   "metadata": {
    "id": "fx4tTaQSBWQD"
   },
   "source": [
    "Процент пропущенных звонков - 39,86%.\n",
    "\n",
    "Это критически много. Среднеотраслевой стандарт - 5-8% (согласно данных Манго, https://www.mango-office.ru/products/contact-center/vozmozhnosti/kpi/)"
   ]
  },
  {
   "cell_type": "code",
   "execution_count": 47,
   "metadata": {
    "colab": {
     "base_uri": "https://localhost:8080/"
    },
    "id": "AD3gmH3NBWQD",
    "outputId": "bb47a327-22c5-4379-fefe-8007839bbd64"
   },
   "outputs": [
    {
     "data": {
      "image/png": "[encoded data removed]",
      "text/plain": [
       "<Figure size 432x288 with 1 Axes>"
      ]
     },
     "metadata": {},
     "output_type": "display_data"
    }
   ],
   "source": [
    "pie_df_in = df_in.loc[(df_in['internal']==False)].groupby('is_missed_call')['calls_count'].sum().reset_index().sort_values(by='is_missed_call', ascending=False)\n",
    "labels = pie_df_in['is_missed_call']\n",
    "fig1, ax1 = plt.subplots()\n",
    "ax1.pie(pie_df_in['calls_count'], labels=labels, autopct='%1.1f%%',\n",
    "        shadow=True, startangle=90, pctdistance=0.5, )\n",
    "plt.title(\"CAR, % потерянных вызовов в группе Входящих\", fontsize=15);"
   ]
  },
  {
   "cell_type": "markdown",
   "metadata": {
    "id": "KyOmBcb-BWQD"
   },
   "source": [
    "##### ASA (Average Speed of Answer)."
   ]
  },
  {
   "cell_type": "code",
   "execution_count": 48,
   "metadata": {
    "colab": {
     "base_uri": "https://localhost:8080/"
    },
    "id": "BN92JEkoBWQE",
    "outputId": "19c34b39-a228-4e41-9bf8-6a2335229547"
   },
   "outputs": [
    {
     "data": {
      "text/plain": [
       "18.24994743381439"
      ]
     },
     "execution_count": 48,
     "metadata": {},
     "output_type": "execute_result"
    }
   ],
   "source": [
    "df_in['avg_wait'].mean()"
   ]
  },
  {
   "cell_type": "markdown",
   "metadata": {
    "id": "USC9U1yhBWQE"
   },
   "source": [
    "Cреднее время ожидания ответа клиентом - 18.2 секунды. Что вписывается в среднеотраслевые стандарты - 28 секунд.\n",
    "\n",
    "(https://www.mango-office.ru/products/contact-center/vozmozhnosti/kpi/)"
   ]
  },
  {
   "cell_type": "markdown",
   "metadata": {
    "id": "gkr3OyLvBWQE"
   },
   "source": [
    "##### ATT (Average Talk Time)."
   ]
  },
  {
   "cell_type": "code",
   "execution_count": 49,
   "metadata": {
    "colab": {
     "base_uri": "https://localhost:8080/"
    },
    "id": "vpoIJQaMBWQF",
    "outputId": "ca4aeaa7-1f91-4ce8-e4b2-c7e4a1f42ec3"
   },
   "outputs": [
    {
     "data": {
      "text/plain": [
       "count    10463.000000\n",
       "mean       364.525471\n",
       "std        980.345296\n",
       "min          0.000000\n",
       "25%          0.000000\n",
       "50%         20.000000\n",
       "75%        302.000000\n",
       "max      20223.000000\n",
       "Name: call_duration, dtype: float64"
      ]
     },
     "execution_count": 49,
     "metadata": {},
     "output_type": "execute_result"
    }
   ],
   "source": [
    "df_in['call_duration'].describe()"
   ]
  },
  {
   "cell_type": "code",
   "execution_count": 50,
   "metadata": {
    "colab": {
     "base_uri": "https://localhost:8080/"
    },
    "id": "NyGAcDPwBWQF",
    "outputId": "3c902330-890b-440e-9a08-12775d2202d0",
    "scrolled": true
   },
   "outputs": [
    {
     "data": {
      "text/plain": [
       "(-50.0, 800.0)"
      ]
     },
     "execution_count": 50,
     "metadata": {},
     "output_type": "execute_result"
    },
    {
     "data": {
      "image/png": "[encoded data removed]",
      "text/plain": [
       "<Figure size 432x288 with 1 Axes>"
      ]
     },
     "metadata": {
      "needs_background": "light"
     },
     "output_type": "display_data"
    }
   ],
   "source": [
    "df_in.boxplot('call_duration')\n",
    "plt.ylim([-50,800])"
   ]
  },
  {
   "cell_type": "code",
   "execution_count": 51,
   "metadata": {
    "colab": {
     "base_uri": "https://localhost:8080/"
    },
    "id": "6wVPOH4bBWQF",
    "outputId": "447c7f7f-f1a6-4ee8-baac-7f2ee7ab03cb"
   },
   "outputs": [
    {
     "data": {
      "image/png": "[encoded data removed]",
      "text/plain": [
       "<Figure size 1080x360 with 1 Axes>"
      ]
     },
     "metadata": {
      "needs_background": "light"
     },
     "output_type": "display_data"
    }
   ],
   "source": [
    "df_in.loc[(df_in['call_duration'] <= 310) & (df_in['call_duration'] >= 10)]['call_duration'].hist(bins=200, figsize=(15,5), ec='black');"
   ]
  },
  {
   "cell_type": "markdown",
   "metadata": {
    "id": "V7XHAU1wBWQG"
   },
   "source": [
    "Среднее время разговора с оператором - 364 секунд.\n",
    "\n",
    "При этом на графике наглядно видно, что наши данные распределены очень жизненно. Большая часть разговоров заканчивается доволльно быстро, медиана - 20 сек.\n",
    "\n",
    "И все же, исходя из специфики колл-центра (Входящие звонки) считаю разговор в 6 минут правдоподобным, но это скорее исключение, чем правило, поэтому тут возьмем медиану."
   ]
  },
  {
   "cell_type": "markdown",
   "metadata": {
    "id": "NmVQKmBPBWQG"
   },
   "source": [
    "##### ATA (Average Time to Abandon)."
   ]
  },
  {
   "cell_type": "code",
   "execution_count": 52,
   "metadata": {
    "colab": {
     "base_uri": "https://localhost:8080/"
    },
    "id": "puLNg3kuBWQG",
    "outputId": "adf48adf-d42e-4cb2-b969-8ca2944bf65f"
   },
   "outputs": [
    {
     "data": {
      "text/html": [
       "<div>\n",
       "<style scoped>\n",
       "    .dataframe tbody tr th:only-of-type {\n",
       "        vertical-align: middle;\n",
       "    }\n",
       "\n",
       "    .dataframe tbody tr th {\n",
       "        vertical-align: top;\n",
       "    }\n",
       "\n",
       "    .dataframe thead th {\n",
       "        text-align: right;\n",
       "    }\n",
       "</style>\n",
       "<table border=\"1\" class=\"dataframe\">\n",
       "  <thead>\n",
       "    <tr style=\"text-align: right;\">\n",
       "      <th></th>\n",
       "      <th>user_id</th>\n",
       "      <th>direction</th>\n",
       "      <th>operator_id</th>\n",
       "      <th>calls_count</th>\n",
       "      <th>call_duration</th>\n",
       "      <th>total_call_duration</th>\n",
       "      <th>avg_wait</th>\n",
       "    </tr>\n",
       "  </thead>\n",
       "  <tbody>\n",
       "    <tr>\n",
       "      <th>count</th>\n",
       "      <td>4451.000000</td>\n",
       "      <td>4451.000000</td>\n",
       "      <td>4451.000000</td>\n",
       "      <td>4451.000000</td>\n",
       "      <td>4451.000000</td>\n",
       "      <td>4451.000000</td>\n",
       "      <td>4451.000000</td>\n",
       "    </tr>\n",
       "    <tr>\n",
       "      <th>mean</th>\n",
       "      <td>167293.577398</td>\n",
       "      <td>0.758706</td>\n",
       "      <td>344439.714446</td>\n",
       "      <td>5.836666</td>\n",
       "      <td>0.424624</td>\n",
       "      <td>114.848798</td>\n",
       "      <td>19.369692</td>\n",
       "    </tr>\n",
       "    <tr>\n",
       "      <th>std</th>\n",
       "      <td>570.398415</td>\n",
       "      <td>0.427916</td>\n",
       "      <td>366257.291745</td>\n",
       "      <td>13.996005</td>\n",
       "      <td>6.082531</td>\n",
       "      <td>337.669841</td>\n",
       "      <td>19.259145</td>\n",
       "    </tr>\n",
       "    <tr>\n",
       "      <th>min</th>\n",
       "      <td>166391.000000</td>\n",
       "      <td>0.000000</td>\n",
       "      <td>111111.000000</td>\n",
       "      <td>1.000000</td>\n",
       "      <td>0.000000</td>\n",
       "      <td>0.000000</td>\n",
       "      <td>0.000000</td>\n",
       "    </tr>\n",
       "    <tr>\n",
       "      <th>25%</th>\n",
       "      <td>166813.000000</td>\n",
       "      <td>1.000000</td>\n",
       "      <td>111111.000000</td>\n",
       "      <td>1.000000</td>\n",
       "      <td>0.000000</td>\n",
       "      <td>7.000000</td>\n",
       "      <td>3.000000</td>\n",
       "    </tr>\n",
       "    <tr>\n",
       "      <th>50%</th>\n",
       "      <td>167141.000000</td>\n",
       "      <td>1.000000</td>\n",
       "      <td>111111.000000</td>\n",
       "      <td>2.000000</td>\n",
       "      <td>0.000000</td>\n",
       "      <td>31.000000</td>\n",
       "      <td>16.000000</td>\n",
       "    </tr>\n",
       "    <tr>\n",
       "      <th>75%</th>\n",
       "      <td>167792.000000</td>\n",
       "      <td>1.000000</td>\n",
       "      <td>892537.000000</td>\n",
       "      <td>5.000000</td>\n",
       "      <td>0.000000</td>\n",
       "      <td>87.000000</td>\n",
       "      <td>29.200000</td>\n",
       "    </tr>\n",
       "    <tr>\n",
       "      <th>max</th>\n",
       "      <td>168598.000000</td>\n",
       "      <td>1.000000</td>\n",
       "      <td>970486.000000</td>\n",
       "      <td>341.000000</td>\n",
       "      <td>147.000000</td>\n",
       "      <td>9272.000000</td>\n",
       "      <td>294.000000</td>\n",
       "    </tr>\n",
       "  </tbody>\n",
       "</table>\n",
       "</div>"
      ],
      "text/plain": [
       "             user_id    direction    operator_id  calls_count  call_duration  \\\n",
       "count    4451.000000  4451.000000    4451.000000  4451.000000    4451.000000   \n",
       "mean   167293.577398     0.758706  344439.714446     5.836666       0.424624   \n",
       "std       570.398415     0.427916  366257.291745    13.996005       6.082531   \n",
       "min    166391.000000     0.000000  111111.000000     1.000000       0.000000   \n",
       "25%    166813.000000     1.000000  111111.000000     1.000000       0.000000   \n",
       "50%    167141.000000     1.000000  111111.000000     2.000000       0.000000   \n",
       "75%    167792.000000     1.000000  892537.000000     5.000000       0.000000   \n",
       "max    168598.000000     1.000000  970486.000000   341.000000     147.000000   \n",
       "\n",
       "       total_call_duration     avg_wait  \n",
       "count          4451.000000  4451.000000  \n",
       "mean            114.848798    19.369692  \n",
       "std             337.669841    19.259145  \n",
       "min               0.000000     0.000000  \n",
       "25%               7.000000     3.000000  \n",
       "50%              31.000000    16.000000  \n",
       "75%              87.000000    29.200000  \n",
       "max            9272.000000   294.000000  "
      ]
     },
     "execution_count": 52,
     "metadata": {},
     "output_type": "execute_result"
    }
   ],
   "source": [
    "df_in.loc[(df_in['internal']==False) & (df_in['is_missed_call']==True)].describe() "
   ]
  },
  {
   "cell_type": "markdown",
   "metadata": {
    "id": "Oj1nynCGBWQH"
   },
   "source": [
    "В среднем клиенты ложили трубку после 19 секунд ожидания."
   ]
  },
  {
   "cell_type": "markdown",
   "metadata": {
    "id": "f2GMYK9ABWQH"
   },
   "source": [
    "Еще хотел взглянуть на долю переводов на других операторов, вдруг там что-то интересное."
   ]
  },
  {
   "cell_type": "code",
   "execution_count": 53,
   "metadata": {
    "colab": {
     "base_uri": "https://localhost:8080/"
    },
    "id": "F0CAk-k5BWQH",
    "outputId": "bb411aad-b21a-4732-b797-761d03471f19"
   },
   "outputs": [
    {
     "data": {
      "text/plain": [
       "1.2905375725170027"
      ]
     },
     "execution_count": 53,
     "metadata": {},
     "output_type": "execute_result"
    }
   ],
   "source": [
    "(df_in.loc[df_in['internal']==True]['calls_count'].sum()/df_in['calls_count'].sum())*100"
   ]
  },
  {
   "cell_type": "markdown",
   "metadata": {
    "id": "uimTftcwBWQI"
   },
   "source": [
    "Всего 1,3% звонков было переведено на другого оператора. Ничего необычного, хороший показатель."
   ]
  },
  {
   "cell_type": "markdown",
   "metadata": {
    "id": "OtisEYUkBWQI"
   },
   "source": [
    "##### Вывод по метрикам для Входящих."
   ]
  },
  {
   "cell_type": "markdown",
   "metadata": {
    "id": "yUa6swqdBWQI"
   },
   "source": [
    "Метрики для группы Входящих:\n",
    "- CAR (общий % потерянных вызовов) = 39.8%\n",
    "- ASA (среднее время ожидания ответа клиентом) = 18,2 секунд.\n",
    "- ATT (среднее время разговора оператора с клиентом) = 20 секунд.\n",
    "- Среднее время ожидания оператором ответа клиента до сброса = 19 секунд.\n",
    "- Перевод входящих на других операторов - 1,3%."
   ]
  },
  {
   "cell_type": "markdown",
   "metadata": {
    "id": "xlMXTdX6BWQJ"
   },
   "source": [
    "#### Группа Исходящих"
   ]
  },
  {
   "cell_type": "code",
   "execution_count": 54,
   "metadata": {
    "colab": {
     "base_uri": "https://localhost:8080/"
    },
    "id": "7bZb-Du9BWQJ",
    "outputId": "2a081904-75db-4ec1-aa7d-2471c1dd1496"
   },
   "outputs": [
    {
     "data": {
      "text/html": [
       "<div>\n",
       "<style scoped>\n",
       "    .dataframe tbody tr th:only-of-type {\n",
       "        vertical-align: middle;\n",
       "    }\n",
       "\n",
       "    .dataframe tbody tr th {\n",
       "        vertical-align: top;\n",
       "    }\n",
       "\n",
       "    .dataframe thead th {\n",
       "        text-align: right;\n",
       "    }\n",
       "</style>\n",
       "<table border=\"1\" class=\"dataframe\">\n",
       "  <thead>\n",
       "    <tr style=\"text-align: right;\">\n",
       "      <th></th>\n",
       "      <th>count</th>\n",
       "      <th>mean</th>\n",
       "      <th>std</th>\n",
       "      <th>min</th>\n",
       "      <th>25%</th>\n",
       "      <th>50%</th>\n",
       "      <th>75%</th>\n",
       "      <th>max</th>\n",
       "    </tr>\n",
       "  </thead>\n",
       "  <tbody>\n",
       "    <tr>\n",
       "      <th>direction</th>\n",
       "      <td>38429.0</td>\n",
       "      <td>0.312759</td>\n",
       "      <td>0.463623</td>\n",
       "      <td>0.0</td>\n",
       "      <td>0.0</td>\n",
       "      <td>0.0</td>\n",
       "      <td>1.0</td>\n",
       "      <td>1.0</td>\n",
       "    </tr>\n",
       "    <tr>\n",
       "      <th>calls_count</th>\n",
       "      <td>38429.0</td>\n",
       "      <td>19.268391</td>\n",
       "      <td>71.230771</td>\n",
       "      <td>1.0</td>\n",
       "      <td>2.0</td>\n",
       "      <td>5.0</td>\n",
       "      <td>15.0</td>\n",
       "      <td>4817.0</td>\n",
       "    </tr>\n",
       "    <tr>\n",
       "      <th>call_duration</th>\n",
       "      <td>38429.0</td>\n",
       "      <td>1005.193135</td>\n",
       "      <td>4221.961465</td>\n",
       "      <td>0.0</td>\n",
       "      <td>0.0</td>\n",
       "      <td>46.0</td>\n",
       "      <td>686.0</td>\n",
       "      <td>144395.0</td>\n",
       "    </tr>\n",
       "    <tr>\n",
       "      <th>total_call_duration</th>\n",
       "      <td>38429.0</td>\n",
       "      <td>1343.868016</td>\n",
       "      <td>4976.398905</td>\n",
       "      <td>0.0</td>\n",
       "      <td>56.0</td>\n",
       "      <td>256.0</td>\n",
       "      <td>1079.0</td>\n",
       "      <td>166155.0</td>\n",
       "    </tr>\n",
       "    <tr>\n",
       "      <th>avg_wait</th>\n",
       "      <td>38429.0</td>\n",
       "      <td>16.448703</td>\n",
       "      <td>13.393437</td>\n",
       "      <td>0.0</td>\n",
       "      <td>8.0</td>\n",
       "      <td>14.4</td>\n",
       "      <td>21.7</td>\n",
       "      <td>465.0</td>\n",
       "    </tr>\n",
       "  </tbody>\n",
       "</table>\n",
       "</div>"
      ],
      "text/plain": [
       "                       count         mean          std  min   25%    50%  \\\n",
       "direction            38429.0     0.312759     0.463623  0.0   0.0    0.0   \n",
       "calls_count          38429.0    19.268391    71.230771  1.0   2.0    5.0   \n",
       "call_duration        38429.0  1005.193135  4221.961465  0.0   0.0   46.0   \n",
       "total_call_duration  38429.0  1343.868016  4976.398905  0.0  56.0  256.0   \n",
       "avg_wait             38429.0    16.448703    13.393437  0.0   8.0   14.4   \n",
       "\n",
       "                        75%       max  \n",
       "direction               1.0       1.0  \n",
       "calls_count            15.0    4817.0  \n",
       "call_duration         686.0  144395.0  \n",
       "total_call_duration  1079.0  166155.0  \n",
       "avg_wait               21.7     465.0  "
      ]
     },
     "execution_count": 54,
     "metadata": {},
     "output_type": "execute_result"
    }
   ],
   "source": [
    "df_out[['direction', 'calls_count', 'call_duration', 'total_call_duration', 'avg_wait']].describe().T"
   ]
  },
  {
   "cell_type": "markdown",
   "metadata": {
    "id": "alRxbRS9BWQK"
   },
   "source": [
    "Среднее количество звонков, которые совершает оператор - 19. Средняя их продолжительность 1005 секунд, но считаю что тут необходимо смотреть на медиану - 46 секунд."
   ]
  },
  {
   "cell_type": "markdown",
   "metadata": {
    "id": "0breamfABWQK"
   },
   "source": [
    "##### CAR, процент потерянных вызовов."
   ]
  },
  {
   "cell_type": "code",
   "execution_count": 55,
   "metadata": {
    "colab": {
     "base_uri": "https://localhost:8080/"
    },
    "id": "NG18vKDNBWQL",
    "outputId": "234eb29e-97bc-4067-9ec3-01af69d84fcd"
   },
   "outputs": [
    {
     "data": {
      "text/plain": [
       "47.306450591884534"
      ]
     },
     "execution_count": 55,
     "metadata": {},
     "output_type": "execute_result"
    }
   ],
   "source": [
    "(df_out.loc[(df_out['internal']==False) & (df_out['is_missed_call']==True)].groupby('operator_id')['calls_count'].agg('sum')).sum()/(df_out.loc[(df_out['internal']==False)].groupby('operator_id')['calls_count'].agg('sum')).sum()*100"
   ]
  },
  {
   "cell_type": "markdown",
   "metadata": {
    "id": "PegOhAfHBWQL"
   },
   "source": [
    "Процент пропущенных звонков - 47%.\n",
    "\n",
    "Слишком много. Среднеотраслевой стандарт - 5-8% "
   ]
  },
  {
   "cell_type": "code",
   "execution_count": 56,
   "metadata": {
    "colab": {
     "base_uri": "https://localhost:8080/"
    },
    "id": "-U-A2oBsBWQL",
    "outputId": "a14421e3-1cec-4970-ba31-742cabdaf3c6"
   },
   "outputs": [
    {
     "data": {
      "image/png": "[encoded data removed]",
      "text/plain": [
       "<Figure size 432x288 with 1 Axes>"
      ]
     },
     "metadata": {},
     "output_type": "display_data"
    }
   ],
   "source": [
    "pie_df_out = df_out.loc[(df_out['internal']==False)].groupby('is_missed_call')['calls_count'].sum().reset_index().sort_values(by='is_missed_call', ascending=False)\n",
    "labels = pie_df_out['is_missed_call']\n",
    "fig1, ax1 = plt.subplots()\n",
    "ax1.pie(pie_df_out['calls_count'], labels=labels, autopct='%1.1f%%',\n",
    "        shadow=True, startangle=90, pctdistance=0.5, )\n",
    "plt.title(\"CAR, % потерянных вызовов в группе Исходящих\", fontsize=15);"
   ]
  },
  {
   "cell_type": "markdown",
   "metadata": {
    "id": "c5bA_xx8BWQP"
   },
   "source": [
    "##### ASA (Average Speed of Answer)."
   ]
  },
  {
   "cell_type": "code",
   "execution_count": 57,
   "metadata": {
    "colab": {
     "base_uri": "https://localhost:8080/"
    },
    "id": "QPBXS5BXBWQQ",
    "outputId": "23987805-2305-4a28-c912-7b0b33e18553"
   },
   "outputs": [
    {
     "data": {
      "text/plain": [
       "16.448702802570974"
      ]
     },
     "execution_count": 57,
     "metadata": {},
     "output_type": "execute_result"
    }
   ],
   "source": [
    "df_out['avg_wait'].mean()"
   ]
  },
  {
   "cell_type": "markdown",
   "metadata": {
    "id": "Zr7SBpPaBWQQ"
   },
   "source": [
    "Cреднее время ожидания ответа клиентом - 16.4 секунды. Что вписывается в среднеотраслевые стандарты - 28 секунд."
   ]
  },
  {
   "cell_type": "markdown",
   "metadata": {
    "id": "n3kFw0jMBWQR"
   },
   "source": [
    "##### ATT (Average Talk Time).\n"
   ]
  },
  {
   "cell_type": "code",
   "execution_count": 58,
   "metadata": {
    "colab": {
     "base_uri": "https://localhost:8080/"
    },
    "id": "KMbZlGxEBWQR",
    "outputId": "5555598f-fd10-4f79-c254-39590a9ad9d5"
   },
   "outputs": [
    {
     "data": {
      "text/plain": [
       "count     38429.000000\n",
       "mean       1005.193135\n",
       "std        4221.961465\n",
       "min           0.000000\n",
       "25%           0.000000\n",
       "50%          46.000000\n",
       "75%         686.000000\n",
       "max      144395.000000\n",
       "Name: call_duration, dtype: float64"
      ]
     },
     "execution_count": 58,
     "metadata": {},
     "output_type": "execute_result"
    }
   ],
   "source": [
    "df_out['call_duration'].describe()"
   ]
  },
  {
   "cell_type": "code",
   "execution_count": 59,
   "metadata": {
    "colab": {
     "base_uri": "https://localhost:8080/"
    },
    "id": "ld1GDZ_JBWQR",
    "outputId": "9a0ecc29-9452-40c5-bf25-4a6d5c0df716"
   },
   "outputs": [
    {
     "data": {
      "text/plain": [
       "(-50.0, 1750.0)"
      ]
     },
     "execution_count": 59,
     "metadata": {},
     "output_type": "execute_result"
    },
    {
     "data": {
      "image/png": "[encoded data removed]",
      "text/plain": [
       "<Figure size 432x288 with 1 Axes>"
      ]
     },
     "metadata": {
      "needs_background": "light"
     },
     "output_type": "display_data"
    }
   ],
   "source": [
    "df_out.boxplot('call_duration')\n",
    "plt.ylim([-50,1750])"
   ]
  },
  {
   "cell_type": "code",
   "execution_count": 60,
   "metadata": {
    "colab": {
     "base_uri": "https://localhost:8080/"
    },
    "id": "9_8_1vLFBWQS",
    "outputId": "4c8ed407-62d5-409f-87ce-febb68f6b25f"
   },
   "outputs": [
    {
     "data": {
      "image/png": "[encoded data removed]",
      "text/plain": [
       "<Figure size 1080x360 with 1 Axes>"
      ]
     },
     "metadata": {
      "needs_background": "light"
     },
     "output_type": "display_data"
    }
   ],
   "source": [
    "df_out.loc[(df_out['call_duration'] <= 700) & (df_out['call_duration'] >= 10)]['call_duration'].hist(bins=200, figsize=(15,5), ec='black');"
   ]
  },
  {
   "cell_type": "markdown",
   "metadata": {
    "id": "EM1sz5niBWQS"
   },
   "source": [
    "Среднее время разговора с оператором - 1005 секунд.\n",
    "\n",
    "Медиана отражает более правдоподобное значение - 46 секунд.\n",
    "\n",
    "Что вполне логично, так как подавляющее большинство людей услышав рекламное предложение быстро завершали разговор. А более вежливые люди все таки выслушывали сообщение в течении почти минуты."
   ]
  },
  {
   "cell_type": "markdown",
   "metadata": {
    "id": "_dVcmqhYBWQS"
   },
   "source": [
    "##### ATA (Average Time to Abandon)."
   ]
  },
  {
   "cell_type": "code",
   "execution_count": 61,
   "metadata": {
    "colab": {
     "base_uri": "https://localhost:8080/"
    },
    "id": "Jk6kiRyUBWQT",
    "outputId": "165b13cd-e825-4dfc-ca56-12c7a43fbb15"
   },
   "outputs": [
    {
     "data": {
      "text/html": [
       "<div>\n",
       "<style scoped>\n",
       "    .dataframe tbody tr th:only-of-type {\n",
       "        vertical-align: middle;\n",
       "    }\n",
       "\n",
       "    .dataframe tbody tr th {\n",
       "        vertical-align: top;\n",
       "    }\n",
       "\n",
       "    .dataframe thead th {\n",
       "        text-align: right;\n",
       "    }\n",
       "</style>\n",
       "<table border=\"1\" class=\"dataframe\">\n",
       "  <thead>\n",
       "    <tr style=\"text-align: right;\">\n",
       "      <th></th>\n",
       "      <th>user_id</th>\n",
       "      <th>direction</th>\n",
       "      <th>operator_id</th>\n",
       "      <th>calls_count</th>\n",
       "      <th>call_duration</th>\n",
       "      <th>total_call_duration</th>\n",
       "      <th>avg_wait</th>\n",
       "    </tr>\n",
       "  </thead>\n",
       "  <tbody>\n",
       "    <tr>\n",
       "      <th>count</th>\n",
       "      <td>14224.000000</td>\n",
       "      <td>14224.000000</td>\n",
       "      <td>14224.000000</td>\n",
       "      <td>14224.000000</td>\n",
       "      <td>14224.000000</td>\n",
       "      <td>14224.000000</td>\n",
       "      <td>14224.000000</td>\n",
       "    </tr>\n",
       "    <tr>\n",
       "      <th>mean</th>\n",
       "      <td>167301.989314</td>\n",
       "      <td>0.292182</td>\n",
       "      <td>700904.747539</td>\n",
       "      <td>24.167463</td>\n",
       "      <td>1.404738</td>\n",
       "      <td>491.671611</td>\n",
       "      <td>21.765882</td>\n",
       "    </tr>\n",
       "    <tr>\n",
       "      <th>std</th>\n",
       "      <td>626.712890</td>\n",
       "      <td>0.454782</td>\n",
       "      <td>357452.244853</td>\n",
       "      <td>94.757672</td>\n",
       "      <td>21.333359</td>\n",
       "      <td>1633.542117</td>\n",
       "      <td>16.029044</td>\n",
       "    </tr>\n",
       "    <tr>\n",
       "      <th>min</th>\n",
       "      <td>166377.000000</td>\n",
       "      <td>0.000000</td>\n",
       "      <td>111111.000000</td>\n",
       "      <td>1.000000</td>\n",
       "      <td>0.000000</td>\n",
       "      <td>0.000000</td>\n",
       "      <td>0.000000</td>\n",
       "    </tr>\n",
       "    <tr>\n",
       "      <th>25%</th>\n",
       "      <td>166680.000000</td>\n",
       "      <td>0.000000</td>\n",
       "      <td>111111.000000</td>\n",
       "      <td>2.000000</td>\n",
       "      <td>0.000000</td>\n",
       "      <td>31.000000</td>\n",
       "      <td>11.500000</td>\n",
       "    </tr>\n",
       "    <tr>\n",
       "      <th>50%</th>\n",
       "      <td>167172.000000</td>\n",
       "      <td>0.000000</td>\n",
       "      <td>902510.000000</td>\n",
       "      <td>5.000000</td>\n",
       "      <td>0.000000</td>\n",
       "      <td>112.000000</td>\n",
       "      <td>21.000000</td>\n",
       "    </tr>\n",
       "    <tr>\n",
       "      <th>75%</th>\n",
       "      <td>167828.000000</td>\n",
       "      <td>1.000000</td>\n",
       "      <td>928886.000000</td>\n",
       "      <td>18.000000</td>\n",
       "      <td>0.000000</td>\n",
       "      <td>385.000000</td>\n",
       "      <td>29.300000</td>\n",
       "    </tr>\n",
       "    <tr>\n",
       "      <th>max</th>\n",
       "      <td>168606.000000</td>\n",
       "      <td>1.000000</td>\n",
       "      <td>973120.000000</td>\n",
       "      <td>4817.000000</td>\n",
       "      <td>741.000000</td>\n",
       "      <td>45312.000000</td>\n",
       "      <td>465.000000</td>\n",
       "    </tr>\n",
       "  </tbody>\n",
       "</table>\n",
       "</div>"
      ],
      "text/plain": [
       "             user_id     direction    operator_id   calls_count  \\\n",
       "count   14224.000000  14224.000000   14224.000000  14224.000000   \n",
       "mean   167301.989314      0.292182  700904.747539     24.167463   \n",
       "std       626.712890      0.454782  357452.244853     94.757672   \n",
       "min    166377.000000      0.000000  111111.000000      1.000000   \n",
       "25%    166680.000000      0.000000  111111.000000      2.000000   \n",
       "50%    167172.000000      0.000000  902510.000000      5.000000   \n",
       "75%    167828.000000      1.000000  928886.000000     18.000000   \n",
       "max    168606.000000      1.000000  973120.000000   4817.000000   \n",
       "\n",
       "       call_duration  total_call_duration      avg_wait  \n",
       "count   14224.000000         14224.000000  14224.000000  \n",
       "mean        1.404738           491.671611     21.765882  \n",
       "std        21.333359          1633.542117     16.029044  \n",
       "min         0.000000             0.000000      0.000000  \n",
       "25%         0.000000            31.000000     11.500000  \n",
       "50%         0.000000           112.000000     21.000000  \n",
       "75%         0.000000           385.000000     29.300000  \n",
       "max       741.000000         45312.000000    465.000000  "
      ]
     },
     "execution_count": 61,
     "metadata": {},
     "output_type": "execute_result"
    }
   ],
   "source": [
    "df_out.loc[(df_out['internal']==False) & (df_out['is_missed_call']==True)].describe() "
   ]
  },
  {
   "cell_type": "markdown",
   "metadata": {
    "id": "8vtHPkmVBWQT"
   },
   "source": [
    "В среднем операторы ждут ответа 21 секунду."
   ]
  },
  {
   "cell_type": "markdown",
   "metadata": {
    "id": "h-8bKP-uBWQT"
   },
   "source": [
    "##### Вывод по метрикам для Исходящих."
   ]
  },
  {
   "cell_type": "markdown",
   "metadata": {
    "id": "KxJ3XAFZBWQT"
   },
   "source": [
    "Метрики для группы Исходящих:\n",
    "- CAR (общий % потерянных вызовов) = 47%\n",
    "- ASA (среднее время ожидания ответа оператором) = 16,4 секунд\n",
    "- ATT (среднее время разговора оператора с клиентом) = 46 секунд.\n",
    "- В среднем операторы ждут ответа 21 секунду."
   ]
  },
  {
   "cell_type": "markdown",
   "metadata": {
    "id": "u2amHLrtBWQU"
   },
   "source": [
    "#### Общий вывод по метрикам"
   ]
  },
  {
   "cell_type": "markdown",
   "metadata": {
    "id": "lWSrmKvvBWQa"
   },
   "source": [
    "Мы разбили клиентов на две группы со специализациями Входящие, Исходящие.\n",
    "\n",
    "И посчитали для каждой группы метрики эффективности колл-центров.\n",
    "\n",
    "Метрики мы нашли на сайте https://wilstream.ru/stati/kpi-koll-tsentra/\n",
    "\n",
    "К сожалению, не для всех метрик у нас есть данные, поэтому посчитали только те, для которых эти данные есть.\n",
    "\n",
    "В итоге мы видим, что во всех трех группах очень большой процент потерянных вызовов, от 39 до 47 процентов. Над этим показателем нужно работать в первую очередь.\n",
    "\n",
    "Среднее время ожидания ответа клиентом у всех групп на достаточно хорошем уровне, от 16 до 18 секунд.\n",
    "\n",
    "Среднее время разговора правдоподобно для каждой из групп:\n",
    "\n",
    "- У Входящих - 364 секунды (так как клиенты сами звонят решить свою проблему)\n",
    "- У Исходящих - 46 секунд (так как мало кто готов выслушивать рекламные предложения)\n",
    "\n",
    "Среднее время ожидания клиентом ответа оператора до сброса звонка у все трех групп примерно одинаковое - 19-21 секунд."
   ]
  },
  {
   "cell_type": "markdown",
   "metadata": {
    "id": "2jcqD6kZDrcR"
   },
   "source": [
    "### Получаем список клиентов с неэффективными операторами."
   ]
  },
  {
   "cell_type": "markdown",
   "metadata": {
    "id": "LGOEVs_7J0Uv"
   },
   "source": [
    "Так как мы уже выяснили, что слабое место операторов в нашем датасете это процент пропущенных звонков, то более подробно остановимся на нем и будем выявлять самых неэффективных операторов.\n",
    "\n",
    "По мнению Манго-Телеком (популярный оператор виртуальной телефонии) отраслевой стандарт пропущенных звонков в колл-центре 5-8%., https://www.mango-office.ru/products/contact-center/vozmozhnosti/kpi/\n",
    "\n",
    "Поднимем эту планку для наших операторов до 25%, т.е. если оператор пропустил 1 из 4 звонков, то будем считать его работу неэффективной. Будем считать это поводом провести глубокий анализ деяткельности коллцентра клиента и предложить ему варианты улучшения эффективности."
   ]
  },
  {
   "cell_type": "code",
   "execution_count": 62,
   "metadata": {
    "colab": {
     "base_uri": "https://localhost:8080/",
     "height": 204
    },
    "id": "9FwdoW9zEAAI",
    "outputId": "380c4517-d214-4de2-cc84-6fad5e6a41b9"
   },
   "outputs": [
    {
     "data": {
      "text/html": [
       "<div>\n",
       "<style scoped>\n",
       "    .dataframe tbody tr th:only-of-type {\n",
       "        vertical-align: middle;\n",
       "    }\n",
       "\n",
       "    .dataframe tbody tr th {\n",
       "        vertical-align: top;\n",
       "    }\n",
       "\n",
       "    .dataframe thead th {\n",
       "        text-align: right;\n",
       "    }\n",
       "</style>\n",
       "<table border=\"1\" class=\"dataframe\">\n",
       "  <thead>\n",
       "    <tr style=\"text-align: right;\">\n",
       "      <th></th>\n",
       "      <th>user_id</th>\n",
       "      <th>date</th>\n",
       "      <th>direction</th>\n",
       "      <th>internal</th>\n",
       "      <th>operator_id</th>\n",
       "      <th>is_missed_call</th>\n",
       "      <th>calls_count</th>\n",
       "      <th>call_duration</th>\n",
       "      <th>total_call_duration</th>\n",
       "      <th>avg_wait</th>\n",
       "      <th>tariff_plan</th>\n",
       "      <th>date_start</th>\n",
       "    </tr>\n",
       "  </thead>\n",
       "  <tbody>\n",
       "    <tr>\n",
       "      <th>0</th>\n",
       "      <td>166377</td>\n",
       "      <td>2019-08-04</td>\n",
       "      <td>1</td>\n",
       "      <td>False</td>\n",
       "      <td>111111</td>\n",
       "      <td>True</td>\n",
       "      <td>2</td>\n",
       "      <td>0</td>\n",
       "      <td>4</td>\n",
       "      <td>2.0</td>\n",
       "      <td>B</td>\n",
       "      <td>2019-08-01</td>\n",
       "    </tr>\n",
       "    <tr>\n",
       "      <th>1</th>\n",
       "      <td>166377</td>\n",
       "      <td>2019-08-05</td>\n",
       "      <td>0</td>\n",
       "      <td>True</td>\n",
       "      <td>880022</td>\n",
       "      <td>True</td>\n",
       "      <td>3</td>\n",
       "      <td>0</td>\n",
       "      <td>5</td>\n",
       "      <td>1.7</td>\n",
       "      <td>B</td>\n",
       "      <td>2019-08-01</td>\n",
       "    </tr>\n",
       "    <tr>\n",
       "      <th>2</th>\n",
       "      <td>166377</td>\n",
       "      <td>2019-08-05</td>\n",
       "      <td>0</td>\n",
       "      <td>True</td>\n",
       "      <td>880020</td>\n",
       "      <td>True</td>\n",
       "      <td>1</td>\n",
       "      <td>0</td>\n",
       "      <td>1</td>\n",
       "      <td>1.0</td>\n",
       "      <td>B</td>\n",
       "      <td>2019-08-01</td>\n",
       "    </tr>\n",
       "    <tr>\n",
       "      <th>3</th>\n",
       "      <td>166377</td>\n",
       "      <td>2019-08-05</td>\n",
       "      <td>0</td>\n",
       "      <td>True</td>\n",
       "      <td>880020</td>\n",
       "      <td>False</td>\n",
       "      <td>1</td>\n",
       "      <td>10</td>\n",
       "      <td>18</td>\n",
       "      <td>8.0</td>\n",
       "      <td>B</td>\n",
       "      <td>2019-08-01</td>\n",
       "    </tr>\n",
       "    <tr>\n",
       "      <th>4</th>\n",
       "      <td>166377</td>\n",
       "      <td>2019-08-05</td>\n",
       "      <td>0</td>\n",
       "      <td>False</td>\n",
       "      <td>880022</td>\n",
       "      <td>True</td>\n",
       "      <td>3</td>\n",
       "      <td>0</td>\n",
       "      <td>25</td>\n",
       "      <td>8.3</td>\n",
       "      <td>B</td>\n",
       "      <td>2019-08-01</td>\n",
       "    </tr>\n",
       "  </tbody>\n",
       "</table>\n",
       "</div>"
      ],
      "text/plain": [
       "   user_id        date  direction internal  operator_id is_missed_call  \\\n",
       "0   166377  2019-08-04          1    False       111111           True   \n",
       "1   166377  2019-08-05          0     True       880022           True   \n",
       "2   166377  2019-08-05          0     True       880020           True   \n",
       "3   166377  2019-08-05          0     True       880020          False   \n",
       "4   166377  2019-08-05          0    False       880022           True   \n",
       "\n",
       "   calls_count  call_duration  total_call_duration  avg_wait tariff_plan  \\\n",
       "0            2              0                    4       2.0           B   \n",
       "1            3              0                    5       1.7           B   \n",
       "2            1              0                    1       1.0           B   \n",
       "3            1             10                   18       8.0           B   \n",
       "4            3              0                   25       8.3           B   \n",
       "\n",
       "   date_start  \n",
       "0  2019-08-01  \n",
       "1  2019-08-01  \n",
       "2  2019-08-01  \n",
       "3  2019-08-01  \n",
       "4  2019-08-01  "
      ]
     },
     "execution_count": 62,
     "metadata": {},
     "output_type": "execute_result"
    }
   ],
   "source": [
    "data.head()"
   ]
  },
  {
   "cell_type": "code",
   "execution_count": 63,
   "metadata": {
    "id": "EH4Tu803D6Qb"
   },
   "outputs": [],
   "source": [
    "data['is_missed_call'] = data['is_missed_call'].map({True: 1, False: 0})"
   ]
  },
  {
   "cell_type": "code",
   "execution_count": 64,
   "metadata": {
    "id": "GzhqstJSD6Qi"
   },
   "outputs": [],
   "source": [
    "zxc = data.groupby(['user_id', 'operator_id'])['is_missed_call'].mean().reset_index()"
   ]
  },
  {
   "cell_type": "code",
   "execution_count": 65,
   "metadata": {
    "colab": {
     "base_uri": "https://localhost:8080/",
     "height": 204
    },
    "id": "w0LXXzkvEW8p",
    "outputId": "0642663e-ccf1-4936-e3d2-6eea25a423ad"
   },
   "outputs": [
    {
     "data": {
      "text/html": [
       "<div>\n",
       "<style scoped>\n",
       "    .dataframe tbody tr th:only-of-type {\n",
       "        vertical-align: middle;\n",
       "    }\n",
       "\n",
       "    .dataframe tbody tr th {\n",
       "        vertical-align: top;\n",
       "    }\n",
       "\n",
       "    .dataframe thead th {\n",
       "        text-align: right;\n",
       "    }\n",
       "</style>\n",
       "<table border=\"1\" class=\"dataframe\">\n",
       "  <thead>\n",
       "    <tr style=\"text-align: right;\">\n",
       "      <th></th>\n",
       "      <th>user_id</th>\n",
       "      <th>operator_id</th>\n",
       "      <th>is_missed_call</th>\n",
       "    </tr>\n",
       "  </thead>\n",
       "  <tbody>\n",
       "    <tr>\n",
       "      <th>0</th>\n",
       "      <td>166377</td>\n",
       "      <td>111111</td>\n",
       "      <td>1.000000</td>\n",
       "    </tr>\n",
       "    <tr>\n",
       "      <th>1</th>\n",
       "      <td>166377</td>\n",
       "      <td>880020</td>\n",
       "      <td>0.300000</td>\n",
       "    </tr>\n",
       "    <tr>\n",
       "      <th>2</th>\n",
       "      <td>166377</td>\n",
       "      <td>880022</td>\n",
       "      <td>0.414286</td>\n",
       "    </tr>\n",
       "    <tr>\n",
       "      <th>3</th>\n",
       "      <td>166377</td>\n",
       "      <td>880026</td>\n",
       "      <td>0.478022</td>\n",
       "    </tr>\n",
       "    <tr>\n",
       "      <th>4</th>\n",
       "      <td>166377</td>\n",
       "      <td>880028</td>\n",
       "      <td>0.405941</td>\n",
       "    </tr>\n",
       "  </tbody>\n",
       "</table>\n",
       "</div>"
      ],
      "text/plain": [
       "   user_id  operator_id  is_missed_call\n",
       "0   166377       111111        1.000000\n",
       "1   166377       880020        0.300000\n",
       "2   166377       880022        0.414286\n",
       "3   166377       880026        0.478022\n",
       "4   166377       880028        0.405941"
      ]
     },
     "execution_count": 65,
     "metadata": {},
     "output_type": "execute_result"
    }
   ],
   "source": [
    "zxc.head()"
   ]
  },
  {
   "cell_type": "markdown",
   "metadata": {
    "id": "5wMbrblRJfzK"
   },
   "source": [
    "Мы получили список клиентов, с их операторами, у которых рассчитана доля пропущенных звонков. \n",
    "\n",
    "Теперь выясним кто из операторв наиболее неэффективный, оценив его по метрике \"процент пропущенных звонков\"."
   ]
  },
  {
   "cell_type": "code",
   "execution_count": 66,
   "metadata": {
    "colab": {
     "base_uri": "https://localhost:8080/"
    },
    "id": "63crCpCVD6Qi",
    "outputId": "e5278f5d-bb55-430d-fed0-04f699c9cf5d"
   },
   "outputs": [
    {
     "data": {
      "text/plain": [
       "array([166377, 166391, 166405, 166406, 166407, 166485, 166487, 166495,\n",
       "       166503, 166507, 166511, 166520, 166533, 166536, 166582, 166609,\n",
       "       166619, 166658, 166660, 166669, 166677, 166678, 166680, 166688,\n",
       "       166691, 166692, 166708, 166711, 166717, 166725, 166732, 166774,\n",
       "       166782, 166800, 166813, 166833, 166837, 166839, 166843, 166874,\n",
       "       166884, 166899, 166901, 166916, 166936, 166939, 166940, 166941,\n",
       "       166946, 166971, 166974, 166983, 166993, 166997, 167002, 167004,\n",
       "       167009, 167011, 167012, 167016, 167031, 167035, 167060, 167071,\n",
       "       167078, 167082, 167109, 167110, 167112, 167113, 167122, 167124,\n",
       "       167125, 167130, 167141, 167144, 167150, 167172, 167175, 167176,\n",
       "       167180, 167183, 167185, 167188, 167189, 167235, 167250, 167263,\n",
       "       167275, 167285, 167288, 167338, 167359, 167364, 167397, 167436,\n",
       "       167445, 167451, 167456, 167466, 167471, 167475, 167479, 167487,\n",
       "       167497, 167521, 167530, 167532, 167543, 167545, 167551, 167580,\n",
       "       167621, 167626, 167634, 167645, 167650, 167653, 167654, 167716,\n",
       "       167727, 167742, 167747, 167756, 167759, 167799, 167805, 167816,\n",
       "       167819, 167827, 167828, 167829, 167852, 167888, 167923, 167947,\n",
       "       167949, 167955, 167958, 167969, 167977, 167989, 167994, 167995,\n",
       "       167999, 168000, 168004, 168008, 168010, 168018, 168021, 168025,\n",
       "       168047, 168062, 168064, 168073, 168091, 168093, 168097, 168105,\n",
       "       168121, 168128, 168154, 168155, 168185, 168187, 168193, 168221,\n",
       "       168225, 168228, 168252, 168253, 168271, 168275, 168291, 168295,\n",
       "       168307, 168336, 168361, 168412, 168416, 168466, 168473, 168481,\n",
       "       168601, 168603, 168606])"
      ]
     },
     "execution_count": 66,
     "metadata": {},
     "output_type": "execute_result"
    }
   ],
   "source": [
    "#исключим оператора 111111 (это общий показатель пропущенных звонков в колл-центре) и получим список клиентов, которым в первую очередь нужно подумать над эффективностью.\n",
    "zxc.loc[(zxc['is_missed_call']>0.25) & (zxc['operator_id'] != 111111)]['user_id'].unique()"
   ]
  },
  {
   "cell_type": "markdown",
   "metadata": {
    "id": "841nKztcOXzt"
   },
   "source": [
    "**Вывод**\n",
    "\n",
    "Мы получили список из 187 клиентов, которым в первую очередь необходимо предлагать возможные варианты улучшения эффективности.\n",
    "\n",
    "Операторы этих клиентов пропускают четверть звонков, это примерно в пять раз больше отраслевого стандарта."
   ]
  },
  {
   "cell_type": "markdown",
   "metadata": {
    "id": "1j7M3v9dBWQb"
   },
   "source": [
    "### Сформируем и проверим гипотезы"
   ]
  },
  {
   "cell_type": "markdown",
   "metadata": {
    "id": "fBGra3_WBWQb"
   },
   "source": [
    "#### Гипотеза №1"
   ]
  },
  {
   "cell_type": "markdown",
   "metadata": {
    "id": "w7CjmcMVBWQc"
   },
   "source": [
    "Среднее время разговора в группе Входящих и Исходящих различаются.\n",
    "- Н0 - Среднее время разговора в группе Входящих и Исходящих не различаются.\n",
    "- Н1 - Среднее время разговора в группе Входящих и Исходящих различаются."
   ]
  },
  {
   "cell_type": "code",
   "execution_count": 67,
   "metadata": {
    "id": "ZlZtLP2IBWQe"
   },
   "outputs": [],
   "source": [
    "alpha = 0.05"
   ]
  },
  {
   "cell_type": "code",
   "execution_count": 68,
   "metadata": {
    "id": "z3T7ZKkABWQf"
   },
   "outputs": [],
   "source": [
    "results = st.ttest_ind(df_in['avg_wait'], df_out['avg_wait'])"
   ]
  },
  {
   "cell_type": "code",
   "execution_count": 69,
   "metadata": {
    "colab": {
     "base_uri": "https://localhost:8080/"
    },
    "id": "InsfnkU8BWQf",
    "outputId": "772e119c-041d-41d1-fb3e-77ddbb102fa3"
   },
   "outputs": [
    {
     "name": "stdout",
     "output_type": "stream",
     "text": [
      "p-значение:  4.8386240189110765e-32\n",
      "Отвергаем нулевую гипотезу\n"
     ]
    }
   ],
   "source": [
    "print('p-значение: ', results.pvalue)\n",
    "\n",
    "if results.pvalue < alpha:\n",
    "    print(\"Отвергаем нулевую гипотезу\")\n",
    "else:\n",
    "    print(\"Не получилось отвергнуть нулевую гипотезу\") "
   ]
  },
  {
   "cell_type": "markdown",
   "metadata": {
    "id": "mhEXcTCKBWQf"
   },
   "source": [
    "Нулевая гипотеза не подтвердилась, среднее время разговора разное."
   ]
  },
  {
   "cell_type": "markdown",
   "metadata": {
    "id": "60PBTm1TBWQg"
   },
   "source": [
    "#### Гипотеза №2"
   ]
  },
  {
   "cell_type": "markdown",
   "metadata": {
    "id": "hIskBhLMBWQg"
   },
   "source": [
    "В группе Входящих количество потерянных клиентов отличается от группы Исходящих.\n",
    "- Н0 - Среднее количество потерянных клиентов не различается.\n",
    "- Н1 - Среднее количество потерянных клиентов различается."
   ]
  },
  {
   "cell_type": "code",
   "execution_count": 70,
   "metadata": {
    "id": "QByF8LccBWQg"
   },
   "outputs": [],
   "source": [
    "miss_in = df_in.loc[(df_in['internal']==False) & (df_in['is_missed_call']==True)]"
   ]
  },
  {
   "cell_type": "code",
   "execution_count": 71,
   "metadata": {
    "id": "Ye3CKft3BWQh"
   },
   "outputs": [],
   "source": [
    "miss_out = df_out.loc[(df_out['internal']==False) & (df_out['is_missed_call']==True)]"
   ]
  },
  {
   "cell_type": "code",
   "execution_count": 72,
   "metadata": {
    "id": "xgWbLyX4BWQh"
   },
   "outputs": [],
   "source": [
    "results = st.ttest_ind(miss_in['calls_count'], miss_out['calls_count'])"
   ]
  },
  {
   "cell_type": "code",
   "execution_count": 73,
   "metadata": {
    "colab": {
     "base_uri": "https://localhost:8080/"
    },
    "id": "y497J8JeBWQh",
    "outputId": "f6e1619d-6050-4a2c-bf23-6f939f4fe2e5"
   },
   "outputs": [
    {
     "name": "stdout",
     "output_type": "stream",
     "text": [
      "p-значение:  1.0639033619120892e-37\n",
      "Отвергаем нулевую гипотезу\n"
     ]
    }
   ],
   "source": [
    "print('p-значение: ', results.pvalue)\n",
    "\n",
    "if results.pvalue < alpha:\n",
    "    print(\"Отвергаем нулевую гипотезу\")\n",
    "else:\n",
    "    print(\"Не получилось отвергнуть нулевую гипотезу\") "
   ]
  },
  {
   "cell_type": "markdown",
   "metadata": {
    "id": "oLhd8yJIBWQi"
   },
   "source": [
    "Нулевая гипотеза не подтвердилась, количество потерянных клиентов в двух группах разное."
   ]
  },
  {
   "cell_type": "markdown",
   "metadata": {
    "id": "c3PotuceBWQi"
   },
   "source": [
    "## Общий вывод"
   ]
  },
  {
   "cell_type": "markdown",
   "metadata": {
    "id": "jiQczWxLBWQj"
   },
   "source": [
    "Мы провели исследование для провайдера виртуальной телефонии \"Нупозвони\".\n",
    "\n",
    "Датасет был сгруппирован по двум типам клиентов:\n",
    "1. Группа Входящих - это те клиенты, которые распределяют входящие вызовы на своих операторов.\n",
    "2. Группа Исходящих - это те, которые совершают исходящие вызовы силами операторов.\n",
    "\n",
    "Обе группы были проверены с помощью метрик взятых с сайта https://wilstream.ru/stati/kpi-koll-tsentra/.\n",
    "\n",
    "С помощью метрик удалось определить, что во всех трех группах очень большой процент потерянных вызовов, от 39 до 47 процентов. Над этим показателем нужно работать в первую очередь.\n",
    "\n",
    "Среднее время ожидания ответа клиентом у всех групп на достаточно хорошем уровне, от 16 до 18 секунд.\n",
    "\n",
    "Среднее время разговора правдоподобно для каждой из групп:\n",
    "- У Входящих - 364 секунды (так как клиенты сами звонят решить свою проблему)\n",
    "- У Исходящих - 46 секунд (так как мало кто готов выслушивать рекламные предложения)\n",
    "\n",
    "Среднее время ожидания клиентом ответа оператора до сброса звонка у все трех групп примерно одинаковое - 19-21 секунд.\n",
    "\n",
    "Так же были сформированы и проверены две гипотезы:\n",
    "- Среднее время разговора в группе Входящих и Исходящих различаются.\n",
    "- В группе Входящих количество потерянных клиентов отличается от группы Исходящих.\n",
    "\n",
    "Обе гипотезы подтвердились.\n",
    "\n",
    "На основании проделанной работы можно сделать вывод, что **главная проблема эффективности операторов это пропущенные звонки**, и рекомендовать заказчику уделить пристальное внимание такому показателю как CAR (Call Abandon Rate) или Общий % потерянных вызовов. В обеих группах чуть ли не половина звонков пропускается.\n",
    "\n",
    "Более детальное изучение метрики \"процента пропущенных звонков\" подвердило проблему.\n",
    "\n",
    "Мы получили список из 187 клиентов, которым в первую очередь необходимо предлагать возможные варианты улучшения эффективности.\n",
    "\n",
    "Операторы этих клиентов пропускают четверть звонков, это примерно в пять раз больше отраслевого стандарта.\n",
    "\n"
   ]
  },
  {
   "cell_type": "markdown",
   "metadata": {
    "id": "c2SEvjHzQjD0"
   },
   "source": [
    "Эти клиенты в первую очередь нуждаются в решении проблемы эффективности операторов:\n",
    "\n",
    "166377, 166391, 166405, 166406, 166407, 166485, 166487, 166495,\n",
    "       166503, 166507, 166511, 166520, 166533, 166536, 166582, 166609,\n",
    "       166619, 166658, 166660, 166669, 166677, 166678, 166680, 166688,\n",
    "       166691, 166692, 166708, 166711, 166717, 166725, 166732, 166774,\n",
    "       166782, 166800, 166813, 166833, 166837, 166839, 166843, 166874,\n",
    "       166884, 166899, 166901, 166916, 166936, 166939, 166940, 166941,\n",
    "       166946, 166971, 166974, 166983, 166993, 166997, 167002, 167004,\n",
    "       167009, 167011, 167012, 167016, 167031, 167035, 167060, 167071,\n",
    "       167078, 167082, 167109, 167110, 167112, 167113, 167122, 167124,\n",
    "       167125, 167130, 167141, 167144, 167150, 167172, 167175, 167176,\n",
    "       167180, 167183, 167185, 167188, 167189, 167235, 167250, 167263,\n",
    "       167275, 167285, 167288, 167338, 167359, 167364, 167397, 167436,\n",
    "       167445, 167451, 167456, 167466, 167471, 167475, 167479, 167487,\n",
    "       167497, 167521, 167530, 167532, 167543, 167545, 167551, 167580,\n",
    "       167621, 167626, 167634, 167645, 167650, 167653, 167654, 167716,\n",
    "       167727, 167742, 167747, 167756, 167759, 167799, 167805, 167816,\n",
    "       167819, 167827, 167828, 167829, 167852, 167888, 167923, 167947,\n",
    "       167949, 167955, 167958, 167969, 167977, 167989, 167994, 167995,\n",
    "       167999, 168000, 168004, 168008, 168010, 168018, 168021, 168025,\n",
    "       168047, 168062, 168064, 168073, 168091, 168093, 168097, 168105,\n",
    "       168121, 168128, 168154, 168155, 168185, 168187, 168193, 168221,\n",
    "       168225, 168228, 168252, 168253, 168271, 168275, 168291, 168295,\n",
    "       168307, 168336, 168361, 168412, 168416, 168466, 168473, 168481,\n",
    "       168601, 168603, 168606."
   ]
  },
  {
   "cell_type": "code",
   "execution_count": 74,
   "metadata": {
    "id": "FR4KBrKeBWQj"
   },
   "outputs": [],
   "source": [
    "#plt.figure(figsize=(15, 5))\n",
    "#plt.hist(df_in.loc[(df_in['call_duration'] >= 1) & (df_in['call_duration'] <= 1500)]['call_duration'], bins = 200, range=(0,1500), alpha=0.9, label='группа Входящие',)\n",
    "#plt.hist(df_out.loc[(df_out['call_duration'] >= 1) & (df_out['call_duration'] <= 1500)]['call_duration'], bins = 200, range=(0,1500), alpha=0.3, label='группа Исходящие',)\n",
    "#plt.axvline(x=20, color='b', ls=':', label='Медиана гр.Входящие')\n",
    "#plt.axvline(x=46, color='orange', ls=':', label='Медиана гр.Исходящие')\n",
    "#plt.axvline(x=364, color='b', ls='-.', label='Среднее гр.Входящие') \n",
    "#plt.axvline(x=1005, color='orange', ls='-.', label='Среднее гр.Исходящие')\n",
    "#plt.legend(loc='upper right')\n",
    "#plt.title('Сравнение средней продолжительности разговора')\n",
    "#plt.show()"
   ]
  }
 ],
 "metadata": {
  "ExecuteTimeLog": [
   {
    "duration": 1308,
    "start_time": "2022-06-20T19:37:11.498Z"
   },
   {
    "duration": 2,
    "start_time": "2022-06-20T19:37:25.408Z"
   },
   {
    "duration": 118,
    "start_time": "2022-06-20T19:37:58.382Z"
   },
   {
    "duration": 81,
    "start_time": "2022-06-20T19:40:24.175Z"
   },
   {
    "duration": 142,
    "start_time": "2022-06-20T19:40:31.620Z"
   },
   {
    "duration": 19,
    "start_time": "2022-06-20T19:40:36.053Z"
   },
   {
    "duration": 14,
    "start_time": "2022-06-20T19:40:40.174Z"
   },
   {
    "duration": 25,
    "start_time": "2022-06-20T19:41:23.227Z"
   },
   {
    "duration": 16,
    "start_time": "2022-06-20T19:41:54.684Z"
   },
   {
    "duration": 13,
    "start_time": "2022-06-20T19:42:35.403Z"
   },
   {
    "duration": 17,
    "start_time": "2022-06-20T19:42:41.227Z"
   },
   {
    "duration": 10,
    "start_time": "2022-06-20T19:42:46.412Z"
   },
   {
    "duration": 12,
    "start_time": "2022-06-20T19:43:01.364Z"
   },
   {
    "duration": 20,
    "start_time": "2022-06-20T19:43:18.864Z"
   },
   {
    "duration": 15,
    "start_time": "2022-06-20T19:43:24.716Z"
   },
   {
    "duration": 15,
    "start_time": "2022-06-20T19:43:30.619Z"
   },
   {
    "duration": 19,
    "start_time": "2022-06-20T19:43:36.362Z"
   },
   {
    "duration": 4,
    "start_time": "2022-06-20T19:43:50.826Z"
   },
   {
    "duration": 3,
    "start_time": "2022-06-20T19:43:56.259Z"
   },
   {
    "duration": 22,
    "start_time": "2022-06-20T19:44:11.458Z"
   },
   {
    "duration": 28,
    "start_time": "2022-06-20T19:44:16.563Z"
   },
   {
    "duration": 6,
    "start_time": "2022-06-20T19:44:35.361Z"
   },
   {
    "duration": 14,
    "start_time": "2022-06-20T19:44:40.130Z"
   },
   {
    "duration": 14,
    "start_time": "2022-06-20T19:45:01.043Z"
   },
   {
    "duration": 22,
    "start_time": "2022-06-20T19:45:20.241Z"
   },
   {
    "duration": 35,
    "start_time": "2022-06-20T19:45:28.538Z"
   },
   {
    "duration": 12,
    "start_time": "2022-06-20T19:46:14.737Z"
   },
   {
    "duration": 12,
    "start_time": "2022-06-20T19:46:20.970Z"
   },
   {
    "duration": 11,
    "start_time": "2022-06-20T19:47:07.626Z"
   },
   {
    "duration": 6,
    "start_time": "2022-06-20T19:47:50.952Z"
   },
   {
    "duration": 8,
    "start_time": "2022-06-20T19:47:56.656Z"
   },
   {
    "duration": 434,
    "start_time": "2022-06-20T19:48:01.656Z"
   },
   {
    "duration": 8,
    "start_time": "2022-06-20T19:48:08.337Z"
   },
   {
    "duration": 9,
    "start_time": "2022-06-20T19:48:23.408Z"
   },
   {
    "duration": 995,
    "start_time": "2022-06-20T19:48:28.416Z"
   },
   {
    "duration": 10,
    "start_time": "2022-06-20T19:50:53.070Z"
   },
   {
    "duration": 7,
    "start_time": "2022-06-20T19:50:57.630Z"
   },
   {
    "duration": 35,
    "start_time": "2022-06-20T19:51:02.590Z"
   },
   {
    "duration": 14,
    "start_time": "2022-06-20T19:51:37.120Z"
   },
   {
    "duration": 8,
    "start_time": "2022-06-20T19:51:46.214Z"
   },
   {
    "duration": 14,
    "start_time": "2022-06-20T19:51:51.414Z"
   },
   {
    "duration": 31,
    "start_time": "2022-06-20T19:51:57.650Z"
   },
   {
    "duration": 14,
    "start_time": "2022-06-20T19:53:24.141Z"
   },
   {
    "duration": 6,
    "start_time": "2022-06-20T19:53:46.910Z"
   },
   {
    "duration": 119,
    "start_time": "2022-06-20T19:54:02.053Z"
   },
   {
    "duration": 103,
    "start_time": "2022-06-20T19:54:13.430Z"
   },
   {
    "duration": 29,
    "start_time": "2022-06-20T19:54:55.252Z"
   },
   {
    "duration": 25,
    "start_time": "2022-06-20T19:56:18.803Z"
   },
   {
    "duration": 12,
    "start_time": "2022-06-20T19:59:33.076Z"
   },
   {
    "duration": 6,
    "start_time": "2022-06-20T20:00:11.814Z"
   },
   {
    "duration": 4,
    "start_time": "2022-06-20T20:00:37.711Z"
   },
   {
    "duration": 66,
    "start_time": "2022-06-20T20:00:41.151Z"
   },
   {
    "duration": 8,
    "start_time": "2022-06-20T20:00:59.495Z"
   },
   {
    "duration": 7,
    "start_time": "2022-06-20T20:01:09.854Z"
   },
   {
    "duration": 163,
    "start_time": "2022-06-20T20:01:18.884Z"
   },
   {
    "duration": 108,
    "start_time": "2022-06-20T20:01:23.384Z"
   },
   {
    "duration": 94,
    "start_time": "2022-06-20T20:01:28.488Z"
   },
   {
    "duration": 106,
    "start_time": "2022-06-20T20:01:34.008Z"
   },
   {
    "duration": 124,
    "start_time": "2022-06-20T20:04:07.724Z"
   },
   {
    "duration": 24461,
    "start_time": "2022-06-20T20:04:53.852Z"
   },
   {
    "duration": 3088,
    "start_time": "2022-06-20T20:05:27.830Z"
   },
   {
    "duration": 354,
    "start_time": "2022-06-20T20:05:38.556Z"
   },
   {
    "duration": 2016,
    "start_time": "2022-06-20T20:06:24.059Z"
   },
   {
    "duration": 385,
    "start_time": "2022-06-20T20:06:42.803Z"
   },
   {
    "duration": 336,
    "start_time": "2022-06-20T20:07:20.859Z"
   },
   {
    "duration": 1440,
    "start_time": "2022-06-20T20:08:36.370Z"
   },
   {
    "duration": 419,
    "start_time": "2022-06-20T20:09:20.657Z"
   },
   {
    "duration": 349,
    "start_time": "2022-06-20T20:10:08.016Z"
   },
   {
    "duration": 370,
    "start_time": "2022-06-20T20:10:19.361Z"
   },
   {
    "duration": 321,
    "start_time": "2022-06-20T20:12:59.007Z"
   },
   {
    "duration": 27,
    "start_time": "2022-06-20T20:15:47.948Z"
   },
   {
    "duration": 20,
    "start_time": "2022-06-20T20:17:07.251Z"
   },
   {
    "duration": 34,
    "start_time": "2022-06-20T20:19:52.138Z"
   },
   {
    "duration": 30,
    "start_time": "2022-06-20T20:20:06.072Z"
   },
   {
    "duration": 24,
    "start_time": "2022-06-20T20:23:08.358Z"
   },
   {
    "duration": 5,
    "start_time": "2022-06-20T20:24:06.239Z"
   },
   {
    "duration": 8,
    "start_time": "2022-06-20T20:24:45.101Z"
   },
   {
    "duration": 123,
    "start_time": "2022-06-20T20:24:50.484Z"
   },
   {
    "duration": 117,
    "start_time": "2022-06-20T20:24:59.739Z"
   },
   {
    "duration": 334,
    "start_time": "2022-06-20T20:25:47.884Z"
   },
   {
    "duration": 344,
    "start_time": "2022-06-20T20:26:03.184Z"
   },
   {
    "duration": 330,
    "start_time": "2022-06-20T20:26:07.659Z"
   },
   {
    "duration": 334,
    "start_time": "2022-06-20T20:26:12.299Z"
   },
   {
    "duration": 339,
    "start_time": "2022-06-20T20:26:16.181Z"
   },
   {
    "duration": 393,
    "start_time": "2022-06-20T20:26:19.980Z"
   },
   {
    "duration": 345,
    "start_time": "2022-06-20T20:26:25.043Z"
   },
   {
    "duration": 354,
    "start_time": "2022-06-20T20:26:43.339Z"
   },
   {
    "duration": 344,
    "start_time": "2022-06-20T20:29:46.473Z"
   },
   {
    "duration": 376,
    "start_time": "2022-06-20T20:29:52.938Z"
   },
   {
    "duration": 360,
    "start_time": "2022-06-20T20:30:17.594Z"
   },
   {
    "duration": 335,
    "start_time": "2022-06-20T20:30:21.664Z"
   },
   {
    "duration": 379,
    "start_time": "2022-06-20T20:30:32.703Z"
   },
   {
    "duration": 422,
    "start_time": "2022-06-20T20:30:47.249Z"
   },
   {
    "duration": 321,
    "start_time": "2022-06-20T20:31:09.943Z"
   },
   {
    "duration": 331,
    "start_time": "2022-06-20T20:31:22.407Z"
   },
   {
    "duration": 33,
    "start_time": "2022-06-20T20:35:36.092Z"
   },
   {
    "duration": 55,
    "start_time": "2022-06-20T20:36:07.979Z"
   },
   {
    "duration": 2,
    "start_time": "2022-06-20T20:46:02.300Z"
   },
   {
    "duration": 5,
    "start_time": "2022-06-20T20:46:12.586Z"
   },
   {
    "duration": 3,
    "start_time": "2022-06-20T20:46:18.092Z"
   },
   {
    "duration": 4,
    "start_time": "2022-06-20T20:46:26.757Z"
   },
   {
    "duration": 19,
    "start_time": "2022-06-20T20:46:52.361Z"
   },
   {
    "duration": 2,
    "start_time": "2022-06-20T20:50:38.696Z"
   },
   {
    "duration": 4,
    "start_time": "2022-06-20T20:50:39.623Z"
   },
   {
    "duration": 4,
    "start_time": "2022-06-20T20:50:40.423Z"
   },
   {
    "duration": 19,
    "start_time": "2022-06-20T20:51:46.664Z"
   },
   {
    "duration": 5,
    "start_time": "2022-06-20T20:56:55.564Z"
   },
   {
    "duration": 17,
    "start_time": "2022-06-20T20:57:01.161Z"
   },
   {
    "duration": 10,
    "start_time": "2022-06-20T20:57:46.370Z"
   },
   {
    "duration": 18,
    "start_time": "2022-06-20T20:57:52.025Z"
   },
   {
    "duration": 4,
    "start_time": "2022-06-20T20:58:37.456Z"
   },
   {
    "duration": 4,
    "start_time": "2022-06-20T20:58:42.594Z"
   },
   {
    "duration": 1262,
    "start_time": "2022-06-20T21:28:40.050Z"
   },
   {
    "duration": 89,
    "start_time": "2022-06-20T21:29:44.040Z"
   },
   {
    "duration": 93,
    "start_time": "2022-06-20T21:31:31.433Z"
   },
   {
    "duration": 97,
    "start_time": "2022-06-20T21:36:20.673Z"
   },
   {
    "duration": 972,
    "start_time": "2022-06-20T21:44:15.677Z"
   },
   {
    "duration": 600,
    "start_time": "2022-06-20T21:44:29.020Z"
   },
   {
    "duration": 400,
    "start_time": "2022-06-20T21:44:46.563Z"
   },
   {
    "duration": 404,
    "start_time": "2022-06-20T21:45:09.515Z"
   },
   {
    "duration": 399,
    "start_time": "2022-06-20T21:45:59.410Z"
   },
   {
    "duration": 409,
    "start_time": "2022-06-20T21:46:46.249Z"
   },
   {
    "duration": 431,
    "start_time": "2022-06-20T21:47:04.540Z"
   },
   {
    "duration": 451,
    "start_time": "2022-06-20T21:47:17.026Z"
   },
   {
    "duration": 436,
    "start_time": "2022-06-20T21:47:25.513Z"
   },
   {
    "duration": 476,
    "start_time": "2022-06-20T21:47:33.786Z"
   },
   {
    "duration": 404,
    "start_time": "2022-06-20T21:47:46.977Z"
   },
   {
    "duration": 428,
    "start_time": "2022-06-20T21:47:54.450Z"
   },
   {
    "duration": 399,
    "start_time": "2022-06-20T21:47:59.076Z"
   },
   {
    "duration": 410,
    "start_time": "2022-06-20T21:48:03.123Z"
   },
   {
    "duration": 1710,
    "start_time": "2022-06-20T21:49:05.569Z"
   },
   {
    "duration": 592,
    "start_time": "2022-06-20T21:50:00.095Z"
   },
   {
    "duration": 93,
    "start_time": "2022-06-20T21:51:41.902Z"
   },
   {
    "duration": 729,
    "start_time": "2022-06-20T21:58:14.210Z"
   },
   {
    "duration": 718,
    "start_time": "2022-06-20T21:58:31.738Z"
   },
   {
    "duration": 778,
    "start_time": "2022-06-20T21:59:30.181Z"
   },
   {
    "duration": 766,
    "start_time": "2022-06-20T21:59:48.787Z"
   },
   {
    "duration": 694,
    "start_time": "2022-06-20T22:01:06.367Z"
   },
   {
    "duration": 748,
    "start_time": "2022-06-20T22:01:30.495Z"
   },
   {
    "duration": 733,
    "start_time": "2022-06-20T22:01:40.407Z"
   },
   {
    "duration": 686,
    "start_time": "2022-06-20T22:01:50.422Z"
   },
   {
    "duration": 760,
    "start_time": "2022-06-20T22:02:21.719Z"
   },
   {
    "duration": 3,
    "start_time": "2022-06-20T22:04:01.949Z"
   },
   {
    "duration": 116,
    "start_time": "2022-06-21T06:01:49.652Z"
   },
   {
    "duration": 119,
    "start_time": "2022-06-21T06:09:31.591Z"
   },
   {
    "duration": 1194,
    "start_time": "2022-08-02T17:33:01.075Z"
   },
   {
    "duration": 2,
    "start_time": "2022-08-02T17:33:02.271Z"
   },
   {
    "duration": 12,
    "start_time": "2022-08-02T17:33:02.274Z"
   },
   {
    "duration": 6,
    "start_time": "2022-08-02T17:33:02.288Z"
   },
   {
    "duration": 99,
    "start_time": "2022-08-02T17:33:02.295Z"
   },
   {
    "duration": 302,
    "start_time": "2022-08-02T17:33:02.395Z"
   },
   {
    "duration": 39,
    "start_time": "2022-08-02T17:33:02.699Z"
   },
   {
    "duration": 19,
    "start_time": "2022-08-02T17:33:02.740Z"
   },
   {
    "duration": 36,
    "start_time": "2022-08-02T17:33:02.760Z"
   },
   {
    "duration": 26,
    "start_time": "2022-08-02T17:33:02.799Z"
   },
   {
    "duration": 21,
    "start_time": "2022-08-02T17:33:02.827Z"
   },
   {
    "duration": 18,
    "start_time": "2022-08-02T17:33:02.850Z"
   },
   {
    "duration": 18,
    "start_time": "2022-08-02T17:33:02.870Z"
   },
   {
    "duration": 33,
    "start_time": "2022-08-02T17:33:02.889Z"
   },
   {
    "duration": 26,
    "start_time": "2022-08-02T17:33:02.924Z"
   },
   {
    "duration": 24,
    "start_time": "2022-08-02T17:33:02.952Z"
   },
   {
    "duration": 4,
    "start_time": "2022-08-02T17:33:02.977Z"
   },
   {
    "duration": 21,
    "start_time": "2022-08-02T17:33:02.983Z"
   },
   {
    "duration": 42,
    "start_time": "2022-08-02T17:33:03.006Z"
   },
   {
    "duration": 33,
    "start_time": "2022-08-02T17:33:03.050Z"
   },
   {
    "duration": 21,
    "start_time": "2022-08-02T17:33:03.086Z"
   },
   {
    "duration": 33,
    "start_time": "2022-08-02T17:33:03.109Z"
   },
   {
    "duration": 19,
    "start_time": "2022-08-02T17:33:03.144Z"
   },
   {
    "duration": 24,
    "start_time": "2022-08-02T17:33:03.165Z"
   },
   {
    "duration": 21,
    "start_time": "2022-08-02T17:33:03.202Z"
   },
   {
    "duration": 17,
    "start_time": "2022-08-02T17:33:03.225Z"
   },
   {
    "duration": 12,
    "start_time": "2022-08-02T17:33:03.244Z"
   },
   {
    "duration": 5,
    "start_time": "2022-08-02T17:33:03.260Z"
   },
   {
    "duration": 41,
    "start_time": "2022-08-02T17:33:03.266Z"
   },
   {
    "duration": 461,
    "start_time": "2022-08-02T17:33:03.313Z"
   },
   {
    "duration": 9,
    "start_time": "2022-08-02T17:33:03.775Z"
   },
   {
    "duration": 34,
    "start_time": "2022-08-02T17:33:03.785Z"
   },
   {
    "duration": 1045,
    "start_time": "2022-08-02T17:33:03.821Z"
   },
   {
    "duration": 11,
    "start_time": "2022-08-02T17:33:04.868Z"
   },
   {
    "duration": 15,
    "start_time": "2022-08-02T17:33:04.881Z"
   },
   {
    "duration": 33,
    "start_time": "2022-08-02T17:33:04.901Z"
   },
   {
    "duration": 14,
    "start_time": "2022-08-02T17:33:04.935Z"
   },
   {
    "duration": 19,
    "start_time": "2022-08-02T17:33:04.950Z"
   },
   {
    "duration": 20,
    "start_time": "2022-08-02T17:33:04.971Z"
   },
   {
    "duration": 38,
    "start_time": "2022-08-02T17:33:04.992Z"
   },
   {
    "duration": 25,
    "start_time": "2022-08-02T17:33:05.031Z"
   },
   {
    "duration": 6,
    "start_time": "2022-08-02T17:33:05.057Z"
   },
   {
    "duration": 118,
    "start_time": "2022-08-02T17:33:05.064Z"
   },
   {
    "duration": 142,
    "start_time": "2022-08-02T17:33:05.184Z"
   },
   {
    "duration": 25,
    "start_time": "2022-08-02T17:33:05.329Z"
   },
   {
    "duration": 12,
    "start_time": "2022-08-02T17:33:05.356Z"
   },
   {
    "duration": 178,
    "start_time": "2022-08-02T17:33:05.370Z"
   },
   {
    "duration": 5,
    "start_time": "2022-08-02T17:33:05.550Z"
   },
   {
    "duration": 40,
    "start_time": "2022-08-02T17:33:05.557Z"
   },
   {
    "duration": 142,
    "start_time": "2022-08-02T17:33:05.599Z"
   },
   {
    "duration": 348,
    "start_time": "2022-08-02T17:33:05.743Z"
   },
   {
    "duration": 39,
    "start_time": "2022-08-02T17:33:06.092Z"
   },
   {
    "duration": 16,
    "start_time": "2022-08-02T17:33:06.132Z"
   },
   {
    "duration": 43,
    "start_time": "2022-08-02T17:33:06.150Z"
   },
   {
    "duration": 25,
    "start_time": "2022-08-02T17:33:06.204Z"
   },
   {
    "duration": 122,
    "start_time": "2022-08-02T17:33:06.231Z"
   },
   {
    "duration": 4,
    "start_time": "2022-08-02T17:33:06.355Z"
   },
   {
    "duration": 10,
    "start_time": "2022-08-02T17:33:06.361Z"
   },
   {
    "duration": 148,
    "start_time": "2022-08-02T17:33:06.373Z"
   },
   {
    "duration": 346,
    "start_time": "2022-08-02T17:33:06.523Z"
   },
   {
    "duration": 46,
    "start_time": "2022-08-02T17:33:06.870Z"
   },
   {
    "duration": 16,
    "start_time": "2022-08-02T17:33:06.919Z"
   },
   {
    "duration": 26,
    "start_time": "2022-08-02T17:33:06.937Z"
   },
   {
    "duration": 13,
    "start_time": "2022-08-02T17:33:06.964Z"
   },
   {
    "duration": 8,
    "start_time": "2022-08-02T17:33:06.979Z"
   },
   {
    "duration": 19,
    "start_time": "2022-08-02T17:33:06.990Z"
   },
   {
    "duration": 5,
    "start_time": "2022-08-02T17:33:07.014Z"
   },
   {
    "duration": 9,
    "start_time": "2022-08-02T17:33:07.020Z"
   },
   {
    "duration": 9,
    "start_time": "2022-08-02T17:33:07.031Z"
   },
   {
    "duration": 10,
    "start_time": "2022-08-02T17:33:07.042Z"
   },
   {
    "duration": 10,
    "start_time": "2022-08-02T17:33:07.054Z"
   },
   {
    "duration": 6,
    "start_time": "2022-08-02T17:33:07.065Z"
   },
   {
    "duration": 7,
    "start_time": "2022-08-02T17:33:07.072Z"
   },
   {
    "duration": 6,
    "start_time": "2022-08-02T17:33:07.081Z"
   }
  ],
  "colab": {
   "collapsed_sections": [
    "jL9gV1ANBWPn",
    "fMk8hfFkBWP2",
    "U4aGwQ3ZBWP_",
    "4pg7BNKEBWQB",
    "xlMXTdX6BWQJ"
   ],
   "name": "notebook_(4).ipynb",
   "provenance": [],
   "toc_visible": true
  },
  "kernelspec": {
   "display_name": "Python 3 (ipykernel)",
   "language": "python",
   "name": "python3"
  },
  "language_info": {
   "codemirror_mode": {
    "name": "ipython",
    "version": 3
   },
   "file_extension": ".py",
   "mimetype": "text/x-python",
   "name": "python",
   "nbconvert_exporter": "python",
   "pygments_lexer": "ipython3",
   "version": "3.9.7"
  },
  "toc": {
   "base_numbering": 1,
   "nav_menu": {},
   "number_sections": true,
   "sideBar": true,
   "skip_h1_title": true,
   "title_cell": "Table of Contents",
   "title_sidebar": "Contents",
   "toc_cell": false,
   "toc_position": {
    "height": "calc(100% - 180px)",
    "left": "10px",
    "top": "150px",
    "width": "165px"
   },
   "toc_section_display": true,
   "toc_window_display": true
  }
 },
 "nbformat": 4,
 "nbformat_minor": 1
}
