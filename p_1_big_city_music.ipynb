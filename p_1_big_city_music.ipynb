{
 "cells": [
  {
   "cell_type": "markdown",
   "metadata": {
    "id": "E0vqbgi9ay0H"
   },
   "source": [
    "# Яндекс.Музыка"
   ]
  },
  {
   "cell_type": "markdown",
   "metadata": {
    "id": "VUC88oWjTJw2"
   },
   "source": [
    "Сравнение Москвы и Петербурга окружено мифами. Например:\n",
    " * Москва — мегаполис, подчинённый жёсткому ритму рабочей недели;\n",
    " * Петербург — культурная столица, со своими вкусами.\n",
    "\n",
    "На данных Яндекс.Музыки вы сравните поведение пользователей двух столиц.\n",
    "\n",
    "**Цель исследования** — проверьте три гипотезы:\n",
    "1. Активность пользователей зависит от дня недели. Причём в Москве и Петербурге это проявляется по-разному.\n",
    "2. В понедельник утром в Москве преобладают одни жанры, а в Петербурге — другие. Так же и вечером пятницы преобладают разные жанры — в зависимости от города. \n",
    "3. Москва и Петербург предпочитают разные жанры музыки. В Москве чаще слушают поп-музыку, в Петербурге — русский рэп.\n",
    "\n",
    "**Ход исследования**\n",
    "\n",
    "Данные о поведении пользователей вы получите из файла `yandex_music_project.csv`. О качестве данных ничего не известно. Поэтому перед проверкой гипотез понадобится обзор данных. \n",
    "\n",
    "Вы проверите данные на ошибки и оцените их влияние на исследование. Затем, на этапе предобработки вы поищете возможность исправить самые критичные ошибки данных.\n",
    " \n",
    "Таким образом, исследование пройдёт в три этапа:\n",
    " 1. Обзор данных.\n",
    " 2. Предобработка данных.\n",
    " 3. Проверка гипотез.\n",
    "\n"
   ]
  },
  {
   "cell_type": "markdown",
   "metadata": {
    "id": "Ml1hmfXC_Zcs"
   },
   "source": [
    "## Обзор данных\n",
    "\n",
    "Составьте первое представление о данных Яндекс.Музыки.\n",
    "\n",
    "\n"
   ]
  },
  {
   "cell_type": "markdown",
   "metadata": {
    "id": "57eAOGIz_Zcs"
   },
   "source": [
    "Основной инструмент аналитика — `pandas`. Импортируйте эту библиотеку."
   ]
  },
  {
   "cell_type": "code",
   "execution_count": 1,
   "metadata": {
    "id": "AXN7PHPN_Zcs"
   },
   "outputs": [],
   "source": [
    "import pandas as pd # импорт библиотеки pandas"
   ]
  },
  {
   "cell_type": "markdown",
   "metadata": {
    "id": "SG23P8tt_Zcs"
   },
   "source": [
    "Прочитайте файл `yandex_music_project.csv` из папки `/datasets` и сохраните его в переменной `df`:"
   ]
  },
  {
   "cell_type": "code",
   "execution_count": 2,
   "metadata": {
    "id": "fFVu7vqh_Zct"
   },
   "outputs": [],
   "source": [
    "df = pd.read_csv('/datasets/yandex_music_project.csv') # чтение файла с данными и сохранение в df"
   ]
  },
  {
   "cell_type": "markdown",
   "metadata": {
    "id": "rDoOMd3uTqnZ"
   },
   "source": [
    "Выведите на экран первые десять строк таблицы:"
   ]
  },
  {
   "cell_type": "code",
   "execution_count": 3,
   "metadata": {
    "id": "oWTVX3gW_Zct",
    "scrolled": true
   },
   "outputs": [
    {
     "data": {
      "text/html": [
       "<div>\n",
       "<style scoped>\n",
       "    .dataframe tbody tr th:only-of-type {\n",
       "        vertical-align: middle;\n",
       "    }\n",
       "\n",
       "    .dataframe tbody tr th {\n",
       "        vertical-align: top;\n",
       "    }\n",
       "\n",
       "    .dataframe thead th {\n",
       "        text-align: right;\n",
       "    }\n",
       "</style>\n",
       "<table border=\"1\" class=\"dataframe\">\n",
       "  <thead>\n",
       "    <tr style=\"text-align: right;\">\n",
       "      <th></th>\n",
       "      <th>userID</th>\n",
       "      <th>Track</th>\n",
       "      <th>artist</th>\n",
       "      <th>genre</th>\n",
       "      <th>City</th>\n",
       "      <th>time</th>\n",
       "      <th>Day</th>\n",
       "    </tr>\n",
       "  </thead>\n",
       "  <tbody>\n",
       "    <tr>\n",
       "      <th>0</th>\n",
       "      <td>FFB692EC</td>\n",
       "      <td>Kamigata To Boots</td>\n",
       "      <td>The Mass Missile</td>\n",
       "      <td>rock</td>\n",
       "      <td>Saint-Petersburg</td>\n",
       "      <td>20:28:33</td>\n",
       "      <td>Wednesday</td>\n",
       "    </tr>\n",
       "    <tr>\n",
       "      <th>1</th>\n",
       "      <td>55204538</td>\n",
       "      <td>Delayed Because of Accident</td>\n",
       "      <td>Andreas Rönnberg</td>\n",
       "      <td>rock</td>\n",
       "      <td>Moscow</td>\n",
       "      <td>14:07:09</td>\n",
       "      <td>Friday</td>\n",
       "    </tr>\n",
       "    <tr>\n",
       "      <th>2</th>\n",
       "      <td>20EC38</td>\n",
       "      <td>Funiculì funiculà</td>\n",
       "      <td>Mario Lanza</td>\n",
       "      <td>pop</td>\n",
       "      <td>Saint-Petersburg</td>\n",
       "      <td>20:58:07</td>\n",
       "      <td>Wednesday</td>\n",
       "    </tr>\n",
       "    <tr>\n",
       "      <th>3</th>\n",
       "      <td>A3DD03C9</td>\n",
       "      <td>Dragons in the Sunset</td>\n",
       "      <td>Fire + Ice</td>\n",
       "      <td>folk</td>\n",
       "      <td>Saint-Petersburg</td>\n",
       "      <td>08:37:09</td>\n",
       "      <td>Monday</td>\n",
       "    </tr>\n",
       "    <tr>\n",
       "      <th>4</th>\n",
       "      <td>E2DC1FAE</td>\n",
       "      <td>Soul People</td>\n",
       "      <td>Space Echo</td>\n",
       "      <td>dance</td>\n",
       "      <td>Moscow</td>\n",
       "      <td>08:34:34</td>\n",
       "      <td>Monday</td>\n",
       "    </tr>\n",
       "    <tr>\n",
       "      <th>5</th>\n",
       "      <td>842029A1</td>\n",
       "      <td>Преданная</td>\n",
       "      <td>IMPERVTOR</td>\n",
       "      <td>rusrap</td>\n",
       "      <td>Saint-Petersburg</td>\n",
       "      <td>13:09:41</td>\n",
       "      <td>Friday</td>\n",
       "    </tr>\n",
       "    <tr>\n",
       "      <th>6</th>\n",
       "      <td>4CB90AA5</td>\n",
       "      <td>True</td>\n",
       "      <td>Roman Messer</td>\n",
       "      <td>dance</td>\n",
       "      <td>Moscow</td>\n",
       "      <td>13:00:07</td>\n",
       "      <td>Wednesday</td>\n",
       "    </tr>\n",
       "    <tr>\n",
       "      <th>7</th>\n",
       "      <td>F03E1C1F</td>\n",
       "      <td>Feeling This Way</td>\n",
       "      <td>Polina Griffith</td>\n",
       "      <td>dance</td>\n",
       "      <td>Moscow</td>\n",
       "      <td>20:47:49</td>\n",
       "      <td>Wednesday</td>\n",
       "    </tr>\n",
       "    <tr>\n",
       "      <th>8</th>\n",
       "      <td>8FA1D3BE</td>\n",
       "      <td>И вновь продолжается бой</td>\n",
       "      <td>NaN</td>\n",
       "      <td>ruspop</td>\n",
       "      <td>Moscow</td>\n",
       "      <td>09:17:40</td>\n",
       "      <td>Friday</td>\n",
       "    </tr>\n",
       "    <tr>\n",
       "      <th>9</th>\n",
       "      <td>E772D5C0</td>\n",
       "      <td>Pessimist</td>\n",
       "      <td>NaN</td>\n",
       "      <td>dance</td>\n",
       "      <td>Saint-Petersburg</td>\n",
       "      <td>21:20:49</td>\n",
       "      <td>Wednesday</td>\n",
       "    </tr>\n",
       "  </tbody>\n",
       "</table>\n",
       "</div>"
      ],
      "text/plain": [
       "     userID                        Track            artist   genre  \\\n",
       "0  FFB692EC            Kamigata To Boots  The Mass Missile    rock   \n",
       "1  55204538  Delayed Because of Accident  Andreas Rönnberg    rock   \n",
       "2    20EC38            Funiculì funiculà       Mario Lanza     pop   \n",
       "3  A3DD03C9        Dragons in the Sunset        Fire + Ice    folk   \n",
       "4  E2DC1FAE                  Soul People        Space Echo   dance   \n",
       "5  842029A1                    Преданная         IMPERVTOR  rusrap   \n",
       "6  4CB90AA5                         True      Roman Messer   dance   \n",
       "7  F03E1C1F             Feeling This Way   Polina Griffith   dance   \n",
       "8  8FA1D3BE     И вновь продолжается бой               NaN  ruspop   \n",
       "9  E772D5C0                    Pessimist               NaN   dance   \n",
       "\n",
       "             City        time        Day  \n",
       "0  Saint-Petersburg  20:28:33  Wednesday  \n",
       "1            Moscow  14:07:09     Friday  \n",
       "2  Saint-Petersburg  20:58:07  Wednesday  \n",
       "3  Saint-Petersburg  08:37:09     Monday  \n",
       "4            Moscow  08:34:34     Monday  \n",
       "5  Saint-Petersburg  13:09:41     Friday  \n",
       "6            Moscow  13:00:07  Wednesday  \n",
       "7            Moscow  20:47:49  Wednesday  \n",
       "8            Moscow  09:17:40     Friday  \n",
       "9  Saint-Petersburg  21:20:49  Wednesday  "
      ]
     },
     "execution_count": 3,
     "metadata": {},
     "output_type": "execute_result"
    }
   ],
   "source": [
    "df.head(10) # получение первых 10 строк таблицы df"
   ]
  },
  {
   "cell_type": "markdown",
   "metadata": {
    "id": "EO73Kwic_Zct"
   },
   "source": [
    "Одной командой получить общую информацию о таблице:"
   ]
  },
  {
   "cell_type": "code",
   "execution_count": 4,
   "metadata": {
    "id": "DSf2kIb-_Zct",
    "scrolled": true
   },
   "outputs": [
    {
     "name": "stdout",
     "output_type": "stream",
     "text": [
      "<class 'pandas.core.frame.DataFrame'>\n",
      "RangeIndex: 65079 entries, 0 to 65078\n",
      "Data columns (total 7 columns):\n",
      " #   Column    Non-Null Count  Dtype \n",
      "---  ------    --------------  ----- \n",
      " 0     userID  65079 non-null  object\n",
      " 1   Track     63848 non-null  object\n",
      " 2   artist    57876 non-null  object\n",
      " 3   genre     63881 non-null  object\n",
      " 4     City    65079 non-null  object\n",
      " 5   time      65079 non-null  object\n",
      " 6   Day       65079 non-null  object\n",
      "dtypes: object(7)\n",
      "memory usage: 3.5+ MB\n"
     ]
    }
   ],
   "source": [
    "df.info() # получение общей информации о данных в таблице df"
   ]
  },
  {
   "cell_type": "markdown",
   "metadata": {
    "id": "TaQ2Iwbr_Zct"
   },
   "source": [
    "Итак, в таблице семь столбцов. Тип данных во всех столбцах — `object`.\n",
    "\n",
    "Согласно документации к данным:\n",
    "* `userID` — идентификатор пользователя;\n",
    "* `Track` — название трека;  \n",
    "* `artist` — имя исполнителя;\n",
    "* `genre` — название жанра;\n",
    "* `City` — город пользователя;\n",
    "* `time` — время начала прослушивания;\n",
    "* `Day` — день недели.\n",
    "\n",
    "В названиях колонок видны три нарушения стиля:\n",
    "1. Строчные буквы сочетаются с прописными.\n",
    "2. Встречаются пробелы.\n",
    "3. Некоторые названия не разделены нижним подчёркиванием.\n",
    "\n",
    "\n",
    "\n",
    "Количество значений в столбцах различается. Значит, в данных есть пропущенные значения.\n"
   ]
  },
  {
   "cell_type": "markdown",
   "metadata": {
    "id": "MCB6-dXG_Zct"
   },
   "source": [
    "**Выводы**\n",
    "\n",
    "В каждой строке таблицы — данные о прослушанном треке. Часть колонок описывает саму композицию: название, исполнителя и жанр. Остальные данные рассказывают о пользователе: из какого он города, когда он слушал музыку. \n",
    "\n",
    "Предварительно можно утверждать, что, данных достаточно для проверки гипотез. Но встречаются пропуски в данных, а в названиях колонок — расхождения с хорошим стилем.\n",
    "\n",
    "Чтобы двигаться дальше, нужно устранить проблемы в данных."
   ]
  },
  {
   "cell_type": "markdown",
   "metadata": {
    "id": "SjYF6Ub9_Zct"
   },
   "source": [
    "## Предобработка данных\n",
    "Исправьте стиль в заголовках столбцов, исключите пропуски. Затем проверьте данные на дубликаты."
   ]
  },
  {
   "cell_type": "markdown",
   "metadata": {
    "id": "dIaKXr29_Zct"
   },
   "source": [
    "### Стиль заголовков\n",
    "Выведите на экран названия столбцов:"
   ]
  },
  {
   "cell_type": "code",
   "execution_count": 5,
   "metadata": {
    "id": "oKOTdF_Q_Zct",
    "scrolled": true
   },
   "outputs": [
    {
     "data": {
      "text/plain": [
       "Index(['  userID', 'Track', 'artist', 'genre', '  City  ', 'time', 'Day'], dtype='object')"
      ]
     },
     "execution_count": 5,
     "metadata": {},
     "output_type": "execute_result"
    }
   ],
   "source": [
    "df.columns # перечень названий столбцов таблицы df"
   ]
  },
  {
   "cell_type": "markdown",
   "metadata": {
    "id": "zj5534cv_Zct"
   },
   "source": [
    "Приведите названия в соответствие с хорошим стилем:\n",
    "* несколько слов в названии запишите в «змеином_регистре»,\n",
    "* все символы сделайте строчными,\n",
    "* устраните пробелы.\n",
    "\n",
    "Для этого переименуйте колонки так:\n",
    "* `'  userID'` → `'user_id'`;\n",
    "* `'Track'` → `'track'`;\n",
    "* `'  City  '` → `'city'`;\n",
    "* `'Day'` → `'day'`."
   ]
  },
  {
   "cell_type": "code",
   "execution_count": 6,
   "metadata": {
    "id": "ISlFqs5y_Zct"
   },
   "outputs": [],
   "source": [
    "df = df.rename(columns = {'  userID':'user_id', 'Track':'track', '  City  ':'city', 'Day':'day'}) # переименование столбцов"
   ]
  },
  {
   "cell_type": "markdown",
   "metadata": {
    "id": "1dqbh00J_Zct"
   },
   "source": [
    "Проверьте результат. Для этого ещё раз выведите на экран названия столбцов:"
   ]
  },
  {
   "cell_type": "code",
   "execution_count": 7,
   "metadata": {
    "id": "d4NOAmTW_Zct"
   },
   "outputs": [
    {
     "data": {
      "text/plain": [
       "Index(['user_id', 'track', 'artist', 'genre', 'city', 'time', 'day'], dtype='object')"
      ]
     },
     "execution_count": 7,
     "metadata": {},
     "output_type": "execute_result"
    }
   ],
   "source": [
    "df.columns # проверка результатов - перечень названий столбцов"
   ]
  },
  {
   "cell_type": "markdown",
   "metadata": {
    "id": "5ISfbcfY_Zct"
   },
   "source": [
    "### Пропуски значений\n",
    "Сначала посчитайте, сколько в таблице пропущенных значений. Для этого достаточно двух методов `pandas`:"
   ]
  },
  {
   "cell_type": "code",
   "execution_count": 8,
   "metadata": {
    "id": "RskX29qr_Zct",
    "scrolled": true
   },
   "outputs": [
    {
     "data": {
      "text/plain": [
       "user_id       0\n",
       "track      1231\n",
       "artist     7203\n",
       "genre      1198\n",
       "city          0\n",
       "time          0\n",
       "day           0\n",
       "dtype: int64"
      ]
     },
     "execution_count": 8,
     "metadata": {},
     "output_type": "execute_result"
    }
   ],
   "source": [
    "df.isna().sum() # подсчёт пропусков"
   ]
  },
  {
   "cell_type": "markdown",
   "metadata": {
    "id": "qubhgnlO_Zct"
   },
   "source": [
    "Не все пропущенные значения влияют на исследование. Так в `track` и `artist` пропуски не важны для вашей работы. Достаточно заменить их явными обозначениями.\n",
    "\n",
    "Но пропуски в `genre` могут помешать сравнению музыкальных вкусов в Москве и Санкт-Петербурге. На практике было бы правильно установить причину пропусков и восстановить данные. Такой возможности нет в учебном проекте. Придётся:\n",
    "* заполнить и эти пропуски явными обозначениями,\n",
    "* оценить, насколько они повредят расчётам. "
   ]
  },
  {
   "cell_type": "markdown",
   "metadata": {
    "id": "fSv2laPA_Zct"
   },
   "source": [
    "Замените пропущенные значения в столбцах `track`, `artist` и `genre` на строку `'unknown'`. Для этого создайте список `columns_to_replace`, переберите его элементы циклом `for` и для каждого столбца выполните замену пропущенных значений:"
   ]
  },
  {
   "cell_type": "code",
   "execution_count": 9,
   "metadata": {
    "id": "KplB5qWs_Zct"
   },
   "outputs": [],
   "source": [
    "# перебор названий столбцов в цикле и замена пропущенных значений на 'unknown'\n",
    "columns_to_replace = ['track', 'artist', 'genre']\n",
    "for column in columns_to_replace:\n",
    "    df[column] = df[column].fillna('unknown')"
   ]
  },
  {
   "cell_type": "markdown",
   "metadata": {
    "id": "Ilsm-MZo_Zct"
   },
   "source": [
    "Убедитесь, что в таблице не осталось пропусков. Для этого ещё раз посчитайте пропущенные значения."
   ]
  },
  {
   "cell_type": "code",
   "execution_count": 10,
   "metadata": {
    "id": "Tq4nYRX4_Zct",
    "scrolled": true
   },
   "outputs": [
    {
     "data": {
      "text/plain": [
       "user_id    0\n",
       "track      0\n",
       "artist     0\n",
       "genre      0\n",
       "city       0\n",
       "time       0\n",
       "day        0\n",
       "dtype: int64"
      ]
     },
     "execution_count": 10,
     "metadata": {},
     "output_type": "execute_result"
    }
   ],
   "source": [
    "df.isna().sum() # подсчёт пропусков"
   ]
  },
  {
   "cell_type": "markdown",
   "metadata": {
    "id": "BWKRtBJ3_Zct"
   },
   "source": [
    "### Дубликаты\n",
    "Посчитайте явные дубликаты в таблице одной командой:"
   ]
  },
  {
   "cell_type": "code",
   "execution_count": 11,
   "metadata": {
    "id": "36eES_S0_Zct",
    "scrolled": true
   },
   "outputs": [
    {
     "data": {
      "text/plain": [
       "3826"
      ]
     },
     "execution_count": 11,
     "metadata": {},
     "output_type": "execute_result"
    }
   ],
   "source": [
    "df.duplicated().sum() # подсчёт явных дубликатов"
   ]
  },
  {
   "cell_type": "markdown",
   "metadata": {
    "id": "Ot25h6XR_Zct"
   },
   "source": [
    "Вызовите специальный метод `pandas`, чтобы удалить явные дубликаты:"
   ]
  },
  {
   "cell_type": "code",
   "execution_count": 12,
   "metadata": {
    "id": "exFHq6tt_Zct"
   },
   "outputs": [],
   "source": [
    "df = df.drop_duplicates().reset_index(drop=True) # удаление явных дубликатов (с удалением старых индексов и формированием новых)"
   ]
  },
  {
   "cell_type": "markdown",
   "metadata": {
    "id": "Im2YwBEG_Zct"
   },
   "source": [
    "Ещё раз посчитайте явные дубликаты в таблице — убедитесь, что полностью от них избавились:"
   ]
  },
  {
   "cell_type": "code",
   "execution_count": 13,
   "metadata": {
    "id": "-8PuNWQ0_Zct"
   },
   "outputs": [
    {
     "data": {
      "text/plain": [
       "0"
      ]
     },
     "execution_count": 13,
     "metadata": {},
     "output_type": "execute_result"
    }
   ],
   "source": [
    "df.duplicated().sum() # проверка на отсутствие дубликатов"
   ]
  },
  {
   "cell_type": "markdown",
   "metadata": {
    "id": "QlFBsxAr_Zct"
   },
   "source": [
    "Теперь избавьтесь от неявных дубликатов в колонке `genre`. Например, название одного и того же жанра может быть записано немного по-разному. Такие ошибки тоже повлияют на результат исследования."
   ]
  },
  {
   "cell_type": "markdown",
   "metadata": {
    "id": "eSjWwsOh_Zct"
   },
   "source": [
    "Выведите на экран список уникальных названий жанров, отсортированный в алфавитном порядке. Для этого:\n",
    "* извлеките нужный столбец датафрейма, \n",
    "* примените к нему метод сортировки,\n",
    "* для отсортированного столбца вызовите метод, который вернёт уникальные значения из столбца."
   ]
  },
  {
   "cell_type": "code",
   "execution_count": 14,
   "metadata": {
    "id": "JIUcqzZN_Zct"
   },
   "outputs": [
    {
     "data": {
      "text/plain": [
       "array(['acid', 'acoustic', 'action', 'adult', 'africa', 'afrikaans',\n",
       "       'alternative', 'alternativepunk', 'ambient', 'americana',\n",
       "       'animated', 'anime', 'arabesk', 'arabic', 'arena',\n",
       "       'argentinetango', 'art', 'audiobook', 'author', 'avantgarde',\n",
       "       'axé', 'baile', 'balkan', 'beats', 'bigroom', 'black', 'bluegrass',\n",
       "       'blues', 'bollywood', 'bossa', 'brazilian', 'breakbeat', 'breaks',\n",
       "       'broadway', 'cantautori', 'cantopop', 'canzone', 'caribbean',\n",
       "       'caucasian', 'celtic', 'chamber', 'chanson', 'children', 'chill',\n",
       "       'chinese', 'choral', 'christian', 'christmas', 'classical',\n",
       "       'classicmetal', 'club', 'colombian', 'comedy', 'conjazz',\n",
       "       'contemporary', 'country', 'cuban', 'dance', 'dancehall',\n",
       "       'dancepop', 'dark', 'death', 'deep', 'deutschrock', 'deutschspr',\n",
       "       'dirty', 'disco', 'dnb', 'documentary', 'downbeat', 'downtempo',\n",
       "       'drum', 'dub', 'dubstep', 'eastern', 'easy', 'electronic',\n",
       "       'electropop', 'emo', 'entehno', 'epicmetal', 'estrada', 'ethnic',\n",
       "       'eurofolk', 'european', 'experimental', 'extrememetal', 'fado',\n",
       "       'fairytail', 'film', 'fitness', 'flamenco', 'folk', 'folklore',\n",
       "       'folkmetal', 'folkrock', 'folktronica', 'forró', 'frankreich',\n",
       "       'französisch', 'french', 'funk', 'future', 'gangsta', 'garage',\n",
       "       'german', 'ghazal', 'gitarre', 'glitch', 'gospel', 'gothic',\n",
       "       'grime', 'grunge', 'gypsy', 'handsup', \"hard'n'heavy\", 'hardcore',\n",
       "       'hardstyle', 'hardtechno', 'hip', 'hip-hop', 'hiphop',\n",
       "       'historisch', 'holiday', 'hop', 'horror', 'house', 'hymn', 'idm',\n",
       "       'independent', 'indian', 'indie', 'indipop', 'industrial',\n",
       "       'inspirational', 'instrumental', 'international', 'irish', 'jam',\n",
       "       'japanese', 'jazz', 'jewish', 'jpop', 'jungle', 'k-pop',\n",
       "       'karadeniz', 'karaoke', 'kayokyoku', 'korean', 'laiko', 'latin',\n",
       "       'latino', 'leftfield', 'local', 'lounge', 'loungeelectronic',\n",
       "       'lovers', 'malaysian', 'mandopop', 'marschmusik', 'meditative',\n",
       "       'mediterranean', 'melodic', 'metal', 'metalcore', 'mexican',\n",
       "       'middle', 'minimal', 'miscellaneous', 'modern', 'mood', 'mpb',\n",
       "       'muslim', 'native', 'neoklassik', 'neue', 'new', 'newage',\n",
       "       'newwave', 'nu', 'nujazz', 'numetal', 'oceania', 'old', 'opera',\n",
       "       'orchestral', 'other', 'piano', 'podcasts', 'pop', 'popdance',\n",
       "       'popelectronic', 'popeurodance', 'poprussian', 'post',\n",
       "       'posthardcore', 'postrock', 'power', 'progmetal', 'progressive',\n",
       "       'psychedelic', 'punjabi', 'punk', 'quebecois', 'ragga', 'ram',\n",
       "       'rancheras', 'rap', 'rave', 'reggae', 'reggaeton', 'regional',\n",
       "       'relax', 'religious', 'retro', 'rhythm', 'rnb', 'rnr', 'rock',\n",
       "       'rockabilly', 'rockalternative', 'rockindie', 'rockother',\n",
       "       'romance', 'roots', 'ruspop', 'rusrap', 'rusrock', 'russian',\n",
       "       'salsa', 'samba', 'scenic', 'schlager', 'self', 'sertanejo',\n",
       "       'shanson', 'shoegazing', 'showtunes', 'singer', 'ska', 'skarock',\n",
       "       'slow', 'smooth', 'soft', 'soul', 'soulful', 'sound', 'soundtrack',\n",
       "       'southern', 'specialty', 'speech', 'spiritual', 'sport',\n",
       "       'stonerrock', 'surf', 'swing', 'synthpop', 'synthrock',\n",
       "       'sängerportrait', 'tango', 'tanzorchester', 'taraftar', 'tatar',\n",
       "       'tech', 'techno', 'teen', 'thrash', 'top', 'traditional',\n",
       "       'tradjazz', 'trance', 'tribal', 'trip', 'triphop', 'tropical',\n",
       "       'türk', 'türkçe', 'ukrrock', 'unknown', 'urban', 'uzbek',\n",
       "       'variété', 'vi', 'videogame', 'vocal', 'western', 'world',\n",
       "       'worldbeat', 'ïîï', 'электроника'], dtype=object)"
      ]
     },
     "execution_count": 14,
     "metadata": {},
     "output_type": "execute_result"
    }
   ],
   "source": [
    "# Просмотр уникальных названий жанров\n",
    "df['genre'].sort_values().unique()"
   ]
  },
  {
   "cell_type": "markdown",
   "metadata": {
    "id": "qej-Qmuo_Zct"
   },
   "source": [
    "Просмотрите список и найдите неявные дубликаты названия `hiphop`. Это могут быть названия с ошибками или альтернативные названия того же жанра.\n",
    "\n",
    "Вы увидите следующие неявные дубликаты:\n",
    "* *hip*,\n",
    "* *hop*,\n",
    "* *hip-hop*.\n",
    "\n",
    "Чтобы очистить от них таблицу, напишите функцию `replace_wrong_genres()` с двумя параметрами: \n",
    "* `wrong_genres` — список дубликатов,\n",
    "* `correct_genre` — строка с правильным значением.\n",
    "\n",
    "Функция должна исправить колонку `genre` в таблице `df`: заменить каждое значение из списка `wrong_genres` на значение из `correct_genre`."
   ]
  },
  {
   "cell_type": "code",
   "execution_count": 15,
   "metadata": {
    "id": "ErNDkmns_Zct"
   },
   "outputs": [],
   "source": [
    "def replace_wrong_genres(wrong_genres, correct_genre): # Функция для замены неявных дубликатов\n",
    "    for wrong_genre in wrong_genres:\n",
    "        df['genre'] = df['genre'].replace(wrong_genres, correct_genre)"
   ]
  },
  {
   "cell_type": "markdown",
   "metadata": {
    "id": "aDoBJxbA_Zct"
   },
   "source": [
    "Вызовите `replace_wrong_genres()` и передайте ей такие аргументы, чтобы она устранила неявные дубликаты: вместо `hip`, `hop` и `hip-hop` в таблице должно быть значение `hiphop`:"
   ]
  },
  {
   "cell_type": "code",
   "execution_count": 16,
   "metadata": {
    "id": "YN5i2hpmSo09"
   },
   "outputs": [],
   "source": [
    "#wrong_genres = ['hip', 'hop', 'hip-hop'] # Устранение неявных дубликатов\n",
    "#correct_genre = 'hiphop'\n",
    "#replace_wrong_genres(wrong_genres, correct_genre)\n",
    "replace_wrong_genres(['hip','hop','hip-hop'], 'hiphop')"
   ]
  },
  {
   "cell_type": "markdown",
   "metadata": {
    "id": "zQKF16_RG15m"
   },
   "source": [
    "Проверьте, что заменили неправильные названия:\n",
    "\n",
    "*   hip\n",
    "*   hop\n",
    "*   hip-hop\n",
    "\n",
    "Выведите отсортированный список уникальных значений столбца `genre`:"
   ]
  },
  {
   "cell_type": "code",
   "execution_count": 17,
   "metadata": {
    "id": "wvixALnFG15m"
   },
   "outputs": [
    {
     "data": {
      "text/plain": [
       "array(['acid', 'acoustic', 'action', 'adult', 'africa', 'afrikaans',\n",
       "       'alternative', 'alternativepunk', 'ambient', 'americana',\n",
       "       'animated', 'anime', 'arabesk', 'arabic', 'arena',\n",
       "       'argentinetango', 'art', 'audiobook', 'author', 'avantgarde',\n",
       "       'axé', 'baile', 'balkan', 'beats', 'bigroom', 'black', 'bluegrass',\n",
       "       'blues', 'bollywood', 'bossa', 'brazilian', 'breakbeat', 'breaks',\n",
       "       'broadway', 'cantautori', 'cantopop', 'canzone', 'caribbean',\n",
       "       'caucasian', 'celtic', 'chamber', 'chanson', 'children', 'chill',\n",
       "       'chinese', 'choral', 'christian', 'christmas', 'classical',\n",
       "       'classicmetal', 'club', 'colombian', 'comedy', 'conjazz',\n",
       "       'contemporary', 'country', 'cuban', 'dance', 'dancehall',\n",
       "       'dancepop', 'dark', 'death', 'deep', 'deutschrock', 'deutschspr',\n",
       "       'dirty', 'disco', 'dnb', 'documentary', 'downbeat', 'downtempo',\n",
       "       'drum', 'dub', 'dubstep', 'eastern', 'easy', 'electronic',\n",
       "       'electropop', 'emo', 'entehno', 'epicmetal', 'estrada', 'ethnic',\n",
       "       'eurofolk', 'european', 'experimental', 'extrememetal', 'fado',\n",
       "       'fairytail', 'film', 'fitness', 'flamenco', 'folk', 'folklore',\n",
       "       'folkmetal', 'folkrock', 'folktronica', 'forró', 'frankreich',\n",
       "       'französisch', 'french', 'funk', 'future', 'gangsta', 'garage',\n",
       "       'german', 'ghazal', 'gitarre', 'glitch', 'gospel', 'gothic',\n",
       "       'grime', 'grunge', 'gypsy', 'handsup', \"hard'n'heavy\", 'hardcore',\n",
       "       'hardstyle', 'hardtechno', 'hiphop', 'historisch', 'holiday',\n",
       "       'horror', 'house', 'hymn', 'idm', 'independent', 'indian', 'indie',\n",
       "       'indipop', 'industrial', 'inspirational', 'instrumental',\n",
       "       'international', 'irish', 'jam', 'japanese', 'jazz', 'jewish',\n",
       "       'jpop', 'jungle', 'k-pop', 'karadeniz', 'karaoke', 'kayokyoku',\n",
       "       'korean', 'laiko', 'latin', 'latino', 'leftfield', 'local',\n",
       "       'lounge', 'loungeelectronic', 'lovers', 'malaysian', 'mandopop',\n",
       "       'marschmusik', 'meditative', 'mediterranean', 'melodic', 'metal',\n",
       "       'metalcore', 'mexican', 'middle', 'minimal', 'miscellaneous',\n",
       "       'modern', 'mood', 'mpb', 'muslim', 'native', 'neoklassik', 'neue',\n",
       "       'new', 'newage', 'newwave', 'nu', 'nujazz', 'numetal', 'oceania',\n",
       "       'old', 'opera', 'orchestral', 'other', 'piano', 'podcasts', 'pop',\n",
       "       'popdance', 'popelectronic', 'popeurodance', 'poprussian', 'post',\n",
       "       'posthardcore', 'postrock', 'power', 'progmetal', 'progressive',\n",
       "       'psychedelic', 'punjabi', 'punk', 'quebecois', 'ragga', 'ram',\n",
       "       'rancheras', 'rap', 'rave', 'reggae', 'reggaeton', 'regional',\n",
       "       'relax', 'religious', 'retro', 'rhythm', 'rnb', 'rnr', 'rock',\n",
       "       'rockabilly', 'rockalternative', 'rockindie', 'rockother',\n",
       "       'romance', 'roots', 'ruspop', 'rusrap', 'rusrock', 'russian',\n",
       "       'salsa', 'samba', 'scenic', 'schlager', 'self', 'sertanejo',\n",
       "       'shanson', 'shoegazing', 'showtunes', 'singer', 'ska', 'skarock',\n",
       "       'slow', 'smooth', 'soft', 'soul', 'soulful', 'sound', 'soundtrack',\n",
       "       'southern', 'specialty', 'speech', 'spiritual', 'sport',\n",
       "       'stonerrock', 'surf', 'swing', 'synthpop', 'synthrock',\n",
       "       'sängerportrait', 'tango', 'tanzorchester', 'taraftar', 'tatar',\n",
       "       'tech', 'techno', 'teen', 'thrash', 'top', 'traditional',\n",
       "       'tradjazz', 'trance', 'tribal', 'trip', 'triphop', 'tropical',\n",
       "       'türk', 'türkçe', 'ukrrock', 'unknown', 'urban', 'uzbek',\n",
       "       'variété', 'vi', 'videogame', 'vocal', 'western', 'world',\n",
       "       'worldbeat', 'ïîï', 'электроника'], dtype=object)"
      ]
     },
     "execution_count": 17,
     "metadata": {},
     "output_type": "execute_result"
    }
   ],
   "source": [
    "df['genre'].sort_values().unique() # Проверка на неявные дубликаты"
   ]
  },
  {
   "cell_type": "markdown",
   "metadata": {
    "id": "jz6a9-7HQUDd"
   },
   "source": [
    "**Выводы**\n",
    "\n",
    "Предобработка обнаружила три проблемы в данных:\n",
    "\n",
    "- нарушения в стиле заголовков,\n",
    "- пропущенные значения,\n",
    "- дубликаты — явные и неявные.\n",
    "\n",
    "Вы исправили заголовки, чтобы упростить работу с таблицей. Без дубликатов исследование станет более точным.\n",
    "\n",
    "Пропущенные значения вы заменили на `'unknown'`. Ещё предстоит увидеть, не повредят ли исследованию пропуски в колонке `genre`.\n",
    "\n",
    "Теперь можно перейти к проверке гипотез. "
   ]
  },
  {
   "cell_type": "markdown",
   "metadata": {
    "id": "WttZHXH0SqKk"
   },
   "source": [
    "## Проверка гипотез"
   ]
  },
  {
   "cell_type": "markdown",
   "metadata": {
    "id": "Im936VVi_Zcu"
   },
   "source": [
    "### Сравнение поведения пользователей двух столиц"
   ]
  },
  {
   "cell_type": "markdown",
   "metadata": {
    "id": "nwt_MuaL_Zcu"
   },
   "source": [
    "Первая гипотеза утверждает, что пользователи по-разному слушают музыку в Москве и Санкт-Петербурге. Проверьте это предположение по данным о трёх днях недели — понедельнике, среде и пятнице. Для этого:\n",
    "\n",
    "* Разделите пользователей Москвы и Санкт-Петербурга\n",
    "* Сравните, сколько треков послушала каждая группа пользователей в понедельник, среду и пятницу.\n"
   ]
  },
  {
   "cell_type": "markdown",
   "metadata": {
    "id": "8Dw_YMmT_Zcu"
   },
   "source": [
    "Для тренировки сначала выполните каждый из расчётов по отдельности. \n",
    "\n",
    "Оцените активность пользователей в каждом городе. Сгруппируйте данные по городу и посчитайте прослушивания в каждой группе.\n",
    "\n"
   ]
  },
  {
   "cell_type": "code",
   "execution_count": 18,
   "metadata": {
    "id": "0_Qs96oh_Zcu"
   },
   "outputs": [
    {
     "name": "stdout",
     "output_type": "stream",
     "text": [
      "city\n",
      "Moscow              42741\n",
      "Saint-Petersburg    18512\n",
      "Name: track, dtype: int64\n"
     ]
    }
   ],
   "source": [
    "print(df.groupby('city')['track'].count()) # Подсчёт прослушиваний в каждом городе"
   ]
  },
  {
   "cell_type": "markdown",
   "metadata": {
    "id": "dzli3w8o_Zcu"
   },
   "source": [
    "В Москве прослушиваний больше, чем в Петербурге. Из этого не следует, что московские пользователи чаще слушают музыку. Просто самих пользователей в Москве больше.\n",
    "\n",
    "Теперь сгруппируйте данные по дню недели и подсчитайте прослушивания в понедельник, среду и пятницу. Учтите, что в данных есть информация только о прослушиваниях только за эти дни.\n"
   ]
  },
  {
   "cell_type": "code",
   "execution_count": 19,
   "metadata": {
    "id": "uZMKjiJz_Zcu"
   },
   "outputs": [
    {
     "name": "stdout",
     "output_type": "stream",
     "text": [
      "day\n",
      "Friday       21840\n",
      "Monday       21354\n",
      "Wednesday    18059\n",
      "Name: track, dtype: int64\n"
     ]
    }
   ],
   "source": [
    "print(df.groupby('day')['track'].count()) # Подсчёт прослушиваний в каждый из трёх дней"
   ]
  },
  {
   "cell_type": "markdown",
   "metadata": {
    "id": "cC2tNrlL_Zcu"
   },
   "source": [
    "В среднем пользователи из двух городов менее активны по средам. Но картина может измениться, если рассмотреть каждый город в отдельности."
   ]
  },
  {
   "cell_type": "markdown",
   "metadata": {
    "id": "POzs8bGa_Zcu"
   },
   "source": [
    "Вы видели, как работает группировка по городу и по дням недели. Теперь напишите функцию, которая объединит два эти расчёта.\n",
    "\n",
    "Создайте функцию `number_tracks()`, которая посчитает прослушивания для заданного дня и города. Ей понадобятся два параметра:\n",
    "* день недели,\n",
    "* название города.\n",
    "\n",
    "В функции сохраните в переменную строки исходной таблицы, у которых значение:\n",
    "  * в колонке `day` равно параметру `day`,\n",
    "  * в колонке `city` равно параметру `city`.\n",
    "\n",
    "Для этого примените последовательную фильтрацию с логической индексацией.\n",
    "\n",
    "Затем посчитайте значения в столбце `user_id` получившейся таблицы. Результат сохраните в новую переменную. Верните эту переменную из функции."
   ]
  },
  {
   "cell_type": "code",
   "execution_count": 20,
   "metadata": {
    "id": "Nz3GdQB1_Zcu"
   },
   "outputs": [],
   "source": [
    "# <создание функции number_tracks()>\n",
    "# Объявляется функция с двумя параметрами: day, city.\n",
    "# В переменной track_list сохраняются те строки таблицы df, для которых \n",
    "# значение в столбце 'day' равно параметру day и одновременно значение\n",
    "# в столбце 'city' равно параметру city (используйте последовательную фильтрацию\n",
    "# с помощью логической индексации).\n",
    "# В переменной track_list_count сохраняется число значений столбца 'user_id',\n",
    "# рассчитанное методом count() для таблицы track_list.\n",
    "# Функция возвращает число - значение track_list_count.\n",
    "\n",
    "def number_tracks(day, city):\n",
    "    track_list = df[df['day'] == day]\n",
    "    track_list = track_list[track_list['city'] == city]\n",
    "    track_list_count = track_list['user_id'].count()\n",
    "    return track_list_count\n",
    "    \n",
    "# Функция для подсчёта прослушиваний для конкретного города и дня.\n",
    "# С помощью последовательной фильтрации с логической индексацией она \n",
    "# сначала получит из исходной таблицы строки с нужным днём,\n",
    "# затем из результата отфильтрует строки с нужным городом,\n",
    "# методом count() посчитает количество значений в колонке user_id. \n",
    "# Это количество функция вернёт в качестве результата"
   ]
  },
  {
   "cell_type": "markdown",
   "metadata": {
    "id": "ytf7xFrFJQ2r"
   },
   "source": [
    "Вызовите `number_tracks()` шесть раз, меняя значение параметров — так, чтобы получить данные для каждого города в каждый из трёх дней."
   ]
  },
  {
   "cell_type": "code",
   "execution_count": 21,
   "metadata": {
    "id": "rJcRATNQ_Zcu"
   },
   "outputs": [
    {
     "data": {
      "text/plain": [
       "15740"
      ]
     },
     "execution_count": 21,
     "metadata": {},
     "output_type": "execute_result"
    }
   ],
   "source": [
    "number_tracks('Monday', 'Moscow') # количество прослушиваний в Москве по понедельникам"
   ]
  },
  {
   "cell_type": "code",
   "execution_count": 22,
   "metadata": {
    "id": "hq_ncZ5T_Zcu"
   },
   "outputs": [
    {
     "data": {
      "text/plain": [
       "5614"
      ]
     },
     "execution_count": 22,
     "metadata": {},
     "output_type": "execute_result"
    }
   ],
   "source": [
    "number_tracks('Monday', 'Saint-Petersburg') # количество прослушиваний в Санкт-Петербурге по понедельникам"
   ]
  },
  {
   "cell_type": "code",
   "execution_count": 23,
   "metadata": {
    "id": "_NTy2VPU_Zcu"
   },
   "outputs": [
    {
     "data": {
      "text/plain": [
       "11056"
      ]
     },
     "execution_count": 23,
     "metadata": {},
     "output_type": "execute_result"
    }
   ],
   "source": [
    "number_tracks('Wednesday', 'Moscow') # количество прослушиваний в Москве по средам"
   ]
  },
  {
   "cell_type": "code",
   "execution_count": 24,
   "metadata": {
    "id": "j2y3TAwo_Zcu"
   },
   "outputs": [
    {
     "data": {
      "text/plain": [
       "7003"
      ]
     },
     "execution_count": 24,
     "metadata": {},
     "output_type": "execute_result"
    }
   ],
   "source": [
    "number_tracks('Wednesday', 'Saint-Petersburg') # количество прослушиваний в Санкт-Петербурге по средам"
   ]
  },
  {
   "cell_type": "code",
   "execution_count": 25,
   "metadata": {
    "id": "vYDw5u_K_Zcu"
   },
   "outputs": [
    {
     "data": {
      "text/plain": [
       "15945"
      ]
     },
     "execution_count": 25,
     "metadata": {},
     "output_type": "execute_result"
    }
   ],
   "source": [
    "number_tracks('Friday', 'Moscow') # количество прослушиваний в Москве по пятницам"
   ]
  },
  {
   "cell_type": "code",
   "execution_count": 26,
   "metadata": {
    "id": "8_yzFtW3_Zcu"
   },
   "outputs": [
    {
     "data": {
      "text/plain": [
       "5895"
      ]
     },
     "execution_count": 26,
     "metadata": {},
     "output_type": "execute_result"
    }
   ],
   "source": [
    "number_tracks('Friday', 'Saint-Petersburg') # количество прослушиваний в Санкт-Петербурге по пятницам"
   ]
  },
  {
   "cell_type": "markdown",
   "metadata": {
    "id": "7QXffbO-_Zcu"
   },
   "source": [
    "Создайте c помощью конструктора `pd.DataFrame` таблицу, где\n",
    "* названия колонок — `['city', 'monday', 'wednesday', 'friday']`;\n",
    "* данные — результаты, которые вы получили с помощью `number_tracks`."
   ]
  },
  {
   "cell_type": "code",
   "execution_count": 27,
   "metadata": {
    "id": "APAcLpOr_Zcu",
    "scrolled": true
   },
   "outputs": [
    {
     "name": "stdout",
     "output_type": "stream",
     "text": [
      "               city  monday  wednesday  friday\n",
      "0            Moscow   15740      11056   15945\n",
      "1  Saint-Petersburg    5614       7003    5895\n"
     ]
    }
   ],
   "source": [
    "print(pd.DataFrame(data=[['Moscow', 15740, 11056, 15945], ['Saint-Petersburg', 5614, 7003, 5895]], \n",
    "                   columns=['city', 'monday', 'wednesday', 'friday'])) # Таблица с результатами\n"
   ]
  },
  {
   "cell_type": "markdown",
   "metadata": {
    "id": "-EgPIHYu_Zcu"
   },
   "source": [
    "**Выводы**\n",
    "\n",
    "Данные показывают разницу поведения пользователей:\n",
    "\n",
    "- В Москве пик прослушиваний приходится на понедельник и пятницу, а в среду заметен спад.\n",
    "- В Петербурге, наоборот, больше слушают музыку по средам. Активность в понедельник и пятницу здесь почти в равной мере уступает среде.\n",
    "\n",
    "Значит, данные говорят в пользу первой гипотезы."
   ]
  },
  {
   "cell_type": "markdown",
   "metadata": {
    "id": "atZAxtq4_Zcu"
   },
   "source": [
    "### Музыка в начале и в конце недели"
   ]
  },
  {
   "cell_type": "markdown",
   "metadata": {
    "id": "eXrQqXFH_Zcu"
   },
   "source": [
    "Согласно второй гипотезе, утром в понедельник в Москве преобладают одни жанры, а в Петербурге — другие. Так же и вечером пятницы преобладают разные жанры — в зависимости от города."
   ]
  },
  {
   "cell_type": "markdown",
   "metadata": {
    "id": "S8UcW6Hw_Zcu"
   },
   "source": [
    "Сохраните таблицы с данными в две переменные:\n",
    "* по Москве — в `moscow_general`;\n",
    "* по Санкт-Петербургу — в `spb_general`."
   ]
  },
  {
   "cell_type": "code",
   "execution_count": 28,
   "metadata": {
    "id": "qeaFfM_P_Zcu"
   },
   "outputs": [],
   "source": [
    "# получение таблицы moscow_general из тех строк таблицы df, \n",
    "# для которых значение в столбце 'city' равно 'Moscow'\n",
    "\n",
    "moscow_general = df[df['city'] == 'Moscow']"
   ]
  },
  {
   "cell_type": "code",
   "execution_count": 29,
   "metadata": {
    "id": "ORaVRKto_Zcu"
   },
   "outputs": [],
   "source": [
    "# получение таблицы spb_general из тех строк таблицы df,\n",
    "# для которых значение в столбце 'city' равно 'Saint-Petersburg'\n",
    "\n",
    "spb_general = df[df['city'] == 'Saint-Petersburg']"
   ]
  },
  {
   "cell_type": "markdown",
   "metadata": {
    "id": "MEJV-CX2_Zcu"
   },
   "source": [
    "Создайте функцию `genre_weekday()` с четырьмя параметрами:\n",
    "* таблица (датафрейм) с данными,\n",
    "* день недели,\n",
    "* начальная временная метка в формате 'hh:mm', \n",
    "* последняя временная метка в формате 'hh:mm'.\n",
    "\n",
    "Функция должна вернуть информацию о топ-10 жанров тех треков, которые прослушивали в указанный день, в промежутке между двумя отметками времени."
   ]
  },
  {
   "cell_type": "code",
   "execution_count": 30,
   "metadata": {
    "id": "laJT9BYl_Zcu"
   },
   "outputs": [],
   "source": [
    "# Объявление функции genre_weekday() с параметрами table, day, time1, time2,\n",
    "# которая возвращает информацию о самых популярных жанрах в указанный день в\n",
    "# заданное время:\n",
    "# 1) в переменную genre_df сохраняются те строки переданного датафрейма table, для\n",
    "#    которых одновременно:\n",
    "#    - значение в столбце day равно значению аргумента day\n",
    "#    - значение в столбце time больше значения аргумента time1\n",
    "#    - значение в столбце time меньше значения аргумента time2\n",
    "#    Используйте последовательную фильтрацию с помощью логической индексации.\n",
    "# 2) сгруппировать датафрейм genre_df по столбцу genre, взять один из его\n",
    "#    столбцов и посчитать методом count() количество записей для каждого из\n",
    "#    присутствующих жанров, получившийся Series записать в переменную\n",
    "#    genre_df_count\n",
    "# 3) отсортировать genre_df_count по убыванию встречаемости и сохранить\n",
    "#    в переменную genre_df_sorted\n",
    "# 4) вернуть Series из 10 первых значений genre_df_sorted, это будут топ-10\n",
    "#    популярных жанров (в указанный день, в заданное время)\n",
    "\n",
    "#def genre_weekday(table, day, time1, time2):\n",
    "#    genre_df = table\n",
    "#    genre_df = genre_df[genre_df['day'] == day]\n",
    "#    genre_df = genre_df[genre_df['time'] > time1]\n",
    "#    genre_df = genre_df[genre_df['time'] < time2]\n",
    "#    genre_df_count = genre_df.groupby('genre')['track'].count()\n",
    "#    genre_df_sorted = genre_df_count.sort_values(ascending=False)\n",
    "#    return genre_df_sorted.head(10)\n",
    "\n",
    "def genre_weekday(table, day, time1, time2):\n",
    "    genre_df = table[(table['day'] == day) & (table['time'] > time1) & (table['time'] < time2)]\n",
    "    genre_df_count = genre_df.groupby('genre')['track'].count()\n",
    "    genre_df_sorted = genre_df_count.sort_values(ascending=False)\n",
    "    return genre_df_sorted.head(10)"
   ]
  },
  {
   "cell_type": "markdown",
   "metadata": {
    "id": "la2s2_PF_Zcu"
   },
   "source": [
    "Cравните результаты функции `genre_weekday()` для Москвы и Санкт-Петербурга в понедельник утром (с 7:00 до 11:00) и в пятницу вечером (с 17:00 до 23:00):"
   ]
  },
  {
   "cell_type": "code",
   "execution_count": 31,
   "metadata": {
    "id": "yz7itPUQ_Zcu"
   },
   "outputs": [
    {
     "data": {
      "text/plain": [
       "genre\n",
       "pop            781\n",
       "dance          549\n",
       "electronic     480\n",
       "rock           474\n",
       "hiphop         286\n",
       "ruspop         186\n",
       "world          181\n",
       "rusrap         175\n",
       "alternative    164\n",
       "unknown        161\n",
       "Name: track, dtype: int64"
      ]
     },
     "execution_count": 31,
     "metadata": {},
     "output_type": "execute_result"
    }
   ],
   "source": [
    "# вызов функции для утра понедельника в Москве (вместо df — таблица moscow_general)\n",
    "# объекты, хранящие время, являются строками и сравниваются как строки\n",
    "# пример вызова: genre_weekday(moscow_general, 'Monday', '07:00', '11:00')\n",
    "\n",
    "genre_weekday(moscow_general, 'Monday', '07:00', '11:00')"
   ]
  },
  {
   "cell_type": "code",
   "execution_count": 32,
   "metadata": {
    "id": "kwUcHPdy_Zcu"
   },
   "outputs": [
    {
     "data": {
      "text/plain": [
       "genre\n",
       "pop            218\n",
       "dance          182\n",
       "rock           162\n",
       "electronic     147\n",
       "hiphop          80\n",
       "ruspop          64\n",
       "alternative     58\n",
       "rusrap          55\n",
       "jazz            44\n",
       "classical       40\n",
       "Name: track, dtype: int64"
      ]
     },
     "execution_count": 32,
     "metadata": {},
     "output_type": "execute_result"
    }
   ],
   "source": [
    "# вызов функции для утра понедельника в Петербурге (вместо df — таблица spb_general)\n",
    "\n",
    "genre_weekday(spb_general, 'Monday', '07:00', '11:00')"
   ]
  },
  {
   "cell_type": "code",
   "execution_count": 33,
   "metadata": {
    "id": "EzXVRE1o_Zcu",
    "scrolled": true
   },
   "outputs": [
    {
     "data": {
      "text/plain": [
       "genre\n",
       "pop            713\n",
       "rock           517\n",
       "dance          495\n",
       "electronic     482\n",
       "hiphop         273\n",
       "world          208\n",
       "ruspop         170\n",
       "alternative    163\n",
       "classical      163\n",
       "rusrap         142\n",
       "Name: track, dtype: int64"
      ]
     },
     "execution_count": 33,
     "metadata": {},
     "output_type": "execute_result"
    }
   ],
   "source": [
    "genre_weekday(moscow_general, 'Friday', '17:00', '23:00') # вызов функции для вечера пятницы в Москве"
   ]
  },
  {
   "cell_type": "code",
   "execution_count": 34,
   "metadata": {
    "id": "JZaEKu5v_Zcu",
    "scrolled": true
   },
   "outputs": [
    {
     "data": {
      "text/plain": [
       "genre\n",
       "pop            256\n",
       "electronic     216\n",
       "rock           216\n",
       "dance          210\n",
       "hiphop          97\n",
       "alternative     63\n",
       "jazz            61\n",
       "classical       60\n",
       "rusrap          59\n",
       "world           54\n",
       "Name: track, dtype: int64"
      ]
     },
     "execution_count": 34,
     "metadata": {},
     "output_type": "execute_result"
    }
   ],
   "source": [
    "genre_weekday(spb_general, 'Friday', '17:00', '23:00') # вызов функции для вечера пятницы в Петербурге"
   ]
  },
  {
   "cell_type": "markdown",
   "metadata": {
    "id": "wrCe4MNX_Zcu"
   },
   "source": [
    "**Выводы**\n",
    "\n",
    "Если сравнить топ-10 жанров в понедельник утром, можно сделать такие выводы:\n",
    "\n",
    "1. В Москве и Петербурге слушают похожую музыку. Единственное отличие — в московский рейтинг вошёл жанр “world”, а в петербургский — джаз и классика.\n",
    "\n",
    "2. В Москве пропущенных значений оказалось так много, что значение `'unknown'` заняло десятое место среди самых популярных жанров. Значит, пропущенные значения занимают существенную долю в данных и угрожают достоверности исследования.\n",
    "\n",
    "Вечер пятницы не меняет эту картину. Некоторые жанры поднимаются немного выше, другие спускаются, но в целом топ-10 остаётся тем же самым.\n",
    "\n",
    "Таким образом, вторая гипотеза подтвердилась лишь частично:\n",
    "* Пользователи слушают похожую музыку в начале недели и в конце.\n",
    "* Разница между Москвой и Петербургом не слишком выражена. В Москве чаще слушают русскую популярную музыку, в Петербурге — джаз.\n",
    "\n",
    "Однако пропуски в данных ставят под сомнение этот результат. В Москве их так много, что рейтинг топ-10 мог бы выглядеть иначе, если бы не утерянные  данные о жанрах."
   ]
  },
  {
   "cell_type": "markdown",
   "metadata": {
    "id": "JolODAqr_Zcu"
   },
   "source": [
    "### Жанровые предпочтения в Москве и Петербурге\n",
    "\n",
    "Гипотеза: Петербург — столица рэпа, музыку этого жанра там слушают чаще, чем в Москве.  А Москва — город контрастов, в котором, тем не менее, преобладает поп-музыка."
   ]
  },
  {
   "cell_type": "markdown",
   "metadata": {
    "id": "DlegSvaT_Zcu"
   },
   "source": [
    "Сгруппируйте таблицу `moscow_general` по жанру и посчитайте прослушивания треков каждого жанра методом `count()`. Затем отсортируйте результат в порядке убывания и сохраните его в таблице `moscow_genres`."
   ]
  },
  {
   "cell_type": "code",
   "execution_count": 35,
   "metadata": {
    "id": "r19lIPke_Zcu"
   },
   "outputs": [],
   "source": [
    "# одной строкой: группировка таблицы moscow_general по столбцу 'genre', \n",
    "# подсчёт числа значений 'genre' в этой группировке методом count(), \n",
    "# сортировка получившегося Series в порядке убывания и сохранение в moscow_genres\n",
    "\n",
    "moscow_genres = moscow_general.groupby('genre')['genre'].count()\n",
    "moscow_genres = moscow_genres.sort_values(ascending=False)"
   ]
  },
  {
   "cell_type": "markdown",
   "metadata": {
    "id": "6kMuomxTiIr8"
   },
   "source": [
    "Выведите на экран первые десять строк `moscow_genres`:"
   ]
  },
  {
   "cell_type": "code",
   "execution_count": 36,
   "metadata": {
    "id": "WhCSooF8_Zcv"
   },
   "outputs": [
    {
     "data": {
      "text/plain": [
       "genre\n",
       "pop            5892\n",
       "dance          4435\n",
       "rock           3965\n",
       "electronic     3786\n",
       "hiphop         2096\n",
       "classical      1616\n",
       "world          1432\n",
       "alternative    1379\n",
       "ruspop         1372\n",
       "rusrap         1161\n",
       "Name: genre, dtype: int64"
      ]
     },
     "execution_count": 36,
     "metadata": {},
     "output_type": "execute_result"
    }
   ],
   "source": [
    "moscow_genres.head(10) # просмотр первых 10 строк moscow_genres"
   ]
  },
  {
   "cell_type": "markdown",
   "metadata": {
    "id": "cnPG2vnN_Zcv"
   },
   "source": [
    "Теперь повторите то же и для Петербурга.\n",
    "\n",
    "Сгруппируйте таблицу `spb_general` по жанру. Посчитайте прослушивания треков каждого жанра. Результат отсортируйте в порядке убывания и сохраните в таблице `spb_genres`:\n"
   ]
  },
  {
   "cell_type": "code",
   "execution_count": 37,
   "metadata": {
    "id": "gluLIpE7_Zcv"
   },
   "outputs": [],
   "source": [
    "# одной строкой: группировка таблицы spb_general по столбцу 'genre', \n",
    "# подсчёт числа значений 'genre' в этой группировке методом count(), \n",
    "# сортировка получившегося Series в порядке убывания и сохранение в spb_genres\n",
    "\n",
    "spb_genres = spb_general.groupby('genre')['genre'].count()\n",
    "spb_genres = spb_genres.sort_values(ascending=False)"
   ]
  },
  {
   "cell_type": "markdown",
   "metadata": {
    "id": "5Doha_ODgyQ8"
   },
   "source": [
    "Выведите на экран первые десять строк `spb_genres`:"
   ]
  },
  {
   "cell_type": "code",
   "execution_count": 38,
   "metadata": {
    "id": "uaGJHjVU_Zcv",
    "scrolled": true
   },
   "outputs": [
    {
     "data": {
      "text/plain": [
       "genre\n",
       "pop            2431\n",
       "dance          1932\n",
       "rock           1879\n",
       "electronic     1736\n",
       "hiphop          960\n",
       "alternative     649\n",
       "classical       646\n",
       "rusrap          564\n",
       "ruspop          538\n",
       "world           515\n",
       "Name: genre, dtype: int64"
      ]
     },
     "execution_count": 38,
     "metadata": {},
     "output_type": "execute_result"
    }
   ],
   "source": [
    "spb_genres.head(10) # просмотр первых 10 строк spb_genres"
   ]
  },
  {
   "cell_type": "markdown",
   "metadata": {
    "id": "RY51YJYu_Zcv"
   },
   "source": [
    "**Выводы**"
   ]
  },
  {
   "cell_type": "markdown",
   "metadata": {
    "id": "nVhnJEm__Zcv"
   },
   "source": [
    "Гипотеза частично подтвердилась:\n",
    "* Поп-музыка — самый популярный жанр в Москве, как и предполагала гипотеза. Более того, в топ-10 жанров встречается близкий жанр — русская популярная музыка.\n",
    "* Вопреки ожиданиям, рэп одинаково популярен в Москве и Петербурге. \n"
   ]
  },
  {
   "cell_type": "markdown",
   "metadata": {
    "id": "ykKQ0N65_Zcv"
   },
   "source": [
    "## Итоги исследования"
   ]
  },
  {
   "cell_type": "markdown",
   "metadata": {
    "id": "tjUwbHb3_Zcv"
   },
   "source": [
    "Вы проверили три гипотезы и установили:\n",
    "\n",
    "1. День недели по-разному влияет на активность пользователей в Москве и Петербурге. \n",
    "\n",
    "Первая гипотеза полностью подтвердилась.\n",
    "\n",
    "2. Музыкальные предпочтения не сильно меняются в течение недели — будь то Москва или Петербург. Небольшие различия заметны в начале недели, по понедельникам:\n",
    "* в Москве слушают музыку жанра “world”,\n",
    "* в Петербурге — джаз и классику.\n",
    "\n",
    "Таким образом, вторая гипотеза подтвердилась лишь отчасти. Этот результат мог оказаться иным, если бы не пропуски в данных.\n",
    "\n",
    "3. Во вкусах пользователей Москвы и Петербурга больше общего чем различий. Вопреки ожиданиям, предпочтения жанров в Петербурге напоминают московские.\n",
    "\n",
    "Третья гипотеза не подтвердилась. Если различия в предпочтениях и существуют, на основной массе пользователей они незаметны.\n",
    "\n",
    "**На практике исследования содержат проверки статистических гипотез.**\n",
    "Из данных одного сервиса не всегда можно сделать вывод о всех жителях города.\n",
    "Проверки статистических гипотез покажут, насколько они достоверны, исходя из имеющихся данных. \n",
    "С методами проверок гипотез вы ещё познакомитесь в следующих темах."
   ]
  }
 ],
 "metadata": {
  "ExecuteTimeLog": [
   {
    "duration": 643,
    "start_time": "2021-12-18T18:10:36.863Z"
   },
   {
    "duration": 3,
    "start_time": "2021-12-18T18:10:41.319Z"
   },
   {
    "duration": 392,
    "start_time": "2021-12-18T18:16:31.871Z"
   },
   {
    "duration": 634,
    "start_time": "2021-12-18T18:38:43.188Z"
   },
   {
    "duration": 133,
    "start_time": "2021-12-18T18:38:45.013Z"
   },
   {
    "duration": 8,
    "start_time": "2021-12-18T18:38:46.501Z"
   },
   {
    "duration": 12,
    "start_time": "2021-12-18T18:39:18.686Z"
   },
   {
    "duration": 26,
    "start_time": "2021-12-18T18:40:59.260Z"
   },
   {
    "duration": 351,
    "start_time": "2021-12-18T18:46:16.944Z"
   },
   {
    "duration": 344,
    "start_time": "2021-12-18T18:46:29.072Z"
   },
   {
    "duration": 352,
    "start_time": "2021-12-18T18:46:59.175Z"
   },
   {
    "duration": 387,
    "start_time": "2021-12-18T18:47:07.766Z"
   },
   {
    "duration": 4,
    "start_time": "2021-12-18T18:47:22.181Z"
   },
   {
    "duration": 1359,
    "start_time": "2021-12-18T18:50:34.731Z"
   },
   {
    "duration": 31,
    "start_time": "2021-12-18T18:56:22.952Z"
   },
   {
    "duration": 332,
    "start_time": "2021-12-18T18:57:10.407Z"
   },
   {
    "duration": 343,
    "start_time": "2021-12-18T18:57:17.278Z"
   },
   {
    "duration": 4,
    "start_time": "2021-12-18T18:57:29.734Z"
   },
   {
    "duration": 27,
    "start_time": "2021-12-18T18:57:58.934Z"
   },
   {
    "duration": 4,
    "start_time": "2021-12-18T18:58:03.382Z"
   },
   {
    "duration": 15,
    "start_time": "2021-12-18T18:58:36.455Z"
   },
   {
    "duration": 4,
    "start_time": "2021-12-18T18:58:44.455Z"
   },
   {
    "duration": 22,
    "start_time": "2021-12-18T19:01:43.589Z"
   },
   {
    "duration": 11,
    "start_time": "2021-12-18T19:07:08.365Z"
   },
   {
    "duration": 346,
    "start_time": "2021-12-18T19:16:31.576Z"
   },
   {
    "duration": 335,
    "start_time": "2021-12-18T19:16:41.372Z"
   },
   {
    "duration": 21,
    "start_time": "2021-12-18T19:18:08.809Z"
   },
   {
    "duration": 21,
    "start_time": "2021-12-18T19:18:12.601Z"
   },
   {
    "duration": 28,
    "start_time": "2021-12-18T19:18:49.695Z"
   },
   {
    "duration": 23,
    "start_time": "2021-12-18T19:22:43.626Z"
   },
   {
    "duration": 642,
    "start_time": "2021-12-18T19:26:08.469Z"
   },
   {
    "duration": 58,
    "start_time": "2021-12-18T19:26:25.744Z"
   },
   {
    "duration": 78,
    "start_time": "2021-12-18T19:27:32.804Z"
   },
   {
    "duration": 334,
    "start_time": "2021-12-18T19:28:19.606Z"
   },
   {
    "duration": 57,
    "start_time": "2021-12-18T19:28:32.275Z"
   },
   {
    "duration": 747,
    "start_time": "2021-12-18T19:28:41.139Z"
   },
   {
    "duration": 64,
    "start_time": "2021-12-18T19:28:48.259Z"
   },
   {
    "duration": 72,
    "start_time": "2021-12-18T19:30:15.307Z"
   },
   {
    "duration": 55,
    "start_time": "2021-12-18T19:30:24.066Z"
   },
   {
    "duration": 129,
    "start_time": "2021-12-18T19:32:19.916Z"
   },
   {
    "duration": 49,
    "start_time": "2021-12-18T19:32:24.003Z"
   },
   {
    "duration": 8,
    "start_time": "2021-12-18T19:34:06.427Z"
   },
   {
    "duration": 1262,
    "start_time": "2021-12-18T19:35:25.307Z"
   },
   {
    "duration": 357,
    "start_time": "2021-12-18T19:36:25.792Z"
   },
   {
    "duration": 339,
    "start_time": "2021-12-18T19:36:31.777Z"
   },
   {
    "duration": 40,
    "start_time": "2021-12-18T19:36:40.303Z"
   },
   {
    "duration": 11,
    "start_time": "2021-12-18T19:45:01.699Z"
   },
   {
    "duration": 3,
    "start_time": "2021-12-18T19:56:28.432Z"
   },
   {
    "duration": 674,
    "start_time": "2021-12-18T19:58:13.771Z"
   },
   {
    "duration": 3,
    "start_time": "2021-12-18T19:59:19.131Z"
   },
   {
    "duration": 706,
    "start_time": "2021-12-18T19:59:20.426Z"
   },
   {
    "duration": 3,
    "start_time": "2021-12-18T20:05:03.276Z"
   },
   {
    "duration": 15,
    "start_time": "2021-12-18T20:05:19.599Z"
   },
   {
    "duration": 10,
    "start_time": "2021-12-18T20:06:01.978Z"
   },
   {
    "duration": 309,
    "start_time": "2021-12-19T08:39:33.591Z"
   },
   {
    "duration": 272,
    "start_time": "2021-12-19T08:40:01.160Z"
   },
   {
    "duration": 803,
    "start_time": "2021-12-19T08:40:31.043Z"
   },
   {
    "duration": 195,
    "start_time": "2021-12-19T08:40:31.849Z"
   },
   {
    "duration": 12,
    "start_time": "2021-12-19T08:40:32.048Z"
   },
   {
    "duration": 35,
    "start_time": "2021-12-19T08:40:32.069Z"
   },
   {
    "duration": 13,
    "start_time": "2021-12-19T08:40:32.107Z"
   },
   {
    "duration": 52,
    "start_time": "2021-12-19T08:40:32.123Z"
   },
   {
    "duration": 13,
    "start_time": "2021-12-19T08:40:32.178Z"
   },
   {
    "duration": 33,
    "start_time": "2021-12-19T08:40:32.196Z"
   },
   {
    "duration": 53,
    "start_time": "2021-12-19T08:40:32.233Z"
   },
   {
    "duration": 32,
    "start_time": "2021-12-19T08:40:32.289Z"
   },
   {
    "duration": 122,
    "start_time": "2021-12-19T08:40:32.323Z"
   },
   {
    "duration": 119,
    "start_time": "2021-12-19T08:40:32.448Z"
   },
   {
    "duration": 82,
    "start_time": "2021-12-19T08:40:32.569Z"
   },
   {
    "duration": 370,
    "start_time": "2021-12-19T08:40:32.654Z"
   },
   {
    "duration": 545,
    "start_time": "2021-12-19T08:40:32.482Z"
   },
   {
    "duration": 538,
    "start_time": "2021-12-19T08:40:32.490Z"
   },
   {
    "duration": 530,
    "start_time": "2021-12-19T08:40:32.500Z"
   },
   {
    "duration": 527,
    "start_time": "2021-12-19T08:40:32.504Z"
   },
   {
    "duration": 524,
    "start_time": "2021-12-19T08:40:32.509Z"
   },
   {
    "duration": 521,
    "start_time": "2021-12-19T08:40:32.513Z"
   },
   {
    "duration": 520,
    "start_time": "2021-12-19T08:40:32.516Z"
   },
   {
    "duration": 517,
    "start_time": "2021-12-19T08:40:32.520Z"
   },
   {
    "duration": 513,
    "start_time": "2021-12-19T08:40:32.525Z"
   },
   {
    "duration": 512,
    "start_time": "2021-12-19T08:40:32.528Z"
   },
   {
    "duration": 509,
    "start_time": "2021-12-19T08:40:32.532Z"
   },
   {
    "duration": 507,
    "start_time": "2021-12-19T08:40:32.535Z"
   },
   {
    "duration": 505,
    "start_time": "2021-12-19T08:40:32.538Z"
   },
   {
    "duration": 503,
    "start_time": "2021-12-19T08:40:32.542Z"
   },
   {
    "duration": 500,
    "start_time": "2021-12-19T08:40:32.546Z"
   },
   {
    "duration": 498,
    "start_time": "2021-12-19T08:40:32.549Z"
   },
   {
    "duration": 495,
    "start_time": "2021-12-19T08:40:32.553Z"
   },
   {
    "duration": 492,
    "start_time": "2021-12-19T08:40:32.558Z"
   },
   {
    "duration": 490,
    "start_time": "2021-12-19T08:40:32.561Z"
   },
   {
    "duration": 487,
    "start_time": "2021-12-19T08:40:32.565Z"
   },
   {
    "duration": 486,
    "start_time": "2021-12-19T08:40:32.568Z"
   },
   {
    "duration": 483,
    "start_time": "2021-12-19T08:40:32.572Z"
   },
   {
    "duration": 479,
    "start_time": "2021-12-19T08:40:32.577Z"
   },
   {
    "duration": 478,
    "start_time": "2021-12-19T08:40:32.580Z"
   },
   {
    "duration": 4,
    "start_time": "2021-12-19T08:40:43.238Z"
   },
   {
    "duration": 281,
    "start_time": "2021-12-19T08:40:48.022Z"
   },
   {
    "duration": 4,
    "start_time": "2021-12-19T08:40:54.525Z"
   },
   {
    "duration": 194,
    "start_time": "2021-12-19T08:40:56.086Z"
   },
   {
    "duration": 10,
    "start_time": "2021-12-19T08:40:57.230Z"
   },
   {
    "duration": 36,
    "start_time": "2021-12-19T08:40:59.790Z"
   },
   {
    "duration": 5,
    "start_time": "2021-12-19T08:41:02.253Z"
   },
   {
    "duration": 21,
    "start_time": "2021-12-19T08:41:06.149Z"
   },
   {
    "duration": 6,
    "start_time": "2021-12-19T08:41:07.278Z"
   },
   {
    "duration": 33,
    "start_time": "2021-12-19T08:41:09.558Z"
   },
   {
    "duration": 30,
    "start_time": "2021-12-19T08:41:10.989Z"
   },
   {
    "duration": 28,
    "start_time": "2021-12-19T08:41:14.198Z"
   },
   {
    "duration": 32,
    "start_time": "2021-12-19T08:41:15.181Z"
   },
   {
    "duration": 86,
    "start_time": "2021-12-19T08:41:16.694Z"
   },
   {
    "duration": 92,
    "start_time": "2021-12-19T08:41:17.900Z"
   },
   {
    "duration": 80,
    "start_time": "2021-12-19T08:41:18.934Z"
   },
   {
    "duration": 4,
    "start_time": "2021-12-19T08:41:21.045Z"
   },
   {
    "duration": 22,
    "start_time": "2021-12-19T08:41:22.861Z"
   },
   {
    "duration": 306,
    "start_time": "2021-12-19T08:41:24.581Z"
   },
   {
    "duration": 21,
    "start_time": "2021-12-19T08:41:37.333Z"
   },
   {
    "duration": 281,
    "start_time": "2021-12-19T08:41:41.932Z"
   },
   {
    "duration": 23,
    "start_time": "2021-12-19T08:42:01.493Z"
   },
   {
    "duration": 276,
    "start_time": "2021-12-19T08:42:03.829Z"
   },
   {
    "duration": 264,
    "start_time": "2021-12-19T08:42:09.653Z"
   },
   {
    "duration": 79,
    "start_time": "2021-12-19T08:42:12.645Z"
   },
   {
    "duration": 271,
    "start_time": "2021-12-19T08:42:18.373Z"
   },
   {
    "duration": 4,
    "start_time": "2021-12-19T08:42:30.948Z"
   },
   {
    "duration": 201,
    "start_time": "2021-12-19T08:42:32.396Z"
   },
   {
    "duration": 10,
    "start_time": "2021-12-19T08:42:33.652Z"
   },
   {
    "duration": 6,
    "start_time": "2021-12-19T08:42:38.580Z"
   },
   {
    "duration": 18,
    "start_time": "2021-12-19T08:42:43.372Z"
   },
   {
    "duration": 5,
    "start_time": "2021-12-19T08:42:44.803Z"
   },
   {
    "duration": 32,
    "start_time": "2021-12-19T08:42:47.429Z"
   },
   {
    "duration": 31,
    "start_time": "2021-12-19T08:42:52.340Z"
   },
   {
    "duration": 32,
    "start_time": "2021-12-19T08:42:54.851Z"
   },
   {
    "duration": 27,
    "start_time": "2021-12-19T08:44:24.116Z"
   },
   {
    "duration": 31,
    "start_time": "2021-12-19T08:44:25.931Z"
   },
   {
    "duration": 92,
    "start_time": "2021-12-19T08:44:30.162Z"
   },
   {
    "duration": 97,
    "start_time": "2021-12-19T08:44:35.465Z"
   },
   {
    "duration": 81,
    "start_time": "2021-12-19T08:44:36.626Z"
   },
   {
    "duration": 15,
    "start_time": "2021-12-19T08:44:39.618Z"
   },
   {
    "duration": 4,
    "start_time": "2021-12-19T08:44:42.618Z"
   },
   {
    "duration": 23,
    "start_time": "2021-12-19T08:44:43.946Z"
   },
   {
    "duration": 15,
    "start_time": "2021-12-19T08:44:45.794Z"
   },
   {
    "duration": 12,
    "start_time": "2021-12-19T08:44:48.930Z"
   },
   {
    "duration": 271,
    "start_time": "2021-12-19T08:51:45.075Z"
   },
   {
    "duration": 4,
    "start_time": "2021-12-19T08:52:06.044Z"
   },
   {
    "duration": 266,
    "start_time": "2021-12-19T08:52:49.712Z"
   },
   {
    "duration": 4,
    "start_time": "2021-12-19T08:53:32.928Z"
   },
   {
    "duration": 12,
    "start_time": "2021-12-19T08:53:39.994Z"
   },
   {
    "duration": 13,
    "start_time": "2021-12-19T08:53:50.257Z"
   },
   {
    "duration": 22,
    "start_time": "2021-12-19T08:55:19.768Z"
   },
   {
    "duration": 40,
    "start_time": "2021-12-19T08:55:23.863Z"
   },
   {
    "duration": 12,
    "start_time": "2021-12-19T08:56:14.671Z"
   },
   {
    "duration": 18,
    "start_time": "2021-12-19T08:57:43.741Z"
   },
   {
    "duration": 16,
    "start_time": "2021-12-19T08:58:55.244Z"
   },
   {
    "duration": 19,
    "start_time": "2021-12-19T08:59:02.684Z"
   },
   {
    "duration": 63,
    "start_time": "2021-12-19T08:59:31.892Z"
   },
   {
    "duration": 16,
    "start_time": "2021-12-19T09:00:09.429Z"
   },
   {
    "duration": 15,
    "start_time": "2021-12-19T09:00:14.874Z"
   },
   {
    "duration": 14,
    "start_time": "2021-12-19T09:01:26.633Z"
   },
   {
    "duration": 15,
    "start_time": "2021-12-19T09:01:46.074Z"
   },
   {
    "duration": 14,
    "start_time": "2021-12-19T09:08:52.611Z"
   },
   {
    "duration": 16,
    "start_time": "2021-12-19T09:09:11.770Z"
   },
   {
    "duration": 15,
    "start_time": "2021-12-19T09:09:14.306Z"
   },
   {
    "duration": 5,
    "start_time": "2021-12-19T09:27:07.034Z"
   },
   {
    "duration": 3,
    "start_time": "2021-12-19T09:27:08.855Z"
   },
   {
    "duration": 321,
    "start_time": "2021-12-19T09:27:36.631Z"
   },
   {
    "duration": 5,
    "start_time": "2021-12-19T09:30:27.710Z"
   },
   {
    "duration": 398,
    "start_time": "2021-12-19T09:30:29.021Z"
   },
   {
    "duration": 5,
    "start_time": "2021-12-19T09:31:09.829Z"
   },
   {
    "duration": 266,
    "start_time": "2021-12-19T09:31:11.268Z"
   },
   {
    "duration": 249,
    "start_time": "2021-12-19T09:31:44.595Z"
   },
   {
    "duration": 82,
    "start_time": "2021-12-19T09:36:40.999Z"
   },
   {
    "duration": 85,
    "start_time": "2021-12-19T09:37:21.127Z"
   },
   {
    "duration": 264,
    "start_time": "2021-12-19T09:37:47.008Z"
   },
   {
    "duration": 587,
    "start_time": "2021-12-19T09:38:10.270Z"
   },
   {
    "duration": 561,
    "start_time": "2021-12-19T09:38:59.726Z"
   },
   {
    "duration": 271,
    "start_time": "2021-12-19T09:39:12.894Z"
   },
   {
    "duration": 79,
    "start_time": "2021-12-19T09:40:27.757Z"
   },
   {
    "duration": 6,
    "start_time": "2021-12-19T09:41:05.172Z"
   },
   {
    "duration": 4,
    "start_time": "2021-12-19T09:41:08.171Z"
   },
   {
    "duration": 250,
    "start_time": "2021-12-19T09:41:09.411Z"
   },
   {
    "duration": 92,
    "start_time": "2021-12-19T09:45:56.814Z"
   },
   {
    "duration": 5,
    "start_time": "2021-12-19T09:46:06.672Z"
   },
   {
    "duration": 293,
    "start_time": "2021-12-19T09:46:07.928Z"
   },
   {
    "duration": 249,
    "start_time": "2021-12-19T09:46:13.720Z"
   },
   {
    "duration": 18,
    "start_time": "2021-12-19T09:46:19.206Z"
   },
   {
    "duration": 17,
    "start_time": "2021-12-19T09:48:28.206Z"
   },
   {
    "duration": 5,
    "start_time": "2021-12-19T09:49:30.334Z"
   },
   {
    "duration": 273,
    "start_time": "2021-12-19T09:49:31.780Z"
   },
   {
    "duration": 527,
    "start_time": "2021-12-19T09:49:40.356Z"
   },
   {
    "duration": 84,
    "start_time": "2021-12-19T09:49:48.012Z"
   },
   {
    "duration": 5,
    "start_time": "2021-12-19T09:49:58.932Z"
   },
   {
    "duration": 664,
    "start_time": "2021-12-19T09:50:00.948Z"
   },
   {
    "duration": 133,
    "start_time": "2021-12-19T09:53:43.174Z"
   },
   {
    "duration": 5,
    "start_time": "2021-12-19T09:53:55.083Z"
   },
   {
    "duration": 32,
    "start_time": "2021-12-19T09:53:56.903Z"
   },
   {
    "duration": 30,
    "start_time": "2021-12-19T09:54:30.968Z"
   },
   {
    "duration": 32,
    "start_time": "2021-12-19T09:54:44.280Z"
   },
   {
    "duration": 4,
    "start_time": "2021-12-19T09:56:27.455Z"
   },
   {
    "duration": 793,
    "start_time": "2021-12-19T09:56:29.086Z"
   },
   {
    "duration": 4,
    "start_time": "2021-12-19T10:17:15.678Z"
   },
   {
    "duration": 460,
    "start_time": "2021-12-19T10:17:31.607Z"
   },
   {
    "duration": 458,
    "start_time": "2021-12-19T10:17:31.611Z"
   },
   {
    "duration": 455,
    "start_time": "2021-12-19T10:17:31.615Z"
   },
   {
    "duration": 5,
    "start_time": "2021-12-19T10:17:39.901Z"
   },
   {
    "duration": 15,
    "start_time": "2021-12-19T10:17:43.372Z"
   },
   {
    "duration": 4,
    "start_time": "2021-12-19T10:17:46.341Z"
   },
   {
    "duration": 6982,
    "start_time": "2021-12-19T10:17:49.172Z"
   },
   {
    "duration": 8044,
    "start_time": "2021-12-19T10:17:59.141Z"
   },
   {
    "duration": 5,
    "start_time": "2021-12-19T10:18:25.805Z"
   },
   {
    "duration": 543,
    "start_time": "2021-12-19T10:18:27.940Z"
   },
   {
    "duration": 5,
    "start_time": "2021-12-19T10:18:57.941Z"
   },
   {
    "duration": 246,
    "start_time": "2021-12-19T10:18:59.555Z"
   },
   {
    "duration": 18,
    "start_time": "2021-12-19T10:19:04.628Z"
   },
   {
    "duration": 5,
    "start_time": "2021-12-19T12:40:56.364Z"
   },
   {
    "duration": 341,
    "start_time": "2021-12-19T12:40:57.851Z"
   },
   {
    "duration": 32,
    "start_time": "2021-12-19T12:41:08.224Z"
   },
   {
    "duration": 5,
    "start_time": "2021-12-19T12:41:16.419Z"
   },
   {
    "duration": 33,
    "start_time": "2021-12-19T12:41:18.539Z"
   },
   {
    "duration": 295,
    "start_time": "2021-12-19T12:43:47.905Z"
   },
   {
    "duration": 254,
    "start_time": "2021-12-19T12:44:18.144Z"
   },
   {
    "duration": 34,
    "start_time": "2021-12-19T12:44:39.915Z"
   },
   {
    "duration": 11,
    "start_time": "2021-12-19T16:00:52.394Z"
   },
   {
    "duration": 287,
    "start_time": "2021-12-19T16:01:55.834Z"
   },
   {
    "duration": 34,
    "start_time": "2021-12-19T16:02:05.675Z"
   },
   {
    "duration": 20,
    "start_time": "2021-12-19T16:02:15.178Z"
   },
   {
    "duration": 29,
    "start_time": "2021-12-19T16:02:45.265Z"
   },
   {
    "duration": 26,
    "start_time": "2021-12-19T16:03:07.337Z"
   },
   {
    "duration": 5,
    "start_time": "2021-12-19T16:12:07.281Z"
   },
   {
    "duration": 636,
    "start_time": "2021-12-19T16:12:41.033Z"
   },
   {
    "duration": 260,
    "start_time": "2021-12-19T16:18:25.892Z"
   },
   {
    "duration": 629,
    "start_time": "2021-12-19T16:18:35.322Z"
   },
   {
    "duration": 274,
    "start_time": "2021-12-19T16:19:56.653Z"
   },
   {
    "duration": 18,
    "start_time": "2021-12-19T16:20:08.042Z"
   },
   {
    "duration": 15,
    "start_time": "2021-12-19T16:20:11.506Z"
   },
   {
    "duration": 22,
    "start_time": "2021-12-19T16:20:25.259Z"
   },
   {
    "duration": 36,
    "start_time": "2021-12-19T16:21:31.338Z"
   },
   {
    "duration": 34,
    "start_time": "2021-12-19T16:21:58.552Z"
   },
   {
    "duration": 33,
    "start_time": "2021-12-19T16:22:13.688Z"
   },
   {
    "duration": 34,
    "start_time": "2021-12-19T16:22:23.400Z"
   },
   {
    "duration": 270,
    "start_time": "2021-12-19T16:24:35.408Z"
   },
   {
    "duration": 29,
    "start_time": "2021-12-19T16:24:48.411Z"
   },
   {
    "duration": 13,
    "start_time": "2021-12-19T16:27:10.415Z"
   },
   {
    "duration": 527,
    "start_time": "2021-12-19T16:27:15.759Z"
   },
   {
    "duration": 14,
    "start_time": "2021-12-19T16:27:39.816Z"
   },
   {
    "duration": 439,
    "start_time": "2021-12-19T16:28:00.127Z"
   },
   {
    "duration": 265,
    "start_time": "2021-12-19T16:28:28.766Z"
   },
   {
    "duration": 13,
    "start_time": "2021-12-19T16:28:50.678Z"
   },
   {
    "duration": 276,
    "start_time": "2021-12-19T16:29:28.582Z"
   },
   {
    "duration": 321,
    "start_time": "2021-12-19T16:29:43.935Z"
   },
   {
    "duration": 22,
    "start_time": "2021-12-19T16:30:26.373Z"
   },
   {
    "duration": 5,
    "start_time": "2021-12-19T16:30:47.469Z"
   },
   {
    "duration": 25,
    "start_time": "2021-12-19T16:31:12.356Z"
   },
   {
    "duration": 5,
    "start_time": "2021-12-19T16:31:14.372Z"
   },
   {
    "duration": 22,
    "start_time": "2021-12-19T16:31:16.459Z"
   },
   {
    "duration": 21,
    "start_time": "2021-12-19T16:31:19.187Z"
   },
   {
    "duration": 21,
    "start_time": "2021-12-19T16:31:21.563Z"
   },
   {
    "duration": 7,
    "start_time": "2021-12-19T16:32:01.115Z"
   },
   {
    "duration": 24,
    "start_time": "2021-12-19T16:32:03.458Z"
   },
   {
    "duration": 20,
    "start_time": "2021-12-19T16:32:03.994Z"
   },
   {
    "duration": 20,
    "start_time": "2021-12-19T16:32:04.483Z"
   },
   {
    "duration": 22,
    "start_time": "2021-12-19T16:32:18.546Z"
   },
   {
    "duration": 22,
    "start_time": "2021-12-19T16:32:29.235Z"
   },
   {
    "duration": 24,
    "start_time": "2021-12-19T16:32:47.738Z"
   },
   {
    "duration": 21,
    "start_time": "2021-12-19T16:32:56.250Z"
   },
   {
    "duration": 382,
    "start_time": "2021-12-19T16:37:17.510Z"
   },
   {
    "duration": 306,
    "start_time": "2021-12-19T16:39:27.965Z"
   },
   {
    "duration": 289,
    "start_time": "2021-12-19T16:41:34.549Z"
   },
   {
    "duration": 86,
    "start_time": "2021-12-19T16:44:39.105Z"
   },
   {
    "duration": 97,
    "start_time": "2021-12-19T16:44:44.136Z"
   },
   {
    "duration": 89,
    "start_time": "2021-12-19T16:45:08.320Z"
   },
   {
    "duration": 107,
    "start_time": "2021-12-19T16:45:55.039Z"
   },
   {
    "duration": 92,
    "start_time": "2021-12-19T16:46:04.591Z"
   },
   {
    "duration": 95,
    "start_time": "2021-12-19T16:47:00.247Z"
   },
   {
    "duration": 213,
    "start_time": "2021-12-19T16:47:22.118Z"
   },
   {
    "duration": 103,
    "start_time": "2021-12-19T16:48:03.301Z"
   },
   {
    "duration": 266,
    "start_time": "2021-12-19T16:48:17.310Z"
   },
   {
    "duration": 13,
    "start_time": "2021-12-19T16:48:24.870Z"
   },
   {
    "duration": 12,
    "start_time": "2021-12-19T16:48:43.686Z"
   },
   {
    "duration": 8,
    "start_time": "2021-12-19T16:48:57.195Z"
   },
   {
    "duration": 16,
    "start_time": "2021-12-19T19:19:01.911Z"
   },
   {
    "duration": 27,
    "start_time": "2021-12-19T19:19:28.111Z"
   },
   {
    "duration": 17,
    "start_time": "2021-12-19T19:19:39.541Z"
   },
   {
    "duration": 18,
    "start_time": "2021-12-19T19:20:20.941Z"
   },
   {
    "duration": 5,
    "start_time": "2021-12-19T19:31:04.291Z"
   },
   {
    "duration": 31,
    "start_time": "2021-12-19T19:32:27.483Z"
   },
   {
    "duration": 42,
    "start_time": "2021-12-19T19:33:40.426Z"
   },
   {
    "duration": 29,
    "start_time": "2021-12-19T19:35:00.464Z"
   },
   {
    "duration": 33,
    "start_time": "2021-12-19T19:35:42.215Z"
   },
   {
    "duration": 29,
    "start_time": "2021-12-19T19:35:49.183Z"
   },
   {
    "duration": 31,
    "start_time": "2021-12-19T19:35:58.567Z"
   },
   {
    "duration": 34,
    "start_time": "2021-12-19T19:36:05.462Z"
   },
   {
    "duration": 27,
    "start_time": "2021-12-19T19:37:07.725Z"
   },
   {
    "duration": 28,
    "start_time": "2021-12-19T19:37:54.836Z"
   },
   {
    "duration": 8,
    "start_time": "2021-12-19T19:57:06.037Z"
   },
   {
    "duration": 597,
    "start_time": "2021-12-19T19:57:09.524Z"
   },
   {
    "duration": 6,
    "start_time": "2021-12-19T19:59:44.266Z"
   },
   {
    "duration": 540,
    "start_time": "2021-12-19T19:59:47.946Z"
   },
   {
    "duration": 7,
    "start_time": "2021-12-19T19:59:58.403Z"
   },
   {
    "duration": 33,
    "start_time": "2021-12-19T20:00:00.105Z"
   },
   {
    "duration": 6,
    "start_time": "2021-12-19T20:01:59.080Z"
   },
   {
    "duration": 33,
    "start_time": "2021-12-19T20:02:00.623Z"
   },
   {
    "duration": 6,
    "start_time": "2021-12-19T20:02:13.288Z"
   },
   {
    "duration": 29,
    "start_time": "2021-12-19T20:02:14.399Z"
   },
   {
    "duration": 28,
    "start_time": "2021-12-19T20:06:24.644Z"
   },
   {
    "duration": 27,
    "start_time": "2021-12-19T20:06:25.403Z"
   },
   {
    "duration": 28,
    "start_time": "2021-12-19T20:06:36.524Z"
   },
   {
    "duration": 6,
    "start_time": "2021-12-19T20:09:36.401Z"
   },
   {
    "duration": 26,
    "start_time": "2021-12-19T20:09:37.728Z"
   },
   {
    "duration": 30,
    "start_time": "2021-12-19T20:09:39.169Z"
   },
   {
    "duration": 27,
    "start_time": "2021-12-19T20:09:39.969Z"
   },
   {
    "duration": 22,
    "start_time": "2021-12-19T20:09:40.545Z"
   },
   {
    "duration": 6,
    "start_time": "2021-12-19T20:09:51.289Z"
   },
   {
    "duration": 41,
    "start_time": "2021-12-19T20:09:52.458Z"
   },
   {
    "duration": 37,
    "start_time": "2021-12-19T20:09:53.038Z"
   },
   {
    "duration": 31,
    "start_time": "2021-12-19T20:09:53.600Z"
   },
   {
    "duration": 28,
    "start_time": "2021-12-19T20:09:54.128Z"
   },
   {
    "duration": 7,
    "start_time": "2021-12-19T20:21:46.839Z"
   },
   {
    "duration": 558,
    "start_time": "2021-12-19T20:21:49.230Z"
   },
   {
    "duration": 6,
    "start_time": "2021-12-19T20:23:13.453Z"
   },
   {
    "duration": 33,
    "start_time": "2021-12-19T20:23:22.148Z"
   },
   {
    "duration": 27,
    "start_time": "2021-12-19T20:23:27.597Z"
   },
   {
    "duration": 29,
    "start_time": "2021-12-19T20:23:31.820Z"
   },
   {
    "duration": 39,
    "start_time": "2021-12-19T20:26:00.196Z"
   },
   {
    "duration": 32,
    "start_time": "2021-12-19T20:26:13.892Z"
   },
   {
    "duration": 30,
    "start_time": "2021-12-19T20:26:21.900Z"
   },
   {
    "duration": 32,
    "start_time": "2021-12-19T20:26:28.395Z"
   },
   {
    "duration": 22,
    "start_time": "2021-12-19T20:27:43.290Z"
   },
   {
    "duration": 15,
    "start_time": "2021-12-19T20:27:52.018Z"
   },
   {
    "duration": 7,
    "start_time": "2021-12-19T20:28:59.134Z"
   },
   {
    "duration": 27,
    "start_time": "2021-12-19T20:29:00.344Z"
   },
   {
    "duration": 19,
    "start_time": "2021-12-19T20:29:05.120Z"
   },
   {
    "duration": 23,
    "start_time": "2021-12-19T20:29:07.968Z"
   },
   {
    "duration": 18,
    "start_time": "2021-12-19T20:29:08.656Z"
   },
   {
    "duration": 354,
    "start_time": "2021-12-19T20:37:41.800Z"
   },
   {
    "duration": 30,
    "start_time": "2021-12-19T20:38:04.880Z"
   },
   {
    "duration": 36,
    "start_time": "2021-12-19T20:38:17.615Z"
   },
   {
    "duration": 12,
    "start_time": "2021-12-19T20:39:32.031Z"
   },
   {
    "duration": 13,
    "start_time": "2021-12-19T20:39:55.792Z"
   },
   {
    "duration": 12,
    "start_time": "2021-12-19T20:40:05.991Z"
   },
   {
    "duration": 15,
    "start_time": "2021-12-19T20:42:27.942Z"
   },
   {
    "duration": 7,
    "start_time": "2021-12-19T20:42:57.436Z"
   },
   {
    "duration": 12,
    "start_time": "2021-12-19T20:43:20.827Z"
   },
   {
    "duration": 7,
    "start_time": "2021-12-19T20:43:24.292Z"
   },
   {
    "duration": 11,
    "start_time": "2021-12-19T20:44:10.683Z"
   },
   {
    "duration": 8,
    "start_time": "2021-12-19T20:44:30.579Z"
   },
   {
    "duration": 52,
    "start_time": "2021-12-19T20:54:35.732Z"
   },
   {
    "duration": 29,
    "start_time": "2021-12-19T20:54:38.427Z"
   },
   {
    "duration": 82,
    "start_time": "2021-12-19T20:54:43.466Z"
   },
   {
    "duration": 27,
    "start_time": "2021-12-19T20:54:51.819Z"
   },
   {
    "duration": 32,
    "start_time": "2021-12-19T20:54:53.618Z"
   },
   {
    "duration": 79,
    "start_time": "2021-12-19T20:54:55.018Z"
   },
   {
    "duration": 4,
    "start_time": "2021-12-19T20:55:22.362Z"
   },
   {
    "duration": 195,
    "start_time": "2021-12-19T20:55:23.657Z"
   },
   {
    "duration": 11,
    "start_time": "2021-12-19T20:55:25.155Z"
   },
   {
    "duration": 32,
    "start_time": "2021-12-19T20:55:28.217Z"
   },
   {
    "duration": 5,
    "start_time": "2021-12-19T20:55:32.801Z"
   },
   {
    "duration": 21,
    "start_time": "2021-12-19T20:55:34.721Z"
   },
   {
    "duration": 5,
    "start_time": "2021-12-19T20:55:39.169Z"
   },
   {
    "duration": 31,
    "start_time": "2021-12-19T20:55:40.840Z"
   },
   {
    "duration": 28,
    "start_time": "2021-12-19T20:55:46.873Z"
   },
   {
    "duration": 39,
    "start_time": "2021-12-19T20:55:51.881Z"
   },
   {
    "duration": 82,
    "start_time": "2021-12-19T20:55:57.593Z"
   },
   {
    "duration": 94,
    "start_time": "2021-12-19T20:55:59.329Z"
   },
   {
    "duration": 79,
    "start_time": "2021-12-19T20:56:00.793Z"
   },
   {
    "duration": 16,
    "start_time": "2021-12-19T20:56:06.617Z"
   },
   {
    "duration": 4,
    "start_time": "2021-12-19T20:56:10.720Z"
   },
   {
    "duration": 22,
    "start_time": "2021-12-19T20:56:11.809Z"
   },
   {
    "duration": 14,
    "start_time": "2021-12-19T20:56:14.454Z"
   },
   {
    "duration": 15,
    "start_time": "2021-12-19T20:56:22.376Z"
   },
   {
    "duration": 15,
    "start_time": "2021-12-19T20:56:23.560Z"
   },
   {
    "duration": 6,
    "start_time": "2021-12-19T20:56:34.001Z"
   },
   {
    "duration": 23,
    "start_time": "2021-12-19T20:56:38.264Z"
   },
   {
    "duration": 20,
    "start_time": "2021-12-19T20:56:38.752Z"
   },
   {
    "duration": 21,
    "start_time": "2021-12-19T20:56:39.192Z"
   },
   {
    "duration": 18,
    "start_time": "2021-12-19T20:56:39.929Z"
   },
   {
    "duration": 23,
    "start_time": "2021-12-19T20:56:40.481Z"
   },
   {
    "duration": 19,
    "start_time": "2021-12-19T20:56:40.882Z"
   },
   {
    "duration": 9,
    "start_time": "2021-12-19T20:56:43.785Z"
   },
   {
    "duration": 16,
    "start_time": "2021-12-19T20:56:47.496Z"
   },
   {
    "duration": 14,
    "start_time": "2021-12-19T20:56:47.952Z"
   },
   {
    "duration": 6,
    "start_time": "2021-12-19T20:56:50.441Z"
   },
   {
    "duration": 26,
    "start_time": "2021-12-19T20:56:53.513Z"
   },
   {
    "duration": 19,
    "start_time": "2021-12-19T20:56:54.072Z"
   },
   {
    "duration": 24,
    "start_time": "2021-12-19T20:56:54.592Z"
   },
   {
    "duration": 17,
    "start_time": "2021-12-19T20:56:56.625Z"
   },
   {
    "duration": 12,
    "start_time": "2021-12-19T20:57:04.088Z"
   },
   {
    "duration": 7,
    "start_time": "2021-12-19T20:57:06.974Z"
   },
   {
    "duration": 8,
    "start_time": "2021-12-19T20:57:08.208Z"
   },
   {
    "duration": 7,
    "start_time": "2021-12-19T20:57:11.280Z"
   },
   {
    "duration": 647,
    "start_time": "2021-12-20T15:36:54.479Z"
   },
   {
    "duration": 183,
    "start_time": "2021-12-20T15:36:55.128Z"
   },
   {
    "duration": 8,
    "start_time": "2021-12-20T15:36:55.313Z"
   },
   {
    "duration": 42,
    "start_time": "2021-12-20T15:36:55.323Z"
   },
   {
    "duration": 4,
    "start_time": "2021-12-20T15:36:55.367Z"
   },
   {
    "duration": 27,
    "start_time": "2021-12-20T15:36:55.372Z"
   },
   {
    "duration": 16,
    "start_time": "2021-12-20T15:36:55.400Z"
   },
   {
    "duration": 44,
    "start_time": "2021-12-20T15:36:55.420Z"
   },
   {
    "duration": 23,
    "start_time": "2021-12-20T15:36:55.467Z"
   },
   {
    "duration": 26,
    "start_time": "2021-12-20T15:36:55.492Z"
   },
   {
    "duration": 87,
    "start_time": "2021-12-20T15:36:55.520Z"
   },
   {
    "duration": 80,
    "start_time": "2021-12-20T15:36:55.609Z"
   },
   {
    "duration": 55,
    "start_time": "2021-12-20T15:36:55.691Z"
   },
   {
    "duration": 19,
    "start_time": "2021-12-20T15:36:55.748Z"
   },
   {
    "duration": 3,
    "start_time": "2021-12-20T15:36:55.769Z"
   },
   {
    "duration": 22,
    "start_time": "2021-12-20T15:36:55.775Z"
   },
   {
    "duration": 15,
    "start_time": "2021-12-20T15:36:55.798Z"
   },
   {
    "duration": 12,
    "start_time": "2021-12-20T15:36:55.815Z"
   },
   {
    "duration": 36,
    "start_time": "2021-12-20T15:36:55.829Z"
   },
   {
    "duration": 4,
    "start_time": "2021-12-20T15:36:55.867Z"
   },
   {
    "duration": 28,
    "start_time": "2021-12-20T15:36:55.873Z"
   },
   {
    "duration": 23,
    "start_time": "2021-12-20T15:36:55.902Z"
   },
   {
    "duration": 21,
    "start_time": "2021-12-20T15:36:55.930Z"
   },
   {
    "duration": 18,
    "start_time": "2021-12-20T15:36:55.961Z"
   },
   {
    "duration": 23,
    "start_time": "2021-12-20T15:36:55.981Z"
   },
   {
    "duration": 16,
    "start_time": "2021-12-20T15:36:56.006Z"
   },
   {
    "duration": 7,
    "start_time": "2021-12-20T15:36:56.024Z"
   },
   {
    "duration": 27,
    "start_time": "2021-12-20T15:36:56.061Z"
   },
   {
    "duration": 10,
    "start_time": "2021-12-20T15:36:56.089Z"
   },
   {
    "duration": 17,
    "start_time": "2021-12-20T15:36:56.101Z"
   },
   {
    "duration": 28,
    "start_time": "2021-12-20T15:36:56.120Z"
   },
   {
    "duration": 29,
    "start_time": "2021-12-20T15:36:56.150Z"
   },
   {
    "duration": 38,
    "start_time": "2021-12-20T15:36:56.181Z"
   },
   {
    "duration": 27,
    "start_time": "2021-12-20T15:36:56.221Z"
   },
   {
    "duration": 10,
    "start_time": "2021-12-20T15:36:56.250Z"
   },
   {
    "duration": 7,
    "start_time": "2021-12-20T15:36:56.261Z"
   },
   {
    "duration": 12,
    "start_time": "2021-12-20T15:36:56.270Z"
   },
   {
    "duration": 5,
    "start_time": "2021-12-20T15:36:56.284Z"
   },
   {
    "duration": 1039,
    "start_time": "2021-12-20T18:50:46.805Z"
   },
   {
    "duration": 189,
    "start_time": "2021-12-20T18:50:51.828Z"
   },
   {
    "duration": 36,
    "start_time": "2021-12-20T18:51:05.334Z"
   },
   {
    "duration": 6,
    "start_time": "2021-12-20T18:52:39.179Z"
   },
   {
    "duration": 11463,
    "start_time": "2021-12-20T18:53:34.588Z"
   },
   {
    "duration": 3,
    "start_time": "2021-12-20T18:54:01.258Z"
   },
   {
    "duration": 182,
    "start_time": "2021-12-20T18:54:03.313Z"
   },
   {
    "duration": 19,
    "start_time": "2021-12-20T18:54:06.808Z"
   },
   {
    "duration": 33,
    "start_time": "2021-12-20T18:54:10.593Z"
   },
   {
    "duration": 6,
    "start_time": "2021-12-20T18:54:15.569Z"
   },
   {
    "duration": 26,
    "start_time": "2021-12-20T18:54:19.897Z"
   },
   {
    "duration": 6,
    "start_time": "2021-12-20T18:54:21.553Z"
   },
   {
    "duration": 33,
    "start_time": "2021-12-20T18:54:23.864Z"
   },
   {
    "duration": 28,
    "start_time": "2021-12-20T18:54:26.767Z"
   },
   {
    "duration": 27,
    "start_time": "2021-12-20T19:03:57.656Z"
   },
   {
    "duration": 29,
    "start_time": "2021-12-20T19:04:02.650Z"
   },
   {
    "duration": 85,
    "start_time": "2021-12-20T19:04:06.240Z"
   },
   {
    "duration": 110,
    "start_time": "2021-12-20T19:04:07.583Z"
   },
   {
    "duration": 76,
    "start_time": "2021-12-20T19:04:08.664Z"
   },
   {
    "duration": 62,
    "start_time": "2021-12-20T19:05:01.594Z"
   },
   {
    "duration": 14,
    "start_time": "2021-12-20T19:05:14.559Z"
   },
   {
    "duration": 55,
    "start_time": "2021-12-20T19:05:23.828Z"
   },
   {
    "duration": 4,
    "start_time": "2021-12-20T19:09:48.284Z"
   },
   {
    "duration": 21,
    "start_time": "2021-12-20T19:09:49.836Z"
   },
   {
    "duration": 21,
    "start_time": "2021-12-20T19:11:24.742Z"
   },
   {
    "duration": 14,
    "start_time": "2021-12-20T19:11:29.507Z"
   },
   {
    "duration": 59,
    "start_time": "2021-12-20T19:12:55.162Z"
   },
   {
    "duration": 15,
    "start_time": "2021-12-20T19:13:49.617Z"
   },
   {
    "duration": 14,
    "start_time": "2021-12-20T19:13:53.937Z"
   },
   {
    "duration": 6,
    "start_time": "2021-12-20T19:14:03.297Z"
   },
   {
    "duration": 5,
    "start_time": "2021-12-20T19:14:10.569Z"
   },
   {
    "duration": 22,
    "start_time": "2021-12-20T19:14:11.448Z"
   },
   {
    "duration": 19,
    "start_time": "2021-12-20T19:14:11.960Z"
   },
   {
    "duration": 19,
    "start_time": "2021-12-20T19:14:12.417Z"
   },
   {
    "duration": 18,
    "start_time": "2021-12-20T19:14:15.177Z"
   },
   {
    "duration": 21,
    "start_time": "2021-12-20T19:14:15.594Z"
   },
   {
    "duration": 19,
    "start_time": "2021-12-20T19:14:16.000Z"
   },
   {
    "duration": 9,
    "start_time": "2021-12-20T19:14:17.088Z"
   },
   {
    "duration": 16,
    "start_time": "2021-12-20T19:14:23.048Z"
   },
   {
    "duration": 12,
    "start_time": "2021-12-20T19:14:25.232Z"
   },
   {
    "duration": 6,
    "start_time": "2021-12-20T19:14:26.112Z"
   },
   {
    "duration": 5,
    "start_time": "2021-12-20T19:25:03.819Z"
   },
   {
    "duration": 26,
    "start_time": "2021-12-20T19:25:12.543Z"
   },
   {
    "duration": 18,
    "start_time": "2021-12-20T19:25:15.608Z"
   },
   {
    "duration": 26,
    "start_time": "2021-12-20T19:25:16.406Z"
   },
   {
    "duration": 17,
    "start_time": "2021-12-20T19:25:18.647Z"
   },
   {
    "duration": 12,
    "start_time": "2021-12-20T19:25:23.694Z"
   },
   {
    "duration": 6,
    "start_time": "2021-12-20T19:25:25.031Z"
   },
   {
    "duration": 8,
    "start_time": "2021-12-20T19:25:27.719Z"
   },
   {
    "duration": 7,
    "start_time": "2021-12-20T19:25:28.615Z"
   },
   {
    "duration": 431,
    "start_time": "2022-08-02T16:19:07.187Z"
   },
   {
    "duration": 433,
    "start_time": "2022-08-02T16:19:07.621Z"
   },
   {
    "duration": 17,
    "start_time": "2022-08-02T16:19:08.056Z"
   },
   {
    "duration": 24,
    "start_time": "2022-08-02T16:19:08.076Z"
   },
   {
    "duration": 4,
    "start_time": "2022-08-02T16:19:08.102Z"
   },
   {
    "duration": 11,
    "start_time": "2022-08-02T16:19:08.107Z"
   },
   {
    "duration": 6,
    "start_time": "2022-08-02T16:19:08.119Z"
   },
   {
    "duration": 23,
    "start_time": "2022-08-02T16:19:08.127Z"
   },
   {
    "duration": 17,
    "start_time": "2022-08-02T16:19:08.152Z"
   },
   {
    "duration": 51,
    "start_time": "2022-08-02T16:19:08.171Z"
   },
   {
    "duration": 58,
    "start_time": "2022-08-02T16:19:08.224Z"
   },
   {
    "duration": 83,
    "start_time": "2022-08-02T16:19:08.284Z"
   },
   {
    "duration": 67,
    "start_time": "2022-08-02T16:19:08.369Z"
   },
   {
    "duration": 32,
    "start_time": "2022-08-02T16:19:08.438Z"
   },
   {
    "duration": 3,
    "start_time": "2022-08-02T16:19:08.471Z"
   },
   {
    "duration": 38,
    "start_time": "2022-08-02T16:19:08.476Z"
   },
   {
    "duration": 31,
    "start_time": "2022-08-02T16:19:08.515Z"
   },
   {
    "duration": 10,
    "start_time": "2022-08-02T16:19:08.547Z"
   },
   {
    "duration": 10,
    "start_time": "2022-08-02T16:19:08.558Z"
   },
   {
    "duration": 33,
    "start_time": "2022-08-02T16:19:08.569Z"
   },
   {
    "duration": 19,
    "start_time": "2022-08-02T16:19:08.603Z"
   },
   {
    "duration": 12,
    "start_time": "2022-08-02T16:19:08.624Z"
   },
   {
    "duration": 13,
    "start_time": "2022-08-02T16:19:08.637Z"
   },
   {
    "duration": 12,
    "start_time": "2022-08-02T16:19:08.652Z"
   },
   {
    "duration": 43,
    "start_time": "2022-08-02T16:19:08.665Z"
   },
   {
    "duration": 16,
    "start_time": "2022-08-02T16:19:08.709Z"
   },
   {
    "duration": 21,
    "start_time": "2022-08-02T16:19:08.726Z"
   },
   {
    "duration": 13,
    "start_time": "2022-08-02T16:19:08.751Z"
   },
   {
    "duration": 11,
    "start_time": "2022-08-02T16:19:08.765Z"
   },
   {
    "duration": 4,
    "start_time": "2022-08-02T16:19:08.778Z"
   },
   {
    "duration": 42,
    "start_time": "2022-08-02T16:19:08.783Z"
   },
   {
    "duration": 23,
    "start_time": "2022-08-02T16:19:08.826Z"
   },
   {
    "duration": 20,
    "start_time": "2022-08-02T16:19:08.851Z"
   },
   {
    "duration": 31,
    "start_time": "2022-08-02T16:19:08.873Z"
   },
   {
    "duration": 11,
    "start_time": "2022-08-02T16:19:08.905Z"
   },
   {
    "duration": 6,
    "start_time": "2022-08-02T16:19:08.918Z"
   },
   {
    "duration": 12,
    "start_time": "2022-08-02T16:19:08.925Z"
   },
   {
    "duration": 5,
    "start_time": "2022-08-02T16:19:08.938Z"
   }
  ],
  "colab": {
   "collapsed_sections": [
    "E0vqbgi9ay0H",
    "VUC88oWjTJw2"
   ],
   "name": "yandex_music_project_2021.2.ipynb",
   "provenance": []
  },
  "kernelspec": {
   "display_name": "Python 3 (ipykernel)",
   "language": "python",
   "name": "python3"
  },
  "language_info": {
   "codemirror_mode": {
    "name": "ipython",
    "version": 3
   },
   "file_extension": ".py",
   "mimetype": "text/x-python",
   "name": "python",
   "nbconvert_exporter": "python",
   "pygments_lexer": "ipython3",
   "version": "3.9.7"
  },
  "toc": {
   "base_numbering": 1,
   "nav_menu": {},
   "number_sections": true,
   "sideBar": true,
   "skip_h1_title": true,
   "title_cell": "Table of Contents",
   "title_sidebar": "Contents",
   "toc_cell": false,
   "toc_position": {},
   "toc_section_display": true,
   "toc_window_display": true
  }
 },
 "nbformat": 4,
 "nbformat_minor": 1
}
