{
 "cells": [
  {
   "cell_type": "code",
   "execution_count": 1,
   "metadata": {
    "colab": {
     "base_uri": "https://localhost:8080/"
    },
    "id": "lcn2QKrqupFZ",
    "outputId": "35ba00d5-f9c7-4c07-917d-bf2508fdabf5"
   },
   "outputs": [],
   "source": [
    "#from google.colab import drive\n",
    "#drive.mount('/content/drive')\n"
   ]
  },
  {
   "cell_type": "code",
   "execution_count": 2,
   "metadata": {
    "id": "Syq1e6SSvuob"
   },
   "outputs": [],
   "source": [
    "# импортируем библиотеки\n",
    "import pandas as pd\n",
    "from sqlalchemy import create_engine"
   ]
  },
  {
   "cell_type": "code",
   "execution_count": 3,
   "metadata": {
    "id": "5Bby8jDcyTKv"
   },
   "outputs": [],
   "source": [
    "# устанавливаем параметры\n",
    "db_config = {'user': 'praktikum_student', # имя пользователя\n",
    "             'pwd': 'Sdf4$2;d-d30pp', # пароль\n",
    "             'host': 'rc1b-wcoijxj3yxfsf3fs.mdb.yandexcloud.net',\n",
    "             'port': 6432, # порт подключения\n",
    "             'db': 'data-analyst-final-project-db'} # название базы данных"
   ]
  },
  {
   "cell_type": "code",
   "execution_count": 4,
   "metadata": {
    "id": "Aq9ur0wYyVAZ"
   },
   "outputs": [],
   "source": [
    "connection_string = 'postgresql://{}:{}@{}:{}/{}'.format(db_config['user'],\n",
    "                                                         db_config['pwd'],\n",
    "                                                         db_config['host'],\n",
    "                                                         db_config['port'],\n",
    "                                                         db_config['db'])"
   ]
  },
  {
   "cell_type": "code",
   "execution_count": 5,
   "metadata": {
    "colab": {
     "base_uri": "https://localhost:8080/"
    },
    "id": "Ge9vxT-hysIM",
    "outputId": "75f6ed1d-3ba2-4d88-c892-e116610eadb8"
   },
   "outputs": [
    {
     "name": "stdout",
     "output_type": "stream",
     "text": [
      "Requirement already satisfied: psycopg2-binary in /opt/conda/lib/python3.9/site-packages (2.9.2)\n",
      "Note: you may need to restart the kernel to use updated packages.\n"
     ]
    }
   ],
   "source": [
    "pip install psycopg2-binary"
   ]
  },
  {
   "cell_type": "code",
   "execution_count": 6,
   "metadata": {
    "id": "0_hUjf9Jyklk"
   },
   "outputs": [],
   "source": [
    "# сохраняем коннектор\n",
    "engine = create_engine(connection_string, connect_args={'sslmode':'require'})"
   ]
  },
  {
   "cell_type": "markdown",
   "metadata": {
    "id": "-A7_JgXW3azK"
   },
   "source": [
    "## SQL"
   ]
  },
  {
   "cell_type": "markdown",
   "metadata": {
    "id": "4xuNCPkE3B0B"
   },
   "source": [
    "Коронавирус застал мир врасплох, изменив привычный порядок вещей. В\n",
    "свободное время жители городов больше не выходят на улицу, не посещают кафе\n",
    "и торговые центры. Зато стало больше времени для книг. Это заметили\n",
    "стартаперы — и бросились создавать приложения для тех, кто любит читать.\n",
    "\n",
    "Ваша компания решила быть на волне и купила крупный сервис для чтения книг\n",
    "по подписке. Ваша первая задача как аналитика — проанализировать базу\n",
    "данных.\n",
    "\n",
    "В ней — информация о книгах, издательствах, авторах, а также пользовательские\n",
    "обзоры книг. Эти данные помогут сформулировать ценностное предложение для\n",
    "нового продукта."
   ]
  },
  {
   "cell_type": "markdown",
   "metadata": {
    "id": "ZwFGQUEr3eOR"
   },
   "source": [
    "### Таблица books\n",
    "Содержит данные о книгах:\n",
    "- book_id — идентификатор книги;\n",
    "- author_id — идентификатор автора;\n",
    "- title — название книги;\n",
    "- num_pages — количество страниц;\n",
    "- publication_date — дата публикации книги;\n",
    "- publisher_id — идентификатор издателя."
   ]
  },
  {
   "cell_type": "markdown",
   "metadata": {
    "id": "hgFhH_Pm3lcx"
   },
   "source": [
    "### Таблица authors\n",
    "Содержит данные об авторах:\n",
    "- author_id — идентификатор автора;\n",
    "- author — имя автора."
   ]
  },
  {
   "cell_type": "markdown",
   "metadata": {
    "id": "YxjLVsmc3rkt"
   },
   "source": [
    "### Таблица publishers\n",
    "Содержит данные об издательствах:\n",
    "- publisher_id — идентификатор издательства;\n",
    "- publisher — название издательства;"
   ]
  },
  {
   "cell_type": "markdown",
   "metadata": {
    "id": "xcBrwxLb3wT8"
   },
   "source": [
    "### Таблица ratings\n",
    "Содержит данные о пользовательских оценках книг:\n",
    "- rating_id — идентификатор оценки;\n",
    "- book_id — идентификатор книги;\n",
    "- username — имя пользователя, оставившего оценку;\n",
    "- rating — оценка книги."
   ]
  },
  {
   "cell_type": "markdown",
   "metadata": {
    "id": "o26Ok_Kn30PF"
   },
   "source": [
    "### Таблица reviews\n",
    "Содержит данные о пользовательских обзорах на книги:\n",
    "- review_id — идентификатор обзора;\n",
    "- book_id — идентификатор книги;\n",
    "- username — имя пользователя, написавшего обзор;\n",
    "- text — текст обзора."
   ]
  },
  {
   "cell_type": "markdown",
   "metadata": {
    "id": "y-1rfbnS39Ma"
   },
   "source": [
    "## Задания\n",
    "- Посчитайте, сколько книг вышло после 1 января 2000 года;\n",
    "- Для каждой книги посчитайте количество обзоров и среднюю оценку;\n",
    "- Определите издательство, которое выпустило наибольшее число книг толще\n",
    "50 страниц — так вы исключите из анализа брошюры;\n",
    "- Определите автора с самой высокой средней оценкой книг — учитывайте\n",
    "только книги с 50 и более оценками;\n",
    "- Посчитайте среднее количество обзоров от пользователей, которые поставили\n",
    "больше 50 оценок."
   ]
  },
  {
   "cell_type": "markdown",
   "metadata": {
    "id": "ELbZJ3Uj4ZJq"
   },
   "source": [
    "### Описать цели исследования:\n",
    "\n",
    "- Основная цель исследования - сформулировать ценностное предложение для нового продукта, сервиса для чтения книг по подписке.\n",
    "- Для этого необходимо выполнить задания."
   ]
  },
  {
   "cell_type": "markdown",
   "metadata": {
    "id": "VX63oVok5Mkp"
   },
   "source": [
    "## Исследование таблиц."
   ]
  },
  {
   "cell_type": "markdown",
   "metadata": {
    "id": "rEgXrsta5eKb"
   },
   "source": [
    "### Таблица books"
   ]
  },
  {
   "cell_type": "code",
   "execution_count": 7,
   "metadata": {
    "colab": {
     "base_uri": "https://localhost:8080/",
     "height": 363
    },
    "id": "z22uJD0w1xLt",
    "outputId": "ee3d0a52-e653-4395-9cc2-8611c6ac7ea3"
   },
   "outputs": [
    {
     "data": {
      "text/html": [
       "<div>\n",
       "<style scoped>\n",
       "    .dataframe tbody tr th:only-of-type {\n",
       "        vertical-align: middle;\n",
       "    }\n",
       "\n",
       "    .dataframe tbody tr th {\n",
       "        vertical-align: top;\n",
       "    }\n",
       "\n",
       "    .dataframe thead th {\n",
       "        text-align: right;\n",
       "    }\n",
       "</style>\n",
       "<table border=\"1\" class=\"dataframe\">\n",
       "  <thead>\n",
       "    <tr style=\"text-align: right;\">\n",
       "      <th></th>\n",
       "      <th>book_id</th>\n",
       "      <th>author_id</th>\n",
       "      <th>title</th>\n",
       "      <th>num_pages</th>\n",
       "      <th>publication_date</th>\n",
       "      <th>publisher_id</th>\n",
       "    </tr>\n",
       "  </thead>\n",
       "  <tbody>\n",
       "    <tr>\n",
       "      <th>0</th>\n",
       "      <td>1</td>\n",
       "      <td>546</td>\n",
       "      <td>'Salem's Lot</td>\n",
       "      <td>594</td>\n",
       "      <td>2005-11-01</td>\n",
       "      <td>93</td>\n",
       "    </tr>\n",
       "    <tr>\n",
       "      <th>1</th>\n",
       "      <td>2</td>\n",
       "      <td>465</td>\n",
       "      <td>1 000 Places to See Before You Die</td>\n",
       "      <td>992</td>\n",
       "      <td>2003-05-22</td>\n",
       "      <td>336</td>\n",
       "    </tr>\n",
       "    <tr>\n",
       "      <th>2</th>\n",
       "      <td>3</td>\n",
       "      <td>407</td>\n",
       "      <td>13 Little Blue Envelopes (Little Blue Envelope...</td>\n",
       "      <td>322</td>\n",
       "      <td>2010-12-21</td>\n",
       "      <td>135</td>\n",
       "    </tr>\n",
       "    <tr>\n",
       "      <th>3</th>\n",
       "      <td>4</td>\n",
       "      <td>82</td>\n",
       "      <td>1491: New Revelations of the Americas Before C...</td>\n",
       "      <td>541</td>\n",
       "      <td>2006-10-10</td>\n",
       "      <td>309</td>\n",
       "    </tr>\n",
       "    <tr>\n",
       "      <th>4</th>\n",
       "      <td>5</td>\n",
       "      <td>125</td>\n",
       "      <td>1776</td>\n",
       "      <td>386</td>\n",
       "      <td>2006-07-04</td>\n",
       "      <td>268</td>\n",
       "    </tr>\n",
       "    <tr>\n",
       "      <th>...</th>\n",
       "      <td>...</td>\n",
       "      <td>...</td>\n",
       "      <td>...</td>\n",
       "      <td>...</td>\n",
       "      <td>...</td>\n",
       "      <td>...</td>\n",
       "    </tr>\n",
       "    <tr>\n",
       "      <th>995</th>\n",
       "      <td>996</td>\n",
       "      <td>571</td>\n",
       "      <td>Wyrd Sisters (Discworld  #6; Witches #2)</td>\n",
       "      <td>265</td>\n",
       "      <td>2001-02-06</td>\n",
       "      <td>147</td>\n",
       "    </tr>\n",
       "    <tr>\n",
       "      <th>996</th>\n",
       "      <td>997</td>\n",
       "      <td>454</td>\n",
       "      <td>Xenocide (Ender's Saga  #3)</td>\n",
       "      <td>592</td>\n",
       "      <td>1996-07-15</td>\n",
       "      <td>297</td>\n",
       "    </tr>\n",
       "    <tr>\n",
       "      <th>997</th>\n",
       "      <td>998</td>\n",
       "      <td>201</td>\n",
       "      <td>Year of Wonders</td>\n",
       "      <td>358</td>\n",
       "      <td>2002-04-30</td>\n",
       "      <td>212</td>\n",
       "    </tr>\n",
       "    <tr>\n",
       "      <th>998</th>\n",
       "      <td>999</td>\n",
       "      <td>94</td>\n",
       "      <td>You Suck (A Love Story  #2)</td>\n",
       "      <td>328</td>\n",
       "      <td>2007-01-16</td>\n",
       "      <td>331</td>\n",
       "    </tr>\n",
       "    <tr>\n",
       "      <th>999</th>\n",
       "      <td>1000</td>\n",
       "      <td>509</td>\n",
       "      <td>Zen and the Art of Motorcycle Maintenance: An ...</td>\n",
       "      <td>540</td>\n",
       "      <td>2006-04-25</td>\n",
       "      <td>143</td>\n",
       "    </tr>\n",
       "  </tbody>\n",
       "</table>\n",
       "<p>1000 rows × 6 columns</p>\n",
       "</div>"
      ],
      "text/plain": [
       "     book_id  author_id                                              title  \\\n",
       "0          1        546                                       'Salem's Lot   \n",
       "1          2        465                 1 000 Places to See Before You Die   \n",
       "2          3        407  13 Little Blue Envelopes (Little Blue Envelope...   \n",
       "3          4         82  1491: New Revelations of the Americas Before C...   \n",
       "4          5        125                                               1776   \n",
       "..       ...        ...                                                ...   \n",
       "995      996        571           Wyrd Sisters (Discworld  #6; Witches #2)   \n",
       "996      997        454                        Xenocide (Ender's Saga  #3)   \n",
       "997      998        201                                    Year of Wonders   \n",
       "998      999         94                        You Suck (A Love Story  #2)   \n",
       "999     1000        509  Zen and the Art of Motorcycle Maintenance: An ...   \n",
       "\n",
       "     num_pages publication_date  publisher_id  \n",
       "0          594       2005-11-01            93  \n",
       "1          992       2003-05-22           336  \n",
       "2          322       2010-12-21           135  \n",
       "3          541       2006-10-10           309  \n",
       "4          386       2006-07-04           268  \n",
       "..         ...              ...           ...  \n",
       "995        265       2001-02-06           147  \n",
       "996        592       1996-07-15           297  \n",
       "997        358       2002-04-30           212  \n",
       "998        328       2007-01-16           331  \n",
       "999        540       2006-04-25           143  \n",
       "\n",
       "[1000 rows x 6 columns]"
      ]
     },
     "execution_count": 7,
     "metadata": {},
     "output_type": "execute_result"
    }
   ],
   "source": [
    "query = '''\n",
    "           SELECT * \n",
    "           FROM books\n",
    "           \n",
    "        '''\n",
    "pd.io.sql.read_sql(query, con = engine)"
   ]
  },
  {
   "cell_type": "markdown",
   "metadata": {},
   "source": [
    "В БД есть информация о 1000 книг."
   ]
  },
  {
   "cell_type": "markdown",
   "metadata": {
    "id": "hlmkht3M5dOY"
   },
   "source": [
    "### Таблица authors"
   ]
  },
  {
   "cell_type": "code",
   "execution_count": 8,
   "metadata": {
    "colab": {
     "base_uri": "https://localhost:8080/",
     "height": 363
    },
    "id": "H910WZ-J5Syk",
    "outputId": "202c40e1-086c-4052-e47a-f575a06fe3d8"
   },
   "outputs": [
    {
     "data": {
      "text/html": [
       "<div>\n",
       "<style scoped>\n",
       "    .dataframe tbody tr th:only-of-type {\n",
       "        vertical-align: middle;\n",
       "    }\n",
       "\n",
       "    .dataframe tbody tr th {\n",
       "        vertical-align: top;\n",
       "    }\n",
       "\n",
       "    .dataframe thead th {\n",
       "        text-align: right;\n",
       "    }\n",
       "</style>\n",
       "<table border=\"1\" class=\"dataframe\">\n",
       "  <thead>\n",
       "    <tr style=\"text-align: right;\">\n",
       "      <th></th>\n",
       "      <th>author_id</th>\n",
       "      <th>author</th>\n",
       "    </tr>\n",
       "  </thead>\n",
       "  <tbody>\n",
       "    <tr>\n",
       "      <th>0</th>\n",
       "      <td>1</td>\n",
       "      <td>A.S. Byatt</td>\n",
       "    </tr>\n",
       "    <tr>\n",
       "      <th>1</th>\n",
       "      <td>2</td>\n",
       "      <td>Aesop/Laura Harris/Laura Gibbs</td>\n",
       "    </tr>\n",
       "    <tr>\n",
       "      <th>2</th>\n",
       "      <td>3</td>\n",
       "      <td>Agatha Christie</td>\n",
       "    </tr>\n",
       "    <tr>\n",
       "      <th>3</th>\n",
       "      <td>4</td>\n",
       "      <td>Alan Brennert</td>\n",
       "    </tr>\n",
       "    <tr>\n",
       "      <th>4</th>\n",
       "      <td>5</td>\n",
       "      <td>Alan Moore/David   Lloyd</td>\n",
       "    </tr>\n",
       "    <tr>\n",
       "      <th>...</th>\n",
       "      <td>...</td>\n",
       "      <td>...</td>\n",
       "    </tr>\n",
       "    <tr>\n",
       "      <th>631</th>\n",
       "      <td>632</td>\n",
       "      <td>William Strunk Jr./E.B. White</td>\n",
       "    </tr>\n",
       "    <tr>\n",
       "      <th>632</th>\n",
       "      <td>633</td>\n",
       "      <td>Zadie Smith</td>\n",
       "    </tr>\n",
       "    <tr>\n",
       "      <th>633</th>\n",
       "      <td>634</td>\n",
       "      <td>Zilpha Keatley Snyder</td>\n",
       "    </tr>\n",
       "    <tr>\n",
       "      <th>634</th>\n",
       "      <td>635</td>\n",
       "      <td>Zora Neale Hurston</td>\n",
       "    </tr>\n",
       "    <tr>\n",
       "      <th>635</th>\n",
       "      <td>636</td>\n",
       "      <td>Åsne Seierstad/Ingrid Christopherson</td>\n",
       "    </tr>\n",
       "  </tbody>\n",
       "</table>\n",
       "<p>636 rows × 2 columns</p>\n",
       "</div>"
      ],
      "text/plain": [
       "     author_id                                author\n",
       "0            1                            A.S. Byatt\n",
       "1            2        Aesop/Laura Harris/Laura Gibbs\n",
       "2            3                       Agatha Christie\n",
       "3            4                         Alan Brennert\n",
       "4            5              Alan Moore/David   Lloyd\n",
       "..         ...                                   ...\n",
       "631        632         William Strunk Jr./E.B. White\n",
       "632        633                           Zadie Smith\n",
       "633        634                 Zilpha Keatley Snyder\n",
       "634        635                    Zora Neale Hurston\n",
       "635        636  Åsne Seierstad/Ingrid Christopherson\n",
       "\n",
       "[636 rows x 2 columns]"
      ]
     },
     "execution_count": 8,
     "metadata": {},
     "output_type": "execute_result"
    }
   ],
   "source": [
    "query = '''\n",
    "           SELECT * \n",
    "           FROM authors\n",
    "           \n",
    "        '''\n",
    "pd.io.sql.read_sql(query, con = engine)"
   ]
  },
  {
   "cell_type": "markdown",
   "metadata": {},
   "source": [
    "В БД есть информация о 636 авторах."
   ]
  },
  {
   "cell_type": "markdown",
   "metadata": {
    "id": "jv0_KK_d5toP"
   },
   "source": [
    "### Таблица publishers"
   ]
  },
  {
   "cell_type": "code",
   "execution_count": 9,
   "metadata": {
    "colab": {
     "base_uri": "https://localhost:8080/",
     "height": 363
    },
    "id": "COmbeTd958ea",
    "outputId": "02a7d095-5ced-4d6f-f95d-eb2ac2f5b9c1"
   },
   "outputs": [
    {
     "data": {
      "text/html": [
       "<div>\n",
       "<style scoped>\n",
       "    .dataframe tbody tr th:only-of-type {\n",
       "        vertical-align: middle;\n",
       "    }\n",
       "\n",
       "    .dataframe tbody tr th {\n",
       "        vertical-align: top;\n",
       "    }\n",
       "\n",
       "    .dataframe thead th {\n",
       "        text-align: right;\n",
       "    }\n",
       "</style>\n",
       "<table border=\"1\" class=\"dataframe\">\n",
       "  <thead>\n",
       "    <tr style=\"text-align: right;\">\n",
       "      <th></th>\n",
       "      <th>publisher_id</th>\n",
       "      <th>publisher</th>\n",
       "    </tr>\n",
       "  </thead>\n",
       "  <tbody>\n",
       "    <tr>\n",
       "      <th>0</th>\n",
       "      <td>1</td>\n",
       "      <td>Ace</td>\n",
       "    </tr>\n",
       "    <tr>\n",
       "      <th>1</th>\n",
       "      <td>2</td>\n",
       "      <td>Ace Book</td>\n",
       "    </tr>\n",
       "    <tr>\n",
       "      <th>2</th>\n",
       "      <td>3</td>\n",
       "      <td>Ace Books</td>\n",
       "    </tr>\n",
       "    <tr>\n",
       "      <th>3</th>\n",
       "      <td>4</td>\n",
       "      <td>Ace Hardcover</td>\n",
       "    </tr>\n",
       "    <tr>\n",
       "      <th>4</th>\n",
       "      <td>5</td>\n",
       "      <td>Addison Wesley Publishing Company</td>\n",
       "    </tr>\n",
       "    <tr>\n",
       "      <th>...</th>\n",
       "      <td>...</td>\n",
       "      <td>...</td>\n",
       "    </tr>\n",
       "    <tr>\n",
       "      <th>335</th>\n",
       "      <td>336</td>\n",
       "      <td>Workman Publishing Company</td>\n",
       "    </tr>\n",
       "    <tr>\n",
       "      <th>336</th>\n",
       "      <td>337</td>\n",
       "      <td>Wyatt Book</td>\n",
       "    </tr>\n",
       "    <tr>\n",
       "      <th>337</th>\n",
       "      <td>338</td>\n",
       "      <td>Yale University Press</td>\n",
       "    </tr>\n",
       "    <tr>\n",
       "      <th>338</th>\n",
       "      <td>339</td>\n",
       "      <td>Yearling</td>\n",
       "    </tr>\n",
       "    <tr>\n",
       "      <th>339</th>\n",
       "      <td>340</td>\n",
       "      <td>Yearling Books</td>\n",
       "    </tr>\n",
       "  </tbody>\n",
       "</table>\n",
       "<p>340 rows × 2 columns</p>\n",
       "</div>"
      ],
      "text/plain": [
       "     publisher_id                          publisher\n",
       "0               1                                Ace\n",
       "1               2                           Ace Book\n",
       "2               3                          Ace Books\n",
       "3               4                      Ace Hardcover\n",
       "4               5  Addison Wesley Publishing Company\n",
       "..            ...                                ...\n",
       "335           336         Workman Publishing Company\n",
       "336           337                         Wyatt Book\n",
       "337           338              Yale University Press\n",
       "338           339                           Yearling\n",
       "339           340                     Yearling Books\n",
       "\n",
       "[340 rows x 2 columns]"
      ]
     },
     "execution_count": 9,
     "metadata": {},
     "output_type": "execute_result"
    }
   ],
   "source": [
    "query = '''\n",
    "           SELECT * \n",
    "           FROM publishers\n",
    "           \n",
    "        '''\n",
    "pd.io.sql.read_sql(query, con = engine)"
   ]
  },
  {
   "cell_type": "markdown",
   "metadata": {},
   "source": [
    "В БД есть информация о 340 издателях."
   ]
  },
  {
   "cell_type": "markdown",
   "metadata": {
    "id": "fcCNZ3166DC6"
   },
   "source": [
    "### Таблица ratings"
   ]
  },
  {
   "cell_type": "code",
   "execution_count": 10,
   "metadata": {
    "colab": {
     "base_uri": "https://localhost:8080/",
     "height": 363
    },
    "id": "_2EXDNVK6HCf",
    "outputId": "2bad4573-6670-4a4c-89e1-eb79536addab"
   },
   "outputs": [
    {
     "data": {
      "text/html": [
       "<div>\n",
       "<style scoped>\n",
       "    .dataframe tbody tr th:only-of-type {\n",
       "        vertical-align: middle;\n",
       "    }\n",
       "\n",
       "    .dataframe tbody tr th {\n",
       "        vertical-align: top;\n",
       "    }\n",
       "\n",
       "    .dataframe thead th {\n",
       "        text-align: right;\n",
       "    }\n",
       "</style>\n",
       "<table border=\"1\" class=\"dataframe\">\n",
       "  <thead>\n",
       "    <tr style=\"text-align: right;\">\n",
       "      <th></th>\n",
       "      <th>rating_id</th>\n",
       "      <th>book_id</th>\n",
       "      <th>username</th>\n",
       "      <th>rating</th>\n",
       "    </tr>\n",
       "  </thead>\n",
       "  <tbody>\n",
       "    <tr>\n",
       "      <th>0</th>\n",
       "      <td>1</td>\n",
       "      <td>1</td>\n",
       "      <td>ryanfranco</td>\n",
       "      <td>4</td>\n",
       "    </tr>\n",
       "    <tr>\n",
       "      <th>1</th>\n",
       "      <td>2</td>\n",
       "      <td>1</td>\n",
       "      <td>grantpatricia</td>\n",
       "      <td>2</td>\n",
       "    </tr>\n",
       "    <tr>\n",
       "      <th>2</th>\n",
       "      <td>3</td>\n",
       "      <td>1</td>\n",
       "      <td>brandtandrea</td>\n",
       "      <td>5</td>\n",
       "    </tr>\n",
       "    <tr>\n",
       "      <th>3</th>\n",
       "      <td>4</td>\n",
       "      <td>2</td>\n",
       "      <td>lorichen</td>\n",
       "      <td>3</td>\n",
       "    </tr>\n",
       "    <tr>\n",
       "      <th>4</th>\n",
       "      <td>5</td>\n",
       "      <td>2</td>\n",
       "      <td>mariokeller</td>\n",
       "      <td>2</td>\n",
       "    </tr>\n",
       "    <tr>\n",
       "      <th>...</th>\n",
       "      <td>...</td>\n",
       "      <td>...</td>\n",
       "      <td>...</td>\n",
       "      <td>...</td>\n",
       "    </tr>\n",
       "    <tr>\n",
       "      <th>6451</th>\n",
       "      <td>6452</td>\n",
       "      <td>1000</td>\n",
       "      <td>carolrodriguez</td>\n",
       "      <td>4</td>\n",
       "    </tr>\n",
       "    <tr>\n",
       "      <th>6452</th>\n",
       "      <td>6453</td>\n",
       "      <td>1000</td>\n",
       "      <td>wendy18</td>\n",
       "      <td>4</td>\n",
       "    </tr>\n",
       "    <tr>\n",
       "      <th>6453</th>\n",
       "      <td>6454</td>\n",
       "      <td>1000</td>\n",
       "      <td>jarvispaul</td>\n",
       "      <td>5</td>\n",
       "    </tr>\n",
       "    <tr>\n",
       "      <th>6454</th>\n",
       "      <td>6455</td>\n",
       "      <td>1000</td>\n",
       "      <td>zross</td>\n",
       "      <td>2</td>\n",
       "    </tr>\n",
       "    <tr>\n",
       "      <th>6455</th>\n",
       "      <td>6456</td>\n",
       "      <td>1000</td>\n",
       "      <td>fharris</td>\n",
       "      <td>5</td>\n",
       "    </tr>\n",
       "  </tbody>\n",
       "</table>\n",
       "<p>6456 rows × 4 columns</p>\n",
       "</div>"
      ],
      "text/plain": [
       "      rating_id  book_id        username  rating\n",
       "0             1        1      ryanfranco       4\n",
       "1             2        1   grantpatricia       2\n",
       "2             3        1    brandtandrea       5\n",
       "3             4        2        lorichen       3\n",
       "4             5        2     mariokeller       2\n",
       "...         ...      ...             ...     ...\n",
       "6451       6452     1000  carolrodriguez       4\n",
       "6452       6453     1000         wendy18       4\n",
       "6453       6454     1000      jarvispaul       5\n",
       "6454       6455     1000           zross       2\n",
       "6455       6456     1000         fharris       5\n",
       "\n",
       "[6456 rows x 4 columns]"
      ]
     },
     "execution_count": 10,
     "metadata": {},
     "output_type": "execute_result"
    }
   ],
   "source": [
    "query = '''\n",
    "           SELECT * \n",
    "           FROM ratings\n",
    "           \n",
    "        '''\n",
    "pd.io.sql.read_sql(query, con = engine)"
   ]
  },
  {
   "cell_type": "markdown",
   "metadata": {},
   "source": [
    "В БД есть информация о 6456 проставленных оценках."
   ]
  },
  {
   "cell_type": "markdown",
   "metadata": {
    "id": "l_FgQa7x6Iyp"
   },
   "source": [
    "### Таблица reviews"
   ]
  },
  {
   "cell_type": "code",
   "execution_count": 11,
   "metadata": {
    "colab": {
     "base_uri": "https://localhost:8080/",
     "height": 363
    },
    "id": "PhiYTlbF6WYU",
    "outputId": "5787bfa3-22d0-4309-ea27-fc1f088b2127"
   },
   "outputs": [
    {
     "data": {
      "text/html": [
       "<div>\n",
       "<style scoped>\n",
       "    .dataframe tbody tr th:only-of-type {\n",
       "        vertical-align: middle;\n",
       "    }\n",
       "\n",
       "    .dataframe tbody tr th {\n",
       "        vertical-align: top;\n",
       "    }\n",
       "\n",
       "    .dataframe thead th {\n",
       "        text-align: right;\n",
       "    }\n",
       "</style>\n",
       "<table border=\"1\" class=\"dataframe\">\n",
       "  <thead>\n",
       "    <tr style=\"text-align: right;\">\n",
       "      <th></th>\n",
       "      <th>review_id</th>\n",
       "      <th>book_id</th>\n",
       "      <th>username</th>\n",
       "      <th>text</th>\n",
       "    </tr>\n",
       "  </thead>\n",
       "  <tbody>\n",
       "    <tr>\n",
       "      <th>0</th>\n",
       "      <td>1</td>\n",
       "      <td>1</td>\n",
       "      <td>brandtandrea</td>\n",
       "      <td>Mention society tell send professor analysis. ...</td>\n",
       "    </tr>\n",
       "    <tr>\n",
       "      <th>1</th>\n",
       "      <td>2</td>\n",
       "      <td>1</td>\n",
       "      <td>ryanfranco</td>\n",
       "      <td>Foot glass pretty audience hit themselves. Amo...</td>\n",
       "    </tr>\n",
       "    <tr>\n",
       "      <th>2</th>\n",
       "      <td>3</td>\n",
       "      <td>2</td>\n",
       "      <td>lorichen</td>\n",
       "      <td>Listen treat keep worry. Miss husband tax but ...</td>\n",
       "    </tr>\n",
       "    <tr>\n",
       "      <th>3</th>\n",
       "      <td>4</td>\n",
       "      <td>3</td>\n",
       "      <td>johnsonamanda</td>\n",
       "      <td>Finally month interesting blue could nature cu...</td>\n",
       "    </tr>\n",
       "    <tr>\n",
       "      <th>4</th>\n",
       "      <td>5</td>\n",
       "      <td>3</td>\n",
       "      <td>scotttamara</td>\n",
       "      <td>Nation purpose heavy give wait song will. List...</td>\n",
       "    </tr>\n",
       "    <tr>\n",
       "      <th>...</th>\n",
       "      <td>...</td>\n",
       "      <td>...</td>\n",
       "      <td>...</td>\n",
       "      <td>...</td>\n",
       "    </tr>\n",
       "    <tr>\n",
       "      <th>2788</th>\n",
       "      <td>2789</td>\n",
       "      <td>999</td>\n",
       "      <td>martinadam</td>\n",
       "      <td>Later hospital turn easy community. Fact same ...</td>\n",
       "    </tr>\n",
       "    <tr>\n",
       "      <th>2789</th>\n",
       "      <td>2790</td>\n",
       "      <td>1000</td>\n",
       "      <td>wknight</td>\n",
       "      <td>Change lose answer close pressure. Spend so now.</td>\n",
       "    </tr>\n",
       "    <tr>\n",
       "      <th>2790</th>\n",
       "      <td>2791</td>\n",
       "      <td>1000</td>\n",
       "      <td>carolrodriguez</td>\n",
       "      <td>Authority go who television entire hair guy po...</td>\n",
       "    </tr>\n",
       "    <tr>\n",
       "      <th>2791</th>\n",
       "      <td>2792</td>\n",
       "      <td>1000</td>\n",
       "      <td>wendy18</td>\n",
       "      <td>Or western offer wonder ask. More hear phone f...</td>\n",
       "    </tr>\n",
       "    <tr>\n",
       "      <th>2792</th>\n",
       "      <td>2793</td>\n",
       "      <td>1000</td>\n",
       "      <td>jarvispaul</td>\n",
       "      <td>Republican staff bit eat material measure plan...</td>\n",
       "    </tr>\n",
       "  </tbody>\n",
       "</table>\n",
       "<p>2793 rows × 4 columns</p>\n",
       "</div>"
      ],
      "text/plain": [
       "      review_id  book_id        username  \\\n",
       "0             1        1    brandtandrea   \n",
       "1             2        1      ryanfranco   \n",
       "2             3        2        lorichen   \n",
       "3             4        3   johnsonamanda   \n",
       "4             5        3     scotttamara   \n",
       "...         ...      ...             ...   \n",
       "2788       2789      999      martinadam   \n",
       "2789       2790     1000         wknight   \n",
       "2790       2791     1000  carolrodriguez   \n",
       "2791       2792     1000         wendy18   \n",
       "2792       2793     1000      jarvispaul   \n",
       "\n",
       "                                                   text  \n",
       "0     Mention society tell send professor analysis. ...  \n",
       "1     Foot glass pretty audience hit themselves. Amo...  \n",
       "2     Listen treat keep worry. Miss husband tax but ...  \n",
       "3     Finally month interesting blue could nature cu...  \n",
       "4     Nation purpose heavy give wait song will. List...  \n",
       "...                                                 ...  \n",
       "2788  Later hospital turn easy community. Fact same ...  \n",
       "2789   Change lose answer close pressure. Spend so now.  \n",
       "2790  Authority go who television entire hair guy po...  \n",
       "2791  Or western offer wonder ask. More hear phone f...  \n",
       "2792  Republican staff bit eat material measure plan...  \n",
       "\n",
       "[2793 rows x 4 columns]"
      ]
     },
     "execution_count": 11,
     "metadata": {},
     "output_type": "execute_result"
    }
   ],
   "source": [
    "query = '''\n",
    "           SELECT * \n",
    "           FROM reviews\n",
    "           \n",
    "        '''\n",
    "pd.io.sql.read_sql(query, con = engine)"
   ]
  },
  {
   "cell_type": "markdown",
   "metadata": {},
   "source": [
    "В БД есть информация о 2793 отзывах."
   ]
  },
  {
   "cell_type": "markdown",
   "metadata": {
    "id": "jUY1vkMX7F0e"
   },
   "source": [
    "### Вывод по таблицам\n",
    "\n",
    "Всего есть 5 таблиц с данными.\n",
    "\n",
    "Основная таблица books, с ней связаны другие таблицы посредством первичных и внешних ключей.\n",
    "\n",
    "В БД содержится информация о:\n",
    "- 1000 книг\n",
    "- 636 авторах\n",
    "- 340 издельствах\n",
    "- 6456 оценок\n",
    "- 2793 отзывов\n",
    "\n",
    "Столбцы таблиц описаны в \"описании данных\", мы не будем повторяться."
   ]
  },
  {
   "cell_type": "markdown",
   "metadata": {
    "id": "hc2PyiEZ4QEn"
   },
   "source": [
    "## Выполнение заданий"
   ]
  },
  {
   "cell_type": "markdown",
   "metadata": {
    "id": "1UHFKa474Tu1"
   },
   "source": [
    "### Посчитайте, сколько книг вышло после 1 января 2000 года;"
   ]
  },
  {
   "cell_type": "code",
   "execution_count": 12,
   "metadata": {
    "colab": {
     "base_uri": "https://localhost:8080/",
     "height": 81
    },
    "id": "kUKLgQcI1vvq",
    "outputId": "0bb1dcb1-66ad-4a9a-e341-38487c632f36"
   },
   "outputs": [
    {
     "data": {
      "text/html": [
       "<div>\n",
       "<style scoped>\n",
       "    .dataframe tbody tr th:only-of-type {\n",
       "        vertical-align: middle;\n",
       "    }\n",
       "\n",
       "    .dataframe tbody tr th {\n",
       "        vertical-align: top;\n",
       "    }\n",
       "\n",
       "    .dataframe thead th {\n",
       "        text-align: right;\n",
       "    }\n",
       "</style>\n",
       "<table border=\"1\" class=\"dataframe\">\n",
       "  <thead>\n",
       "    <tr style=\"text-align: right;\">\n",
       "      <th></th>\n",
       "      <th>count</th>\n",
       "    </tr>\n",
       "  </thead>\n",
       "  <tbody>\n",
       "    <tr>\n",
       "      <th>0</th>\n",
       "      <td>819</td>\n",
       "    </tr>\n",
       "  </tbody>\n",
       "</table>\n",
       "</div>"
      ],
      "text/plain": [
       "   count\n",
       "0    819"
      ]
     },
     "execution_count": 12,
     "metadata": {},
     "output_type": "execute_result"
    }
   ],
   "source": [
    "query = '''\n",
    "           SELECT COUNT(title) \n",
    "           FROM books\n",
    "           WHERE CAST(publication_date AS timestamp) > '2000-01-01';\n",
    "        '''\n",
    "pd.io.sql.read_sql(query, con = engine)"
   ]
  },
  {
   "cell_type": "markdown",
   "metadata": {
    "id": "XtUO20KEBEDR"
   },
   "source": [
    "После 1 января 2000 года вышло 819 книг (но если смотреть уникальные названия title, то 818, возможно у одной книги переиздание?)"
   ]
  },
  {
   "cell_type": "markdown",
   "metadata": {
    "id": "pqN0G7emBGjG"
   },
   "source": [
    "### Для каждой книги посчитайте количество обзоров и среднюю оценку;"
   ]
  },
  {
   "cell_type": "code",
   "execution_count": 13,
   "metadata": {
    "scrolled": false
   },
   "outputs": [
    {
     "data": {
      "text/html": [
       "<div>\n",
       "<style scoped>\n",
       "    .dataframe tbody tr th:only-of-type {\n",
       "        vertical-align: middle;\n",
       "    }\n",
       "\n",
       "    .dataframe tbody tr th {\n",
       "        vertical-align: top;\n",
       "    }\n",
       "\n",
       "    .dataframe thead th {\n",
       "        text-align: right;\n",
       "    }\n",
       "</style>\n",
       "<table border=\"1\" class=\"dataframe\">\n",
       "  <thead>\n",
       "    <tr style=\"text-align: right;\">\n",
       "      <th></th>\n",
       "      <th>Наименование книги</th>\n",
       "      <th>Количество обзоров</th>\n",
       "      <th>Средняя оценка</th>\n",
       "    </tr>\n",
       "  </thead>\n",
       "  <tbody>\n",
       "    <tr>\n",
       "      <th>0</th>\n",
       "      <td>Anne Rice's The Vampire Lestat: A Graphic Novel</td>\n",
       "      <td>NaN</td>\n",
       "      <td>3.666667</td>\n",
       "    </tr>\n",
       "    <tr>\n",
       "      <th>1</th>\n",
       "      <td>Disney's Beauty and the Beast (A Little Golden...</td>\n",
       "      <td>NaN</td>\n",
       "      <td>4.000000</td>\n",
       "    </tr>\n",
       "    <tr>\n",
       "      <th>2</th>\n",
       "      <td>Essential Tales and Poems</td>\n",
       "      <td>NaN</td>\n",
       "      <td>4.000000</td>\n",
       "    </tr>\n",
       "    <tr>\n",
       "      <th>3</th>\n",
       "      <td>Leonardo's Notebooks</td>\n",
       "      <td>NaN</td>\n",
       "      <td>4.000000</td>\n",
       "    </tr>\n",
       "    <tr>\n",
       "      <th>4</th>\n",
       "      <td>The Cat in the Hat and Other Dr. Seuss Favorites</td>\n",
       "      <td>NaN</td>\n",
       "      <td>5.000000</td>\n",
       "    </tr>\n",
       "    <tr>\n",
       "      <th>...</th>\n",
       "      <td>...</td>\n",
       "      <td>...</td>\n",
       "      <td>...</td>\n",
       "    </tr>\n",
       "    <tr>\n",
       "      <th>995</th>\n",
       "      <td>The Social Contract</td>\n",
       "      <td>1.0</td>\n",
       "      <td>3.500000</td>\n",
       "    </tr>\n",
       "    <tr>\n",
       "      <th>996</th>\n",
       "      <td>To Green Angel Tower (Memory  Sorrow  and Thor...</td>\n",
       "      <td>1.0</td>\n",
       "      <td>4.500000</td>\n",
       "    </tr>\n",
       "    <tr>\n",
       "      <th>997</th>\n",
       "      <td>Tsubasa: RESERVoir CHRoNiCLE  Vol. 1</td>\n",
       "      <td>1.0</td>\n",
       "      <td>2.500000</td>\n",
       "    </tr>\n",
       "    <tr>\n",
       "      <th>998</th>\n",
       "      <td>Wicked: The Grimmerie</td>\n",
       "      <td>1.0</td>\n",
       "      <td>3.500000</td>\n",
       "    </tr>\n",
       "    <tr>\n",
       "      <th>999</th>\n",
       "      <td>Winter Prey (Lucas Davenport  #5)</td>\n",
       "      <td>1.0</td>\n",
       "      <td>4.500000</td>\n",
       "    </tr>\n",
       "  </tbody>\n",
       "</table>\n",
       "<p>1000 rows × 3 columns</p>\n",
       "</div>"
      ],
      "text/plain": [
       "                                    Наименование книги  Количество обзоров  \\\n",
       "0      Anne Rice's The Vampire Lestat: A Graphic Novel                 NaN   \n",
       "1    Disney's Beauty and the Beast (A Little Golden...                 NaN   \n",
       "2                            Essential Tales and Poems                 NaN   \n",
       "3                                 Leonardo's Notebooks                 NaN   \n",
       "4     The Cat in the Hat and Other Dr. Seuss Favorites                 NaN   \n",
       "..                                                 ...                 ...   \n",
       "995                                The Social Contract                 1.0   \n",
       "996  To Green Angel Tower (Memory  Sorrow  and Thor...                 1.0   \n",
       "997               Tsubasa: RESERVoir CHRoNiCLE  Vol. 1                 1.0   \n",
       "998                              Wicked: The Grimmerie                 1.0   \n",
       "999                  Winter Prey (Lucas Davenport  #5)                 1.0   \n",
       "\n",
       "     Средняя оценка  \n",
       "0          3.666667  \n",
       "1          4.000000  \n",
       "2          4.000000  \n",
       "3          4.000000  \n",
       "4          5.000000  \n",
       "..              ...  \n",
       "995        3.500000  \n",
       "996        4.500000  \n",
       "997        2.500000  \n",
       "998        3.500000  \n",
       "999        4.500000  \n",
       "\n",
       "[1000 rows x 3 columns]"
      ]
     },
     "execution_count": 13,
     "metadata": {},
     "output_type": "execute_result"
    }
   ],
   "source": [
    "query = '''\n",
    "            SELECT b.title AS \"Наименование книги\", \n",
    "                   rv.\"Количество обзоров\",\n",
    "                   AVG(rt.rating) AS \"Средняя оценка\"\n",
    "            FROM books b\n",
    "            LEFT JOIN (SELECT book_id, \n",
    "                              COUNT(text) AS \"Количество обзоров\"\n",
    "                       FROM reviews\n",
    "                       GROUP BY book_id) AS rv ON b.book_id=rv.book_id\n",
    "            LEFT JOIN ratings rt ON b.book_id=rt.book_id\n",
    "            --WHERE \"Количество обзоров\" IS NOT NULL\n",
    "            GROUP BY b.title, rv.\"Количество обзоров\"\n",
    "            ORDER BY rv.\"Количество обзоров\" DESC\n",
    "            --LIMIT 50\n",
    "        '''\n",
    "\n",
    "pd.io.sql.read_sql(query, con = engine)"
   ]
  },
  {
   "cell_type": "markdown",
   "metadata": {
    "id": "c8ZxCwJ4ou15"
   },
   "source": [
    "Больше всего обзоров на книгу Twilight (Twilight #1)."
   ]
  },
  {
   "cell_type": "markdown",
   "metadata": {
    "id": "ifv6Xc_dlFwI"
   },
   "source": [
    "### Определите издательство, которое выпустило наибольшее число книг толще 50 страниц — так вы исключите из анализа брошюры;"
   ]
  },
  {
   "cell_type": "code",
   "execution_count": 15,
   "metadata": {
    "colab": {
     "base_uri": "https://localhost:8080/",
     "height": 81
    },
    "id": "IiMx-oKsAnRb",
    "outputId": "c9c89d08-c2e5-44c1-e4dd-a12fcea21828"
   },
   "outputs": [
    {
     "data": {
      "text/html": [
       "<div>\n",
       "<style scoped>\n",
       "    .dataframe tbody tr th:only-of-type {\n",
       "        vertical-align: middle;\n",
       "    }\n",
       "\n",
       "    .dataframe tbody tr th {\n",
       "        vertical-align: top;\n",
       "    }\n",
       "\n",
       "    .dataframe thead th {\n",
       "        text-align: right;\n",
       "    }\n",
       "</style>\n",
       "<table border=\"1\" class=\"dataframe\">\n",
       "  <thead>\n",
       "    <tr style=\"text-align: right;\">\n",
       "      <th></th>\n",
       "      <th>Издательство</th>\n",
       "      <th>Кол-во книг</th>\n",
       "    </tr>\n",
       "  </thead>\n",
       "  <tbody>\n",
       "    <tr>\n",
       "      <th>0</th>\n",
       "      <td>Penguin Books</td>\n",
       "      <td>42</td>\n",
       "    </tr>\n",
       "  </tbody>\n",
       "</table>\n",
       "</div>"
      ],
      "text/plain": [
       "    Издательство  Кол-во книг\n",
       "0  Penguin Books           42"
      ]
     },
     "execution_count": 15,
     "metadata": {},
     "output_type": "execute_result"
    }
   ],
   "source": [
    "query = '''\n",
    "           SELECT p.publisher AS \"Издательство\", COUNT(b.book_id) AS \"Кол-во книг\"\n",
    "           FROM books b\n",
    "           LEFT JOIN publishers p ON b.publisher_id=p.publisher_id\n",
    "           WHERE b.num_pages > 50\n",
    "           GROUP BY p.publisher\n",
    "           ORDER BY \"Кол-во книг\" DESC\n",
    "           LIMIT 1\n",
    "        '''\n",
    "pd.io.sql.read_sql(query, con = engine)"
   ]
  },
  {
   "cell_type": "markdown",
   "metadata": {
    "id": "rKkotZOAo8TJ"
   },
   "source": [
    "Издательство, которое выпустило наибольшее число книг толще 50 страниц — Penguin Books."
   ]
  },
  {
   "cell_type": "markdown",
   "metadata": {
    "id": "IojXYDsQzbB9"
   },
   "source": [
    "### Определите автора с самой высокой средней оценкой книг — учитывайте только книги с 50 и более оценками;"
   ]
  },
  {
   "cell_type": "code",
   "execution_count": 16,
   "metadata": {
    "colab": {
     "base_uri": "https://localhost:8080/",
     "height": 81
    },
    "id": "_h3oRLdsoUwg",
    "outputId": "fc8ce81f-15e9-435c-fa8e-abc0b66138b1"
   },
   "outputs": [
    {
     "data": {
      "text/html": [
       "<div>\n",
       "<style scoped>\n",
       "    .dataframe tbody tr th:only-of-type {\n",
       "        vertical-align: middle;\n",
       "    }\n",
       "\n",
       "    .dataframe tbody tr th {\n",
       "        vertical-align: top;\n",
       "    }\n",
       "\n",
       "    .dataframe thead th {\n",
       "        text-align: right;\n",
       "    }\n",
       "</style>\n",
       "<table border=\"1\" class=\"dataframe\">\n",
       "  <thead>\n",
       "    <tr style=\"text-align: right;\">\n",
       "      <th></th>\n",
       "      <th>author</th>\n",
       "    </tr>\n",
       "  </thead>\n",
       "  <tbody>\n",
       "    <tr>\n",
       "      <th>0</th>\n",
       "      <td>J.K. Rowling/Mary GrandPré</td>\n",
       "    </tr>\n",
       "  </tbody>\n",
       "</table>\n",
       "</div>"
      ],
      "text/plain": [
       "                       author\n",
       "0  J.K. Rowling/Mary GrandPré"
      ]
     },
     "execution_count": 16,
     "metadata": {},
     "output_type": "execute_result"
    }
   ],
   "source": [
    "query = '''\n",
    "           SELECT best_rating.author\n",
    "           FROM (\n",
    "                 SELECT a.author, COUNT(r.rating), AVG(r.rating)\n",
    "                 FROM books b\n",
    "                 JOIN ratings r ON b.book_id=r.book_id\n",
    "                 JOIN authors a ON b.author_id=a.author_id\n",
    "                 GROUP BY a.author\n",
    "                 HAVING COUNT(r.rating) > 50\n",
    "                 ORDER BY avg DESC) best_rating\n",
    "           LIMIT 1\n",
    "        '''\n",
    "pd.io.sql.read_sql(query, con = engine)"
   ]
  },
  {
   "cell_type": "markdown",
   "metadata": {
    "id": "lzcjfEKB5u73"
   },
   "source": [
    "Автор с самой выской средней оценкой книг - J.K. Rowling/Mary GrandPré."
   ]
  },
  {
   "cell_type": "markdown",
   "metadata": {
    "id": "QtqIsCr752rw"
   },
   "source": [
    "### Посчитайте среднее количество обзоров от пользователей, которые поставили больше 50 оценок."
   ]
  },
  {
   "cell_type": "code",
   "execution_count": 17,
   "metadata": {
    "colab": {
     "base_uri": "https://localhost:8080/",
     "height": 81
    },
    "id": "z-cGDxk_J3Zp",
    "outputId": "9ce8e2d2-c511-4eac-dd3a-7b9a22562186",
    "scrolled": true
   },
   "outputs": [
    {
     "data": {
      "text/html": [
       "<div>\n",
       "<style scoped>\n",
       "    .dataframe tbody tr th:only-of-type {\n",
       "        vertical-align: middle;\n",
       "    }\n",
       "\n",
       "    .dataframe tbody tr th {\n",
       "        vertical-align: top;\n",
       "    }\n",
       "\n",
       "    .dataframe thead th {\n",
       "        text-align: right;\n",
       "    }\n",
       "</style>\n",
       "<table border=\"1\" class=\"dataframe\">\n",
       "  <thead>\n",
       "    <tr style=\"text-align: right;\">\n",
       "      <th></th>\n",
       "      <th>avg_review</th>\n",
       "    </tr>\n",
       "  </thead>\n",
       "  <tbody>\n",
       "    <tr>\n",
       "      <th>0</th>\n",
       "      <td>24</td>\n",
       "    </tr>\n",
       "  </tbody>\n",
       "</table>\n",
       "</div>"
      ],
      "text/plain": [
       "   avg_review\n",
       "0          24"
      ]
     },
     "execution_count": 17,
     "metadata": {},
     "output_type": "execute_result"
    }
   ],
   "source": [
    "query = '''\n",
    "           SELECT COUNT(rv.text)/COUNT(DISTINCT rv.username) AS avg_review\n",
    "           FROM reviews rv\n",
    "           WHERE rv.username IN (SELECT rt.username \n",
    "                                 FROM ratings rt\n",
    "                                 GROUP BY rt.username\n",
    "                                 HAVING COUNT(rt.rating) > 50 \n",
    "                                 ORDER BY COUNT(rt.rating) DESC)\n",
    "           --GROUP BY rv.username\n",
    "\n",
    "        '''\n",
    "pd.io.sql.read_sql(query, con = engine)"
   ]
  },
  {
   "cell_type": "markdown",
   "metadata": {
    "id": "AWpFknZnfuqr"
   },
   "source": [
    "Среднее количество обзоров от пользователей, поставивших более 50 оценок - **24**."
   ]
  },
  {
   "cell_type": "markdown",
   "metadata": {},
   "source": [
    "## Вывод"
   ]
  },
  {
   "cell_type": "markdown",
   "metadata": {},
   "source": [
    "В базе данных содержится информация о:\n",
    "- 1000 книг\n",
    "- 636 авторах\n",
    "- 340 издельствах\n",
    "- 6456 оценок книг\n",
    "- 2793 отзывов о книгах\n",
    "\n",
    "\n",
    "- После 1 января 2000 года вышло 819 книг (т.е.82% от общего количества в БД).\n",
    "- Больше всего обзоров на книгу Twilight (Twilight #1).\n",
    "- Издательство, которое выпустило наибольшее число книг толще 50 страниц — Penguin Books.\n",
    "- Автор с самой выской средней оценкой книг - J.K. Rowling/Mary GrandPré.\n",
    "- Среднее количество обзоров от пользователей, поставивших более 50 оценок - 24.\n",
    "\n",
    "Нужно сформировать ценностное предложение для сервиса. Честно говоря, на основании выполненных заданий ничего в голову стоящего не приходит.\n",
    "\n",
    "Возможно стоит увеличить базу книг, а то их всего 1000, для \"крупного\" сервиса на мой взгляд малова-то. При этом на эту 1000 книг приходится 636 авторов, тоже знаете ли малова-то. Нужно привлечь побольше авторов. Что касается пользователей, то они достаточно активные, много оценок и отзывов оставлено. Нужно попытаться не потерять аудиторию, для этого понять что их побуждает оставлять оценки и комменты, мне кажется это редкость. Кстати, 82% книг вышло после 2000 года, я полагаю что имеется ввиду напечатано в конкретном издательстве. Если нет, то возможно стоит добавить классических произведений."
   ]
  },
  {
   "cell_type": "code",
   "execution_count": null,
   "metadata": {},
   "outputs": [],
   "source": []
  }
 ],
 "metadata": {
  "ExecuteTimeLog": [
   {
    "duration": 4,
    "start_time": "2022-06-25T19:59:16.067Z"
   },
   {
    "duration": 498,
    "start_time": "2022-06-25T19:59:16.073Z"
   },
   {
    "duration": 3,
    "start_time": "2022-06-25T19:59:16.573Z"
   },
   {
    "duration": 28,
    "start_time": "2022-06-25T19:59:16.578Z"
   },
   {
    "duration": 2662,
    "start_time": "2022-06-25T19:59:16.609Z"
   },
   {
    "duration": 9250,
    "start_time": "2022-06-25T19:59:19.273Z"
   },
   {
    "duration": 240,
    "start_time": "2022-06-25T19:59:28.524Z"
   },
   {
    "duration": 65,
    "start_time": "2022-06-25T19:59:28.766Z"
   },
   {
    "duration": 69,
    "start_time": "2022-06-25T19:59:28.833Z"
   },
   {
    "duration": 66,
    "start_time": "2022-06-25T19:59:28.904Z"
   },
   {
    "duration": 67,
    "start_time": "2022-06-25T19:59:28.972Z"
   },
   {
    "duration": 66,
    "start_time": "2022-06-25T19:59:29.041Z"
   },
   {
    "duration": 102,
    "start_time": "2022-06-25T19:59:29.109Z"
   },
   {
    "duration": 66,
    "start_time": "2022-06-25T19:59:29.212Z"
   },
   {
    "duration": 71,
    "start_time": "2022-06-25T19:59:29.279Z"
   },
   {
    "duration": 73,
    "start_time": "2022-06-25T19:59:29.352Z"
   },
   {
    "duration": 69,
    "start_time": "2022-06-25T20:01:43.046Z"
   },
   {
    "duration": 206,
    "start_time": "2022-06-25T20:02:07.691Z"
   },
   {
    "duration": 91,
    "start_time": "2022-06-25T20:02:21.590Z"
   },
   {
    "duration": 68,
    "start_time": "2022-06-25T20:02:37.279Z"
   },
   {
    "duration": 3,
    "start_time": "2022-06-25T20:32:12.104Z"
   },
   {
    "duration": 482,
    "start_time": "2022-06-25T20:32:12.112Z"
   },
   {
    "duration": 2,
    "start_time": "2022-06-25T20:32:12.596Z"
   },
   {
    "duration": 8,
    "start_time": "2022-06-25T20:32:12.600Z"
   },
   {
    "duration": 2412,
    "start_time": "2022-06-25T20:32:12.609Z"
   },
   {
    "duration": 5883,
    "start_time": "2022-06-25T20:32:15.023Z"
   },
   {
    "duration": 308,
    "start_time": "2022-06-25T20:32:20.907Z"
   },
   {
    "duration": 67,
    "start_time": "2022-06-25T20:32:21.217Z"
   },
   {
    "duration": 68,
    "start_time": "2022-06-25T20:32:21.286Z"
   },
   {
    "duration": 67,
    "start_time": "2022-06-25T20:32:21.356Z"
   },
   {
    "duration": 69,
    "start_time": "2022-06-25T20:32:21.425Z"
   },
   {
    "duration": 66,
    "start_time": "2022-06-25T20:32:21.496Z"
   },
   {
    "duration": 104,
    "start_time": "2022-06-25T20:32:21.564Z"
   },
   {
    "duration": 70,
    "start_time": "2022-06-25T20:32:21.670Z"
   },
   {
    "duration": 69,
    "start_time": "2022-06-25T20:32:21.741Z"
   },
   {
    "duration": 67,
    "start_time": "2022-06-25T20:32:21.812Z"
   },
   {
    "duration": 105,
    "start_time": "2022-06-25T20:46:37.281Z"
   },
   {
    "duration": 120,
    "start_time": "2022-06-25T20:47:31.458Z"
   },
   {
    "duration": 3,
    "start_time": "2022-06-25T20:48:28.105Z"
   },
   {
    "duration": 109,
    "start_time": "2022-06-25T20:48:38.648Z"
   },
   {
    "duration": 106,
    "start_time": "2022-06-25T20:50:37.657Z"
   },
   {
    "duration": 2,
    "start_time": "2022-06-25T20:51:56.720Z"
   },
   {
    "duration": 3,
    "start_time": "2022-06-25T20:52:15.496Z"
   },
   {
    "duration": 76,
    "start_time": "2022-06-25T20:53:06.820Z"
   },
   {
    "duration": 82,
    "start_time": "2022-06-25T20:54:05.027Z"
   },
   {
    "duration": 209,
    "start_time": "2022-06-25T20:54:21.767Z"
   },
   {
    "duration": 131,
    "start_time": "2022-06-25T20:54:28.779Z"
   },
   {
    "duration": 133,
    "start_time": "2022-06-25T20:54:33.125Z"
   },
   {
    "duration": 141,
    "start_time": "2022-06-25T20:55:23.308Z"
   },
   {
    "duration": 145,
    "start_time": "2022-06-25T20:59:22.359Z"
   },
   {
    "duration": 121,
    "start_time": "2022-06-25T20:59:35.926Z"
   },
   {
    "duration": 3,
    "start_time": "2022-06-25T20:59:42.413Z"
   },
   {
    "duration": 3,
    "start_time": "2022-06-25T20:59:43.221Z"
   },
   {
    "duration": 3,
    "start_time": "2022-06-25T20:59:43.910Z"
   },
   {
    "duration": 2225,
    "start_time": "2022-06-25T20:59:44.569Z"
   },
   {
    "duration": 4,
    "start_time": "2022-06-25T20:59:53.891Z"
   },
   {
    "duration": 528,
    "start_time": "2022-06-25T20:59:53.898Z"
   },
   {
    "duration": 3,
    "start_time": "2022-06-25T20:59:54.430Z"
   },
   {
    "duration": 12,
    "start_time": "2022-06-25T20:59:54.436Z"
   },
   {
    "duration": 2187,
    "start_time": "2022-06-25T20:59:54.450Z"
   },
   {
    "duration": 8695,
    "start_time": "2022-06-25T20:59:56.639Z"
   },
   {
    "duration": 244,
    "start_time": "2022-06-25T21:00:05.336Z"
   },
   {
    "duration": 66,
    "start_time": "2022-06-25T21:00:05.582Z"
   },
   {
    "duration": 75,
    "start_time": "2022-06-25T21:00:05.649Z"
   },
   {
    "duration": 71,
    "start_time": "2022-06-25T21:00:05.726Z"
   },
   {
    "duration": 68,
    "start_time": "2022-06-25T21:00:05.798Z"
   },
   {
    "duration": 65,
    "start_time": "2022-06-25T21:00:05.871Z"
   },
   {
    "duration": 112,
    "start_time": "2022-06-25T21:00:05.938Z"
   },
   {
    "duration": 3,
    "start_time": "2022-06-25T21:00:06.052Z"
   },
   {
    "duration": 53,
    "start_time": "2022-06-25T21:00:06.056Z"
   },
   {
    "duration": 216,
    "start_time": "2022-06-25T21:00:06.111Z"
   },
   {
    "duration": 0,
    "start_time": "2022-06-25T21:00:06.329Z"
   },
   {
    "duration": 0,
    "start_time": "2022-06-25T21:00:06.330Z"
   },
   {
    "duration": 85,
    "start_time": "2022-06-25T21:00:36.394Z"
   },
   {
    "duration": 155,
    "start_time": "2022-06-25T21:01:18.413Z"
   },
   {
    "duration": 159,
    "start_time": "2022-06-25T21:01:26.573Z"
   },
   {
    "duration": 75,
    "start_time": "2022-06-25T21:01:32.781Z"
   },
   {
    "duration": 69,
    "start_time": "2022-06-25T21:01:48.356Z"
   },
   {
    "duration": 70,
    "start_time": "2022-06-25T21:01:58.069Z"
   },
   {
    "duration": 76,
    "start_time": "2022-06-25T21:02:09.208Z"
   },
   {
    "duration": 4,
    "start_time": "2022-06-26T06:23:55.624Z"
   },
   {
    "duration": 512,
    "start_time": "2022-06-26T06:23:55.630Z"
   },
   {
    "duration": 3,
    "start_time": "2022-06-26T06:23:56.144Z"
   },
   {
    "duration": 8,
    "start_time": "2022-06-26T06:23:56.152Z"
   },
   {
    "duration": 1984,
    "start_time": "2022-06-26T06:23:56.162Z"
   },
   {
    "duration": 6773,
    "start_time": "2022-06-26T06:23:58.148Z"
   },
   {
    "duration": 297,
    "start_time": "2022-06-26T06:24:04.922Z"
   },
   {
    "duration": 78,
    "start_time": "2022-06-26T06:24:05.221Z"
   },
   {
    "duration": 79,
    "start_time": "2022-06-26T06:24:05.300Z"
   },
   {
    "duration": 69,
    "start_time": "2022-06-26T06:24:05.380Z"
   },
   {
    "duration": 82,
    "start_time": "2022-06-26T06:24:05.451Z"
   },
   {
    "duration": 74,
    "start_time": "2022-06-26T06:24:05.534Z"
   },
   {
    "duration": 110,
    "start_time": "2022-06-26T06:24:05.609Z"
   },
   {
    "duration": 3,
    "start_time": "2022-06-26T06:24:05.721Z"
   },
   {
    "duration": 5,
    "start_time": "2022-06-26T06:24:05.725Z"
   },
   {
    "duration": 70,
    "start_time": "2022-06-26T06:24:05.731Z"
   },
   {
    "duration": 76,
    "start_time": "2022-06-26T06:24:05.804Z"
   },
   {
    "duration": 77,
    "start_time": "2022-06-26T06:24:05.882Z"
   },
   {
    "duration": 105,
    "start_time": "2022-06-26T06:31:15.566Z"
   },
   {
    "duration": 101,
    "start_time": "2022-06-26T06:31:49.817Z"
   },
   {
    "duration": 71,
    "start_time": "2022-06-26T06:32:33.913Z"
   },
   {
    "duration": 134,
    "start_time": "2022-06-26T06:33:04.593Z"
   },
   {
    "duration": 119,
    "start_time": "2022-06-26T06:33:33.682Z"
   },
   {
    "duration": 46,
    "start_time": "2022-06-26T06:36:57.600Z"
   },
   {
    "duration": 100,
    "start_time": "2022-06-26T06:37:17.944Z"
   },
   {
    "duration": 3,
    "start_time": "2022-06-26T06:37:36.417Z"
   },
   {
    "duration": 179,
    "start_time": "2022-06-26T06:39:00.199Z"
   },
   {
    "duration": 361,
    "start_time": "2022-06-26T06:39:34.102Z"
   },
   {
    "duration": 108,
    "start_time": "2022-06-26T06:42:28.941Z"
   },
   {
    "duration": 113,
    "start_time": "2022-06-26T06:43:36.044Z"
   },
   {
    "duration": 114,
    "start_time": "2022-06-26T06:43:41.212Z"
   },
   {
    "duration": 113,
    "start_time": "2022-06-26T06:43:46.925Z"
   },
   {
    "duration": 3,
    "start_time": "2022-06-26T06:44:21.476Z"
   },
   {
    "duration": 3,
    "start_time": "2022-06-26T06:44:26.172Z"
   },
   {
    "duration": 119,
    "start_time": "2022-06-26T06:44:30.147Z"
   },
   {
    "duration": 3,
    "start_time": "2022-06-26T06:47:13.609Z"
   },
   {
    "duration": 122,
    "start_time": "2022-06-26T06:47:20.556Z"
   },
   {
    "duration": 74,
    "start_time": "2022-06-26T06:47:30.506Z"
   },
   {
    "duration": 82,
    "start_time": "2022-06-26T06:48:01.962Z"
   },
   {
    "duration": 91,
    "start_time": "2022-06-26T06:48:58.451Z"
   },
   {
    "duration": 175,
    "start_time": "2022-06-26T06:50:19.088Z"
   },
   {
    "duration": 90,
    "start_time": "2022-06-26T06:50:39.298Z"
   },
   {
    "duration": 90,
    "start_time": "2022-06-26T06:52:30.342Z"
   },
   {
    "duration": 85,
    "start_time": "2022-06-26T06:52:38.606Z"
   },
   {
    "duration": 89,
    "start_time": "2022-06-26T06:53:44.821Z"
   },
   {
    "duration": 166,
    "start_time": "2022-06-26T06:55:36.684Z"
   },
   {
    "duration": 128,
    "start_time": "2022-06-26T06:56:15.461Z"
   },
   {
    "duration": 192,
    "start_time": "2022-06-26T06:56:29.386Z"
   },
   {
    "duration": 87,
    "start_time": "2022-06-26T06:57:04.869Z"
   },
   {
    "duration": 104,
    "start_time": "2022-06-26T06:57:57.580Z"
   },
   {
    "duration": 101,
    "start_time": "2022-06-26T06:58:13.715Z"
   },
   {
    "duration": 100,
    "start_time": "2022-06-26T06:58:32.045Z"
   },
   {
    "duration": 84,
    "start_time": "2022-06-26T06:59:04.587Z"
   },
   {
    "duration": 96,
    "start_time": "2022-06-26T06:59:08.441Z"
   },
   {
    "duration": 106,
    "start_time": "2022-06-26T07:06:55.686Z"
   },
   {
    "duration": 103,
    "start_time": "2022-06-26T07:07:15.702Z"
   },
   {
    "duration": 96,
    "start_time": "2022-06-26T07:07:19.708Z"
   },
   {
    "duration": 3,
    "start_time": "2022-06-26T18:47:05.421Z"
   },
   {
    "duration": 477,
    "start_time": "2022-06-26T18:47:05.426Z"
   },
   {
    "duration": 3,
    "start_time": "2022-06-26T18:47:05.905Z"
   },
   {
    "duration": 5,
    "start_time": "2022-06-26T18:47:05.909Z"
   },
   {
    "duration": 2056,
    "start_time": "2022-06-26T18:47:05.916Z"
   },
   {
    "duration": 8738,
    "start_time": "2022-06-26T18:47:07.975Z"
   },
   {
    "duration": 73,
    "start_time": "2022-06-26T18:47:16.714Z"
   },
   {
    "duration": 12,
    "start_time": "2022-06-26T18:47:16.789Z"
   },
   {
    "duration": 11,
    "start_time": "2022-06-26T18:47:16.803Z"
   },
   {
    "duration": 23,
    "start_time": "2022-06-26T18:47:16.815Z"
   },
   {
    "duration": 16,
    "start_time": "2022-06-26T18:47:16.840Z"
   },
   {
    "duration": 9,
    "start_time": "2022-06-26T18:47:16.857Z"
   },
   {
    "duration": 28,
    "start_time": "2022-06-26T18:47:16.867Z"
   },
   {
    "duration": 16,
    "start_time": "2022-06-26T18:47:16.897Z"
   },
   {
    "duration": 3,
    "start_time": "2022-06-26T18:47:16.915Z"
   },
   {
    "duration": 13,
    "start_time": "2022-06-26T18:47:16.919Z"
   },
   {
    "duration": 25,
    "start_time": "2022-06-26T18:47:16.934Z"
   },
   {
    "duration": 24,
    "start_time": "2022-06-26T18:47:16.961Z"
   },
   {
    "duration": 17,
    "start_time": "2022-06-26T18:47:16.987Z"
   },
   {
    "duration": 21,
    "start_time": "2022-06-26T18:47:31.276Z"
   },
   {
    "duration": 38,
    "start_time": "2022-06-26T18:48:01.163Z"
   },
   {
    "duration": 27,
    "start_time": "2022-06-26T18:48:37.117Z"
   },
   {
    "duration": 24,
    "start_time": "2022-06-26T18:49:01.395Z"
   },
   {
    "duration": 22,
    "start_time": "2022-06-26T18:49:08.463Z"
   },
   {
    "duration": 22,
    "start_time": "2022-06-26T18:49:18.932Z"
   },
   {
    "duration": 24,
    "start_time": "2022-06-26T18:49:44.523Z"
   },
   {
    "duration": 21,
    "start_time": "2022-06-26T18:49:53.411Z"
   },
   {
    "duration": 3,
    "start_time": "2022-06-26T18:51:01.105Z"
   },
   {
    "duration": 150,
    "start_time": "2022-06-26T18:52:46.832Z"
   },
   {
    "duration": 16,
    "start_time": "2022-06-26T18:53:04.168Z"
   },
   {
    "duration": 14,
    "start_time": "2022-06-26T18:54:13.161Z"
   },
   {
    "duration": 15,
    "start_time": "2022-06-26T18:54:27.135Z"
   },
   {
    "duration": 13,
    "start_time": "2022-06-26T18:54:44.329Z"
   },
   {
    "duration": 33,
    "start_time": "2022-06-26T18:54:56.908Z"
   },
   {
    "duration": 21,
    "start_time": "2022-06-26T18:55:45.105Z"
   },
   {
    "duration": 18,
    "start_time": "2022-06-26T18:57:04.246Z"
   },
   {
    "duration": 2,
    "start_time": "2022-06-26T18:57:13.661Z"
   },
   {
    "duration": 21,
    "start_time": "2022-06-26T18:58:11.942Z"
   },
   {
    "duration": 94,
    "start_time": "2022-06-26T19:07:29.053Z"
   },
   {
    "duration": 23,
    "start_time": "2022-06-26T19:07:33.173Z"
   },
   {
    "duration": 22,
    "start_time": "2022-06-26T19:07:50.565Z"
   },
   {
    "duration": 21,
    "start_time": "2022-06-26T19:07:59.558Z"
   },
   {
    "duration": 21,
    "start_time": "2022-06-26T19:08:06.845Z"
   },
   {
    "duration": 26,
    "start_time": "2022-06-26T19:08:13.013Z"
   },
   {
    "duration": 25,
    "start_time": "2022-06-26T19:08:21.936Z"
   },
   {
    "duration": 26,
    "start_time": "2022-06-26T19:10:12.568Z"
   },
   {
    "duration": 29,
    "start_time": "2022-06-26T19:10:20.570Z"
   },
   {
    "duration": 23,
    "start_time": "2022-06-26T19:10:39.939Z"
   },
   {
    "duration": 22,
    "start_time": "2022-06-26T19:10:48.715Z"
   },
   {
    "duration": 23,
    "start_time": "2022-06-26T19:11:14.611Z"
   },
   {
    "duration": 24,
    "start_time": "2022-06-26T19:12:25.520Z"
   },
   {
    "duration": 21,
    "start_time": "2022-06-26T19:12:41.920Z"
   },
   {
    "duration": 35,
    "start_time": "2022-06-26T19:12:46.287Z"
   },
   {
    "duration": 19,
    "start_time": "2022-06-26T19:12:51.543Z"
   },
   {
    "duration": 20,
    "start_time": "2022-06-26T19:12:55.961Z"
   },
   {
    "duration": 22,
    "start_time": "2022-06-26T19:13:13.665Z"
   },
   {
    "duration": 36,
    "start_time": "2022-06-26T19:13:38.083Z"
   },
   {
    "duration": 30,
    "start_time": "2022-06-26T19:13:45.470Z"
   },
   {
    "duration": 23,
    "start_time": "2022-06-26T19:15:21.110Z"
   },
   {
    "duration": 3,
    "start_time": "2022-06-26T19:23:50.036Z"
   },
   {
    "duration": 443,
    "start_time": "2022-06-26T19:23:50.042Z"
   },
   {
    "duration": 5,
    "start_time": "2022-06-26T19:23:50.487Z"
   },
   {
    "duration": 23,
    "start_time": "2022-06-26T19:23:50.494Z"
   },
   {
    "duration": 2479,
    "start_time": "2022-06-26T19:23:50.518Z"
   },
   {
    "duration": 9237,
    "start_time": "2022-06-26T19:23:52.999Z"
   },
   {
    "duration": 87,
    "start_time": "2022-06-26T19:24:02.237Z"
   },
   {
    "duration": 12,
    "start_time": "2022-06-26T19:24:02.325Z"
   },
   {
    "duration": 11,
    "start_time": "2022-06-26T19:24:02.338Z"
   },
   {
    "duration": 22,
    "start_time": "2022-06-26T19:24:02.350Z"
   },
   {
    "duration": 16,
    "start_time": "2022-06-26T19:24:02.373Z"
   },
   {
    "duration": 22,
    "start_time": "2022-06-26T19:24:02.390Z"
   },
   {
    "duration": 22,
    "start_time": "2022-06-26T19:24:02.413Z"
   },
   {
    "duration": 2,
    "start_time": "2022-06-26T19:24:02.436Z"
   },
   {
    "duration": 15,
    "start_time": "2022-06-26T19:24:02.440Z"
   },
   {
    "duration": 15,
    "start_time": "2022-06-26T19:24:02.456Z"
   },
   {
    "duration": 10,
    "start_time": "2022-06-26T19:24:02.472Z"
   },
   {
    "duration": 4,
    "start_time": "2022-06-26T21:14:55.555Z"
   },
   {
    "duration": 514,
    "start_time": "2022-06-26T21:14:55.561Z"
   },
   {
    "duration": 3,
    "start_time": "2022-06-26T21:14:56.077Z"
   },
   {
    "duration": 7,
    "start_time": "2022-06-26T21:14:56.083Z"
   },
   {
    "duration": 2317,
    "start_time": "2022-06-26T21:14:56.091Z"
   },
   {
    "duration": 11546,
    "start_time": "2022-06-26T21:14:58.410Z"
   },
   {
    "duration": 249,
    "start_time": "2022-06-26T21:15:09.957Z"
   },
   {
    "duration": 73,
    "start_time": "2022-06-26T21:15:10.207Z"
   },
   {
    "duration": 65,
    "start_time": "2022-06-26T21:15:10.282Z"
   },
   {
    "duration": 100,
    "start_time": "2022-06-26T21:15:10.348Z"
   },
   {
    "duration": 86,
    "start_time": "2022-06-26T21:15:10.450Z"
   },
   {
    "duration": 66,
    "start_time": "2022-06-26T21:15:10.538Z"
   },
   {
    "duration": 80,
    "start_time": "2022-06-26T21:15:10.605Z"
   },
   {
    "duration": 2,
    "start_time": "2022-06-26T21:15:10.687Z"
   },
   {
    "duration": 76,
    "start_time": "2022-06-26T21:15:10.691Z"
   },
   {
    "duration": 65,
    "start_time": "2022-06-26T21:15:10.768Z"
   },
   {
    "duration": 64,
    "start_time": "2022-06-26T21:15:10.835Z"
   },
   {
    "duration": 4,
    "start_time": "2022-08-02T17:43:57.619Z"
   },
   {
    "duration": 468,
    "start_time": "2022-08-02T17:43:57.625Z"
   },
   {
    "duration": 3,
    "start_time": "2022-08-02T17:43:58.094Z"
   },
   {
    "duration": 11,
    "start_time": "2022-08-02T17:43:58.099Z"
   },
   {
    "duration": 1809,
    "start_time": "2022-08-02T17:43:58.112Z"
   },
   {
    "duration": 9101,
    "start_time": "2022-08-02T17:43:59.923Z"
   },
   {
    "duration": 82,
    "start_time": "2022-08-02T17:44:09.026Z"
   },
   {
    "duration": 21,
    "start_time": "2022-08-02T17:44:09.112Z"
   },
   {
    "duration": 14,
    "start_time": "2022-08-02T17:44:09.135Z"
   },
   {
    "duration": 28,
    "start_time": "2022-08-02T17:44:09.150Z"
   },
   {
    "duration": 30,
    "start_time": "2022-08-02T17:44:09.180Z"
   },
   {
    "duration": 11,
    "start_time": "2022-08-02T17:44:09.215Z"
   },
   {
    "duration": 23,
    "start_time": "2022-08-02T17:44:09.227Z"
   },
   {
    "duration": 2,
    "start_time": "2022-08-02T17:44:09.252Z"
   },
   {
    "duration": 13,
    "start_time": "2022-08-02T17:44:09.255Z"
   },
   {
    "duration": 13,
    "start_time": "2022-08-02T17:44:09.269Z"
   },
   {
    "duration": 11,
    "start_time": "2022-08-02T17:44:09.283Z"
   }
  ],
  "colab": {
   "collapsed_sections": [],
   "name": "SQL_final.ipynb",
   "provenance": [],
   "toc_visible": true
  },
  "kernelspec": {
   "display_name": "Python 3 (ipykernel)",
   "language": "python",
   "name": "python3"
  },
  "language_info": {
   "codemirror_mode": {
    "name": "ipython",
    "version": 3
   },
   "file_extension": ".py",
   "mimetype": "text/x-python",
   "name": "python",
   "nbconvert_exporter": "python",
   "pygments_lexer": "ipython3",
   "version": "3.9.7"
  },
  "toc": {
   "base_numbering": 1,
   "nav_menu": {},
   "number_sections": true,
   "sideBar": true,
   "skip_h1_title": true,
   "title_cell": "Table of Contents",
   "title_sidebar": "Contents",
   "toc_cell": false,
   "toc_position": {},
   "toc_section_display": true,
   "toc_window_display": true
  }
 },
 "nbformat": 4,
 "nbformat_minor": 1
}
