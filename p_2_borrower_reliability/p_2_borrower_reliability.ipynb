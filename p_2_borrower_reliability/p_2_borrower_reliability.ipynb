{
 "cells": [
  {
   "cell_type": "markdown",
   "metadata": {},
   "source": [
    "# Исследование надёжности заёмщиков\n",
    "\n",
    "Заказчик — кредитный отдел банка. Нужно разобраться, влияет ли семейное положение и количество детей клиента на факт погашения кредита в срок. Входные данные от банка — статистика о платёжеспособности клиентов.\n",
    "\n",
    "Результаты исследования будут учтены при построении модели **кредитного скоринга** — специальной системы, которая оценивает способность потенциального заёмщика вернуть кредит банку."
   ]
  },
  {
   "cell_type": "markdown",
   "metadata": {},
   "source": [
    "## Шаг 1. Откройте файл с данными и изучите общую информацию"
   ]
  },
  {
   "cell_type": "code",
   "execution_count": 1,
   "metadata": {
    "scrolled": false
   },
   "outputs": [
    {
     "name": "stdout",
     "output_type": "stream",
     "text": [
      "<class 'pandas.core.frame.DataFrame'>\n",
      "RangeIndex: 21525 entries, 0 to 21524\n",
      "Data columns (total 12 columns):\n",
      " #   Column            Non-Null Count  Dtype  \n",
      "---  ------            --------------  -----  \n",
      " 0   children          21525 non-null  int64  \n",
      " 1   days_employed     19351 non-null  float64\n",
      " 2   dob_years         21525 non-null  int64  \n",
      " 3   education         21525 non-null  object \n",
      " 4   education_id      21525 non-null  int64  \n",
      " 5   family_status     21525 non-null  object \n",
      " 6   family_status_id  21525 non-null  int64  \n",
      " 7   gender            21525 non-null  object \n",
      " 8   income_type       21525 non-null  object \n",
      " 9   debt              21525 non-null  int64  \n",
      " 10  total_income      19351 non-null  float64\n",
      " 11  purpose           21525 non-null  object \n",
      "dtypes: float64(2), int64(5), object(5)\n",
      "memory usage: 2.0+ MB\n"
     ]
    },
    {
     "data": {
      "text/html": [
       "<div>\n",
       "<style scoped>\n",
       "    .dataframe tbody tr th:only-of-type {\n",
       "        vertical-align: middle;\n",
       "    }\n",
       "\n",
       "    .dataframe tbody tr th {\n",
       "        vertical-align: top;\n",
       "    }\n",
       "\n",
       "    .dataframe thead th {\n",
       "        text-align: right;\n",
       "    }\n",
       "</style>\n",
       "<table border=\"1\" class=\"dataframe\">\n",
       "  <thead>\n",
       "    <tr style=\"text-align: right;\">\n",
       "      <th></th>\n",
       "      <th>children</th>\n",
       "      <th>days_employed</th>\n",
       "      <th>dob_years</th>\n",
       "      <th>education</th>\n",
       "      <th>education_id</th>\n",
       "      <th>family_status</th>\n",
       "      <th>family_status_id</th>\n",
       "      <th>gender</th>\n",
       "      <th>income_type</th>\n",
       "      <th>debt</th>\n",
       "      <th>total_income</th>\n",
       "      <th>purpose</th>\n",
       "    </tr>\n",
       "  </thead>\n",
       "  <tbody>\n",
       "    <tr>\n",
       "      <th>0</th>\n",
       "      <td>1</td>\n",
       "      <td>-8437.673028</td>\n",
       "      <td>42</td>\n",
       "      <td>высшее</td>\n",
       "      <td>0</td>\n",
       "      <td>женат / замужем</td>\n",
       "      <td>0</td>\n",
       "      <td>F</td>\n",
       "      <td>сотрудник</td>\n",
       "      <td>0</td>\n",
       "      <td>253875.639453</td>\n",
       "      <td>покупка жилья</td>\n",
       "    </tr>\n",
       "    <tr>\n",
       "      <th>1</th>\n",
       "      <td>1</td>\n",
       "      <td>-4024.803754</td>\n",
       "      <td>36</td>\n",
       "      <td>среднее</td>\n",
       "      <td>1</td>\n",
       "      <td>женат / замужем</td>\n",
       "      <td>0</td>\n",
       "      <td>F</td>\n",
       "      <td>сотрудник</td>\n",
       "      <td>0</td>\n",
       "      <td>112080.014102</td>\n",
       "      <td>приобретение автомобиля</td>\n",
       "    </tr>\n",
       "    <tr>\n",
       "      <th>2</th>\n",
       "      <td>0</td>\n",
       "      <td>-5623.422610</td>\n",
       "      <td>33</td>\n",
       "      <td>Среднее</td>\n",
       "      <td>1</td>\n",
       "      <td>женат / замужем</td>\n",
       "      <td>0</td>\n",
       "      <td>M</td>\n",
       "      <td>сотрудник</td>\n",
       "      <td>0</td>\n",
       "      <td>145885.952297</td>\n",
       "      <td>покупка жилья</td>\n",
       "    </tr>\n",
       "    <tr>\n",
       "      <th>3</th>\n",
       "      <td>3</td>\n",
       "      <td>-4124.747207</td>\n",
       "      <td>32</td>\n",
       "      <td>среднее</td>\n",
       "      <td>1</td>\n",
       "      <td>женат / замужем</td>\n",
       "      <td>0</td>\n",
       "      <td>M</td>\n",
       "      <td>сотрудник</td>\n",
       "      <td>0</td>\n",
       "      <td>267628.550329</td>\n",
       "      <td>дополнительное образование</td>\n",
       "    </tr>\n",
       "    <tr>\n",
       "      <th>4</th>\n",
       "      <td>0</td>\n",
       "      <td>340266.072047</td>\n",
       "      <td>53</td>\n",
       "      <td>среднее</td>\n",
       "      <td>1</td>\n",
       "      <td>гражданский брак</td>\n",
       "      <td>1</td>\n",
       "      <td>F</td>\n",
       "      <td>пенсионер</td>\n",
       "      <td>0</td>\n",
       "      <td>158616.077870</td>\n",
       "      <td>сыграть свадьбу</td>\n",
       "    </tr>\n",
       "    <tr>\n",
       "      <th>5</th>\n",
       "      <td>0</td>\n",
       "      <td>-926.185831</td>\n",
       "      <td>27</td>\n",
       "      <td>высшее</td>\n",
       "      <td>0</td>\n",
       "      <td>гражданский брак</td>\n",
       "      <td>1</td>\n",
       "      <td>M</td>\n",
       "      <td>компаньон</td>\n",
       "      <td>0</td>\n",
       "      <td>255763.565419</td>\n",
       "      <td>покупка жилья</td>\n",
       "    </tr>\n",
       "    <tr>\n",
       "      <th>6</th>\n",
       "      <td>0</td>\n",
       "      <td>-2879.202052</td>\n",
       "      <td>43</td>\n",
       "      <td>высшее</td>\n",
       "      <td>0</td>\n",
       "      <td>женат / замужем</td>\n",
       "      <td>0</td>\n",
       "      <td>F</td>\n",
       "      <td>компаньон</td>\n",
       "      <td>0</td>\n",
       "      <td>240525.971920</td>\n",
       "      <td>операции с жильем</td>\n",
       "    </tr>\n",
       "    <tr>\n",
       "      <th>7</th>\n",
       "      <td>0</td>\n",
       "      <td>-152.779569</td>\n",
       "      <td>50</td>\n",
       "      <td>СРЕДНЕЕ</td>\n",
       "      <td>1</td>\n",
       "      <td>женат / замужем</td>\n",
       "      <td>0</td>\n",
       "      <td>M</td>\n",
       "      <td>сотрудник</td>\n",
       "      <td>0</td>\n",
       "      <td>135823.934197</td>\n",
       "      <td>образование</td>\n",
       "    </tr>\n",
       "    <tr>\n",
       "      <th>8</th>\n",
       "      <td>2</td>\n",
       "      <td>-6929.865299</td>\n",
       "      <td>35</td>\n",
       "      <td>ВЫСШЕЕ</td>\n",
       "      <td>0</td>\n",
       "      <td>гражданский брак</td>\n",
       "      <td>1</td>\n",
       "      <td>F</td>\n",
       "      <td>сотрудник</td>\n",
       "      <td>0</td>\n",
       "      <td>95856.832424</td>\n",
       "      <td>на проведение свадьбы</td>\n",
       "    </tr>\n",
       "    <tr>\n",
       "      <th>9</th>\n",
       "      <td>0</td>\n",
       "      <td>-2188.756445</td>\n",
       "      <td>41</td>\n",
       "      <td>среднее</td>\n",
       "      <td>1</td>\n",
       "      <td>женат / замужем</td>\n",
       "      <td>0</td>\n",
       "      <td>M</td>\n",
       "      <td>сотрудник</td>\n",
       "      <td>0</td>\n",
       "      <td>144425.938277</td>\n",
       "      <td>покупка жилья для семьи</td>\n",
       "    </tr>\n",
       "    <tr>\n",
       "      <th>10</th>\n",
       "      <td>2</td>\n",
       "      <td>-4171.483647</td>\n",
       "      <td>36</td>\n",
       "      <td>высшее</td>\n",
       "      <td>0</td>\n",
       "      <td>женат / замужем</td>\n",
       "      <td>0</td>\n",
       "      <td>M</td>\n",
       "      <td>компаньон</td>\n",
       "      <td>0</td>\n",
       "      <td>113943.491460</td>\n",
       "      <td>покупка недвижимости</td>\n",
       "    </tr>\n",
       "    <tr>\n",
       "      <th>11</th>\n",
       "      <td>0</td>\n",
       "      <td>-792.701887</td>\n",
       "      <td>40</td>\n",
       "      <td>среднее</td>\n",
       "      <td>1</td>\n",
       "      <td>женат / замужем</td>\n",
       "      <td>0</td>\n",
       "      <td>F</td>\n",
       "      <td>сотрудник</td>\n",
       "      <td>0</td>\n",
       "      <td>77069.234271</td>\n",
       "      <td>покупка коммерческой недвижимости</td>\n",
       "    </tr>\n",
       "    <tr>\n",
       "      <th>12</th>\n",
       "      <td>0</td>\n",
       "      <td>NaN</td>\n",
       "      <td>65</td>\n",
       "      <td>среднее</td>\n",
       "      <td>1</td>\n",
       "      <td>гражданский брак</td>\n",
       "      <td>1</td>\n",
       "      <td>M</td>\n",
       "      <td>пенсионер</td>\n",
       "      <td>0</td>\n",
       "      <td>NaN</td>\n",
       "      <td>сыграть свадьбу</td>\n",
       "    </tr>\n",
       "    <tr>\n",
       "      <th>13</th>\n",
       "      <td>0</td>\n",
       "      <td>-1846.641941</td>\n",
       "      <td>54</td>\n",
       "      <td>неоконченное высшее</td>\n",
       "      <td>2</td>\n",
       "      <td>женат / замужем</td>\n",
       "      <td>0</td>\n",
       "      <td>F</td>\n",
       "      <td>сотрудник</td>\n",
       "      <td>0</td>\n",
       "      <td>130458.228857</td>\n",
       "      <td>приобретение автомобиля</td>\n",
       "    </tr>\n",
       "    <tr>\n",
       "      <th>14</th>\n",
       "      <td>0</td>\n",
       "      <td>-1844.956182</td>\n",
       "      <td>56</td>\n",
       "      <td>высшее</td>\n",
       "      <td>0</td>\n",
       "      <td>гражданский брак</td>\n",
       "      <td>1</td>\n",
       "      <td>F</td>\n",
       "      <td>компаньон</td>\n",
       "      <td>1</td>\n",
       "      <td>165127.911772</td>\n",
       "      <td>покупка жилой недвижимости</td>\n",
       "    </tr>\n",
       "  </tbody>\n",
       "</table>\n",
       "</div>"
      ],
      "text/plain": [
       "    children  days_employed  dob_years            education  education_id  \\\n",
       "0          1   -8437.673028         42               высшее             0   \n",
       "1          1   -4024.803754         36              среднее             1   \n",
       "2          0   -5623.422610         33              Среднее             1   \n",
       "3          3   -4124.747207         32              среднее             1   \n",
       "4          0  340266.072047         53              среднее             1   \n",
       "5          0    -926.185831         27               высшее             0   \n",
       "6          0   -2879.202052         43               высшее             0   \n",
       "7          0    -152.779569         50              СРЕДНЕЕ             1   \n",
       "8          2   -6929.865299         35               ВЫСШЕЕ             0   \n",
       "9          0   -2188.756445         41              среднее             1   \n",
       "10         2   -4171.483647         36               высшее             0   \n",
       "11         0    -792.701887         40              среднее             1   \n",
       "12         0            NaN         65              среднее             1   \n",
       "13         0   -1846.641941         54  неоконченное высшее             2   \n",
       "14         0   -1844.956182         56               высшее             0   \n",
       "\n",
       "       family_status  family_status_id gender income_type  debt  \\\n",
       "0    женат / замужем                 0      F   сотрудник     0   \n",
       "1    женат / замужем                 0      F   сотрудник     0   \n",
       "2    женат / замужем                 0      M   сотрудник     0   \n",
       "3    женат / замужем                 0      M   сотрудник     0   \n",
       "4   гражданский брак                 1      F   пенсионер     0   \n",
       "5   гражданский брак                 1      M   компаньон     0   \n",
       "6    женат / замужем                 0      F   компаньон     0   \n",
       "7    женат / замужем                 0      M   сотрудник     0   \n",
       "8   гражданский брак                 1      F   сотрудник     0   \n",
       "9    женат / замужем                 0      M   сотрудник     0   \n",
       "10   женат / замужем                 0      M   компаньон     0   \n",
       "11   женат / замужем                 0      F   сотрудник     0   \n",
       "12  гражданский брак                 1      M   пенсионер     0   \n",
       "13   женат / замужем                 0      F   сотрудник     0   \n",
       "14  гражданский брак                 1      F   компаньон     1   \n",
       "\n",
       "     total_income                            purpose  \n",
       "0   253875.639453                      покупка жилья  \n",
       "1   112080.014102            приобретение автомобиля  \n",
       "2   145885.952297                      покупка жилья  \n",
       "3   267628.550329         дополнительное образование  \n",
       "4   158616.077870                    сыграть свадьбу  \n",
       "5   255763.565419                      покупка жилья  \n",
       "6   240525.971920                  операции с жильем  \n",
       "7   135823.934197                        образование  \n",
       "8    95856.832424              на проведение свадьбы  \n",
       "9   144425.938277            покупка жилья для семьи  \n",
       "10  113943.491460               покупка недвижимости  \n",
       "11   77069.234271  покупка коммерческой недвижимости  \n",
       "12            NaN                    сыграть свадьбу  \n",
       "13  130458.228857            приобретение автомобиля  \n",
       "14  165127.911772         покупка жилой недвижимости  "
      ]
     },
     "metadata": {},
     "output_type": "display_data"
    }
   ],
   "source": [
    "import pandas as pd\n",
    "data = pd.read_csv('/datasets/data.csv')\n",
    "data.info()\n",
    "display(data.head(15))"
   ]
  },
  {
   "cell_type": "markdown",
   "metadata": {},
   "source": [
    "**Вывод**"
   ]
  },
  {
   "cell_type": "markdown",
   "metadata": {},
   "source": [
    "Имеем таблицу с 12-ю правильно названными колонками и 21525 строками. Имеются пропуски в колонках days_employed, total_income. Тип данных целые, вещественные числа и строки. В колонке days_employed отрицательные значения, следует разобраться. В столбце education следует привести написание к единообразию, например к прописным буквам. Так же следует разбить на категории столбец purpose.\n",
    "\n",
    "Описание данных:\n",
    "- children — количество детей в семье\n",
    "- days_employed — общий трудовой стаж в днях\n",
    "- dob_years — возраст клиента в годах\n",
    "- education — уровень образования клиента\n",
    "- education_id — идентификатор уровня образования\n",
    "- family_status — семейное положение\n",
    "- family_status_id — идентификатор семейного положения\n",
    "- gender — пол клиента\n",
    "- income_type — тип занятости\n",
    "- debt — имел ли задолженность по возврату кредитов\n",
    "- total_income — ежемесячный доход\n",
    "- purpose — цель получения кредита"
   ]
  },
  {
   "cell_type": "markdown",
   "metadata": {},
   "source": [
    "## Шаг 2. Предобработка данных"
   ]
  },
  {
   "cell_type": "markdown",
   "metadata": {},
   "source": [
    "### Обработка пропусков"
   ]
  },
  {
   "cell_type": "code",
   "execution_count": 2,
   "metadata": {},
   "outputs": [
    {
     "name": "stdout",
     "output_type": "stream",
     "text": [
      "Всего пропущено строк: 2174\n",
      "Среднее количество трудовых дней: 63046.49766147338\n",
      "Средний ежемесячный доход: 145017.93753253992\n",
      "Средний возраст: 43\n"
     ]
    }
   ],
   "source": [
    "print('Всего пропущено строк:', len(data[data['days_employed'].isna()])) # Проверяем количество пропусков в колонке \"Трудовой стаж\"\n",
    "#display(data[data['total_income'].isna()]) # посмотрим глазами на явные несоответствия.\n",
    "\n",
    "#print(data.sort_values(by='children')) \n",
    "#print(data['children'].value_counts())\n",
    "\n",
    "#print(data.sort_values(by='days_employed'))\n",
    "\n",
    "#print(data.sort_values(by='dob_years'))\n",
    "#print(data['dob_years'].value_counts())\n",
    "\n",
    "days_employed_mean = data['days_employed'].mean()\n",
    "print('Среднее количество трудовых дней:', days_employed_mean) \n",
    "\n",
    "total_income_median = data['total_income'].median() # медиана по заработку\n",
    "print('Средний ежемесячный доход:', total_income_median)\n",
    "\n",
    "dob_years_mean = int(data['dob_years'].mean()) # средний возраст\n",
    "print('Средний возраст:', dob_years_mean)\n",
    "\n",
    "data['days_employed'] = data['days_employed'].fillna(days_employed_mean)\n",
    "data['total_income'] = data['total_income'].fillna(total_income_median)\n",
    "data['dob_years'] = data['dob_years'].replace(0,dob_years_mean)\n",
    "data['children'] = data['children'].replace(20, 2).abs()\n",
    "\n",
    "#data.info()\n",
    "\n"
   ]
  },
  {
   "cell_type": "code",
   "execution_count": 3,
   "metadata": {},
   "outputs": [
    {
     "name": "stdout",
     "output_type": "stream",
     "text": [
      "45.8624886387363\n",
      "-50.38068465909146\n"
     ]
    }
   ],
   "source": [
    "print(data['days_employed'].max() / 365 / 24) # проверили максимальные значения стажа.\n",
    "print(data['days_employed'].min() / 365) # и минимальные значения\n",
    "\n",
    "#data.sort_values(by='days_employed').head(15)"
   ]
  },
  {
   "cell_type": "markdown",
   "metadata": {},
   "source": [
    "**Вывод**"
   ]
  },
  {
   "cell_type": "markdown",
   "metadata": {},
   "source": [
    "Обнаружены пропуски в колонках \"трудовой стаж\" и \"ежемесячный доход\".\n",
    "Пропуски скорее всего вызваны техническими причинами, т.к. при сборе данных о клиенте, перед принятием решения о выдаче кредита, кредитный менеджер обязательно собирает информацию о доходе. В пользу гипотезы о техническом сбое говорит и то, что в этих колонках в одних и тех же строках пропущены значения.\n",
    "Так как для решения этого кейса конкретные значения трудового стажа не важны, то принято решение заполнить пропуски по следующему принципу:\n",
    "- \"Трудовой стаж\" - по среднему арифметическому.\n",
    "- \"Средний ежемесячный доход\" - медианное значение, чтобы исключить аномально большие или маленькие значения.\n",
    "\n",
    "При проверке колонки \"Дети\" обнаружены аномальные значения, отрицательные и слишком большие, 20 детей. Процент некорректных значений не большой (и это топ-3 популярного количества детей), можно было бы удалить эти строки, но мы отрицательные значения уберем методом .abs(), а значение \"20\" превратим в \"2\", т.к.логично предположить, что тут операторская ошибка при наборе данных.\n",
    "\n",
    "При проверке колонки \"Возраст\" обнаружен пропуск возраста, обозначенный \"0\", замена средним арифметическим."
   ]
  },
  {
   "cell_type": "markdown",
   "metadata": {},
   "source": [
    "### Замена типа данных"
   ]
  },
  {
   "cell_type": "code",
   "execution_count": 4,
   "metadata": {},
   "outputs": [],
   "source": [
    "data['days_employed'] = data['days_employed'].astype('int')\n",
    "data['total_income'] = data['total_income'].astype('int')\n",
    "\n",
    "#data.info()"
   ]
  },
  {
   "cell_type": "markdown",
   "metadata": {},
   "source": [
    "**Вывод**"
   ]
  },
  {
   "cell_type": "markdown",
   "metadata": {},
   "source": [
    "Для удобства заменим вещественные числа на целые. Для этого применим метод .astype(int) к колонкам трудового стажа и среднего дохода."
   ]
  },
  {
   "cell_type": "markdown",
   "metadata": {},
   "source": [
    "### Обработка дубликатов"
   ]
  },
  {
   "cell_type": "code",
   "execution_count": 5,
   "metadata": {},
   "outputs": [
    {
     "name": "stdout",
     "output_type": "stream",
     "text": [
      "Дупликатов в таблице: 54\n"
     ]
    }
   ],
   "source": [
    "print('Дупликатов в таблице:', data.duplicated().sum()) \n",
    "#print('Уникальные значения в колонке \\\"Образование\\\":\\n', data['education'].value_counts())"
   ]
  },
  {
   "cell_type": "code",
   "execution_count": 6,
   "metadata": {},
   "outputs": [
    {
     "name": "stdout",
     "output_type": "stream",
     "text": [
      "среднее                15233\n",
      "высшее                  5260\n",
      "неоконченное высшее      744\n",
      "начальное                282\n",
      "ученая степень             6\n",
      "Name: education, dtype: int64\n"
     ]
    }
   ],
   "source": [
    "data['education'] = data['education'].str.lower() #приведем написание к единому, прописному\n",
    "\n",
    "print(data['education'].value_counts())"
   ]
  },
  {
   "cell_type": "code",
   "execution_count": 7,
   "metadata": {},
   "outputs": [],
   "source": [
    "#print(data['family_status'].value_counts())"
   ]
  },
  {
   "cell_type": "code",
   "execution_count": 8,
   "metadata": {},
   "outputs": [],
   "source": [
    "#print(data['income_type'].value_counts())"
   ]
  },
  {
   "cell_type": "code",
   "execution_count": 9,
   "metadata": {},
   "outputs": [],
   "source": [
    "#print(data['purpose'].value_counts())"
   ]
  },
  {
   "cell_type": "code",
   "execution_count": 10,
   "metadata": {},
   "outputs": [
    {
     "name": "stdout",
     "output_type": "stream",
     "text": [
      "Дупликатов в таблице: 71\n",
      "Дупликатов в таблице: 0\n"
     ]
    }
   ],
   "source": [
    "print('Дупликатов в таблице:', data.duplicated().sum()) # проверим наличие явных дубликатов после обработки и удалим их\n",
    "data = data.drop_duplicates().reset_index(drop=True)\n",
    "print('Дупликатов в таблице:', data.duplicated().sum())"
   ]
  },
  {
   "cell_type": "code",
   "execution_count": 11,
   "metadata": {},
   "outputs": [
    {
     "name": "stdout",
     "output_type": "stream",
     "text": [
      "<class 'pandas.core.frame.DataFrame'>\n",
      "RangeIndex: 21454 entries, 0 to 21453\n",
      "Data columns (total 12 columns):\n",
      " #   Column            Non-Null Count  Dtype \n",
      "---  ------            --------------  ----- \n",
      " 0   children          21454 non-null  int64 \n",
      " 1   days_employed     21454 non-null  int64 \n",
      " 2   dob_years         21454 non-null  int64 \n",
      " 3   education         21454 non-null  object\n",
      " 4   education_id      21454 non-null  int64 \n",
      " 5   family_status     21454 non-null  object\n",
      " 6   family_status_id  21454 non-null  int64 \n",
      " 7   gender            21454 non-null  object\n",
      " 8   income_type       21454 non-null  object\n",
      " 9   debt              21454 non-null  int64 \n",
      " 10  total_income      21454 non-null  int64 \n",
      " 11  purpose           21454 non-null  object\n",
      "dtypes: int64(7), object(5)\n",
      "memory usage: 2.0+ MB\n"
     ]
    }
   ],
   "source": [
    "data.info()\n",
    "#display(data.head(15))"
   ]
  },
  {
   "cell_type": "markdown",
   "metadata": {},
   "source": [
    "**Вывод**"
   ]
  },
  {
   "cell_type": "markdown",
   "metadata": {},
   "source": [
    "Появление дубликатов есть следствие отсутствия стандартизированных форм для заполнения ячеек.\n",
    "В таблице были удалены явные дубликаты и приведены к единообразию значения во всех колонках, кроме колонки \"цель получения кредита\". К ней применим лемматизацию."
   ]
  },
  {
   "cell_type": "markdown",
   "metadata": {},
   "source": [
    "### Лемматизация"
   ]
  },
  {
   "cell_type": "code",
   "execution_count": 12,
   "metadata": {},
   "outputs": [],
   "source": [
    "from pymystem3 import Mystem\n",
    "m = Mystem()"
   ]
  },
  {
   "cell_type": "code",
   "execution_count": 13,
   "metadata": {},
   "outputs": [
    {
     "data": {
      "text/html": [
       "<div>\n",
       "<style scoped>\n",
       "    .dataframe tbody tr th:only-of-type {\n",
       "        vertical-align: middle;\n",
       "    }\n",
       "\n",
       "    .dataframe tbody tr th {\n",
       "        vertical-align: top;\n",
       "    }\n",
       "\n",
       "    .dataframe thead th {\n",
       "        text-align: right;\n",
       "    }\n",
       "</style>\n",
       "<table border=\"1\" class=\"dataframe\">\n",
       "  <thead>\n",
       "    <tr style=\"text-align: right;\">\n",
       "      <th></th>\n",
       "      <th>children</th>\n",
       "      <th>days_employed</th>\n",
       "      <th>dob_years</th>\n",
       "      <th>education</th>\n",
       "      <th>education_id</th>\n",
       "      <th>family_status</th>\n",
       "      <th>family_status_id</th>\n",
       "      <th>gender</th>\n",
       "      <th>income_type</th>\n",
       "      <th>debt</th>\n",
       "      <th>total_income</th>\n",
       "      <th>purpose</th>\n",
       "      <th>purpose_id</th>\n",
       "    </tr>\n",
       "  </thead>\n",
       "  <tbody>\n",
       "    <tr>\n",
       "      <th>0</th>\n",
       "      <td>1</td>\n",
       "      <td>-8437</td>\n",
       "      <td>42</td>\n",
       "      <td>высшее</td>\n",
       "      <td>0</td>\n",
       "      <td>женат / замужем</td>\n",
       "      <td>0</td>\n",
       "      <td>F</td>\n",
       "      <td>сотрудник</td>\n",
       "      <td>0</td>\n",
       "      <td>253875</td>\n",
       "      <td>покупка жилья</td>\n",
       "      <td>недвижимость</td>\n",
       "    </tr>\n",
       "    <tr>\n",
       "      <th>1</th>\n",
       "      <td>1</td>\n",
       "      <td>-4024</td>\n",
       "      <td>36</td>\n",
       "      <td>среднее</td>\n",
       "      <td>1</td>\n",
       "      <td>женат / замужем</td>\n",
       "      <td>0</td>\n",
       "      <td>F</td>\n",
       "      <td>сотрудник</td>\n",
       "      <td>0</td>\n",
       "      <td>112080</td>\n",
       "      <td>приобретение автомобиля</td>\n",
       "      <td>автомобиль</td>\n",
       "    </tr>\n",
       "    <tr>\n",
       "      <th>2</th>\n",
       "      <td>0</td>\n",
       "      <td>-5623</td>\n",
       "      <td>33</td>\n",
       "      <td>среднее</td>\n",
       "      <td>1</td>\n",
       "      <td>женат / замужем</td>\n",
       "      <td>0</td>\n",
       "      <td>M</td>\n",
       "      <td>сотрудник</td>\n",
       "      <td>0</td>\n",
       "      <td>145885</td>\n",
       "      <td>покупка жилья</td>\n",
       "      <td>недвижимость</td>\n",
       "    </tr>\n",
       "    <tr>\n",
       "      <th>3</th>\n",
       "      <td>3</td>\n",
       "      <td>-4124</td>\n",
       "      <td>32</td>\n",
       "      <td>среднее</td>\n",
       "      <td>1</td>\n",
       "      <td>женат / замужем</td>\n",
       "      <td>0</td>\n",
       "      <td>M</td>\n",
       "      <td>сотрудник</td>\n",
       "      <td>0</td>\n",
       "      <td>267628</td>\n",
       "      <td>дополнительное образование</td>\n",
       "      <td>образование</td>\n",
       "    </tr>\n",
       "    <tr>\n",
       "      <th>4</th>\n",
       "      <td>0</td>\n",
       "      <td>340266</td>\n",
       "      <td>53</td>\n",
       "      <td>среднее</td>\n",
       "      <td>1</td>\n",
       "      <td>гражданский брак</td>\n",
       "      <td>1</td>\n",
       "      <td>F</td>\n",
       "      <td>пенсионер</td>\n",
       "      <td>0</td>\n",
       "      <td>158616</td>\n",
       "      <td>сыграть свадьбу</td>\n",
       "      <td>свадьба</td>\n",
       "    </tr>\n",
       "    <tr>\n",
       "      <th>5</th>\n",
       "      <td>0</td>\n",
       "      <td>-926</td>\n",
       "      <td>27</td>\n",
       "      <td>высшее</td>\n",
       "      <td>0</td>\n",
       "      <td>гражданский брак</td>\n",
       "      <td>1</td>\n",
       "      <td>M</td>\n",
       "      <td>компаньон</td>\n",
       "      <td>0</td>\n",
       "      <td>255763</td>\n",
       "      <td>покупка жилья</td>\n",
       "      <td>недвижимость</td>\n",
       "    </tr>\n",
       "    <tr>\n",
       "      <th>6</th>\n",
       "      <td>0</td>\n",
       "      <td>-2879</td>\n",
       "      <td>43</td>\n",
       "      <td>высшее</td>\n",
       "      <td>0</td>\n",
       "      <td>женат / замужем</td>\n",
       "      <td>0</td>\n",
       "      <td>F</td>\n",
       "      <td>компаньон</td>\n",
       "      <td>0</td>\n",
       "      <td>240525</td>\n",
       "      <td>операции с жильем</td>\n",
       "      <td>недвижимость</td>\n",
       "    </tr>\n",
       "    <tr>\n",
       "      <th>7</th>\n",
       "      <td>0</td>\n",
       "      <td>-152</td>\n",
       "      <td>50</td>\n",
       "      <td>среднее</td>\n",
       "      <td>1</td>\n",
       "      <td>женат / замужем</td>\n",
       "      <td>0</td>\n",
       "      <td>M</td>\n",
       "      <td>сотрудник</td>\n",
       "      <td>0</td>\n",
       "      <td>135823</td>\n",
       "      <td>образование</td>\n",
       "      <td>образование</td>\n",
       "    </tr>\n",
       "    <tr>\n",
       "      <th>8</th>\n",
       "      <td>2</td>\n",
       "      <td>-6929</td>\n",
       "      <td>35</td>\n",
       "      <td>высшее</td>\n",
       "      <td>0</td>\n",
       "      <td>гражданский брак</td>\n",
       "      <td>1</td>\n",
       "      <td>F</td>\n",
       "      <td>сотрудник</td>\n",
       "      <td>0</td>\n",
       "      <td>95856</td>\n",
       "      <td>на проведение свадьбы</td>\n",
       "      <td>свадьба</td>\n",
       "    </tr>\n",
       "    <tr>\n",
       "      <th>9</th>\n",
       "      <td>0</td>\n",
       "      <td>-2188</td>\n",
       "      <td>41</td>\n",
       "      <td>среднее</td>\n",
       "      <td>1</td>\n",
       "      <td>женат / замужем</td>\n",
       "      <td>0</td>\n",
       "      <td>M</td>\n",
       "      <td>сотрудник</td>\n",
       "      <td>0</td>\n",
       "      <td>144425</td>\n",
       "      <td>покупка жилья для семьи</td>\n",
       "      <td>недвижимость</td>\n",
       "    </tr>\n",
       "    <tr>\n",
       "      <th>10</th>\n",
       "      <td>2</td>\n",
       "      <td>-4171</td>\n",
       "      <td>36</td>\n",
       "      <td>высшее</td>\n",
       "      <td>0</td>\n",
       "      <td>женат / замужем</td>\n",
       "      <td>0</td>\n",
       "      <td>M</td>\n",
       "      <td>компаньон</td>\n",
       "      <td>0</td>\n",
       "      <td>113943</td>\n",
       "      <td>покупка недвижимости</td>\n",
       "      <td>недвижимость</td>\n",
       "    </tr>\n",
       "    <tr>\n",
       "      <th>11</th>\n",
       "      <td>0</td>\n",
       "      <td>-792</td>\n",
       "      <td>40</td>\n",
       "      <td>среднее</td>\n",
       "      <td>1</td>\n",
       "      <td>женат / замужем</td>\n",
       "      <td>0</td>\n",
       "      <td>F</td>\n",
       "      <td>сотрудник</td>\n",
       "      <td>0</td>\n",
       "      <td>77069</td>\n",
       "      <td>покупка коммерческой недвижимости</td>\n",
       "      <td>недвижимость</td>\n",
       "    </tr>\n",
       "    <tr>\n",
       "      <th>12</th>\n",
       "      <td>0</td>\n",
       "      <td>63046</td>\n",
       "      <td>65</td>\n",
       "      <td>среднее</td>\n",
       "      <td>1</td>\n",
       "      <td>гражданский брак</td>\n",
       "      <td>1</td>\n",
       "      <td>M</td>\n",
       "      <td>пенсионер</td>\n",
       "      <td>0</td>\n",
       "      <td>145017</td>\n",
       "      <td>сыграть свадьбу</td>\n",
       "      <td>свадьба</td>\n",
       "    </tr>\n",
       "    <tr>\n",
       "      <th>13</th>\n",
       "      <td>0</td>\n",
       "      <td>-1846</td>\n",
       "      <td>54</td>\n",
       "      <td>неоконченное высшее</td>\n",
       "      <td>2</td>\n",
       "      <td>женат / замужем</td>\n",
       "      <td>0</td>\n",
       "      <td>F</td>\n",
       "      <td>сотрудник</td>\n",
       "      <td>0</td>\n",
       "      <td>130458</td>\n",
       "      <td>приобретение автомобиля</td>\n",
       "      <td>автомобиль</td>\n",
       "    </tr>\n",
       "    <tr>\n",
       "      <th>14</th>\n",
       "      <td>0</td>\n",
       "      <td>-1844</td>\n",
       "      <td>56</td>\n",
       "      <td>высшее</td>\n",
       "      <td>0</td>\n",
       "      <td>гражданский брак</td>\n",
       "      <td>1</td>\n",
       "      <td>F</td>\n",
       "      <td>компаньон</td>\n",
       "      <td>1</td>\n",
       "      <td>165127</td>\n",
       "      <td>покупка жилой недвижимости</td>\n",
       "      <td>недвижимость</td>\n",
       "    </tr>\n",
       "  </tbody>\n",
       "</table>\n",
       "</div>"
      ],
      "text/plain": [
       "    children  days_employed  dob_years            education  education_id  \\\n",
       "0          1          -8437         42               высшее             0   \n",
       "1          1          -4024         36              среднее             1   \n",
       "2          0          -5623         33              среднее             1   \n",
       "3          3          -4124         32              среднее             1   \n",
       "4          0         340266         53              среднее             1   \n",
       "5          0           -926         27               высшее             0   \n",
       "6          0          -2879         43               высшее             0   \n",
       "7          0           -152         50              среднее             1   \n",
       "8          2          -6929         35               высшее             0   \n",
       "9          0          -2188         41              среднее             1   \n",
       "10         2          -4171         36               высшее             0   \n",
       "11         0           -792         40              среднее             1   \n",
       "12         0          63046         65              среднее             1   \n",
       "13         0          -1846         54  неоконченное высшее             2   \n",
       "14         0          -1844         56               высшее             0   \n",
       "\n",
       "       family_status  family_status_id gender income_type  debt  total_income  \\\n",
       "0    женат / замужем                 0      F   сотрудник     0        253875   \n",
       "1    женат / замужем                 0      F   сотрудник     0        112080   \n",
       "2    женат / замужем                 0      M   сотрудник     0        145885   \n",
       "3    женат / замужем                 0      M   сотрудник     0        267628   \n",
       "4   гражданский брак                 1      F   пенсионер     0        158616   \n",
       "5   гражданский брак                 1      M   компаньон     0        255763   \n",
       "6    женат / замужем                 0      F   компаньон     0        240525   \n",
       "7    женат / замужем                 0      M   сотрудник     0        135823   \n",
       "8   гражданский брак                 1      F   сотрудник     0         95856   \n",
       "9    женат / замужем                 0      M   сотрудник     0        144425   \n",
       "10   женат / замужем                 0      M   компаньон     0        113943   \n",
       "11   женат / замужем                 0      F   сотрудник     0         77069   \n",
       "12  гражданский брак                 1      M   пенсионер     0        145017   \n",
       "13   женат / замужем                 0      F   сотрудник     0        130458   \n",
       "14  гражданский брак                 1      F   компаньон     1        165127   \n",
       "\n",
       "                              purpose    purpose_id  \n",
       "0                       покупка жилья  недвижимость  \n",
       "1             приобретение автомобиля    автомобиль  \n",
       "2                       покупка жилья  недвижимость  \n",
       "3          дополнительное образование   образование  \n",
       "4                     сыграть свадьбу       свадьба  \n",
       "5                       покупка жилья  недвижимость  \n",
       "6                   операции с жильем  недвижимость  \n",
       "7                         образование   образование  \n",
       "8               на проведение свадьбы       свадьба  \n",
       "9             покупка жилья для семьи  недвижимость  \n",
       "10               покупка недвижимости  недвижимость  \n",
       "11  покупка коммерческой недвижимости  недвижимость  \n",
       "12                    сыграть свадьбу       свадьба  \n",
       "13            приобретение автомобиля    автомобиль  \n",
       "14         покупка жилой недвижимости  недвижимость  "
      ]
     },
     "metadata": {},
     "output_type": "display_data"
    }
   ],
   "source": [
    "def lemma_for_id(row): # напишем функцию для создания столбца с категориями\n",
    "    purpose_lemma = m.lemmatize(row['purpose'])\n",
    "    if 'автомобиль' in purpose_lemma:\n",
    "        return 'автомобиль'\n",
    "    if ('жилье' in purpose_lemma) or ('недвижимость' in purpose_lemma):\n",
    "        return 'недвижимость'\n",
    "    if 'свадьба'  in purpose_lemma:\n",
    "        return 'свадьба'\n",
    "    if 'образование' in purpose_lemma:\n",
    "        return 'образование'\n",
    "    \n",
    "data['purpose_id'] = data.apply(lemma_for_id, axis=1)\n",
    "\n",
    "display(data.head(15))"
   ]
  },
  {
   "cell_type": "markdown",
   "metadata": {},
   "source": [
    "**Вывод**"
   ]
  },
  {
   "cell_type": "markdown",
   "metadata": {},
   "source": [
    "Провели лемматизацию, выделили категории в отдельной колонке: свадьба, автомобиль, недвижимость, образование."
   ]
  },
  {
   "cell_type": "markdown",
   "metadata": {},
   "source": [
    "### Категоризация данных"
   ]
  },
  {
   "cell_type": "markdown",
   "metadata": {},
   "source": [
    "Выделим категории в зависимости от уровня дохода.\n",
    "\n",
    "Федеральная служба государственной статистики разделяет уровень жизни россиян в зависимости от доходов на следующие категории:\n",
    "\n",
    "- крайняя нищета (доходы ниже прожиточного минимума — до 7-8 тыс.р.)\n",
    "- нищета (доходы от одного до двух прожиточных минимума — от 8 до 12 тыс.р.)\n",
    "- бедность (доходы от 12 до 20 тысяч рублей в месяц)\n",
    "- выше бедности (доходы от 20 до 30 тысяч рублей в месяц)\n",
    "- средний достаток — (доходы от 30 до 60 тысяч рублей в месяц)\n",
    "- состоятельные — (доходы от 60 до 90 тысяч рублей в месяц)\n",
    "- богатые — (доходы от 90 тысяч рублей в месяц)\n",
    "- сверхбогатые — (доходы свыше 150 тысяч рублей в месяц)\n",
    "\n",
    "Но нам такподробно не нужно и мы выделим свои категории:\n",
    "- Низкий доход - до 29 999 руб.\n",
    "- Средний доход - от 30 000 до 59 999 руб.\n",
    "- Высокий доход - от 60 000 до 149 999 руб.\n",
    "- Сверхвысокий доход - от 150 000 руб."
   ]
  },
  {
   "cell_type": "code",
   "execution_count": 15,
   "metadata": {},
   "outputs": [],
   "source": [
    "#def income_grouped(cash):\n",
    "#    if data['total_income'].min() <= cash <= data['total_income'].median():\n",
    "#        return 'низкий'\n",
    "#    if data['total_income'].median() <= cash <= data['total_income'].max():\n",
    "#        return 'высокий'\n",
    "    \n",
    "#print(income_grouped(150000))\n",
    "\n",
    "def income_grouped(cash):\n",
    "    if 0 <= cash <= 59999:\n",
    "        return 'низкий доход'\n",
    "    if 60000 <= cash <= 149999:\n",
    "        return 'средний доход'\n",
    "    if 150000 <= cash <= 500000:\n",
    "        return 'высокий доход'\n",
    "    return 'сверхбогатые'\n",
    "\n",
    "data['total_income_id'] = data['total_income'].apply(income_grouped)"
   ]
  },
  {
   "cell_type": "code",
   "execution_count": 16,
   "metadata": {
    "scrolled": true
   },
   "outputs": [],
   "source": [
    "#print(data.sort_values('total_income', ascending=False).head(20))\n",
    "#print(data['total_income_id'].value_counts())\n"
   ]
  },
  {
   "cell_type": "markdown",
   "metadata": {},
   "source": [
    "**Вывод**"
   ]
  },
  {
   "cell_type": "markdown",
   "metadata": {},
   "source": [
    "Категоризировал колонку с доходом: \"высокий\", \"средний\", \"низкий\".\n",
    "Так же сделал категории для колонки \"Цель\".\n",
    "В остальной таблице так или иначе уже есть категории."
   ]
  },
  {
   "cell_type": "markdown",
   "metadata": {},
   "source": [
    "## Шаг 3. Ответьте на вопросы"
   ]
  },
  {
   "cell_type": "markdown",
   "metadata": {},
   "source": [
    "- Есть ли зависимость между наличием детей и возвратом кредита в срок?"
   ]
  },
  {
   "cell_type": "code",
   "execution_count": 17,
   "metadata": {},
   "outputs": [
    {
     "name": "stdout",
     "output_type": "stream",
     "text": [
      "               debt\n",
      "children           \n",
      "0         12.255880\n",
      "1          9.910112\n",
      "2          9.534653\n",
      "3         11.222222\n",
      "4          9.250000\n",
      "5               NaN\n"
     ]
    }
   ],
   "source": [
    "#children = data[(data['children_id'] == 'есть дети') & (data['debt'] == 0)]\n",
    "\n",
    "children = data[['children','debt']]\n",
    "\n",
    "#print(children.query('debt == 0').groupby('children').count())\n",
    "#print(children.query('debt == 1').groupby('children').count())\n",
    "\n",
    "print(children.query('debt == 0').groupby('children').count() / children.query('debt == 1').groupby('children').count())"
   ]
  },
  {
   "cell_type": "markdown",
   "metadata": {},
   "source": [
    "**Вывод**"
   ]
  },
  {
   "cell_type": "markdown",
   "metadata": {},
   "source": [
    "Из данных представленных выше мы видим, что с возрастанием количества детей уменьшается риск не возврата долга вовремя. Но семьи с тремя детьми выделяются на общем фоне. Это может быть связано со слишком маленькой выборкой по этой категории."
   ]
  },
  {
   "cell_type": "markdown",
   "metadata": {},
   "source": [
    "- Есть ли зависимость между семейным положением и возвратом кредита в срок?"
   ]
  },
  {
   "cell_type": "code",
   "execution_count": 18,
   "metadata": {},
   "outputs": [
    {
     "name": "stdout",
     "output_type": "stream",
     "text": [
      "                            debt\n",
      "family_status                   \n",
      "Не женат / не замужем   9.255474\n",
      "в разводе              13.058824\n",
      "вдовец / вдова         14.222222\n",
      "гражданский брак        9.698454\n",
      "женат / замужем        12.253491\n"
     ]
    }
   ],
   "source": [
    "family = data[['family_status','debt']]\n",
    "\n",
    "#print(family.query('debt == 0').groupby('family_status').count())\n",
    "#print(family.query('debt == 1').groupby('family_status').count())\n",
    "\n",
    "print(family.query('debt == 0').groupby('family_status').count() / family.query('debt == 1').groupby('family_status').count())"
   ]
  },
  {
   "cell_type": "markdown",
   "metadata": {},
   "source": [
    "**Вывод**"
   ]
  },
  {
   "cell_type": "markdown",
   "metadata": {},
   "source": [
    "Из представленных выше данных видим соотношение количества должников среди разных категорий.\n",
    "\n",
    "Чаще всего не отдают долг вовремя вдовцы и те кто в разводе, что в-принципе логично.\n",
    "\n",
    "Самое меньшее количество должников находится среди необременённых официальными отношениями."
   ]
  },
  {
   "cell_type": "markdown",
   "metadata": {},
   "source": [
    "- Есть ли зависимость между уровнем дохода и возвратом кредита в срок?"
   ]
  },
  {
   "cell_type": "code",
   "execution_count": 19,
   "metadata": {},
   "outputs": [
    {
     "name": "stdout",
     "output_type": "stream",
     "text": [
      "                      debt\n",
      "total_income_id           \n",
      "высокий доход    11.587079\n",
      "низкий доход     15.448980\n",
      "сверхбогатые     14.857143\n",
      "средний доход    10.867495\n"
     ]
    }
   ],
   "source": [
    "income = data[['total_income_id', 'debt']]\n",
    "\n",
    "#print(income.query('debt == 0').groupby('total_income_id').count())\n",
    "#print(income.query('debt == 1').groupby('total_income_id').count())\n",
    "\n",
    "print(income.query('debt == 0').groupby('total_income_id').count() / income.query('debt == 1').groupby('total_income_id').count())"
   ]
  },
  {
   "cell_type": "markdown",
   "metadata": {},
   "source": [
    "**Вывод**"
   ]
  },
  {
   "cell_type": "markdown",
   "metadata": {},
   "source": [
    "Исходя из полученного результата видно, люди имеющие средний доход реже всего допускают просрочку по возврату долга. А бедняки и богачи напротив имеют самые высокие риски."
   ]
  },
  {
   "cell_type": "markdown",
   "metadata": {},
   "source": [
    "- Как разные цели кредита влияют на его возврат в срок?"
   ]
  },
  {
   "cell_type": "code",
   "execution_count": 20,
   "metadata": {
    "scrolled": true
   },
   "outputs": [
    {
     "name": "stdout",
     "output_type": "stream",
     "text": [
      "                   debt\n",
      "purpose_id             \n",
      "автомобиль     9.684864\n",
      "недвижимость  12.824808\n",
      "образование    9.845946\n",
      "свадьба       11.494624\n"
     ]
    }
   ],
   "source": [
    "purpose = data[['purpose_id', 'debt']]\n",
    "\n",
    "#print(purpose.query('debt == 0').groupby('purpose_id').count())\n",
    "#print(purpose.query('debt == 1').groupby('purpose_id').count())\n",
    "\n",
    "print(purpose.query('debt == 0').groupby('purpose_id').count() / purpose.query('debt == 1').groupby('purpose_id').count())"
   ]
  },
  {
   "cell_type": "code",
   "execution_count": 21,
   "metadata": {},
   "outputs": [
    {
     "data": {
      "text/html": [
       "<div>\n",
       "<style scoped>\n",
       "    .dataframe tbody tr th:only-of-type {\n",
       "        vertical-align: middle;\n",
       "    }\n",
       "\n",
       "    .dataframe tbody tr th {\n",
       "        vertical-align: top;\n",
       "    }\n",
       "\n",
       "    .dataframe thead th {\n",
       "        text-align: right;\n",
       "    }\n",
       "</style>\n",
       "<table border=\"1\" class=\"dataframe\">\n",
       "  <thead>\n",
       "    <tr style=\"text-align: right;\">\n",
       "      <th></th>\n",
       "      <th>count</th>\n",
       "      <th>mean</th>\n",
       "    </tr>\n",
       "    <tr>\n",
       "      <th>purpose_id</th>\n",
       "      <th></th>\n",
       "      <th></th>\n",
       "    </tr>\n",
       "  </thead>\n",
       "  <tbody>\n",
       "    <tr>\n",
       "      <th>автомобиль</th>\n",
       "      <td>4306</td>\n",
       "      <td>0.093590</td>\n",
       "    </tr>\n",
       "    <tr>\n",
       "      <th>недвижимость</th>\n",
       "      <td>10811</td>\n",
       "      <td>0.072334</td>\n",
       "    </tr>\n",
       "    <tr>\n",
       "      <th>образование</th>\n",
       "      <td>4013</td>\n",
       "      <td>0.092200</td>\n",
       "    </tr>\n",
       "    <tr>\n",
       "      <th>свадьба</th>\n",
       "      <td>2324</td>\n",
       "      <td>0.080034</td>\n",
       "    </tr>\n",
       "  </tbody>\n",
       "</table>\n",
       "</div>"
      ],
      "text/plain": [
       "              count      mean\n",
       "purpose_id                   \n",
       "автомобиль     4306  0.093590\n",
       "недвижимость  10811  0.072334\n",
       "образование    4013  0.092200\n",
       "свадьба        2324  0.080034"
      ]
     },
     "execution_count": 21,
     "metadata": {},
     "output_type": "execute_result"
    }
   ],
   "source": [
    "data.groupby('purpose_id')['debt'].agg(['count', 'mean'])"
   ]
  },
  {
   "cell_type": "code",
   "execution_count": 22,
   "metadata": {},
   "outputs": [],
   "source": [
    "debt_0 = data[data['debt'] == 0]\n",
    "debt_1 = data[data['debt'] == 1]"
   ]
  },
  {
   "cell_type": "code",
   "execution_count": 23,
   "metadata": {},
   "outputs": [
    {
     "name": "stdout",
     "output_type": "stream",
     "text": [
      "0    19713\n",
      "Name: debt, dtype: int64\n",
      "1    1741\n",
      "Name: debt, dtype: int64\n"
     ]
    }
   ],
   "source": [
    "print(debt_0['debt'].value_counts())\n",
    "print(debt_1['debt'].value_counts())"
   ]
  },
  {
   "cell_type": "markdown",
   "metadata": {},
   "source": [
    "**Вывод**"
   ]
  },
  {
   "cell_type": "markdown",
   "metadata": {},
   "source": [
    "Просрочку по кредиту чаще всего допускают люди которые берут кредит на недвижимость.\n",
    "\n",
    "Реже всего автомобилисты."
   ]
  },
  {
   "cell_type": "markdown",
   "metadata": {},
   "source": [
    "## Шаг 4. Общий вывод"
   ]
  },
  {
   "cell_type": "markdown",
   "metadata": {},
   "source": [
    "В результате первичного ознакомления с входными данными была проведена работа по их предобработке, которая включила в себя: определение и заполнение пропущенных значений, замену типов данных, удаление дубликатов, выделение лемм и категоризацию данных.\n",
    "\n",
    "При обработке данных были обнаружены артефакты, и некорректные значения. Например было исправлено отсутствие значение возраста \"0\" на средний возраст клиентов. Колонка трудовой стаж была оставлена без изменений, так как не влияет на решение поставленных вопросов. Хотя есть несколько гипотез касающихся отрицательных (или высоких\\низких) значений в этой колонке. Например, некоторе значения могут быть занесены в часах вместо дней.\n",
    "\n",
    "В целом, все важные, имеющие значение данные были исправлены для дальнейшей работы с таблицей.\n",
    "\n",
    "Основываясь на проведенной работе можно сделать общий вывод, что в целом закономерности прослеживаются и то что понятно интуитивно, подтверждается анализом данных. \n",
    "\n",
    "Например, люди с детьми более ответственно относятся к долговым обязательствам. Или что люди разведенные или вдовцы имеют более высокий риск просрочки. А вот например тот факт, что богатые люди чаще допускают просрочку по кредиту, чем средний класс, не всегда очевидно.\n",
    "\n",
    "Можно было провести более глубокий анализ, и выявить больше закономерностей, например отследить закономерности по возврату долга в зависимости от образования, возраста, статуса клиентов. И с большой долей вероятности этот дополнительный анализ подтвердил бы общий вывод проекта.\n",
    "\n",
    "Общая рекомендация заказчику: \n",
    "\n",
    "Основываясь на проведённом анализе можно проследить определенные закономерности и учесть их при построении модели кредитного скоринга."
   ]
  }
 ],
 "metadata": {
  "ExecuteTimeLog": [
   {
    "duration": 626,
    "start_time": "2022-01-01T19:11:37.196Z"
   },
   {
    "duration": 61,
    "start_time": "2022-01-01T19:12:52.675Z"
   },
   {
    "duration": 56,
    "start_time": "2022-01-01T19:12:59.627Z"
   },
   {
    "duration": 59,
    "start_time": "2022-01-01T19:17:55.127Z"
   },
   {
    "duration": 66,
    "start_time": "2022-01-01T19:19:50.534Z"
   },
   {
    "duration": 63,
    "start_time": "2022-01-01T19:24:18.163Z"
   },
   {
    "duration": 64,
    "start_time": "2022-01-01T19:24:31.859Z"
   },
   {
    "duration": 634,
    "start_time": "2022-01-02T10:30:58.735Z"
   },
   {
    "duration": 8991,
    "start_time": "2022-01-02T10:55:32.771Z"
   },
   {
    "duration": 58,
    "start_time": "2022-01-02T10:56:01.259Z"
   },
   {
    "duration": -422,
    "start_time": "2022-01-02T10:56:16.900Z"
   },
   {
    "duration": 8003,
    "start_time": "2022-01-02T10:56:19.283Z"
   },
   {
    "duration": 8045,
    "start_time": "2022-01-02T10:56:43.478Z"
   },
   {
    "duration": 6,
    "start_time": "2022-01-02T10:57:02.947Z"
   },
   {
    "duration": 5,
    "start_time": "2022-01-02T10:59:22.680Z"
   },
   {
    "duration": 4,
    "start_time": "2022-01-02T10:59:30.136Z"
   },
   {
    "duration": 4,
    "start_time": "2022-01-02T10:59:36.072Z"
   },
   {
    "duration": 117,
    "start_time": "2022-01-02T10:59:48.788Z"
   },
   {
    "duration": 4,
    "start_time": "2022-01-02T10:59:52.561Z"
   },
   {
    "duration": 4,
    "start_time": "2022-01-02T11:00:10.231Z"
   },
   {
    "duration": 14,
    "start_time": "2022-01-02T11:00:34.080Z"
   },
   {
    "duration": 7,
    "start_time": "2022-01-02T11:00:44.375Z"
   },
   {
    "duration": 322,
    "start_time": "2022-01-02T11:03:24.637Z"
   },
   {
    "duration": 119,
    "start_time": "2022-01-02T11:03:33.741Z"
   },
   {
    "duration": 9,
    "start_time": "2022-01-02T11:03:49.788Z"
   },
   {
    "duration": 13,
    "start_time": "2022-01-02T11:04:34.659Z"
   },
   {
    "duration": 8188,
    "start_time": "2022-01-02T11:04:44.716Z"
   },
   {
    "duration": 111,
    "start_time": "2022-01-02T11:04:53.243Z"
   },
   {
    "duration": 17,
    "start_time": "2022-01-02T11:05:02.491Z"
   },
   {
    "duration": 7,
    "start_time": "2022-01-02T11:05:12.004Z"
   },
   {
    "duration": 103,
    "start_time": "2022-01-02T11:06:39.034Z"
   },
   {
    "duration": 109,
    "start_time": "2022-01-02T11:06:43.634Z"
   },
   {
    "duration": 173,
    "start_time": "2022-01-02T11:06:55.801Z"
   },
   {
    "duration": 5,
    "start_time": "2022-01-02T11:07:07.721Z"
   },
   {
    "duration": 6,
    "start_time": "2022-01-02T11:08:07.705Z"
   },
   {
    "duration": 62,
    "start_time": "2022-01-02T11:17:29.904Z"
   },
   {
    "duration": 12,
    "start_time": "2022-01-02T11:18:18.208Z"
   },
   {
    "duration": 61,
    "start_time": "2022-01-02T11:22:08.934Z"
   },
   {
    "duration": 46,
    "start_time": "2022-01-02T11:23:08.812Z"
   },
   {
    "duration": 3,
    "start_time": "2022-01-02T11:24:39.589Z"
   },
   {
    "duration": 22,
    "start_time": "2022-01-02T11:24:50.883Z"
   },
   {
    "duration": 22,
    "start_time": "2022-01-02T11:33:53.707Z"
   },
   {
    "duration": 6,
    "start_time": "2022-01-02T11:35:13.395Z"
   },
   {
    "duration": 324,
    "start_time": "2022-01-02T11:37:58.706Z"
   },
   {
    "duration": 7,
    "start_time": "2022-01-02T11:38:07.535Z"
   },
   {
    "duration": 7,
    "start_time": "2022-01-02T11:39:24.070Z"
   },
   {
    "duration": 15,
    "start_time": "2022-01-02T11:56:13.208Z"
   },
   {
    "duration": 382,
    "start_time": "2022-01-02T11:56:36.160Z"
   },
   {
    "duration": 13,
    "start_time": "2022-01-02T11:56:40.304Z"
   },
   {
    "duration": 14,
    "start_time": "2022-01-02T11:57:38.087Z"
   },
   {
    "duration": 7,
    "start_time": "2022-01-02T12:05:25.160Z"
   },
   {
    "duration": 102,
    "start_time": "2022-01-02T12:08:31.271Z"
   },
   {
    "duration": 368,
    "start_time": "2022-01-02T12:08:43.815Z"
   },
   {
    "duration": 24,
    "start_time": "2022-01-02T12:08:51.358Z"
   },
   {
    "duration": 20,
    "start_time": "2022-01-02T12:09:02.269Z"
   },
   {
    "duration": 16,
    "start_time": "2022-01-02T12:09:46.670Z"
   },
   {
    "duration": 16,
    "start_time": "2022-01-02T12:10:09.052Z"
   },
   {
    "duration": 13,
    "start_time": "2022-01-02T12:10:28.932Z"
   },
   {
    "duration": 62,
    "start_time": "2022-01-02T12:10:38.276Z"
   },
   {
    "duration": 15,
    "start_time": "2022-01-02T12:10:42.571Z"
   },
   {
    "duration": 14,
    "start_time": "2022-01-02T12:10:55.059Z"
   },
   {
    "duration": 11,
    "start_time": "2022-01-02T12:20:49.523Z"
   },
   {
    "duration": 12,
    "start_time": "2022-01-02T12:21:44.683Z"
   },
   {
    "duration": 18,
    "start_time": "2022-01-02T12:22:00.403Z"
   },
   {
    "duration": 11,
    "start_time": "2022-01-02T12:22:36.569Z"
   },
   {
    "duration": 13,
    "start_time": "2022-01-02T12:24:45.745Z"
   },
   {
    "duration": 14,
    "start_time": "2022-01-02T12:25:09.674Z"
   },
   {
    "duration": 14,
    "start_time": "2022-01-02T12:25:16.377Z"
   },
   {
    "duration": 14,
    "start_time": "2022-01-02T12:25:29.424Z"
   },
   {
    "duration": 14,
    "start_time": "2022-01-02T12:25:56.729Z"
   },
   {
    "duration": 14,
    "start_time": "2022-01-02T12:26:52.760Z"
   },
   {
    "duration": 16,
    "start_time": "2022-01-02T12:27:01.680Z"
   },
   {
    "duration": 4,
    "start_time": "2022-01-02T12:28:49.244Z"
   },
   {
    "duration": 63,
    "start_time": "2022-01-02T12:29:01.389Z"
   },
   {
    "duration": 15,
    "start_time": "2022-01-02T12:29:04.629Z"
   },
   {
    "duration": 4,
    "start_time": "2022-01-02T12:29:07.453Z"
   },
   {
    "duration": 14,
    "start_time": "2022-01-02T12:33:02.066Z"
   },
   {
    "duration": 35,
    "start_time": "2022-01-02T12:33:59.257Z"
   },
   {
    "duration": 13,
    "start_time": "2022-01-02T12:34:29.665Z"
   },
   {
    "duration": 35,
    "start_time": "2022-01-02T12:34:38.249Z"
   },
   {
    "duration": 26,
    "start_time": "2022-01-02T12:36:25.455Z"
   },
   {
    "duration": 25,
    "start_time": "2022-01-02T12:39:07.277Z"
   },
   {
    "duration": 25,
    "start_time": "2022-01-02T12:39:51.084Z"
   },
   {
    "duration": 24,
    "start_time": "2022-01-02T12:39:58.308Z"
   },
   {
    "duration": 25,
    "start_time": "2022-01-02T12:40:07.907Z"
   },
   {
    "duration": 27,
    "start_time": "2022-01-02T12:41:32.258Z"
   },
   {
    "duration": 104,
    "start_time": "2022-01-02T12:41:48.681Z"
   },
   {
    "duration": 26,
    "start_time": "2022-01-02T12:42:01.354Z"
   },
   {
    "duration": 26,
    "start_time": "2022-01-02T12:42:10.113Z"
   },
   {
    "duration": 26,
    "start_time": "2022-01-02T12:42:15.369Z"
   },
   {
    "duration": 26,
    "start_time": "2022-01-02T12:43:13.425Z"
   },
   {
    "duration": 11,
    "start_time": "2022-01-02T12:45:25.534Z"
   },
   {
    "duration": 12,
    "start_time": "2022-01-02T12:46:08.768Z"
   },
   {
    "duration": 13,
    "start_time": "2022-01-02T12:46:33.134Z"
   },
   {
    "duration": 6,
    "start_time": "2022-01-02T12:48:10.396Z"
   },
   {
    "duration": 6,
    "start_time": "2022-01-02T12:49:45.082Z"
   },
   {
    "duration": 5,
    "start_time": "2022-01-02T12:50:00.236Z"
   },
   {
    "duration": 6,
    "start_time": "2022-01-02T12:50:35.987Z"
   },
   {
    "duration": 14,
    "start_time": "2022-01-02T12:57:19.942Z"
   },
   {
    "duration": 39,
    "start_time": "2022-01-02T12:57:53.198Z"
   },
   {
    "duration": 24,
    "start_time": "2022-01-02T12:58:05.701Z"
   },
   {
    "duration": 36,
    "start_time": "2022-01-02T12:58:16.708Z"
   },
   {
    "duration": 24,
    "start_time": "2022-01-02T12:58:21.796Z"
   },
   {
    "duration": 61,
    "start_time": "2022-01-02T13:03:23.816Z"
   },
   {
    "duration": 15,
    "start_time": "2022-01-02T13:03:27.049Z"
   },
   {
    "duration": 6,
    "start_time": "2022-01-02T13:03:31.224Z"
   },
   {
    "duration": 29,
    "start_time": "2022-01-02T13:03:34.136Z"
   },
   {
    "duration": 15,
    "start_time": "2022-01-02T13:03:37.800Z"
   },
   {
    "duration": 6,
    "start_time": "2022-01-02T13:03:40.174Z"
   },
   {
    "duration": 6,
    "start_time": "2022-01-02T13:03:41.079Z"
   },
   {
    "duration": 6,
    "start_time": "2022-01-02T13:03:42.927Z"
   },
   {
    "duration": 31,
    "start_time": "2022-01-02T13:03:44.670Z"
   },
   {
    "duration": 25,
    "start_time": "2022-01-02T13:03:57.950Z"
   },
   {
    "duration": 6,
    "start_time": "2022-01-02T13:04:01.391Z"
   },
   {
    "duration": 26,
    "start_time": "2022-01-02T13:04:03.990Z"
   },
   {
    "duration": 646,
    "start_time": "2022-01-02T13:04:19.320Z"
   },
   {
    "duration": 18,
    "start_time": "2022-01-02T13:04:19.968Z"
   },
   {
    "duration": 4,
    "start_time": "2022-01-02T13:04:19.988Z"
   },
   {
    "duration": 52,
    "start_time": "2022-01-02T13:04:19.994Z"
   },
   {
    "duration": 17,
    "start_time": "2022-01-02T13:04:20.048Z"
   },
   {
    "duration": 5,
    "start_time": "2022-01-02T13:04:20.066Z"
   },
   {
    "duration": 7,
    "start_time": "2022-01-02T13:04:20.072Z"
   },
   {
    "duration": 7,
    "start_time": "2022-01-02T13:04:20.081Z"
   },
   {
    "duration": 50,
    "start_time": "2022-01-02T13:04:20.090Z"
   },
   {
    "duration": 26,
    "start_time": "2022-01-02T13:05:27.055Z"
   },
   {
    "duration": 27,
    "start_time": "2022-01-02T13:05:35.127Z"
   },
   {
    "duration": 11,
    "start_time": "2022-01-02T13:05:45.864Z"
   },
   {
    "duration": 657,
    "start_time": "2022-01-02T13:06:15.302Z"
   },
   {
    "duration": 14,
    "start_time": "2022-01-02T13:06:15.963Z"
   },
   {
    "duration": 4,
    "start_time": "2022-01-02T13:06:15.979Z"
   },
   {
    "duration": 45,
    "start_time": "2022-01-02T13:06:15.984Z"
   },
   {
    "duration": 13,
    "start_time": "2022-01-02T13:06:16.031Z"
   },
   {
    "duration": 6,
    "start_time": "2022-01-02T13:06:16.046Z"
   },
   {
    "duration": 5,
    "start_time": "2022-01-02T13:06:16.054Z"
   },
   {
    "duration": 6,
    "start_time": "2022-01-02T13:06:16.061Z"
   },
   {
    "duration": 24,
    "start_time": "2022-01-02T13:06:16.069Z"
   },
   {
    "duration": 36,
    "start_time": "2022-01-02T13:06:16.095Z"
   },
   {
    "duration": 594,
    "start_time": "2022-01-02T13:06:39.571Z"
   },
   {
    "duration": 13,
    "start_time": "2022-01-02T13:06:40.167Z"
   },
   {
    "duration": 3,
    "start_time": "2022-01-02T13:06:40.182Z"
   },
   {
    "duration": 28,
    "start_time": "2022-01-02T13:06:40.186Z"
   },
   {
    "duration": 23,
    "start_time": "2022-01-02T13:06:40.215Z"
   },
   {
    "duration": 7,
    "start_time": "2022-01-02T13:06:40.239Z"
   },
   {
    "duration": 7,
    "start_time": "2022-01-02T13:06:40.247Z"
   },
   {
    "duration": 7,
    "start_time": "2022-01-02T13:06:40.255Z"
   },
   {
    "duration": 37,
    "start_time": "2022-01-02T13:06:40.263Z"
   },
   {
    "duration": 28,
    "start_time": "2022-01-02T13:06:40.302Z"
   },
   {
    "duration": 17,
    "start_time": "2022-01-02T13:07:42.570Z"
   },
   {
    "duration": 16,
    "start_time": "2022-01-02T13:07:52.033Z"
   },
   {
    "duration": 618,
    "start_time": "2022-01-02T13:07:57.847Z"
   },
   {
    "duration": 13,
    "start_time": "2022-01-02T13:07:58.467Z"
   },
   {
    "duration": 4,
    "start_time": "2022-01-02T13:07:58.482Z"
   },
   {
    "duration": 18,
    "start_time": "2022-01-02T13:07:58.487Z"
   },
   {
    "duration": 22,
    "start_time": "2022-01-02T13:07:58.506Z"
   },
   {
    "duration": 8,
    "start_time": "2022-01-02T13:07:58.530Z"
   },
   {
    "duration": 12,
    "start_time": "2022-01-02T13:07:58.539Z"
   },
   {
    "duration": 13,
    "start_time": "2022-01-02T13:07:58.553Z"
   },
   {
    "duration": 40,
    "start_time": "2022-01-02T13:07:58.568Z"
   },
   {
    "duration": 8,
    "start_time": "2022-01-02T13:07:58.609Z"
   },
   {
    "duration": 634,
    "start_time": "2022-01-02T13:08:43.028Z"
   },
   {
    "duration": 13,
    "start_time": "2022-01-02T13:08:43.664Z"
   },
   {
    "duration": 4,
    "start_time": "2022-01-02T13:08:43.679Z"
   },
   {
    "duration": 14,
    "start_time": "2022-01-02T13:08:43.684Z"
   },
   {
    "duration": 13,
    "start_time": "2022-01-02T13:08:43.700Z"
   },
   {
    "duration": 17,
    "start_time": "2022-01-02T13:08:43.714Z"
   },
   {
    "duration": 10,
    "start_time": "2022-01-02T13:08:43.732Z"
   },
   {
    "duration": 7,
    "start_time": "2022-01-02T13:08:43.744Z"
   },
   {
    "duration": 39,
    "start_time": "2022-01-02T13:08:43.752Z"
   },
   {
    "duration": 9,
    "start_time": "2022-01-02T13:08:43.792Z"
   },
   {
    "duration": 14,
    "start_time": "2022-01-02T13:14:40.968Z"
   },
   {
    "duration": 19,
    "start_time": "2022-01-02T13:14:46.583Z"
   },
   {
    "duration": 808,
    "start_time": "2022-01-02T13:21:11.882Z"
   },
   {
    "duration": 13,
    "start_time": "2022-01-02T13:23:21.944Z"
   },
   {
    "duration": 568,
    "start_time": "2022-01-02T13:23:24.536Z"
   },
   {
    "duration": 620,
    "start_time": "2022-01-02T13:28:47.548Z"
   },
   {
    "duration": 713,
    "start_time": "2022-01-02T13:40:24.515Z"
   },
   {
    "duration": 21,
    "start_time": "2022-01-02T13:40:36.609Z"
   },
   {
    "duration": 588,
    "start_time": "2022-01-02T13:40:37.208Z"
   },
   {
    "duration": 399,
    "start_time": "2022-01-02T13:41:12.281Z"
   },
   {
    "duration": 331,
    "start_time": "2022-01-02T13:41:21.377Z"
   },
   {
    "duration": 353,
    "start_time": "2022-01-02T13:41:33.027Z"
   },
   {
    "duration": 337,
    "start_time": "2022-01-02T13:42:33.873Z"
   },
   {
    "duration": 2225,
    "start_time": "2022-01-02T13:42:54.729Z"
   },
   {
    "duration": 10,
    "start_time": "2022-01-02T13:43:16.672Z"
   },
   {
    "duration": 3,
    "start_time": "2022-01-02T13:43:26.307Z"
   },
   {
    "duration": 311,
    "start_time": "2022-01-02T13:53:57.576Z"
   },
   {
    "duration": 1182,
    "start_time": "2022-01-02T13:54:06.359Z"
   },
   {
    "duration": 103,
    "start_time": "2022-01-02T14:05:06.750Z"
   },
   {
    "duration": 11,
    "start_time": "2022-01-02T14:05:11.589Z"
   },
   {
    "duration": 547,
    "start_time": "2022-01-02T14:09:38.977Z"
   },
   {
    "duration": 107,
    "start_time": "2022-01-02T14:11:10.497Z"
   },
   {
    "duration": 6,
    "start_time": "2022-01-02T14:11:16.415Z"
   },
   {
    "duration": 5,
    "start_time": "2022-01-02T14:11:25.047Z"
   },
   {
    "duration": 6,
    "start_time": "2022-01-02T14:15:20.870Z"
   },
   {
    "duration": 5,
    "start_time": "2022-01-02T14:15:25.251Z"
   },
   {
    "duration": 2389,
    "start_time": "2022-01-02T14:23:19.854Z"
   },
   {
    "duration": 2635,
    "start_time": "2022-01-02T14:24:39.112Z"
   },
   {
    "duration": 327,
    "start_time": "2022-01-02T14:25:06.308Z"
   },
   {
    "duration": 2766,
    "start_time": "2022-01-02T14:25:36.822Z"
   },
   {
    "duration": 3012,
    "start_time": "2022-01-02T14:25:45.468Z"
   },
   {
    "duration": 2436,
    "start_time": "2022-01-02T14:27:36.251Z"
   },
   {
    "duration": 2368,
    "start_time": "2022-01-02T14:27:55.563Z"
   },
   {
    "duration": 318,
    "start_time": "2022-01-02T14:28:21.859Z"
   },
   {
    "duration": 6753,
    "start_time": "2022-01-02T14:29:31.041Z"
   },
   {
    "duration": 2536,
    "start_time": "2022-01-02T14:30:08.299Z"
   },
   {
    "duration": 7792,
    "start_time": "2022-01-02T14:30:23.025Z"
   },
   {
    "duration": 565,
    "start_time": "2022-01-02T14:44:09.751Z"
   },
   {
    "duration": 10139,
    "start_time": "2022-01-02T14:44:24.780Z"
   },
   {
    "duration": 6709,
    "start_time": "2022-01-02T14:45:20.421Z"
   },
   {
    "duration": 794,
    "start_time": "2022-01-02T14:52:05.008Z"
   },
   {
    "duration": 14,
    "start_time": "2022-01-02T14:52:05.804Z"
   },
   {
    "duration": 9,
    "start_time": "2022-01-02T14:52:05.819Z"
   },
   {
    "duration": 14,
    "start_time": "2022-01-02T14:52:05.829Z"
   },
   {
    "duration": 13,
    "start_time": "2022-01-02T14:52:05.845Z"
   },
   {
    "duration": 19,
    "start_time": "2022-01-02T14:52:05.859Z"
   },
   {
    "duration": 9,
    "start_time": "2022-01-02T14:52:05.880Z"
   },
   {
    "duration": 17,
    "start_time": "2022-01-02T14:52:05.892Z"
   },
   {
    "duration": 45,
    "start_time": "2022-01-02T14:52:05.910Z"
   },
   {
    "duration": 8,
    "start_time": "2022-01-02T14:52:05.957Z"
   },
   {
    "duration": 63,
    "start_time": "2022-01-02T14:52:05.966Z"
   },
   {
    "duration": -656,
    "start_time": "2022-01-02T14:52:32.690Z"
   },
   {
    "duration": 3,
    "start_time": "2022-01-02T14:52:34.382Z"
   },
   {
    "duration": 309,
    "start_time": "2022-01-02T14:53:20.277Z"
   },
   {
    "duration": 331,
    "start_time": "2022-01-02T14:53:27.269Z"
   },
   {
    "duration": 10,
    "start_time": "2022-01-02T14:53:56.532Z"
   },
   {
    "duration": 3,
    "start_time": "2022-01-02T14:54:06.348Z"
   },
   {
    "duration": 7584,
    "start_time": "2022-01-02T14:54:09.908Z"
   },
   {
    "duration": 355,
    "start_time": "2022-01-02T15:03:10.495Z"
   },
   {
    "duration": 571,
    "start_time": "2022-01-02T15:17:42.720Z"
   },
   {
    "duration": 20,
    "start_time": "2022-01-02T15:17:55.640Z"
   },
   {
    "duration": 318,
    "start_time": "2022-01-02T15:17:57.313Z"
   },
   {
    "duration": 4,
    "start_time": "2022-01-02T15:18:35.193Z"
   },
   {
    "duration": 3415,
    "start_time": "2022-01-02T15:19:59.814Z"
   },
   {
    "duration": 7269,
    "start_time": "2022-01-02T15:20:34.310Z"
   },
   {
    "duration": 4890,
    "start_time": "2022-01-02T15:21:46.528Z"
   },
   {
    "duration": 8122,
    "start_time": "2022-01-02T15:24:47.251Z"
   },
   {
    "duration": 2764,
    "start_time": "2022-01-02T15:30:25.224Z"
   },
   {
    "duration": 332,
    "start_time": "2022-01-02T15:30:43.206Z"
   },
   {
    "duration": 2930,
    "start_time": "2022-01-02T15:30:48.902Z"
   },
   {
    "duration": 650,
    "start_time": "2022-01-02T15:35:28.021Z"
   },
   {
    "duration": 14,
    "start_time": "2022-01-02T15:35:28.673Z"
   },
   {
    "duration": 3,
    "start_time": "2022-01-02T15:35:28.689Z"
   },
   {
    "duration": 33,
    "start_time": "2022-01-02T15:35:28.694Z"
   },
   {
    "duration": 14,
    "start_time": "2022-01-02T15:35:28.728Z"
   },
   {
    "duration": 9,
    "start_time": "2022-01-02T15:35:28.743Z"
   },
   {
    "duration": 8,
    "start_time": "2022-01-02T15:35:28.753Z"
   },
   {
    "duration": 7,
    "start_time": "2022-01-02T15:35:28.763Z"
   },
   {
    "duration": 59,
    "start_time": "2022-01-02T15:35:28.771Z"
   },
   {
    "duration": 8,
    "start_time": "2022-01-02T15:35:28.831Z"
   },
   {
    "duration": 4,
    "start_time": "2022-01-02T15:35:28.841Z"
   },
   {
    "duration": 1437,
    "start_time": "2022-01-02T15:35:28.846Z"
   },
   {
    "duration": 4,
    "start_time": "2022-01-02T15:39:32.816Z"
   },
   {
    "duration": 8033,
    "start_time": "2022-01-02T15:39:46.222Z"
   },
   {
    "duration": 2579,
    "start_time": "2022-01-02T15:40:53.167Z"
   },
   {
    "duration": 2940,
    "start_time": "2022-01-02T15:41:21.717Z"
   },
   {
    "duration": 3086,
    "start_time": "2022-01-02T15:43:06.879Z"
   },
   {
    "duration": 2986,
    "start_time": "2022-01-02T15:43:24.107Z"
   },
   {
    "duration": 3219,
    "start_time": "2022-01-02T15:43:54.308Z"
   },
   {
    "duration": 2815,
    "start_time": "2022-01-02T15:45:07.514Z"
   },
   {
    "duration": 617,
    "start_time": "2022-01-02T15:45:24.485Z"
   },
   {
    "duration": 14,
    "start_time": "2022-01-02T15:45:25.103Z"
   },
   {
    "duration": 4,
    "start_time": "2022-01-02T15:45:25.119Z"
   },
   {
    "duration": 14,
    "start_time": "2022-01-02T15:45:25.124Z"
   },
   {
    "duration": 13,
    "start_time": "2022-01-02T15:45:25.139Z"
   },
   {
    "duration": 6,
    "start_time": "2022-01-02T15:45:25.154Z"
   },
   {
    "duration": 8,
    "start_time": "2022-01-02T15:45:25.162Z"
   },
   {
    "duration": 6,
    "start_time": "2022-01-02T15:45:25.173Z"
   },
   {
    "duration": 61,
    "start_time": "2022-01-02T15:45:25.181Z"
   },
   {
    "duration": 11,
    "start_time": "2022-01-02T15:45:25.244Z"
   },
   {
    "duration": 4,
    "start_time": "2022-01-02T15:45:25.257Z"
   },
   {
    "duration": 3691,
    "start_time": "2022-01-02T15:45:25.263Z"
   },
   {
    "duration": 326,
    "start_time": "2022-01-03T06:48:09.332Z"
   },
   {
    "duration": 824,
    "start_time": "2022-01-03T06:48:22.812Z"
   },
   {
    "duration": 30,
    "start_time": "2022-01-03T06:48:33.564Z"
   },
   {
    "duration": 48,
    "start_time": "2022-01-03T06:51:08.339Z"
   },
   {
    "duration": 34,
    "start_time": "2022-01-03T06:51:36.250Z"
   },
   {
    "duration": 33,
    "start_time": "2022-01-03T06:52:00.417Z"
   },
   {
    "duration": 34,
    "start_time": "2022-01-03T06:52:08.050Z"
   },
   {
    "duration": 13,
    "start_time": "2022-01-03T06:52:40.569Z"
   },
   {
    "duration": 32,
    "start_time": "2022-01-03T06:52:44.353Z"
   },
   {
    "duration": 315,
    "start_time": "2022-01-03T06:55:10.968Z"
   },
   {
    "duration": 14,
    "start_time": "2022-01-03T06:55:19.959Z"
   },
   {
    "duration": 16,
    "start_time": "2022-01-03T06:56:17.335Z"
   },
   {
    "duration": 15,
    "start_time": "2022-01-03T06:56:52.990Z"
   },
   {
    "duration": 14,
    "start_time": "2022-01-03T06:58:04.893Z"
   },
   {
    "duration": 14,
    "start_time": "2022-01-03T06:58:59.860Z"
   },
   {
    "duration": 22,
    "start_time": "2022-01-03T07:06:01.207Z"
   },
   {
    "duration": 24,
    "start_time": "2022-01-03T07:06:12.359Z"
   },
   {
    "duration": 19,
    "start_time": "2022-01-03T07:06:22.062Z"
   },
   {
    "duration": 8,
    "start_time": "2022-01-03T07:07:16.733Z"
   },
   {
    "duration": 20,
    "start_time": "2022-01-03T07:08:01.652Z"
   },
   {
    "duration": 13,
    "start_time": "2022-01-03T07:08:43.836Z"
   },
   {
    "duration": 92,
    "start_time": "2022-01-03T07:08:49.963Z"
   },
   {
    "duration": 16,
    "start_time": "2022-01-03T07:08:54.909Z"
   },
   {
    "duration": 18,
    "start_time": "2022-01-03T07:10:00.436Z"
   },
   {
    "duration": 21,
    "start_time": "2022-01-03T07:15:07.678Z"
   },
   {
    "duration": 19,
    "start_time": "2022-01-03T07:15:19.622Z"
   },
   {
    "duration": 22,
    "start_time": "2022-01-03T07:15:27.941Z"
   },
   {
    "duration": 91,
    "start_time": "2022-01-03T07:15:32.821Z"
   },
   {
    "duration": 23,
    "start_time": "2022-01-03T07:15:41.638Z"
   },
   {
    "duration": 25,
    "start_time": "2022-01-03T07:16:04.615Z"
   },
   {
    "duration": 7,
    "start_time": "2022-01-03T07:17:50.523Z"
   },
   {
    "duration": 23,
    "start_time": "2022-01-03T07:17:54.155Z"
   },
   {
    "duration": 25,
    "start_time": "2022-01-03T07:17:56.835Z"
   },
   {
    "duration": 10,
    "start_time": "2022-01-03T07:17:57.715Z"
   },
   {
    "duration": 9,
    "start_time": "2022-01-03T07:17:58.963Z"
   },
   {
    "duration": 10,
    "start_time": "2022-01-03T07:18:02.275Z"
   },
   {
    "duration": 67,
    "start_time": "2022-01-03T07:18:05.691Z"
   },
   {
    "duration": 13,
    "start_time": "2022-01-03T07:18:08.764Z"
   },
   {
    "duration": 9,
    "start_time": "2022-01-03T07:18:16.307Z"
   },
   {
    "duration": 4623,
    "start_time": "2022-01-03T07:18:17.002Z"
   },
   {
    "duration": 3699,
    "start_time": "2022-01-03T07:18:35.668Z"
   },
   {
    "duration": 2501,
    "start_time": "2022-01-03T07:28:29.851Z"
   },
   {
    "duration": 36,
    "start_time": "2022-01-03T07:28:57.194Z"
   },
   {
    "duration": 3677,
    "start_time": "2022-01-03T07:32:09.016Z"
   },
   {
    "duration": 3623,
    "start_time": "2022-01-03T07:32:22.929Z"
   },
   {
    "duration": 12,
    "start_time": "2022-01-03T07:32:29.151Z"
   },
   {
    "duration": 848,
    "start_time": "2022-01-03T07:37:22.227Z"
   },
   {
    "duration": 5452,
    "start_time": "2022-01-03T07:38:35.044Z"
   },
   {
    "duration": 290,
    "start_time": "2022-01-03T07:43:37.017Z"
   },
   {
    "duration": 27,
    "start_time": "2022-01-03T07:44:01.375Z"
   },
   {
    "duration": 19,
    "start_time": "2022-01-03T08:07:29.193Z"
   },
   {
    "duration": 9,
    "start_time": "2022-01-03T08:07:59.818Z"
   },
   {
    "duration": 11,
    "start_time": "2022-01-03T08:16:11.298Z"
   },
   {
    "duration": 14,
    "start_time": "2022-01-03T08:17:58.833Z"
   },
   {
    "duration": 21,
    "start_time": "2022-01-03T08:19:36.511Z"
   },
   {
    "duration": 25,
    "start_time": "2022-01-03T08:19:51.623Z"
   },
   {
    "duration": 3,
    "start_time": "2022-01-03T08:22:54.486Z"
   },
   {
    "duration": 3801,
    "start_time": "2022-01-03T08:23:06.668Z"
   },
   {
    "duration": 1934,
    "start_time": "2022-01-03T08:27:48.746Z"
   },
   {
    "duration": 7,
    "start_time": "2022-01-03T08:32:38.895Z"
   },
   {
    "duration": 6547,
    "start_time": "2022-01-03T08:32:51.102Z"
   },
   {
    "duration": 17,
    "start_time": "2022-01-03T08:35:15.387Z"
   },
   {
    "duration": 303,
    "start_time": "2022-01-03T08:37:16.577Z"
   },
   {
    "duration": 274,
    "start_time": "2022-01-03T08:37:43.793Z"
   },
   {
    "duration": 38,
    "start_time": "2022-01-03T10:34:00.215Z"
   },
   {
    "duration": 1912,
    "start_time": "2022-01-03T10:39:19.658Z"
   },
   {
    "duration": 4132,
    "start_time": "2022-01-03T10:39:44.138Z"
   },
   {
    "duration": 20,
    "start_time": "2022-01-03T10:39:48.273Z"
   },
   {
    "duration": 3845,
    "start_time": "2022-01-03T10:40:40.626Z"
   },
   {
    "duration": 14,
    "start_time": "2022-01-03T10:40:54.401Z"
   },
   {
    "duration": 6,
    "start_time": "2022-01-03T11:16:54.259Z"
   },
   {
    "duration": 10,
    "start_time": "2022-01-03T11:17:09.459Z"
   },
   {
    "duration": 106,
    "start_time": "2022-01-03T11:20:17.871Z"
   },
   {
    "duration": 9,
    "start_time": "2022-01-03T11:20:39.015Z"
   },
   {
    "duration": 10,
    "start_time": "2022-01-03T11:22:49.270Z"
   },
   {
    "duration": 273,
    "start_time": "2022-01-03T11:23:22.621Z"
   },
   {
    "duration": 273,
    "start_time": "2022-01-03T11:23:32.101Z"
   },
   {
    "duration": 11,
    "start_time": "2022-01-03T11:23:45.077Z"
   },
   {
    "duration": 9,
    "start_time": "2022-01-03T12:02:39.908Z"
   },
   {
    "duration": 9,
    "start_time": "2022-01-03T12:04:34.779Z"
   },
   {
    "duration": 17,
    "start_time": "2022-01-03T12:05:38.186Z"
   },
   {
    "duration": 13,
    "start_time": "2022-01-03T12:05:50.081Z"
   },
   {
    "duration": 11,
    "start_time": "2022-01-03T12:06:24.417Z"
   },
   {
    "duration": 10,
    "start_time": "2022-01-03T12:06:36.985Z"
   },
   {
    "duration": 379,
    "start_time": "2022-01-03T12:07:13.680Z"
   },
   {
    "duration": 10,
    "start_time": "2022-01-03T12:07:33.581Z"
   },
   {
    "duration": 9,
    "start_time": "2022-01-03T12:12:36.939Z"
   },
   {
    "duration": 11,
    "start_time": "2022-01-03T12:12:50.627Z"
   },
   {
    "duration": 28,
    "start_time": "2022-01-03T12:21:36.941Z"
   },
   {
    "duration": 25,
    "start_time": "2022-01-03T12:21:54.244Z"
   },
   {
    "duration": 24,
    "start_time": "2022-01-03T12:22:00.515Z"
   },
   {
    "duration": 97,
    "start_time": "2022-01-03T12:22:52.268Z"
   },
   {
    "duration": 24,
    "start_time": "2022-01-03T12:22:57.851Z"
   },
   {
    "duration": 9,
    "start_time": "2022-01-03T12:23:59.298Z"
   },
   {
    "duration": 13,
    "start_time": "2022-01-03T12:24:24.914Z"
   },
   {
    "duration": 19,
    "start_time": "2022-01-03T12:24:49.977Z"
   },
   {
    "duration": 33,
    "start_time": "2022-01-03T12:28:35.287Z"
   },
   {
    "duration": 43,
    "start_time": "2022-01-03T12:29:23.766Z"
   },
   {
    "duration": 43,
    "start_time": "2022-01-03T12:29:58.621Z"
   },
   {
    "duration": 347,
    "start_time": "2022-01-03T12:33:09.371Z"
   },
   {
    "duration": 73,
    "start_time": "2022-01-03T12:34:18.611Z"
   },
   {
    "duration": 44,
    "start_time": "2022-01-03T12:35:14.866Z"
   },
   {
    "duration": 44,
    "start_time": "2022-01-03T12:35:33.808Z"
   },
   {
    "duration": 3831,
    "start_time": "2022-01-03T12:43:12.068Z"
   },
   {
    "duration": 12,
    "start_time": "2022-01-03T12:43:58.721Z"
   },
   {
    "duration": 13,
    "start_time": "2022-01-03T12:44:20.202Z"
   },
   {
    "duration": 12,
    "start_time": "2022-01-03T12:44:50.122Z"
   },
   {
    "duration": 50,
    "start_time": "2022-01-03T12:47:21.863Z"
   },
   {
    "duration": 56,
    "start_time": "2022-01-03T12:48:18.976Z"
   },
   {
    "duration": 75,
    "start_time": "2022-01-03T12:48:29.574Z"
   },
   {
    "duration": 663,
    "start_time": "2022-01-03T18:12:34.405Z"
   },
   {
    "duration": 12,
    "start_time": "2022-01-03T18:12:35.070Z"
   },
   {
    "duration": 4,
    "start_time": "2022-01-03T18:12:35.084Z"
   },
   {
    "duration": 14,
    "start_time": "2022-01-03T18:12:35.089Z"
   },
   {
    "duration": 29,
    "start_time": "2022-01-03T18:12:35.105Z"
   },
   {
    "duration": 9,
    "start_time": "2022-01-03T18:12:35.136Z"
   },
   {
    "duration": 11,
    "start_time": "2022-01-03T18:12:35.147Z"
   },
   {
    "duration": 7,
    "start_time": "2022-01-03T18:12:35.159Z"
   },
   {
    "duration": 38,
    "start_time": "2022-01-03T18:12:35.168Z"
   },
   {
    "duration": 20,
    "start_time": "2022-01-03T18:12:35.207Z"
   },
   {
    "duration": 4,
    "start_time": "2022-01-03T18:12:35.228Z"
   },
   {
    "duration": 3279,
    "start_time": "2022-01-03T18:12:35.233Z"
   },
   {
    "duration": 17,
    "start_time": "2022-01-03T18:12:38.514Z"
   },
   {
    "duration": 35,
    "start_time": "2022-01-03T18:12:38.532Z"
   },
   {
    "duration": 34,
    "start_time": "2022-01-03T18:25:42.016Z"
   },
   {
    "duration": 33,
    "start_time": "2022-01-03T18:26:05.465Z"
   },
   {
    "duration": 33,
    "start_time": "2022-01-03T18:26:20.945Z"
   },
   {
    "duration": 32,
    "start_time": "2022-01-03T18:26:34.721Z"
   },
   {
    "duration": 33,
    "start_time": "2022-01-03T18:26:38.912Z"
   },
   {
    "duration": 34,
    "start_time": "2022-01-03T18:26:49.304Z"
   },
   {
    "duration": 518,
    "start_time": "2022-01-04T08:36:08.196Z"
   },
   {
    "duration": 407,
    "start_time": "2022-01-04T08:36:13.864Z"
   },
   {
    "duration": 824,
    "start_time": "2022-01-04T08:36:20.089Z"
   },
   {
    "duration": 18,
    "start_time": "2022-01-04T08:36:25.552Z"
   },
   {
    "duration": 7,
    "start_time": "2022-01-04T08:36:26.991Z"
   },
   {
    "duration": 24,
    "start_time": "2022-01-04T08:36:28.087Z"
   },
   {
    "duration": 22,
    "start_time": "2022-01-04T08:36:28.329Z"
   },
   {
    "duration": 9,
    "start_time": "2022-01-04T08:36:28.599Z"
   },
   {
    "duration": 9,
    "start_time": "2022-01-04T08:36:28.871Z"
   },
   {
    "duration": 9,
    "start_time": "2022-01-04T08:36:29.159Z"
   },
   {
    "duration": 61,
    "start_time": "2022-01-04T08:36:29.520Z"
   },
   {
    "duration": 13,
    "start_time": "2022-01-04T08:36:30.039Z"
   },
   {
    "duration": 10,
    "start_time": "2022-01-04T08:36:32.231Z"
   },
   {
    "duration": 4711,
    "start_time": "2022-01-04T08:36:32.936Z"
   },
   {
    "duration": 14,
    "start_time": "2022-01-04T08:36:37.658Z"
   },
   {
    "duration": 58,
    "start_time": "2022-01-04T08:36:40.903Z"
   },
   {
    "duration": 61,
    "start_time": "2022-01-04T08:42:18.595Z"
   },
   {
    "duration": 64,
    "start_time": "2022-01-04T08:42:26.243Z"
   },
   {
    "duration": 57,
    "start_time": "2022-01-04T08:43:05.139Z"
   },
   {
    "duration": 57,
    "start_time": "2022-01-04T08:43:24.459Z"
   },
   {
    "duration": 74,
    "start_time": "2022-01-04T08:44:32.530Z"
   },
   {
    "duration": 56,
    "start_time": "2022-01-04T08:44:52.241Z"
   },
   {
    "duration": 61,
    "start_time": "2022-01-04T08:46:40.120Z"
   },
   {
    "duration": 58,
    "start_time": "2022-01-04T08:46:58.375Z"
   },
   {
    "duration": 53,
    "start_time": "2022-01-04T08:47:39.663Z"
   },
   {
    "duration": 56,
    "start_time": "2022-01-04T08:48:21.638Z"
   },
   {
    "duration": 54,
    "start_time": "2022-01-04T08:48:43.021Z"
   },
   {
    "duration": 56,
    "start_time": "2022-01-04T08:49:16.901Z"
   },
   {
    "duration": 500,
    "start_time": "2022-01-04T08:50:02.717Z"
   },
   {
    "duration": 54,
    "start_time": "2022-01-04T08:50:08.964Z"
   },
   {
    "duration": 4042,
    "start_time": "2022-01-04T09:05:03.879Z"
   },
   {
    "duration": 4318,
    "start_time": "2022-01-04T09:05:39.497Z"
   },
   {
    "duration": 5,
    "start_time": "2022-01-04T09:17:42.892Z"
   },
   {
    "duration": 6,
    "start_time": "2022-01-04T09:17:56.732Z"
   },
   {
    "duration": 10,
    "start_time": "2022-01-04T09:18:55.148Z"
   },
   {
    "duration": 3,
    "start_time": "2022-01-04T09:20:14.698Z"
   },
   {
    "duration": 11,
    "start_time": "2022-01-04T09:20:15.914Z"
   },
   {
    "duration": 18,
    "start_time": "2022-01-04T09:32:59.736Z"
   },
   {
    "duration": 19,
    "start_time": "2022-01-04T09:48:49.912Z"
   },
   {
    "duration": 8,
    "start_time": "2022-01-04T09:49:29.073Z"
   },
   {
    "duration": 14,
    "start_time": "2022-01-04T09:50:26.120Z"
   },
   {
    "duration": 930,
    "start_time": "2022-01-04T16:16:31.329Z"
   },
   {
    "duration": 20,
    "start_time": "2022-01-04T16:16:37.215Z"
   },
   {
    "duration": 6,
    "start_time": "2022-01-04T16:16:38.583Z"
   },
   {
    "duration": 23,
    "start_time": "2022-01-04T16:16:39.479Z"
   },
   {
    "duration": 24,
    "start_time": "2022-01-04T16:16:39.695Z"
   },
   {
    "duration": 10,
    "start_time": "2022-01-04T16:16:39.919Z"
   },
   {
    "duration": 13,
    "start_time": "2022-01-04T16:16:40.151Z"
   },
   {
    "duration": 10,
    "start_time": "2022-01-04T16:16:40.647Z"
   },
   {
    "duration": 66,
    "start_time": "2022-01-04T16:16:41.063Z"
   },
   {
    "duration": 16,
    "start_time": "2022-01-04T16:16:41.598Z"
   },
   {
    "duration": 9,
    "start_time": "2022-01-04T16:16:43.535Z"
   },
   {
    "duration": 5109,
    "start_time": "2022-01-04T16:16:54.079Z"
   },
   {
    "duration": 3,
    "start_time": "2022-01-04T16:16:59.191Z"
   },
   {
    "duration": 32,
    "start_time": "2022-01-04T16:16:59.196Z"
   },
   {
    "duration": 14,
    "start_time": "2022-01-04T16:17:07.222Z"
   },
   {
    "duration": 28,
    "start_time": "2022-01-04T18:24:38.099Z"
   },
   {
    "duration": 5785,
    "start_time": "2022-01-04T18:30:41.982Z"
   },
   {
    "duration": 4,
    "start_time": "2022-01-04T18:31:02.759Z"
   },
   {
    "duration": 4798,
    "start_time": "2022-01-04T18:31:14.805Z"
   },
   {
    "duration": 4867,
    "start_time": "2022-01-04T18:31:24.973Z"
   },
   {
    "duration": 876,
    "start_time": "2022-01-04T18:32:08.543Z"
   },
   {
    "duration": 17,
    "start_time": "2022-01-04T18:32:09.422Z"
   },
   {
    "duration": 27,
    "start_time": "2022-01-04T18:32:09.442Z"
   },
   {
    "duration": 24,
    "start_time": "2022-01-04T18:32:09.472Z"
   },
   {
    "duration": 31,
    "start_time": "2022-01-04T18:32:09.498Z"
   },
   {
    "duration": 43,
    "start_time": "2022-01-04T18:32:09.531Z"
   },
   {
    "duration": 12,
    "start_time": "2022-01-04T18:32:09.576Z"
   },
   {
    "duration": 9,
    "start_time": "2022-01-04T18:32:09.591Z"
   },
   {
    "duration": 101,
    "start_time": "2022-01-04T18:32:09.603Z"
   },
   {
    "duration": 15,
    "start_time": "2022-01-04T18:32:09.707Z"
   },
   {
    "duration": 9,
    "start_time": "2022-01-04T18:32:09.725Z"
   },
   {
    "duration": 5881,
    "start_time": "2022-01-04T18:32:09.737Z"
   },
   {
    "duration": 3,
    "start_time": "2022-01-04T18:32:15.621Z"
   },
   {
    "duration": 7,
    "start_time": "2022-01-04T18:32:15.626Z"
   },
   {
    "duration": 46,
    "start_time": "2022-01-04T18:32:15.635Z"
   },
   {
    "duration": 12,
    "start_time": "2022-01-04T18:32:15.684Z"
   },
   {
    "duration": 8,
    "start_time": "2022-01-04T20:11:06.603Z"
   },
   {
    "duration": 10,
    "start_time": "2022-01-04T20:11:29.202Z"
   },
   {
    "duration": 9,
    "start_time": "2022-01-04T20:12:24.530Z"
   },
   {
    "duration": 26,
    "start_time": "2022-01-04T20:14:05.849Z"
   },
   {
    "duration": 7,
    "start_time": "2022-01-04T20:14:21.640Z"
   },
   {
    "duration": 15,
    "start_time": "2022-01-04T20:15:35.153Z"
   },
   {
    "duration": 9,
    "start_time": "2022-01-04T20:26:30.000Z"
   },
   {
    "duration": 86,
    "start_time": "2022-01-04T20:26:48.966Z"
   },
   {
    "duration": 11,
    "start_time": "2022-01-04T20:27:02.527Z"
   },
   {
    "duration": 32,
    "start_time": "2022-01-04T20:27:48.870Z"
   },
   {
    "duration": 24,
    "start_time": "2022-01-04T20:29:22.844Z"
   },
   {
    "duration": 30,
    "start_time": "2022-01-04T20:29:59.731Z"
   },
   {
    "duration": 8,
    "start_time": "2022-01-04T20:30:42.699Z"
   },
   {
    "duration": 1542,
    "start_time": "2022-01-05T07:30:07.136Z"
   },
   {
    "duration": 70,
    "start_time": "2022-01-05T07:30:32.796Z"
   },
   {
    "duration": 15,
    "start_time": "2022-01-05T07:30:35.103Z"
   },
   {
    "duration": 5,
    "start_time": "2022-01-05T07:30:36.295Z"
   },
   {
    "duration": 15,
    "start_time": "2022-01-05T07:30:37.311Z"
   },
   {
    "duration": 16,
    "start_time": "2022-01-05T07:30:37.551Z"
   },
   {
    "duration": 7,
    "start_time": "2022-01-05T07:30:37.783Z"
   },
   {
    "duration": 7,
    "start_time": "2022-01-05T07:30:38.023Z"
   },
   {
    "duration": 7,
    "start_time": "2022-01-05T07:30:38.279Z"
   },
   {
    "duration": 43,
    "start_time": "2022-01-05T07:30:38.543Z"
   },
   {
    "duration": 11,
    "start_time": "2022-01-05T07:30:38.911Z"
   },
   {
    "duration": 7,
    "start_time": "2022-01-05T07:30:40.775Z"
   },
   {
    "duration": 4543,
    "start_time": "2022-01-05T07:30:41.352Z"
   },
   {
    "duration": 603,
    "start_time": "2022-01-05T07:30:45.897Z"
   },
   {
    "duration": -102,
    "start_time": "2022-01-05T07:33:24.742Z"
   },
   {
    "duration": 557,
    "start_time": "2022-01-05T07:33:25.997Z"
   },
   {
    "duration": 614,
    "start_time": "2022-01-05T07:39:05.473Z"
   },
   {
    "duration": 12,
    "start_time": "2022-01-05T07:39:07.910Z"
   },
   {
    "duration": 4,
    "start_time": "2022-01-05T07:39:08.854Z"
   },
   {
    "duration": 16,
    "start_time": "2022-01-05T07:39:09.821Z"
   },
   {
    "duration": 15,
    "start_time": "2022-01-05T07:39:10.070Z"
   },
   {
    "duration": 6,
    "start_time": "2022-01-05T07:39:10.311Z"
   },
   {
    "duration": 7,
    "start_time": "2022-01-05T07:39:10.574Z"
   },
   {
    "duration": 6,
    "start_time": "2022-01-05T07:39:10.895Z"
   },
   {
    "duration": 39,
    "start_time": "2022-01-05T07:39:11.239Z"
   },
   {
    "duration": 10,
    "start_time": "2022-01-05T07:39:11.638Z"
   },
   {
    "duration": 7,
    "start_time": "2022-01-05T07:39:13.350Z"
   },
   {
    "duration": 4163,
    "start_time": "2022-01-05T07:39:13.783Z"
   },
   {
    "duration": 1048,
    "start_time": "2022-01-05T07:39:17.948Z"
   },
   {
    "duration": 3,
    "start_time": "2022-01-05T07:39:18.998Z"
   },
   {
    "duration": 4,
    "start_time": "2022-01-05T07:39:40.822Z"
   },
   {
    "duration": 5,
    "start_time": "2022-01-05T07:40:17.686Z"
   },
   {
    "duration": 15,
    "start_time": "2022-01-05T07:41:30.253Z"
   },
   {
    "duration": 11,
    "start_time": "2022-01-05T07:41:41.822Z"
   },
   {
    "duration": 321,
    "start_time": "2022-01-05T07:42:10.833Z"
   },
   {
    "duration": 536,
    "start_time": "2022-01-05T07:42:19.300Z"
   },
   {
    "duration": 993,
    "start_time": "2022-01-05T07:43:53.748Z"
   },
   {
    "duration": 9,
    "start_time": "2022-01-05T07:45:39.740Z"
   },
   {
    "duration": 14,
    "start_time": "2022-01-05T07:46:12.297Z"
   },
   {
    "duration": 19,
    "start_time": "2022-01-05T07:46:35.920Z"
   },
   {
    "duration": 3,
    "start_time": "2022-01-05T08:06:30.769Z"
   },
   {
    "duration": 253,
    "start_time": "2022-01-05T08:06:35.463Z"
   },
   {
    "duration": 66,
    "start_time": "2022-01-05T08:06:44.648Z"
   },
   {
    "duration": 12,
    "start_time": "2022-01-05T08:06:46.231Z"
   },
   {
    "duration": 5,
    "start_time": "2022-01-05T08:06:47.048Z"
   },
   {
    "duration": 14,
    "start_time": "2022-01-05T08:06:47.904Z"
   },
   {
    "duration": 15,
    "start_time": "2022-01-05T08:06:48.103Z"
   },
   {
    "duration": 6,
    "start_time": "2022-01-05T08:06:48.312Z"
   },
   {
    "duration": 6,
    "start_time": "2022-01-05T08:06:48.519Z"
   },
   {
    "duration": 6,
    "start_time": "2022-01-05T08:06:48.720Z"
   },
   {
    "duration": 40,
    "start_time": "2022-01-05T08:06:48.945Z"
   },
   {
    "duration": 10,
    "start_time": "2022-01-05T08:06:49.167Z"
   },
   {
    "duration": 21,
    "start_time": "2022-01-05T08:06:50.503Z"
   },
   {
    "duration": 4061,
    "start_time": "2022-01-05T08:06:51.113Z"
   },
   {
    "duration": 248,
    "start_time": "2022-01-05T08:07:01.888Z"
   },
   {
    "duration": 15,
    "start_time": "2022-01-05T08:08:38.096Z"
   },
   {
    "duration": 14,
    "start_time": "2022-01-05T08:09:06.863Z"
   },
   {
    "duration": 4,
    "start_time": "2022-01-05T08:12:33.995Z"
   },
   {
    "duration": 4,
    "start_time": "2022-01-05T08:12:37.885Z"
   },
   {
    "duration": 8,
    "start_time": "2022-01-05T08:12:41.830Z"
   },
   {
    "duration": 15,
    "start_time": "2022-01-05T08:14:09.226Z"
   },
   {
    "duration": 13,
    "start_time": "2022-01-05T08:19:26.430Z"
   },
   {
    "duration": 7,
    "start_time": "2022-01-05T08:19:37.229Z"
   },
   {
    "duration": 5,
    "start_time": "2022-01-05T08:20:06.957Z"
   },
   {
    "duration": 5,
    "start_time": "2022-01-05T08:20:18.388Z"
   },
   {
    "duration": 7,
    "start_time": "2022-01-05T08:20:23.716Z"
   },
   {
    "duration": 6,
    "start_time": "2022-01-05T08:20:33.040Z"
   },
   {
    "duration": 18002,
    "start_time": "2022-01-05T08:21:36.781Z"
   },
   {
    "duration": 15,
    "start_time": "2022-01-05T08:21:59.851Z"
   },
   {
    "duration": 16734,
    "start_time": "2022-01-05T08:22:37.955Z"
   },
   {
    "duration": 14,
    "start_time": "2022-01-05T08:22:59.251Z"
   },
   {
    "duration": 7,
    "start_time": "2022-01-05T08:24:10.881Z"
   },
   {
    "duration": 9,
    "start_time": "2022-01-05T08:24:37.033Z"
   },
   {
    "duration": 26,
    "start_time": "2022-01-05T08:40:34.797Z"
   },
   {
    "duration": 3,
    "start_time": "2022-01-05T08:41:47.075Z"
   },
   {
    "duration": 3,
    "start_time": "2022-01-05T08:41:47.563Z"
   },
   {
    "duration": 3,
    "start_time": "2022-01-05T08:41:48.203Z"
   },
   {
    "duration": 383,
    "start_time": "2022-01-05T08:41:58.035Z"
   },
   {
    "duration": 319,
    "start_time": "2022-01-05T08:42:33.762Z"
   },
   {
    "duration": 82,
    "start_time": "2022-01-05T08:42:48.578Z"
   },
   {
    "duration": 5,
    "start_time": "2022-01-05T08:42:52.017Z"
   },
   {
    "duration": 7,
    "start_time": "2022-01-05T08:44:15.377Z"
   },
   {
    "duration": 16967,
    "start_time": "2022-01-05T08:44:16.728Z"
   },
   {
    "duration": 16,
    "start_time": "2022-01-05T08:44:33.697Z"
   },
   {
    "duration": 78,
    "start_time": "2022-01-05T08:53:30.843Z"
   },
   {
    "duration": 286,
    "start_time": "2022-01-05T08:53:46.193Z"
   },
   {
    "duration": 7,
    "start_time": "2022-01-05T08:54:54.649Z"
   },
   {
    "duration": 231,
    "start_time": "2022-01-05T08:57:19.502Z"
   },
   {
    "duration": 234,
    "start_time": "2022-01-05T08:57:25.790Z"
   },
   {
    "duration": 14,
    "start_time": "2022-01-05T09:02:10.770Z"
   },
   {
    "duration": 8,
    "start_time": "2022-01-05T09:03:33.921Z"
   },
   {
    "duration": 8,
    "start_time": "2022-01-05T09:03:45.810Z"
   },
   {
    "duration": 9,
    "start_time": "2022-01-05T09:04:01.953Z"
   },
   {
    "duration": 8,
    "start_time": "2022-01-05T09:04:08.544Z"
   },
   {
    "duration": 8,
    "start_time": "2022-01-05T09:04:23.680Z"
   },
   {
    "duration": 10,
    "start_time": "2022-01-05T09:04:30.625Z"
   },
   {
    "duration": 9,
    "start_time": "2022-01-05T09:04:44.409Z"
   },
   {
    "duration": 10,
    "start_time": "2022-01-05T09:04:53.360Z"
   },
   {
    "duration": 7,
    "start_time": "2022-01-05T09:05:36.703Z"
   },
   {
    "duration": 7,
    "start_time": "2022-01-05T09:05:47.542Z"
   },
   {
    "duration": 22,
    "start_time": "2022-01-05T09:07:09.990Z"
   },
   {
    "duration": 2,
    "start_time": "2022-01-05T09:07:24.637Z"
   },
   {
    "duration": 7,
    "start_time": "2022-01-05T09:21:25.842Z"
   },
   {
    "duration": 7,
    "start_time": "2022-01-05T09:21:31.563Z"
   },
   {
    "duration": 7,
    "start_time": "2022-01-05T09:26:23.878Z"
   },
   {
    "duration": 883,
    "start_time": "2022-01-05T21:04:49.757Z"
   },
   {
    "duration": 17,
    "start_time": "2022-01-05T21:04:52.203Z"
   },
   {
    "duration": 7,
    "start_time": "2022-01-05T21:04:53.090Z"
   },
   {
    "duration": 24,
    "start_time": "2022-01-05T21:04:54.003Z"
   },
   {
    "duration": 23,
    "start_time": "2022-01-05T21:04:54.227Z"
   },
   {
    "duration": 10,
    "start_time": "2022-01-05T21:04:54.443Z"
   },
   {
    "duration": 9,
    "start_time": "2022-01-05T21:04:54.654Z"
   },
   {
    "duration": 10,
    "start_time": "2022-01-05T21:04:54.884Z"
   },
   {
    "duration": 67,
    "start_time": "2022-01-05T21:04:55.109Z"
   },
   {
    "duration": 15,
    "start_time": "2022-01-05T21:04:55.291Z"
   },
   {
    "duration": 8,
    "start_time": "2022-01-05T21:04:56.603Z"
   },
   {
    "duration": 5888,
    "start_time": "2022-01-05T21:04:56.981Z"
   },
   {
    "duration": 13,
    "start_time": "2022-01-05T21:05:07.403Z"
   },
   {
    "duration": 27814,
    "start_time": "2022-01-05T21:05:08.427Z"
   },
   {
    "duration": 34,
    "start_time": "2022-01-05T21:05:36.244Z"
   },
   {
    "duration": 17,
    "start_time": "2022-01-05T21:05:48.538Z"
   },
   {
    "duration": 82,
    "start_time": "2022-01-05T21:10:38.558Z"
   },
   {
    "duration": 389,
    "start_time": "2022-01-05T21:10:48.910Z"
   },
   {
    "duration": 2017,
    "start_time": "2022-01-05T21:10:55.798Z"
   },
   {
    "duration": 283,
    "start_time": "2022-01-05T21:11:03.070Z"
   },
   {
    "duration": 15,
    "start_time": "2022-01-05T21:11:23.513Z"
   },
   {
    "duration": 119,
    "start_time": "2022-01-05T21:11:51.397Z"
   },
   {
    "duration": 11,
    "start_time": "2022-01-05T21:11:55.053Z"
   },
   {
    "duration": 14,
    "start_time": "2022-01-05T21:12:18.997Z"
   },
   {
    "duration": 27,
    "start_time": "2022-01-05T21:12:27.220Z"
   },
   {
    "duration": 5,
    "start_time": "2022-01-05T21:15:25.963Z"
   },
   {
    "duration": 19,
    "start_time": "2022-01-05T21:15:36.237Z"
   },
   {
    "duration": 5,
    "start_time": "2022-01-05T21:15:47.450Z"
   },
   {
    "duration": 904,
    "start_time": "2022-01-06T08:26:07.402Z"
   },
   {
    "duration": 19,
    "start_time": "2022-01-06T08:26:09.945Z"
   },
   {
    "duration": 7,
    "start_time": "2022-01-06T08:26:10.698Z"
   },
   {
    "duration": 23,
    "start_time": "2022-01-06T08:26:11.496Z"
   },
   {
    "duration": 24,
    "start_time": "2022-01-06T08:26:11.673Z"
   },
   {
    "duration": 9,
    "start_time": "2022-01-06T08:26:11.872Z"
   },
   {
    "duration": 10,
    "start_time": "2022-01-06T08:26:12.072Z"
   },
   {
    "duration": 10,
    "start_time": "2022-01-06T08:26:12.279Z"
   },
   {
    "duration": 61,
    "start_time": "2022-01-06T08:26:12.480Z"
   },
   {
    "duration": 14,
    "start_time": "2022-01-06T08:26:12.696Z"
   },
   {
    "duration": 17,
    "start_time": "2022-01-06T08:26:13.520Z"
   },
   {
    "duration": 6395,
    "start_time": "2022-01-06T08:26:13.728Z"
   },
   {
    "duration": 15,
    "start_time": "2022-01-06T08:26:20.127Z"
   },
   {
    "duration": 26635,
    "start_time": "2022-01-06T08:26:24.944Z"
   },
   {
    "duration": 16,
    "start_time": "2022-01-06T08:30:52.109Z"
   },
   {
    "duration": 18,
    "start_time": "2022-01-06T08:31:46.852Z"
   },
   {
    "duration": 15,
    "start_time": "2022-01-06T08:32:02.619Z"
   },
   {
    "duration": 20,
    "start_time": "2022-01-06T08:32:57.147Z"
   },
   {
    "duration": 434,
    "start_time": "2022-01-06T08:36:58.992Z"
   },
   {
    "duration": 96,
    "start_time": "2022-01-06T08:37:13.456Z"
   },
   {
    "duration": 22,
    "start_time": "2022-01-06T08:37:32.222Z"
   },
   {
    "duration": 23,
    "start_time": "2022-01-06T08:38:33.268Z"
   },
   {
    "duration": 39,
    "start_time": "2022-01-06T08:39:00.797Z"
   },
   {
    "duration": 36,
    "start_time": "2022-01-06T08:39:13.686Z"
   },
   {
    "duration": 37,
    "start_time": "2022-01-06T08:39:26.325Z"
   },
   {
    "duration": 30,
    "start_time": "2022-01-06T08:40:53.532Z"
   },
   {
    "duration": 36,
    "start_time": "2022-01-06T08:41:00.076Z"
   },
   {
    "duration": 22,
    "start_time": "2022-01-06T08:41:15.402Z"
   },
   {
    "duration": 37,
    "start_time": "2022-01-06T08:41:50.346Z"
   },
   {
    "duration": 364,
    "start_time": "2022-01-06T08:46:30.993Z"
   },
   {
    "duration": 352,
    "start_time": "2022-01-06T08:46:41.451Z"
   },
   {
    "duration": 383,
    "start_time": "2022-01-06T08:46:58.963Z"
   },
   {
    "duration": 37,
    "start_time": "2022-01-06T08:47:19.651Z"
   },
   {
    "duration": 24,
    "start_time": "2022-01-06T08:48:58.247Z"
   },
   {
    "duration": 37,
    "start_time": "2022-01-06T08:49:40.738Z"
   },
   {
    "duration": 40,
    "start_time": "2022-01-06T08:52:02.029Z"
   },
   {
    "duration": 36,
    "start_time": "2022-01-06T08:53:42.061Z"
   },
   {
    "duration": 836,
    "start_time": "2022-01-07T05:58:45.709Z"
   },
   {
    "duration": 16,
    "start_time": "2022-01-07T06:02:23.570Z"
   },
   {
    "duration": 6,
    "start_time": "2022-01-07T06:02:30.953Z"
   },
   {
    "duration": 22,
    "start_time": "2022-01-07T06:02:36.504Z"
   },
   {
    "duration": 22,
    "start_time": "2022-01-07T06:02:37.337Z"
   },
   {
    "duration": 8,
    "start_time": "2022-01-07T06:02:39.889Z"
   },
   {
    "duration": 8,
    "start_time": "2022-01-07T06:02:40.410Z"
   },
   {
    "duration": 9,
    "start_time": "2022-01-07T06:02:43.280Z"
   },
   {
    "duration": 52,
    "start_time": "2022-01-07T06:02:55.176Z"
   },
   {
    "duration": 13,
    "start_time": "2022-01-07T06:02:57.321Z"
   },
   {
    "duration": 21,
    "start_time": "2022-01-07T06:03:17.305Z"
   },
   {
    "duration": 3,
    "start_time": "2022-01-07T06:03:17.768Z"
   },
   {
    "duration": 3,
    "start_time": "2022-01-07T06:03:18.224Z"
   },
   {
    "duration": 3,
    "start_time": "2022-01-07T06:03:18.759Z"
   },
   {
    "duration": 57,
    "start_time": "2022-01-07T06:03:20.576Z"
   },
   {
    "duration": 14,
    "start_time": "2022-01-07T06:03:21.087Z"
   },
   {
    "duration": 21,
    "start_time": "2022-01-07T06:08:44.653Z"
   },
   {
    "duration": 5708,
    "start_time": "2022-01-07T06:08:45.787Z"
   },
   {
    "duration": 12,
    "start_time": "2022-01-07T06:10:05.963Z"
   },
   {
    "duration": 24611,
    "start_time": "2022-01-07T06:10:13.002Z"
   },
   {
    "duration": 23,
    "start_time": "2022-01-07T06:10:41.850Z"
   },
   {
    "duration": 46,
    "start_time": "2022-01-07T06:13:45.327Z"
   },
   {
    "duration": 34,
    "start_time": "2022-01-07T06:13:47.447Z"
   },
   {
    "duration": 21,
    "start_time": "2022-01-07T06:14:05.624Z"
   },
   {
    "duration": 20,
    "start_time": "2022-01-07T06:15:15.247Z"
   },
   {
    "duration": 37,
    "start_time": "2022-01-07T06:16:27.254Z"
   },
   {
    "duration": 41,
    "start_time": "2022-01-07T06:17:09.908Z"
   },
   {
    "duration": 36,
    "start_time": "2022-01-07T06:17:16.876Z"
   },
   {
    "duration": 21,
    "start_time": "2022-01-07T06:22:22.083Z"
   },
   {
    "duration": 20,
    "start_time": "2022-01-07T06:24:43.239Z"
   },
   {
    "duration": 432,
    "start_time": "2022-01-07T06:25:04.870Z"
   },
   {
    "duration": 19,
    "start_time": "2022-01-07T06:25:09.730Z"
   },
   {
    "duration": 21,
    "start_time": "2022-01-07T06:25:22.262Z"
   },
   {
    "duration": 35,
    "start_time": "2022-01-07T06:25:51.806Z"
   },
   {
    "duration": 22,
    "start_time": "2022-01-07T06:26:12.213Z"
   },
   {
    "duration": 119,
    "start_time": "2022-01-07T06:28:49.474Z"
   },
   {
    "duration": 15,
    "start_time": "2022-01-07T06:28:57.395Z"
   },
   {
    "duration": 24,
    "start_time": "2022-01-07T06:29:05.004Z"
   },
   {
    "duration": 35,
    "start_time": "2022-01-07T06:29:35.468Z"
   },
   {
    "duration": 23,
    "start_time": "2022-01-07T06:29:58.283Z"
   },
   {
    "duration": 22,
    "start_time": "2022-01-07T06:30:09.618Z"
   },
   {
    "duration": 21,
    "start_time": "2022-01-07T06:30:20.490Z"
   },
   {
    "duration": 80,
    "start_time": "2022-01-08T18:42:05.511Z"
   },
   {
    "duration": 708,
    "start_time": "2022-01-08T18:42:25.936Z"
   },
   {
    "duration": 12,
    "start_time": "2022-01-08T18:42:29.953Z"
   },
   {
    "duration": 17,
    "start_time": "2022-01-08T18:44:05.479Z"
   },
   {
    "duration": 15,
    "start_time": "2022-01-08T18:44:27.807Z"
   },
   {
    "duration": 11,
    "start_time": "2022-01-08T18:44:35.679Z"
   },
   {
    "duration": 25,
    "start_time": "2022-01-08T18:44:50.910Z"
   },
   {
    "duration": 24,
    "start_time": "2022-01-08T18:45:35.607Z"
   },
   {
    "duration": 30,
    "start_time": "2022-01-08T18:46:22.094Z"
   },
   {
    "duration": 11,
    "start_time": "2022-01-08T18:46:38.507Z"
   },
   {
    "duration": 633,
    "start_time": "2022-01-09T04:38:46.213Z"
   },
   {
    "duration": 231,
    "start_time": "2022-01-09T04:38:46.848Z"
   },
   {
    "duration": 2783,
    "start_time": "2022-01-09T04:38:44.299Z"
   },
   {
    "duration": 2778,
    "start_time": "2022-01-09T04:38:44.305Z"
   },
   {
    "duration": 2773,
    "start_time": "2022-01-09T04:38:44.311Z"
   },
   {
    "duration": 2762,
    "start_time": "2022-01-09T04:38:44.323Z"
   },
   {
    "duration": 2757,
    "start_time": "2022-01-09T04:38:44.329Z"
   },
   {
    "duration": 2752,
    "start_time": "2022-01-09T04:38:44.335Z"
   },
   {
    "duration": 2748,
    "start_time": "2022-01-09T04:38:44.340Z"
   },
   {
    "duration": 2743,
    "start_time": "2022-01-09T04:38:44.346Z"
   },
   {
    "duration": 2738,
    "start_time": "2022-01-09T04:38:44.352Z"
   },
   {
    "duration": 2734,
    "start_time": "2022-01-09T04:38:44.357Z"
   },
   {
    "duration": 2730,
    "start_time": "2022-01-09T04:38:44.362Z"
   },
   {
    "duration": 2726,
    "start_time": "2022-01-09T04:38:44.367Z"
   },
   {
    "duration": 2723,
    "start_time": "2022-01-09T04:38:44.371Z"
   },
   {
    "duration": 2717,
    "start_time": "2022-01-09T04:38:44.378Z"
   },
   {
    "duration": 2711,
    "start_time": "2022-01-09T04:38:44.385Z"
   },
   {
    "duration": 2707,
    "start_time": "2022-01-09T04:38:44.390Z"
   },
   {
    "duration": 2704,
    "start_time": "2022-01-09T04:38:44.394Z"
   },
   {
    "duration": 66,
    "start_time": "2022-01-09T04:38:59.295Z"
   },
   {
    "duration": 229,
    "start_time": "2022-01-09T04:39:03.575Z"
   },
   {
    "duration": 187,
    "start_time": "2022-01-09T04:39:24.021Z"
   },
   {
    "duration": 69,
    "start_time": "2022-01-09T04:39:38.609Z"
   },
   {
    "duration": 181,
    "start_time": "2022-01-09T04:39:41.901Z"
   },
   {
    "duration": 12,
    "start_time": "2022-01-09T04:41:51.468Z"
   },
   {
    "duration": 11,
    "start_time": "2022-01-09T04:42:53.323Z"
   },
   {
    "duration": 4,
    "start_time": "2022-01-09T04:47:09.230Z"
   },
   {
    "duration": 4,
    "start_time": "2022-01-09T04:47:22.118Z"
   },
   {
    "duration": 4,
    "start_time": "2022-01-09T04:48:15.716Z"
   },
   {
    "duration": 4,
    "start_time": "2022-01-09T04:48:23.819Z"
   },
   {
    "duration": 4,
    "start_time": "2022-01-09T04:48:31.925Z"
   },
   {
    "duration": 10,
    "start_time": "2022-01-09T04:49:15.788Z"
   },
   {
    "duration": 184,
    "start_time": "2022-01-09T04:50:17.388Z"
   },
   {
    "duration": 60,
    "start_time": "2022-01-09T04:50:23.348Z"
   },
   {
    "duration": 63,
    "start_time": "2022-01-09T04:53:16.761Z"
   },
   {
    "duration": 175,
    "start_time": "2022-01-09T04:53:20.273Z"
   },
   {
    "duration": 188,
    "start_time": "2022-01-09T04:53:36.144Z"
   },
   {
    "duration": 199,
    "start_time": "2022-01-09T04:53:42.408Z"
   },
   {
    "duration": 6,
    "start_time": "2022-01-09T04:53:52.704Z"
   },
   {
    "duration": 186,
    "start_time": "2022-01-09T04:56:57.933Z"
   },
   {
    "duration": 467,
    "start_time": "2022-01-09T04:57:20.342Z"
   },
   {
    "duration": 181,
    "start_time": "2022-01-09T04:58:24.660Z"
   },
   {
    "duration": 16,
    "start_time": "2022-01-09T04:58:35.108Z"
   },
   {
    "duration": 166,
    "start_time": "2022-01-09T04:58:55.643Z"
   },
   {
    "duration": 6,
    "start_time": "2022-01-09T04:59:06.228Z"
   },
   {
    "duration": 8,
    "start_time": "2022-01-09T04:59:33.146Z"
   },
   {
    "duration": 5,
    "start_time": "2022-01-09T05:02:22.600Z"
   },
   {
    "duration": 5,
    "start_time": "2022-01-09T05:03:10.488Z"
   },
   {
    "duration": 16,
    "start_time": "2022-01-09T05:03:12.463Z"
   },
   {
    "duration": 17,
    "start_time": "2022-01-09T05:03:12.903Z"
   },
   {
    "duration": 2,
    "start_time": "2022-01-09T05:03:13.327Z"
   },
   {
    "duration": 2,
    "start_time": "2022-01-09T05:03:13.975Z"
   },
   {
    "duration": 3,
    "start_time": "2022-01-09T05:03:14.334Z"
   },
   {
    "duration": 43,
    "start_time": "2022-01-09T05:03:14.759Z"
   },
   {
    "duration": 10,
    "start_time": "2022-01-09T05:03:15.399Z"
   },
   {
    "duration": 4,
    "start_time": "2022-01-09T05:03:21.889Z"
   },
   {
    "duration": 4039,
    "start_time": "2022-01-09T05:03:24.503Z"
   },
   {
    "duration": 9,
    "start_time": "2022-01-09T05:03:28.545Z"
   },
   {
    "duration": 18194,
    "start_time": "2022-01-09T05:03:40.609Z"
   },
   {
    "duration": 26,
    "start_time": "2022-01-09T05:08:40.425Z"
   },
   {
    "duration": 25,
    "start_time": "2022-01-09T05:09:10.106Z"
   },
   {
    "duration": 24,
    "start_time": "2022-01-09T05:09:20.948Z"
   },
   {
    "duration": 25,
    "start_time": "2022-01-09T05:09:31.450Z"
   },
   {
    "duration": 24,
    "start_time": "2022-01-09T05:09:54.578Z"
   },
   {
    "duration": 4,
    "start_time": "2022-01-09T05:10:28.874Z"
   },
   {
    "duration": 4,
    "start_time": "2022-01-09T05:12:22.526Z"
   },
   {
    "duration": 21,
    "start_time": "2022-01-09T05:12:24.374Z"
   },
   {
    "duration": 16,
    "start_time": "2022-01-09T05:12:24.974Z"
   },
   {
    "duration": 2,
    "start_time": "2022-01-09T05:12:25.326Z"
   },
   {
    "duration": 2,
    "start_time": "2022-01-09T05:12:25.702Z"
   },
   {
    "duration": 2,
    "start_time": "2022-01-09T05:12:26.078Z"
   },
   {
    "duration": 58,
    "start_time": "2022-01-09T05:12:26.343Z"
   },
   {
    "duration": 13,
    "start_time": "2022-01-09T05:12:26.726Z"
   },
   {
    "duration": 27,
    "start_time": "2022-01-09T05:12:31.174Z"
   },
   {
    "duration": 3987,
    "start_time": "2022-01-09T05:12:31.376Z"
   },
   {
    "duration": 8,
    "start_time": "2022-01-09T05:13:18.789Z"
   },
   {
    "duration": 17018,
    "start_time": "2022-01-09T05:13:19.493Z"
   },
   {
    "duration": 15,
    "start_time": "2022-01-09T05:13:36.513Z"
   },
   {
    "duration": 18,
    "start_time": "2022-01-09T05:13:40.413Z"
   },
   {
    "duration": 16,
    "start_time": "2022-01-09T05:13:42.757Z"
   },
   {
    "duration": 22,
    "start_time": "2022-01-09T05:14:11.126Z"
   },
   {
    "duration": 7,
    "start_time": "2022-01-09T05:14:25.974Z"
   },
   {
    "duration": 3,
    "start_time": "2022-01-09T05:14:43.470Z"
   },
   {
    "duration": 17406,
    "start_time": "2022-01-09T05:14:48.852Z"
   },
   {
    "duration": 15,
    "start_time": "2022-01-09T05:15:06.259Z"
   },
   {
    "duration": 3292,
    "start_time": "2022-01-09T05:15:19.765Z"
   },
   {
    "duration": 2,
    "start_time": "2022-01-09T05:15:26.684Z"
   },
   {
    "duration": 16813,
    "start_time": "2022-01-09T05:15:28.027Z"
   },
   {
    "duration": 14,
    "start_time": "2022-01-09T05:15:44.842Z"
   },
   {
    "duration": 598,
    "start_time": "2022-01-09T05:18:11.935Z"
   },
   {
    "duration": 12,
    "start_time": "2022-01-09T05:18:14.831Z"
   },
   {
    "duration": 4,
    "start_time": "2022-01-09T05:18:15.823Z"
   },
   {
    "duration": 4,
    "start_time": "2022-01-09T05:18:19.094Z"
   },
   {
    "duration": 16,
    "start_time": "2022-01-09T05:18:21.143Z"
   },
   {
    "duration": 17,
    "start_time": "2022-01-09T05:18:21.478Z"
   },
   {
    "duration": 3,
    "start_time": "2022-01-09T05:18:21.751Z"
   },
   {
    "duration": 2,
    "start_time": "2022-01-09T05:18:22.006Z"
   },
   {
    "duration": 2,
    "start_time": "2022-01-09T05:18:22.231Z"
   },
   {
    "duration": 41,
    "start_time": "2022-01-09T05:18:22.431Z"
   },
   {
    "duration": 11,
    "start_time": "2022-01-09T05:18:22.662Z"
   },
   {
    "duration": 4,
    "start_time": "2022-01-09T05:18:24.526Z"
   },
   {
    "duration": 3948,
    "start_time": "2022-01-09T05:18:25.174Z"
   },
   {
    "duration": 3,
    "start_time": "2022-01-09T05:18:34.622Z"
   },
   {
    "duration": 17270,
    "start_time": "2022-01-09T05:18:35.590Z"
   },
   {
    "duration": 15,
    "start_time": "2022-01-09T05:18:52.862Z"
   },
   {
    "duration": 2,
    "start_time": "2022-01-09T05:44:16.079Z"
   },
   {
    "duration": 11,
    "start_time": "2022-01-09T05:52:41.084Z"
   },
   {
    "duration": 14,
    "start_time": "2022-01-09T05:52:42.063Z"
   },
   {
    "duration": 28,
    "start_time": "2022-01-09T05:54:33.836Z"
   },
   {
    "duration": 16,
    "start_time": "2022-01-09T05:54:39.397Z"
   },
   {
    "duration": 16,
    "start_time": "2022-01-09T05:54:43.404Z"
   },
   {
    "duration": 13,
    "start_time": "2022-01-09T05:55:21.973Z"
   },
   {
    "duration": 15,
    "start_time": "2022-01-09T05:55:31.036Z"
   },
   {
    "duration": 16,
    "start_time": "2022-01-09T05:55:49.988Z"
   },
   {
    "duration": 7,
    "start_time": "2022-01-09T05:59:07.513Z"
   },
   {
    "duration": 8,
    "start_time": "2022-01-09T06:00:07.408Z"
   },
   {
    "duration": 21,
    "start_time": "2022-01-09T06:00:48.440Z"
   },
   {
    "duration": 15,
    "start_time": "2022-01-09T06:01:09.463Z"
   },
   {
    "duration": 15,
    "start_time": "2022-01-09T06:01:46.825Z"
   },
   {
    "duration": 2,
    "start_time": "2022-01-09T06:02:20.388Z"
   },
   {
    "duration": 23,
    "start_time": "2022-01-09T06:06:45.339Z"
   },
   {
    "duration": 14,
    "start_time": "2022-01-09T06:07:06.753Z"
   },
   {
    "duration": 26,
    "start_time": "2022-01-09T06:08:10.524Z"
   },
   {
    "duration": 15,
    "start_time": "2022-01-09T06:08:39.056Z"
   },
   {
    "duration": 11,
    "start_time": "2022-01-09T06:15:03.089Z"
   },
   {
    "duration": 4,
    "start_time": "2022-01-09T06:15:38.585Z"
   },
   {
    "duration": 4,
    "start_time": "2022-01-09T06:15:48.168Z"
   },
   {
    "duration": 4,
    "start_time": "2022-01-09T06:15:55.424Z"
   },
   {
    "duration": 4,
    "start_time": "2022-01-09T06:15:59.936Z"
   },
   {
    "duration": 4,
    "start_time": "2022-01-09T06:16:32.464Z"
   },
   {
    "duration": 63,
    "start_time": "2022-01-09T06:17:59.726Z"
   },
   {
    "duration": 4,
    "start_time": "2022-01-09T06:18:09.366Z"
   },
   {
    "duration": 4,
    "start_time": "2022-01-09T06:18:28.574Z"
   },
   {
    "duration": 57,
    "start_time": "2022-01-09T06:18:45.786Z"
   },
   {
    "duration": 4,
    "start_time": "2022-01-09T06:18:50.294Z"
   },
   {
    "duration": 4,
    "start_time": "2022-01-09T06:19:11.879Z"
   },
   {
    "duration": 5,
    "start_time": "2022-01-09T06:19:18.965Z"
   },
   {
    "duration": 9,
    "start_time": "2022-01-09T06:19:44.805Z"
   },
   {
    "duration": 10,
    "start_time": "2022-01-09T06:20:45.284Z"
   },
   {
    "duration": 2,
    "start_time": "2022-01-09T06:20:46.645Z"
   },
   {
    "duration": 14,
    "start_time": "2022-01-09T06:20:52.155Z"
   },
   {
    "duration": 16,
    "start_time": "2022-01-09T06:20:55.275Z"
   },
   {
    "duration": 19,
    "start_time": "2022-01-09T06:20:58.995Z"
   },
   {
    "duration": 11,
    "start_time": "2022-01-09T06:25:55.742Z"
   },
   {
    "duration": 2,
    "start_time": "2022-01-09T06:25:58.455Z"
   },
   {
    "duration": 14,
    "start_time": "2022-01-09T06:26:00.119Z"
   },
   {
    "duration": 15,
    "start_time": "2022-01-09T06:26:01.089Z"
   },
   {
    "duration": 16,
    "start_time": "2022-01-09T06:26:02.663Z"
   },
   {
    "duration": 21,
    "start_time": "2022-01-09T06:36:23.981Z"
   },
   {
    "duration": 9,
    "start_time": "2022-01-09T06:36:51.462Z"
   },
   {
    "duration": 15,
    "start_time": "2022-01-09T06:40:01.428Z"
   },
   {
    "duration": 9,
    "start_time": "2022-01-09T06:40:04.307Z"
   },
   {
    "duration": 14,
    "start_time": "2022-01-09T06:40:12.683Z"
   },
   {
    "duration": 15,
    "start_time": "2022-01-09T06:40:15.883Z"
   },
   {
    "duration": 15,
    "start_time": "2022-01-09T06:40:17.851Z"
   },
   {
    "duration": 9,
    "start_time": "2022-01-09T06:44:35.731Z"
   },
   {
    "duration": 9,
    "start_time": "2022-01-09T06:44:36.536Z"
   },
   {
    "duration": 14,
    "start_time": "2022-01-09T06:44:48.224Z"
   },
   {
    "duration": 10,
    "start_time": "2022-01-09T06:45:51.759Z"
   },
   {
    "duration": 8,
    "start_time": "2022-01-09T06:45:54.431Z"
   },
   {
    "duration": 10,
    "start_time": "2022-01-09T06:46:09.279Z"
   },
   {
    "duration": 9,
    "start_time": "2022-01-09T06:46:10.334Z"
   },
   {
    "duration": 10,
    "start_time": "2022-01-09T06:46:36.790Z"
   },
   {
    "duration": 8,
    "start_time": "2022-01-09T06:46:37.846Z"
   },
   {
    "duration": 6,
    "start_time": "2022-01-09T06:46:56.454Z"
   },
   {
    "duration": 15,
    "start_time": "2022-01-09T06:47:03.374Z"
   },
   {
    "duration": 8,
    "start_time": "2022-01-09T06:48:49.580Z"
   },
   {
    "duration": 256,
    "start_time": "2022-01-09T06:49:32.060Z"
   },
   {
    "duration": 9,
    "start_time": "2022-01-09T06:49:53.851Z"
   },
   {
    "duration": 9,
    "start_time": "2022-01-09T06:50:43.843Z"
   },
   {
    "duration": 9,
    "start_time": "2022-01-09T06:50:44.842Z"
   },
   {
    "duration": 10,
    "start_time": "2022-01-09T06:51:35.891Z"
   },
   {
    "duration": 9,
    "start_time": "2022-01-09T06:51:36.857Z"
   },
   {
    "duration": 16,
    "start_time": "2022-01-09T06:51:59.033Z"
   },
   {
    "duration": 23,
    "start_time": "2022-01-09T06:53:40.137Z"
   },
   {
    "duration": 7,
    "start_time": "2022-01-09T06:53:42.040Z"
   },
   {
    "duration": 22,
    "start_time": "2022-01-09T06:57:34.109Z"
   },
   {
    "duration": 6,
    "start_time": "2022-01-09T06:57:35.485Z"
   },
   {
    "duration": 7,
    "start_time": "2022-01-09T06:58:24.244Z"
   },
   {
    "duration": 9,
    "start_time": "2022-01-09T06:58:25.660Z"
   },
   {
    "duration": 7,
    "start_time": "2022-01-09T06:58:26.411Z"
   },
   {
    "duration": 2,
    "start_time": "2022-01-09T06:58:35.948Z"
   },
   {
    "duration": 14,
    "start_time": "2022-01-09T06:58:39.068Z"
   },
   {
    "duration": 17,
    "start_time": "2022-01-09T06:58:39.861Z"
   },
   {
    "duration": 15,
    "start_time": "2022-01-09T06:58:41.316Z"
   },
   {
    "duration": 3,
    "start_time": "2022-01-09T07:00:47.666Z"
   },
   {
    "duration": 10,
    "start_time": "2022-01-09T07:00:49.418Z"
   },
   {
    "duration": 3,
    "start_time": "2022-01-09T07:00:49.833Z"
   },
   {
    "duration": 14,
    "start_time": "2022-01-09T07:01:24.009Z"
   },
   {
    "duration": 16,
    "start_time": "2022-01-09T07:01:35.040Z"
   },
   {
    "duration": 16,
    "start_time": "2022-01-09T07:01:41.760Z"
   },
   {
    "duration": 16,
    "start_time": "2022-01-09T07:01:44.096Z"
   },
   {
    "duration": 583,
    "start_time": "2022-01-09T08:23:18.240Z"
   },
   {
    "duration": 12,
    "start_time": "2022-01-09T08:23:21.189Z"
   },
   {
    "duration": 5,
    "start_time": "2022-01-09T08:23:22.148Z"
   },
   {
    "duration": 5,
    "start_time": "2022-01-09T08:23:36.396Z"
   },
   {
    "duration": 27,
    "start_time": "2022-01-09T08:23:42.932Z"
   },
   {
    "duration": 16,
    "start_time": "2022-01-09T08:23:43.884Z"
   },
   {
    "duration": 2,
    "start_time": "2022-01-09T08:23:44.397Z"
   },
   {
    "duration": 2,
    "start_time": "2022-01-09T08:23:44.876Z"
   },
   {
    "duration": 2,
    "start_time": "2022-01-09T08:23:45.509Z"
   },
   {
    "duration": 43,
    "start_time": "2022-01-09T08:23:46.109Z"
   },
   {
    "duration": 11,
    "start_time": "2022-01-09T08:23:46.884Z"
   },
   {
    "duration": 5,
    "start_time": "2022-01-09T08:23:49.619Z"
   },
   {
    "duration": 4048,
    "start_time": "2022-01-09T08:23:50.325Z"
   },
   {
    "duration": 2,
    "start_time": "2022-01-09T08:23:59.613Z"
   },
   {
    "duration": 11,
    "start_time": "2022-01-09T08:24:03.980Z"
   },
   {
    "duration": 4,
    "start_time": "2022-01-09T08:24:05.516Z"
   },
   {
    "duration": 19,
    "start_time": "2022-01-09T08:24:18.476Z"
   },
   {
    "duration": 15,
    "start_time": "2022-01-09T08:24:23.893Z"
   },
   {
    "duration": 15,
    "start_time": "2022-01-09T08:24:26.443Z"
   },
   {
    "duration": 16,
    "start_time": "2022-01-09T08:24:29.467Z"
   },
   {
    "duration": 683,
    "start_time": "2022-01-13T17:47:46.605Z"
   },
   {
    "duration": 12,
    "start_time": "2022-01-13T17:47:49.474Z"
   },
   {
    "duration": 5,
    "start_time": "2022-01-13T17:47:49.718Z"
   },
   {
    "duration": 5,
    "start_time": "2022-01-13T17:47:52.340Z"
   },
   {
    "duration": 14,
    "start_time": "2022-01-13T17:47:53.525Z"
   },
   {
    "duration": 19,
    "start_time": "2022-01-13T17:47:53.750Z"
   },
   {
    "duration": 2,
    "start_time": "2022-01-13T17:47:54.001Z"
   },
   {
    "duration": 2,
    "start_time": "2022-01-13T17:47:54.213Z"
   },
   {
    "duration": 2,
    "start_time": "2022-01-13T17:47:54.438Z"
   },
   {
    "duration": 48,
    "start_time": "2022-01-13T17:47:54.656Z"
   },
   {
    "duration": 10,
    "start_time": "2022-01-13T17:47:54.889Z"
   },
   {
    "duration": 7,
    "start_time": "2022-01-13T17:47:56.341Z"
   },
   {
    "duration": 4656,
    "start_time": "2022-01-13T17:47:56.548Z"
   },
   {
    "duration": 3,
    "start_time": "2022-01-13T17:48:03.933Z"
   },
   {
    "duration": 11,
    "start_time": "2022-01-13T17:48:04.974Z"
   },
   {
    "duration": 2,
    "start_time": "2022-01-13T17:48:05.184Z"
   },
   {
    "duration": 24,
    "start_time": "2022-01-13T17:48:08.877Z"
   },
   {
    "duration": 24,
    "start_time": "2022-01-13T17:48:10.060Z"
   },
   {
    "duration": 16,
    "start_time": "2022-01-13T17:48:12.908Z"
   },
   {
    "duration": 17,
    "start_time": "2022-01-13T17:48:17.317Z"
   },
   {
    "duration": 570,
    "start_time": "2022-01-13T17:48:34.524Z"
   },
   {
    "duration": 679,
    "start_time": "2022-01-13T17:50:29.867Z"
   },
   {
    "duration": 703,
    "start_time": "2022-01-13T17:50:59.061Z"
   },
   {
    "duration": 254,
    "start_time": "2022-01-13T17:51:52.171Z"
   },
   {
    "duration": 167,
    "start_time": "2022-01-13T17:53:57.911Z"
   },
   {
    "duration": 5,
    "start_time": "2022-01-13T17:55:29.494Z"
   },
   {
    "duration": 4,
    "start_time": "2022-01-13T17:55:39.444Z"
   },
   {
    "duration": 3,
    "start_time": "2022-01-13T17:56:01.707Z"
   },
   {
    "duration": 5,
    "start_time": "2022-01-13T17:56:10.061Z"
   },
   {
    "duration": 5,
    "start_time": "2022-01-13T18:00:42.050Z"
   },
   {
    "duration": 23,
    "start_time": "2022-01-13T18:00:52.865Z"
   },
   {
    "duration": 31,
    "start_time": "2022-01-13T18:01:25.402Z"
   },
   {
    "duration": 21,
    "start_time": "2022-01-13T18:01:29.562Z"
   },
   {
    "duration": 7,
    "start_time": "2022-01-13T18:02:01.224Z"
   },
   {
    "duration": 1073,
    "start_time": "2022-01-14T16:33:25.733Z"
   },
   {
    "duration": 24,
    "start_time": "2022-01-14T16:33:28.526Z"
   },
   {
    "duration": 7,
    "start_time": "2022-01-14T16:33:29.125Z"
   },
   {
    "duration": 6,
    "start_time": "2022-01-14T16:33:31.369Z"
   },
   {
    "duration": 23,
    "start_time": "2022-01-14T16:33:32.489Z"
   },
   {
    "duration": 23,
    "start_time": "2022-01-14T16:33:32.720Z"
   },
   {
    "duration": 7,
    "start_time": "2022-01-14T16:33:32.953Z"
   },
   {
    "duration": 4,
    "start_time": "2022-01-14T16:33:33.184Z"
   },
   {
    "duration": 3,
    "start_time": "2022-01-14T16:33:33.413Z"
   },
   {
    "duration": 64,
    "start_time": "2022-01-14T16:33:33.627Z"
   },
   {
    "duration": 16,
    "start_time": "2022-01-14T16:33:33.842Z"
   },
   {
    "duration": 9,
    "start_time": "2022-01-14T16:33:34.921Z"
   },
   {
    "duration": 6434,
    "start_time": "2022-01-14T16:33:35.138Z"
   },
   {
    "duration": 4,
    "start_time": "2022-01-14T16:33:41.576Z"
   },
   {
    "duration": 17,
    "start_time": "2022-01-14T16:33:48.448Z"
   },
   {
    "duration": 3,
    "start_time": "2022-01-14T16:33:48.675Z"
   },
   {
    "duration": 34,
    "start_time": "2022-01-14T16:33:50.920Z"
   },
   {
    "duration": 31,
    "start_time": "2022-01-14T16:33:52.114Z"
   },
   {
    "duration": 24,
    "start_time": "2022-01-14T16:33:55.609Z"
   },
   {
    "duration": 24,
    "start_time": "2022-01-14T16:33:57.532Z"
   },
   {
    "duration": 20,
    "start_time": "2022-01-14T16:36:34.127Z"
   },
   {
    "duration": 19,
    "start_time": "2022-01-14T16:36:52.870Z"
   },
   {
    "duration": 19,
    "start_time": "2022-01-14T16:36:57.596Z"
   },
   {
    "duration": 18,
    "start_time": "2022-01-14T16:37:43.870Z"
   },
   {
    "duration": 527,
    "start_time": "2022-01-14T16:38:33.589Z"
   },
   {
    "duration": 15,
    "start_time": "2022-01-14T16:39:02.813Z"
   },
   {
    "duration": 15,
    "start_time": "2022-01-14T16:39:10.685Z"
   },
   {
    "duration": 17,
    "start_time": "2022-01-14T16:39:19.916Z"
   },
   {
    "duration": 17,
    "start_time": "2022-01-14T16:39:45.972Z"
   },
   {
    "duration": 23,
    "start_time": "2022-01-14T16:40:39.419Z"
   },
   {
    "duration": 16,
    "start_time": "2022-01-14T16:40:48.030Z"
   },
   {
    "duration": 19,
    "start_time": "2022-01-14T16:41:42.860Z"
   },
   {
    "duration": 10,
    "start_time": "2022-01-14T16:46:35.991Z"
   },
   {
    "duration": 25,
    "start_time": "2022-01-14T16:46:49.574Z"
   },
   {
    "duration": 9,
    "start_time": "2022-01-14T16:47:15.622Z"
   },
   {
    "duration": 376,
    "start_time": "2022-01-14T16:47:33.134Z"
   },
   {
    "duration": 372,
    "start_time": "2022-01-14T16:47:41.236Z"
   },
   {
    "duration": 495,
    "start_time": "2022-01-14T16:47:45.429Z"
   },
   {
    "duration": 392,
    "start_time": "2022-01-14T16:48:25.406Z"
   },
   {
    "duration": 409,
    "start_time": "2022-01-14T16:49:39.541Z"
   },
   {
    "duration": 402,
    "start_time": "2022-01-14T16:50:01.932Z"
   },
   {
    "duration": 13,
    "start_time": "2022-01-14T16:50:13.692Z"
   },
   {
    "duration": 8,
    "start_time": "2022-01-14T16:50:27.012Z"
   },
   {
    "duration": 380,
    "start_time": "2022-01-14T16:50:54.100Z"
   },
   {
    "duration": 12,
    "start_time": "2022-01-14T16:51:00.170Z"
   },
   {
    "duration": 10,
    "start_time": "2022-01-14T16:51:00.570Z"
   },
   {
    "duration": 10,
    "start_time": "2022-01-14T16:51:10.050Z"
   },
   {
    "duration": 13,
    "start_time": "2022-01-14T16:51:23.722Z"
   },
   {
    "duration": 11,
    "start_time": "2022-01-14T16:51:28.225Z"
   },
   {
    "duration": 504,
    "start_time": "2022-01-14T16:52:20.625Z"
   },
   {
    "duration": 6158,
    "start_time": "2022-01-14T16:56:45.389Z"
   },
   {
    "duration": 296,
    "start_time": "2022-01-14T16:57:00.662Z"
   },
   {
    "duration": 225,
    "start_time": "2022-01-14T16:57:40.100Z"
   },
   {
    "duration": 445,
    "start_time": "2022-01-14T16:58:22.869Z"
   },
   {
    "duration": 536,
    "start_time": "2022-08-02T16:28:00.468Z"
   },
   {
    "duration": 13,
    "start_time": "2022-08-02T16:28:01.005Z"
   },
   {
    "duration": 6,
    "start_time": "2022-08-02T16:28:01.020Z"
   },
   {
    "duration": 9,
    "start_time": "2022-08-02T16:28:01.028Z"
   },
   {
    "duration": 18,
    "start_time": "2022-08-02T16:28:01.039Z"
   },
   {
    "duration": 14,
    "start_time": "2022-08-02T16:28:01.059Z"
   },
   {
    "duration": 8,
    "start_time": "2022-08-02T16:28:01.074Z"
   },
   {
    "duration": 3,
    "start_time": "2022-08-02T16:28:01.101Z"
   },
   {
    "duration": 6,
    "start_time": "2022-08-02T16:28:01.105Z"
   },
   {
    "duration": 45,
    "start_time": "2022-08-02T16:28:01.115Z"
   },
   {
    "duration": 13,
    "start_time": "2022-08-02T16:28:01.162Z"
   },
   {
    "duration": 25,
    "start_time": "2022-08-02T16:28:01.177Z"
   },
   {
    "duration": 3651,
    "start_time": "2022-08-02T16:28:01.204Z"
   },
   {
    "duration": 3,
    "start_time": "2022-08-02T16:28:04.856Z"
   },
   {
    "duration": 12,
    "start_time": "2022-08-02T16:28:04.861Z"
   },
   {
    "duration": 4,
    "start_time": "2022-08-02T16:28:04.875Z"
   },
   {
    "duration": 31,
    "start_time": "2022-08-02T16:28:04.880Z"
   },
   {
    "duration": 14,
    "start_time": "2022-08-02T16:28:04.912Z"
   },
   {
    "duration": 12,
    "start_time": "2022-08-02T16:28:04.927Z"
   },
   {
    "duration": 14,
    "start_time": "2022-08-02T16:28:04.940Z"
   },
   {
    "duration": 15,
    "start_time": "2022-08-02T16:28:04.956Z"
   },
   {
    "duration": 6,
    "start_time": "2022-08-02T16:28:04.973Z"
   },
   {
    "duration": 6,
    "start_time": "2022-08-02T16:28:05.002Z"
   }
  ],
  "kernelspec": {
   "display_name": "Python 3 (ipykernel)",
   "language": "python",
   "name": "python3"
  },
  "language_info": {
   "codemirror_mode": {
    "name": "ipython",
    "version": 3
   },
   "file_extension": ".py",
   "mimetype": "text/x-python",
   "name": "python",
   "nbconvert_exporter": "python",
   "pygments_lexer": "ipython3",
   "version": "3.9.7"
  },
  "toc": {
   "base_numbering": 1,
   "nav_menu": {},
   "number_sections": true,
   "sideBar": true,
   "skip_h1_title": true,
   "title_cell": "Table of Contents",
   "title_sidebar": "Contents",
   "toc_cell": false,
   "toc_position": {},
   "toc_section_display": true,
   "toc_window_display": true
  }
 },
 "nbformat": 4,
 "nbformat_minor": 2
}
